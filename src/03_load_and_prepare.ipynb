{
 "cells": [
  {
   "cell_type": "code",
   "execution_count": 1,
   "metadata": {},
   "outputs": [],
   "source": [
    "import numpy as np\n",
    "from tqdm import tqdm\n",
    "import random"
   ]
  },
  {
   "cell_type": "code",
   "execution_count": 2,
   "metadata": {},
   "outputs": [
    {
     "name": "stdout",
     "output_type": "stream",
     "text": [
      "(48060, 1024) (48060, 1024, 8) (48060,)\n"
     ]
    }
   ],
   "source": [
    "dataset = np.load(\"../data/formatted/dataset.npy\", allow_pickle=True)\n",
    "midi_dataset = np.load(\"../data/formatted/midi_dataset.npy\", allow_pickle=True)\n",
    "meta_dataset = np.load(\"../data/formatted/meta_augmented.npy\", allow_pickle=True)\n",
    "\n",
    "print(dataset.shape, midi_dataset.shape, meta_dataset.shape)"
   ]
  },
  {
   "cell_type": "code",
   "execution_count": null,
   "metadata": {},
   "outputs": [
    {
     "name": "stdout",
     "output_type": "stream",
     "text": [
      "['<style>' 'Jazz' 'Tonality' ... '<pad>' '<pad>' '<pad>']\n"
     ]
    }
   ],
   "source": [
    "print(dataset[0])"
   ]
  },
  {
   "cell_type": "code",
   "execution_count": 4,
   "metadata": {},
   "outputs": [
    {
     "name": "stdout",
     "output_type": "stream",
     "text": [
      "198\n"
     ]
    }
   ],
   "source": [
    "#Token from dataset\n",
    "tokens = np.unique(np.concatenate(dataset.tolist()))\n",
    "print(len(tokens))\n",
    "\n",
    "np.save(\"../data/formatted/tokens.npy\", list(tokens))"
   ]
  },
  {
   "cell_type": "code",
   "execution_count": null,
   "metadata": {},
   "outputs": [
    {
     "name": "stdout",
     "output_type": "stream",
     "text": [
      "{'.': 0, '/': 1, '0.3997395833333333': 2, '0.4440104166666667': 3, '0.5': 4, '0.5703125': 5, '0.6666666666666666': 6, '0.75': 7, '0.7994791666666666': 8, '0.8880208333333334': 9, '1.0': 10, '1.1419270833333333': 11, '1.3333333333333333': 12, '1.5': 13, '1.5989583333333333': 14, '1.7135416666666667': 15, '128 Feel': 16, '2.0': 17, '2.25': 18, '2.3997395833333335': 19, '2.6666666666666665': 20, '3.0': 21, '4.0': 22, ':|': 23, '<end>': 24, '<pad>': 25, '<start>': 26, '<style>': 27, 'A': 28, 'A major': 29, 'A minor': 30, 'A#': 31, 'A##': 32, 'Ab': 33, 'Ab major': 34, 'Ab minor': 35, 'Abb': 36, 'Afoxé': 37, 'Afro': 38, 'B': 39, 'B major': 40, 'B minor': 41, 'B#': 42, 'B##': 43, 'Baião': 44, 'Ballad': 45, 'Bb': 46, 'Bb major': 47, 'Bb minor': 48, 'Bbb': 49, 'Blues': 50, 'Bolero': 51, 'Bolero-Cha': 52, 'Bossa': 53, 'C': 54, 'C major': 55, 'C minor': 56, 'C#': 57, 'C##': 58, 'Calypso': 59, 'Cb': 60, 'Cbb': 61, 'Cha Cha': 62, 'Chacarera': 63, 'Choro': 64, 'Country Ballad': 65, 'D': 66, 'D major': 67, 'D minor': 68, 'D#': 69, 'D##': 70, 'Db': 71, 'Db major': 72, 'Db minor': 73, 'Dbb': 74, 'Disco': 75, 'Dreamlike': 76, 'E': 77, 'E major': 78, 'E minor': 79, 'E#': 80, 'E##': 81, 'Eb': 82, 'Eb major': 83, 'Eb minor': 84, 'Ebb': 85, 'Even 16ths': 86, 'Even 8ths': 87, 'F': 88, 'F major': 89, 'F minor': 90, 'F#': 91, 'F##': 92, 'Fb': 93, 'Fbb': 94, 'Folk': 95, 'Form_A': 96, 'Form_B': 97, 'Form_C': 98, 'Form_Coda': 99, 'Form_D': 100, 'Form_Segno': 101, 'Form_intro': 102, 'Form_verse': 103, 'Forró': 104, 'Foxtrot': 105, 'Frevo': 106, 'Funk': 107, 'G': 108, 'G major': 109, 'G minor': 110, 'G#': 111, 'G##': 112, 'Gary Aprile': 113, 'Gb': 114, 'Gb major': 115, 'Gb minor': 116, 'Gbb': 117, 'Gospel': 118, 'Gospel Ballad': 119, 'Gypsy Waltz': 120, 'Hymn': 121, 'Jazz': 122, 'Latin': 123, 'Mambo': 124, 'March': 125, 'Marchinha': 126, 'Maxixe': 127, 'Med Up Latin': 128, 'Medium Ballad': 129, 'Medium Country': 130, 'Medium Shuffle': 131, 'Medium Slow': 132, 'Medium Up': 133, 'Medium Waltz': 134, 'Merengue': 135, 'Moderate Latin': 136, 'Montuno': 137, 'Musical': 138, 'N.C.': 139, 'Pop': 140, 'Power Ballad': 141, 'Reggae': 142, 'Repeat_0': 143, 'Repeat_1': 144, 'Repeat_2': 145, 'Repeat_3': 146, 'RnB': 147, 'Rock': 148, 'Salsa': 149, 'Samba': 150, 'Shuffle': 151, 'Slow Ballad': 152, 'Slow Shuffle': 153, 'Slowly': 154, 'Son': 155, 'Soul': 156, 'Tango': 157, 'Tonality': 158, 'Up Tempo': 159, 'Up Waltz (One Feel)': 160, 'Waltz': 161, 'add #11': 162, 'add #5': 163, 'add #7': 164, 'add #9': 165, 'add 11': 166, 'add 13': 167, 'add 2': 168, 'add 7': 169, 'add 9': 170, 'add b13': 171, 'add b6': 172, 'add b9': 173, 'alter #11': 174, 'alter #5': 175, 'alter #9': 176, 'alter b5': 177, 'alter b9': 178, 'aug': 179, 'b||': 180, 'dom7': 181, 'e||': 182, 'm': 183, 'm6': 184, 'm7': 185, 'maj': 186, 'maj6': 187, 'maj7': 188, 'major-13th': 189, 'o': 190, 'o7': 191, 'o_maj7': 192, 'power': 193, 'sus4': 194, 'sus7': 195, '|': 196, '|:': 197}\n"
     ]
    }
   ],
   "source": [
    "stoi = { tk:i for i,tk in enumerate(tokens) }\n",
    "itos = { i:tk for i,tk in enumerate(tokens) }\n",
    "\n",
    "print(stoi)"
   ]
  },
  {
   "cell_type": "code",
   "execution_count": 6,
   "metadata": {},
   "outputs": [],
   "source": [
    "#Get the number of real songs\n",
    "realSongs = len(dataset)/12\n",
    "tenPercent = int(0.1 * realSongs)\n",
    "\n",
    "#random a number without repeating number\n",
    "randomList = random.sample(range(0, int(realSongs)), tenPercent)\n",
    "\n",
    "#if number is bigger than 12 multiply it by 12\n",
    "for i in range(len(randomList)):\n",
    "    randomList[i] = randomList[i] * 12\n",
    "\n",
    "#populate a random list with the 12 subsequent numbers per value\n",
    "final_random_list=[]\n",
    "for number in randomList:\n",
    "    for i in range(12):\n",
    "        final_random_list.append(number+i)\n",
    "\n",
    "#check if a number is duplicated \n",
    "for i in range(len(final_random_list)):\n",
    "    for j in range(i+1, len(final_random_list)):\n",
    "        if final_random_list[i] == final_random_list[j]:\n",
    "            print(\"duplicated number\")"
   ]
  },
  {
   "cell_type": "code",
   "execution_count": 7,
   "metadata": {},
   "outputs": [],
   "source": [
    "#save the random list\n",
    "np.save('../data/formatted/final_random_list.npy', final_random_list)"
   ]
  },
  {
   "cell_type": "code",
   "execution_count": 8,
   "metadata": {},
   "outputs": [],
   "source": [
    "#split dataset and validation using the random list\n",
    "dataset_test = dataset[final_random_list]\n",
    "midi_test = midi_dataset[final_random_list]\n",
    "meta_test = meta_dataset[final_random_list]\n",
    "\n",
    "dataset_train = np.delete(dataset, final_random_list, axis=0)\n",
    "midi_train = np.delete(midi_dataset, final_random_list, axis=0)"
   ]
  },
  {
   "cell_type": "code",
   "execution_count": 9,
   "metadata": {},
   "outputs": [
    {
     "name": "stdout",
     "output_type": "stream",
     "text": [
      "['<style>' 'Samba' 'Tonality' ... '<pad>' '<pad>' '<pad>']\n",
      "song: 114711_7_10_2024_test_4.mid\n",
      "file: 114711_7_10_2024_test_4.txt\n",
      "MIDI file created! \n",
      "---------------------------------\n"
     ]
    },
    {
     "data": {
      "text/plain": [
       "'114711_7_10_2024_test_4.mid'"
      ]
     },
     "execution_count": 9,
     "metadata": {},
     "output_type": "execute_result"
    }
   ],
   "source": [
    "import voicing as vc \n",
    "import importlib\n",
    "importlib.reload(vc)\n",
    "voicing = vc.Voicing()\n",
    "\n",
    "id = 4\n",
    "test_this_song = dataset_test[id]\n",
    "print(test_this_song)\n",
    "\n",
    "midi, _ = voicing.convert_chords_to_voicing(test_this_song)\n",
    "\n",
    "voicing.export_to_midi(midi, \"test_\"+ str(id))"
   ]
  },
  {
   "cell_type": "code",
   "execution_count": 10,
   "metadata": {},
   "outputs": [],
   "source": [
    "#save the train and test dataset\n",
    "#test\n",
    "np.save('../data/formatted/dataset_test.npy', dataset_test)\n",
    "np.save('../data/formatted/midi_test.npy', midi_test)\n",
    "np.save('../data/formatted/meta_test.npy', meta_test)\n",
    "#train\n",
    "np.save('../data/formatted/dataset_train.npy', dataset_train)\n",
    "np.save('../data/formatted/midi_train.npy', midi_train)"
   ]
  },
  {
   "cell_type": "code",
   "execution_count": 11,
   "metadata": {},
   "outputs": [],
   "source": [
    "import random\n",
    "#create a file with shuffled reference index\n",
    "def createWindowedShuffleReference(type, size, window, save = False):\n",
    "    s = np.arange(0, size, 1)\n",
    "    #num = np.arange(0, len(data)/10, 1)\n",
    "    np.random.shuffle(s)\n",
    "\n",
    "    n = int(size/window)\n",
    "    numlist = random.sample(range(n), n)\n",
    "    numlist = np.array(numlist)\n",
    "    numlist = numlist * window\n",
    "\n",
    "    m = np.max(numlist)\n",
    "    l_ref = size-window\n",
    "    print('real:', size, 'max:', m, 'length_ref:',l_ref)\n",
    "\n",
    "    if m != l_ref:\n",
    "        rest = m - l_ref\n",
    "        numlist = numlist - rest\n",
    "\n",
    "    ref = []\n",
    "    for num in numlist:\n",
    "        if num == 0:\n",
    "            print(\"OK\")\n",
    "        for i in range(0,window):\n",
    "            ref.append(num+i)\n",
    "\n",
    "    #return the shuffled list\n",
    "    if save:\n",
    "        np.savetxt(\"../data/shuffle_\" + type + \".txt\", ref, fmt='%i', delimiter=\" \", header='Array shape: ('+str(size)+', 1)')\n",
    "    return ref"
   ]
  },
  {
   "cell_type": "code",
   "execution_count": 12,
   "metadata": {},
   "outputs": [],
   "source": [
    "def getData(folder, name):\n",
    "    data_path = folder + '/' + name\n",
    "    data = np.loadtxt(data_path)\n",
    "    f = open(data_path, \"r\")\n",
    "    format = f.readline().replace('# Array shape: (', '').replace('\\n', '').replace(')', '')\n",
    "    format = np.array(format.split(', ')).astype(int)\n",
    "    f.close()\n",
    "    return data, format"
   ]
  },
  {
   "cell_type": "code",
   "execution_count": 13,
   "metadata": {},
   "outputs": [
    {
     "name": "stdout",
     "output_type": "stream",
     "text": [
      "(43260, 1024) (43260, 1024, 8) (4800, 1024) (4800, 1024, 8)\n",
      "real: 43260 max: 43259 length_ref: 43259\n",
      "OK\n",
      "real: 4800 max: 4799 length_ref: 4799\n",
      "OK\n"
     ]
    }
   ],
   "source": [
    "train_dataset = np.load('../data/formatted/dataset_train.npy', allow_pickle=True)\n",
    "test_dataset = np.load('../data/formatted/dataset_test.npy', allow_pickle=True)\n",
    "\n",
    "train_midi = np.load('../data/formatted/midi_train.npy', allow_pickle=True)\n",
    "test_midi = np.load('../data/formatted/midi_test.npy', allow_pickle=True)\n",
    "\n",
    "print(train_dataset.shape, train_midi.shape, test_dataset.shape, test_midi.shape)\n",
    "\n",
    "BATCH_SHUFFLE_SIZE = 1\n",
    "ref = createWindowedShuffleReference(\"train\", len(train_dataset), BATCH_SHUFFLE_SIZE, True)\n",
    "ref_test = createWindowedShuffleReference(\"test\", len(test_dataset), BATCH_SHUFFLE_SIZE, True)\n",
    "\n",
    "# first shuffle the train dataset\n",
    "shuffle_train, format_train = getData('../data', 'shuffle_train.txt')\n",
    "shuffle_train = shuffle_train.reshape(format_train[0], ).astype(int)\n",
    "shuffle_train = shuffle_train.tolist()\n",
    "dataset = train_dataset[shuffle_train]\n",
    "midiDataset = train_midi[shuffle_train]\n",
    "\n",
    "#second shuffle the test dataset\n",
    "shuffle_test, format_test = getData('../data', 'shuffle_test.txt')\n",
    "shuffle_test = shuffle_test.reshape(format_test[0], ).astype(int)\n",
    "shuffle_test = shuffle_test.tolist()\n",
    "validation = test_dataset[shuffle_test]\n",
    "midi_validation = test_midi[shuffle_test]"
   ]
  },
  {
   "cell_type": "code",
   "execution_count": 19,
   "metadata": {},
   "outputs": [
    {
     "name": "stdout",
     "output_type": "stream",
     "text": [
      "Folder already exists\n"
     ]
    }
   ],
   "source": [
    "#if the folder shuffle does not exist, create it\n",
    "import os\n",
    "\n",
    "# Define the folder path\n",
    "folder_path = '../data/shuffle'\n",
    "\n",
    "# Check if the folder exists, if not, create it\n",
    "if not os.path.exists(folder_path):\n",
    "    os.makedirs(folder_path)\n",
    "else:\n",
    "    print(\"Folder already exists\")"
   ]
  },
  {
   "cell_type": "code",
   "execution_count": 16,
   "metadata": {},
   "outputs": [],
   "source": [
    "np.save('../data/shuffled/dataset_train.npy', dataset)\n",
    "np.save('../data/shuffled/midi_train.npy', midiDataset)\n",
    "np.save('../data/shuffled/dataset_test.npy', validation)\n",
    "np.save('../data/shuffled/midi_test.npy', midi_validation)"
   ]
  }
 ],
 "metadata": {
  "kernelspec": {
   "display_name": "Python 3",
   "language": "python",
   "name": "python3"
  },
  "language_info": {
   "codemirror_mode": {
    "name": "ipython",
    "version": 3
   },
   "file_extension": ".py",
   "mimetype": "text/x-python",
   "name": "python",
   "nbconvert_exporter": "python",
   "pygments_lexer": "ipython3",
   "version": "3.10.12"
  }
 },
 "nbformat": 4,
 "nbformat_minor": 2
}
