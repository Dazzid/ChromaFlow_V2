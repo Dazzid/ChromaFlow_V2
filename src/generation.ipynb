{
 "cells": [
  {
   "cell_type": "code",
   "execution_count": 1,
   "metadata": {},
   "outputs": [
    {
     "name": "stderr",
     "output_type": "stream",
     "text": [
      "/usr/local/lib/python3.10/dist-packages/tqdm/auto.py:21: TqdmWarning: IProgress not found. Please update jupyter and ipywidgets. See https://ipywidgets.readthedocs.io/en/stable/user_install.html\n",
      "  from .autonotebook import tqdm as notebook_tqdm\n"
     ]
    }
   ],
   "source": [
    "from model import GPT, GPTConfig\n",
    "import torch\n",
    "from utils import *\n",
    "import importlib\n",
    "\n",
    "from mingpt_utils import set_seed\n",
    "from mingpt_utils import sample_new, sample\n",
    "\n",
    "import numpy as np\n",
    "torch.cuda.empty_cache()"
   ]
  },
  {
   "cell_type": "code",
   "execution_count": 2,
   "metadata": {},
   "outputs": [
    {
     "name": "stdout",
     "output_type": "stream",
     "text": [
      "(43272, 1024) (43272, 1024, 8)\n"
     ]
    }
   ],
   "source": [
    "tokens = np.load('../data/formatted/tokens.npy', allow_pickle=True)\n",
    "train = np.load('../data/shuffled/dataset_train.npy', allow_pickle=True)\n",
    "midi_train = np.load('../data/shuffled/midi_train.npy', allow_pickle=True)\n",
    "print(train.shape, midi_train.shape)"
   ]
  },
  {
   "cell_type": "code",
   "execution_count": 3,
   "metadata": {},
   "outputs": [
    {
     "name": "stdout",
     "output_type": "stream",
     "text": [
      "data has 43272 pieces, 198 unique tokens.\n"
     ]
    }
   ],
   "source": [
    "block_size = 1024\n",
    "dataset = TokenDatasetMidi(train, midi_train, block_size, tokens)"
   ]
  },
  {
   "cell_type": "code",
   "execution_count": 4,
   "metadata": {},
   "outputs": [
    {
     "name": "stderr",
     "output_type": "stream",
     "text": [
      "05/08/2024 15:49:47 - INFO - model -   number of parameters: 1.283021e+07\n"
     ]
    },
    {
     "name": "stdout",
     "output_type": "stream",
     "text": [
      "Checkpoint loaded ../models/model_epochs->100_heads->4_embd->512_batch->128_new_midi_embeddings\n"
     ]
    }
   ],
   "source": [
    "epochs = 100\n",
    "embedding = 512\n",
    "heads = 4\n",
    "layers = 4\n",
    "batch_size = 128\n",
    "learning_rate = 3e-5\n",
    "num_workers = 4\n",
    "midi_vocab = 128\n",
    "token_size = len(tokens)\n",
    "\n",
    "mconf = GPTConfig(token_size, block_size, midi_vocab, n_layer=layers, n_head=heads, n_embd=embedding)\n",
    "session_model = GPT(mconf)\n",
    "\n",
    "MODEL_NAME = \"../models/model_\"+ \"epochs->\" + str(epochs) + \"_heads->\" + str(heads) + \"_embd->\" + str(embedding) + \"_batch->\" + str(batch_size) + \"_new_midi_embeddings\"\n",
    "\n",
    "session_model = load_model(MODEL_NAME, session_model)"
   ]
  },
  {
   "cell_type": "code",
   "execution_count": 5,
   "metadata": {},
   "outputs": [],
   "source": [
    "import formats as fmt\n",
    "import voicing as vc\n",
    "voicing = vc.Voicing()\n",
    "\n",
    "def generateSample(context, duration, style, tonality, session_model, dataset, split = True, temperature=1.0, sample=True, top_k=None, top_p=0.99):\n",
    "    if split: \n",
    "        data, _ = fmt.getArrayOfElementsInChord(context, duration)\n",
    "        print(data)\n",
    "        data = ['<style>'] + [style] + ['Tonality'] + [tonality] + ['<start>'] + ['|'] + data\n",
    "    else:\n",
    "        data = context\n",
    "    \n",
    "    midi, _ = voicing.get_midi(data)\n",
    "    # for d, m in zip(data, midi):\n",
    "    #     print(d, m)\n",
    "\n",
    "    i = 0\n",
    "    while ( i < 200):    \n",
    "        x = torch.tensor([dataset.stoi[s] for s in data], dtype=torch.long)[None,...].to('cuda')\n",
    "        m = torch.tensor(midi, dtype=torch.long)[None,...].to('cuda')\n",
    "        \n",
    "        #print(x.shape, m.shape)\n",
    "        y = sample_new(session_model, x, m, 1, temperature=temperature, sample=sample, top_k=top_k, top_p=top_p)[0]\n",
    "        \n",
    "        data = [dataset.itos[int(i)] for i in y if dataset.itos[int(i)]]\n",
    "        \n",
    "        if len(data) > 2:\n",
    "            if data[-1] == data[-2]:\n",
    "                print(\"Duplicated element: \", data[-1], data[-2])\n",
    "                data = data[:-1]\n",
    "                \n",
    "        if data[-2] == '.' and data[-1] not in voicing.durations:\n",
    "            print(\"Durations are not correct: \", data[-1], data[-2])\n",
    "            data = data[:-2]\n",
    "            \n",
    "        if data[-2] in voicing.durations and data[-1] not in voicing.all_notes:\n",
    "            print(\"Note is not correct: \", data[-1], data[-2])\n",
    "            data = data[:-2]\n",
    "            \n",
    "        #print(data)\n",
    "        midi, status = voicing.get_midi(data)\n",
    "        if status == False:\n",
    "            #erase the last element\n",
    "            print(\"Error creating the MIDI format\")\n",
    "            break\n",
    "        i+=1 \n",
    "\n",
    "    #myChords = convertChordsFromOutput(data)\n",
    "    print(data)\n",
    "    return data"
   ]
  },
  {
   "cell_type": "code",
   "execution_count": 27,
   "metadata": {},
   "outputs": [
    {
     "name": "stdout",
     "output_type": "stream",
     "text": [
      "['.', '4.0', 'Bb', 'dom7']\n",
      "['<style>', 'Blues', 'Tonality', 'Bb major', '<start>', '|', '.', '4.0', 'Bb', 'dom7', '|', '.', '4.0', 'Eb', 'dom7', '|', '.', '4.0', 'Bb', 'dom7', '|', '.', '4.0', 'Eb', 'dom7', '|', '.', '4.0', 'Ab', 'dom7', '|', '.', '4.0', 'Eb', 'dom7', '|', '.', '4.0', 'Bb', 'dom7', '|', '.', '2.0', 'Bb', 'dom7', '.', '2.0', 'B', 'o', '|', '.', '4.0', 'C', 'dom7', '|', '.', '4.0', 'F', 'dom7', 'add 9', '|', '.', '4.0', 'Bb', 'dom7', '|', '.', '4.0', 'Bb', 'dom7', '|', '.', '4.0', 'A', 'dom7', '|', '.', '4.0', 'D', 'm', '|', '.', '4.0', 'Bb', 'dom7', '|', '.', '4.0', 'Eb', 'dom7', '|', '.', '4.0', 'D', 'm', '|', '.', '4.0', 'Bb', 'dom7', '|', '.', '4.0', 'Eb', 'dom7', '|', '.', '4.0', 'Bb', 'dom7', '|', '.', '2.0', 'Bb', 'dom7', '.', '2.0', 'B', 'o', '|', '.', '4.0', 'C', 'dom7', '|', '.', '4.0', 'F', 'dom7', 'add 9', '|', '.', '4.0', 'Bb', 'dom7', '|', '.', '4.0', 'Bb', 'dom7', '|', '.', '4.0', 'A', 'dom7', '|', '.', '4.0', 'D', 'm', '|', '.', '4.0', 'Bb', 'dom7', '|', '.', '4.0', 'Eb', 'dom7', '|', '.', '4.0', 'D', 'm', '|', '.', '4.0', 'Bb', 'dom7', '|', '.', '4.0', 'Eb', 'dom7', '|', '.', '4.0', 'D', 'm', '|', '.', '4.0', 'Bb', 'dom7', '|', '.', '4.0', 'Eb', 'dom7', '|', '.', '4.0', 'D', 'm', '|', '.', '4.0', 'Bb', 'dom7', '|', '.', '4.0', 'Eb', 'dom7', '|', '.', '4.0', 'F', 'dom7']\n",
      "\n",
      "<style> Blues Tonality Bb major <start> | . 4.0 Bb dom7 | . 4.0 Eb dom7 | . 4.0 Bb dom7 \n",
      "| . 4.0 Eb dom7 | . 4.0 Ab dom7 | . 4.0 Eb dom7 | . 4.0 Bb dom7 \n",
      "| . 2.0 Bb dom7 . 2.0 B o | . 4.0 C dom7 | . 4.0 F dom7 add 9 \n",
      "| . 4.0 Bb dom7 | . 4.0 Bb dom7 | . 4.0 A dom7 | . 4.0 D m \n",
      "| . 4.0 Bb dom7 | . 4.0 Eb dom7 | . 4.0 D m | . 4.0 Bb dom7 \n",
      "| . 4.0 Eb dom7 | . 4.0 Bb dom7 | . 2.0 Bb dom7 . 2.0 B o | \n",
      ". 4.0 C dom7 | . 4.0 F dom7 add 9 | . 4.0 Bb dom7 | . 4.0 Bb dom7 \n",
      "| . 4.0 A dom7 | . 4.0 D m | . 4.0 Bb dom7 | . 4.0 Eb dom7 \n",
      "| . 4.0 D m | . 4.0 Bb dom7 | . 4.0 Eb dom7 | . 4.0 D m \n",
      "| . 4.0 Bb dom7 | . 4.0 Eb dom7 | . 4.0 D m | . 4.0 Bb dom7 \n",
      "| . 4.0 Eb dom7 | . 4.0 F dom7 "
     ]
    }
   ],
   "source": [
    "context = ['Bb dom7']\n",
    "\n",
    "divide = True\n",
    "duration = np.full(len(context), 4.0, dtype=float)\n",
    "myStyle = 'Blues'\n",
    "tonality = 'Bb major'\n",
    "data = generateSample(context, duration, myStyle, tonality, session_model, dataset, divide, temperature=1.1, sample=True, top_k=None, top_p=0.999)\n",
    "\n",
    "c = 0\n",
    "for e in data:\n",
    "    if c % 20 == 0: \n",
    "        print()\n",
    "    print(e, end=' ')\n",
    "    c+=1"
   ]
  },
  {
   "cell_type": "code",
   "execution_count": 28,
   "metadata": {},
   "outputs": [
    {
     "name": "stdout",
     "output_type": "stream",
     "text": [
      "song: 175456_8_5_2024_generated_Blues.mid\n",
      "file: 175456_8_5_2024_generated_Blues.txt\n",
      "MIDI file created! \n",
      "---------------------------------\n"
     ]
    }
   ],
   "source": [
    "importlib.reload(vc)\n",
    "voicing = vc.Voicing()\n",
    "\n",
    "myStyle = data[1]\n",
    "midi, _ = voicing.convert_chords_to_voicing(data)\n",
    "\n",
    "name = voicing.export_to_midi(midi, \"generated_\"+myStyle)"
   ]
  },
  {
   "cell_type": "code",
   "execution_count": 29,
   "metadata": {},
   "outputs": [
    {
     "data": {
      "text/html": [
       "\n",
       "        <div id=\"midiPlayerDiv8444\"></div>\n",
       "        <link rel=\"stylesheet\" href=\"https://cuthbertLab.github.io/music21j/css/m21.css\">\n",
       "        \n",
       "        <script\n",
       "        src=\"https://cdnjs.cloudflare.com/ajax/libs/require.js/2.3.6/require.min.js\"\n",
       "        ></script>\n",
       "    \n",
       "        <script>\n",
       "        function midiPlayerDiv8444_play() {\n",
       "            const rq = require.config({\n",
       "                paths: {\n",
       "                    'music21': 'https://cuthbertLab.github.io/music21j/releases/music21.debug',\n",
       "                }\n",
       "            });\n",
       "            rq(['music21'], function(music21) {\n",
       "                mp = new music21.miditools.MidiPlayer();\n",
       "                mp.addPlayer(\"#midiPlayerDiv8444\");\n",
       "                mp.base64Load(\"data:audio/midi;base64,TVRoZAAAAAYAAQACJ2BNVHJrAAAAFAD/UQMHoSAA/1gEBAIYCM5g/y8ATVRyawAABhAA/wMAAOAAQM5gkC5PAJA4SACQPE0AkD49AJBBOIK7AIAuAACAOAAAgDwAAIA+AACAQQAAkDNFAJA9TwCQQVIAkEM5grsAgDMAAIA9AACAQQAAgEMAAJAuSgCQOEEAkD46AJBBOIK7AIAuAACAOAAAgD4AAIBBAACQM0cAkD1RAJBBPgCQQ0QAkEY5grsAgDMAAIA9AACAQQAAgEMAAIBGAACQLD0AkDZEAJA6UwCQPEKCuwCALAAAgDYAAIA6AACAPAAAkDNUAJA9SwCQQ0QAkEZLgrsAgDMAAIA9AACAQwAAgEYAAJAuSACQOFIAkDw3AJA+OgCQQU+CuwCALgAAgDgAAIA8AACAPgAAgEEAAJAuOwCQOEEAkDxNAJA+QIGdQIAuAACAOAAAgDwAAIA+AACQL0UAkDI/AJA1QwCQO1CBnUCALwAAgDIAAIA1AACAOwAAkDA/AJA6QgCQPlMAkEA5grsAgDAAAIA6AACAPgAAgEAAAJA1VACQPzwAkEU5AJBIPgCQQ02CuwCANQAAgD8AAIBFAACASAAAgEMAAJAuTwCQODoAkD5EAJBBVIK7AIAuAACAOAAAgD4AAIBBAACQLj4AkDg3AJA8OACQPkQAkEFSgrsAgC4AAIA4AACAPAAAgD4AAIBBAACQLUQAkDdEAJA7UgCQPUGCuwCALQAAgDcAAIA7AACAPQAAkDJRAJA5RQCQPkYAkEE3grsAgDIAAIA5AACAPgAAgEEAAJAuPgCQOEgAkDxPAJA+QgCQQTmCuwCALgAAgDgAAIA8AACAPgAAgEEAAJAzQgCQPTgAkEFAAJBDPoK7AIAzAACAPQAAgEEAAIBDAACQMlAAkDlBAJA+OwCQQTmCuwCAMgAAgDkAAIA+AACAQQAAkC5EAJA4UgCQPDkAkD4+AJBBQIK7AIAuAACAOAAAgDwAAIA+AACAQQAAkDNFAJA9PgCQQUQAkENSgrsAgDMAAIA9AACAQQAAgEMAAJAuUACQOFIAkD5IAJBBN4K7AIAuAACAOAAAgD4AAIBBAACQLkkAkDhBAJA8TgCQPkEAkEFLgZ1AgC4AAIA4AACAPAAAgD4AAIBBAACQL0IAkDVPAJA7TgCQPkyBnUCALwAAgDUAAIA7AACAPgAAkDBCAJA6TQCQPlQAkEBMAJBDPIK7AIAwAACAOgAAgD4AAIBAAACAQwAAkDU5AJA/OQCQQ0UAkEVIgrsAgDUAAIA/AACAQwAAgEUAAJAuRgCQODoAkDw7AJA+SYK7AIAuAACAOAAAgDwAAIA+AACQLkUAkDg3AJA+RgCQQU+CuwCALgAAgDgAAIA+AACAQQAAkC1EAJA3OwCQOzwAkD1GAJBARYK7AIAtAACANwAAgDsAAIA9AACAQAAAkDJBAJA5SACQPlIAkEFGAJBFT4K7AIAyAACAOQAAgD4AAIBBAACARQAAkC5OAJA4RwCQPj0AkEFAgrsAgC4AAIA4AACAPgAAgEEAAJAzOwCQPUoAkEFSAJBDTwCQRkOCuwCAMwAAgD0AAIBBAACAQwAAgEYAAJAyQQCQOUIAkD5FAJBBRACQRU2CuwCAMgAAgDkAAIA+AACAQQAAgEUAAJAuVACQOD0AkD5QAJBBQoK7AIAuAACAOAAAgD4AAIBBAACQM1IAkD1GAJBBUACQQ0IAkEY8grsAgDMAAIA9AACAQQAAgEMAAIBGAACQMkYAkDlPAJA+TQCQQUoAkEU8grsAgDIAAIA5AACAPgAAgEEAAIBFAACQLkwAkDg+AJA+NwCQQUCCuwCALgAAgDgAAIA+AACAQQAAkDNTAJA9TgCQQU4AkEM7AJBGQoK7AIAzAACAPQAAgEEAAIBDAACARgAAkDJIAJA5RACQPkMAkEFSAJBFS4K7AIAyAACAOQAAgD4AAIBBAACARQAAkC5RAJA4SACQPjsAkEE9grsAgC4AAIA4AACAPgAAgEEAAJAzOQCQPUQAkEFCAJBDPQCQRj2CuwCAMwAAgD0AAIBBAACAQwAAgEYAAJA1TwCQP1MAkENOAJBFS4K7AIA1AACAPwAAgEMAAIBFAM5g/y8A\");\n",
       "            });\n",
       "        }\n",
       "        if (typeof require === 'undefined') {\n",
       "            setTimeout(midiPlayerDiv8444_play, 2000);\n",
       "        } else {\n",
       "            midiPlayerDiv8444_play();\n",
       "        }\n",
       "        </script>"
      ],
      "text/plain": [
       "<IPython.core.display.HTML object>"
      ]
     },
     "metadata": {},
     "output_type": "display_data"
    }
   ],
   "source": [
    "importlib.reload(vc)\n",
    "voicing = vc.Voicing()\n",
    "\n",
    "path = \"/workspace/data/midi_files/\"+name\n",
    "voicing.play_midi(path)"
   ]
  }
 ],
 "metadata": {
  "kernelspec": {
   "display_name": "Python 3",
   "language": "python",
   "name": "python3"
  },
  "language_info": {
   "codemirror_mode": {
    "name": "ipython",
    "version": 3
   },
   "file_extension": ".py",
   "mimetype": "text/x-python",
   "name": "python",
   "nbconvert_exporter": "python",
   "pygments_lexer": "ipython3",
   "version": "3.10.12"
  }
 },
 "nbformat": 4,
 "nbformat_minor": 2
}
