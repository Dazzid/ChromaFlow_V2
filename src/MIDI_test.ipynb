{
 "cells": [
  {
   "cell_type": "code",
   "execution_count": 4,
   "metadata": {},
   "outputs": [
    {
     "name": "stdout",
     "output_type": "stream",
     "text": [
      "MIDI file generated: detuned_Cmaj7_chord_mpe.mid\n"
     ]
    }
   ],
   "source": [
    "import mido\n",
    "from mido import MidiFile, MidiTrack, Message\n",
    "\n",
    "def create_detuned_cmaj7_mpe(filename):\n",
    "    # Create a new MIDI file and a new track\n",
    "    mid = MidiFile()\n",
    "    track = MidiTrack()\n",
    "    mid.tracks.append(track)\n",
    "\n",
    "    # Constants for note durations and volumes\n",
    "    duration = 480  # duration in ticks (e.g., quarter note in standard MIDI)\n",
    "    volume = 64  # Volume (0-127)\n",
    "\n",
    "    # Define the MIDI note numbers for Cmaj7 chord\n",
    "    C_note = 60  # Middle C\n",
    "    E_note = 64  # E above middle C\n",
    "    G_note = 67  # G above middle C\n",
    "    B_note = 71  # B above middle C\n",
    "\n",
    "    # MIDI channels for MPE (channels 1-15 for notes, channel 0 is reserved for global control)\n",
    "    C_channel = 1\n",
    "    E_channel = 2\n",
    "    G_channel = 3\n",
    "    B_channel = 4\n",
    "\n",
    "    # Function to create pitch bend messages\n",
    "    def create_pitch_bend(value, channel):\n",
    "        # Pitch bend value ranges from -8192 to 8191\n",
    "        pitch = int((value / 100) * 8192)\n",
    "        return Message('pitchwheel', pitch=pitch, channel=channel)\n",
    "\n",
    "    # Function to set pitch bend sensitivity\n",
    "    def set_pitch_bend_sensitivity(sensitivity, channel):\n",
    "        msb = sensitivity\n",
    "        lsb = 0  # No microtonal fractions\n",
    "        return [\n",
    "            Message('control_change', control=101, value=0, channel=channel),  # RPN MSB\n",
    "            Message('control_change', control=100, value=0, channel=channel),  # RPN LSB\n",
    "            Message('control_change', control=6, value=msb, channel=channel),  # Data Entry MSB\n",
    "            Message('control_change', control=38, value=lsb, channel=channel)  # Data Entry LSB\n",
    "        ]\n",
    "\n",
    "    # Set pitch bend sensitivity to ±48 semitones for all channels\n",
    "    for channel in [C_channel, E_channel, G_channel, B_channel]:\n",
    "        track.extend(set_pitch_bend_sensitivity(48, channel))\n",
    "\n",
    "    # Time for the start of the chord\n",
    "    start_time = 0\n",
    "\n",
    "    # Add the C note to the MIDI file (no detuning)\n",
    "    track.append(Message('note_on', note=C_note, velocity=volume, channel=C_channel, time=start_time))\n",
    "\n",
    "    # Add the detuned E note (27 cents down)\n",
    "    track.append(create_pitch_bend(-27, E_channel))  # -27 cents detune\n",
    "    track.append(Message('note_on', note=E_note, velocity=volume, channel=E_channel, time=start_time))\n",
    "\n",
    "    # Add the G note to the MIDI file (no detuning)\n",
    "    track.append(Message('note_on', note=G_note, velocity=volume, channel=G_channel, time=start_time))\n",
    "\n",
    "    # Add the B note to the MIDI file (no detuning)\n",
    "    track.append(Message('note_on', note=B_note, velocity=volume, channel=B_channel, time=start_time))\n",
    "\n",
    "    # Add note off messages for all notes at the same time (duration ticks later)\n",
    "    track.append(Message('note_off', note=C_note, velocity=volume, channel=C_channel, time=duration))\n",
    "    track.append(Message('note_off', note=E_note, velocity=volume, channel=E_channel, time=0))  # time=0 because it’s the same moment\n",
    "    track.append(Message('note_off', note=G_note, velocity=volume, channel=G_channel, time=0))\n",
    "    track.append(Message('note_off', note=B_note, velocity=volume, channel=B_channel, time=0))\n",
    "    #track.append(create_pitch_bend(0, E_channel))  # Reset pitch bend for E\n",
    "\n",
    "    # Save the MIDI file\n",
    "    mid.save(filename)\n",
    "    print(f\"MIDI file generated: {filename}\")\n",
    "\n",
    "# Call the function to create the detuned Cmaj7 chord MIDI file\n",
    "create_detuned_cmaj7_mpe('detuned_Cmaj7_chord_mpe.mid')\n"
   ]
  }
 ],
 "metadata": {
  "kernelspec": {
   "display_name": "Python 3",
   "language": "python",
   "name": "python3"
  },
  "language_info": {
   "codemirror_mode": {
    "name": "ipython",
    "version": 3
   },
   "file_extension": ".py",
   "mimetype": "text/x-python",
   "name": "python",
   "nbconvert_exporter": "python",
   "pygments_lexer": "ipython3",
   "version": "3.10.12"
  }
 },
 "nbformat": 4,
 "nbformat_minor": 2
}
