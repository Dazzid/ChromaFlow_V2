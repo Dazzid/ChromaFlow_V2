{
 "cells": [
  {
   "cell_type": "code",
   "execution_count": 1,
   "metadata": {},
   "outputs": [],
   "source": [
    "%reload_ext autoreload\n",
    "%autoreload 2\n",
    "from trainer import Trainer, TrainerConfig\n",
    "from mingpt_utils import set_seed\n",
    "from model import GPT, GPTConfig\n",
    "import torch\n",
    "from utils import *\n",
    "\n",
    "from torch.utils.tensorboard import SummaryWriter\n",
    "from mingpt_utils import sample\n",
    "torch.cuda.empty_cache()"
   ]
  },
  {
   "cell_type": "code",
   "execution_count": 2,
   "metadata": {},
   "outputs": [
    {
     "name": "stdout",
     "output_type": "stream",
     "text": [
      "Available devices:  2\n",
      "torch version: 2.2.1+cu121\n",
      "cudnn version: 8902\n",
      "cuda version: 12.1\n"
     ]
    }
   ],
   "source": [
    "print(\"Available devices: \", torch.cuda.device_count())\n",
    "print(\"torch version:\", torch.__version__)\n",
    "print(\"cudnn version:\", torch.backends.cudnn.version())\n",
    "print(\"cuda version:\", torch.version.cuda)"
   ]
  },
  {
   "cell_type": "code",
   "execution_count": 3,
   "metadata": {},
   "outputs": [],
   "source": [
    "\n",
    "max_length = 1024\n",
    "id = 0\n",
    "tokens = np.load('../data/formatted/tokens.npy', allow_pickle=True)\n",
    "train = np.load('../data/shuffled/dataset_train.npy', allow_pickle=True)\n",
    "test = np.load('../data/shuffled/dataset_test.npy', allow_pickle=True)\n",
    "midi_train = np.load('../data/shuffled/midi_train.npy', allow_pickle=True)\n",
    "midi_test = np.load('../data/shuffled/midi_test.npy', allow_pickle=True)"
   ]
  },
  {
   "cell_type": "code",
   "execution_count": null,
   "metadata": {},
   "outputs": [],
   "source": [
    "#Convert midi into dtype int\n",
    "midi_train = midi_train.astype(int)\n",
    "midi_test = midi_test.astype(int)"
   ]
  },
  {
   "cell_type": "code",
   "execution_count": null,
   "metadata": {},
   "outputs": [
    {
     "name": "stdout",
     "output_type": "stream",
     "text": [
      "(43272, 2048) (4800, 2048) (43272, 2048, 8) (4800, 2048, 8)\n",
      "data has 43272 pieces, 195 unique tokens.\n",
      "data has 4800 pieces, 195 unique tokens.\n"
     ]
    }
   ],
   "source": [
    "print(train.shape, test.shape, midi_train.shape, midi_test.shape)\n",
    "\n",
    "dataset = TokenDatasetMidi(train, midi_train,  max_length, tokens)\n",
    "validation = TokenDatasetMidi(test, midi_test, max_length, tokens)"
   ]
  },
  {
   "cell_type": "markdown",
   "metadata": {},
   "source": []
  },
  {
   "cell_type": "code",
   "execution_count": null,
   "metadata": {},
   "outputs": [
    {
     "name": "stderr",
     "output_type": "stream",
     "text": [
      "03/14/2024 15:55:20 - ERROR - wandb.jupyter -   Failed to detect the name of this notebook, you can set it manually with the WANDB_NOTEBOOK_NAME environment variable to enable code saving.\n",
      "\u001b[34m\u001b[1mwandb\u001b[0m: Currently logged in as: \u001b[33mdazzid\u001b[0m (\u001b[33mmusic_gpt\u001b[0m). Use \u001b[1m`wandb login --relogin`\u001b[0m to force relogin\n"
     ]
    },
    {
     "data": {
      "text/html": [
       "Tracking run with wandb version 0.16.4"
      ],
      "text/plain": [
       "<IPython.core.display.HTML object>"
      ]
     },
     "metadata": {},
     "output_type": "display_data"
    },
    {
     "data": {
      "text/html": [
       "Run data is saved locally in <code>/workspace/src/wandb/run-20240314_155521-076i6to6</code>"
      ],
      "text/plain": [
       "<IPython.core.display.HTML object>"
      ]
     },
     "metadata": {},
     "output_type": "display_data"
    },
    {
     "data": {
      "text/html": [
       "Syncing run <strong><a href='https://wandb.ai/music_gpt/music_gpt_new_voicing/runs/076i6to6' target=\"_blank\">elderberry-cobbler-15</a></strong> to <a href='https://wandb.ai/music_gpt/music_gpt_new_voicing' target=\"_blank\">Weights & Biases</a> (<a href='https://wandb.me/run' target=\"_blank\">docs</a>)<br/>"
      ],
      "text/plain": [
       "<IPython.core.display.HTML object>"
      ]
     },
     "metadata": {},
     "output_type": "display_data"
    },
    {
     "data": {
      "text/html": [
       " View project at <a href='https://wandb.ai/music_gpt/music_gpt_new_voicing' target=\"_blank\">https://wandb.ai/music_gpt/music_gpt_new_voicing</a>"
      ],
      "text/plain": [
       "<IPython.core.display.HTML object>"
      ]
     },
     "metadata": {},
     "output_type": "display_data"
    },
    {
     "data": {
      "text/html": [
       " View run at <a href='https://wandb.ai/music_gpt/music_gpt_new_voicing/runs/076i6to6' target=\"_blank\">https://wandb.ai/music_gpt/music_gpt_new_voicing/runs/076i6to6</a>"
      ],
      "text/plain": [
       "<IPython.core.display.HTML object>"
      ]
     },
     "metadata": {},
     "output_type": "display_data"
    },
    {
     "data": {
      "text/html": [
       "<button onClick=\"this.nextSibling.style.display='block';this.style.display='none';\">Display W&B run</button><iframe src='https://wandb.ai/music_gpt/music_gpt_new_voicing/runs/076i6to6?jupyter=true' style='border:none;width:100%;height:420px;display:none;'></iframe>"
      ],
      "text/plain": [
       "<wandb.sdk.wandb_run.Run at 0x7f2956af22c0>"
      ]
     },
     "execution_count": 6,
     "metadata": {},
     "output_type": "execute_result"
    }
   ],
   "source": [
    "import wandb\n",
    "#wandb.login()\n",
    "wandb.init(\n",
    "    # set the wandb project where this run will be logged\n",
    "    project=\"music_gpt_new_voicing\",\n",
    "    \n",
    "    # track hyperparameters and run metadata\n",
    "    config={\n",
    "    \"learning_rate\": 3e-5,\n",
    "    \"architecture\": \"Transformer - minGPT\",\n",
    "    \"dataset\": \"chords from iRealPro\",\n",
    "    \"epochs\": 90,\n",
    "    }\n",
    ")"
   ]
  },
  {
   "cell_type": "code",
   "execution_count": null,
   "metadata": {},
   "outputs": [
    {
     "name": "stdout",
     "output_type": "stream",
     "text": [
      "Thu Mar 14 15:55:23 2024       \n",
      "+---------------------------------------------------------------------------------------+\n",
      "| NVIDIA-SMI 530.30.02              Driver Version: 530.30.02    CUDA Version: 12.1     |\n",
      "|-----------------------------------------+----------------------+----------------------+\n",
      "| GPU  Name                  Persistence-M| Bus-Id        Disp.A | Volatile Uncorr. ECC |\n",
      "| Fan  Temp  Perf            Pwr:Usage/Cap|         Memory-Usage | GPU-Util  Compute M. |\n",
      "|                                         |                      |               MIG M. |\n",
      "|=========================================+======================+======================|\n",
      "|   0  NVIDIA GeForce RTX 3090         On | 00000000:1A:00.0 Off |                  N/A |\n",
      "| 30%   26C    P8               22W / 350W|      3MiB / 24576MiB |      0%      Default |\n",
      "|                                         |                      |                  N/A |\n",
      "+-----------------------------------------+----------------------+----------------------+\n",
      "|   1  NVIDIA GeForce RTX 3090         On | 00000000:1B:00.0 Off |                  N/A |\n",
      "| 30%   24C    P8               21W / 350W|      3MiB / 24576MiB |      0%      Default |\n",
      "|                                         |                      |                  N/A |\n",
      "+-----------------------------------------+----------------------+----------------------+\n",
      "                                                                                         \n",
      "+---------------------------------------------------------------------------------------+\n",
      "| Processes:                                                                            |\n",
      "|  GPU   GI   CI        PID   Type   Process name                            GPU Memory |\n",
      "|        ID   ID                                                             Usage      |\n",
      "|=======================================================================================|\n",
      "|  No running processes found                                                           |\n",
      "+---------------------------------------------------------------------------------------+\n",
      "\n"
     ]
    }
   ],
   "source": [
    "# import subprocess\n",
    "\n",
    "# # Example command to list processes using GPU (this won't run here due to sandbox restrictions)\n",
    "# output = subprocess.run(['nvidia-smi'], capture_output=True, text=True)\n",
    "# print(output.stdout)"
   ]
  },
  {
   "cell_type": "code",
   "execution_count": null,
   "metadata": {},
   "outputs": [
    {
     "name": "stderr",
     "output_type": "stream",
     "text": [
      "03/14/2024 15:55:23 - INFO - model -   number of parameters: 3.268096e+06\n",
      "03/14/2024 15:55:23 - INFO - model -   number of parameters: 3.268096e+06\n"
     ]
    },
    {
     "name": "stdout",
     "output_type": "stream",
     "text": [
      "../models/model_epochs->90_heads->4_embd->256_batch->32_new_midi_embeddings\n"
     ]
    },
    {
     "name": "stderr",
     "output_type": "stream",
     "text": [
      "epoch 1 iter 1352: train loss 1.56734. lr 3.000000e-05: 100%|██████████| 1353/1353 [05:36<00:00,  4.02it/s]\n",
      "03/14/2024 16:01:01 - INFO - trainer -   epoch train loss: 2.440773\n"
     ]
    },
    {
     "name": "stdout",
     "output_type": "stream",
     "text": [
      "train loss: 2.4407725049580633\n"
     ]
    },
    {
     "name": "stderr",
     "output_type": "stream",
     "text": [
      "03/14/2024 16:01:15 - INFO - trainer -   test loss: 1.572655\n",
      "epoch 2 iter 1352: train loss 1.42762. lr 3.000000e-05: 100%|██████████| 1353/1353 [05:34<00:00,  4.04it/s]\n",
      "03/14/2024 16:06:51 - INFO - trainer -   epoch train loss: 1.533085\n"
     ]
    },
    {
     "name": "stdout",
     "output_type": "stream",
     "text": [
      "train loss: 1.5330847470917177\n"
     ]
    },
    {
     "name": "stderr",
     "output_type": "stream",
     "text": [
      "03/14/2024 16:07:05 - INFO - trainer -   test loss: 1.494918\n",
      "epoch 3 iter 1352: train loss 1.34056. lr 3.000000e-05: 100%|██████████| 1353/1353 [05:35<00:00,  4.04it/s]\n",
      "03/14/2024 16:12:40 - INFO - trainer -   epoch train loss: 1.408362\n"
     ]
    },
    {
     "name": "stdout",
     "output_type": "stream",
     "text": [
      "train loss: 1.4083624210343568\n"
     ]
    },
    {
     "name": "stderr",
     "output_type": "stream",
     "text": [
      "03/14/2024 16:12:55 - INFO - trainer -   test loss: 1.385593\n",
      "epoch 4 iter 1352: train loss 1.24334. lr 3.000000e-05: 100%|██████████| 1353/1353 [05:34<00:00,  4.04it/s]\n",
      "03/14/2024 16:18:30 - INFO - trainer -   epoch train loss: 1.311808\n"
     ]
    },
    {
     "name": "stdout",
     "output_type": "stream",
     "text": [
      "train loss: 1.3118080143917954\n"
     ]
    },
    {
     "name": "stderr",
     "output_type": "stream",
     "text": [
      "03/14/2024 16:18:44 - INFO - trainer -   test loss: 1.268134\n",
      "epoch 5 iter 1352: train loss 1.15011. lr 3.000000e-05: 100%|██████████| 1353/1353 [05:34<00:00,  4.04it/s]\n",
      "03/14/2024 16:24:19 - INFO - trainer -   epoch train loss: 1.229272\n"
     ]
    },
    {
     "name": "stdout",
     "output_type": "stream",
     "text": [
      "train loss: 1.2292719387779039\n"
     ]
    },
    {
     "name": "stderr",
     "output_type": "stream",
     "text": [
      "03/14/2024 16:24:34 - INFO - trainer -   test loss: 1.189590\n",
      "epoch 6 iter 1352: train loss 1.11391. lr 3.000000e-05: 100%|██████████| 1353/1353 [05:34<00:00,  4.04it/s]\n",
      "03/14/2024 16:30:09 - INFO - trainer -   epoch train loss: 1.173859\n"
     ]
    },
    {
     "name": "stdout",
     "output_type": "stream",
     "text": [
      "train loss: 1.173858600727118\n"
     ]
    },
    {
     "name": "stderr",
     "output_type": "stream",
     "text": [
      "03/14/2024 16:30:24 - INFO - trainer -   test loss: 1.141115\n",
      "epoch 7 iter 1352: train loss 1.08381. lr 3.000000e-05: 100%|██████████| 1353/1353 [05:34<00:00,  4.04it/s]\n",
      "03/14/2024 16:35:59 - INFO - trainer -   epoch train loss: 1.143482\n"
     ]
    },
    {
     "name": "stdout",
     "output_type": "stream",
     "text": [
      "train loss: 1.1434819360882462\n"
     ]
    },
    {
     "name": "stderr",
     "output_type": "stream",
     "text": [
      "03/14/2024 16:36:13 - INFO - trainer -   test loss: 1.113356\n",
      "epoch 8 iter 1352: train loss 1.04986. lr 3.000000e-05: 100%|██████████| 1353/1353 [05:34<00:00,  4.04it/s]\n",
      "03/14/2024 16:41:48 - INFO - trainer -   epoch train loss: 1.113828\n"
     ]
    },
    {
     "name": "stdout",
     "output_type": "stream",
     "text": [
      "train loss: 1.1138278584258254\n"
     ]
    },
    {
     "name": "stderr",
     "output_type": "stream",
     "text": [
      "03/14/2024 16:42:03 - INFO - trainer -   test loss: 1.080510\n",
      "epoch 9 iter 1352: train loss 1.02075. lr 3.000000e-05: 100%|██████████| 1353/1353 [05:34<00:00,  4.04it/s]\n",
      "03/14/2024 16:47:38 - INFO - trainer -   epoch train loss: 1.090848\n"
     ]
    },
    {
     "name": "stdout",
     "output_type": "stream",
     "text": [
      "train loss: 1.090848398887045\n"
     ]
    },
    {
     "name": "stderr",
     "output_type": "stream",
     "text": [
      "03/14/2024 16:47:52 - INFO - trainer -   test loss: 1.062784\n",
      "epoch 10 iter 1352: train loss 1.00494. lr 3.000000e-05: 100%|██████████| 1353/1353 [05:34<00:00,  4.04it/s]\n",
      "03/14/2024 16:53:28 - INFO - trainer -   epoch train loss: 1.072234\n"
     ]
    },
    {
     "name": "stdout",
     "output_type": "stream",
     "text": [
      "train loss: 1.0722336484957693\n"
     ]
    },
    {
     "name": "stderr",
     "output_type": "stream",
     "text": [
      "03/14/2024 16:53:42 - INFO - trainer -   test loss: 1.044273\n",
      "epoch 11 iter 1352: train loss 0.98170. lr 3.000000e-05: 100%|██████████| 1353/1353 [05:34<00:00,  4.04it/s]\n",
      "03/14/2024 16:59:17 - INFO - trainer -   epoch train loss: 1.056008\n"
     ]
    },
    {
     "name": "stdout",
     "output_type": "stream",
     "text": [
      "train loss: 1.0560083008217793\n"
     ]
    },
    {
     "name": "stderr",
     "output_type": "stream",
     "text": [
      "03/14/2024 16:59:32 - INFO - trainer -   test loss: 1.026731\n",
      "epoch 12 iter 1352: train loss 0.96454. lr 3.000000e-05: 100%|██████████| 1353/1353 [05:34<00:00,  4.05it/s]\n",
      "03/14/2024 17:05:06 - INFO - trainer -   epoch train loss: 1.041568\n"
     ]
    },
    {
     "name": "stdout",
     "output_type": "stream",
     "text": [
      "train loss: 1.0415676696513727\n"
     ]
    },
    {
     "name": "stderr",
     "output_type": "stream",
     "text": [
      "03/14/2024 17:05:21 - INFO - trainer -   test loss: 1.014007\n",
      "epoch 13 iter 1352: train loss 0.94819. lr 3.000000e-05: 100%|██████████| 1353/1353 [05:34<00:00,  4.04it/s]\n",
      "03/14/2024 17:10:56 - INFO - trainer -   epoch train loss: 1.029133\n"
     ]
    },
    {
     "name": "stdout",
     "output_type": "stream",
     "text": [
      "train loss: 1.0291328363654706\n"
     ]
    },
    {
     "name": "stderr",
     "output_type": "stream",
     "text": [
      "03/14/2024 17:11:10 - INFO - trainer -   test loss: 1.004763\n",
      "epoch 14 iter 1352: train loss 0.93817. lr 3.000000e-05: 100%|██████████| 1353/1353 [05:34<00:00,  4.04it/s]\n",
      "03/14/2024 17:16:45 - INFO - trainer -   epoch train loss: 1.017950\n"
     ]
    },
    {
     "name": "stdout",
     "output_type": "stream",
     "text": [
      "train loss: 1.0179495041844409\n"
     ]
    },
    {
     "name": "stderr",
     "output_type": "stream",
     "text": [
      "03/14/2024 17:17:00 - INFO - trainer -   test loss: 0.993106\n",
      "epoch 15 iter 1352: train loss 0.92125. lr 3.000000e-05: 100%|██████████| 1353/1353 [05:34<00:00,  4.04it/s]\n",
      "03/14/2024 17:22:35 - INFO - trainer -   epoch train loss: 1.007345\n"
     ]
    },
    {
     "name": "stdout",
     "output_type": "stream",
     "text": [
      "train loss: 1.0073447363603933\n"
     ]
    },
    {
     "name": "stderr",
     "output_type": "stream",
     "text": [
      "03/14/2024 17:22:49 - INFO - trainer -   test loss: 0.982940\n",
      "epoch 16 iter 1352: train loss 0.89722. lr 3.000000e-05: 100%|██████████| 1353/1353 [05:34<00:00,  4.04it/s]\n",
      "03/14/2024 17:28:24 - INFO - trainer -   epoch train loss: 0.996345\n"
     ]
    },
    {
     "name": "stdout",
     "output_type": "stream",
     "text": [
      "train loss: 0.9963449719035\n"
     ]
    },
    {
     "name": "stderr",
     "output_type": "stream",
     "text": [
      "03/14/2024 17:28:39 - INFO - trainer -   test loss: 0.969204\n",
      "epoch 17 iter 1352: train loss 0.88361. lr 3.000000e-05: 100%|██████████| 1353/1353 [05:34<00:00,  4.04it/s]\n",
      "03/14/2024 17:34:14 - INFO - trainer -   epoch train loss: 0.983338\n"
     ]
    },
    {
     "name": "stdout",
     "output_type": "stream",
     "text": [
      "train loss: 0.9833383439033012\n"
     ]
    },
    {
     "name": "stderr",
     "output_type": "stream",
     "text": [
      "03/14/2024 17:34:28 - INFO - trainer -   test loss: 0.953014\n",
      "epoch 18 iter 1352: train loss 0.86072. lr 3.000000e-05: 100%|██████████| 1353/1353 [05:34<00:00,  4.04it/s]\n",
      "03/14/2024 17:40:03 - INFO - trainer -   epoch train loss: 0.966403\n"
     ]
    },
    {
     "name": "stdout",
     "output_type": "stream",
     "text": [
      "train loss: 0.966402640540073\n"
     ]
    },
    {
     "name": "stderr",
     "output_type": "stream",
     "text": [
      "03/14/2024 17:40:18 - INFO - trainer -   test loss: 0.927591\n",
      "epoch 19 iter 1352: train loss 0.83836. lr 3.000000e-05: 100%|██████████| 1353/1353 [05:34<00:00,  4.04it/s]\n",
      "03/14/2024 17:45:53 - INFO - trainer -   epoch train loss: 0.941390\n"
     ]
    },
    {
     "name": "stdout",
     "output_type": "stream",
     "text": [
      "train loss: 0.9413897308788737\n"
     ]
    },
    {
     "name": "stderr",
     "output_type": "stream",
     "text": [
      "03/14/2024 17:46:07 - INFO - trainer -   test loss: 0.887930\n",
      "epoch 20 iter 1352: train loss 0.78836. lr 3.000000e-05: 100%|██████████| 1353/1353 [05:34<00:00,  4.05it/s]\n",
      "03/14/2024 17:51:42 - INFO - trainer -   epoch train loss: 0.906653\n"
     ]
    },
    {
     "name": "stdout",
     "output_type": "stream",
     "text": [
      "train loss: 0.9066530474009377\n"
     ]
    },
    {
     "name": "stderr",
     "output_type": "stream",
     "text": [
      "03/14/2024 17:51:57 - INFO - trainer -   test loss: 0.831552\n",
      "epoch 21 iter 1352: train loss 0.74318. lr 3.000000e-05: 100%|██████████| 1353/1353 [05:34<00:00,  4.04it/s]\n",
      "03/14/2024 17:57:32 - INFO - trainer -   epoch train loss: 0.859005\n"
     ]
    },
    {
     "name": "stdout",
     "output_type": "stream",
     "text": [
      "train loss: 0.8590046408787887\n"
     ]
    },
    {
     "name": "stderr",
     "output_type": "stream",
     "text": [
      "03/14/2024 17:57:46 - INFO - trainer -   test loss: 0.766033\n",
      "epoch 22 iter 1352: train loss 0.68765. lr 3.000000e-05: 100%|██████████| 1353/1353 [05:34<00:00,  4.04it/s]\n",
      "03/14/2024 18:03:21 - INFO - trainer -   epoch train loss: 0.806700\n"
     ]
    },
    {
     "name": "stdout",
     "output_type": "stream",
     "text": [
      "train loss: 0.8066998751006651\n"
     ]
    },
    {
     "name": "stderr",
     "output_type": "stream",
     "text": [
      "03/14/2024 18:03:35 - INFO - trainer -   test loss: 0.700058\n",
      "epoch 23 iter 1352: train loss 0.62495. lr 3.000000e-05: 100%|██████████| 1353/1353 [05:34<00:00,  4.04it/s]\n",
      "03/14/2024 18:09:10 - INFO - trainer -   epoch train loss: 0.753632\n"
     ]
    },
    {
     "name": "stdout",
     "output_type": "stream",
     "text": [
      "train loss: 0.7536322339675379\n"
     ]
    },
    {
     "name": "stderr",
     "output_type": "stream",
     "text": [
      "03/14/2024 18:09:25 - INFO - trainer -   test loss: 0.632176\n",
      "epoch 24 iter 1352: train loss 0.55183. lr 3.000000e-05: 100%|██████████| 1353/1353 [05:34<00:00,  4.04it/s]\n",
      "03/14/2024 18:15:00 - INFO - trainer -   epoch train loss: 0.689558\n"
     ]
    },
    {
     "name": "stdout",
     "output_type": "stream",
     "text": [
      "train loss: 0.6895575397382907\n"
     ]
    },
    {
     "name": "stderr",
     "output_type": "stream",
     "text": [
      "03/14/2024 18:15:14 - INFO - trainer -   test loss: 0.533731\n",
      "epoch 25 iter 1352: train loss 0.48434. lr 3.000000e-05: 100%|██████████| 1353/1353 [05:34<00:00,  4.04it/s]\n",
      "03/14/2024 18:20:50 - INFO - trainer -   epoch train loss: 0.609386\n"
     ]
    },
    {
     "name": "stdout",
     "output_type": "stream",
     "text": [
      "train loss: 0.6093858485299397\n"
     ]
    },
    {
     "name": "stderr",
     "output_type": "stream",
     "text": [
      "03/14/2024 18:21:04 - INFO - trainer -   test loss: 0.445809\n",
      "epoch 26 iter 1352: train loss 0.42924. lr 3.000000e-05: 100%|██████████| 1353/1353 [05:34<00:00,  4.04it/s]\n",
      "03/14/2024 18:26:39 - INFO - trainer -   epoch train loss: 0.534638\n"
     ]
    },
    {
     "name": "stdout",
     "output_type": "stream",
     "text": [
      "train loss: 0.534638305615251\n"
     ]
    },
    {
     "name": "stderr",
     "output_type": "stream",
     "text": [
      "03/14/2024 18:26:53 - INFO - trainer -   test loss: 0.382552\n",
      "epoch 27 iter 1352: train loss 0.37576. lr 3.000000e-05: 100%|██████████| 1353/1353 [05:34<00:00,  4.04it/s]\n",
      "03/14/2024 18:32:29 - INFO - trainer -   epoch train loss: 0.472349\n"
     ]
    },
    {
     "name": "stdout",
     "output_type": "stream",
     "text": [
      "train loss: 0.4723487001873349\n"
     ]
    },
    {
     "name": "stderr",
     "output_type": "stream",
     "text": [
      "03/14/2024 18:32:43 - INFO - trainer -   test loss: 0.334219\n",
      "epoch 28 iter 1352: train loss 0.34193. lr 3.000000e-05: 100%|██████████| 1353/1353 [05:34<00:00,  4.04it/s]\n",
      "03/14/2024 18:38:18 - INFO - trainer -   epoch train loss: 0.424809\n"
     ]
    },
    {
     "name": "stdout",
     "output_type": "stream",
     "text": [
      "train loss: 0.4248088676666914\n"
     ]
    },
    {
     "name": "stderr",
     "output_type": "stream",
     "text": [
      "03/14/2024 18:38:33 - INFO - trainer -   test loss: 0.307778\n",
      "epoch 29 iter 1352: train loss 0.33104. lr 3.000000e-05: 100%|██████████| 1353/1353 [05:34<00:00,  4.04it/s]\n",
      "03/14/2024 18:44:08 - INFO - trainer -   epoch train loss: 0.390867\n"
     ]
    },
    {
     "name": "stdout",
     "output_type": "stream",
     "text": [
      "train loss: 0.39086690271949204\n"
     ]
    },
    {
     "name": "stderr",
     "output_type": "stream",
     "text": [
      "03/14/2024 18:44:22 - INFO - trainer -   test loss: 0.286556\n",
      "epoch 30 iter 1352: train loss 0.31363. lr 3.000000e-05: 100%|██████████| 1353/1353 [05:34<00:00,  4.04it/s]\n",
      "03/14/2024 18:49:58 - INFO - trainer -   epoch train loss: 0.364787\n"
     ]
    },
    {
     "name": "stdout",
     "output_type": "stream",
     "text": [
      "train loss: 0.3647873871915004\n"
     ]
    },
    {
     "name": "stderr",
     "output_type": "stream",
     "text": [
      "03/14/2024 18:50:12 - INFO - trainer -   test loss: 0.268724\n",
      "epoch 31 iter 1352: train loss 0.28131. lr 3.000000e-05: 100%|██████████| 1353/1353 [05:34<00:00,  4.04it/s]\n",
      "03/14/2024 18:55:47 - INFO - trainer -   epoch train loss: 0.343646\n"
     ]
    },
    {
     "name": "stdout",
     "output_type": "stream",
     "text": [
      "train loss: 0.34364634128913824\n"
     ]
    },
    {
     "name": "stderr",
     "output_type": "stream",
     "text": [
      "03/14/2024 18:56:02 - INFO - trainer -   test loss: 0.253986\n",
      "epoch 32 iter 1352: train loss 0.26963. lr 3.000000e-05: 100%|██████████| 1353/1353 [05:34<00:00,  4.04it/s]\n",
      "03/14/2024 19:01:37 - INFO - trainer -   epoch train loss: 0.324554\n"
     ]
    },
    {
     "name": "stdout",
     "output_type": "stream",
     "text": [
      "train loss: 0.32455448796373776\n"
     ]
    },
    {
     "name": "stderr",
     "output_type": "stream",
     "text": [
      "03/14/2024 19:01:51 - INFO - trainer -   test loss: 0.240656\n",
      "epoch 33 iter 1352: train loss 0.25987. lr 3.000000e-05: 100%|██████████| 1353/1353 [05:34<00:00,  4.04it/s]\n",
      "03/14/2024 19:07:26 - INFO - trainer -   epoch train loss: 0.306855\n"
     ]
    },
    {
     "name": "stdout",
     "output_type": "stream",
     "text": [
      "train loss: 0.30685494103347116\n"
     ]
    },
    {
     "name": "stderr",
     "output_type": "stream",
     "text": [
      "03/14/2024 19:07:41 - INFO - trainer -   test loss: 0.230758\n",
      "epoch 34 iter 1352: train loss 0.23985. lr 3.000000e-05: 100%|██████████| 1353/1353 [05:34<00:00,  4.04it/s]\n",
      "03/14/2024 19:13:16 - INFO - trainer -   epoch train loss: 0.291945\n"
     ]
    },
    {
     "name": "stdout",
     "output_type": "stream",
     "text": [
      "train loss: 0.2919447127859062\n"
     ]
    },
    {
     "name": "stderr",
     "output_type": "stream",
     "text": [
      "03/14/2024 19:13:30 - INFO - trainer -   test loss: 0.224085\n",
      "epoch 35 iter 1352: train loss 0.23563. lr 3.000000e-05: 100%|██████████| 1353/1353 [05:34<00:00,  4.04it/s]\n",
      "03/14/2024 19:19:05 - INFO - trainer -   epoch train loss: 0.280606\n"
     ]
    },
    {
     "name": "stdout",
     "output_type": "stream",
     "text": [
      "train loss: 0.2806060525856455\n"
     ]
    },
    {
     "name": "stderr",
     "output_type": "stream",
     "text": [
      "03/14/2024 19:19:20 - INFO - trainer -   test loss: 0.220171\n",
      "epoch 36 iter 1352: train loss 0.23057. lr 3.000000e-05: 100%|██████████| 1353/1353 [05:34<00:00,  4.04it/s]\n",
      "03/14/2024 19:24:55 - INFO - trainer -   epoch train loss: 0.271681\n"
     ]
    },
    {
     "name": "stdout",
     "output_type": "stream",
     "text": [
      "train loss: 0.2716807434603803\n"
     ]
    },
    {
     "name": "stderr",
     "output_type": "stream",
     "text": [
      "03/14/2024 19:25:09 - INFO - trainer -   test loss: 0.214673\n",
      "epoch 37 iter 1352: train loss 0.22743. lr 3.000000e-05: 100%|██████████| 1353/1353 [05:34<00:00,  4.04it/s]\n",
      "03/14/2024 19:30:44 - INFO - trainer -   epoch train loss: 0.264046\n"
     ]
    },
    {
     "name": "stdout",
     "output_type": "stream",
     "text": [
      "train loss: 0.26404644049984916\n"
     ]
    },
    {
     "name": "stderr",
     "output_type": "stream",
     "text": [
      "03/14/2024 19:30:59 - INFO - trainer -   test loss: 0.210614\n",
      "epoch 38 iter 1352: train loss 0.21345. lr 3.000000e-05: 100%|██████████| 1353/1353 [05:34<00:00,  4.04it/s]\n",
      "03/14/2024 19:36:34 - INFO - trainer -   epoch train loss: 0.257541\n"
     ]
    },
    {
     "name": "stdout",
     "output_type": "stream",
     "text": [
      "train loss: 0.2575411815402777\n"
     ]
    },
    {
     "name": "stderr",
     "output_type": "stream",
     "text": [
      "03/14/2024 19:36:48 - INFO - trainer -   test loss: 0.207941\n",
      "epoch 39 iter 1352: train loss 0.20838. lr 3.000000e-05: 100%|██████████| 1353/1353 [05:34<00:00,  4.04it/s]\n",
      "03/14/2024 19:42:23 - INFO - trainer -   epoch train loss: 0.251690\n"
     ]
    },
    {
     "name": "stdout",
     "output_type": "stream",
     "text": [
      "train loss: 0.25168967184232766\n"
     ]
    },
    {
     "name": "stderr",
     "output_type": "stream",
     "text": [
      "03/14/2024 19:42:38 - INFO - trainer -   test loss: 0.205680\n",
      "epoch 40 iter 1352: train loss 0.21252. lr 3.000000e-05: 100%|██████████| 1353/1353 [05:34<00:00,  4.04it/s]\n",
      "03/14/2024 19:48:13 - INFO - trainer -   epoch train loss: 0.246394\n"
     ]
    },
    {
     "name": "stdout",
     "output_type": "stream",
     "text": [
      "train loss: 0.24639355902837456\n"
     ]
    },
    {
     "name": "stderr",
     "output_type": "stream",
     "text": [
      "03/14/2024 19:48:27 - INFO - trainer -   test loss: 0.203344\n",
      "epoch 41 iter 1352: train loss 0.20341. lr 3.000000e-05: 100%|██████████| 1353/1353 [05:34<00:00,  4.05it/s]\n",
      "03/14/2024 19:54:01 - INFO - trainer -   epoch train loss: 0.241536\n"
     ]
    },
    {
     "name": "stdout",
     "output_type": "stream",
     "text": [
      "train loss: 0.2415360696476121\n"
     ]
    },
    {
     "name": "stderr",
     "output_type": "stream",
     "text": [
      "03/14/2024 19:54:16 - INFO - trainer -   test loss: 0.200468\n",
      "epoch 42 iter 1352: train loss 0.19983. lr 3.000000e-05: 100%|██████████| 1353/1353 [05:34<00:00,  4.05it/s]\n",
      "03/14/2024 19:59:51 - INFO - trainer -   epoch train loss: 0.236875\n"
     ]
    },
    {
     "name": "stdout",
     "output_type": "stream",
     "text": [
      "train loss: 0.23687537738066292\n"
     ]
    },
    {
     "name": "stderr",
     "output_type": "stream",
     "text": [
      "03/14/2024 20:00:05 - INFO - trainer -   test loss: 0.198706\n",
      "epoch 43 iter 1352: train loss 0.18660. lr 3.000000e-05: 100%|██████████| 1353/1353 [05:34<00:00,  4.05it/s]\n",
      "03/14/2024 20:05:40 - INFO - trainer -   epoch train loss: 0.232657\n"
     ]
    },
    {
     "name": "stdout",
     "output_type": "stream",
     "text": [
      "train loss: 0.2326568176106709\n"
     ]
    },
    {
     "name": "stderr",
     "output_type": "stream",
     "text": [
      "03/14/2024 20:05:55 - INFO - trainer -   test loss: 0.196832\n",
      "epoch 44 iter 1352: train loss 0.19819. lr 3.000000e-05: 100%|██████████| 1353/1353 [05:34<00:00,  4.04it/s]\n",
      "03/14/2024 20:11:30 - INFO - trainer -   epoch train loss: 0.228693\n"
     ]
    },
    {
     "name": "stdout",
     "output_type": "stream",
     "text": [
      "train loss: 0.22869314525361775\n"
     ]
    },
    {
     "name": "stderr",
     "output_type": "stream",
     "text": [
      "03/14/2024 20:11:44 - INFO - trainer -   test loss: 0.195447\n",
      "epoch 45 iter 1352: train loss 0.18281. lr 3.000000e-05: 100%|██████████| 1353/1353 [05:34<00:00,  4.04it/s]\n",
      "03/14/2024 20:17:19 - INFO - trainer -   epoch train loss: 0.225066\n"
     ]
    },
    {
     "name": "stdout",
     "output_type": "stream",
     "text": [
      "train loss: 0.22506596483923466\n"
     ]
    },
    {
     "name": "stderr",
     "output_type": "stream",
     "text": [
      "03/14/2024 20:17:34 - INFO - trainer -   test loss: 0.193544\n",
      "epoch 46 iter 1352: train loss 0.18485. lr 3.000000e-05: 100%|██████████| 1353/1353 [05:34<00:00,  4.04it/s]\n",
      "03/14/2024 20:23:09 - INFO - trainer -   epoch train loss: 0.221616\n"
     ]
    },
    {
     "name": "stdout",
     "output_type": "stream",
     "text": [
      "train loss: 0.22161594165402346\n"
     ]
    },
    {
     "name": "stderr",
     "output_type": "stream",
     "text": [
      "03/14/2024 20:23:23 - INFO - trainer -   test loss: 0.192102\n",
      "epoch 47 iter 1352: train loss 0.18604. lr 3.000000e-05: 100%|██████████| 1353/1353 [05:34<00:00,  4.04it/s]\n",
      "03/14/2024 20:28:58 - INFO - trainer -   epoch train loss: 0.218596\n"
     ]
    },
    {
     "name": "stdout",
     "output_type": "stream",
     "text": [
      "train loss: 0.21859551143487646\n"
     ]
    },
    {
     "name": "stderr",
     "output_type": "stream",
     "text": [
      "03/14/2024 20:29:12 - INFO - trainer -   test loss: 0.189276\n",
      "epoch 48 iter 1352: train loss 0.18202. lr 3.000000e-05: 100%|██████████| 1353/1353 [05:34<00:00,  4.04it/s]\n",
      "03/14/2024 20:34:47 - INFO - trainer -   epoch train loss: 0.215651\n"
     ]
    },
    {
     "name": "stdout",
     "output_type": "stream",
     "text": [
      "train loss: 0.2156510101762068\n"
     ]
    },
    {
     "name": "stderr",
     "output_type": "stream",
     "text": [
      "03/14/2024 20:35:02 - INFO - trainer -   test loss: 0.188909\n",
      "epoch 49 iter 1352: train loss 0.17669. lr 3.000000e-05: 100%|██████████| 1353/1353 [05:34<00:00,  4.04it/s]\n",
      "03/14/2024 20:40:37 - INFO - trainer -   epoch train loss: 0.212949\n"
     ]
    },
    {
     "name": "stdout",
     "output_type": "stream",
     "text": [
      "train loss: 0.21294901001832262\n"
     ]
    },
    {
     "name": "stderr",
     "output_type": "stream",
     "text": [
      "03/14/2024 20:40:51 - INFO - trainer -   test loss: 0.186756\n",
      "epoch 50 iter 1352: train loss 0.17628. lr 3.000000e-05: 100%|██████████| 1353/1353 [05:34<00:00,  4.04it/s]\n",
      "03/14/2024 20:46:26 - INFO - trainer -   epoch train loss: 0.210327\n"
     ]
    },
    {
     "name": "stdout",
     "output_type": "stream",
     "text": [
      "train loss: 0.2103270346358011\n"
     ]
    },
    {
     "name": "stderr",
     "output_type": "stream",
     "text": [
      "03/14/2024 20:46:41 - INFO - trainer -   test loss: 0.185909\n",
      "epoch 51 iter 1352: train loss 0.17406. lr 3.000000e-05: 100%|██████████| 1353/1353 [05:34<00:00,  4.04it/s]\n",
      "03/14/2024 20:52:16 - INFO - trainer -   epoch train loss: 0.207893\n"
     ]
    },
    {
     "name": "stdout",
     "output_type": "stream",
     "text": [
      "train loss: 0.20789263040069642\n"
     ]
    },
    {
     "name": "stderr",
     "output_type": "stream",
     "text": [
      "03/14/2024 20:52:30 - INFO - trainer -   test loss: 0.184131\n",
      "epoch 52 iter 1352: train loss 0.17052. lr 3.000000e-05: 100%|██████████| 1353/1353 [05:34<00:00,  4.04it/s]\n",
      "03/14/2024 20:58:05 - INFO - trainer -   epoch train loss: 0.205638\n"
     ]
    },
    {
     "name": "stdout",
     "output_type": "stream",
     "text": [
      "train loss: 0.20563848142657382\n"
     ]
    },
    {
     "name": "stderr",
     "output_type": "stream",
     "text": [
      "03/14/2024 20:58:19 - INFO - trainer -   test loss: 0.182844\n",
      "epoch 53 iter 1352: train loss 0.16215. lr 3.000000e-05: 100%|██████████| 1353/1353 [05:34<00:00,  4.04it/s]\n",
      "03/14/2024 21:03:55 - INFO - trainer -   epoch train loss: 0.203466\n"
     ]
    },
    {
     "name": "stdout",
     "output_type": "stream",
     "text": [
      "train loss: 0.20346600538655202\n"
     ]
    },
    {
     "name": "stderr",
     "output_type": "stream",
     "text": [
      "03/14/2024 21:04:09 - INFO - trainer -   test loss: 0.181827\n",
      "epoch 54 iter 1352: train loss 0.16449. lr 3.000000e-05: 100%|██████████| 1353/1353 [05:34<00:00,  4.04it/s]\n",
      "03/14/2024 21:09:44 - INFO - trainer -   epoch train loss: 0.201316\n"
     ]
    },
    {
     "name": "stdout",
     "output_type": "stream",
     "text": [
      "train loss: 0.20131640554751984\n"
     ]
    },
    {
     "name": "stderr",
     "output_type": "stream",
     "text": [
      "03/14/2024 21:09:59 - INFO - trainer -   test loss: 0.180372\n",
      "epoch 55 iter 1352: train loss 0.16899. lr 3.000000e-05: 100%|██████████| 1353/1353 [05:34<00:00,  4.05it/s]\n",
      "03/14/2024 21:15:33 - INFO - trainer -   epoch train loss: 0.199358\n"
     ]
    },
    {
     "name": "stdout",
     "output_type": "stream",
     "text": [
      "train loss: 0.1993579448635104\n"
     ]
    },
    {
     "name": "stderr",
     "output_type": "stream",
     "text": [
      "03/14/2024 21:15:48 - INFO - trainer -   test loss: 0.179482\n",
      "epoch 56 iter 1352: train loss 0.16493. lr 3.000000e-05: 100%|██████████| 1353/1353 [05:34<00:00,  4.04it/s]\n",
      "03/14/2024 21:21:23 - INFO - trainer -   epoch train loss: 0.197466\n"
     ]
    },
    {
     "name": "stdout",
     "output_type": "stream",
     "text": [
      "train loss: 0.19746570286932294\n"
     ]
    },
    {
     "name": "stderr",
     "output_type": "stream",
     "text": [
      "03/14/2024 21:21:37 - INFO - trainer -   test loss: 0.178957\n",
      "epoch 57 iter 1352: train loss 0.15850. lr 3.000000e-05: 100%|██████████| 1353/1353 [05:34<00:00,  4.04it/s]\n",
      "03/14/2024 21:27:12 - INFO - trainer -   epoch train loss: 0.195621\n"
     ]
    },
    {
     "name": "stdout",
     "output_type": "stream",
     "text": [
      "train loss: 0.19562097162514902\n"
     ]
    },
    {
     "name": "stderr",
     "output_type": "stream",
     "text": [
      "03/14/2024 21:27:27 - INFO - trainer -   test loss: 0.177795\n",
      "epoch 58 iter 1352: train loss 0.15670. lr 3.000000e-05: 100%|██████████| 1353/1353 [05:34<00:00,  4.04it/s]\n",
      "03/14/2024 21:33:02 - INFO - trainer -   epoch train loss: 0.193884\n"
     ]
    },
    {
     "name": "stdout",
     "output_type": "stream",
     "text": [
      "train loss: 0.19388369602445135\n"
     ]
    },
    {
     "name": "stderr",
     "output_type": "stream",
     "text": [
      "03/14/2024 21:33:16 - INFO - trainer -   test loss: 0.177225\n",
      "epoch 59 iter 1352: train loss 0.16111. lr 3.000000e-05: 100%|██████████| 1353/1353 [05:34<00:00,  4.04it/s]\n",
      "03/14/2024 21:38:51 - INFO - trainer -   epoch train loss: 0.192247\n"
     ]
    },
    {
     "name": "stdout",
     "output_type": "stream",
     "text": [
      "train loss: 0.19224698921969796\n"
     ]
    },
    {
     "name": "stderr",
     "output_type": "stream",
     "text": [
      "03/14/2024 21:39:06 - INFO - trainer -   test loss: 0.175845\n",
      "epoch 60 iter 1352: train loss 0.15528. lr 3.000000e-05: 100%|██████████| 1353/1353 [05:34<00:00,  4.04it/s]\n",
      "03/14/2024 21:44:41 - INFO - trainer -   epoch train loss: 0.190493\n"
     ]
    },
    {
     "name": "stdout",
     "output_type": "stream",
     "text": [
      "train loss: 0.19049264214167486\n"
     ]
    },
    {
     "name": "stderr",
     "output_type": "stream",
     "text": [
      "03/14/2024 21:44:55 - INFO - trainer -   test loss: 0.175526\n",
      "epoch 61 iter 1352: train loss 0.14828. lr 3.000000e-05: 100%|██████████| 1353/1353 [05:34<00:00,  4.04it/s]\n",
      "03/14/2024 21:50:30 - INFO - trainer -   epoch train loss: 0.189065\n"
     ]
    },
    {
     "name": "stdout",
     "output_type": "stream",
     "text": [
      "train loss: 0.1890654172817161\n"
     ]
    },
    {
     "name": "stderr",
     "output_type": "stream",
     "text": [
      "03/14/2024 21:50:45 - INFO - trainer -   test loss: 0.174974\n",
      "epoch 62 iter 1352: train loss 0.14965. lr 3.000000e-05: 100%|██████████| 1353/1353 [05:34<00:00,  4.05it/s]\n",
      "03/14/2024 21:56:20 - INFO - trainer -   epoch train loss: 0.187407\n"
     ]
    },
    {
     "name": "stdout",
     "output_type": "stream",
     "text": [
      "train loss: 0.18740728533849482\n"
     ]
    },
    {
     "name": "stderr",
     "output_type": "stream",
     "text": [
      "03/14/2024 21:56:34 - INFO - trainer -   test loss: 0.173841\n",
      "epoch 63 iter 1352: train loss 0.15422. lr 3.000000e-05: 100%|██████████| 1353/1353 [05:34<00:00,  4.05it/s]\n",
      "03/14/2024 22:02:09 - INFO - trainer -   epoch train loss: 0.185954\n"
     ]
    },
    {
     "name": "stdout",
     "output_type": "stream",
     "text": [
      "train loss: 0.1859537528253712\n"
     ]
    },
    {
     "name": "stderr",
     "output_type": "stream",
     "text": [
      "03/14/2024 22:02:24 - INFO - trainer -   test loss: 0.173529\n",
      "epoch 64 iter 1352: train loss 0.14801. lr 3.000000e-05: 100%|██████████| 1353/1353 [05:34<00:00,  4.05it/s]\n",
      "03/14/2024 22:07:59 - INFO - trainer -   epoch train loss: 0.184355\n"
     ]
    },
    {
     "name": "stdout",
     "output_type": "stream",
     "text": [
      "train loss: 0.18435494564280894\n"
     ]
    },
    {
     "name": "stderr",
     "output_type": "stream",
     "text": [
      "03/14/2024 22:08:13 - INFO - trainer -   test loss: 0.172635\n",
      "epoch 65 iter 1352: train loss 0.15045. lr 3.000000e-05: 100%|██████████| 1353/1353 [05:34<00:00,  4.05it/s]\n",
      "03/14/2024 22:13:48 - INFO - trainer -   epoch train loss: 0.182950\n"
     ]
    },
    {
     "name": "stdout",
     "output_type": "stream",
     "text": [
      "train loss: 0.18295037233203937\n"
     ]
    },
    {
     "name": "stderr",
     "output_type": "stream",
     "text": [
      "03/14/2024 22:14:02 - INFO - trainer -   test loss: 0.171909\n",
      "epoch 66 iter 1352: train loss 0.14787. lr 3.000000e-05: 100%|██████████| 1353/1353 [05:34<00:00,  4.04it/s]\n",
      "03/14/2024 22:19:38 - INFO - trainer -   epoch train loss: 0.181546\n"
     ]
    },
    {
     "name": "stdout",
     "output_type": "stream",
     "text": [
      "train loss: 0.18154623246554172\n"
     ]
    },
    {
     "name": "stderr",
     "output_type": "stream",
     "text": [
      "03/14/2024 22:19:52 - INFO - trainer -   test loss: 0.171511\n",
      "epoch 67 iter 1352: train loss 0.14504. lr 3.000000e-05: 100%|██████████| 1353/1353 [05:34<00:00,  4.04it/s]\n",
      "03/14/2024 22:25:27 - INFO - trainer -   epoch train loss: 0.180075\n"
     ]
    },
    {
     "name": "stdout",
     "output_type": "stream",
     "text": [
      "train loss: 0.18007492080760373\n"
     ]
    },
    {
     "name": "stderr",
     "output_type": "stream",
     "text": [
      "03/14/2024 22:25:42 - INFO - trainer -   test loss: 0.170903\n",
      "epoch 68 iter 1352: train loss 0.14930. lr 3.000000e-05: 100%|██████████| 1353/1353 [05:34<00:00,  4.04it/s]\n",
      "03/14/2024 22:31:17 - INFO - trainer -   epoch train loss: 0.178673\n"
     ]
    },
    {
     "name": "stdout",
     "output_type": "stream",
     "text": [
      "train loss: 0.17867348358002047\n"
     ]
    },
    {
     "name": "stderr",
     "output_type": "stream",
     "text": [
      "03/14/2024 22:31:31 - INFO - trainer -   test loss: 0.170506\n",
      "epoch 69 iter 1352: train loss 0.14577. lr 3.000000e-05: 100%|██████████| 1353/1353 [05:34<00:00,  4.04it/s]\n",
      "03/14/2024 22:37:06 - INFO - trainer -   epoch train loss: 0.177372\n"
     ]
    },
    {
     "name": "stdout",
     "output_type": "stream",
     "text": [
      "train loss: 0.17737176125567664\n"
     ]
    },
    {
     "name": "stderr",
     "output_type": "stream",
     "text": [
      "03/14/2024 22:37:21 - INFO - trainer -   test loss: 0.169650\n",
      "epoch 70 iter 1352: train loss 0.14540. lr 3.000000e-05: 100%|██████████| 1353/1353 [05:34<00:00,  4.04it/s]\n",
      "03/14/2024 22:42:56 - INFO - trainer -   epoch train loss: 0.176060\n"
     ]
    },
    {
     "name": "stdout",
     "output_type": "stream",
     "text": [
      "train loss: 0.17605976157953188\n"
     ]
    },
    {
     "name": "stderr",
     "output_type": "stream",
     "text": [
      "03/14/2024 22:43:10 - INFO - trainer -   test loss: 0.168799\n",
      "epoch 71 iter 1352: train loss 0.13889. lr 3.000000e-05: 100%|██████████| 1353/1353 [05:34<00:00,  4.04it/s]\n",
      "03/14/2024 22:48:45 - INFO - trainer -   epoch train loss: 0.174646\n"
     ]
    },
    {
     "name": "stdout",
     "output_type": "stream",
     "text": [
      "train loss: 0.1746459885803929\n"
     ]
    },
    {
     "name": "stderr",
     "output_type": "stream",
     "text": [
      "03/14/2024 22:49:00 - INFO - trainer -   test loss: 0.168558\n",
      "epoch 72 iter 1352: train loss 0.13868. lr 3.000000e-05: 100%|██████████| 1353/1353 [05:34<00:00,  4.04it/s]\n",
      "03/14/2024 22:54:35 - INFO - trainer -   epoch train loss: 0.173356\n"
     ]
    },
    {
     "name": "stdout",
     "output_type": "stream",
     "text": [
      "train loss: 0.17335572494063128\n"
     ]
    },
    {
     "name": "stderr",
     "output_type": "stream",
     "text": [
      "03/14/2024 22:54:50 - INFO - trainer -   test loss: 0.168744\n",
      "epoch 73 iter 1352: train loss 0.13436. lr 3.000000e-05: 100%|██████████| 1353/1353 [05:34<00:00,  4.04it/s]\n",
      "03/14/2024 23:00:25 - INFO - trainer -   epoch train loss: 0.172138\n"
     ]
    },
    {
     "name": "stdout",
     "output_type": "stream",
     "text": [
      "train loss: 0.17213755612538995\n"
     ]
    },
    {
     "name": "stderr",
     "output_type": "stream",
     "text": [
      "03/14/2024 23:00:39 - INFO - trainer -   test loss: 0.168295\n",
      "epoch 74 iter 1352: train loss 0.13731. lr 3.000000e-05: 100%|██████████| 1353/1353 [05:34<00:00,  4.04it/s]\n",
      "03/14/2024 23:06:15 - INFO - trainer -   epoch train loss: 0.170940\n"
     ]
    },
    {
     "name": "stdout",
     "output_type": "stream",
     "text": [
      "train loss: 0.17093963002550627\n"
     ]
    },
    {
     "name": "stderr",
     "output_type": "stream",
     "text": [
      "03/14/2024 23:06:29 - INFO - trainer -   test loss: 0.167859\n",
      "epoch 75 iter 1352: train loss 0.13600. lr 3.000000e-05: 100%|██████████| 1353/1353 [05:34<00:00,  4.04it/s]\n",
      "03/14/2024 23:12:04 - INFO - trainer -   epoch train loss: 0.169645\n"
     ]
    },
    {
     "name": "stdout",
     "output_type": "stream",
     "text": [
      "train loss: 0.16964522275057706\n"
     ]
    },
    {
     "name": "stderr",
     "output_type": "stream",
     "text": [
      "03/14/2024 23:12:19 - INFO - trainer -   test loss: 0.167491\n",
      "epoch 76 iter 1352: train loss 0.13540. lr 3.000000e-05: 100%|██████████| 1353/1353 [05:34<00:00,  4.04it/s]\n",
      "03/14/2024 23:17:54 - INFO - trainer -   epoch train loss: 0.168530\n"
     ]
    },
    {
     "name": "stdout",
     "output_type": "stream",
     "text": [
      "train loss: 0.16852966827634344\n"
     ]
    },
    {
     "name": "stderr",
     "output_type": "stream",
     "text": [
      "03/14/2024 23:18:08 - INFO - trainer -   test loss: 0.166751\n",
      "epoch 77 iter 1352: train loss 0.13597. lr 3.000000e-05: 100%|██████████| 1353/1353 [05:34<00:00,  4.04it/s]\n",
      "03/14/2024 23:23:44 - INFO - trainer -   epoch train loss: 0.167316\n"
     ]
    },
    {
     "name": "stdout",
     "output_type": "stream",
     "text": [
      "train loss: 0.16731575719533104\n"
     ]
    },
    {
     "name": "stderr",
     "output_type": "stream",
     "text": [
      "03/14/2024 23:23:58 - INFO - trainer -   test loss: 0.166610\n",
      "epoch 78 iter 1352: train loss 0.13602. lr 3.000000e-05: 100%|██████████| 1353/1353 [05:34<00:00,  4.04it/s]\n",
      "03/14/2024 23:29:33 - INFO - trainer -   epoch train loss: 0.166164\n"
     ]
    },
    {
     "name": "stdout",
     "output_type": "stream",
     "text": [
      "train loss: 0.16616446558449416\n"
     ]
    },
    {
     "name": "stderr",
     "output_type": "stream",
     "text": [
      "03/14/2024 23:29:48 - INFO - trainer -   test loss: 0.165935\n",
      "epoch 79 iter 1352: train loss 0.13322. lr 3.000000e-05: 100%|██████████| 1353/1353 [05:34<00:00,  4.04it/s]\n",
      "03/14/2024 23:35:23 - INFO - trainer -   epoch train loss: 0.165021\n"
     ]
    },
    {
     "name": "stdout",
     "output_type": "stream",
     "text": [
      "train loss: 0.16502140754254235\n"
     ]
    },
    {
     "name": "stderr",
     "output_type": "stream",
     "text": [
      "03/14/2024 23:35:37 - INFO - trainer -   test loss: 0.165610\n",
      "epoch 80 iter 1352: train loss 0.13362. lr 3.000000e-05: 100%|██████████| 1353/1353 [05:34<00:00,  4.04it/s]\n",
      "03/14/2024 23:41:13 - INFO - trainer -   epoch train loss: 0.163988\n"
     ]
    },
    {
     "name": "stdout",
     "output_type": "stream",
     "text": [
      "train loss: 0.1639876594410415\n"
     ]
    },
    {
     "name": "stderr",
     "output_type": "stream",
     "text": [
      "03/14/2024 23:41:27 - INFO - trainer -   test loss: 0.165042\n",
      "epoch 81 iter 1352: train loss 0.13371. lr 3.000000e-05: 100%|██████████| 1353/1353 [05:34<00:00,  4.04it/s]\n",
      "03/14/2024 23:47:02 - INFO - trainer -   epoch train loss: 0.162847\n"
     ]
    },
    {
     "name": "stdout",
     "output_type": "stream",
     "text": [
      "train loss: 0.16284673886218073\n"
     ]
    },
    {
     "name": "stderr",
     "output_type": "stream",
     "text": [
      "03/14/2024 23:47:16 - INFO - trainer -   test loss: 0.164914\n",
      "epoch 82 iter 1352: train loss 0.13048. lr 3.000000e-05: 100%|██████████| 1353/1353 [05:34<00:00,  4.04it/s]\n",
      "03/14/2024 23:52:52 - INFO - trainer -   epoch train loss: 0.161715\n"
     ]
    },
    {
     "name": "stdout",
     "output_type": "stream",
     "text": [
      "train loss: 0.16171548625692472\n"
     ]
    },
    {
     "name": "stderr",
     "output_type": "stream",
     "text": [
      "03/14/2024 23:53:06 - INFO - trainer -   test loss: 0.164832\n",
      "epoch 83 iter 1352: train loss 0.12686. lr 3.000000e-05: 100%|██████████| 1353/1353 [05:34<00:00,  4.05it/s]\n",
      "03/14/2024 23:58:41 - INFO - trainer -   epoch train loss: 0.160739\n"
     ]
    },
    {
     "name": "stdout",
     "output_type": "stream",
     "text": [
      "train loss: 0.1607388021632291\n"
     ]
    },
    {
     "name": "stderr",
     "output_type": "stream",
     "text": [
      "03/14/2024 23:58:56 - INFO - trainer -   test loss: 0.164176\n",
      "epoch 84 iter 1352: train loss 0.12937. lr 3.000000e-05: 100%|██████████| 1353/1353 [05:34<00:00,  4.04it/s]\n",
      "03/15/2024 00:04:30 - INFO - trainer -   epoch train loss: 0.159610\n"
     ]
    },
    {
     "name": "stdout",
     "output_type": "stream",
     "text": [
      "train loss: 0.1596095945468587\n"
     ]
    },
    {
     "name": "stderr",
     "output_type": "stream",
     "text": [
      "03/15/2024 00:04:45 - INFO - trainer -   test loss: 0.163693\n",
      "epoch 85 iter 1352: train loss 0.12314. lr 3.000000e-05: 100%|██████████| 1353/1353 [05:34<00:00,  4.05it/s]\n",
      "03/15/2024 00:10:20 - INFO - trainer -   epoch train loss: 0.158587\n"
     ]
    },
    {
     "name": "stdout",
     "output_type": "stream",
     "text": [
      "train loss: 0.1585870011044007\n"
     ]
    },
    {
     "name": "stderr",
     "output_type": "stream",
     "text": [
      "03/15/2024 00:10:34 - INFO - trainer -   test loss: 0.164213\n",
      "epoch 86 iter 1352: train loss 0.12608. lr 3.000000e-05: 100%|██████████| 1353/1353 [05:34<00:00,  4.04it/s]\n",
      "03/15/2024 00:16:10 - INFO - trainer -   epoch train loss: 0.157679\n"
     ]
    },
    {
     "name": "stdout",
     "output_type": "stream",
     "text": [
      "train loss: 0.15767870952443377\n"
     ]
    },
    {
     "name": "stderr",
     "output_type": "stream",
     "text": [
      "03/15/2024 00:16:24 - INFO - trainer -   test loss: 0.163993\n",
      "epoch 87 iter 1352: train loss 0.12462. lr 3.000000e-05: 100%|██████████| 1353/1353 [05:34<00:00,  4.04it/s]\n",
      "03/15/2024 00:21:59 - INFO - trainer -   epoch train loss: 0.156632\n"
     ]
    },
    {
     "name": "stdout",
     "output_type": "stream",
     "text": [
      "train loss: 0.15663159057685205\n"
     ]
    },
    {
     "name": "stderr",
     "output_type": "stream",
     "text": [
      "03/15/2024 00:22:14 - INFO - trainer -   test loss: 0.163879\n",
      "epoch 88 iter 1352: train loss 0.12683. lr 3.000000e-05: 100%|██████████| 1353/1353 [05:34<00:00,  4.04it/s]\n",
      "03/15/2024 00:27:49 - INFO - trainer -   epoch train loss: 0.155703\n"
     ]
    },
    {
     "name": "stdout",
     "output_type": "stream",
     "text": [
      "train loss: 0.15570336015838565\n"
     ]
    },
    {
     "name": "stderr",
     "output_type": "stream",
     "text": [
      "03/15/2024 00:28:03 - INFO - trainer -   test loss: 0.163887\n",
      "epoch 89 iter 1352: train loss 0.12068. lr 3.000000e-05: 100%|██████████| 1353/1353 [05:34<00:00,  4.04it/s]\n",
      "03/15/2024 00:33:39 - INFO - trainer -   epoch train loss: 0.154729\n"
     ]
    },
    {
     "name": "stdout",
     "output_type": "stream",
     "text": [
      "train loss: 0.15472901504038003\n"
     ]
    },
    {
     "name": "stderr",
     "output_type": "stream",
     "text": [
      "03/15/2024 00:33:53 - INFO - trainer -   test loss: 0.163514\n",
      "epoch 90 iter 1352: train loss 0.12667. lr 3.000000e-05: 100%|██████████| 1353/1353 [05:34<00:00,  4.04it/s]\n",
      "03/15/2024 00:39:28 - INFO - trainer -   epoch train loss: 0.153760\n"
     ]
    },
    {
     "name": "stdout",
     "output_type": "stream",
     "text": [
      "train loss: 0.15376009871936777\n"
     ]
    },
    {
     "name": "stderr",
     "output_type": "stream",
     "text": [
      "03/15/2024 00:39:43 - INFO - trainer -   test loss: 0.163076\n"
     ]
    },
    {
     "name": "stdout",
     "output_type": "stream",
     "text": [
      "Model ../models/model_epochs->90_heads->4_embd->256_batch->32_new_midi_embeddings saved\n"
     ]
    },
    {
     "name": "stderr",
     "output_type": "stream",
     "text": [
      "wandb: WARNING Source type is set to 'repo' but some required information is missing from the environment. A job will not be created from this run. See https://docs.wandb.ai/guides/launch/create-job\n"
     ]
    },
    {
     "data": {
      "application/vnd.jupyter.widget-view+json": {
       "model_id": "7de547137c994dedbfce9a35e48aa5c2",
       "version_major": 2,
       "version_minor": 0
      },
      "text/plain": [
       "VBox(children=(Label(value='0.005 MB of 0.005 MB uploaded\\r'), FloatProgress(value=1.0, max=1.0)))"
      ]
     },
     "metadata": {},
     "output_type": "display_data"
    },
    {
     "data": {
      "text/html": [
       "<style>\n",
       "    table.wandb td:nth-child(1) { padding: 0 10px; text-align: left ; width: auto;} td:nth-child(2) {text-align: left ; width: 100%}\n",
       "    .wandb-row { display: flex; flex-direction: row; flex-wrap: wrap; justify-content: flex-start; width: 100% }\n",
       "    .wandb-col { display: flex; flex-direction: column; flex-basis: 100%; flex: 1; padding: 10px; }\n",
       "    </style>\n",
       "<div class=\"wandb-row\"><div class=\"wandb-col\"><h3>Run history:</h3><br/><table class=\"wandb\"><tr><td>Train loss</td><td>█▅▄▄▄▄▄▄▃▃▃▂▂▂▂▁▁▁▁▁▁▁▁▁▁▁▁▁▁▁▁▁▁▁▁▁▁▁▁▁</td></tr><tr><td>Validation loss</td><td>█▇▆▆▅▅▅▅▅▄▃▂▂▂▁▁▁▁▁▁▁▁▁▁▁▁▁▁▁▁▁▁▁▁▁▁▁▁▁▁</td></tr><tr><td>hits@1</td><td>▁▂▂▃▃▃▃▄▄▅▅▆▇▇▇▇▇███████████████████████</td></tr><tr><td>hits@3</td><td>▁▃▅▅▅▆▆▆▆▆▇█████████████████████████████</td></tr><tr><td>hits@5</td><td>▁▂▅▆▆▆▆▇▇▇▇█████████████████████████████</td></tr></table><br/></div><div class=\"wandb-col\"><h3>Run summary:</h3><br/><table class=\"wandb\"><tr><td>Train loss</td><td>0.15376</td></tr><tr><td>Validation loss</td><td>0.16308</td></tr><tr><td>hits@1</td><td>0.95892</td></tr><tr><td>hits@3</td><td>0.99104</td></tr><tr><td>hits@5</td><td>0.99462</td></tr></table><br/></div></div>"
      ],
      "text/plain": [
       "<IPython.core.display.HTML object>"
      ]
     },
     "metadata": {},
     "output_type": "display_data"
    },
    {
     "data": {
      "text/html": [
       " View run <strong style=\"color:#cdcd00\">elderberry-cobbler-15</strong> at: <a href='https://wandb.ai/music_gpt/music_gpt_new_voicing/runs/076i6to6' target=\"_blank\">https://wandb.ai/music_gpt/music_gpt_new_voicing/runs/076i6to6</a><br/>Synced 5 W&B file(s), 0 media file(s), 0 artifact file(s) and 0 other file(s)"
      ],
      "text/plain": [
       "<IPython.core.display.HTML object>"
      ]
     },
     "metadata": {},
     "output_type": "display_data"
    },
    {
     "data": {
      "text/html": [
       "Find logs at: <code>./wandb/run-20240314_155521-076i6to6/logs</code>"
      ],
      "text/plain": [
       "<IPython.core.display.HTML object>"
      ]
     },
     "metadata": {},
     "output_type": "display_data"
    }
   ],
   "source": [
    "epochs = 120\n",
    "embedding = 256\n",
    "heads = 6\n",
    "layers = 6\n",
    "batch_size = 32\n",
    "learning_rate = 3e-5\n",
    "num_workers = 6\n",
    "midi_vocab = 128\n",
    "\n",
    "mconf = GPTConfig(len(tokens), dataset.block_size, midi_vocab, n_layer=layers, n_head=heads, n_embd=embedding)\n",
    "session_model = GPT(mconf)\n",
    "MODEL_NAME = \"../models/model_\"+ \"epochs->\" + str(epochs) + \"_heads->\" + str(heads) + \"_embd->\" + str(embedding) + \"_batch->\" + str(batch_size) + \"_new_midi_embeddings\"\n",
    "print(MODEL_NAME)\n",
    "\n",
    "session_model = load_model(MODEL_NAME, session_model)\n",
    "\n",
    "if (session_model == None):\n",
    "    #mconf = GPTConfig(len(tokens), dataset.block_size, n_layer=layers, n_head=heads, n_embd=embbedings)\n",
    "    session_model = GPT(mconf)\n",
    "    tconf = TrainerConfig(max_epochs=epochs, \n",
    "                          batch_size=batch_size, \n",
    "                          learning_rate=learning_rate, \n",
    "                          num_workers=num_workers\n",
    "                          )\n",
    "    writer = SummaryWriter(log_dir='../runs/'+'logs') \n",
    "    trainer = Trainer(session_model, dataset, validation, tconf, writer)\n",
    "    trainer.train()\n",
    "    save_model(MODEL_NAME, session_model)\n",
    "    # [optional] finish the wandb run, necessary in notebooks\n",
    "    wandb.finish()"
   ]
  }
 ],
 "metadata": {
  "kernelspec": {
   "display_name": "Python 3",
   "language": "python",
   "name": "python3"
  },
  "language_info": {
   "codemirror_mode": {
    "name": "ipython",
    "version": 3
   },
   "file_extension": ".py",
   "mimetype": "text/x-python",
   "name": "python",
   "nbconvert_exporter": "python",
   "pygments_lexer": "ipython3",
   "version": "3.10.12"
  }
 },
 "nbformat": 4,
 "nbformat_minor": 2
}
