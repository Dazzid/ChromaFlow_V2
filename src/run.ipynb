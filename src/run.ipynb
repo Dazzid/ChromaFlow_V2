{
 "cells": [
  {
   "cell_type": "code",
   "execution_count": 1,
   "metadata": {},
   "outputs": [],
   "source": [
    "%reload_ext autoreload\n",
    "%autoreload 2\n",
    "from trainer import Trainer, TrainerConfig\n",
    "from mingpt_utils import set_seed\n",
    "from model import GPT, GPTConfig\n",
    "import torch\n",
    "from utils import *\n",
    "\n",
    "from torch.utils.tensorboard import SummaryWriter\n",
    "from mingpt_utils import sample\n",
    "torch.cuda.empty_cache()"
   ]
  },
  {
   "cell_type": "code",
   "execution_count": 2,
   "metadata": {},
   "outputs": [
    {
     "name": "stdout",
     "output_type": "stream",
     "text": [
      "Available devices:  2\n",
      "torch version: 2.2.1+cu121\n",
      "cudnn version: 8902\n",
      "cuda version: 12.1\n"
     ]
    }
   ],
   "source": [
    "print(\"Available devices: \", torch.cuda.device_count())\n",
    "print(\"torch version:\", torch.__version__)\n",
    "print(\"cudnn version:\", torch.backends.cudnn.version())\n",
    "print(\"cuda version:\", torch.version.cuda)"
   ]
  },
  {
   "cell_type": "code",
   "execution_count": 3,
   "metadata": {},
   "outputs": [],
   "source": [
    "\n",
    "max_length = 2048\n",
    "id = 0\n",
    "tokens = np.load('../data/formatted/tokens.npy', allow_pickle=True)\n",
    "train = np.load('../data/shuffled/dataset_train.npy', allow_pickle=True)\n",
    "test = np.load('../data/shuffled/dataset_test.npy', allow_pickle=True)\n",
    "midi_train = np.load('../data/shuffled/midi_train.npy', allow_pickle=True)\n",
    "midi_test = np.load('../data/shuffled/midi_test.npy', allow_pickle=True)"
   ]
  },
  {
   "cell_type": "code",
   "execution_count": 4,
   "metadata": {},
   "outputs": [],
   "source": [
    "#Convert midi into dtype int\n",
    "midi_train = midi_train.astype(int)\n",
    "midi_test = midi_test.astype(int)"
   ]
  },
  {
   "cell_type": "code",
   "execution_count": 5,
   "metadata": {},
   "outputs": [
    {
     "name": "stdout",
     "output_type": "stream",
     "text": [
      "(43272, 2048) (4800, 2048) (43272, 2048, 8) (4800, 2048, 8)\n",
      "data has 43272 pieces, 195 unique tokens.\n",
      "data has 4800 pieces, 195 unique tokens.\n"
     ]
    }
   ],
   "source": [
    "print(train.shape, test.shape, midi_train.shape, midi_test.shape)\n",
    "\n",
    "dataset = TokenDatasetMidi(train, midi_train,  max_length, tokens)\n",
    "validation = TokenDatasetMidi(test, midi_test, max_length, tokens)"
   ]
  },
  {
   "cell_type": "code",
   "execution_count": 6,
   "metadata": {},
   "outputs": [
    {
     "name": "stderr",
     "output_type": "stream",
     "text": [
      "03/13/2024 17:46:26 - ERROR - wandb.jupyter -   Failed to detect the name of this notebook, you can set it manually with the WANDB_NOTEBOOK_NAME environment variable to enable code saving.\n",
      "\u001b[34m\u001b[1mwandb\u001b[0m: Currently logged in as: \u001b[33mdazzid\u001b[0m (\u001b[33mmusic_gpt\u001b[0m). Use \u001b[1m`wandb login --relogin`\u001b[0m to force relogin\n"
     ]
    },
    {
     "data": {
      "text/html": [
       "Tracking run with wandb version 0.16.4"
      ],
      "text/plain": [
       "<IPython.core.display.HTML object>"
      ]
     },
     "metadata": {},
     "output_type": "display_data"
    },
    {
     "data": {
      "text/html": [
       "Run data is saved locally in <code>/workspace/src/wandb/run-20240313_174627-a10d2sp5</code>"
      ],
      "text/plain": [
       "<IPython.core.display.HTML object>"
      ]
     },
     "metadata": {},
     "output_type": "display_data"
    },
    {
     "data": {
      "text/html": [
       "Syncing run <strong><a href='https://wandb.ai/music_gpt/music_gpt_new_voicing/runs/a10d2sp5' target=\"_blank\">wise-voice-11</a></strong> to <a href='https://wandb.ai/music_gpt/music_gpt_new_voicing' target=\"_blank\">Weights & Biases</a> (<a href='https://wandb.me/run' target=\"_blank\">docs</a>)<br/>"
      ],
      "text/plain": [
       "<IPython.core.display.HTML object>"
      ]
     },
     "metadata": {},
     "output_type": "display_data"
    },
    {
     "data": {
      "text/html": [
       " View project at <a href='https://wandb.ai/music_gpt/music_gpt_new_voicing' target=\"_blank\">https://wandb.ai/music_gpt/music_gpt_new_voicing</a>"
      ],
      "text/plain": [
       "<IPython.core.display.HTML object>"
      ]
     },
     "metadata": {},
     "output_type": "display_data"
    },
    {
     "data": {
      "text/html": [
       " View run at <a href='https://wandb.ai/music_gpt/music_gpt_new_voicing/runs/a10d2sp5' target=\"_blank\">https://wandb.ai/music_gpt/music_gpt_new_voicing/runs/a10d2sp5</a>"
      ],
      "text/plain": [
       "<IPython.core.display.HTML object>"
      ]
     },
     "metadata": {},
     "output_type": "display_data"
    },
    {
     "data": {
      "text/html": [
       "<button onClick=\"this.nextSibling.style.display='block';this.style.display='none';\">Display W&B run</button><iframe src='https://wandb.ai/music_gpt/music_gpt_new_voicing/runs/a10d2sp5?jupyter=true' style='border:none;width:100%;height:420px;display:none;'></iframe>"
      ],
      "text/plain": [
       "<wandb.sdk.wandb_run.Run at 0x7fa5a62025f0>"
      ]
     },
     "execution_count": 6,
     "metadata": {},
     "output_type": "execute_result"
    }
   ],
   "source": [
    "import wandb\n",
    "#wandb.login()\n",
    "wandb.init(\n",
    "    # set the wandb project where this run will be logged\n",
    "    project=\"music_gpt_new_voicing\",\n",
    "    \n",
    "    # track hyperparameters and run metadata\n",
    "    config={\n",
    "    \"learning_rate\": 3e-5,\n",
    "    \"architecture\": \"Transformer - minGPT\",\n",
    "    \"dataset\": \"chords from iRealPro\",\n",
    "    \"epochs\": 250,\n",
    "    }\n",
    ")"
   ]
  },
  {
   "cell_type": "code",
   "execution_count": 8,
   "metadata": {},
   "outputs": [
    {
     "name": "stderr",
     "output_type": "stream",
     "text": [
      "03/13/2024 17:47:09 - INFO - model -   number of parameters: 1.861376e+06\n",
      "03/13/2024 17:47:10 - INFO - model -   number of parameters: 1.861376e+06\n"
     ]
    },
    {
     "name": "stdout",
     "output_type": "stream",
     "text": [
      "../models/model_epochs->100_heads->4_embd->192_batch->32_new_midi_embeddings\n"
     ]
    },
    {
     "name": "stderr",
     "output_type": "stream",
     "text": [
      "epoch 1 iter 1352: train loss 1.67072. lr 3.000000e-05: 100%|██████████| 1353/1353 [05:18<00:00,  4.25it/s]\n",
      "03/13/2024 17:52:28 - INFO - trainer -   epoch train loss: 2.749363\n"
     ]
    },
    {
     "name": "stdout",
     "output_type": "stream",
     "text": [
      "train loss: 2.7493631558689646\n"
     ]
    },
    {
     "name": "stderr",
     "output_type": "stream",
     "text": [
      "03/13/2024 17:52:42 - INFO - trainer -   test loss: 1.633470\n",
      "epoch 2 iter 1352: train loss 1.45663. lr 3.000000e-05: 100%|██████████| 1353/1353 [05:18<00:00,  4.24it/s]\n",
      "03/13/2024 17:58:02 - INFO - trainer -   epoch train loss: 1.582591\n"
     ]
    },
    {
     "name": "stdout",
     "output_type": "stream",
     "text": [
      "train loss: 1.5825907551440501\n"
     ]
    },
    {
     "name": "stderr",
     "output_type": "stream",
     "text": [
      "03/13/2024 17:58:16 - INFO - trainer -   test loss: 1.589156\n",
      "epoch 3 iter 1352: train loss 1.36943. lr 3.000000e-05: 100%|██████████| 1353/1353 [05:18<00:00,  4.25it/s]\n",
      "03/13/2024 18:03:35 - INFO - trainer -   epoch train loss: 1.451632\n"
     ]
    },
    {
     "name": "stdout",
     "output_type": "stream",
     "text": [
      "train loss: 1.4516324096490785\n"
     ]
    },
    {
     "name": "stderr",
     "output_type": "stream",
     "text": [
      "03/13/2024 18:03:49 - INFO - trainer -   test loss: 1.463720\n",
      "epoch 4 iter 1352: train loss 1.28815. lr 3.000000e-05: 100%|██████████| 1353/1353 [05:18<00:00,  4.25it/s]\n",
      "03/13/2024 18:09:08 - INFO - trainer -   epoch train loss: 1.357931\n"
     ]
    },
    {
     "name": "stdout",
     "output_type": "stream",
     "text": [
      "train loss: 1.3579309036003953\n"
     ]
    },
    {
     "name": "stderr",
     "output_type": "stream",
     "text": [
      "03/13/2024 18:09:22 - INFO - trainer -   test loss: 1.345990\n",
      "epoch 5 iter 1352: train loss 1.22134. lr 3.000000e-05: 100%|██████████| 1353/1353 [05:17<00:00,  4.25it/s]\n",
      "03/13/2024 18:14:40 - INFO - trainer -   epoch train loss: 1.300406\n"
     ]
    },
    {
     "name": "stdout",
     "output_type": "stream",
     "text": [
      "train loss: 1.3004055802943701\n"
     ]
    },
    {
     "name": "stderr",
     "output_type": "stream",
     "text": [
      "03/13/2024 18:14:54 - INFO - trainer -   test loss: 1.284270\n",
      "epoch 6 iter 1352: train loss 1.16343. lr 3.000000e-05: 100%|██████████| 1353/1353 [05:18<00:00,  4.25it/s]\n",
      "03/13/2024 18:20:13 - INFO - trainer -   epoch train loss: 1.229699\n"
     ]
    },
    {
     "name": "stdout",
     "output_type": "stream",
     "text": [
      "train loss: 1.2296988671564297\n"
     ]
    },
    {
     "name": "stderr",
     "output_type": "stream",
     "text": [
      "03/13/2024 18:20:27 - INFO - trainer -   test loss: 1.211783\n",
      "epoch 7 iter 1352: train loss 1.12922. lr 3.000000e-05: 100%|██████████| 1353/1353 [05:17<00:00,  4.26it/s]\n",
      "03/13/2024 18:25:45 - INFO - trainer -   epoch train loss: 1.192724\n"
     ]
    },
    {
     "name": "stdout",
     "output_type": "stream",
     "text": [
      "train loss: 1.1927241410313936\n"
     ]
    },
    {
     "name": "stderr",
     "output_type": "stream",
     "text": [
      "03/13/2024 18:25:59 - INFO - trainer -   test loss: 1.179959\n",
      "epoch 8 iter 1352: train loss 1.10338. lr 3.000000e-05: 100%|██████████| 1353/1353 [05:18<00:00,  4.24it/s]\n",
      "03/13/2024 18:31:18 - INFO - trainer -   epoch train loss: 1.166651\n"
     ]
    },
    {
     "name": "stdout",
     "output_type": "stream",
     "text": [
      "train loss: 1.1666505231032616\n"
     ]
    },
    {
     "name": "stderr",
     "output_type": "stream",
     "text": [
      "03/13/2024 18:31:32 - INFO - trainer -   test loss: 1.147568\n",
      "epoch 9 iter 1352: train loss 1.08932. lr 3.000000e-05: 100%|██████████| 1353/1353 [05:19<00:00,  4.24it/s]\n",
      "03/13/2024 18:36:51 - INFO - trainer -   epoch train loss: 1.144590\n"
     ]
    },
    {
     "name": "stdout",
     "output_type": "stream",
     "text": [
      "train loss: 1.1445903594812814\n"
     ]
    },
    {
     "name": "stderr",
     "output_type": "stream",
     "text": [
      "03/13/2024 18:37:05 - INFO - trainer -   test loss: 1.125248\n",
      "epoch 10 iter 1352: train loss 1.06669. lr 3.000000e-05: 100%|██████████| 1353/1353 [05:19<00:00,  4.24it/s]\n",
      "03/13/2024 18:42:25 - INFO - trainer -   epoch train loss: 1.125927\n"
     ]
    },
    {
     "name": "stdout",
     "output_type": "stream",
     "text": [
      "train loss: 1.1259265490487516\n"
     ]
    },
    {
     "name": "stderr",
     "output_type": "stream",
     "text": [
      "03/13/2024 18:42:39 - INFO - trainer -   test loss: 1.106931\n",
      "epoch 11 iter 1352: train loss 1.04259. lr 3.000000e-05: 100%|██████████| 1353/1353 [05:19<00:00,  4.24it/s]\n",
      "03/13/2024 18:47:58 - INFO - trainer -   epoch train loss: 1.109204\n"
     ]
    },
    {
     "name": "stdout",
     "output_type": "stream",
     "text": [
      "train loss: 1.109203582768606\n"
     ]
    },
    {
     "name": "stderr",
     "output_type": "stream",
     "text": [
      "03/13/2024 18:48:12 - INFO - trainer -   test loss: 1.089169\n",
      "epoch 12 iter 1352: train loss 1.03449. lr 3.000000e-05: 100%|██████████| 1353/1353 [05:18<00:00,  4.24it/s]\n",
      "03/13/2024 18:53:31 - INFO - trainer -   epoch train loss: 1.094970\n"
     ]
    },
    {
     "name": "stdout",
     "output_type": "stream",
     "text": [
      "train loss: 1.0949704266440314\n"
     ]
    },
    {
     "name": "stderr",
     "output_type": "stream",
     "text": [
      "03/13/2024 18:53:45 - INFO - trainer -   test loss: 1.075183\n",
      "epoch 13 iter 1352: train loss 1.01694. lr 3.000000e-05: 100%|██████████| 1353/1353 [05:18<00:00,  4.25it/s]\n",
      "03/13/2024 18:59:04 - INFO - trainer -   epoch train loss: 1.082303\n"
     ]
    },
    {
     "name": "stdout",
     "output_type": "stream",
     "text": [
      "train loss: 1.0823034771001523\n"
     ]
    },
    {
     "name": "stderr",
     "output_type": "stream",
     "text": [
      "03/13/2024 18:59:18 - INFO - trainer -   test loss: 1.062107\n",
      "epoch 14 iter 1352: train loss 1.00063. lr 3.000000e-05: 100%|██████████| 1353/1353 [05:17<00:00,  4.26it/s]\n",
      "03/13/2024 19:04:36 - INFO - trainer -   epoch train loss: 1.070435\n"
     ]
    },
    {
     "name": "stdout",
     "output_type": "stream",
     "text": [
      "train loss: 1.0704346368335744\n"
     ]
    },
    {
     "name": "stderr",
     "output_type": "stream",
     "text": [
      "03/13/2024 19:04:49 - INFO - trainer -   test loss: 1.049608\n",
      "epoch 15 iter 1352: train loss 0.98457. lr 3.000000e-05: 100%|██████████| 1353/1353 [05:17<00:00,  4.26it/s]\n",
      "03/13/2024 19:10:08 - INFO - trainer -   epoch train loss: 1.058927\n"
     ]
    },
    {
     "name": "stdout",
     "output_type": "stream",
     "text": [
      "train loss: 1.0589266479764263\n"
     ]
    },
    {
     "name": "stderr",
     "output_type": "stream",
     "text": [
      "03/13/2024 19:10:22 - INFO - trainer -   test loss: 1.039156\n",
      "epoch 16 iter 1352: train loss 0.97041. lr 3.000000e-05: 100%|██████████| 1353/1353 [05:17<00:00,  4.26it/s]\n",
      "03/13/2024 19:15:40 - INFO - trainer -   epoch train loss: 1.048188\n"
     ]
    },
    {
     "name": "stdout",
     "output_type": "stream",
     "text": [
      "train loss: 1.0481884168063105\n"
     ]
    },
    {
     "name": "stderr",
     "output_type": "stream",
     "text": [
      "03/13/2024 19:15:54 - INFO - trainer -   test loss: 1.025999\n",
      "epoch 17 iter 1352: train loss 0.96011. lr 3.000000e-05: 100%|██████████| 1353/1353 [05:18<00:00,  4.25it/s]\n",
      "03/13/2024 19:21:12 - INFO - trainer -   epoch train loss: 1.038337\n"
     ]
    },
    {
     "name": "stdout",
     "output_type": "stream",
     "text": [
      "train loss: 1.038336905830451\n"
     ]
    },
    {
     "name": "stderr",
     "output_type": "stream",
     "text": [
      "03/13/2024 19:21:26 - INFO - trainer -   test loss: 1.017045\n",
      "epoch 18 iter 1352: train loss 0.95043. lr 3.000000e-05: 100%|██████████| 1353/1353 [05:18<00:00,  4.25it/s]\n",
      "03/13/2024 19:26:44 - INFO - trainer -   epoch train loss: 1.029346\n"
     ]
    },
    {
     "name": "stdout",
     "output_type": "stream",
     "text": [
      "train loss: 1.0293462070287462\n"
     ]
    },
    {
     "name": "stderr",
     "output_type": "stream",
     "text": [
      "03/13/2024 19:26:58 - INFO - trainer -   test loss: 1.008795\n",
      "epoch 19 iter 1352: train loss 0.93749. lr 3.000000e-05: 100%|██████████| 1353/1353 [05:18<00:00,  4.25it/s]\n",
      "03/13/2024 19:32:17 - INFO - trainer -   epoch train loss: 1.020716\n"
     ]
    },
    {
     "name": "stdout",
     "output_type": "stream",
     "text": [
      "train loss: 1.0207156368034995\n"
     ]
    },
    {
     "name": "stderr",
     "output_type": "stream",
     "text": [
      "03/13/2024 19:32:31 - INFO - trainer -   test loss: 0.999204\n",
      "epoch 20 iter 1352: train loss 0.92823. lr 3.000000e-05: 100%|██████████| 1353/1353 [05:18<00:00,  4.25it/s]\n",
      "03/13/2024 19:37:50 - INFO - trainer -   epoch train loss: 1.012777\n"
     ]
    },
    {
     "name": "stdout",
     "output_type": "stream",
     "text": [
      "train loss: 1.012776887469704\n"
     ]
    },
    {
     "name": "stderr",
     "output_type": "stream",
     "text": [
      "03/13/2024 19:38:04 - INFO - trainer -   test loss: 0.992869\n",
      "epoch 21 iter 1352: train loss 0.92140. lr 3.000000e-05: 100%|██████████| 1353/1353 [05:17<00:00,  4.26it/s]\n",
      "03/13/2024 19:43:22 - INFO - trainer -   epoch train loss: 1.004974\n"
     ]
    },
    {
     "name": "stdout",
     "output_type": "stream",
     "text": [
      "train loss: 1.0049741761559305\n"
     ]
    },
    {
     "name": "stderr",
     "output_type": "stream",
     "text": [
      "03/13/2024 19:43:36 - INFO - trainer -   test loss: 0.986034\n",
      "epoch 22 iter 1352: train loss 0.90516. lr 3.000000e-05: 100%|██████████| 1353/1353 [05:17<00:00,  4.26it/s]\n",
      "03/13/2024 19:48:54 - INFO - trainer -   epoch train loss: 0.997162\n"
     ]
    },
    {
     "name": "stdout",
     "output_type": "stream",
     "text": [
      "train loss: 0.9971618681859723\n"
     ]
    },
    {
     "name": "stderr",
     "output_type": "stream",
     "text": [
      "03/13/2024 19:49:08 - INFO - trainer -   test loss: 0.978346\n",
      "epoch 23 iter 1352: train loss 0.89532. lr 3.000000e-05: 100%|██████████| 1353/1353 [05:17<00:00,  4.26it/s]\n",
      "03/13/2024 19:54:26 - INFO - trainer -   epoch train loss: 0.989376\n"
     ]
    },
    {
     "name": "stdout",
     "output_type": "stream",
     "text": [
      "train loss: 0.9893762941547262\n"
     ]
    },
    {
     "name": "stderr",
     "output_type": "stream",
     "text": [
      "03/13/2024 19:54:40 - INFO - trainer -   test loss: 0.969762\n",
      "epoch 24 iter 1352: train loss 0.88305. lr 3.000000e-05: 100%|██████████| 1353/1353 [05:17<00:00,  4.26it/s]\n",
      "03/13/2024 19:59:58 - INFO - trainer -   epoch train loss: 0.980502\n"
     ]
    },
    {
     "name": "stdout",
     "output_type": "stream",
     "text": [
      "train loss: 0.9805022901459615\n"
     ]
    },
    {
     "name": "stderr",
     "output_type": "stream",
     "text": [
      "03/13/2024 20:00:12 - INFO - trainer -   test loss: 0.957754\n",
      "epoch 25 iter 1352: train loss 0.86488. lr 3.000000e-05: 100%|██████████| 1353/1353 [05:18<00:00,  4.25it/s]\n",
      "03/13/2024 20:05:30 - INFO - trainer -   epoch train loss: 0.969577\n"
     ]
    },
    {
     "name": "stdout",
     "output_type": "stream",
     "text": [
      "train loss: 0.9695770322880036\n"
     ]
    },
    {
     "name": "stderr",
     "output_type": "stream",
     "text": [
      "03/13/2024 20:05:44 - INFO - trainer -   test loss: 0.941310\n",
      "epoch 26 iter 1352: train loss 0.85928. lr 3.000000e-05: 100%|██████████| 1353/1353 [05:17<00:00,  4.26it/s]\n",
      "03/13/2024 20:11:02 - INFO - trainer -   epoch train loss: 0.957720\n"
     ]
    },
    {
     "name": "stdout",
     "output_type": "stream",
     "text": [
      "train loss: 0.9577202951123955\n"
     ]
    },
    {
     "name": "stderr",
     "output_type": "stream",
     "text": [
      "03/13/2024 20:11:16 - INFO - trainer -   test loss: 0.926907\n",
      "epoch 27 iter 1352: train loss 0.83779. lr 3.000000e-05: 100%|██████████| 1353/1353 [05:18<00:00,  4.25it/s]\n",
      "03/13/2024 20:16:35 - INFO - trainer -   epoch train loss: 0.945399\n"
     ]
    },
    {
     "name": "stdout",
     "output_type": "stream",
     "text": [
      "train loss: 0.9453994081536664\n"
     ]
    },
    {
     "name": "stderr",
     "output_type": "stream",
     "text": [
      "03/13/2024 20:16:49 - INFO - trainer -   test loss: 0.910995\n",
      "epoch 28 iter 1352: train loss 0.82470. lr 3.000000e-05: 100%|██████████| 1353/1353 [05:18<00:00,  4.25it/s]\n",
      "03/13/2024 20:22:07 - INFO - trainer -   epoch train loss: 0.931869\n"
     ]
    },
    {
     "name": "stdout",
     "output_type": "stream",
     "text": [
      "train loss: 0.9318686343085211\n"
     ]
    },
    {
     "name": "stderr",
     "output_type": "stream",
     "text": [
      "03/13/2024 20:22:21 - INFO - trainer -   test loss: 0.890515\n",
      "epoch 29 iter 1352: train loss 0.80850. lr 3.000000e-05: 100%|██████████| 1353/1353 [05:18<00:00,  4.24it/s]\n",
      "03/13/2024 20:27:40 - INFO - trainer -   epoch train loss: 0.915963\n"
     ]
    },
    {
     "name": "stdout",
     "output_type": "stream",
     "text": [
      "train loss: 0.915962721846849\n"
     ]
    },
    {
     "name": "stderr",
     "output_type": "stream",
     "text": [
      "03/13/2024 20:27:54 - INFO - trainer -   test loss: 0.868425\n",
      "epoch 30 iter 1352: train loss 0.78363. lr 3.000000e-05: 100%|██████████| 1353/1353 [05:19<00:00,  4.24it/s]\n",
      "03/13/2024 20:33:13 - INFO - trainer -   epoch train loss: 0.896369\n"
     ]
    },
    {
     "name": "stdout",
     "output_type": "stream",
     "text": [
      "train loss: 0.8963690343734871\n"
     ]
    },
    {
     "name": "stderr",
     "output_type": "stream",
     "text": [
      "03/13/2024 20:33:27 - INFO - trainer -   test loss: 0.838187\n",
      "epoch 31 iter 1352: train loss 0.74715. lr 3.000000e-05: 100%|██████████| 1353/1353 [05:19<00:00,  4.24it/s]\n",
      "03/13/2024 20:38:47 - INFO - trainer -   epoch train loss: 0.869412\n"
     ]
    },
    {
     "name": "stdout",
     "output_type": "stream",
     "text": [
      "train loss: 0.8694120551248171\n"
     ]
    },
    {
     "name": "stderr",
     "output_type": "stream",
     "text": [
      "03/13/2024 20:39:01 - INFO - trainer -   test loss: 0.795338\n",
      "epoch 32 iter 1352: train loss 0.71199. lr 3.000000e-05: 100%|██████████| 1353/1353 [05:18<00:00,  4.25it/s]\n",
      "03/13/2024 20:44:19 - INFO - trainer -   epoch train loss: 0.835267\n"
     ]
    },
    {
     "name": "stdout",
     "output_type": "stream",
     "text": [
      "train loss: 0.8352671231680769\n"
     ]
    },
    {
     "name": "stderr",
     "output_type": "stream",
     "text": [
      "03/13/2024 20:44:33 - INFO - trainer -   test loss: 0.746854\n",
      "epoch 33 iter 1352: train loss 0.67476. lr 3.000000e-05: 100%|██████████| 1353/1353 [05:18<00:00,  4.25it/s]\n",
      "03/13/2024 20:49:52 - INFO - trainer -   epoch train loss: 0.794629\n"
     ]
    },
    {
     "name": "stdout",
     "output_type": "stream",
     "text": [
      "train loss: 0.7946293621880869\n"
     ]
    },
    {
     "name": "stderr",
     "output_type": "stream",
     "text": [
      "03/13/2024 20:50:06 - INFO - trainer -   test loss: 0.692173\n",
      "epoch 34 iter 1352: train loss 0.62259. lr 3.000000e-05: 100%|██████████| 1353/1353 [05:18<00:00,  4.25it/s]\n",
      "03/13/2024 20:55:24 - INFO - trainer -   epoch train loss: 0.744981\n"
     ]
    },
    {
     "name": "stdout",
     "output_type": "stream",
     "text": [
      "train loss: 0.7449808922064189\n"
     ]
    },
    {
     "name": "stderr",
     "output_type": "stream",
     "text": [
      "03/13/2024 20:55:38 - INFO - trainer -   test loss: 0.615665\n",
      "epoch 35 iter 1352: train loss 0.53969. lr 3.000000e-05: 100%|██████████| 1353/1353 [05:18<00:00,  4.25it/s]\n",
      "03/13/2024 21:00:57 - INFO - trainer -   epoch train loss: 0.669757\n"
     ]
    },
    {
     "name": "stdout",
     "output_type": "stream",
     "text": [
      "train loss: 0.6697569778030745\n"
     ]
    },
    {
     "name": "stderr",
     "output_type": "stream",
     "text": [
      "03/13/2024 21:01:11 - INFO - trainer -   test loss: 0.503843\n",
      "epoch 36 iter 1352: train loss 0.48859. lr 3.000000e-05: 100%|██████████| 1353/1353 [05:18<00:00,  4.25it/s]\n",
      "03/13/2024 21:06:30 - INFO - trainer -   epoch train loss: 0.593209\n"
     ]
    },
    {
     "name": "stdout",
     "output_type": "stream",
     "text": [
      "train loss: 0.5932090405349986\n"
     ]
    },
    {
     "name": "stderr",
     "output_type": "stream",
     "text": [
      "03/13/2024 21:06:43 - INFO - trainer -   test loss: 0.437700\n",
      "epoch 37 iter 1352: train loss 0.42799. lr 3.000000e-05: 100%|██████████| 1353/1353 [05:18<00:00,  4.25it/s]\n",
      "03/13/2024 21:12:02 - INFO - trainer -   epoch train loss: 0.537345\n"
     ]
    },
    {
     "name": "stdout",
     "output_type": "stream",
     "text": [
      "train loss: 0.537344519883196\n"
     ]
    },
    {
     "name": "stderr",
     "output_type": "stream",
     "text": [
      "03/13/2024 21:12:16 - INFO - trainer -   test loss: 0.394714\n",
      "epoch 38 iter 1352: train loss 0.40263. lr 3.000000e-05: 100%|██████████| 1353/1353 [05:18<00:00,  4.25it/s]\n",
      "03/13/2024 21:17:35 - INFO - trainer -   epoch train loss: 0.492678\n"
     ]
    },
    {
     "name": "stdout",
     "output_type": "stream",
     "text": [
      "train loss: 0.4926784711684109\n"
     ]
    },
    {
     "name": "stderr",
     "output_type": "stream",
     "text": [
      "03/13/2024 21:17:48 - INFO - trainer -   test loss: 0.362902\n",
      "epoch 39 iter 1352: train loss 0.36533. lr 3.000000e-05: 100%|██████████| 1353/1353 [05:18<00:00,  4.25it/s]\n",
      "03/13/2024 21:23:07 - INFO - trainer -   epoch train loss: 0.455423\n"
     ]
    },
    {
     "name": "stdout",
     "output_type": "stream",
     "text": [
      "train loss: 0.45542312716873856\n"
     ]
    },
    {
     "name": "stderr",
     "output_type": "stream",
     "text": [
      "03/13/2024 21:23:21 - INFO - trainer -   test loss: 0.340658\n",
      "epoch 40 iter 1352: train loss 0.35531. lr 3.000000e-05: 100%|██████████| 1353/1353 [05:18<00:00,  4.25it/s]\n",
      "03/13/2024 21:28:40 - INFO - trainer -   epoch train loss: 0.426548\n"
     ]
    },
    {
     "name": "stdout",
     "output_type": "stream",
     "text": [
      "train loss: 0.4265484974636295\n"
     ]
    },
    {
     "name": "stderr",
     "output_type": "stream",
     "text": [
      "03/13/2024 21:28:54 - INFO - trainer -   test loss: 0.323542\n",
      "epoch 41 iter 1352: train loss 0.33784. lr 3.000000e-05: 100%|██████████| 1353/1353 [05:19<00:00,  4.24it/s]\n",
      "03/13/2024 21:34:13 - INFO - trainer -   epoch train loss: 0.403244\n"
     ]
    },
    {
     "name": "stdout",
     "output_type": "stream",
     "text": [
      "train loss: 0.4032441485130778\n"
     ]
    },
    {
     "name": "stderr",
     "output_type": "stream",
     "text": [
      "03/13/2024 21:34:27 - INFO - trainer -   test loss: 0.309476\n",
      "epoch 42 iter 1352: train loss 0.32956. lr 3.000000e-05: 100%|██████████| 1353/1353 [05:18<00:00,  4.24it/s]\n",
      "03/13/2024 21:39:46 - INFO - trainer -   epoch train loss: 0.382973\n"
     ]
    },
    {
     "name": "stdout",
     "output_type": "stream",
     "text": [
      "train loss: 0.38297315108185775\n"
     ]
    },
    {
     "name": "stderr",
     "output_type": "stream",
     "text": [
      "03/13/2024 21:40:00 - INFO - trainer -   test loss: 0.296617\n",
      "epoch 43 iter 1352: train loss 0.31380. lr 3.000000e-05: 100%|██████████| 1353/1353 [05:19<00:00,  4.24it/s]\n",
      "03/13/2024 21:45:20 - INFO - trainer -   epoch train loss: 0.365429\n"
     ]
    },
    {
     "name": "stdout",
     "output_type": "stream",
     "text": [
      "train loss: 0.3654294023008058\n"
     ]
    },
    {
     "name": "stderr",
     "output_type": "stream",
     "text": [
      "03/13/2024 21:45:33 - INFO - trainer -   test loss: 0.286982\n",
      "epoch 44 iter 1352: train loss 0.29795. lr 3.000000e-05: 100%|██████████| 1353/1353 [05:18<00:00,  4.24it/s]\n",
      "03/13/2024 21:50:53 - INFO - trainer -   epoch train loss: 0.349987\n"
     ]
    },
    {
     "name": "stdout",
     "output_type": "stream",
     "text": [
      "train loss: 0.3499869820988804\n"
     ]
    },
    {
     "name": "stderr",
     "output_type": "stream",
     "text": [
      "03/13/2024 21:51:06 - INFO - trainer -   test loss: 0.275137\n",
      "epoch 45 iter 1352: train loss 0.28385. lr 3.000000e-05: 100%|██████████| 1353/1353 [05:18<00:00,  4.25it/s]\n",
      "03/13/2024 21:56:25 - INFO - trainer -   epoch train loss: 0.336573\n"
     ]
    },
    {
     "name": "stdout",
     "output_type": "stream",
     "text": [
      "train loss: 0.33657295672609816\n"
     ]
    },
    {
     "name": "stderr",
     "output_type": "stream",
     "text": [
      "03/13/2024 21:56:39 - INFO - trainer -   test loss: 0.264646\n",
      "epoch 46 iter 1352: train loss 0.27365. lr 3.000000e-05: 100%|██████████| 1353/1353 [05:17<00:00,  4.26it/s]\n",
      "03/13/2024 22:01:57 - INFO - trainer -   epoch train loss: 0.323901\n"
     ]
    },
    {
     "name": "stdout",
     "output_type": "stream",
     "text": [
      "train loss: 0.323901228413966\n"
     ]
    },
    {
     "name": "stderr",
     "output_type": "stream",
     "text": [
      "03/13/2024 22:02:11 - INFO - trainer -   test loss: 0.254895\n",
      "epoch 47 iter 1352: train loss 0.27275. lr 3.000000e-05: 100%|██████████| 1353/1353 [05:18<00:00,  4.25it/s]\n",
      "03/13/2024 22:07:29 - INFO - trainer -   epoch train loss: 0.312507\n"
     ]
    },
    {
     "name": "stdout",
     "output_type": "stream",
     "text": [
      "train loss: 0.31250723350603143\n"
     ]
    },
    {
     "name": "stderr",
     "output_type": "stream",
     "text": [
      "03/13/2024 22:07:43 - INFO - trainer -   test loss: 0.246238\n",
      "epoch 48 iter 1352: train loss 0.25119. lr 3.000000e-05: 100%|██████████| 1353/1353 [05:18<00:00,  4.25it/s]\n",
      "03/13/2024 22:13:02 - INFO - trainer -   epoch train loss: 0.301901\n"
     ]
    },
    {
     "name": "stdout",
     "output_type": "stream",
     "text": [
      "train loss: 0.3019008770287698\n"
     ]
    },
    {
     "name": "stderr",
     "output_type": "stream",
     "text": [
      "03/13/2024 22:13:16 - INFO - trainer -   test loss: 0.238263\n",
      "epoch 49 iter 1352: train loss 0.24671. lr 3.000000e-05: 100%|██████████| 1353/1353 [05:18<00:00,  4.25it/s]\n",
      "03/13/2024 22:18:34 - INFO - trainer -   epoch train loss: 0.292211\n"
     ]
    },
    {
     "name": "stdout",
     "output_type": "stream",
     "text": [
      "train loss: 0.2922112907930735\n"
     ]
    },
    {
     "name": "stderr",
     "output_type": "stream",
     "text": [
      "03/13/2024 22:18:48 - INFO - trainer -   test loss: 0.232194\n",
      "epoch 50 iter 1352: train loss 0.24141. lr 3.000000e-05: 100%|██████████| 1353/1353 [05:17<00:00,  4.26it/s]\n",
      "03/13/2024 22:24:06 - INFO - trainer -   epoch train loss: 0.282798\n"
     ]
    },
    {
     "name": "stdout",
     "output_type": "stream",
     "text": [
      "train loss: 0.2827982610561014\n"
     ]
    },
    {
     "name": "stderr",
     "output_type": "stream",
     "text": [
      "03/13/2024 22:24:20 - INFO - trainer -   test loss: 0.225342\n",
      "epoch 51 iter 1352: train loss 0.22780. lr 3.000000e-05: 100%|██████████| 1353/1353 [05:18<00:00,  4.25it/s]\n",
      "03/13/2024 22:29:39 - INFO - trainer -   epoch train loss: 0.273448\n"
     ]
    },
    {
     "name": "stdout",
     "output_type": "stream",
     "text": [
      "train loss: 0.27344802151938674\n"
     ]
    },
    {
     "name": "stderr",
     "output_type": "stream",
     "text": [
      "03/13/2024 22:29:53 - INFO - trainer -   test loss: 0.220623\n",
      "epoch 52 iter 1352: train loss 0.21764. lr 3.000000e-05: 100%|██████████| 1353/1353 [05:18<00:00,  4.25it/s]\n",
      "03/13/2024 22:35:12 - INFO - trainer -   epoch train loss: 0.264170\n"
     ]
    },
    {
     "name": "stdout",
     "output_type": "stream",
     "text": [
      "train loss: 0.2641695957997069\n"
     ]
    },
    {
     "name": "stderr",
     "output_type": "stream",
     "text": [
      "03/13/2024 22:35:25 - INFO - trainer -   test loss: 0.214588\n",
      "epoch 53 iter 1352: train loss 0.21098. lr 3.000000e-05: 100%|██████████| 1353/1353 [05:17<00:00,  4.26it/s]\n",
      "03/13/2024 22:40:43 - INFO - trainer -   epoch train loss: 0.255452\n"
     ]
    },
    {
     "name": "stdout",
     "output_type": "stream",
     "text": [
      "train loss: 0.2554522717408753\n"
     ]
    },
    {
     "name": "stderr",
     "output_type": "stream",
     "text": [
      "03/13/2024 22:40:57 - INFO - trainer -   test loss: 0.210223\n",
      "epoch 54 iter 1352: train loss 0.20710. lr 3.000000e-05: 100%|██████████| 1353/1353 [05:17<00:00,  4.26it/s]\n",
      "03/13/2024 22:46:15 - INFO - trainer -   epoch train loss: 0.247946\n"
     ]
    },
    {
     "name": "stdout",
     "output_type": "stream",
     "text": [
      "train loss: 0.24794647875135242\n"
     ]
    },
    {
     "name": "stderr",
     "output_type": "stream",
     "text": [
      "03/13/2024 22:46:29 - INFO - trainer -   test loss: 0.205668\n",
      "epoch 55 iter 1352: train loss 0.20187. lr 3.000000e-05: 100%|██████████| 1353/1353 [05:18<00:00,  4.25it/s]\n",
      "03/13/2024 22:51:48 - INFO - trainer -   epoch train loss: 0.241703\n"
     ]
    },
    {
     "name": "stdout",
     "output_type": "stream",
     "text": [
      "train loss: 0.24170318221658227\n"
     ]
    },
    {
     "name": "stderr",
     "output_type": "stream",
     "text": [
      "03/13/2024 22:52:01 - INFO - trainer -   test loss: 0.203217\n",
      "epoch 56 iter 1352: train loss 0.19806. lr 3.000000e-05: 100%|██████████| 1353/1353 [05:18<00:00,  4.25it/s]\n",
      "03/13/2024 22:57:20 - INFO - trainer -   epoch train loss: 0.236500\n"
     ]
    },
    {
     "name": "stdout",
     "output_type": "stream",
     "text": [
      "train loss: 0.2364996889632275\n"
     ]
    },
    {
     "name": "stderr",
     "output_type": "stream",
     "text": [
      "03/13/2024 22:57:34 - INFO - trainer -   test loss: 0.200871\n",
      "epoch 57 iter 1352: train loss 0.20265. lr 3.000000e-05: 100%|██████████| 1353/1353 [05:18<00:00,  4.25it/s]\n",
      "03/13/2024 23:02:52 - INFO - trainer -   epoch train loss: 0.232062\n"
     ]
    },
    {
     "name": "stdout",
     "output_type": "stream",
     "text": [
      "train loss: 0.23206161550698418\n"
     ]
    },
    {
     "name": "stderr",
     "output_type": "stream",
     "text": [
      "03/13/2024 23:03:06 - INFO - trainer -   test loss: 0.198736\n",
      "epoch 58 iter 1352: train loss 0.19363. lr 3.000000e-05: 100%|██████████| 1353/1353 [05:17<00:00,  4.26it/s]\n",
      "03/13/2024 23:08:24 - INFO - trainer -   epoch train loss: 0.228135\n"
     ]
    },
    {
     "name": "stdout",
     "output_type": "stream",
     "text": [
      "train loss: 0.22813466320148856\n"
     ]
    },
    {
     "name": "stderr",
     "output_type": "stream",
     "text": [
      "03/13/2024 23:08:38 - INFO - trainer -   test loss: 0.196795\n",
      "epoch 59 iter 1352: train loss 0.19174. lr 3.000000e-05: 100%|██████████| 1353/1353 [05:17<00:00,  4.26it/s]\n",
      "03/13/2024 23:13:56 - INFO - trainer -   epoch train loss: 0.224672\n"
     ]
    },
    {
     "name": "stdout",
     "output_type": "stream",
     "text": [
      "train loss: 0.2246715693079976\n"
     ]
    },
    {
     "name": "stderr",
     "output_type": "stream",
     "text": [
      "03/13/2024 23:14:10 - INFO - trainer -   test loss: 0.194148\n",
      "epoch 60 iter 1352: train loss 0.18815. lr 3.000000e-05: 100%|██████████| 1353/1353 [05:17<00:00,  4.26it/s]\n",
      "03/13/2024 23:19:28 - INFO - trainer -   epoch train loss: 0.221537\n"
     ]
    },
    {
     "name": "stdout",
     "output_type": "stream",
     "text": [
      "train loss: 0.22153712414805307\n"
     ]
    },
    {
     "name": "stderr",
     "output_type": "stream",
     "text": [
      "03/13/2024 23:19:42 - INFO - trainer -   test loss: 0.193514\n",
      "epoch 61 iter 1352: train loss 0.18436. lr 3.000000e-05: 100%|██████████| 1353/1353 [05:18<00:00,  4.25it/s]\n",
      "03/13/2024 23:25:00 - INFO - trainer -   epoch train loss: 0.218687\n"
     ]
    },
    {
     "name": "stdout",
     "output_type": "stream",
     "text": [
      "train loss: 0.21868657897290528\n"
     ]
    },
    {
     "name": "stderr",
     "output_type": "stream",
     "text": [
      "03/13/2024 23:25:14 - INFO - trainer -   test loss: 0.192031\n",
      "epoch 62 iter 1352: train loss 0.18731. lr 3.000000e-05: 100%|██████████| 1353/1353 [05:18<00:00,  4.24it/s]\n",
      "03/13/2024 23:30:33 - INFO - trainer -   epoch train loss: 0.215968\n"
     ]
    },
    {
     "name": "stdout",
     "output_type": "stream",
     "text": [
      "train loss: 0.21596776787122796\n"
     ]
    },
    {
     "name": "stderr",
     "output_type": "stream",
     "text": [
      "03/13/2024 23:30:47 - INFO - trainer -   test loss: 0.190314\n",
      "epoch 63 iter 1352: train loss 0.17829. lr 3.000000e-05: 100%|██████████| 1353/1353 [05:18<00:00,  4.25it/s]\n",
      "03/13/2024 23:36:06 - INFO - trainer -   epoch train loss: 0.213723\n"
     ]
    },
    {
     "name": "stdout",
     "output_type": "stream",
     "text": [
      "train loss: 0.2137231174567322\n"
     ]
    },
    {
     "name": "stderr",
     "output_type": "stream",
     "text": [
      "03/13/2024 23:36:19 - INFO - trainer -   test loss: 0.188426\n",
      "epoch 64 iter 1352: train loss 0.18162. lr 3.000000e-05: 100%|██████████| 1353/1353 [05:17<00:00,  4.26it/s]\n",
      "03/13/2024 23:41:38 - INFO - trainer -   epoch train loss: 0.211334\n"
     ]
    },
    {
     "name": "stdout",
     "output_type": "stream",
     "text": [
      "train loss: 0.21133437002709593\n"
     ]
    },
    {
     "name": "stderr",
     "output_type": "stream",
     "text": [
      "03/13/2024 23:41:52 - INFO - trainer -   test loss: 0.187924\n",
      "epoch 65 iter 1352: train loss 0.17688. lr 3.000000e-05: 100%|██████████| 1353/1353 [05:18<00:00,  4.25it/s]\n",
      "03/13/2024 23:47:10 - INFO - trainer -   epoch train loss: 0.209164\n"
     ]
    },
    {
     "name": "stdout",
     "output_type": "stream",
     "text": [
      "train loss: 0.20916366867902803\n"
     ]
    },
    {
     "name": "stderr",
     "output_type": "stream",
     "text": [
      "03/13/2024 23:47:24 - INFO - trainer -   test loss: 0.186143\n",
      "epoch 66 iter 1352: train loss 0.17873. lr 3.000000e-05: 100%|██████████| 1353/1353 [05:18<00:00,  4.25it/s]\n",
      "03/13/2024 23:52:42 - INFO - trainer -   epoch train loss: 0.207201\n"
     ]
    },
    {
     "name": "stdout",
     "output_type": "stream",
     "text": [
      "train loss: 0.20720104550487098\n"
     ]
    },
    {
     "name": "stderr",
     "output_type": "stream",
     "text": [
      "03/13/2024 23:52:56 - INFO - trainer -   test loss: 0.185043\n",
      "epoch 67 iter 1352: train loss 0.17266. lr 3.000000e-05: 100%|██████████| 1353/1353 [05:19<00:00,  4.24it/s]\n",
      "03/13/2024 23:58:15 - INFO - trainer -   epoch train loss: 0.205277\n"
     ]
    },
    {
     "name": "stdout",
     "output_type": "stream",
     "text": [
      "train loss: 0.20527672245602915\n"
     ]
    },
    {
     "name": "stderr",
     "output_type": "stream",
     "text": [
      "03/13/2024 23:58:29 - INFO - trainer -   test loss: 0.184112\n",
      "epoch 68 iter 1352: train loss 0.17351. lr 3.000000e-05: 100%|██████████| 1353/1353 [05:18<00:00,  4.25it/s]\n",
      "03/14/2024 00:03:48 - INFO - trainer -   epoch train loss: 0.203514\n"
     ]
    },
    {
     "name": "stdout",
     "output_type": "stream",
     "text": [
      "train loss: 0.20351436935745162\n"
     ]
    },
    {
     "name": "stderr",
     "output_type": "stream",
     "text": [
      "03/14/2024 00:04:02 - INFO - trainer -   test loss: 0.182547\n",
      "epoch 69 iter 1352: train loss 0.16797. lr 3.000000e-05: 100%|██████████| 1353/1353 [05:18<00:00,  4.25it/s]\n",
      "03/14/2024 00:09:21 - INFO - trainer -   epoch train loss: 0.201805\n"
     ]
    },
    {
     "name": "stdout",
     "output_type": "stream",
     "text": [
      "train loss: 0.20180489166921275\n"
     ]
    },
    {
     "name": "stderr",
     "output_type": "stream",
     "text": [
      "03/14/2024 00:09:35 - INFO - trainer -   test loss: 0.181570\n",
      "epoch 70 iter 1352: train loss 0.16860. lr 3.000000e-05: 100%|██████████| 1353/1353 [05:18<00:00,  4.25it/s]\n",
      "03/14/2024 00:14:54 - INFO - trainer -   epoch train loss: 0.200134\n"
     ]
    },
    {
     "name": "stdout",
     "output_type": "stream",
     "text": [
      "train loss: 0.20013368467842307\n"
     ]
    },
    {
     "name": "stderr",
     "output_type": "stream",
     "text": [
      "03/14/2024 00:15:07 - INFO - trainer -   test loss: 0.180771\n",
      "epoch 71 iter 1352: train loss 0.16639. lr 3.000000e-05: 100%|██████████| 1353/1353 [05:18<00:00,  4.25it/s]\n",
      "03/14/2024 00:20:26 - INFO - trainer -   epoch train loss: 0.198602\n"
     ]
    },
    {
     "name": "stdout",
     "output_type": "stream",
     "text": [
      "train loss: 0.19860202989266346\n"
     ]
    },
    {
     "name": "stderr",
     "output_type": "stream",
     "text": [
      "03/14/2024 00:20:40 - INFO - trainer -   test loss: 0.180169\n",
      "epoch 72 iter 1352: train loss 0.17559. lr 3.000000e-05: 100%|██████████| 1353/1353 [05:18<00:00,  4.25it/s]\n",
      "03/14/2024 00:25:58 - INFO - trainer -   epoch train loss: 0.197137\n"
     ]
    },
    {
     "name": "stdout",
     "output_type": "stream",
     "text": [
      "train loss: 0.19713746427564557\n"
     ]
    },
    {
     "name": "stderr",
     "output_type": "stream",
     "text": [
      "03/14/2024 00:26:12 - INFO - trainer -   test loss: 0.178957\n",
      "epoch 73 iter 1352: train loss 0.16223. lr 3.000000e-05: 100%|██████████| 1353/1353 [05:18<00:00,  4.25it/s]\n",
      "03/14/2024 00:31:31 - INFO - trainer -   epoch train loss: 0.195777\n"
     ]
    },
    {
     "name": "stdout",
     "output_type": "stream",
     "text": [
      "train loss: 0.19577653406508658\n"
     ]
    },
    {
     "name": "stderr",
     "output_type": "stream",
     "text": [
      "03/14/2024 00:31:44 - INFO - trainer -   test loss: 0.178115\n",
      "epoch 74 iter 1352: train loss 0.16314. lr 3.000000e-05: 100%|██████████| 1353/1353 [05:18<00:00,  4.25it/s]\n",
      "03/14/2024 00:37:03 - INFO - trainer -   epoch train loss: 0.194434\n"
     ]
    },
    {
     "name": "stdout",
     "output_type": "stream",
     "text": [
      "train loss: 0.19443422583457018\n"
     ]
    },
    {
     "name": "stderr",
     "output_type": "stream",
     "text": [
      "03/14/2024 00:37:17 - INFO - trainer -   test loss: 0.177688\n",
      "epoch 75 iter 1352: train loss 0.16531. lr 3.000000e-05: 100%|██████████| 1353/1353 [05:17<00:00,  4.26it/s]\n",
      "03/14/2024 00:42:35 - INFO - trainer -   epoch train loss: 0.193087\n"
     ]
    },
    {
     "name": "stdout",
     "output_type": "stream",
     "text": [
      "train loss: 0.19308688514160388\n"
     ]
    },
    {
     "name": "stderr",
     "output_type": "stream",
     "text": [
      "03/14/2024 00:42:49 - INFO - trainer -   test loss: 0.176512\n",
      "epoch 76 iter 1352: train loss 0.16255. lr 3.000000e-05: 100%|██████████| 1353/1353 [05:17<00:00,  4.26it/s]\n",
      "03/14/2024 00:48:07 - INFO - trainer -   epoch train loss: 0.191867\n"
     ]
    },
    {
     "name": "stdout",
     "output_type": "stream",
     "text": [
      "train loss: 0.19186692542265013\n"
     ]
    },
    {
     "name": "stderr",
     "output_type": "stream",
     "text": [
      "03/14/2024 00:48:21 - INFO - trainer -   test loss: 0.175764\n",
      "epoch 77 iter 1352: train loss 0.15690. lr 3.000000e-05: 100%|██████████| 1353/1353 [05:18<00:00,  4.25it/s]\n",
      "03/14/2024 00:53:40 - INFO - trainer -   epoch train loss: 0.190536\n"
     ]
    },
    {
     "name": "stdout",
     "output_type": "stream",
     "text": [
      "train loss: 0.19053581854808974\n"
     ]
    },
    {
     "name": "stderr",
     "output_type": "stream",
     "text": [
      "03/14/2024 00:53:53 - INFO - trainer -   test loss: 0.174876\n",
      "epoch 78 iter 1352: train loss 0.16108. lr 3.000000e-05: 100%|██████████| 1353/1353 [05:18<00:00,  4.25it/s]\n",
      "03/14/2024 00:59:12 - INFO - trainer -   epoch train loss: 0.189404\n"
     ]
    },
    {
     "name": "stdout",
     "output_type": "stream",
     "text": [
      "train loss: 0.18940430359759333\n"
     ]
    },
    {
     "name": "stderr",
     "output_type": "stream",
     "text": [
      "03/14/2024 00:59:26 - INFO - trainer -   test loss: 0.174566\n",
      "epoch 79 iter 1352: train loss 0.15554. lr 3.000000e-05: 100%|██████████| 1353/1353 [05:17<00:00,  4.26it/s]\n",
      "03/14/2024 01:04:44 - INFO - trainer -   epoch train loss: 0.188216\n"
     ]
    },
    {
     "name": "stdout",
     "output_type": "stream",
     "text": [
      "train loss: 0.1882157527730805\n"
     ]
    },
    {
     "name": "stderr",
     "output_type": "stream",
     "text": [
      "03/14/2024 01:04:58 - INFO - trainer -   test loss: 0.173750\n",
      "epoch 80 iter 1352: train loss 0.15102. lr 3.000000e-05: 100%|██████████| 1353/1353 [05:17<00:00,  4.26it/s]\n",
      "03/14/2024 01:10:16 - INFO - trainer -   epoch train loss: 0.187066\n"
     ]
    },
    {
     "name": "stdout",
     "output_type": "stream",
     "text": [
      "train loss: 0.18706607972791436\n"
     ]
    },
    {
     "name": "stderr",
     "output_type": "stream",
     "text": [
      "03/14/2024 01:10:30 - INFO - trainer -   test loss: 0.173254\n",
      "epoch 81 iter 1352: train loss 0.15291. lr 3.000000e-05: 100%|██████████| 1353/1353 [05:18<00:00,  4.25it/s]\n",
      "03/14/2024 01:15:48 - INFO - trainer -   epoch train loss: 0.186090\n"
     ]
    },
    {
     "name": "stdout",
     "output_type": "stream",
     "text": [
      "train loss: 0.18609007364806648\n"
     ]
    },
    {
     "name": "stderr",
     "output_type": "stream",
     "text": [
      "03/14/2024 01:16:02 - INFO - trainer -   test loss: 0.172790\n",
      "epoch 82 iter 1352: train loss 0.15539. lr 3.000000e-05: 100%|██████████| 1353/1353 [05:17<00:00,  4.26it/s]\n",
      "03/14/2024 01:21:20 - INFO - trainer -   epoch train loss: 0.185006\n"
     ]
    },
    {
     "name": "stdout",
     "output_type": "stream",
     "text": [
      "train loss: 0.18500583631544754\n"
     ]
    },
    {
     "name": "stderr",
     "output_type": "stream",
     "text": [
      "03/14/2024 01:21:34 - INFO - trainer -   test loss: 0.171969\n",
      "epoch 83 iter 1352: train loss 0.15524. lr 3.000000e-05: 100%|██████████| 1353/1353 [05:18<00:00,  4.25it/s]\n",
      "03/14/2024 01:26:53 - INFO - trainer -   epoch train loss: 0.183920\n"
     ]
    },
    {
     "name": "stdout",
     "output_type": "stream",
     "text": [
      "train loss: 0.18391964295486654\n"
     ]
    },
    {
     "name": "stderr",
     "output_type": "stream",
     "text": [
      "03/14/2024 01:27:07 - INFO - trainer -   test loss: 0.171549\n",
      "epoch 84 iter 1352: train loss 0.14838. lr 3.000000e-05: 100%|██████████| 1353/1353 [05:19<00:00,  4.24it/s]\n",
      "03/14/2024 01:32:27 - INFO - trainer -   epoch train loss: 0.182978\n"
     ]
    },
    {
     "name": "stdout",
     "output_type": "stream",
     "text": [
      "train loss: 0.18297758475992298\n"
     ]
    },
    {
     "name": "stderr",
     "output_type": "stream",
     "text": [
      "03/14/2024 01:32:40 - INFO - trainer -   test loss: 0.171311\n",
      "epoch 85 iter 1352: train loss 0.15025. lr 3.000000e-05: 100%|██████████| 1353/1353 [05:19<00:00,  4.24it/s]\n",
      "03/14/2024 01:38:00 - INFO - trainer -   epoch train loss: 0.182023\n"
     ]
    },
    {
     "name": "stdout",
     "output_type": "stream",
     "text": [
      "train loss: 0.182022637952634\n"
     ]
    },
    {
     "name": "stderr",
     "output_type": "stream",
     "text": [
      "03/14/2024 01:38:14 - INFO - trainer -   test loss: 0.170244\n",
      "epoch 86 iter 1352: train loss 0.14967. lr 3.000000e-05: 100%|██████████| 1353/1353 [05:19<00:00,  4.24it/s]\n",
      "03/14/2024 01:43:34 - INFO - trainer -   epoch train loss: 0.181039\n"
     ]
    },
    {
     "name": "stdout",
     "output_type": "stream",
     "text": [
      "train loss: 0.18103904160894646\n"
     ]
    },
    {
     "name": "stderr",
     "output_type": "stream",
     "text": [
      "03/14/2024 01:43:48 - INFO - trainer -   test loss: 0.169909\n",
      "epoch 87 iter 1352: train loss 0.15040. lr 3.000000e-05: 100%|██████████| 1353/1353 [05:19<00:00,  4.23it/s]\n",
      "03/14/2024 01:49:08 - INFO - trainer -   epoch train loss: 0.180076\n"
     ]
    },
    {
     "name": "stdout",
     "output_type": "stream",
     "text": [
      "train loss: 0.18007647070458266\n"
     ]
    },
    {
     "name": "stderr",
     "output_type": "stream",
     "text": [
      "03/14/2024 01:49:22 - INFO - trainer -   test loss: 0.169333\n",
      "epoch 88 iter 1352: train loss 0.14888. lr 3.000000e-05: 100%|██████████| 1353/1353 [05:19<00:00,  4.24it/s]\n",
      "03/14/2024 01:54:42 - INFO - trainer -   epoch train loss: 0.179161\n"
     ]
    },
    {
     "name": "stdout",
     "output_type": "stream",
     "text": [
      "train loss: 0.17916064322303157\n"
     ]
    },
    {
     "name": "stderr",
     "output_type": "stream",
     "text": [
      "03/14/2024 01:54:56 - INFO - trainer -   test loss: 0.168362\n",
      "epoch 89 iter 1352: train loss 0.14387. lr 3.000000e-05: 100%|██████████| 1353/1353 [05:18<00:00,  4.25it/s]\n",
      "03/14/2024 02:00:15 - INFO - trainer -   epoch train loss: 0.178246\n"
     ]
    },
    {
     "name": "stdout",
     "output_type": "stream",
     "text": [
      "train loss: 0.17824607339728257\n"
     ]
    },
    {
     "name": "stderr",
     "output_type": "stream",
     "text": [
      "03/14/2024 02:00:28 - INFO - trainer -   test loss: 0.167978\n",
      "epoch 90 iter 1352: train loss 0.14806. lr 3.000000e-05: 100%|██████████| 1353/1353 [05:17<00:00,  4.26it/s]\n",
      "03/14/2024 02:05:47 - INFO - trainer -   epoch train loss: 0.177433\n"
     ]
    },
    {
     "name": "stdout",
     "output_type": "stream",
     "text": [
      "train loss: 0.1774325746236161\n"
     ]
    },
    {
     "name": "stderr",
     "output_type": "stream",
     "text": [
      "03/14/2024 02:06:01 - INFO - trainer -   test loss: 0.167609\n",
      "epoch 91 iter 1352: train loss 0.14579. lr 3.000000e-05: 100%|██████████| 1353/1353 [05:17<00:00,  4.26it/s]\n",
      "03/14/2024 02:11:19 - INFO - trainer -   epoch train loss: 0.176511\n"
     ]
    },
    {
     "name": "stdout",
     "output_type": "stream",
     "text": [
      "train loss: 0.17651091671307176\n"
     ]
    },
    {
     "name": "stderr",
     "output_type": "stream",
     "text": [
      "03/14/2024 02:11:33 - INFO - trainer -   test loss: 0.167105\n",
      "epoch 92 iter 1352: train loss 0.14464. lr 3.000000e-05: 100%|██████████| 1353/1353 [05:18<00:00,  4.25it/s]\n",
      "03/14/2024 02:16:51 - INFO - trainer -   epoch train loss: 0.175791\n"
     ]
    },
    {
     "name": "stdout",
     "output_type": "stream",
     "text": [
      "train loss: 0.17579082103896299\n"
     ]
    },
    {
     "name": "stderr",
     "output_type": "stream",
     "text": [
      "03/14/2024 02:17:05 - INFO - trainer -   test loss: 0.167348\n",
      "epoch 93 iter 1352: train loss 0.14327. lr 3.000000e-05: 100%|██████████| 1353/1353 [05:17<00:00,  4.26it/s]\n",
      "03/14/2024 02:22:23 - INFO - trainer -   epoch train loss: 0.175002\n"
     ]
    },
    {
     "name": "stdout",
     "output_type": "stream",
     "text": [
      "train loss: 0.17500188845400447\n"
     ]
    },
    {
     "name": "stderr",
     "output_type": "stream",
     "text": [
      "03/14/2024 02:22:37 - INFO - trainer -   test loss: 0.166466\n",
      "epoch 94 iter 1352: train loss 0.14683. lr 3.000000e-05: 100%|██████████| 1353/1353 [05:17<00:00,  4.26it/s]\n",
      "03/14/2024 02:27:55 - INFO - trainer -   epoch train loss: 0.174147\n"
     ]
    },
    {
     "name": "stdout",
     "output_type": "stream",
     "text": [
      "train loss: 0.1741472084876439\n"
     ]
    },
    {
     "name": "stderr",
     "output_type": "stream",
     "text": [
      "03/14/2024 02:28:09 - INFO - trainer -   test loss: 0.166144\n",
      "epoch 95 iter 1352: train loss 0.14625. lr 3.000000e-05: 100%|██████████| 1353/1353 [05:17<00:00,  4.26it/s]\n",
      "03/14/2024 02:33:28 - INFO - trainer -   epoch train loss: 0.173353\n"
     ]
    },
    {
     "name": "stdout",
     "output_type": "stream",
     "text": [
      "train loss: 0.17335346105445867\n"
     ]
    },
    {
     "name": "stderr",
     "output_type": "stream",
     "text": [
      "03/14/2024 02:33:41 - INFO - trainer -   test loss: 0.165503\n",
      "epoch 96 iter 1352: train loss 0.14041. lr 3.000000e-05: 100%|██████████| 1353/1353 [05:18<00:00,  4.24it/s]\n",
      "03/14/2024 02:39:01 - INFO - trainer -   epoch train loss: 0.172728\n"
     ]
    },
    {
     "name": "stdout",
     "output_type": "stream",
     "text": [
      "train loss: 0.17272825514882562\n"
     ]
    },
    {
     "name": "stderr",
     "output_type": "stream",
     "text": [
      "03/14/2024 02:39:14 - INFO - trainer -   test loss: 0.165224\n",
      "epoch 97 iter 1352: train loss 0.13840. lr 3.000000e-05: 100%|██████████| 1353/1353 [05:18<00:00,  4.24it/s]\n",
      "03/14/2024 02:44:34 - INFO - trainer -   epoch train loss: 0.171921\n"
     ]
    },
    {
     "name": "stdout",
     "output_type": "stream",
     "text": [
      "train loss: 0.1719214161809779\n"
     ]
    },
    {
     "name": "stderr",
     "output_type": "stream",
     "text": [
      "03/14/2024 02:44:48 - INFO - trainer -   test loss: 0.165545\n",
      "epoch 98 iter 1352: train loss 0.14025. lr 3.000000e-05: 100%|██████████| 1353/1353 [05:19<00:00,  4.24it/s]\n",
      "03/14/2024 02:50:07 - INFO - trainer -   epoch train loss: 0.171300\n"
     ]
    },
    {
     "name": "stdout",
     "output_type": "stream",
     "text": [
      "train loss: 0.17129971770912475\n"
     ]
    },
    {
     "name": "stderr",
     "output_type": "stream",
     "text": [
      "03/14/2024 02:50:21 - INFO - trainer -   test loss: 0.164459\n",
      "epoch 99 iter 1352: train loss 0.13922. lr 3.000000e-05: 100%|██████████| 1353/1353 [05:18<00:00,  4.25it/s]\n",
      "03/14/2024 02:55:40 - INFO - trainer -   epoch train loss: 0.170512\n"
     ]
    },
    {
     "name": "stdout",
     "output_type": "stream",
     "text": [
      "train loss: 0.1705123167719034\n"
     ]
    },
    {
     "name": "stderr",
     "output_type": "stream",
     "text": [
      "03/14/2024 02:55:54 - INFO - trainer -   test loss: 0.164587\n",
      "epoch 100 iter 1352: train loss 0.13833. lr 3.000000e-05: 100%|██████████| 1353/1353 [05:17<00:00,  4.26it/s]\n",
      "03/14/2024 03:01:12 - INFO - trainer -   epoch train loss: 0.169909\n"
     ]
    },
    {
     "name": "stdout",
     "output_type": "stream",
     "text": [
      "train loss: 0.16990903396564153\n"
     ]
    },
    {
     "name": "stderr",
     "output_type": "stream",
     "text": [
      "03/14/2024 03:01:26 - INFO - trainer -   test loss: 0.163983\n"
     ]
    },
    {
     "name": "stdout",
     "output_type": "stream",
     "text": [
      "Model ../models/model_epochs->100_heads->4_embd->192_batch->32_new_midi_embeddings saved\n"
     ]
    },
    {
     "name": "stderr",
     "output_type": "stream",
     "text": [
      "wandb: WARNING Source type is set to 'repo' but some required information is missing from the environment. A job will not be created from this run. See https://docs.wandb.ai/guides/launch/create-job\n"
     ]
    },
    {
     "data": {
      "application/vnd.jupyter.widget-view+json": {
       "model_id": "b0ef9110ae9a470f8f0db8df2f9559b9",
       "version_major": 2,
       "version_minor": 0
      },
      "text/plain": [
       "VBox(children=(Label(value='0.005 MB of 0.005 MB uploaded\\r'), FloatProgress(value=1.0, max=1.0)))"
      ]
     },
     "metadata": {},
     "output_type": "display_data"
    },
    {
     "data": {
      "text/html": [
       "<style>\n",
       "    table.wandb td:nth-child(1) { padding: 0 10px; text-align: left ; width: auto;} td:nth-child(2) {text-align: left ; width: 100%}\n",
       "    .wandb-row { display: flex; flex-direction: row; flex-wrap: wrap; justify-content: flex-start; width: 100% }\n",
       "    .wandb-col { display: flex; flex-direction: column; flex-basis: 100%; flex: 1; padding: 10px; }\n",
       "    </style>\n",
       "<div class=\"wandb-row\"><div class=\"wandb-col\"><h3>Run history:</h3><br/><table class=\"wandb\"><tr><td>Train loss</td><td>█▄▄▄▄▃▃▃▃▃▃▃▃▃▂▂▂▁▁▁▁▁▁▁▁▁▁▁▁▁▁▁▁▁▁▁▁▁▁▁</td></tr><tr><td>Validation loss</td><td>█▇▆▆▅▅▅▅▅▅▅▄▄▃▂▂▂▂▁▁▁▁▁▁▁▁▁▁▁▁▁▁▁▁▁▁▁▁▁▁</td></tr><tr><td>hits@1</td><td>▁▂▃▃▃▃▃▃▄▄▄▄▅▅▆▇▇▇▇▇████████████████████</td></tr><tr><td>hits@3</td><td>▁▃▅▅▅▅▆▆▆▆▆▆▆▇██████████████████████████</td></tr><tr><td>hits@5</td><td>▁▂▅▅▆▆▆▆▇▇▇▇▇▇██████████████████████████</td></tr></table><br/></div><div class=\"wandb-col\"><h3>Run summary:</h3><br/><table class=\"wandb\"><tr><td>Train loss</td><td>0.16991</td></tr><tr><td>Validation loss</td><td>0.16398</td></tr><tr><td>hits@1</td><td>0.95847</td></tr><tr><td>hits@3</td><td>0.98835</td></tr><tr><td>hits@5</td><td>0.99313</td></tr></table><br/></div></div>"
      ],
      "text/plain": [
       "<IPython.core.display.HTML object>"
      ]
     },
     "metadata": {},
     "output_type": "display_data"
    },
    {
     "data": {
      "text/html": [
       " View run <strong style=\"color:#cdcd00\">wise-voice-11</strong> at: <a href='https://wandb.ai/music_gpt/music_gpt_new_voicing/runs/a10d2sp5' target=\"_blank\">https://wandb.ai/music_gpt/music_gpt_new_voicing/runs/a10d2sp5</a><br/>Synced 5 W&B file(s), 0 media file(s), 0 artifact file(s) and 0 other file(s)"
      ],
      "text/plain": [
       "<IPython.core.display.HTML object>"
      ]
     },
     "metadata": {},
     "output_type": "display_data"
    },
    {
     "data": {
      "text/html": [
       "Find logs at: <code>./wandb/run-20240313_174627-a10d2sp5/logs</code>"
      ],
      "text/plain": [
       "<IPython.core.display.HTML object>"
      ]
     },
     "metadata": {},
     "output_type": "display_data"
    }
   ],
   "source": [
    "epochs = 100\n",
    "embedding = 192\n",
    "heads = 4\n",
    "layers = 4\n",
    "batch_size = 32\n",
    "learning_rate = 3e-5\n",
    "num_workers = 4\n",
    "midi_vocab = 128\n",
    "\n",
    "mconf = GPTConfig(len(tokens), dataset.block_size, midi_vocab, n_layer=layers, n_head=heads, n_embd=embedding)\n",
    "session_model = GPT(mconf)\n",
    "MODEL_NAME = \"../models/model_\"+ \"epochs->\" + str(epochs) + \"_heads->\" + str(heads) + \"_embd->\" + str(embedding) + \"_batch->\" + str(batch_size) + \"_new_midi_embeddings\"\n",
    "print(MODEL_NAME)\n",
    "\n",
    "session_model = load_model(MODEL_NAME, session_model)\n",
    "\n",
    "if (session_model == None):\n",
    "    #mconf = GPTConfig(len(tokens), dataset.block_size, n_layer=layers, n_head=heads, n_embd=embbedings)\n",
    "    session_model = GPT(mconf)\n",
    "    tconf = TrainerConfig(max_epochs=epochs, \n",
    "                          batch_size=batch_size, \n",
    "                          learning_rate=learning_rate, \n",
    "                          num_workers=num_workers\n",
    "                          )\n",
    "    writer = SummaryWriter(log_dir='../runs/'+'logs') \n",
    "    trainer = Trainer(session_model, dataset, validation, tconf, writer)\n",
    "    trainer.train()\n",
    "    save_model(MODEL_NAME, session_model)\n",
    "    # [optional] finish the wandb run, necessary in notebooks\n",
    "    wandb.finish()"
   ]
  }
 ],
 "metadata": {
  "kernelspec": {
   "display_name": "Python 3",
   "language": "python",
   "name": "python3"
  },
  "language_info": {
   "codemirror_mode": {
    "name": "ipython",
    "version": 3
   },
   "file_extension": ".py",
   "mimetype": "text/x-python",
   "name": "python",
   "nbconvert_exporter": "python",
   "pygments_lexer": "ipython3",
   "version": "3.10.12"
  }
 },
 "nbformat": 4,
 "nbformat_minor": 2
}
