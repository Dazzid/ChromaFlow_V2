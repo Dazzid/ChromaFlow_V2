{
 "cells": [
  {
   "cell_type": "code",
   "execution_count": 1,
   "metadata": {},
   "outputs": [
    {
     "name": "stderr",
     "output_type": "stream",
     "text": [
      "/usr/local/lib/python3.10/dist-packages/tqdm/auto.py:21: TqdmWarning: IProgress not found. Please update jupyter and ipywidgets. See https://ipywidgets.readthedocs.io/en/stable/user_install.html\n",
      "  from .autonotebook import tqdm as notebook_tqdm\n"
     ]
    }
   ],
   "source": [
    "from trainer import Trainer, TrainerConfig\n",
    "from mingpt_utils import set_seed\n",
    "from model import GPT, GPTConfig\n",
    "import torch\n",
    "from utils import *\n",
    "\n",
    "from torch.utils.tensorboard import SummaryWriter\n",
    "from mingpt_utils import sample\n",
    "torch.cuda.empty_cache()"
   ]
  },
  {
   "cell_type": "code",
   "execution_count": 2,
   "metadata": {},
   "outputs": [
    {
     "name": "stdout",
     "output_type": "stream",
     "text": [
      "Available devices:  2\n",
      "torch version: 2.2.0a0+81ea7a4\n",
      "cudnn version: 8907\n",
      "cuda version: 12.3\n"
     ]
    }
   ],
   "source": [
    "print(\"Available devices: \", torch.cuda.device_count())\n",
    "print(\"torch version:\", torch.__version__)\n",
    "print(\"cudnn version:\", torch.backends.cudnn.version())\n",
    "print(\"cuda version:\", torch.version.cuda)"
   ]
  },
  {
   "cell_type": "code",
   "execution_count": 3,
   "metadata": {},
   "outputs": [],
   "source": [
    "max_length = 1024\n",
    "id = 0\n",
    "tokens = np.load('../data/formatted/tokens.npy', allow_pickle=True)\n",
    "train = np.load('../data/shuffled/dataset_train.npy', allow_pickle=True)\n",
    "test = np.load('../data/shuffled/dataset_test.npy', allow_pickle=True)\n",
    "midi_train = np.load('../data/shuffled/midi_train.npy', allow_pickle=True)\n",
    "midi_test = np.load('../data/shuffled/midi_test.npy', allow_pickle=True)"
   ]
  },
  {
   "cell_type": "code",
   "execution_count": 5,
   "metadata": {},
   "outputs": [
    {
     "name": "stdout",
     "output_type": "stream",
     "text": [
      "Pad tokens: 16773876, Percentage: 37.86%\n"
     ]
    }
   ],
   "source": [
    "pad_tokens = 0\n",
    "elements = 0\n",
    "for song in train:\n",
    "    for e in song:\n",
    "        if e == '<pad>':\n",
    "            pad_tokens += 1\n",
    "        elements += 1\n",
    "\n",
    "percentage = pad_tokens / elements * 100\n",
    "print(f\"Pad tokens: {pad_tokens}, Percentage: {percentage:.2f}%\") "
   ]
  },
  {
   "cell_type": "code",
   "execution_count": 5,
   "metadata": {},
   "outputs": [],
   "source": [
    "#Convert midi into dtype int\n",
    "midi_train = midi_train.astype(int)\n",
    "midi_test = midi_test.astype(int)"
   ]
  },
  {
   "cell_type": "code",
   "execution_count": 6,
   "metadata": {},
   "outputs": [
    {
     "name": "stdout",
     "output_type": "stream",
     "text": [
      "(43272, 1024) (4800, 1024) (43272, 1024, 8) (4800, 1024, 8)\n",
      "data has 43272 pieces, 198 unique tokens.\n",
      "data has 4800 pieces, 198 unique tokens.\n"
     ]
    }
   ],
   "source": [
    "print(train.shape, test.shape, midi_train.shape, midi_test.shape)\n",
    "\n",
    "dataset = TokenDatasetMidi(train, midi_train,  max_length, tokens)\n",
    "validation = TokenDatasetMidi(test, midi_test, max_length, tokens)"
   ]
  },
  {
   "cell_type": "code",
   "execution_count": 7,
   "metadata": {},
   "outputs": [
    {
     "name": "stdout",
     "output_type": "stream",
     "text": [
      "{'.': 0, '/': 1, '0.3997395833333333': 2, '0.4440104166666667': 3, '0.5': 4, '0.5703125': 5, '0.6666666666666666': 6, '0.75': 7, '0.7994791666666666': 8, '0.8880208333333334': 9, '1.0': 10, '1.1419270833333333': 11, '1.3333333333333333': 12, '1.5': 13, '1.5989583333333333': 14, '1.7135416666666667': 15, '128 Feel': 16, '2.0': 17, '2.25': 18, '2.3997395833333335': 19, '2.6666666666666665': 20, '3.0': 21, '4.0': 22, ':|': 23, '<end>': 24, '<pad>': 25, '<start>': 26, '<style>': 27, 'A': 28, 'A major': 29, 'A minor': 30, 'A#': 31, 'A##': 32, 'Ab': 33, 'Ab major': 34, 'Ab minor': 35, 'Abb': 36, 'Afoxé': 37, 'Afro': 38, 'B': 39, 'B major': 40, 'B minor': 41, 'B#': 42, 'B##': 43, 'Baião': 44, 'Ballad': 45, 'Bb': 46, 'Bb major': 47, 'Bb minor': 48, 'Bbb': 49, 'Blues': 50, 'Bolero': 51, 'Bolero-Cha': 52, 'Bossa': 53, 'C': 54, 'C major': 55, 'C minor': 56, 'C#': 57, 'C##': 58, 'Calypso': 59, 'Cb': 60, 'Cbb': 61, 'Cha Cha': 62, 'Chacarera': 63, 'Choro': 64, 'Country Ballad': 65, 'D': 66, 'D major': 67, 'D minor': 68, 'D#': 69, 'D##': 70, 'Db': 71, 'Db major': 72, 'Db minor': 73, 'Dbb': 74, 'Disco': 75, 'Dreamlike': 76, 'E': 77, 'E major': 78, 'E minor': 79, 'E#': 80, 'E##': 81, 'Eb': 82, 'Eb major': 83, 'Eb minor': 84, 'Ebb': 85, 'Even 16ths': 86, 'Even 8ths': 87, 'F': 88, 'F major': 89, 'F minor': 90, 'F#': 91, 'F##': 92, 'Fb': 93, 'Fbb': 94, 'Folk': 95, 'Form_A': 96, 'Form_B': 97, 'Form_C': 98, 'Form_Coda': 99, 'Form_D': 100, 'Form_Segno': 101, 'Form_intro': 102, 'Form_verse': 103, 'Forró': 104, 'Foxtrot': 105, 'Frevo': 106, 'Funk': 107, 'G': 108, 'G major': 109, 'G minor': 110, 'G#': 111, 'G##': 112, 'Gary Aprile': 113, 'Gb': 114, 'Gb major': 115, 'Gb minor': 116, 'Gbb': 117, 'Gospel': 118, 'Gospel Ballad': 119, 'Gypsy Waltz': 120, 'Hymn': 121, 'Jazz': 122, 'Latin': 123, 'Mambo': 124, 'March': 125, 'Marchinha': 126, 'Maxixe': 127, 'Med Up Latin': 128, 'Medium Ballad': 129, 'Medium Country': 130, 'Medium Shuffle': 131, 'Medium Slow': 132, 'Medium Up': 133, 'Medium Waltz': 134, 'Merengue': 135, 'Moderate Latin': 136, 'Montuno': 137, 'Musical': 138, 'N.C.': 139, 'Pop': 140, 'Power Ballad': 141, 'Reggae': 142, 'Repeat_0': 143, 'Repeat_1': 144, 'Repeat_2': 145, 'Repeat_3': 146, 'RnB': 147, 'Rock': 148, 'Salsa': 149, 'Samba': 150, 'Shuffle': 151, 'Slow Ballad': 152, 'Slow Shuffle': 153, 'Slowly': 154, 'Son': 155, 'Soul': 156, 'Tango': 157, 'Tonality': 158, 'Up Tempo': 159, 'Up Waltz (One Feel)': 160, 'Waltz': 161, 'add #11': 162, 'add #5': 163, 'add #7': 164, 'add #9': 165, 'add 11': 166, 'add 13': 167, 'add 2': 168, 'add 7': 169, 'add 9': 170, 'add b13': 171, 'add b6': 172, 'add b9': 173, 'alter #11': 174, 'alter #5': 175, 'alter #9': 176, 'alter b5': 177, 'alter b9': 178, 'aug': 179, 'b||': 180, 'dom7': 181, 'e||': 182, 'm': 183, 'm6': 184, 'm7': 185, 'maj': 186, 'maj6': 187, 'maj7': 188, 'major-13th': 189, 'o': 190, 'o7': 191, 'o_maj7': 192, 'power': 193, 'sus4': 194, 'sus7': 195, '|': 196, '|:': 197}\n"
     ]
    }
   ],
   "source": [
    "stoi = { tk:i for i,tk in enumerate(tokens) }\n",
    "itos = { i:tk for i,tk in enumerate(tokens) }\n",
    "\n",
    "print(stoi)"
   ]
  },
  {
   "cell_type": "code",
   "execution_count": 8,
   "metadata": {},
   "outputs": [
    {
     "name": "stderr",
     "output_type": "stream",
     "text": [
      "03/17/2024 21:27:03 - ERROR - wandb.jupyter -   Failed to detect the name of this notebook, you can set it manually with the WANDB_NOTEBOOK_NAME environment variable to enable code saving.\n",
      "\u001b[34m\u001b[1mwandb\u001b[0m: Currently logged in as: \u001b[33mdazzid\u001b[0m (\u001b[33mmusic_gpt\u001b[0m). Use \u001b[1m`wandb login --relogin`\u001b[0m to force relogin\n"
     ]
    },
    {
     "data": {
      "text/html": [
       "Tracking run with wandb version 0.16.4"
      ],
      "text/plain": [
       "<IPython.core.display.HTML object>"
      ]
     },
     "metadata": {},
     "output_type": "display_data"
    },
    {
     "data": {
      "text/html": [
       "Run data is saved locally in <code>/workspace/src/wandb/run-20240317_212705-sfcbyp74</code>"
      ],
      "text/plain": [
       "<IPython.core.display.HTML object>"
      ]
     },
     "metadata": {},
     "output_type": "display_data"
    },
    {
     "data": {
      "text/html": [
       "Syncing run <strong><a href='https://wandb.ai/music_gpt/music_gpt_new_voicing/runs/sfcbyp74' target=\"_blank\">decent-feather-22</a></strong> to <a href='https://wandb.ai/music_gpt/music_gpt_new_voicing' target=\"_blank\">Weights & Biases</a> (<a href='https://wandb.me/run' target=\"_blank\">docs</a>)<br/>"
      ],
      "text/plain": [
       "<IPython.core.display.HTML object>"
      ]
     },
     "metadata": {},
     "output_type": "display_data"
    },
    {
     "data": {
      "text/html": [
       " View project at <a href='https://wandb.ai/music_gpt/music_gpt_new_voicing' target=\"_blank\">https://wandb.ai/music_gpt/music_gpt_new_voicing</a>"
      ],
      "text/plain": [
       "<IPython.core.display.HTML object>"
      ]
     },
     "metadata": {},
     "output_type": "display_data"
    },
    {
     "data": {
      "text/html": [
       " View run at <a href='https://wandb.ai/music_gpt/music_gpt_new_voicing/runs/sfcbyp74' target=\"_blank\">https://wandb.ai/music_gpt/music_gpt_new_voicing/runs/sfcbyp74</a>"
      ],
      "text/plain": [
       "<IPython.core.display.HTML object>"
      ]
     },
     "metadata": {},
     "output_type": "display_data"
    },
    {
     "data": {
      "text/html": [
       "<button onClick=\"this.nextSibling.style.display='block';this.style.display='none';\">Display W&B run</button><iframe src='https://wandb.ai/music_gpt/music_gpt_new_voicing/runs/sfcbyp74?jupyter=true' style='border:none;width:100%;height:420px;display:none;'></iframe>"
      ],
      "text/plain": [
       "<wandb.sdk.wandb_run.Run at 0x7f2d2cebce50>"
      ]
     },
     "execution_count": 8,
     "metadata": {},
     "output_type": "execute_result"
    }
   ],
   "source": [
    "import wandb\n",
    "#wandb.login()\n",
    "wandb.init(\n",
    "    # set the wandb project where this run will be logged\n",
    "    project=\"music_gpt_new_voicing\",\n",
    "    \n",
    "    # track hyperparameters and run metadata\n",
    "    config={\n",
    "    \"learning_rate\": 3e-5,\n",
    "    \"architecture\": \"Transformer - minGPT\",\n",
    "    \"dataset\": \"chords from iRealPro\",\n",
    "    \"epochs\": 90,\n",
    "    }\n",
    ")"
   ]
  },
  {
   "cell_type": "code",
   "execution_count": 9,
   "metadata": {},
   "outputs": [],
   "source": [
    "# import subprocess\n",
    "\n",
    "# # Example command to list processes using GPU (this won't run here due to sandbox restrictions)\n",
    "# output = subprocess.run(['nvidia-smi'], capture_output=True, text=True)\n",
    "# print(output.stdout)"
   ]
  },
  {
   "cell_type": "code",
   "execution_count": 10,
   "metadata": {},
   "outputs": [
    {
     "name": "stderr",
     "output_type": "stream",
     "text": [
      "03/17/2024 21:27:06 - INFO - model -   number of parameters: 3.269632e+06\n",
      "03/17/2024 21:27:06 - INFO - model -   number of parameters: 3.269632e+06\n"
     ]
    },
    {
     "name": "stdout",
     "output_type": "stream",
     "text": [
      "../models/model_epochs->120_heads->4_embd->256_batch->128_new_midi_embeddings\n"
     ]
    },
    {
     "name": "stderr",
     "output_type": "stream",
     "text": [
      "epoch 1 iter 338: train loss 3.09026. lr 3.000000e-05: 100%|██████████| 339/339 [01:43<00:00,  3.28it/s]\n",
      "03/17/2024 21:28:51 - INFO - trainer -   epoch train loss: 3.514809\n"
     ]
    },
    {
     "name": "stdout",
     "output_type": "stream",
     "text": [
      "train loss: 3.514809305337326\n"
     ]
    },
    {
     "name": "stderr",
     "output_type": "stream",
     "text": [
      "03/17/2024 21:28:56 - INFO - trainer -   test loss: 3.023743\n",
      "epoch 2 iter 338: train loss 2.17359. lr 3.000000e-05: 100%|██████████| 339/339 [01:42<00:00,  3.32it/s]\n",
      "03/17/2024 21:30:39 - INFO - trainer -   epoch train loss: 2.573770\n"
     ]
    },
    {
     "name": "stdout",
     "output_type": "stream",
     "text": [
      "train loss: 2.573770189707258\n"
     ]
    },
    {
     "name": "stderr",
     "output_type": "stream",
     "text": [
      "03/17/2024 21:30:43 - INFO - trainer -   test loss: 1.840009\n",
      "epoch 3 iter 338: train loss 1.77920. lr 3.000000e-05: 100%|██████████| 339/339 [01:42<00:00,  3.32it/s]\n",
      "03/17/2024 21:32:26 - INFO - trainer -   epoch train loss: 1.854587\n"
     ]
    },
    {
     "name": "stdout",
     "output_type": "stream",
     "text": [
      "train loss: 1.8545866300926095\n"
     ]
    },
    {
     "name": "stderr",
     "output_type": "stream",
     "text": [
      "03/17/2024 21:32:31 - INFO - trainer -   test loss: 1.635684\n",
      "epoch 4 iter 338: train loss 1.66414. lr 3.000000e-05: 100%|██████████| 339/339 [01:42<00:00,  3.32it/s]\n",
      "03/17/2024 21:34:13 - INFO - trainer -   epoch train loss: 1.656630\n"
     ]
    },
    {
     "name": "stdout",
     "output_type": "stream",
     "text": [
      "train loss: 1.6566298387746896\n"
     ]
    },
    {
     "name": "stderr",
     "output_type": "stream",
     "text": [
      "03/17/2024 21:34:18 - INFO - trainer -   test loss: 1.553281\n",
      "epoch 5 iter 338: train loss 1.62651. lr 3.000000e-05: 100%|██████████| 339/339 [01:42<00:00,  3.30it/s]\n",
      "03/17/2024 21:36:01 - INFO - trainer -   epoch train loss: 1.589226\n"
     ]
    },
    {
     "name": "stdout",
     "output_type": "stream",
     "text": [
      "train loss: 1.5892259033732006\n"
     ]
    },
    {
     "name": "stderr",
     "output_type": "stream",
     "text": [
      "03/17/2024 21:36:06 - INFO - trainer -   test loss: 1.516154\n",
      "epoch 6 iter 338: train loss 1.59768. lr 3.000000e-05: 100%|██████████| 339/339 [01:42<00:00,  3.32it/s]\n",
      "03/17/2024 21:37:48 - INFO - trainer -   epoch train loss: 1.532560\n"
     ]
    },
    {
     "name": "stdout",
     "output_type": "stream",
     "text": [
      "train loss: 1.5325602451256946\n"
     ]
    },
    {
     "name": "stderr",
     "output_type": "stream",
     "text": [
      "03/17/2024 21:37:53 - INFO - trainer -   test loss: 1.477246\n",
      "epoch 7 iter 338: train loss 1.53405. lr 3.000000e-05: 100%|██████████| 339/339 [01:42<00:00,  3.32it/s]\n",
      "03/17/2024 21:39:36 - INFO - trainer -   epoch train loss: 1.470081\n"
     ]
    },
    {
     "name": "stdout",
     "output_type": "stream",
     "text": [
      "train loss: 1.4700814373021984\n"
     ]
    },
    {
     "name": "stderr",
     "output_type": "stream",
     "text": [
      "03/17/2024 21:39:40 - INFO - trainer -   test loss: 1.427990\n",
      "epoch 8 iter 338: train loss 1.50780. lr 3.000000e-05: 100%|██████████| 339/339 [01:42<00:00,  3.32it/s]\n",
      "03/17/2024 21:41:23 - INFO - trainer -   epoch train loss: 1.426326\n"
     ]
    },
    {
     "name": "stdout",
     "output_type": "stream",
     "text": [
      "train loss: 1.4263264689825277\n"
     ]
    },
    {
     "name": "stderr",
     "output_type": "stream",
     "text": [
      "03/17/2024 21:41:28 - INFO - trainer -   test loss: 1.396992\n",
      "epoch 9 iter 338: train loss 1.48782. lr 3.000000e-05: 100%|██████████| 339/339 [01:42<00:00,  3.31it/s]\n",
      "03/17/2024 21:43:11 - INFO - trainer -   epoch train loss: 1.404045\n"
     ]
    },
    {
     "name": "stdout",
     "output_type": "stream",
     "text": [
      "train loss: 1.4040446513521987\n"
     ]
    },
    {
     "name": "stderr",
     "output_type": "stream",
     "text": [
      "03/17/2024 21:43:15 - INFO - trainer -   test loss: 1.377903\n",
      "epoch 10 iter 338: train loss 1.47219. lr 3.000000e-05: 100%|██████████| 339/339 [01:42<00:00,  3.31it/s]\n",
      "03/17/2024 21:44:58 - INFO - trainer -   epoch train loss: 1.385829\n"
     ]
    },
    {
     "name": "stdout",
     "output_type": "stream",
     "text": [
      "train loss: 1.3858288399941099\n"
     ]
    },
    {
     "name": "stderr",
     "output_type": "stream",
     "text": [
      "03/17/2024 21:45:03 - INFO - trainer -   test loss: 1.371723\n",
      "epoch 11 iter 338: train loss 1.46580. lr 3.000000e-05: 100%|██████████| 339/339 [01:42<00:00,  3.31it/s]\n",
      "03/17/2024 21:46:46 - INFO - trainer -   epoch train loss: 1.370597\n"
     ]
    },
    {
     "name": "stdout",
     "output_type": "stream",
     "text": [
      "train loss: 1.370596916274687\n"
     ]
    },
    {
     "name": "stderr",
     "output_type": "stream",
     "text": [
      "03/17/2024 21:46:51 - INFO - trainer -   test loss: 1.352909\n",
      "epoch 12 iter 338: train loss 1.44487. lr 3.000000e-05: 100%|██████████| 339/339 [01:42<00:00,  3.31it/s]\n",
      "03/17/2024 21:48:34 - INFO - trainer -   epoch train loss: 1.343764\n"
     ]
    },
    {
     "name": "stdout",
     "output_type": "stream",
     "text": [
      "train loss: 1.343763569814969\n"
     ]
    },
    {
     "name": "stderr",
     "output_type": "stream",
     "text": [
      "03/17/2024 21:48:38 - INFO - trainer -   test loss: 1.312745\n",
      "epoch 13 iter 338: train loss 1.41808. lr 3.000000e-05: 100%|██████████| 339/339 [01:42<00:00,  3.30it/s]\n",
      "03/17/2024 21:50:21 - INFO - trainer -   epoch train loss: 1.306901\n"
     ]
    },
    {
     "name": "stdout",
     "output_type": "stream",
     "text": [
      "train loss: 1.3069006081527665\n"
     ]
    },
    {
     "name": "stderr",
     "output_type": "stream",
     "text": [
      "03/17/2024 21:50:26 - INFO - trainer -   test loss: 1.295542\n",
      "epoch 14 iter 338: train loss 1.38761. lr 3.000000e-05: 100%|██████████| 339/339 [01:42<00:00,  3.31it/s]\n",
      "03/17/2024 21:52:09 - INFO - trainer -   epoch train loss: 1.284644\n"
     ]
    },
    {
     "name": "stdout",
     "output_type": "stream",
     "text": [
      "train loss: 1.2846439479023306\n"
     ]
    },
    {
     "name": "stderr",
     "output_type": "stream",
     "text": [
      "03/17/2024 21:52:14 - INFO - trainer -   test loss: 1.311764\n",
      "epoch 15 iter 338: train loss 1.35951. lr 3.000000e-05: 100%|██████████| 339/339 [01:42<00:00,  3.31it/s]\n",
      "03/17/2024 21:53:56 - INFO - trainer -   epoch train loss: 1.249229\n"
     ]
    },
    {
     "name": "stdout",
     "output_type": "stream",
     "text": [
      "train loss: 1.2492285685553313\n"
     ]
    },
    {
     "name": "stderr",
     "output_type": "stream",
     "text": [
      "03/17/2024 21:54:01 - INFO - trainer -   test loss: 1.282970\n",
      "epoch 16 iter 338: train loss 1.34868. lr 3.000000e-05: 100%|██████████| 339/339 [01:42<00:00,  3.32it/s]\n",
      "03/17/2024 21:55:44 - INFO - trainer -   epoch train loss: 1.233016\n"
     ]
    },
    {
     "name": "stdout",
     "output_type": "stream",
     "text": [
      "train loss: 1.2330155632840496\n"
     ]
    },
    {
     "name": "stderr",
     "output_type": "stream",
     "text": [
      "03/17/2024 21:55:48 - INFO - trainer -   test loss: 1.251222\n",
      "epoch 17 iter 338: train loss 1.32981. lr 3.000000e-05: 100%|██████████| 339/339 [01:42<00:00,  3.32it/s]\n",
      "03/17/2024 21:57:31 - INFO - trainer -   epoch train loss: 1.220377\n"
     ]
    },
    {
     "name": "stdout",
     "output_type": "stream",
     "text": [
      "train loss: 1.220377392473474\n"
     ]
    },
    {
     "name": "stderr",
     "output_type": "stream",
     "text": [
      "03/17/2024 21:57:36 - INFO - trainer -   test loss: 1.223734\n",
      "epoch 18 iter 338: train loss 1.32525. lr 3.000000e-05: 100%|██████████| 339/339 [01:41<00:00,  3.32it/s]\n",
      "03/17/2024 21:59:18 - INFO - trainer -   epoch train loss: 1.206614\n"
     ]
    },
    {
     "name": "stdout",
     "output_type": "stream",
     "text": [
      "train loss: 1.2066135666715008\n"
     ]
    },
    {
     "name": "stderr",
     "output_type": "stream",
     "text": [
      "03/17/2024 21:59:23 - INFO - trainer -   test loss: 1.196827\n",
      "epoch 19 iter 338: train loss 1.31353. lr 3.000000e-05: 100%|██████████| 339/339 [01:42<00:00,  3.32it/s]\n",
      "03/17/2024 22:01:05 - INFO - trainer -   epoch train loss: 1.187598\n"
     ]
    },
    {
     "name": "stdout",
     "output_type": "stream",
     "text": [
      "train loss: 1.1875981173332462\n"
     ]
    },
    {
     "name": "stderr",
     "output_type": "stream",
     "text": [
      "03/17/2024 22:01:10 - INFO - trainer -   test loss: 1.174840\n",
      "epoch 20 iter 338: train loss 1.29572. lr 3.000000e-05: 100%|██████████| 339/339 [01:42<00:00,  3.31it/s]\n",
      "03/17/2024 22:02:53 - INFO - trainer -   epoch train loss: 1.173009\n"
     ]
    },
    {
     "name": "stdout",
     "output_type": "stream",
     "text": [
      "train loss: 1.1730090576638865\n"
     ]
    },
    {
     "name": "stderr",
     "output_type": "stream",
     "text": [
      "03/17/2024 22:02:58 - INFO - trainer -   test loss: 1.157436\n",
      "epoch 21 iter 338: train loss 1.28722. lr 3.000000e-05: 100%|██████████| 339/339 [01:42<00:00,  3.32it/s]\n",
      "03/17/2024 22:04:40 - INFO - trainer -   epoch train loss: 1.161116\n"
     ]
    },
    {
     "name": "stdout",
     "output_type": "stream",
     "text": [
      "train loss: 1.1611155967796798\n"
     ]
    },
    {
     "name": "stderr",
     "output_type": "stream",
     "text": [
      "03/17/2024 22:04:45 - INFO - trainer -   test loss: 1.146343\n",
      "epoch 22 iter 338: train loss 1.28095. lr 3.000000e-05: 100%|██████████| 339/339 [01:42<00:00,  3.32it/s]\n",
      "03/17/2024 22:06:28 - INFO - trainer -   epoch train loss: 1.149976\n"
     ]
    },
    {
     "name": "stdout",
     "output_type": "stream",
     "text": [
      "train loss: 1.1499758733760643\n"
     ]
    },
    {
     "name": "stderr",
     "output_type": "stream",
     "text": [
      "03/17/2024 22:06:33 - INFO - trainer -   test loss: 1.133257\n",
      "epoch 23 iter 338: train loss 1.27280. lr 3.000000e-05: 100%|██████████| 339/339 [01:42<00:00,  3.31it/s]\n",
      "03/17/2024 22:08:15 - INFO - trainer -   epoch train loss: 1.138844\n"
     ]
    },
    {
     "name": "stdout",
     "output_type": "stream",
     "text": [
      "train loss: 1.1388444341389479\n"
     ]
    },
    {
     "name": "stderr",
     "output_type": "stream",
     "text": [
      "03/17/2024 22:08:20 - INFO - trainer -   test loss: 1.116030\n",
      "epoch 24 iter 338: train loss 1.26422. lr 3.000000e-05: 100%|██████████| 339/339 [01:41<00:00,  3.33it/s]\n",
      "03/17/2024 22:10:02 - INFO - trainer -   epoch train loss: 1.126972\n"
     ]
    },
    {
     "name": "stdout",
     "output_type": "stream",
     "text": [
      "train loss: 1.126972255805249\n"
     ]
    },
    {
     "name": "stderr",
     "output_type": "stream",
     "text": [
      "03/17/2024 22:10:07 - INFO - trainer -   test loss: 1.098534\n",
      "epoch 25 iter 338: train loss 1.24887. lr 3.000000e-05: 100%|██████████| 339/339 [01:42<00:00,  3.32it/s]\n",
      "03/17/2024 22:11:50 - INFO - trainer -   epoch train loss: 1.113393\n"
     ]
    },
    {
     "name": "stdout",
     "output_type": "stream",
     "text": [
      "train loss: 1.1133934702493449\n"
     ]
    },
    {
     "name": "stderr",
     "output_type": "stream",
     "text": [
      "03/17/2024 22:11:55 - INFO - trainer -   test loss: 1.076851\n",
      "epoch 26 iter 338: train loss 1.23115. lr 3.000000e-05: 100%|██████████| 339/339 [01:42<00:00,  3.31it/s]\n",
      "03/17/2024 22:13:38 - INFO - trainer -   epoch train loss: 1.098174\n"
     ]
    },
    {
     "name": "stdout",
     "output_type": "stream",
     "text": [
      "train loss: 1.0981735863165165\n"
     ]
    },
    {
     "name": "stderr",
     "output_type": "stream",
     "text": [
      "03/17/2024 22:13:42 - INFO - trainer -   test loss: 1.053974\n",
      "epoch 27 iter 338: train loss 1.21749. lr 3.000000e-05: 100%|██████████| 339/339 [01:42<00:00,  3.31it/s]\n",
      "03/17/2024 22:15:25 - INFO - trainer -   epoch train loss: 1.082511\n"
     ]
    },
    {
     "name": "stdout",
     "output_type": "stream",
     "text": [
      "train loss: 1.0825106742459412\n"
     ]
    },
    {
     "name": "stderr",
     "output_type": "stream",
     "text": [
      "03/17/2024 22:15:30 - INFO - trainer -   test loss: 1.035672\n",
      "epoch 28 iter 338: train loss 1.20163. lr 3.000000e-05: 100%|██████████| 339/339 [01:42<00:00,  3.31it/s]\n",
      "03/17/2024 22:17:13 - INFO - trainer -   epoch train loss: 1.067311\n"
     ]
    },
    {
     "name": "stdout",
     "output_type": "stream",
     "text": [
      "train loss: 1.0673106219564568\n"
     ]
    },
    {
     "name": "stderr",
     "output_type": "stream",
     "text": [
      "03/17/2024 22:17:17 - INFO - trainer -   test loss: 1.018739\n",
      "epoch 29 iter 338: train loss 1.17868. lr 3.000000e-05: 100%|██████████| 339/339 [01:42<00:00,  3.32it/s]\n",
      "03/17/2024 22:19:00 - INFO - trainer -   epoch train loss: 1.052206\n"
     ]
    },
    {
     "name": "stdout",
     "output_type": "stream",
     "text": [
      "train loss: 1.0522055230309477\n"
     ]
    },
    {
     "name": "stderr",
     "output_type": "stream",
     "text": [
      "03/17/2024 22:19:05 - INFO - trainer -   test loss: 1.001712\n",
      "epoch 30 iter 338: train loss 1.15392. lr 3.000000e-05: 100%|██████████| 339/339 [01:42<00:00,  3.32it/s]\n",
      "03/17/2024 22:20:48 - INFO - trainer -   epoch train loss: 1.035904\n"
     ]
    },
    {
     "name": "stdout",
     "output_type": "stream",
     "text": [
      "train loss: 1.0359036720256187\n"
     ]
    },
    {
     "name": "stderr",
     "output_type": "stream",
     "text": [
      "03/17/2024 22:20:52 - INFO - trainer -   test loss: 0.979426\n",
      "epoch 31 iter 338: train loss 1.13194. lr 3.000000e-05: 100%|██████████| 339/339 [01:42<00:00,  3.32it/s]\n",
      "03/17/2024 22:22:35 - INFO - trainer -   epoch train loss: 1.017017\n"
     ]
    },
    {
     "name": "stdout",
     "output_type": "stream",
     "text": [
      "train loss: 1.0170165034873648\n"
     ]
    },
    {
     "name": "stderr",
     "output_type": "stream",
     "text": [
      "03/17/2024 22:22:40 - INFO - trainer -   test loss: 0.952533\n",
      "epoch 32 iter 338: train loss 1.08257. lr 3.000000e-05: 100%|██████████| 339/339 [01:42<00:00,  3.31it/s]\n",
      "03/17/2024 22:24:22 - INFO - trainer -   epoch train loss: 0.994455\n"
     ]
    },
    {
     "name": "stdout",
     "output_type": "stream",
     "text": [
      "train loss: 0.9944546945327151\n"
     ]
    },
    {
     "name": "stderr",
     "output_type": "stream",
     "text": [
      "03/17/2024 22:24:27 - INFO - trainer -   test loss: 0.919399\n",
      "epoch 33 iter 338: train loss 1.06733. lr 3.000000e-05: 100%|██████████| 339/339 [01:42<00:00,  3.32it/s]\n",
      "03/17/2024 22:26:10 - INFO - trainer -   epoch train loss: 0.971351\n"
     ]
    },
    {
     "name": "stdout",
     "output_type": "stream",
     "text": [
      "train loss: 0.9713506353991573\n"
     ]
    },
    {
     "name": "stderr",
     "output_type": "stream",
     "text": [
      "03/17/2024 22:26:15 - INFO - trainer -   test loss: 0.898754\n",
      "epoch 34 iter 338: train loss 1.04436. lr 3.000000e-05: 100%|██████████| 339/339 [01:42<00:00,  3.31it/s]\n",
      "03/17/2024 22:27:57 - INFO - trainer -   epoch train loss: 0.951878\n"
     ]
    },
    {
     "name": "stdout",
     "output_type": "stream",
     "text": [
      "train loss: 0.9518776789175726\n"
     ]
    },
    {
     "name": "stderr",
     "output_type": "stream",
     "text": [
      "03/17/2024 22:28:02 - INFO - trainer -   test loss: 0.881585\n",
      "epoch 35 iter 338: train loss 1.02432. lr 3.000000e-05: 100%|██████████| 339/339 [01:42<00:00,  3.32it/s]\n",
      "03/17/2024 22:29:45 - INFO - trainer -   epoch train loss: 0.934708\n"
     ]
    },
    {
     "name": "stdout",
     "output_type": "stream",
     "text": [
      "train loss: 0.934708470791842\n"
     ]
    },
    {
     "name": "stderr",
     "output_type": "stream",
     "text": [
      "03/17/2024 22:29:50 - INFO - trainer -   test loss: 0.866369\n",
      "epoch 36 iter 338: train loss 1.00992. lr 3.000000e-05: 100%|██████████| 339/339 [01:42<00:00,  3.32it/s]\n",
      "03/17/2024 22:31:32 - INFO - trainer -   epoch train loss: 0.919059\n"
     ]
    },
    {
     "name": "stdout",
     "output_type": "stream",
     "text": [
      "train loss: 0.9190594049329954\n"
     ]
    },
    {
     "name": "stderr",
     "output_type": "stream",
     "text": [
      "03/17/2024 22:31:37 - INFO - trainer -   test loss: 0.852686\n",
      "epoch 37 iter 338: train loss 0.98664. lr 3.000000e-05: 100%|██████████| 339/339 [01:42<00:00,  3.32it/s]\n",
      "03/17/2024 22:33:20 - INFO - trainer -   epoch train loss: 0.904161\n"
     ]
    },
    {
     "name": "stdout",
     "output_type": "stream",
     "text": [
      "train loss: 0.9041613850270049\n"
     ]
    },
    {
     "name": "stderr",
     "output_type": "stream",
     "text": [
      "03/17/2024 22:33:25 - INFO - trainer -   test loss: 0.839751\n",
      "epoch 38 iter 338: train loss 0.97035. lr 3.000000e-05: 100%|██████████| 339/339 [01:42<00:00,  3.31it/s]\n",
      "03/17/2024 22:35:08 - INFO - trainer -   epoch train loss: 0.889447\n"
     ]
    },
    {
     "name": "stdout",
     "output_type": "stream",
     "text": [
      "train loss: 0.889447033405304\n"
     ]
    },
    {
     "name": "stderr",
     "output_type": "stream",
     "text": [
      "03/17/2024 22:35:12 - INFO - trainer -   test loss: 0.825820\n",
      "epoch 39 iter 338: train loss 0.94882. lr 3.000000e-05: 100%|██████████| 339/339 [01:42<00:00,  3.31it/s]\n",
      "03/17/2024 22:36:55 - INFO - trainer -   epoch train loss: 0.874249\n"
     ]
    },
    {
     "name": "stdout",
     "output_type": "stream",
     "text": [
      "train loss: 0.8742490910147496\n"
     ]
    },
    {
     "name": "stderr",
     "output_type": "stream",
     "text": [
      "03/17/2024 22:37:00 - INFO - trainer -   test loss: 0.809189\n",
      "epoch 40 iter 338: train loss 0.93024. lr 3.000000e-05: 100%|██████████| 339/339 [01:42<00:00,  3.31it/s]\n",
      "03/17/2024 22:38:43 - INFO - trainer -   epoch train loss: 0.857885\n"
     ]
    },
    {
     "name": "stdout",
     "output_type": "stream",
     "text": [
      "train loss: 0.8578850141668741\n"
     ]
    },
    {
     "name": "stderr",
     "output_type": "stream",
     "text": [
      "03/17/2024 22:38:47 - INFO - trainer -   test loss: 0.788171\n",
      "epoch 41 iter 338: train loss 0.91301. lr 3.000000e-05: 100%|██████████| 339/339 [01:42<00:00,  3.31it/s]\n",
      "03/17/2024 22:40:30 - INFO - trainer -   epoch train loss: 0.838561\n"
     ]
    },
    {
     "name": "stdout",
     "output_type": "stream",
     "text": [
      "train loss: 0.8385613689028759\n"
     ]
    },
    {
     "name": "stderr",
     "output_type": "stream",
     "text": [
      "03/17/2024 22:40:35 - INFO - trainer -   test loss: 0.760724\n",
      "epoch 42 iter 338: train loss 0.88163. lr 3.000000e-05: 100%|██████████| 339/339 [01:42<00:00,  3.31it/s]\n",
      "03/17/2024 22:42:18 - INFO - trainer -   epoch train loss: 0.815852\n"
     ]
    },
    {
     "name": "stdout",
     "output_type": "stream",
     "text": [
      "train loss: 0.8158520356392087\n"
     ]
    },
    {
     "name": "stderr",
     "output_type": "stream",
     "text": [
      "03/17/2024 22:42:23 - INFO - trainer -   test loss: 0.728229\n",
      "epoch 43 iter 338: train loss 0.86234. lr 3.000000e-05: 100%|██████████| 339/339 [01:42<00:00,  3.32it/s]\n",
      "03/17/2024 22:44:05 - INFO - trainer -   epoch train loss: 0.789717\n"
     ]
    },
    {
     "name": "stdout",
     "output_type": "stream",
     "text": [
      "train loss: 0.7897171355278443\n"
     ]
    },
    {
     "name": "stderr",
     "output_type": "stream",
     "text": [
      "03/17/2024 22:44:10 - INFO - trainer -   test loss: 0.692019\n",
      "epoch 44 iter 338: train loss 0.82771. lr 3.000000e-05: 100%|██████████| 339/339 [01:42<00:00,  3.31it/s]\n",
      "03/17/2024 22:45:53 - INFO - trainer -   epoch train loss: 0.760756\n"
     ]
    },
    {
     "name": "stdout",
     "output_type": "stream",
     "text": [
      "train loss: 0.7607564454936699\n"
     ]
    },
    {
     "name": "stderr",
     "output_type": "stream",
     "text": [
      "03/17/2024 22:45:57 - INFO - trainer -   test loss: 0.650792\n",
      "epoch 45 iter 338: train loss 0.80441. lr 3.000000e-05: 100%|██████████| 339/339 [01:42<00:00,  3.32it/s]\n",
      "03/17/2024 22:47:40 - INFO - trainer -   epoch train loss: 0.727584\n"
     ]
    },
    {
     "name": "stdout",
     "output_type": "stream",
     "text": [
      "train loss: 0.7275839003138135\n"
     ]
    },
    {
     "name": "stderr",
     "output_type": "stream",
     "text": [
      "03/17/2024 22:47:45 - INFO - trainer -   test loss: 0.602988\n",
      "epoch 46 iter 338: train loss 0.74993. lr 3.000000e-05: 100%|██████████| 339/339 [01:42<00:00,  3.31it/s]\n",
      "03/17/2024 22:49:28 - INFO - trainer -   epoch train loss: 0.687352\n"
     ]
    },
    {
     "name": "stdout",
     "output_type": "stream",
     "text": [
      "train loss: 0.6873522861517285\n"
     ]
    },
    {
     "name": "stderr",
     "output_type": "stream",
     "text": [
      "03/17/2024 22:49:33 - INFO - trainer -   test loss: 0.543922\n",
      "epoch 47 iter 338: train loss 0.71662. lr 3.000000e-05: 100%|██████████| 339/339 [01:42<00:00,  3.32it/s]\n",
      "03/17/2024 22:51:15 - INFO - trainer -   epoch train loss: 0.642516\n"
     ]
    },
    {
     "name": "stdout",
     "output_type": "stream",
     "text": [
      "train loss: 0.6425163795111102\n"
     ]
    },
    {
     "name": "stderr",
     "output_type": "stream",
     "text": [
      "03/17/2024 22:51:20 - INFO - trainer -   test loss: 0.492771\n",
      "epoch 48 iter 338: train loss 0.67821. lr 3.000000e-05: 100%|██████████| 339/339 [01:42<00:00,  3.31it/s]\n",
      "03/17/2024 22:53:02 - INFO - trainer -   epoch train loss: 0.600530\n"
     ]
    },
    {
     "name": "stdout",
     "output_type": "stream",
     "text": [
      "train loss: 0.6005300362553216\n"
     ]
    },
    {
     "name": "stderr",
     "output_type": "stream",
     "text": [
      "03/17/2024 22:53:07 - INFO - trainer -   test loss: 0.453970\n",
      "epoch 49 iter 338: train loss 0.61223. lr 3.000000e-05: 100%|██████████| 339/339 [01:42<00:00,  3.31it/s]\n",
      "03/17/2024 22:54:50 - INFO - trainer -   epoch train loss: 0.563819\n"
     ]
    },
    {
     "name": "stdout",
     "output_type": "stream",
     "text": [
      "train loss: 0.5638191474925803\n"
     ]
    },
    {
     "name": "stderr",
     "output_type": "stream",
     "text": [
      "03/17/2024 22:54:55 - INFO - trainer -   test loss: 0.426204\n",
      "epoch 50 iter 338: train loss 0.59840. lr 3.000000e-05: 100%|██████████| 339/339 [01:42<00:00,  3.31it/s]\n",
      "03/17/2024 22:56:38 - INFO - trainer -   epoch train loss: 0.533110\n"
     ]
    },
    {
     "name": "stdout",
     "output_type": "stream",
     "text": [
      "train loss: 0.5331101052704814\n"
     ]
    },
    {
     "name": "stderr",
     "output_type": "stream",
     "text": [
      "03/17/2024 22:56:42 - INFO - trainer -   test loss: 0.403843\n",
      "epoch 51 iter 338: train loss 0.58835. lr 3.000000e-05: 100%|██████████| 339/339 [01:42<00:00,  3.32it/s]\n",
      "03/17/2024 22:58:25 - INFO - trainer -   epoch train loss: 0.507007\n"
     ]
    },
    {
     "name": "stdout",
     "output_type": "stream",
     "text": [
      "train loss: 0.5070071065672027\n"
     ]
    },
    {
     "name": "stderr",
     "output_type": "stream",
     "text": [
      "03/17/2024 22:58:30 - INFO - trainer -   test loss: 0.384926\n",
      "epoch 52 iter 338: train loss 0.52762. lr 3.000000e-05: 100%|██████████| 339/339 [01:42<00:00,  3.32it/s]\n",
      "03/17/2024 23:00:12 - INFO - trainer -   epoch train loss: 0.483115\n"
     ]
    },
    {
     "name": "stdout",
     "output_type": "stream",
     "text": [
      "train loss: 0.4831148878311337\n"
     ]
    },
    {
     "name": "stderr",
     "output_type": "stream",
     "text": [
      "03/17/2024 23:00:17 - INFO - trainer -   test loss: 0.368667\n",
      "epoch 53 iter 338: train loss 0.50694. lr 3.000000e-05: 100%|██████████| 339/339 [01:41<00:00,  3.33it/s]\n",
      "03/17/2024 23:02:00 - INFO - trainer -   epoch train loss: 0.461525\n"
     ]
    },
    {
     "name": "stdout",
     "output_type": "stream",
     "text": [
      "train loss: 0.4615248782796494\n"
     ]
    },
    {
     "name": "stderr",
     "output_type": "stream",
     "text": [
      "03/17/2024 23:02:04 - INFO - trainer -   test loss: 0.354639\n",
      "epoch 54 iter 338: train loss 0.48850. lr 3.000000e-05: 100%|██████████| 339/339 [01:42<00:00,  3.31it/s]\n",
      "03/17/2024 23:03:47 - INFO - trainer -   epoch train loss: 0.442872\n"
     ]
    },
    {
     "name": "stdout",
     "output_type": "stream",
     "text": [
      "train loss: 0.44287165595015243\n"
     ]
    },
    {
     "name": "stderr",
     "output_type": "stream",
     "text": [
      "03/17/2024 23:03:52 - INFO - trainer -   test loss: 0.343852\n",
      "epoch 55 iter 338: train loss 0.46475. lr 3.000000e-05: 100%|██████████| 339/339 [01:42<00:00,  3.31it/s]\n",
      "03/17/2024 23:05:34 - INFO - trainer -   epoch train loss: 0.426254\n"
     ]
    },
    {
     "name": "stdout",
     "output_type": "stream",
     "text": [
      "train loss: 0.42625425188942295\n"
     ]
    },
    {
     "name": "stderr",
     "output_type": "stream",
     "text": [
      "03/17/2024 23:05:39 - INFO - trainer -   test loss: 0.334106\n",
      "epoch 56 iter 338: train loss 0.44676. lr 3.000000e-05: 100%|██████████| 339/339 [01:42<00:00,  3.32it/s]\n",
      "03/17/2024 23:07:22 - INFO - trainer -   epoch train loss: 0.411782\n"
     ]
    },
    {
     "name": "stdout",
     "output_type": "stream",
     "text": [
      "train loss: 0.4117816160034641\n"
     ]
    },
    {
     "name": "stderr",
     "output_type": "stream",
     "text": [
      "03/17/2024 23:07:26 - INFO - trainer -   test loss: 0.325686\n",
      "epoch 57 iter 338: train loss 0.43897. lr 3.000000e-05: 100%|██████████| 339/339 [01:42<00:00,  3.32it/s]\n",
      "03/17/2024 23:09:09 - INFO - trainer -   epoch train loss: 0.398336\n"
     ]
    },
    {
     "name": "stdout",
     "output_type": "stream",
     "text": [
      "train loss: 0.39833621157657434\n"
     ]
    },
    {
     "name": "stderr",
     "output_type": "stream",
     "text": [
      "03/17/2024 23:09:14 - INFO - trainer -   test loss: 0.318579\n",
      "epoch 58 iter 338: train loss 0.41421. lr 3.000000e-05: 100%|██████████| 339/339 [01:42<00:00,  3.31it/s]\n",
      "03/17/2024 23:10:56 - INFO - trainer -   epoch train loss: 0.386220\n"
     ]
    },
    {
     "name": "stdout",
     "output_type": "stream",
     "text": [
      "train loss: 0.3862197403535027\n"
     ]
    },
    {
     "name": "stderr",
     "output_type": "stream",
     "text": [
      "03/17/2024 23:11:01 - INFO - trainer -   test loss: 0.312821\n",
      "epoch 59 iter 338: train loss 0.41657. lr 3.000000e-05: 100%|██████████| 339/339 [01:42<00:00,  3.32it/s]\n",
      "03/17/2024 23:12:44 - INFO - trainer -   epoch train loss: 0.375181\n"
     ]
    },
    {
     "name": "stdout",
     "output_type": "stream",
     "text": [
      "train loss: 0.375181354252638\n"
     ]
    },
    {
     "name": "stderr",
     "output_type": "stream",
     "text": [
      "03/17/2024 23:12:48 - INFO - trainer -   test loss: 0.306873\n",
      "epoch 60 iter 338: train loss 0.39316. lr 3.000000e-05: 100%|██████████| 339/339 [01:42<00:00,  3.32it/s]\n",
      "03/17/2024 23:14:31 - INFO - trainer -   epoch train loss: 0.365187\n"
     ]
    },
    {
     "name": "stdout",
     "output_type": "stream",
     "text": [
      "train loss: 0.3651866657895676\n"
     ]
    },
    {
     "name": "stderr",
     "output_type": "stream",
     "text": [
      "03/17/2024 23:14:36 - INFO - trainer -   test loss: 0.301708\n",
      "epoch 61 iter 338: train loss 0.38526. lr 3.000000e-05: 100%|██████████| 339/339 [01:42<00:00,  3.32it/s]\n",
      "03/17/2024 23:16:18 - INFO - trainer -   epoch train loss: 0.356212\n"
     ]
    },
    {
     "name": "stdout",
     "output_type": "stream",
     "text": [
      "train loss: 0.3562117274356099\n"
     ]
    },
    {
     "name": "stderr",
     "output_type": "stream",
     "text": [
      "03/17/2024 23:16:23 - INFO - trainer -   test loss: 0.297195\n",
      "epoch 62 iter 338: train loss 0.36389. lr 3.000000e-05: 100%|██████████| 339/339 [01:42<00:00,  3.31it/s]\n",
      "03/17/2024 23:18:06 - INFO - trainer -   epoch train loss: 0.348183\n"
     ]
    },
    {
     "name": "stdout",
     "output_type": "stream",
     "text": [
      "train loss: 0.34818275593726683\n"
     ]
    },
    {
     "name": "stderr",
     "output_type": "stream",
     "text": [
      "03/17/2024 23:18:11 - INFO - trainer -   test loss: 0.292516\n",
      "epoch 63 iter 338: train loss 0.36200. lr 3.000000e-05: 100%|██████████| 339/339 [01:42<00:00,  3.32it/s]\n",
      "03/17/2024 23:19:53 - INFO - trainer -   epoch train loss: 0.341049\n"
     ]
    },
    {
     "name": "stdout",
     "output_type": "stream",
     "text": [
      "train loss: 0.34104898739001743\n"
     ]
    },
    {
     "name": "stderr",
     "output_type": "stream",
     "text": [
      "03/17/2024 23:19:58 - INFO - trainer -   test loss: 0.288889\n",
      "epoch 64 iter 338: train loss 0.35328. lr 3.000000e-05: 100%|██████████| 339/339 [01:42<00:00,  3.31it/s]\n",
      "03/17/2024 23:21:41 - INFO - trainer -   epoch train loss: 0.334525\n"
     ]
    },
    {
     "name": "stdout",
     "output_type": "stream",
     "text": [
      "train loss: 0.3345247131709152\n"
     ]
    },
    {
     "name": "stderr",
     "output_type": "stream",
     "text": [
      "03/17/2024 23:21:45 - INFO - trainer -   test loss: 0.285908\n",
      "epoch 65 iter 338: train loss 0.34771. lr 3.000000e-05: 100%|██████████| 339/339 [01:42<00:00,  3.31it/s]\n",
      "03/17/2024 23:23:28 - INFO - trainer -   epoch train loss: 0.328785\n"
     ]
    },
    {
     "name": "stdout",
     "output_type": "stream",
     "text": [
      "train loss: 0.32878486781345356\n"
     ]
    },
    {
     "name": "stderr",
     "output_type": "stream",
     "text": [
      "03/17/2024 23:23:33 - INFO - trainer -   test loss: 0.283314\n",
      "epoch 66 iter 338: train loss 0.34028. lr 3.000000e-05: 100%|██████████| 339/339 [01:42<00:00,  3.31it/s]\n",
      "03/17/2024 23:25:16 - INFO - trainer -   epoch train loss: 0.323787\n"
     ]
    },
    {
     "name": "stdout",
     "output_type": "stream",
     "text": [
      "train loss: 0.3237866441936268\n"
     ]
    },
    {
     "name": "stderr",
     "output_type": "stream",
     "text": [
      "03/17/2024 23:25:21 - INFO - trainer -   test loss: 0.280468\n",
      "epoch 67 iter 338: train loss 0.33128. lr 3.000000e-05: 100%|██████████| 339/339 [01:42<00:00,  3.32it/s]\n",
      "03/17/2024 23:27:03 - INFO - trainer -   epoch train loss: 0.318814\n"
     ]
    },
    {
     "name": "stdout",
     "output_type": "stream",
     "text": [
      "train loss: 0.31881399430708196\n"
     ]
    },
    {
     "name": "stderr",
     "output_type": "stream",
     "text": [
      "03/17/2024 23:27:08 - INFO - trainer -   test loss: 0.277222\n",
      "epoch 68 iter 338: train loss 0.32887. lr 3.000000e-05: 100%|██████████| 339/339 [01:42<00:00,  3.32it/s]\n",
      "03/17/2024 23:28:50 - INFO - trainer -   epoch train loss: 0.314370\n"
     ]
    },
    {
     "name": "stdout",
     "output_type": "stream",
     "text": [
      "train loss: 0.3143703442583394\n"
     ]
    },
    {
     "name": "stderr",
     "output_type": "stream",
     "text": [
      "03/17/2024 23:28:55 - INFO - trainer -   test loss: 0.274961\n",
      "epoch 69 iter 338: train loss 0.32752. lr 3.000000e-05: 100%|██████████| 339/339 [01:42<00:00,  3.31it/s]\n",
      "03/17/2024 23:30:38 - INFO - trainer -   epoch train loss: 0.310259\n"
     ]
    },
    {
     "name": "stdout",
     "output_type": "stream",
     "text": [
      "train loss: 0.3102591871160322\n"
     ]
    },
    {
     "name": "stderr",
     "output_type": "stream",
     "text": [
      "03/17/2024 23:30:43 - INFO - trainer -   test loss: 0.272151\n",
      "epoch 70 iter 338: train loss 0.32482. lr 3.000000e-05: 100%|██████████| 339/339 [01:42<00:00,  3.31it/s]\n",
      "03/17/2024 23:32:25 - INFO - trainer -   epoch train loss: 0.306362\n"
     ]
    },
    {
     "name": "stdout",
     "output_type": "stream",
     "text": [
      "train loss: 0.30636198357143235\n"
     ]
    },
    {
     "name": "stderr",
     "output_type": "stream",
     "text": [
      "03/17/2024 23:32:30 - INFO - trainer -   test loss: 0.269985\n",
      "epoch 71 iter 338: train loss 0.31750. lr 3.000000e-05: 100%|██████████| 339/339 [01:42<00:00,  3.32it/s]\n",
      "03/17/2024 23:34:13 - INFO - trainer -   epoch train loss: 0.302590\n"
     ]
    },
    {
     "name": "stdout",
     "output_type": "stream",
     "text": [
      "train loss: 0.30258983734083034\n"
     ]
    },
    {
     "name": "stderr",
     "output_type": "stream",
     "text": [
      "03/17/2024 23:34:18 - INFO - trainer -   test loss: 0.268478\n",
      "epoch 72 iter 338: train loss 0.31399. lr 3.000000e-05: 100%|██████████| 339/339 [01:42<00:00,  3.31it/s]\n",
      "03/17/2024 23:36:00 - INFO - trainer -   epoch train loss: 0.299110\n"
     ]
    },
    {
     "name": "stdout",
     "output_type": "stream",
     "text": [
      "train loss: 0.2991102902235183\n"
     ]
    },
    {
     "name": "stderr",
     "output_type": "stream",
     "text": [
      "03/17/2024 23:36:05 - INFO - trainer -   test loss: 0.266101\n",
      "epoch 73 iter 338: train loss 0.31187. lr 3.000000e-05: 100%|██████████| 339/339 [01:42<00:00,  3.31it/s]\n",
      "03/17/2024 23:37:48 - INFO - trainer -   epoch train loss: 0.295900\n"
     ]
    },
    {
     "name": "stdout",
     "output_type": "stream",
     "text": [
      "train loss: 0.2959004548271145\n"
     ]
    },
    {
     "name": "stderr",
     "output_type": "stream",
     "text": [
      "03/17/2024 23:37:52 - INFO - trainer -   test loss: 0.263684\n",
      "epoch 74 iter 338: train loss 0.30523. lr 3.000000e-05: 100%|██████████| 339/339 [01:42<00:00,  3.30it/s]\n",
      "03/17/2024 23:39:35 - INFO - trainer -   epoch train loss: 0.292767\n"
     ]
    },
    {
     "name": "stdout",
     "output_type": "stream",
     "text": [
      "train loss: 0.2927673191799175\n"
     ]
    },
    {
     "name": "stderr",
     "output_type": "stream",
     "text": [
      "03/17/2024 23:39:40 - INFO - trainer -   test loss: 0.261834\n",
      "epoch 75 iter 338: train loss 0.29444. lr 3.000000e-05: 100%|██████████| 339/339 [01:42<00:00,  3.31it/s]\n",
      "03/17/2024 23:41:23 - INFO - trainer -   epoch train loss: 0.289812\n"
     ]
    },
    {
     "name": "stdout",
     "output_type": "stream",
     "text": [
      "train loss: 0.28981222577151294\n"
     ]
    },
    {
     "name": "stderr",
     "output_type": "stream",
     "text": [
      "03/17/2024 23:41:28 - INFO - trainer -   test loss: 0.260682\n",
      "epoch 76 iter 338: train loss 0.29559. lr 3.000000e-05: 100%|██████████| 339/339 [01:42<00:00,  3.31it/s]\n",
      "03/17/2024 23:43:11 - INFO - trainer -   epoch train loss: 0.287092\n"
     ]
    },
    {
     "name": "stdout",
     "output_type": "stream",
     "text": [
      "train loss: 0.2870915431891922\n"
     ]
    },
    {
     "name": "stderr",
     "output_type": "stream",
     "text": [
      "03/17/2024 23:43:15 - INFO - trainer -   test loss: 0.259115\n",
      "epoch 77 iter 338: train loss 0.28919. lr 3.000000e-05: 100%|██████████| 339/339 [01:42<00:00,  3.31it/s]\n",
      "03/17/2024 23:44:58 - INFO - trainer -   epoch train loss: 0.284343\n"
     ]
    },
    {
     "name": "stdout",
     "output_type": "stream",
     "text": [
      "train loss: 0.2843430718313628\n"
     ]
    },
    {
     "name": "stderr",
     "output_type": "stream",
     "text": [
      "03/17/2024 23:45:03 - INFO - trainer -   test loss: 0.257746\n",
      "epoch 78 iter 338: train loss 0.29210. lr 3.000000e-05: 100%|██████████| 339/339 [01:42<00:00,  3.31it/s]\n",
      "03/17/2024 23:46:46 - INFO - trainer -   epoch train loss: 0.282016\n"
     ]
    },
    {
     "name": "stdout",
     "output_type": "stream",
     "text": [
      "train loss: 0.2820164490062579\n"
     ]
    },
    {
     "name": "stderr",
     "output_type": "stream",
     "text": [
      "03/17/2024 23:46:51 - INFO - trainer -   test loss: 0.255253\n",
      "epoch 79 iter 338: train loss 0.28288. lr 3.000000e-05: 100%|██████████| 339/339 [01:42<00:00,  3.32it/s]\n",
      "03/17/2024 23:48:33 - INFO - trainer -   epoch train loss: 0.279550\n"
     ]
    },
    {
     "name": "stdout",
     "output_type": "stream",
     "text": [
      "train loss: 0.27955040036752865\n"
     ]
    },
    {
     "name": "stderr",
     "output_type": "stream",
     "text": [
      "03/17/2024 23:48:38 - INFO - trainer -   test loss: 0.254408\n",
      "epoch 80 iter 338: train loss 0.28448. lr 3.000000e-05: 100%|██████████| 339/339 [01:42<00:00,  3.32it/s]\n",
      "03/17/2024 23:50:21 - INFO - trainer -   epoch train loss: 0.277284\n"
     ]
    },
    {
     "name": "stdout",
     "output_type": "stream",
     "text": [
      "train loss: 0.2772844589389531\n"
     ]
    },
    {
     "name": "stderr",
     "output_type": "stream",
     "text": [
      "03/17/2024 23:50:25 - INFO - trainer -   test loss: 0.253065\n",
      "epoch 81 iter 338: train loss 0.27933. lr 3.000000e-05: 100%|██████████| 339/339 [01:42<00:00,  3.32it/s]\n",
      "03/17/2024 23:52:08 - INFO - trainer -   epoch train loss: 0.275112\n"
     ]
    },
    {
     "name": "stdout",
     "output_type": "stream",
     "text": [
      "train loss: 0.27511181069158874\n"
     ]
    },
    {
     "name": "stderr",
     "output_type": "stream",
     "text": [
      "03/17/2024 23:52:13 - INFO - trainer -   test loss: 0.251535\n",
      "epoch 82 iter 338: train loss 0.28468. lr 3.000000e-05: 100%|██████████| 339/339 [01:42<00:00,  3.31it/s]\n",
      "03/17/2024 23:53:56 - INFO - trainer -   epoch train loss: 0.273117\n"
     ]
    },
    {
     "name": "stdout",
     "output_type": "stream",
     "text": [
      "train loss: 0.27311660041675456\n"
     ]
    },
    {
     "name": "stderr",
     "output_type": "stream",
     "text": [
      "03/17/2024 23:54:00 - INFO - trainer -   test loss: 0.249913\n",
      "epoch 83 iter 338: train loss 0.27491. lr 3.000000e-05: 100%|██████████| 339/339 [01:42<00:00,  3.32it/s]\n",
      "03/17/2024 23:55:43 - INFO - trainer -   epoch train loss: 0.270987\n"
     ]
    },
    {
     "name": "stdout",
     "output_type": "stream",
     "text": [
      "train loss: 0.2709867772275368\n"
     ]
    },
    {
     "name": "stderr",
     "output_type": "stream",
     "text": [
      "03/17/2024 23:55:48 - INFO - trainer -   test loss: 0.249491\n",
      "epoch 84 iter 338: train loss 0.26933. lr 3.000000e-05: 100%|██████████| 339/339 [01:42<00:00,  3.31it/s]\n",
      "03/17/2024 23:57:30 - INFO - trainer -   epoch train loss: 0.269168\n"
     ]
    },
    {
     "name": "stdout",
     "output_type": "stream",
     "text": [
      "train loss: 0.2691676341942278\n"
     ]
    },
    {
     "name": "stderr",
     "output_type": "stream",
     "text": [
      "03/17/2024 23:57:35 - INFO - trainer -   test loss: 0.248741\n",
      "epoch 85 iter 338: train loss 0.27369. lr 3.000000e-05: 100%|██████████| 339/339 [01:42<00:00,  3.32it/s]\n",
      "03/17/2024 23:59:18 - INFO - trainer -   epoch train loss: 0.267314\n"
     ]
    },
    {
     "name": "stdout",
     "output_type": "stream",
     "text": [
      "train loss: 0.2673141793691303\n"
     ]
    },
    {
     "name": "stderr",
     "output_type": "stream",
     "text": [
      "03/17/2024 23:59:23 - INFO - trainer -   test loss: 0.247801\n",
      "epoch 86 iter 338: train loss 0.26491. lr 3.000000e-05: 100%|██████████| 339/339 [01:42<00:00,  3.31it/s]\n",
      "03/18/2024 00:01:05 - INFO - trainer -   epoch train loss: 0.265688\n"
     ]
    },
    {
     "name": "stdout",
     "output_type": "stream",
     "text": [
      "train loss: 0.2656880552086507\n"
     ]
    },
    {
     "name": "stderr",
     "output_type": "stream",
     "text": [
      "03/18/2024 00:01:10 - INFO - trainer -   test loss: 0.246174\n",
      "epoch 87 iter 338: train loss 0.26736. lr 3.000000e-05: 100%|██████████| 339/339 [01:42<00:00,  3.32it/s]\n",
      "03/18/2024 00:02:53 - INFO - trainer -   epoch train loss: 0.263946\n"
     ]
    },
    {
     "name": "stdout",
     "output_type": "stream",
     "text": [
      "train loss: 0.2639462770262299\n"
     ]
    },
    {
     "name": "stderr",
     "output_type": "stream",
     "text": [
      "03/18/2024 00:02:58 - INFO - trainer -   test loss: 0.246294\n",
      "epoch 88 iter 338: train loss 0.26666. lr 3.000000e-05: 100%|██████████| 339/339 [01:42<00:00,  3.32it/s]\n",
      "03/18/2024 00:04:40 - INFO - trainer -   epoch train loss: 0.262289\n"
     ]
    },
    {
     "name": "stdout",
     "output_type": "stream",
     "text": [
      "train loss: 0.2622891296151817\n"
     ]
    },
    {
     "name": "stderr",
     "output_type": "stream",
     "text": [
      "03/18/2024 00:04:45 - INFO - trainer -   test loss: 0.244787\n",
      "epoch 89 iter 338: train loss 0.26033. lr 3.000000e-05: 100%|██████████| 339/339 [01:42<00:00,  3.32it/s]\n",
      "03/18/2024 00:06:27 - INFO - trainer -   epoch train loss: 0.260700\n"
     ]
    },
    {
     "name": "stdout",
     "output_type": "stream",
     "text": [
      "train loss: 0.26070034086352606\n"
     ]
    },
    {
     "name": "stderr",
     "output_type": "stream",
     "text": [
      "03/18/2024 00:06:32 - INFO - trainer -   test loss: 0.243770\n",
      "epoch 90 iter 338: train loss 0.26085. lr 3.000000e-05: 100%|██████████| 339/339 [01:42<00:00,  3.31it/s]\n",
      "03/18/2024 00:08:15 - INFO - trainer -   epoch train loss: 0.259375\n"
     ]
    },
    {
     "name": "stdout",
     "output_type": "stream",
     "text": [
      "train loss: 0.2593751760710657\n"
     ]
    },
    {
     "name": "stderr",
     "output_type": "stream",
     "text": [
      "03/18/2024 00:08:20 - INFO - trainer -   test loss: 0.242621\n",
      "epoch 91 iter 338: train loss 0.25833. lr 3.000000e-05: 100%|██████████| 339/339 [01:42<00:00,  3.32it/s]\n",
      "03/18/2024 00:10:02 - INFO - trainer -   epoch train loss: 0.257809\n"
     ]
    },
    {
     "name": "stdout",
     "output_type": "stream",
     "text": [
      "train loss: 0.2578089516774743\n"
     ]
    },
    {
     "name": "stderr",
     "output_type": "stream",
     "text": [
      "03/18/2024 00:10:07 - INFO - trainer -   test loss: 0.241985\n",
      "epoch 92 iter 338: train loss 0.25389. lr 3.000000e-05: 100%|██████████| 339/339 [01:42<00:00,  3.32it/s]\n",
      "03/18/2024 00:11:49 - INFO - trainer -   epoch train loss: 0.256349\n"
     ]
    },
    {
     "name": "stdout",
     "output_type": "stream",
     "text": [
      "train loss: 0.25634862807823844\n"
     ]
    },
    {
     "name": "stderr",
     "output_type": "stream",
     "text": [
      "03/18/2024 00:11:54 - INFO - trainer -   test loss: 0.241071\n",
      "epoch 93 iter 338: train loss 0.25705. lr 3.000000e-05: 100%|██████████| 339/339 [01:42<00:00,  3.32it/s]\n",
      "03/18/2024 00:13:37 - INFO - trainer -   epoch train loss: 0.254970\n"
     ]
    },
    {
     "name": "stdout",
     "output_type": "stream",
     "text": [
      "train loss: 0.2549701357661447\n"
     ]
    },
    {
     "name": "stderr",
     "output_type": "stream",
     "text": [
      "03/18/2024 00:13:42 - INFO - trainer -   test loss: 0.241446\n",
      "epoch 94 iter 338: train loss 0.25352. lr 3.000000e-05: 100%|██████████| 339/339 [01:42<00:00,  3.31it/s]\n",
      "03/18/2024 00:15:24 - INFO - trainer -   epoch train loss: 0.253641\n"
     ]
    },
    {
     "name": "stdout",
     "output_type": "stream",
     "text": [
      "train loss: 0.25364070264814875\n"
     ]
    },
    {
     "name": "stderr",
     "output_type": "stream",
     "text": [
      "03/18/2024 00:15:29 - INFO - trainer -   test loss: 0.240022\n",
      "epoch 95 iter 338: train loss 0.25453. lr 3.000000e-05: 100%|██████████| 339/339 [01:42<00:00,  3.32it/s]\n",
      "03/18/2024 00:17:12 - INFO - trainer -   epoch train loss: 0.252500\n"
     ]
    },
    {
     "name": "stdout",
     "output_type": "stream",
     "text": [
      "train loss: 0.25250044530999344\n"
     ]
    },
    {
     "name": "stderr",
     "output_type": "stream",
     "text": [
      "03/18/2024 00:17:16 - INFO - trainer -   test loss: 0.239864\n",
      "epoch 96 iter 338: train loss 0.24524. lr 3.000000e-05: 100%|██████████| 339/339 [01:42<00:00,  3.31it/s]\n",
      "03/18/2024 00:18:59 - INFO - trainer -   epoch train loss: 0.251221\n"
     ]
    },
    {
     "name": "stdout",
     "output_type": "stream",
     "text": [
      "train loss: 0.2512213617211598\n"
     ]
    },
    {
     "name": "stderr",
     "output_type": "stream",
     "text": [
      "03/18/2024 00:19:04 - INFO - trainer -   test loss: 0.239177\n",
      "epoch 97 iter 338: train loss 0.25090. lr 3.000000e-05: 100%|██████████| 339/339 [01:42<00:00,  3.32it/s]\n",
      "03/18/2024 00:20:46 - INFO - trainer -   epoch train loss: 0.249985\n"
     ]
    },
    {
     "name": "stdout",
     "output_type": "stream",
     "text": [
      "train loss: 0.24998521809205193\n"
     ]
    },
    {
     "name": "stderr",
     "output_type": "stream",
     "text": [
      "03/18/2024 00:20:51 - INFO - trainer -   test loss: 0.238265\n",
      "epoch 98 iter 338: train loss 0.24675. lr 3.000000e-05: 100%|██████████| 339/339 [01:42<00:00,  3.31it/s]\n",
      "03/18/2024 00:22:34 - INFO - trainer -   epoch train loss: 0.248704\n"
     ]
    },
    {
     "name": "stdout",
     "output_type": "stream",
     "text": [
      "train loss: 0.24870448091388803\n"
     ]
    },
    {
     "name": "stderr",
     "output_type": "stream",
     "text": [
      "03/18/2024 00:22:39 - INFO - trainer -   test loss: 0.237493\n",
      "epoch 99 iter 338: train loss 0.24715. lr 3.000000e-05: 100%|██████████| 339/339 [01:42<00:00,  3.32it/s]\n",
      "03/18/2024 00:24:21 - INFO - trainer -   epoch train loss: 0.247554\n"
     ]
    },
    {
     "name": "stdout",
     "output_type": "stream",
     "text": [
      "train loss: 0.2475544489854205\n"
     ]
    },
    {
     "name": "stderr",
     "output_type": "stream",
     "text": [
      "03/18/2024 00:24:26 - INFO - trainer -   test loss: 0.236736\n",
      "epoch 100 iter 338: train loss 0.24887. lr 3.000000e-05: 100%|██████████| 339/339 [01:42<00:00,  3.32it/s]\n",
      "03/18/2024 00:26:08 - INFO - trainer -   epoch train loss: 0.246534\n"
     ]
    },
    {
     "name": "stdout",
     "output_type": "stream",
     "text": [
      "train loss: 0.2465337055974302\n"
     ]
    },
    {
     "name": "stderr",
     "output_type": "stream",
     "text": [
      "03/18/2024 00:26:13 - INFO - trainer -   test loss: 0.236387\n",
      "epoch 101 iter 338: train loss 0.23963. lr 3.000000e-05: 100%|██████████| 339/339 [01:42<00:00,  3.32it/s]\n",
      "03/18/2024 00:27:56 - INFO - trainer -   epoch train loss: 0.245320\n"
     ]
    },
    {
     "name": "stdout",
     "output_type": "stream",
     "text": [
      "train loss: 0.24532017942550963\n"
     ]
    },
    {
     "name": "stderr",
     "output_type": "stream",
     "text": [
      "03/18/2024 00:28:00 - INFO - trainer -   test loss: 0.236046\n",
      "epoch 102 iter 338: train loss 0.24538. lr 3.000000e-05: 100%|██████████| 339/339 [01:42<00:00,  3.31it/s]\n",
      "03/18/2024 00:29:43 - INFO - trainer -   epoch train loss: 0.244202\n"
     ]
    },
    {
     "name": "stdout",
     "output_type": "stream",
     "text": [
      "train loss: 0.24420198591585357\n"
     ]
    },
    {
     "name": "stderr",
     "output_type": "stream",
     "text": [
      "03/18/2024 00:29:48 - INFO - trainer -   test loss: 0.235499\n",
      "epoch 103 iter 338: train loss 0.24206. lr 3.000000e-05: 100%|██████████| 339/339 [01:42<00:00,  3.32it/s]\n",
      "03/18/2024 00:31:30 - INFO - trainer -   epoch train loss: 0.243185\n"
     ]
    },
    {
     "name": "stdout",
     "output_type": "stream",
     "text": [
      "train loss: 0.24318543454538757\n"
     ]
    },
    {
     "name": "stderr",
     "output_type": "stream",
     "text": [
      "03/18/2024 00:31:35 - INFO - trainer -   test loss: 0.235153\n",
      "epoch 104 iter 338: train loss 0.23318. lr 3.000000e-05: 100%|██████████| 339/339 [01:42<00:00,  3.32it/s]\n",
      "03/18/2024 00:33:18 - INFO - trainer -   epoch train loss: 0.242170\n"
     ]
    },
    {
     "name": "stdout",
     "output_type": "stream",
     "text": [
      "train loss: 0.24216987961864753\n"
     ]
    },
    {
     "name": "stderr",
     "output_type": "stream",
     "text": [
      "03/18/2024 00:33:22 - INFO - trainer -   test loss: 0.234374\n",
      "epoch 105 iter 338: train loss 0.23423. lr 3.000000e-05: 100%|██████████| 339/339 [01:42<00:00,  3.32it/s]\n",
      "03/18/2024 00:35:05 - INFO - trainer -   epoch train loss: 0.241191\n"
     ]
    },
    {
     "name": "stdout",
     "output_type": "stream",
     "text": [
      "train loss: 0.2411913917919176\n"
     ]
    },
    {
     "name": "stderr",
     "output_type": "stream",
     "text": [
      "03/18/2024 00:35:10 - INFO - trainer -   test loss: 0.234520\n",
      "epoch 106 iter 338: train loss 0.23798. lr 3.000000e-05: 100%|██████████| 339/339 [01:41<00:00,  3.33it/s]\n",
      "03/18/2024 00:36:52 - INFO - trainer -   epoch train loss: 0.240116\n"
     ]
    },
    {
     "name": "stdout",
     "output_type": "stream",
     "text": [
      "train loss: 0.24011624813255658\n"
     ]
    },
    {
     "name": "stderr",
     "output_type": "stream",
     "text": [
      "03/18/2024 00:36:57 - INFO - trainer -   test loss: 0.232867\n",
      "epoch 107 iter 338: train loss 0.23567. lr 3.000000e-05: 100%|██████████| 339/339 [01:42<00:00,  3.32it/s]\n",
      "03/18/2024 00:38:39 - INFO - trainer -   epoch train loss: 0.239064\n"
     ]
    },
    {
     "name": "stdout",
     "output_type": "stream",
     "text": [
      "train loss: 0.23906371138088822\n"
     ]
    },
    {
     "name": "stderr",
     "output_type": "stream",
     "text": [
      "03/18/2024 00:38:44 - INFO - trainer -   test loss: 0.232830\n",
      "epoch 108 iter 338: train loss 0.23051. lr 3.000000e-05: 100%|██████████| 339/339 [01:42<00:00,  3.32it/s]\n",
      "03/18/2024 00:40:26 - INFO - trainer -   epoch train loss: 0.238136\n"
     ]
    },
    {
     "name": "stdout",
     "output_type": "stream",
     "text": [
      "train loss: 0.23813646095516408\n"
     ]
    },
    {
     "name": "stderr",
     "output_type": "stream",
     "text": [
      "03/18/2024 00:40:31 - INFO - trainer -   test loss: 0.232435\n",
      "epoch 109 iter 338: train loss 0.23329. lr 3.000000e-05: 100%|██████████| 339/339 [01:42<00:00,  3.32it/s]\n",
      "03/18/2024 00:42:14 - INFO - trainer -   epoch train loss: 0.237172\n"
     ]
    },
    {
     "name": "stdout",
     "output_type": "stream",
     "text": [
      "train loss: 0.23717215094594477\n"
     ]
    },
    {
     "name": "stderr",
     "output_type": "stream",
     "text": [
      "03/18/2024 00:42:19 - INFO - trainer -   test loss: 0.231854\n",
      "epoch 110 iter 338: train loss 0.22568. lr 3.000000e-05: 100%|██████████| 339/339 [01:42<00:00,  3.31it/s]\n",
      "03/18/2024 00:44:01 - INFO - trainer -   epoch train loss: 0.236251\n"
     ]
    },
    {
     "name": "stdout",
     "output_type": "stream",
     "text": [
      "train loss: 0.23625110520549933\n"
     ]
    },
    {
     "name": "stderr",
     "output_type": "stream",
     "text": [
      "03/18/2024 00:44:06 - INFO - trainer -   test loss: 0.231601\n",
      "epoch 111 iter 338: train loss 0.22954. lr 3.000000e-05: 100%|██████████| 339/339 [01:42<00:00,  3.31it/s]\n",
      "03/18/2024 00:45:49 - INFO - trainer -   epoch train loss: 0.235371\n"
     ]
    },
    {
     "name": "stdout",
     "output_type": "stream",
     "text": [
      "train loss: 0.2353707947562226\n"
     ]
    },
    {
     "name": "stderr",
     "output_type": "stream",
     "text": [
      "03/18/2024 00:45:54 - INFO - trainer -   test loss: 0.231675\n",
      "epoch 112 iter 338: train loss 0.22559. lr 3.000000e-05: 100%|██████████| 339/339 [01:42<00:00,  3.32it/s]\n",
      "03/18/2024 00:47:37 - INFO - trainer -   epoch train loss: 0.234464\n"
     ]
    },
    {
     "name": "stdout",
     "output_type": "stream",
     "text": [
      "train loss: 0.23446430745026356\n"
     ]
    },
    {
     "name": "stderr",
     "output_type": "stream",
     "text": [
      "03/18/2024 00:47:41 - INFO - trainer -   test loss: 0.230905\n",
      "epoch 113 iter 338: train loss 0.23077. lr 3.000000e-05: 100%|██████████| 339/339 [01:42<00:00,  3.31it/s]\n",
      "03/18/2024 00:49:24 - INFO - trainer -   epoch train loss: 0.233599\n"
     ]
    },
    {
     "name": "stdout",
     "output_type": "stream",
     "text": [
      "train loss: 0.23359902607480335\n"
     ]
    },
    {
     "name": "stderr",
     "output_type": "stream",
     "text": [
      "03/18/2024 00:49:29 - INFO - trainer -   test loss: 0.231123\n",
      "epoch 114 iter 338: train loss 0.22277. lr 3.000000e-05: 100%|██████████| 339/339 [01:48<00:00,  3.13it/s]\n",
      "03/18/2024 00:51:18 - INFO - trainer -   epoch train loss: 0.232648\n"
     ]
    },
    {
     "name": "stdout",
     "output_type": "stream",
     "text": [
      "train loss: 0.2326478704502449\n"
     ]
    },
    {
     "name": "stderr",
     "output_type": "stream",
     "text": [
      "03/18/2024 00:51:23 - INFO - trainer -   test loss: 0.230048\n",
      "epoch 115 iter 338: train loss 0.22237. lr 3.000000e-05: 100%|██████████| 339/339 [01:42<00:00,  3.31it/s]\n",
      "03/18/2024 00:53:06 - INFO - trainer -   epoch train loss: 0.231777\n"
     ]
    },
    {
     "name": "stdout",
     "output_type": "stream",
     "text": [
      "train loss: 0.23177701028223235\n"
     ]
    },
    {
     "name": "stderr",
     "output_type": "stream",
     "text": [
      "03/18/2024 00:53:11 - INFO - trainer -   test loss: 0.229893\n",
      "epoch 116 iter 338: train loss 0.22031. lr 3.000000e-05: 100%|██████████| 339/339 [01:42<00:00,  3.31it/s]\n",
      "03/18/2024 00:54:54 - INFO - trainer -   epoch train loss: 0.231026\n"
     ]
    },
    {
     "name": "stdout",
     "output_type": "stream",
     "text": [
      "train loss: 0.23102566450394713\n"
     ]
    },
    {
     "name": "stderr",
     "output_type": "stream",
     "text": [
      "03/18/2024 00:54:59 - INFO - trainer -   test loss: 0.229543\n",
      "epoch 117 iter 338: train loss 0.21978. lr 3.000000e-05: 100%|██████████| 339/339 [01:42<00:00,  3.31it/s]\n",
      "03/18/2024 00:56:41 - INFO - trainer -   epoch train loss: 0.230140\n"
     ]
    },
    {
     "name": "stdout",
     "output_type": "stream",
     "text": [
      "train loss: 0.23013962770106167\n"
     ]
    },
    {
     "name": "stderr",
     "output_type": "stream",
     "text": [
      "03/18/2024 00:56:46 - INFO - trainer -   test loss: 0.228691\n",
      "epoch 118 iter 338: train loss 0.21582. lr 3.000000e-05: 100%|██████████| 339/339 [01:42<00:00,  3.30it/s]\n",
      "03/18/2024 00:58:29 - INFO - trainer -   epoch train loss: 0.229333\n"
     ]
    },
    {
     "name": "stdout",
     "output_type": "stream",
     "text": [
      "train loss: 0.22933300125212092\n"
     ]
    },
    {
     "name": "stderr",
     "output_type": "stream",
     "text": [
      "03/18/2024 00:58:34 - INFO - trainer -   test loss: 0.228615\n",
      "epoch 119 iter 338: train loss 0.21859. lr 3.000000e-05: 100%|██████████| 339/339 [01:42<00:00,  3.31it/s]\n",
      "03/18/2024 01:00:17 - INFO - trainer -   epoch train loss: 0.228550\n"
     ]
    },
    {
     "name": "stdout",
     "output_type": "stream",
     "text": [
      "train loss: 0.2285499836930835\n"
     ]
    },
    {
     "name": "stderr",
     "output_type": "stream",
     "text": [
      "03/18/2024 01:00:22 - INFO - trainer -   test loss: 0.228472\n",
      "epoch 120 iter 338: train loss 0.21855. lr 3.000000e-05: 100%|██████████| 339/339 [01:42<00:00,  3.31it/s]\n",
      "03/18/2024 01:02:05 - INFO - trainer -   epoch train loss: 0.227778\n"
     ]
    },
    {
     "name": "stdout",
     "output_type": "stream",
     "text": [
      "train loss: 0.227778125521356\n"
     ]
    },
    {
     "name": "stderr",
     "output_type": "stream",
     "text": [
      "03/18/2024 01:02:10 - INFO - trainer -   test loss: 0.227884\n"
     ]
    },
    {
     "name": "stdout",
     "output_type": "stream",
     "text": [
      "Model ../models/model_epochs->120_heads->4_embd->256_batch->128_new_midi_embeddings saved\n"
     ]
    },
    {
     "name": "stderr",
     "output_type": "stream",
     "text": [
      "wandb: WARNING Source type is set to 'repo' but some required information is missing from the environment. A job will not be created from this run. See https://docs.wandb.ai/guides/launch/create-job\n"
     ]
    },
    {
     "data": {
      "application/vnd.jupyter.widget-view+json": {
       "model_id": "48bfa6d3d31342b4b9fbf240d2b9ecef",
       "version_major": 2,
       "version_minor": 0
      },
      "text/plain": [
       "VBox(children=(Label(value='0.005 MB of 0.005 MB uploaded\\r'), FloatProgress(value=1.0, max=1.0)))"
      ]
     },
     "metadata": {},
     "output_type": "display_data"
    },
    {
     "data": {
      "text/html": [
       "<style>\n",
       "    table.wandb td:nth-child(1) { padding: 0 10px; text-align: left ; width: auto;} td:nth-child(2) {text-align: left ; width: 100%}\n",
       "    .wandb-row { display: flex; flex-direction: row; flex-wrap: wrap; justify-content: flex-start; width: 100% }\n",
       "    .wandb-col { display: flex; flex-direction: column; flex-basis: 100%; flex: 1; padding: 10px; }\n",
       "    </style>\n",
       "<div class=\"wandb-row\"><div class=\"wandb-col\"><h3>Run history:</h3><br/><table class=\"wandb\"><tr><td>Train loss</td><td>█▄▄▃▃▃▃▃▃▃▃▃▂▂▂▂▂▂▁▁▁▁▁▁▁▁▁▁▁▁▁▁▁▁▁▁▁▁▁▁</td></tr><tr><td>Validation loss</td><td>█▄▄▄▄▄▃▃▃▃▃▃▃▂▂▂▁▁▁▁▁▁▁▁▁▁▁▁▁▁▁▁▁▁▁▁▁▁▁▁</td></tr><tr><td>hits@1</td><td>▁▄▄▄▄▄▄▄▄▅▅▅▅▆▆▆▇▇▇▇████████████████████</td></tr><tr><td>hits@3</td><td>▁▅▅▆▆▆▆▆▇▇▇▇▇▇▇▇████████████████████████</td></tr><tr><td>hits@5</td><td>▁▅▆▆▆▇▇▇▇▇▇▇▇▇██████████████████████████</td></tr></table><br/></div><div class=\"wandb-col\"><h3>Run summary:</h3><br/><table class=\"wandb\"><tr><td>Train loss</td><td>0.22778</td></tr><tr><td>Validation loss</td><td>0.22788</td></tr><tr><td>hits@1</td><td>0.92924</td></tr><tr><td>hits@3</td><td>0.98254</td></tr><tr><td>hits@5</td><td>0.99043</td></tr></table><br/></div></div>"
      ],
      "text/plain": [
       "<IPython.core.display.HTML object>"
      ]
     },
     "metadata": {},
     "output_type": "display_data"
    },
    {
     "data": {
      "text/html": [
       " View run <strong style=\"color:#cdcd00\">decent-feather-22</strong> at: <a href='https://wandb.ai/music_gpt/music_gpt_new_voicing/runs/sfcbyp74' target=\"_blank\">https://wandb.ai/music_gpt/music_gpt_new_voicing/runs/sfcbyp74</a><br/>Synced 5 W&B file(s), 0 media file(s), 0 artifact file(s) and 0 other file(s)"
      ],
      "text/plain": [
       "<IPython.core.display.HTML object>"
      ]
     },
     "metadata": {},
     "output_type": "display_data"
    },
    {
     "data": {
      "text/html": [
       "Find logs at: <code>./wandb/run-20240317_212705-sfcbyp74/logs</code>"
      ],
      "text/plain": [
       "<IPython.core.display.HTML object>"
      ]
     },
     "metadata": {},
     "output_type": "display_data"
    }
   ],
   "source": [
    "epochs = 270\n",
    "embedding = 256\n",
    "heads = 4\n",
    "layers = 4\n",
    "batch_size = 128\n",
    "learning_rate = 3e-5\n",
    "num_workers = 4\n",
    "midi_vocab = 128\n",
    "token_size = len(tokens)\n",
    "\n",
    "mconf = GPTConfig(len(tokens), dataset.block_size, midi_vocab, n_layer=layers, n_head=heads, n_embd=embedding)\n",
    "session_model = GPT(mconf)\n",
    "MODEL_NAME = \"../models/model_\"+ \"epochs->\" + str(epochs) + \"_heads->\" + str(heads) + \"_embd->\" + str(embedding) + \"_batch->\" + str(batch_size) + \"_new_midi_embeddings\"\n",
    "print(MODEL_NAME)\n",
    "\n",
    "session_model = load_model(MODEL_NAME, session_model)\n",
    "\n",
    "if (session_model == None):\n",
    "    #mconf = GPTConfig(len(tokens), dataset.block_size, n_layer=layers, n_head=heads, n_embd=embbedings)\n",
    "    session_model = GPT(mconf)\n",
    "    tconf = TrainerConfig(max_epochs=epochs, \n",
    "                          batch_size=batch_size, \n",
    "                          learning_rate=learning_rate, \n",
    "                          num_workers=num_workers\n",
    "                          )\n",
    "    writer = SummaryWriter(log_dir='../runs/'+'logs') \n",
    "    trainer = Trainer(session_model, dataset, validation, tconf, writer)\n",
    "    trainer.train()\n",
    "    save_model(MODEL_NAME, session_model)\n",
    "    # [optional] finish the wandb run, necessary in notebooks\n",
    "    wandb.finish()"
   ]
  }
 ],
 "metadata": {
  "kernelspec": {
   "display_name": "Python 3",
   "language": "python",
   "name": "python3"
  },
  "language_info": {
   "codemirror_mode": {
    "name": "ipython",
    "version": 3
   },
   "file_extension": ".py",
   "mimetype": "text/x-python",
   "name": "python",
   "nbconvert_exporter": "python",
   "pygments_lexer": "ipython3",
   "version": "3.10.12"
  }
 },
 "nbformat": 4,
 "nbformat_minor": 2
}
