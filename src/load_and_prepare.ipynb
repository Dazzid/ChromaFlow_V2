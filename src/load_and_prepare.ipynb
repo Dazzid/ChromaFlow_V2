{
 "cells": [
  {
   "cell_type": "code",
   "execution_count": 14,
   "metadata": {},
   "outputs": [],
   "source": [
    "import numpy as np\n",
    "from tqdm import tqdm\n",
    "import random"
   ]
  },
  {
   "cell_type": "code",
   "execution_count": 15,
   "metadata": {},
   "outputs": [],
   "source": [
    "dataset = np.load(\"../data/formatted/dataset.npy\", allow_pickle=True)\n",
    "midi_dataset = np.load(\"../data/formatted/midi_dataset.npy\", allow_pickle=True)\n",
    "meta_dataset = np.load(\"../data/formatted/meta_augmented.npy\", allow_pickle=True)\n",
    "\n",
    "print(dataset.shape, midi_dataset.shape, meta_dataset.shape)"
   ]
  },
  {
   "cell_type": "code",
   "execution_count": null,
   "metadata": {},
   "outputs": [
    {
     "name": "stdout",
     "output_type": "stream",
     "text": [
      "['Style' 'Jazz' 'Tonality' ... '<pad>' '<pad>' '<pad>']\n"
     ]
    }
   ],
   "source": [
    "print(dataset[0])"
   ]
  },
  {
   "cell_type": "code",
   "execution_count": null,
   "metadata": {},
   "outputs": [
    {
     "name": "stdout",
     "output_type": "stream",
     "text": [
      "196\n",
      "['.' '/' '0.3997395833333333' '0.4440104166666667' '0.5' '0.5703125'\n",
      " '0.6666666666666666' '0.75' '0.7994791666666666' '0.8880208333333334'\n",
      " '1.0' '1.1419270833333333' '1.3333333333333333' '1.5'\n",
      " '1.5989583333333333' '1.7135416666666667' '128 Feel' '2.0' '2.25'\n",
      " '2.3997395833333335' '2.6666666666666665' '3.0' '4.0' ':|' '<end>'\n",
      " '<pad>' '<start>' 'A' 'A major' 'A minor' 'A#' 'A##' 'Ab' 'Ab major'\n",
      " 'Ab minor' 'Abb' 'Afoxé' 'Afro' 'B' 'B major' 'B minor' 'B#' 'B##'\n",
      " 'Baião' 'Ballad' 'Bb' 'Bb major' 'Bb minor' 'Bbb' 'Blues' 'Bolero'\n",
      " 'Bolero-Cha' 'Bossa' 'C' 'C major' 'C minor' 'C#' 'C##' 'Calypso' 'Cb'\n",
      " 'Cbb' 'Cha Cha' 'Chacarera' 'Choro' 'Country Ballad' 'D' 'D major'\n",
      " 'D minor' 'D#' 'D##' 'Db' 'Db major' 'Db minor' 'Dbb' 'Deliberately'\n",
      " 'Disco' 'Dreamlike' 'E' 'E major' 'E minor' 'E#' 'E##' 'Eb' 'Eb major'\n",
      " 'Eb minor' 'Ebb' 'Even 16ths' 'Even 8ths' 'F' 'F major' 'F minor' 'F#'\n",
      " 'F##' 'Fb' 'Fbb' 'Folk' 'Form_A' 'Form_B' 'Form_C' 'Form_Coda' 'Form_D'\n",
      " 'Form_Segno' 'Form_intro' 'Form_verse' 'Forró' 'Foxtrot' 'Frevo' 'Funk'\n",
      " 'G' 'G major' 'G minor' 'G#' 'G##' 'Gary Aprile' 'Gb' 'Gb major'\n",
      " 'Gb minor' 'Gbb' 'Gospel' 'Gospel Ballad' 'Gypsy Waltz' 'Hymn' 'Jazz'\n",
      " 'Latin' 'Mambo' 'March' 'Marchinha' 'Maxixe' 'Med Up Latin'\n",
      " 'Medium Ballad' 'Medium Country' 'Medium Shuffle' 'Medium Slow'\n",
      " 'Medium Up' 'Medium Waltz' 'Merengue' 'Moderate Latin' 'Montuno'\n",
      " 'Musical' 'N.C.' 'Pop' 'Power Ballad' 'Reggae' 'Repeat_0' 'Repeat_1'\n",
      " 'Repeat_2' 'Repeat_3' 'RnB' 'Rock' 'Salsa' 'Samba' 'Shuffle'\n",
      " 'Slow Ballad' 'Slow Shuffle' 'Slowly' 'Son' 'Soul' 'Style' 'Tango'\n",
      " 'Tonality' 'Up Tempo' 'Up Waltz (One Feel)' 'Waltz' 'add #11' 'add #5'\n",
      " 'add #7' 'add #9' 'add 11' 'add 13' 'add 2' 'add 7' 'add 9' 'add b13'\n",
      " 'add b6' 'add b9' 'alter #11' 'alter #5' 'alter #9' 'alter b5' 'alter b9'\n",
      " 'aug' 'dom7' 'm' 'm6' 'm7' 'maj' 'maj6' 'maj7' 'major-13th' 'o' 'o7'\n",
      " 'o_maj7' 'power' 'sus4' 'sus7' '|']\n"
     ]
    }
   ],
   "source": [
    "#Token from dataset\n",
    "tokens = np.unique(np.concatenate(dataset.tolist()))\n",
    "print(len(tokens))\n",
    "\n",
    "np.save(\"../data/formatted/tokens.npy\", list(tokens))"
   ]
  },
  {
   "cell_type": "code",
   "execution_count": null,
   "metadata": {},
   "outputs": [
    {
     "name": "stdout",
     "output_type": "stream",
     "text": [
      "{'.': 0, '/': 1, '0.3997395833333333': 2, '0.4440104166666667': 3, '0.5': 4, '0.5703125': 5, '0.6666666666666666': 6, '0.75': 7, '0.7994791666666666': 8, '0.8880208333333334': 9, '1.0': 10, '1.1419270833333333': 11, '1.3333333333333333': 12, '1.5': 13, '1.5989583333333333': 14, '1.7135416666666667': 15, '128 Feel': 16, '2.0': 17, '2.25': 18, '2.3997395833333335': 19, '2.6666666666666665': 20, '3.0': 21, '4.0': 22, ':|': 23, '<end>': 24, '<pad>': 25, '<start>': 26, 'A': 27, 'A major': 28, 'A minor': 29, 'A#': 30, 'A##': 31, 'Ab': 32, 'Ab major': 33, 'Ab minor': 34, 'Abb': 35, 'Afoxé': 36, 'Afro': 37, 'B': 38, 'B major': 39, 'B minor': 40, 'B#': 41, 'B##': 42, 'Baião': 43, 'Ballad': 44, 'Bb': 45, 'Bb major': 46, 'Bb minor': 47, 'Bbb': 48, 'Blues': 49, 'Bolero': 50, 'Bolero-Cha': 51, 'Bossa': 52, 'C': 53, 'C major': 54, 'C minor': 55, 'C#': 56, 'C##': 57, 'Calypso': 58, 'Cb': 59, 'Cbb': 60, 'Cha Cha': 61, 'Chacarera': 62, 'Choro': 63, 'Country Ballad': 64, 'D': 65, 'D major': 66, 'D minor': 67, 'D#': 68, 'D##': 69, 'Db': 70, 'Db major': 71, 'Db minor': 72, 'Dbb': 73, 'Deliberately': 74, 'Disco': 75, 'Dreamlike': 76, 'E': 77, 'E major': 78, 'E minor': 79, 'E#': 80, 'E##': 81, 'Eb': 82, 'Eb major': 83, 'Eb minor': 84, 'Ebb': 85, 'Even 16ths': 86, 'Even 8ths': 87, 'F': 88, 'F major': 89, 'F minor': 90, 'F#': 91, 'F##': 92, 'Fb': 93, 'Fbb': 94, 'Folk': 95, 'Form_A': 96, 'Form_B': 97, 'Form_C': 98, 'Form_Coda': 99, 'Form_D': 100, 'Form_Segno': 101, 'Form_intro': 102, 'Form_verse': 103, 'Forró': 104, 'Foxtrot': 105, 'Frevo': 106, 'Funk': 107, 'G': 108, 'G major': 109, 'G minor': 110, 'G#': 111, 'G##': 112, 'Gary Aprile': 113, 'Gb': 114, 'Gb major': 115, 'Gb minor': 116, 'Gbb': 117, 'Gospel': 118, 'Gospel Ballad': 119, 'Gypsy Waltz': 120, 'Hymn': 121, 'Jazz': 122, 'Latin': 123, 'Mambo': 124, 'March': 125, 'Marchinha': 126, 'Maxixe': 127, 'Med Up Latin': 128, 'Medium Ballad': 129, 'Medium Country': 130, 'Medium Shuffle': 131, 'Medium Slow': 132, 'Medium Up': 133, 'Medium Waltz': 134, 'Merengue': 135, 'Moderate Latin': 136, 'Montuno': 137, 'Musical': 138, 'N.C.': 139, 'Pop': 140, 'Power Ballad': 141, 'Reggae': 142, 'Repeat_0': 143, 'Repeat_1': 144, 'Repeat_2': 145, 'Repeat_3': 146, 'RnB': 147, 'Rock': 148, 'Salsa': 149, 'Samba': 150, 'Shuffle': 151, 'Slow Ballad': 152, 'Slow Shuffle': 153, 'Slowly': 154, 'Son': 155, 'Soul': 156, 'Style': 157, 'Tango': 158, 'Tonality': 159, 'Up Tempo': 160, 'Up Waltz (One Feel)': 161, 'Waltz': 162, 'add #11': 163, 'add #5': 164, 'add #7': 165, 'add #9': 166, 'add 11': 167, 'add 13': 168, 'add 2': 169, 'add 7': 170, 'add 9': 171, 'add b13': 172, 'add b6': 173, 'add b9': 174, 'alter #11': 175, 'alter #5': 176, 'alter #9': 177, 'alter b5': 178, 'alter b9': 179, 'aug': 180, 'dom7': 181, 'm': 182, 'm6': 183, 'm7': 184, 'maj': 185, 'maj6': 186, 'maj7': 187, 'major-13th': 188, 'o': 189, 'o7': 190, 'o_maj7': 191, 'power': 192, 'sus4': 193, 'sus7': 194, '|': 195}\n"
     ]
    }
   ],
   "source": [
    "stoi = { tk:i for i,tk in enumerate(tokens) }\n",
    "itos = { i:tk for i,tk in enumerate(tokens) }\n",
    "\n",
    "print(stoi)"
   ]
  },
  {
   "cell_type": "code",
   "execution_count": null,
   "metadata": {},
   "outputs": [
    {
     "name": "stdout",
     "output_type": "stream",
     "text": [
      "True\n"
     ]
    }
   ],
   "source": [
    "#Get the number of real songs\n",
    "realSongs = len(dataset)/12\n",
    "tenPercent = int(0.1 * realSongs)\n",
    "\n",
    "#random a number without repeating number\n",
    "randomList = random.sample(range(0, int(realSongs)), tenPercent)\n",
    "\n",
    "#if number is bigger than 12 multiply it by 12\n",
    "for i in range(len(randomList)):\n",
    "    randomList[i] = randomList[i] * 12\n",
    "\n",
    "#populate a random list with the 12 subsequent numbers per value\n",
    "final_random_list=[]\n",
    "for number in randomList:\n",
    "    for i in range(12):\n",
    "        final_random_list.append(number+i)\n",
    "\n",
    "#check if a number is duplicated \n",
    "print(len(final_random_list) == len(set(final_random_list)))"
   ]
  },
  {
   "cell_type": "code",
   "execution_count": null,
   "metadata": {},
   "outputs": [],
   "source": [
    "#save the random list\n",
    "np.save('../data/formatted/final_random_list.npy', final_random_list)"
   ]
  },
  {
   "cell_type": "code",
   "execution_count": null,
   "metadata": {},
   "outputs": [],
   "source": [
    "#split dataset and validation using the random list\n",
    "dataset_test = dataset[final_random_list]\n",
    "midi_test = midi_dataset[final_random_list]\n",
    "meta_test = meta_dataset[final_random_list]\n",
    "\n",
    "dataset_train = np.delete(dataset, final_random_list, axis=0)\n",
    "midi_train = np.delete(midi_dataset, final_random_list, axis=0)"
   ]
  },
  {
   "cell_type": "code",
   "execution_count": null,
   "metadata": {},
   "outputs": [],
   "source": [
    "#save the train and test dataset\n",
    "#test\n",
    "np.save('../data/formatted/dataset_test.npy', dataset_test)\n",
    "np.save('../data/formatted/midi_test.npy', midi_test)\n",
    "np.save('../data/formatted/meta_test.npy', meta_test)\n",
    "#train\n",
    "np.save('../data/formatted/dataset_train.npy', dataset_train)\n",
    "np.save('../data/formatted/midi_train.npy', midi_train)"
   ]
  },
  {
   "cell_type": "code",
   "execution_count": null,
   "metadata": {},
   "outputs": [],
   "source": [
    "import random\n",
    "#create a file with shuffled reference index\n",
    "def createWindowedShuffleReference(type, size, window, save = False):\n",
    "    s = np.arange(0, size, 1)\n",
    "    #num = np.arange(0, len(data)/10, 1)\n",
    "    np.random.shuffle(s)\n",
    "\n",
    "    n = int(size/window)\n",
    "    numlist = random.sample(range(n), n)\n",
    "    numlist = np.array(numlist)\n",
    "    numlist = numlist * window\n",
    "\n",
    "    m = np.max(numlist)\n",
    "    l_ref = size-window\n",
    "    print('real:', size, 'max:', m, 'length_ref:',l_ref)\n",
    "\n",
    "    if m != l_ref:\n",
    "        rest = m - l_ref\n",
    "        numlist = numlist - rest\n",
    "\n",
    "    ref = []\n",
    "    for num in numlist:\n",
    "        if num == 0:\n",
    "            print(\"OK\")\n",
    "        for i in range(0,window):\n",
    "            ref.append(num+i)\n",
    "\n",
    "    #return the shuffled list\n",
    "    if save:\n",
    "        np.savetxt(\"../data/shuffle_\" + type + \".txt\", ref, fmt='%i', delimiter=\" \", header='Array shape: ('+str(size)+', 1)')\n",
    "    return ref"
   ]
  },
  {
   "cell_type": "code",
   "execution_count": null,
   "metadata": {},
   "outputs": [],
   "source": [
    "def getData(folder, name):\n",
    "    data_path = folder + '/' + name\n",
    "    data = np.loadtxt(data_path)\n",
    "    f = open(data_path, \"r\")\n",
    "    format = f.readline().replace('# Array shape: (', '').replace('\\n', '').replace(')', '')\n",
    "    format = np.array(format.split(', ')).astype(int)\n",
    "    f.close()\n",
    "    return data, format"
   ]
  },
  {
   "cell_type": "code",
   "execution_count": null,
   "metadata": {},
   "outputs": [
    {
     "name": "stdout",
     "output_type": "stream",
     "text": [
      "(43272, 2048) (43272, 2048, 8) (4800, 2048) (4800, 2048, 8)\n",
      "real: 43272 max: 43271 length_ref: 43271\n",
      "OK\n",
      "real: 4800 max: 4799 length_ref: 4799\n",
      "OK\n"
     ]
    }
   ],
   "source": [
    "train_dataset = np.load('../data/formatted/dataset_train.npy', allow_pickle=True)\n",
    "test_dataset = np.load('../data/formatted/dataset_test.npy', allow_pickle=True)\n",
    "\n",
    "train_midi = np.load('../data/formatted/midi_train.npy', allow_pickle=True)\n",
    "test_midi = np.load('../data/formatted/midi_test.npy', allow_pickle=True)\n",
    "\n",
    "print(train_dataset.shape, train_midi.shape, test_dataset.shape, test_midi.shape)\n",
    "\n",
    "BATCH_SHUFFLE_SIZE = 1\n",
    "ref = createWindowedShuffleReference(\"train\", len(train_dataset), BATCH_SHUFFLE_SIZE, True)\n",
    "ref_test = createWindowedShuffleReference(\"test\", len(test_dataset), BATCH_SHUFFLE_SIZE, True)\n",
    "\n",
    "# first shuffle the train dataset\n",
    "shuffle_train, format_train = getData('../data', 'shuffle_train.txt')\n",
    "shuffle_train = shuffle_train.reshape(format_train[0], ).astype(int)\n",
    "shuffle_train = shuffle_train.tolist()\n",
    "dataset = train_dataset[shuffle_train]\n",
    "midiDataset = train_midi[shuffle_train]\n",
    "\n",
    "#second shuffle the test dataset\n",
    "shuffle_test, format_test = getData('../data', 'shuffle_test.txt')\n",
    "shuffle_test = shuffle_test.reshape(format_test[0], ).astype(int)\n",
    "shuffle_test = shuffle_test.tolist()\n",
    "validation = test_dataset[shuffle_test]\n",
    "midi_validation = test_midi[shuffle_test]"
   ]
  },
  {
   "cell_type": "code",
   "execution_count": null,
   "metadata": {},
   "outputs": [],
   "source": [
    "np.save('../data/shuffled/dataset_train.npy', dataset)\n",
    "np.save('../data/shuffled/midi_train.npy', midiDataset)\n",
    "np.save('../data/shuffled/dataset_test.npy', validation)\n",
    "np.save('../data/shuffled/midi_test.npy', midi_validation)"
   ]
  }
 ],
 "metadata": {
  "kernelspec": {
   "display_name": "Python 3",
   "language": "python",
   "name": "python3"
  },
  "language_info": {
   "codemirror_mode": {
    "name": "ipython",
    "version": 3
   },
   "file_extension": ".py",
   "mimetype": "text/x-python",
   "name": "python",
   "nbconvert_exporter": "python",
   "pygments_lexer": "ipython3",
   "version": "3.10.12"
  }
 },
 "nbformat": 4,
 "nbformat_minor": 2
}
