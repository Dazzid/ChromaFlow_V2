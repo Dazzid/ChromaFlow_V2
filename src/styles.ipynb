{
 "cells": [
  {
   "cell_type": "code",
   "execution_count": 1,
   "metadata": {},
   "outputs": [
    {
     "name": "stdout",
     "output_type": "stream",
     "text": [
      "48072 48072 48072\n"
     ]
    }
   ],
   "source": [
    "#Load dataset\n",
    "import json\n",
    "\n",
    "\n",
    "with open('../data/formatted/meta_dataset.txt', 'r') as jsonFile:\n",
    "    meta_augmented = json.load(jsonFile)\n",
    "    \n",
    "with open('../data/formatted/dataset_augmented.txt', 'r') as jsonFile:\n",
    "    dataset_augmented = json.load(jsonFile)\n",
    "    \n",
    "with open('../data/formatted/midi_voicing_dataset.txt', 'r') as jsonFile:\n",
    "    midi_voicing_dataset = json.load(jsonFile)\n",
    "\n",
    "print(len(midi_voicing_dataset), len(dataset_augmented), len(meta_augmented))"
   ]
  },
  {
   "cell_type": "markdown",
   "metadata": {},
   "source": [
    "- Fix the Style Token\n",
    "- Split the songs that are too long into two sections"
   ]
  },
  {
   "cell_type": "code",
   "execution_count": 2,
   "metadata": {},
   "outputs": [
    {
     "data": {
      "application/vnd.jupyter.widget-view+json": {
       "model_id": "70e9ba68f525457db4e70ebb52dc6eea",
       "version_major": 2,
       "version_minor": 0
      },
      "text/plain": [
       "  0%|          | 0/48072 [00:00<?, ?it/s]"
      ]
     },
     "metadata": {},
     "output_type": "display_data"
    },
    {
     "name": "stdout",
     "output_type": "stream",
     "text": [
      "63\n",
      "{'composer': 'George Gershwin, Ira Gershwin (1927)', 'style': 'Jazz', 'song_name': \"'S Wonderful\", 'tonality': 'Eb major', 'midi_key': 15, 'time_signature': '4/4', 'decade': 'Null'}\n"
     ]
    }
   ],
   "source": [
    "import importlib\n",
    "import formats as fmt\n",
    "importlib.reload(fmt)\n",
    "\n",
    "fmt.correctStyleTokensInMeta(meta_augmented)\n",
    "\n",
    "all_styles = []\n",
    "for song in meta_augmented:     \n",
    "    all_styles.append(song['style'])\n",
    "\n",
    "styles = set(all_styles)\n",
    "print(len(styles))\n",
    "print(meta_augmented[0])"
   ]
  }
 ],
 "metadata": {
  "kernelspec": {
   "display_name": "Python 3",
   "language": "python",
   "name": "python3"
  },
  "language_info": {
   "codemirror_mode": {
    "name": "ipython",
    "version": 3
   },
   "file_extension": ".py",
   "mimetype": "text/x-python",
   "name": "python",
   "nbconvert_exporter": "python",
   "pygments_lexer": "ipython3",
   "version": "3.10.12"
  }
 },
 "nbformat": 4,
 "nbformat_minor": 2
}
