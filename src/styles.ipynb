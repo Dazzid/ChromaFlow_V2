{
 "cells": [
  {
   "cell_type": "code",
   "execution_count": 11,
   "metadata": {},
   "outputs": [
    {
     "name": "stdout",
     "output_type": "stream",
     "text": [
      "48072 48072 48072\n"
     ]
    }
   ],
   "source": [
    "#Load dataset\n",
    "import json\n",
    "\n",
    "\n",
    "with open('../data/formatted/meta_dataset.txt', 'r') as jsonFile:\n",
    "    meta_augmented = json.load(jsonFile)\n",
    "    \n",
    "with open('../data/formatted/dataset_augmented.txt', 'r') as jsonFile:\n",
    "    dataset_augmented = json.load(jsonFile)\n",
    "    \n",
    "with open('../data/formatted/midi_voicing_dataset.txt', 'r') as jsonFile:\n",
    "    midi_voicing_dataset = json.load(jsonFile)\n",
    "\n",
    "print(len(midi_voicing_dataset), len(dataset_augmented), len(meta_augmented))"
   ]
  },
  {
   "cell_type": "markdown",
   "metadata": {},
   "source": [
    "- Fix the Style Token\n",
    "- Split the songs that are too long into two sections"
   ]
  },
  {
   "cell_type": "code",
   "execution_count": 13,
   "metadata": {},
   "outputs": [
    {
     "data": {
      "application/vnd.jupyter.widget-view+json": {
       "model_id": "b2ea88e7c62042ca97d8f6a0e8b4d0c0",
       "version_major": 2,
       "version_minor": 0
      },
      "text/plain": [
       "  0%|          | 0/48072 [00:00<?, ?it/s]"
      ]
     },
     "metadata": {},
     "output_type": "display_data"
    },
    {
     "name": "stdout",
     "output_type": "stream",
     "text": [
      "63\n",
      "{'composer': 'George Gershwin, Ira Gershwin (1927)', 'style': 'Jazz', 'song_name': \"'S Wonderful\", 'tonality': 'C major', 'midi_key': 15, 'time_signature': '4/4', 'decade': 'Null'}\n",
      "{'composer': 'George Gershwin, Ira Gershwin (1927)', 'style': 'Jazz', 'song_name': \"'S Wonderful\", 'tonality': 'C major', 'midi_key': 15, 'time_signature': '4/4', 'decade': 'Null'}\n",
      "{'composer': 'George Gershwin, Ira Gershwin (1927)', 'style': 'Jazz', 'song_name': \"'S Wonderful\", 'tonality': 'Db major', 'midi_key': 15, 'time_signature': '4/4', 'decade': 'Null'}\n",
      "{'composer': 'George Gershwin, Ira Gershwin (1927)', 'style': 'Jazz', 'song_name': \"'S Wonderful\", 'tonality': 'D major', 'midi_key': 15, 'time_signature': '4/4', 'decade': 'Null'}\n",
      "{'composer': 'George Gershwin, Ira Gershwin (1927)', 'style': 'Jazz', 'song_name': \"'S Wonderful\", 'tonality': 'Eb major', 'midi_key': 15, 'time_signature': '4/4', 'decade': 'Null'}\n",
      "{'composer': 'George Gershwin, Ira Gershwin (1927)', 'style': 'Jazz', 'song_name': \"'S Wonderful\", 'tonality': 'E major', 'midi_key': 15, 'time_signature': '4/4', 'decade': 'Null'}\n",
      "{'composer': 'George Gershwin, Ira Gershwin (1927)', 'style': 'Jazz', 'song_name': \"'S Wonderful\", 'tonality': 'F major', 'midi_key': 15, 'time_signature': '4/4', 'decade': 'Null'}\n",
      "{'composer': 'George Gershwin, Ira Gershwin (1927)', 'style': 'Jazz', 'song_name': \"'S Wonderful\", 'tonality': 'Gb major', 'midi_key': 15, 'time_signature': '4/4', 'decade': 'Null'}\n",
      "{'composer': 'George Gershwin, Ira Gershwin (1927)', 'style': 'Jazz', 'song_name': \"'S Wonderful\", 'tonality': 'G major', 'midi_key': 15, 'time_signature': '4/4', 'decade': 'Null'}\n",
      "{'composer': 'George Gershwin, Ira Gershwin (1927)', 'style': 'Jazz', 'song_name': \"'S Wonderful\", 'tonality': 'Ab major', 'midi_key': 15, 'time_signature': '4/4', 'decade': 'Null'}\n",
      "{'composer': 'George Gershwin, Ira Gershwin (1927)', 'style': 'Jazz', 'song_name': \"'S Wonderful\", 'tonality': 'A major', 'midi_key': 15, 'time_signature': '4/4', 'decade': 'Null'}\n",
      "{'composer': 'George Gershwin, Ira Gershwin (1927)', 'style': 'Jazz', 'song_name': \"'S Wonderful\", 'tonality': 'Bb major', 'midi_key': 15, 'time_signature': '4/4', 'decade': 'Null'}\n",
      "{'composer': 'George Gershwin, Ira Gershwin (1927)', 'style': 'Jazz', 'song_name': \"'S Wonderful\", 'tonality': 'B major', 'midi_key': 15, 'time_signature': '4/4', 'decade': 'Null'}\n",
      "{'composer': 'Walter Donaldson, Edgar Leslie (1929)', 'style': 'Jazz', 'song_name': \"'Tain't No Sin To Take Off Your Skin\", 'tonality': 'C major', 'midi_key': 15, 'time_signature': '4/4', 'decade': 'Null'}\n",
      "{'composer': 'Walter Donaldson, Edgar Leslie (1929)', 'style': 'Jazz', 'song_name': \"'Tain't No Sin To Take Off Your Skin\", 'tonality': 'Db major', 'midi_key': 15, 'time_signature': '4/4', 'decade': 'Null'}\n",
      "{'composer': 'Walter Donaldson, Edgar Leslie (1929)', 'style': 'Jazz', 'song_name': \"'Tain't No Sin To Take Off Your Skin\", 'tonality': 'D major', 'midi_key': 15, 'time_signature': '4/4', 'decade': 'Null'}\n",
      "{'composer': 'Walter Donaldson, Edgar Leslie (1929)', 'style': 'Jazz', 'song_name': \"'Tain't No Sin To Take Off Your Skin\", 'tonality': 'Eb major', 'midi_key': 15, 'time_signature': '4/4', 'decade': 'Null'}\n",
      "{'composer': 'Walter Donaldson, Edgar Leslie (1929)', 'style': 'Jazz', 'song_name': \"'Tain't No Sin To Take Off Your Skin\", 'tonality': 'E major', 'midi_key': 15, 'time_signature': '4/4', 'decade': 'Null'}\n",
      "{'composer': 'Walter Donaldson, Edgar Leslie (1929)', 'style': 'Jazz', 'song_name': \"'Tain't No Sin To Take Off Your Skin\", 'tonality': 'F major', 'midi_key': 15, 'time_signature': '4/4', 'decade': 'Null'}\n",
      "{'composer': 'Walter Donaldson, Edgar Leslie (1929)', 'style': 'Jazz', 'song_name': \"'Tain't No Sin To Take Off Your Skin\", 'tonality': 'Gb major', 'midi_key': 15, 'time_signature': '4/4', 'decade': 'Null'}\n",
      "{'composer': 'Walter Donaldson, Edgar Leslie (1929)', 'style': 'Jazz', 'song_name': \"'Tain't No Sin To Take Off Your Skin\", 'tonality': 'G major', 'midi_key': 15, 'time_signature': '4/4', 'decade': 'Null'}\n",
      "{'composer': 'Walter Donaldson, Edgar Leslie (1929)', 'style': 'Jazz', 'song_name': \"'Tain't No Sin To Take Off Your Skin\", 'tonality': 'Ab major', 'midi_key': 15, 'time_signature': '4/4', 'decade': 'Null'}\n",
      "{'composer': 'Walter Donaldson, Edgar Leslie (1929)', 'style': 'Jazz', 'song_name': \"'Tain't No Sin To Take Off Your Skin\", 'tonality': 'A major', 'midi_key': 15, 'time_signature': '4/4', 'decade': 'Null'}\n",
      "{'composer': 'Walter Donaldson, Edgar Leslie (1929)', 'style': 'Jazz', 'song_name': \"'Tain't No Sin To Take Off Your Skin\", 'tonality': 'Bb major', 'midi_key': 15, 'time_signature': '4/4', 'decade': 'Null'}\n",
      "{'composer': 'Walter Donaldson, Edgar Leslie (1929)', 'style': 'Jazz', 'song_name': \"'Tain't No Sin To Take Off Your Skin\", 'tonality': 'B major', 'midi_key': 15, 'time_signature': '4/4', 'decade': 'Null'}\n",
      "{'composer': 'Sy Oliver, Trummy Young (1939)', 'style': 'Jazz', 'song_name': \"'Tain't What You Do (It's The Way That Cha Do It)\", 'tonality': 'C major', 'midi_key': 22, 'time_signature': '4/4', 'decade': 'Null'}\n",
      "{'composer': 'Sy Oliver, Trummy Young (1939)', 'style': 'Jazz', 'song_name': \"'Tain't What You Do (It's The Way That Cha Do It)\", 'tonality': 'Db major', 'midi_key': 22, 'time_signature': '4/4', 'decade': 'Null'}\n",
      "{'composer': 'Sy Oliver, Trummy Young (1939)', 'style': 'Jazz', 'song_name': \"'Tain't What You Do (It's The Way That Cha Do It)\", 'tonality': 'D major', 'midi_key': 22, 'time_signature': '4/4', 'decade': 'Null'}\n",
      "{'composer': 'Sy Oliver, Trummy Young (1939)', 'style': 'Jazz', 'song_name': \"'Tain't What You Do (It's The Way That Cha Do It)\", 'tonality': 'Eb major', 'midi_key': 22, 'time_signature': '4/4', 'decade': 'Null'}\n",
      "{'composer': 'Sy Oliver, Trummy Young (1939)', 'style': 'Jazz', 'song_name': \"'Tain't What You Do (It's The Way That Cha Do It)\", 'tonality': 'E major', 'midi_key': 22, 'time_signature': '4/4', 'decade': 'Null'}\n",
      "{'composer': 'Sy Oliver, Trummy Young (1939)', 'style': 'Jazz', 'song_name': \"'Tain't What You Do (It's The Way That Cha Do It)\", 'tonality': 'F major', 'midi_key': 22, 'time_signature': '4/4', 'decade': 'Null'}\n",
      "{'composer': 'Sy Oliver, Trummy Young (1939)', 'style': 'Jazz', 'song_name': \"'Tain't What You Do (It's The Way That Cha Do It)\", 'tonality': 'Gb major', 'midi_key': 22, 'time_signature': '4/4', 'decade': 'Null'}\n",
      "{'composer': 'Sy Oliver, Trummy Young (1939)', 'style': 'Jazz', 'song_name': \"'Tain't What You Do (It's The Way That Cha Do It)\", 'tonality': 'G major', 'midi_key': 22, 'time_signature': '4/4', 'decade': 'Null'}\n",
      "{'composer': 'Sy Oliver, Trummy Young (1939)', 'style': 'Jazz', 'song_name': \"'Tain't What You Do (It's The Way That Cha Do It)\", 'tonality': 'Ab major', 'midi_key': 22, 'time_signature': '4/4', 'decade': 'Null'}\n",
      "{'composer': 'Sy Oliver, Trummy Young (1939)', 'style': 'Jazz', 'song_name': \"'Tain't What You Do (It's The Way That Cha Do It)\", 'tonality': 'A major', 'midi_key': 22, 'time_signature': '4/4', 'decade': 'Null'}\n",
      "{'composer': 'Sy Oliver, Trummy Young (1939)', 'style': 'Jazz', 'song_name': \"'Tain't What You Do (It's The Way That Cha Do It)\", 'tonality': 'Bb major', 'midi_key': 22, 'time_signature': '4/4', 'decade': 'Null'}\n",
      "{'composer': 'Sy Oliver, Trummy Young (1939)', 'style': 'Jazz', 'song_name': \"'Tain't What You Do (It's The Way That Cha Do It)\", 'tonality': 'B major', 'midi_key': 22, 'time_signature': '4/4', 'decade': 'Null'}\n",
      "{'composer': 'Fourplay', 'style': 'Funk', 'song_name': '101 Eastbound', 'tonality': 'C minor', 'midi_key': 15, 'time_signature': '4/4', 'decade': 'Null'}\n",
      "{'composer': 'Fourplay', 'style': 'Funk', 'song_name': '101 Eastbound', 'tonality': 'Db minor', 'midi_key': 15, 'time_signature': '4/4', 'decade': 'Null'}\n",
      "{'composer': 'Fourplay', 'style': 'Funk', 'song_name': '101 Eastbound', 'tonality': 'D minor', 'midi_key': 15, 'time_signature': '4/4', 'decade': 'Null'}\n",
      "{'composer': 'Fourplay', 'style': 'Funk', 'song_name': '101 Eastbound', 'tonality': 'Eb minor', 'midi_key': 15, 'time_signature': '4/4', 'decade': 'Null'}\n",
      "{'composer': 'Fourplay', 'style': 'Funk', 'song_name': '101 Eastbound', 'tonality': 'E minor', 'midi_key': 15, 'time_signature': '4/4', 'decade': 'Null'}\n",
      "{'composer': 'Fourplay', 'style': 'Funk', 'song_name': '101 Eastbound', 'tonality': 'F minor', 'midi_key': 15, 'time_signature': '4/4', 'decade': 'Null'}\n",
      "{'composer': 'Fourplay', 'style': 'Funk', 'song_name': '101 Eastbound', 'tonality': 'Gb minor', 'midi_key': 15, 'time_signature': '4/4', 'decade': 'Null'}\n",
      "{'composer': 'Fourplay', 'style': 'Funk', 'song_name': '101 Eastbound', 'tonality': 'G minor', 'midi_key': 15, 'time_signature': '4/4', 'decade': 'Null'}\n",
      "{'composer': 'Fourplay', 'style': 'Funk', 'song_name': '101 Eastbound', 'tonality': 'Ab minor', 'midi_key': 15, 'time_signature': '4/4', 'decade': 'Null'}\n",
      "{'composer': 'Fourplay', 'style': 'Funk', 'song_name': '101 Eastbound', 'tonality': 'A minor', 'midi_key': 15, 'time_signature': '4/4', 'decade': 'Null'}\n",
      "{'composer': 'Fourplay', 'style': 'Funk', 'song_name': '101 Eastbound', 'tonality': 'Bb minor', 'midi_key': 15, 'time_signature': '4/4', 'decade': 'Null'}\n",
      "{'composer': 'Fourplay', 'style': 'Funk', 'song_name': '101 Eastbound', 'tonality': 'B minor', 'midi_key': 15, 'time_signature': '4/4', 'decade': 'Null'}\n"
     ]
    }
   ],
   "source": [
    "import importlib\n",
    "import formats as fmt\n",
    "importlib.reload(fmt)\n",
    "\n",
    "fmt.correctStyleTokensInMeta(meta_augmented)\n",
    "\n",
    "all_styles = []\n",
    "for song in meta_augmented:     \n",
    "    all_styles.append(song['style'])\n",
    "\n",
    "styles = set(all_styles)\n",
    "print(len(styles))\n",
    "print(meta_augmented[0])\n",
    "\n",
    "for i, song in enumerate(meta_augmented[:48]):\n",
    "    print(song)"
   ]
  }
 ],
 "metadata": {
  "kernelspec": {
   "display_name": "Python 3",
   "language": "python",
   "name": "python3"
  },
  "language_info": {
   "codemirror_mode": {
    "name": "ipython",
    "version": 3
   },
   "file_extension": ".py",
   "mimetype": "text/x-python",
   "name": "python",
   "nbconvert_exporter": "python",
   "pygments_lexer": "ipython3",
   "version": "3.10.12"
  }
 },
 "nbformat": 4,
 "nbformat_minor": 2
}
