{
 "cells": [
  {
   "cell_type": "code",
   "execution_count": 40,
   "metadata": {},
   "outputs": [],
   "source": [
    "import tqdm as tqdm\n",
    "import voicing as vc\n",
    "from tqdm import tqdm\n",
    "import importlib\n",
    "import formats as fmt\n",
    "import numpy as np\n",
    "import json"
   ]
  },
  {
   "cell_type": "code",
   "execution_count": 58,
   "metadata": {},
   "outputs": [
    {
     "name": "stdout",
     "output_type": "stream",
     "text": [
      "48072 48072 48072\n"
     ]
    }
   ],
   "source": [
    "#Load dataset\n",
    "\n",
    "with open('../data/formatted/meta_dataset.txt', 'r') as jsonFile:\n",
    "    meta_augmented = json.load(jsonFile)\n",
    "    \n",
    "with open('../data/formatted/dataset_augmented.txt', 'r') as jsonFile:\n",
    "    dataset_augmented = json.load(jsonFile)\n",
    "    \n",
    "with open('../data/formatted/midi_voicing_dataset.txt', 'r') as jsonFile:\n",
    "    midi_voicing_dataset = json.load(jsonFile)\n",
    "\n",
    "print(len(midi_voicing_dataset), len(dataset_augmented), len(meta_augmented))"
   ]
  },
  {
   "cell_type": "markdown",
   "metadata": {},
   "source": [
    "- Fix the Style Token\n",
    "- Split the songs that are too long into two sections"
   ]
  },
  {
   "cell_type": "code",
   "execution_count": 59,
   "metadata": {},
   "outputs": [
    {
     "data": {
      "application/vnd.jupyter.widget-view+json": {
       "model_id": "71f2379eb246421aa26410555109e160",
       "version_major": 2,
       "version_minor": 0
      },
      "text/plain": [
       "  0%|          | 0/48072 [00:00<?, ?it/s]"
      ]
     },
     "metadata": {},
     "output_type": "display_data"
    },
    {
     "name": "stdout",
     "output_type": "stream",
     "text": [
      "63\n",
      "{'composer': 'George Gershwin, Ira Gershwin (1927)', 'style': 'Jazz', 'song_name': \"'S Wonderful\", 'tonality': 'C major', 'midi_key': 15, 'time_signature': '4/4', 'decade': 'Null'}\n"
     ]
    }
   ],
   "source": [
    "\n",
    "importlib.reload(fmt)\n",
    "fmt.correctStyleTokensInMeta(meta_augmented)\n",
    "\n",
    "all_styles = []\n",
    "for song in meta_augmented:     \n",
    "    all_styles.append(song['style'])\n",
    "\n",
    "styles = set(all_styles)\n",
    "print(len(styles))\n",
    "print(meta_augmented[0])\n",
    "\n",
    "# for i, song in enumerate(meta_augmented[:48]):\n",
    "#     print(song)"
   ]
  },
  {
   "cell_type": "code",
   "execution_count": 60,
   "metadata": {},
   "outputs": [
    {
     "name": "stdout",
     "output_type": "stream",
     "text": [
      "48072 48072\n"
     ]
    }
   ],
   "source": [
    "#Add the tonality token to the dataset and to the midi_voicing_dataset\n",
    "new_dataset = dataset_augmented.copy()\n",
    "for i, song in enumerate(new_dataset):\n",
    "    song[0] = ['Style', 0.0]\n",
    "    midi_voicing_dataset[i][0] = [[0, 0, 0, 0, 0, 0, 0, 0], 0.0, 'Style']\n",
    "    tonality = meta_augmented[i]['tonality']\n",
    "    tonal_token = ['Tonality', 0.0]\n",
    "    element_to_add = [tonality, 0.0]\n",
    "    #add these two elements into the third position of the list\n",
    "    song.insert(2, tonal_token)\n",
    "    song.insert(3, element_to_add)\n",
    "    \n",
    "    midi_tonal_token = [[0, 0, 0, 0, 0, 0, 0, 0], 0.0, 'Tonality']\n",
    "    element_to_add = [[0, 0, 0, 0, 0, 0, 0, 0], 0.0, tonality]\n",
    "    midi_voicing_dataset[i].insert(2, midi_tonal_token)\n",
    "    midi_voicing_dataset[i].insert(3, element_to_add)\n",
    "    \n",
    "print(len(new_dataset), len(midi_voicing_dataset))"
   ]
  },
  {
   "cell_type": "code",
   "execution_count": 61,
   "metadata": {},
   "outputs": [
    {
     "name": "stdout",
     "output_type": "stream",
     "text": [
      "48072\n"
     ]
    },
    {
     "name": "stderr",
     "output_type": "stream",
     "text": [
      "100%|██████████| 48072/48072 [00:36<00:00, 1330.43it/s]"
     ]
    },
    {
     "name": "stdout",
     "output_type": "stream",
     "text": [
      "48072 48072\n"
     ]
    },
    {
     "name": "stderr",
     "output_type": "stream",
     "text": [
      "\n"
     ]
    }
   ],
   "source": [
    "#clean the sequence adding the duration element only after dot\n",
    "\n",
    "importlib.reload(vc)\n",
    "voicing = vc.Voicing()\n",
    "\n",
    "print(len(new_dataset))\n",
    "dataset = []\n",
    "midi_dataset = []\n",
    "for i, song in enumerate(tqdm(new_dataset)):\n",
    "    sequence = []\n",
    "    midi_sequence = []\n",
    "    for j in range(1, len(song)):\n",
    "        s = song[j][0]\n",
    "        d = song[j][1]\n",
    "        previous = song[j-1][0]\n",
    "        m = midi_voicing_dataset[i][j][0]\n",
    "        sequence.append(s)\n",
    "        midi_sequence.append(m)\n",
    "        if s == '.':\n",
    "            sequence.append(d)\n",
    "            midi_sequence.append(m)\n",
    "    dataset.append(sequence)\n",
    "    midi_dataset.append(midi_sequence)\n",
    "            \n",
    "print(len(dataset), len(midi_dataset))\n",
    "            "
   ]
  },
  {
   "cell_type": "code",
   "execution_count": 36,
   "metadata": {},
   "outputs": [
    {
     "name": "stdout",
     "output_type": "stream",
     "text": [
      "['Medium Shuffle', 'Tonality', 'C major', 'Form_intro', '|', '.', 1.0, 'C', 'maj', '.', 1.0, 'C', 'maj', '/', 'E', '.', 1.0, 'F', 'maj', '.', 1.0, 'F', 'maj', '/', 'A', '|', '.', 1.0, 'C', 'maj', '.', 1.0, 'C', 'maj', '/', 'E', '.', 1.0, 'F', 'maj', '.', 1.0, 'F', 'maj', '/', 'A', '|', '.', 1.0, 'C', 'maj', '.', 1.0, 'C', 'maj', '/', 'E', '.', 1.0, 'F', 'maj', '.', 1.0, 'F', 'maj', '/', 'G', '|', '.', 1.0, 'Ab', 'maj', '.', 1.0, 'Bb', 'maj', '.', 2.0, 'C', 'maj', 'Form_A', '|', '.', 1.0, 'C', 'maj', '.', 1.0, 'C', 'maj', '/', 'E', '.', 1.0, 'F', 'maj', '.', 1.0, 'F', 'maj', '/', 'A', '|', '.', 1.0, 'C', 'maj', '.', 1.0, 'C', 'maj', '/', 'E', '.', 1.0, 'F', 'maj', '.', 1.0, 'F', 'maj', '/', 'A', '|', '.', 1.0, 'C', 'maj', '.', 1.0, 'C', 'maj', '/', 'E', '.', 1.0, 'F', 'maj', '.', 1.0, 'F', 'maj', '/', 'G', '|', '.', 1.0, 'Ab', 'maj', '.', 1.0, 'Bb', 'maj', '.', 2.0, 'C', 'maj', '|', '.', 1.0, 'C', 'maj', '.', 1.0, 'C', 'maj', '/', 'E', '.', 1.0, 'F', 'maj', '.', 1.0, 'F', 'maj', '/', 'A', '|', '.', 1.0, 'C', 'maj', '.', 1.0, 'C', 'maj', '/', 'E', '.', 1.0, 'F', 'maj', '.', 1.0, 'F', 'maj', '/', 'A', '|', '.', 1.0, 'C', 'maj', '.', 1.0, 'C', 'maj', '/', 'E', '.', 1.0, 'F', 'maj', '.', 1.0, 'F', 'maj', '/', 'G', '|', '.', 1.0, 'Ab', 'maj', '.', 1.0, 'Bb', 'maj', '.', 2.0, 'C', 'maj', 'Form_Segno', '|', '.', 1.0, 'F', 'm', '.', 1.0, 'F', 'm', '/', 'Eb', '.', 1.0, 'F', 'm', '/', 'D', '.', 1.0, 'F', 'm', '/', 'C', '|', '.', 1.0, 'Bb', 'dom7', '.', 1.0, 'Bb', 'dom7', '/', 'Ab', '.', 1.0, 'Bb', 'dom7', '/', 'G', '.', 1.0, 'Bb', 'dom7', '/', 'F', '|', '.', 1.0, 'Eb', 'maj', '.', 1.0, 'Eb', 'maj', '/', 'D', '.', 1.0, 'Eb', 'maj', '/', 'C', '.', 1.0, 'Eb', 'maj', '/', 'Bb', '|', '.', 1.0, 'C', 'm7', '.', 1.0, 'C', 'm7', '/', 'D', '.', 1.0, 'C', 'm7', '/', 'Eb', '.', 1.0, 'C', 'm7', '/', 'G', '|', '.', 1.0, 'F', 'm7', '.', 1.0, 'F', 'm7', '/', 'Eb', '.', 1.0, 'F', 'm7', '/', 'D', '.', 1.0, 'F', 'm7', '/', 'C', '|', '.', 1.0, 'Bb', 'dom7', '.', 1.0, 'Bb', 'dom7', '/', 'Ab', '.', 1.0, 'Bb', 'dom7', '/', 'G', '.', 1.0, 'Bb', 'dom7', '/', 'F', '|', '.', 2.0, 'Eb', 'maj', '.', 2.0, 'D', 'm7', 'Form_Coda', '|', '.', 2.0, 'G', 'sus4', 'add 7', '.', 2.0, 'G', 'dom7', 'Form_A', '|', '.', 1.0, 'C', 'maj', '.', 1.0, 'C', 'maj', '/', 'E', '.', 1.0, 'F', 'maj', '.', 1.0, 'F', 'maj', '/', 'A', '|', '.', 1.0, 'C', 'maj', '.', 1.0, 'C', 'maj', '/', 'E', '.', 1.0, 'F', 'maj', '.', 1.0, 'F', 'maj', '/', 'A', '|', '.', 1.0, 'C', 'maj', '.', 1.0, 'C', 'maj', '/', 'E', '.', 1.0, 'F', 'maj', '.', 1.0, 'F', 'maj', '/', 'G', '|', '.', 1.0, 'Ab', 'maj', '.', 1.0, 'Bb', 'maj', '.', 2.0, 'C', 'maj', '|', '.', 1.0, 'C', 'maj', '.', 1.0, 'C', 'maj', '/', 'E', '.', 1.0, 'F', 'maj', '.', 1.0, 'F', 'maj', '/', 'A', '|', '.', 1.0, 'C', 'maj', '.', 1.0, 'C', 'maj', '/', 'E', '.', 1.0, 'F', 'maj', '.', 1.0, 'F', 'maj', '/', 'A', '|', '.', 1.0, 'C', 'maj', '.', 1.0, 'C', 'maj', '/', 'E', '.', 1.0, 'F', 'maj', '.', 1.0, 'F', 'maj', '/', 'G', '|', '.', 1.0, 'Ab', 'maj', '.', 1.0, 'Bb', 'maj', '.', 2.0, 'C', 'maj', 'Form_B', '|', '.', 1.0, 'F', 'm', '.', 1.0, 'F', 'm', '/', 'Eb', '.', 1.0, 'F', 'm', '/', 'D', '.', 1.0, 'F', 'm', '/', 'C', '|', '.', 1.0, 'Bb', 'dom7', '.', 1.0, 'Bb', 'dom7', '/', 'Ab', '.', 1.0, 'Bb', 'dom7', '/', 'G', '.', 1.0, 'Bb', 'dom7', '/', 'F', '|', '.', 1.0, 'Eb', 'maj', '.', 1.0, 'Eb', 'maj', '/', 'D', '.', 1.0, 'Eb', 'maj', '/', 'C', '.', 1.0, 'Eb', 'maj', '/', 'Bb', '|', '.', 1.0, 'C', 'm7', '.', 1.0, 'C', 'm7', '/', 'D', '.', 1.0, 'C', 'm7', '/', 'Eb', '.', 1.0, 'C', 'm7', '/', 'G', '|', '.', 1.0, 'F', 'm7', '.', 1.0, 'F', 'm7', '/', 'Eb', '.', 1.0, 'F', 'm7', '/', 'D', '.', 1.0, 'F', 'm7', '/', 'C', '|', '.', 1.0, 'Bb', 'dom7', '.', 1.0, 'Bb', 'dom7', '/', 'Ab', '.', 1.0, 'Bb', 'dom7', '/', 'G', '.', 1.0, 'Bb', 'dom7', '/', 'F', '|', '.', 2.0, 'Eb', 'maj', '.', 2.0, 'D', 'm7', '|', '.', 2.0, 'G', 'sus4', 'add 7', '.', 2.0, 'G', 'dom7', '|', '.', 1.0, 'C', 'maj', '.', 1.0, 'C', 'maj', '/', 'E', '.', 1.0, 'F', 'maj', '.', 1.0, 'F', 'maj', '/', 'A', '|', '.', 1.0, 'C', 'maj', '.', 1.0, 'C', 'maj', '/', 'E', '.', 1.0, 'F', 'maj', '.', 1.0, 'F', 'maj', '/', 'A', '|', '.', 1.0, 'C', 'maj', '.', 1.0, 'C', 'maj', '/', 'E', '.', 1.0, 'F', 'maj', '.', 1.0, 'F', 'maj', '/', 'G', '|', '.', 1.0, 'Ab', 'maj', '.', 1.0, 'Bb', 'maj', '.', 2.0, 'C', 'maj', '|', '.', 1.0, 'C', 'maj', '.', 1.0, 'C', 'maj', '/', 'E', '.', 1.0, 'F', 'maj', '.', 1.0, 'F', 'maj', '/', 'A', '|', '.', 1.0, 'C', 'maj', '.', 1.0, 'C', 'maj', '/', 'E', '.', 1.0, 'F', 'maj', '.', 1.0, 'F', 'maj', '/', 'A', '|', '.', 1.0, 'C', 'maj', '.', 1.0, 'C', 'maj', '/', 'E', '.', 1.0, 'F', 'maj', '.', 1.0, 'F', 'maj', '/', 'G', '|', '.', 1.0, 'Ab', 'maj', '.', 1.0, 'Bb', 'maj', '.', 2.0, 'C', 'maj', 'Form_Coda', '|', '.', 1.0, 'C', 'maj', '.', 1.0, 'C', 'maj', '/', 'E', '.', 1.0, 'F', 'maj', '.', 1.0, 'F', 'maj', '/', 'A', '|', '.', 1.0, 'C', 'maj', '.', 1.0, 'C', 'maj', '/', 'E', '.', 1.0, 'F', 'maj', '.', 1.0, 'F', 'maj', '/', 'A', '|', '.', 1.0, 'C', 'maj', '.', 1.0, 'C', 'maj', '/', 'E', '.', 1.0, 'F', 'maj', '.', 1.0, 'F', 'maj', '/', 'G', '|', '.', 1.0, 'Ab', 'maj', '.', 1.0, 'Bb', 'maj', 'Form_C', '|', '.', 2.0, 'C', 'maj', '.', 2.0, 'Bb', 'maj', '/', 'D', '|', '.', 1.0, 'Eb', 'm', '.', 1.0, 'Bb', 'maj', '/', 'D', '.', 2.0, 'C', 'maj', '|', '.', 2.0, 'C', 'maj', '.', 2.0, 'Bb', 'maj', '/', 'D', '|', '.', 1.0, 'Eb', 'm', '.', 1.0, 'Bb', 'maj', '/', 'D', '|', '.', 2.0, 'C', 'maj', 'Form_intro', '|', '.', 1.0, 'C', 'maj', '.', 1.0, 'C', 'maj', '/', 'E', '.', 1.0, 'F', 'maj', '.', 1.0, 'F', 'maj', '/', 'A', '|', '.', 1.0, 'C', 'maj', '.', 1.0, 'C', 'maj', '/', 'E', '.', 1.0, 'F', 'maj', '.', 1.0, 'F', 'maj', '/', 'A', '|', '.', 1.0, 'C', 'maj', '.', 1.0, 'C', 'maj', '/', 'E', '.', 1.0, 'F', 'maj', '.', 1.0, 'F', 'maj', '/', 'G', '|', '.', 1.0, 'Ab', 'maj', '.', 1.0, 'Bb', 'maj', '.', 2.0, 'C', 'maj', 'Form_A', '|', '.', 1.0, 'C', 'maj', '.', 1.0, 'C', 'maj', '/', 'E', '.', 1.0, 'F', 'maj', '.', 1.0, 'F', 'maj', '/', 'A', '|', '.', 1.0, 'C', 'maj', '.', 1.0, 'C', 'maj', '/', 'E', '.', 1.0, 'F', 'maj', '.', 1.0, 'F', 'maj', '/', 'A', '|', '.', 1.0, 'C', 'maj', '.', 1.0, 'C', 'maj', '/', 'E', '.', 1.0, 'F', 'maj', '.', 1.0, 'F', 'maj', '/', 'G', '|', '.', 1.0, 'Ab', 'maj', '.', 1.0, 'Bb', 'maj', '.', 2.0, 'C', 'maj', '|', '.', 1.0, 'C', 'maj', '.', 1.0, 'C', 'maj', '/', 'E', '.', 1.0, 'F', 'maj', '.', 1.0, 'F', 'maj', '/', 'A', '|', '.', 1.0, 'C', 'maj', '.', 1.0, 'C', 'maj', '/', 'E', '.', 1.0, 'F', 'maj', '.', 1.0, 'F', 'maj', '/', 'A', '|', '.', 1.0, 'C', 'maj', '.', 1.0, 'C', 'maj', '/', 'E', '.', 1.0, 'F', 'maj', '.', 1.0, 'F', 'maj', '/', 'G', '|', '.', 1.0, 'Ab', 'maj', '.', 1.0, 'Bb', 'maj', '.', 2.0, 'C', 'maj', 'Form_Segno', '|', '.', 1.0, 'F', 'm', '.', 1.0, 'F', 'm', '/', 'Eb', '.', 1.0, 'F', 'm', '/', 'D', '.', 1.0, 'F', 'm', '/', 'C', '|', '.', 1.0, 'Bb', 'dom7', '.', 1.0, 'Bb', 'dom7', '/', 'Ab', '.', 1.0, 'Bb', 'dom7', '/', 'G', '.', 1.0, 'Bb', 'dom7', '/', 'F', '|', '.', 1.0, 'Eb', 'maj', '.', 1.0, 'Eb', 'maj', '/', 'D', '.', 1.0, 'Eb', 'maj', '/', 'C', '.', 1.0, 'Eb', 'maj', '/', 'Bb', '|', '.', 1.0, 'C', 'm7', '.', 1.0, 'C', 'm7', '/', 'D', '.', 1.0, 'C', 'm7', '/', 'Eb', '.', 1.0, 'C', 'm7', '/', 'G', '|', '.', 1.0, 'F', 'm7', '.', 1.0, 'F', 'm7', '/', 'Eb', '.', 1.0, 'F', 'm7', '/', 'D', '.', 1.0, 'F', 'm7', '/', 'C', '|', '.', 1.0, 'Bb', 'dom7', '.', 1.0, 'Bb', 'dom7', '/', 'Ab', '.', 1.0, 'Bb', 'dom7', '/', 'G', '.', 1.0, 'Bb', 'dom7', '/', 'F', '|', '.', 2.0, 'Eb', 'maj', '.', 2.0, 'D', 'm7', 'Form_Coda', '|', '.', 2.0, 'G', 'sus4', 'add 7', '.', 2.0, 'G', 'dom7', 'Form_A', '|', '.', 1.0, 'C', 'maj', '.', 1.0, 'C', 'maj', '/', 'E', '.', 1.0, 'F', 'maj', '.', 1.0, 'F', 'maj', '/', 'A', '|', '.', 1.0, 'C', 'maj', '.', 1.0, 'C', 'maj', '/', 'E', '.', 1.0, 'F', 'maj', '.', 1.0, 'F', 'maj', '/', 'A', '|', '.', 1.0, 'C', 'maj', '.', 1.0, 'C', 'maj', '/', 'E', '.', 1.0, 'F', 'maj', '.', 1.0, 'F', 'maj', '/', 'G', '|', '.', 1.0, 'Ab', 'maj', '.', 1.0, 'Bb', 'maj', '.', 2.0, 'C', 'maj', '|', '.', 1.0, 'C', 'maj', '.', 1.0, 'C', 'maj', '/', 'E', '.', 1.0, 'F', 'maj', '.', 1.0, 'F', 'maj', '/', 'A', '|', '.', 1.0, 'C', 'maj', '.', 1.0, 'C', 'maj', '/', 'E', '.', 1.0, 'F', 'maj', '.', 1.0, 'F', 'maj', '/', 'A', '|', '.', 1.0, 'C', 'maj', '.', 1.0, 'C', 'maj', '/', 'E', '.', 1.0, 'F', 'maj', '.', 1.0, 'F', 'maj', '/', 'G', '|', '.', 1.0, 'Ab', 'maj', '.', 1.0, 'Bb', 'maj', '.', 2.0, 'C', 'maj', 'Form_B', '|', '.', 1.0, 'F', 'm', '.', 1.0, 'F', 'm', '/', 'Eb', '.', 1.0, 'F', 'm', '/', 'D', '.', 1.0, 'F', 'm', '/', 'C', '|', '.', 1.0, 'Bb', 'dom7', '.', 1.0, 'Bb', 'dom7', '/', 'Ab', '.', 1.0, 'Bb', 'dom7', '/', 'G', '.', 1.0, 'Bb', 'dom7', '/', 'F', '|', '.', 1.0, 'Eb', 'maj', '.', 1.0, 'Eb', 'maj', '/', 'D', '.', 1.0, 'Eb', 'maj', '/', 'C', '.', 1.0, 'Eb', 'maj', '/', 'Bb', '|', '.', 1.0, 'C', 'm7', '.', 1.0, 'C', 'm7', '/', 'D', '.', 1.0, 'C', 'm7', '/', 'Eb', '.', 1.0, 'C', 'm7', '/', 'G', '|', '.', 1.0, 'F', 'm7', '.', 1.0, 'F', 'm7', '/', 'Eb', '.', 1.0, 'F', 'm7', '/', 'D', '.', 1.0, 'F', 'm7', '/', 'C', '|', '.', 1.0, 'Bb', 'dom7', '.', 1.0, 'Bb', 'dom7', '/', 'Ab', '.', 1.0, 'Bb', 'dom7', '/', 'G', '.', 1.0, 'Bb', 'dom7', '/', 'F', '|', '.', 2.0, 'Eb', 'maj', '.', 2.0, 'D', 'm7', '|', '.', 2.0, 'G', 'sus4', 'add 7', '.', 2.0, 'G', 'dom7', '|', '.', 1.0, 'C', 'maj', '.', 1.0, 'C', 'maj', '/', 'E', '.', 1.0, 'F', 'maj', '.', 1.0, 'F', 'maj', '/', 'A', '|', '.', 1.0, 'C', 'maj', '.', 1.0, 'C', 'maj', '/', 'E', '.', 1.0, 'F', 'maj', '.', 1.0, 'F', 'maj', '/', 'A', '|', '.', 1.0, 'C', 'maj', '.', 1.0, 'C', 'maj', '/', 'E', '.', 1.0, 'F', 'maj', '.', 1.0, 'F', 'maj', '/', 'G', '|', '.', 1.0, 'Ab', 'maj', '.', 1.0, 'Bb', 'maj', '.', 2.0, 'C', 'maj', '|', '.', 1.0, 'C', 'maj', '.', 1.0, 'C', 'maj', '/', 'E', '.', 1.0, 'F', 'maj', '.', 1.0, 'F', 'maj', '/', 'A', '|', '.', 1.0, 'C', 'maj', '.', 1.0, 'C', 'maj', '/', 'E', '.', 1.0, 'F', 'maj', '.', 1.0, 'F', 'maj', '/', 'A', '|', '.', 1.0, 'C', 'maj', '.', 1.0, 'C', 'maj', '/', 'E', '.', 1.0, 'F', 'maj', '.', 1.0, 'F', 'maj', '/', 'G', '|', '.', 1.0, 'Ab', 'maj', '.', 1.0, 'Bb', 'maj', '.', 2.0, 'C', 'maj', 'Form_Coda', '|', '.', 1.0, 'C', 'maj', '.', 1.0, 'C', 'maj', '/', 'E', '.', 1.0, 'F', 'maj', '.', 1.0, 'F', 'maj', '/', 'A', '|', '.', 1.0, 'C', 'maj', '.', 1.0, 'C', 'maj', '/', 'E', '.', 1.0, 'F', 'maj', '.', 1.0, 'F', 'maj', '/', 'A', '|', '.', 1.0, 'C', 'maj', '.', 1.0, 'C', 'maj', '/', 'E', '.', 1.0, 'F', 'maj', '.', 1.0, 'F', 'maj', '/', 'G', '|', '.', 1.0, 'Ab', 'maj', '.', 1.0, 'Bb', 'maj', 'Form_C', '|', '.', 2.0, 'C', 'maj', '.', 2.0, 'Bb', 'maj', '/', 'D', '|', '.', 1.0, 'Eb', 'm', '.', 1.0, 'Bb', 'maj', '/', 'D', '.', 2.0, 'C', 'maj', '|', '.', 2.0, 'C', 'maj', '.', 2.0, 'Bb', 'maj', '/', 'D', '|', '.', 1.0, 'Eb', 'm', '.', 1.0, 'Bb', 'maj', '/', 'D', '|', '.', 2.0, 'C', 'maj', 'Form_intro', '|', '.', 1.0, 'C', 'maj', '.', 1.0, 'C', 'maj', '/', 'E', '.', 1.0, 'F', 'maj', '.', 1.0, 'F', 'maj', '/', 'A', '|', '.', 1.0, 'C', 'maj', '.', 1.0, 'C', 'maj', '/', 'E', '.', 1.0, 'F', 'maj', '.', 1.0, 'F', 'maj', '/', 'A', '|', '.', 1.0, 'C', 'maj', '.', 1.0, 'C', 'maj', '/', 'E', '.', 1.0, 'F', 'maj', '.', 1.0, 'F', 'maj', '/', 'G', '|', '.', 1.0, 'Ab', 'maj', '.', 1.0, 'Bb', 'maj', '.', 2.0, 'C', 'maj', 'Form_A', '|', '.', 1.0, 'C', 'maj', '.', 1.0, 'C', 'maj']\n"
     ]
    }
   ],
   "source": [
    "id = 24768\n",
    "print(dataset[id][:2048])"
   ]
  },
  {
   "cell_type": "code",
   "execution_count": 62,
   "metadata": {},
   "outputs": [
    {
     "name": "stdout",
     "output_type": "stream",
     "text": [
      "48072\n",
      "48072\n"
     ]
    }
   ],
   "source": [
    "#Add Start and End token\n",
    "\n",
    "for i, song in enumerate(dataset):\n",
    "    start_token = '<start>'\n",
    "    end_token = '<end>'\n",
    "    song.insert(4, start_token)\n",
    "    song.append(end_token)\n",
    "    \n",
    "print(len(dataset))\n",
    "\n",
    "for i, song in enumerate(midi_dataset):\n",
    "    start_token = [0, 0, 0, 0, 0, 0, 0, 0]\n",
    "    end_token = [0, 0, 0, 0, 0, 0, 0, 0]\n",
    "    song.insert(4, start_token)\n",
    "    song.append(end_token)\n",
    "    \n",
    "print(len(midi_dataset))"
   ]
  },
  {
   "cell_type": "code",
   "execution_count": 63,
   "metadata": {},
   "outputs": [
    {
     "name": "stdout",
     "output_type": "stream",
     "text": [
      "48072 48072\n",
      "48072 48072\n",
      "[1.0, 'Bb', 'maj', '.', 1.0, 'F', 'maj', '<end>'] [[0, 0, 0, 0, 0, 0, 0, 0], [46, 0, 0, 0, 0, 0, 0, 0], [46, 53, 58, 62, 0, 0, 0, 0], [0, 0, 0, 0, 0, 0, 0, 0], [0, 0, 0, 0, 0, 0, 0, 0], [53, 0, 0, 0, 0, 0, 0, 0], [53, 60, 65, 69, 0, 0, 0, 0], [0, 0, 0, 0, 0, 0, 0, 0]]\n"
     ]
    }
   ],
   "source": [
    "#Cut the songs that are longer than 2048\n",
    "dataset = [song[:2048] for song in dataset]\n",
    "midi_dataset = [song[:2048] for song in midi_dataset]\n",
    "print(len(dataset), len(midi_dataset))\n",
    "\n",
    "for i, song in enumerate(dataset):\n",
    "    if len(song) == 2048:\n",
    "        element = song[-1]\n",
    "       \n",
    "        if element == '|' or element == '.' and element != '<end>':\n",
    "            song[-1] = '<end>'\n",
    "            midi_dataset[i][-1] = [0, 0, 0, 0, 0, 0, 0, 0]\n",
    "        else:\n",
    "        #cut the last element until it is a bar or dot and change it to <end>\n",
    "            while element != '|' and element != '.':\n",
    "                song.pop()\n",
    "                midi_dataset[i].pop()\n",
    "                element = song[-1]\n",
    "            song[-1] = '<end>' \n",
    "            midi_dataset[i][-1] = [0, 0, 0, 0, 0, 0, 0, 0]   \n",
    "                \n",
    "id = 5676\n",
    "print(len(dataset), len(midi_dataset))\n",
    "\n",
    "print(dataset[id][-8:], midi_dataset[id][-8:]) "
   ]
  },
  {
   "cell_type": "code",
   "execution_count": 34,
   "metadata": {},
   "outputs": [
    {
     "name": "stdout",
     "output_type": "stream",
     "text": [
      "2046\n"
     ]
    },
    {
     "data": {
      "text/plain": [
       "[['maj', 2.0], ['.', 1.0], ['G', 1.0], ['m', 1.0], ['|', 1.0], ['<End>', 1.0]]"
      ]
     },
     "execution_count": 34,
     "metadata": {},
     "output_type": "execute_result"
    }
   ],
   "source": [
    "id = 5676\n",
    "print(len(dataset[id]))\n",
    "dataset[id][-6:]"
   ]
  },
  {
   "cell_type": "code",
   "execution_count": 64,
   "metadata": {},
   "outputs": [
    {
     "name": "stdout",
     "output_type": "stream",
     "text": [
      "Max: {'v': 2048, 'id': 3372} Min: {'v': 149, 'id': 39972}\n",
      "0 []\n"
     ]
    }
   ],
   "source": [
    "#Check the length of the song\n",
    "\n",
    "max = {'v': 0, 'id': 0}\n",
    "min = {'v': 1000, 'id': 0}\n",
    "\n",
    "for i in range(len(midi_dataset)):\n",
    "    if len(dataset[i]) > max['v']:\n",
    "        max['v'] = len(dataset[i])\n",
    "        max['id'] = i\n",
    "    if len(dataset[i]) < min['v']:\n",
    "        min['v'] = len(dataset[i])\n",
    "        min['id'] = i\n",
    "\n",
    "print('Max:', max, 'Min:', min)\n",
    "\n",
    "#calculate how many songs are longer than 2048\n",
    "counter = 0\n",
    "lengths = []\n",
    "for i, song in enumerate(dataset):\n",
    "    if len(song) > 2048:\n",
    "        counter += 1\n",
    "        lengths.append(len(song))\n",
    "print(counter, lengths)"
   ]
  },
  {
   "cell_type": "code",
   "execution_count": 65,
   "metadata": {},
   "outputs": [
    {
     "data": {
      "text/plain": [
       "<seaborn.axisgrid.FacetGrid at 0x7fb80d34a260>"
      ]
     },
     "execution_count": 65,
     "metadata": {},
     "output_type": "execute_result"
    },
    {
     "data": {
      "image/png": "[encoded data removed]",
      "text/plain": [
       "<Figure size 500x500 with 1 Axes>"
      ]
     },
     "metadata": {},
     "output_type": "display_data"
    }
   ],
   "source": [
    "import seaborn as sns\n",
    "\n",
    "#visualize the length of the songs\n",
    "\n",
    "length = []\n",
    "for song in dataset:\n",
    "    length.append(len(song))\n",
    "    \n",
    "sns.displot(length, kde=True, bins=100)"
   ]
  },
  {
   "cell_type": "code",
   "execution_count": 66,
   "metadata": {},
   "outputs": [
    {
     "name": "stdout",
     "output_type": "stream",
     "text": [
      "['Medium Swing', 'Tonality', 'C major', '|', '<start>', '.', 4.0, 'C', 'maj', '|', '.', 4.0, 'C', 'maj', '|', '.', 4.0, 'C#', 'o', '|', '.', 4.0, 'C#', 'o', '|', '.', 4.0, 'D', 'm7', '|', '.', 4.0, 'G', 'dom7', '|', '.', 4.0, 'C', 'maj', '|', '.', 4.0, 'C', 'maj', '|', '.', 4.0, 'C', 'maj', '|', '.', 4.0, 'C', 'maj', '|', '.', 4.0, 'C#', 'o', '|', '.', 4.0, 'C#', 'o', '|', '.', 4.0, 'D', 'm7', '|', '.', 4.0, 'G', 'dom7', '|', '.', 4.0, 'C', 'maj', '|', '.', 2.0, 'F#', 'm7', '.', 2.0, 'B', 'dom7', '|', '.', 4.0, 'E', 'maj', '|', '.', 2.0, 'F#', 'm7', '.', 2.0, 'B', 'dom7', '|', '.', 4.0, 'E', 'maj', '|', '.', 2.0, 'F#', 'm7', '.', 2.0, 'B', 'dom7', '|', '.', 4.0, 'E', 'm7', '|', '.', 4.0, 'A', 'dom7', '|', '.', 4.0, 'D', 'dom7', '|', '.', 4.0, 'G', 'dom7', '|', '.', 4.0, 'C', 'maj', '|', '.', 4.0, 'C', 'maj', '|', '.', 4.0, 'Eb', 'o', '|', '.', 4.0, 'Eb', 'o', '|', '.', 4.0, 'D', 'm7', '|', '.', 4.0, 'G', 'dom7', '|', '.', 4.0, 'C', 'maj', '|', '.', 4.0, 'C', 'maj', '|', '|', '.', 4.0, 'E', 'm7', '|', '.', 4.0, 'A', 'dom7', '|', '.', 4.0, 'D', 'm7', '|', '.', 4.0, 'G', 'dom7', '|', '.', 4.0, 'C', 'maj', '|', '.', 4.0, 'C', 'maj', '|', '.', 4.0, 'C', 'maj', '|', '.', 4.0, 'C', 'maj', '|', '.', 4.0, 'C#', 'o', '|', '.', 4.0, 'C#', 'o', '|', '.', 4.0, 'D', 'm7', '|', '.', 4.0, 'G', 'dom7', '|', '.', 4.0, 'C', 'maj', '|', '.', 4.0, 'C', 'maj', '|', '.', 4.0, 'C', 'maj', '|', '.', 4.0, 'C', 'maj', '|', '.', 4.0, 'C#', 'o', '|', '.', 4.0, 'C#', 'o', '|', '.', 4.0, 'D', 'm7', '|', '.', 4.0, 'G', 'dom7', '|', '.', 4.0, 'C', 'maj', '|', '.', 2.0, 'F#', 'm7', '.', 2.0, 'B', 'dom7', '|', '.', 4.0, 'E', 'maj', '|', '.', 2.0, 'F#', 'm7', '.', 2.0, 'B', 'dom7', '|', '.', 4.0, 'E', 'maj', '|', '.', 2.0, 'F#', 'm7', '.', 2.0, 'B', 'dom7', '|', '.', 4.0, 'E', 'm7', '|', '.', 4.0, 'A', 'dom7', '|', '.', 4.0, 'D', 'dom7', '|', '.', 4.0, 'G', 'dom7', '|', '.', 4.0, 'C', 'maj', '|', '.', 4.0, 'C', 'maj', '|', '.', 4.0, 'Eb', 'o', '|', '.', 4.0, 'Eb', 'o', '|', '.', 4.0, 'D', 'm7', '|', '.', 4.0, 'G', 'dom7', '|', '.', 4.0, 'C', 'maj', '|', '.', 4.0, 'C', 'maj', '|', '|', '.', 4.0, 'E', 'm7', '|', '.', 4.0, 'A', 'dom7', '|', '.', 4.0, 'D', 'm7', '|', '.', 4.0, 'G', 'dom7', '|', '.', 4.0, 'C', 'maj', '|', '.', 4.0, 'C', 'maj', '|', '.', 4.0, 'C', 'maj', '|', '.', 4.0, 'C', 'maj', '|', '.', 4.0, 'C#', 'o', '|', '.', 4.0, 'C#', 'o', '|', '.', 4.0, 'D', 'm7', '|', '.', 4.0, 'G', 'dom7', '|', '.', 4.0, 'C', 'maj', '|', '.', 4.0, 'C', 'maj', '|', '.', 4.0, 'C', 'maj', '|', '.', 4.0, 'C', 'maj', '|', '.', 4.0, 'C#', 'o', '|', '.', 4.0, 'C#', 'o', '|', '.', 4.0, 'D', 'm7', '|', '.', 4.0, 'G', 'dom7', '|', '.', 4.0, 'C', 'maj', '|', '.', 2.0, 'F#', 'm7', '.', 2.0, 'B', 'dom7', '|', '.', 4.0, 'E', 'maj', '|', '.', 2.0, 'F#', 'm7', '.', 2.0, 'B', 'dom7', '|', '.', 4.0, 'E']\n"
     ]
    }
   ],
   "source": [
    "print(dataset[0][:512])"
   ]
  },
  {
   "cell_type": "code",
   "execution_count": 77,
   "metadata": {},
   "outputs": [
    {
     "name": "stdout",
     "output_type": "stream",
     "text": [
      "56412 56412\n"
     ]
    }
   ],
   "source": [
    "#Cut the samples longer than 1024 in half and add them to the dataset\n",
    "# fixed_dataset = []\n",
    "# fixed_meta = []\n",
    "# for i, song in enumerate(dataset):\n",
    "#     if len(song) > 1024:\n",
    "#         size = len(song)\n",
    "#         half = size // 2\n",
    "#         fixed_dataset.append(song[:half])\n",
    "#         fixed_meta.append(meta_augmented[i])\n",
    "#         new_section = song[half:]\n",
    "#         fixed_dataset.append(new_section)\n",
    "#         fixed_meta.append(meta_augmented[i])\n",
    "#     else:\n",
    "#         fixed_dataset.append(song)\n",
    "#         fixed_meta.append(meta_augmented[i])\n",
    "\n",
    "# print(len(fixed_dataset), len(fixed_meta)) "
   ]
  },
  {
   "cell_type": "code",
   "execution_count": 78,
   "metadata": {},
   "outputs": [
    {
     "name": "stdout",
     "output_type": "stream",
     "text": [
      "56412\n"
     ]
    }
   ],
   "source": [
    "# fixed_midi_dataset = []\n",
    "\n",
    "# for i, song in enumerate(midi_dataset):\n",
    "#     if len(song) > 1024:\n",
    "#         size = len(song)\n",
    "#         half = size // 2\n",
    "#         fixed_midi_dataset.append(song[:half])\n",
    "#         new_section = song[half:]\n",
    "#         fixed_midi_dataset.append(new_section)\n",
    "#     else:\n",
    "#         fixed_midi_dataset.append(song)\n",
    "\n",
    "# print(len(fixed_midi_dataset)) "
   ]
  },
  {
   "cell_type": "code",
   "execution_count": 67,
   "metadata": {},
   "outputs": [
    {
     "name": "stdout",
     "output_type": "stream",
     "text": [
      "48072 48072\n"
     ]
    }
   ],
   "source": [
    "#Add the <pad> token to the dataset and to the midi_voicing_dataset, max length is 1024\n",
    "length = 2048\n",
    "\n",
    "for i, song in enumerate(dataset):\n",
    "    if len(song) < length:\n",
    "        for j in range(length - len(song)):\n",
    "            song.append('<pad>')\n",
    "\n",
    "for i, song in enumerate(midi_dataset):\n",
    "    if len(song) < length:\n",
    "        for j in range(length - len(song)):\n",
    "            song.append([0, 0, 0, 0, 0, 0, 0, 0])\n",
    "\n",
    "print(len(dataset), len(midi_dataset))\n",
    "    "
   ]
  },
  {
   "cell_type": "code",
   "execution_count": 68,
   "metadata": {},
   "outputs": [
    {
     "name": "stdout",
     "output_type": "stream",
     "text": [
      "(48072, 2048) (48072, 2048, 8) (48072,)\n"
     ]
    }
   ],
   "source": [
    "import numpy as np\n",
    "dataset = np.array(dataset, dtype=object)\n",
    "midi_dataset = np.array(midi_dataset, dtype=object)\n",
    "meta_augmented = np.array(meta_augmented, dtype=object)\n",
    "print(dataset.shape, midi_dataset.shape, meta_augmented.shape)\n",
    "\n",
    "#save the dataset\n",
    "np.save('../data/formatted/dataset.npy', dataset)\n",
    "np.save('../data/formatted/midi_dataset.npy', midi_dataset)\n",
    "np.save('../data/formatted/meta_augmented.npy', meta_augmented)\n"
   ]
  }
 ],
 "metadata": {
  "kernelspec": {
   "display_name": "Python 3",
   "language": "python",
   "name": "python3"
  },
  "language_info": {
   "codemirror_mode": {
    "name": "ipython",
    "version": 3
   },
   "file_extension": ".py",
   "mimetype": "text/x-python",
   "name": "python",
   "nbconvert_exporter": "python",
   "pygments_lexer": "ipython3",
   "version": "3.10.12"
  }
 },
 "nbformat": 4,
 "nbformat_minor": 2
}
