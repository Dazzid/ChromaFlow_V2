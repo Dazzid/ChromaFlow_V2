{
 "cells": [
  {
   "cell_type": "code",
   "execution_count": 1,
   "metadata": {},
   "outputs": [],
   "source": [
    "import numpy as np\n",
    "import tqdm as tqdm"
   ]
  },
  {
   "cell_type": "code",
   "execution_count": 3,
   "metadata": {},
   "outputs": [
    {
     "name": "stdout",
     "output_type": "stream",
     "text": [
      "(56412, 1024, 2) (56412, 1024, 3) (56412,)\n"
     ]
    }
   ],
   "source": [
    "dataset = np.load(\"../data/formatted/dataset.npy\", allow_pickle=True)\n",
    "midi_dataset = np.load(\"../data/formatted/midi_dataset.npy\", allow_pickle=True)\n",
    "meta_dataset = np.load(\"../data/formatted/meta_augmented.npy\", allow_pickle=True)\n",
    "\n",
    "print(dataset.shape, midi_dataset.shape, meta_dataset.shape)"
   ]
  },
  {
   "cell_type": "code",
   "execution_count": 4,
   "metadata": {},
   "outputs": [],
   "source": [
    "#Check both dataset are equivalent \n",
    "x, y = dataset.shape[0], dataset.shape[1]\n",
    "\n",
    "for i in range (x):\n",
    "    for j in range (y):\n",
    "        element = dataset[i][j][0]\n",
    "        check = midi_dataset[i][j][2] \n",
    "        if element != check:\n",
    "            print(\"Error at \", i, j)\n",
    "            print(element, check)\n",
    "            break   \n",
    "        \n",
    "print(\"Dataset are equivalent\")"
   ]
  },
  {
   "cell_type": "code",
   "execution_count": 7,
   "metadata": {},
   "outputs": [
    {
     "name": "stdout",
     "output_type": "stream",
     "text": [
      "245\n",
      "{'o', ':|', 'Moderately', 'Medium Up Swing', 'Traditional Gospel', 'Chacarera', 'Medium Rock', 'C', 'Jazz', 'Cuban Son', 'Folk', 'Blues Rock', '<Start>', 'add b9', 'Funk Jazz', 'B major', 'Db minor', \"R'n'B\", 'E##', 'Medium Blues', 'Slow Ballad', 'dom7', 'Db', 'Rock/Reggae', 'A minor', 'D', 'Afro', 'Form_C', 'Rock/Hip Hop', 'add 9', 'Medium Swing', 'aug', 'Rock Blues', 'Moderate Latin', 'Shuffle Blues', 'Bbb', 'Gypsy Swing', 'B##', 'Up Swing', 'Fast Swing', 'UP Swing', 'Afoxé-Samba', 'Gospel Ballad', 'D##', 'Soul', 'o_maj7', 'alter b5', 'Up Tempo Swing', 'Samba-Rock', 'Waltz', 'Afoxe', 'add 2', 'D#', 'Choro - Samba', 'Form_A', 'Up Samba', 'Rock Slow', 'Up Waltz (One Feel)', 'March', 'Slow Swing', 'maj6', 'Blues Pop', 'Rock Waltz', 'add 11', 'Bossa Nova', 'Salsa', 'add #5', 'D major', 'E#', 'add b13', 'Electric Blues', 'Pop Shuffle', 'Blues', 'm6', 'Bossa Acoustic', 'Gb minor', 'Electro Pop', 'Fb', 'sus4', 'm7', '<End>', 'Gypsy Bossa', 'Samba Funk', 'Rock-Folk', 'Medium Slow', 'Medium Waltz', 'alter #11', 'Form_D', 'Abb', 'Deliberately', 'Latin-Swing', 'Worship', 'C##', '|', 'add #11', 'add #7', 'Pop-Shuffle', 'Repeat_2', 'G major', 'Even 8ths', 'Ab', \"Even 8's\", 'Reggae Pop', 'F#', 'A##', 'Country Ballad', 'G minor', 'Medium Country', 'E major', 'Rock Pop', 'Cbb', 'RnB', 'Ballad', 'E', 'Form_Coda', 'C#', 'Son', 'G##', 'Bolero-Son', 'Tonality', 'Form_Segno', 'Tango', 'Repeat_3', 'A', 'add b6', 'Forró', 'Ab minor', 'Gb', 'm', 'Gypsy Waltz', 'Form_intro', 'Repeat_0', 'G#', 'Folk-Rock', 'power', 'add 7', 'Gbb', 'Disco', 'C minor', 'Afoxé', 'A#', 'Reggae', '.', 'alter b9', 'Medium Up', 'alter #5', 'Bb major', 'Fast Blues', 'Bolero-Cha', 'Folk Ballad', 'Gb major', 'A major', 'G', 'F', 'Dreamlike', 'Slow Blues', 'Cb', 'add #9', 'Montuno', 'Medium Shuffle', 'Slow Shuffle', 'Mambo', 'Frevo', 'Eb minor', 'Bb minor', 'Blues Shuffle', 'B#', 'F major', 'Samba Enredo', 'Beatles', 'Db major', \"Rock'n'Roll\", 'Baião', '128 Feel', 'maj', 'Hymn', 'Cha Cha', 'Dbb', 'Medium Funk', 'Fbb', 'Funk Rock', 'Bright Shuffle Blues', 'F##', 'add 13', 'Form_verse', 'Slow Bossa', 'Even 16ths', 'Form_B', 'Calypso', 'Pop Ballad', '/', 'Folk Rock', 'Funk', 'o7', \"Even 8th's\", 'Merengue', 'Style', 'Up Tempo', '<pad>', 'Maxixe', 'Samba', 'Pop', 'Ab major', 'sus7', 'Afro-Samba', 'Foxtrot', 'E minor', 'Bb', 'Ebb', 'Slowly', 'Pop jazz', 'major-13th', 'Musical', 'Pop Folk', 'Eb major', 'Latin', 'Rock', 'Soul Ballad', 'N.C.', 'Fusion', 'Medium Pop', 'Repeat_1', 'Samba-Funk', 'Shuffle', 'maj7', 'Samba Reggae', 'Medium Ballad', 'Choro', 'B', 'Rock Ballad', 'Bolero', 'Pop Rock', 'F minor', 'C major', 'Med Up Latin', 'Marchinha', 'B minor', 'Slow Rock', 'alter #9', 'Power Ballad', 'Disco Funk', 'D minor', 'Gary Aprile', 'Eb', 'Country Blues'}\n"
     ]
    }
   ],
   "source": [
    "#Token from dataset\n",
    "\n",
    "chords_array = [[item[0] for item in row] for row in dataset]\n",
    "concatenated_array = np.hstack(chords_array) \n",
    "tokens = set(concatenated_array)\n",
    "\n",
    "print(len(tokens))\n",
    "print(np.array(tokens))"
   ]
  }
 ],
 "metadata": {
  "kernelspec": {
   "display_name": "Python 3",
   "language": "python",
   "name": "python3"
  },
  "language_info": {
   "codemirror_mode": {
    "name": "ipython",
    "version": 3
   },
   "file_extension": ".py",
   "mimetype": "text/x-python",
   "name": "python",
   "nbconvert_exporter": "python",
   "pygments_lexer": "ipython3",
   "version": "3.10.12"
  }
 },
 "nbformat": 4,
 "nbformat_minor": 2
}
