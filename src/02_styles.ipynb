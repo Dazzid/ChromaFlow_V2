{
 "cells": [
  {
   "cell_type": "code",
   "execution_count": 2,
   "metadata": {},
   "outputs": [],
   "source": [
    "import tqdm as tqdm\n",
    "import voicing as vc\n",
    "from tqdm import tqdm\n",
    "import importlib\n",
    "import formats as fmt\n",
    "import numpy as np\n",
    "import json"
   ]
  },
  {
   "cell_type": "code",
   "execution_count": 3,
   "metadata": {},
   "outputs": [
    {
     "name": "stdout",
     "output_type": "stream",
     "text": [
      "48060 48060 48060\n"
     ]
    }
   ],
   "source": [
    "#Load dataset\n",
    "\n",
    "with open('../data/formatted/meta_dataset.txt', 'r') as jsonFile:\n",
    "    meta_augmented = json.load(jsonFile)\n",
    "    \n",
    "with open('../data/formatted/dataset_augmented.txt', 'r') as jsonFile:\n",
    "    dataset_augmented = json.load(jsonFile)\n",
    "    \n",
    "with open('../data/formatted/midi_voicing_dataset.txt', 'r') as jsonFile:\n",
    "    midi_voicing_dataset = json.load(jsonFile)\n",
    "\n",
    "print(len(midi_voicing_dataset), len(dataset_augmented), len(meta_augmented))"
   ]
  },
  {
   "cell_type": "code",
   "execution_count": 4,
   "metadata": {},
   "outputs": [
    {
     "name": "stdout",
     "output_type": "stream",
     "text": [
      "['<style>', 'Medium Swing', '|:', '.', '4.0', 'C', 'maj', '|', '.', '4.0', 'C', 'maj', '|', '.', '4.0', 'C#', 'o', '|', '.', '4.0', 'C#', 'o', '|', '.', '4.0', 'D', 'm7', '|', '.', '4.0', 'G', 'dom7', '|', '.', '4.0', 'C', 'maj', '|', 'Repeat_1', '.', '4.0', 'C', 'maj', ':|', '|', 'Repeat_2', '.', '2.0', 'F#', 'm7', '.', '2.0', 'B', 'dom7', '|', '.', '4.0', 'E', 'maj', '|', '.', '2.0', 'F#', 'm7', '.', '2.0', 'B', 'dom7', '|', '.', '4.0', 'E', 'maj', '|', '.', '2.0', 'F#', 'm7', '.', '2.0', 'B', 'dom7', '|', '.', '4.0', 'E', 'm7', '|', '.', '4.0', 'A', 'dom7', '|', '.', '4.0', 'D', 'dom7', '|', '.', '4.0', 'G', 'dom7', '|', '.', '4.0', 'C', 'maj', '|', '.', '4.0', 'C', 'maj', '|', '.', '4.0', 'Eb', 'o', '|', '.', '4.0', 'Eb', 'o', '|', '.', '4.0', 'D', 'm7', '|', '.', '4.0', 'G', 'dom7', '|', 'Repeat_0', '.', '4.0', 'C', 'maj', '|', '.', '4.0', 'C', 'maj', ':|', '|', 'Repeat_0', '.', '4.0', 'E', 'm7', '|', '.', '4.0', 'A', 'dom7', '|', '.', '4.0', 'D', 'm7', '|', '.', '4.0', 'G', 'dom7', '|', '.', '4.0', 'C', 'maj', '|', '.', '4.0', 'C', 'maj', '|:', '.', '4.0', 'C', 'maj', '|', '.', '4.0', 'C', 'maj', '|', '.', '4.0', 'C#', 'o', '|', '.', '4.0', 'C#', 'o', '|', '.', '4.0', 'D', 'm7', '|', '.', '4.0', 'G', 'dom7', '|', '.', '4.0', 'C', 'maj', '|', 'Repeat_1', '.', '4.0', 'C', 'maj', ':|', '|', 'Repeat_2', '.', '2.0', 'F#', 'm7', '.', '2.0', 'B', 'dom7', '|', '.', '4.0', 'E', 'maj', '|', '.', '2.0', 'F#', 'm7', '.', '2.0', 'B', 'dom7', '|', '.', '4.0', 'E', 'maj', '|', '.', '2.0', 'F#', 'm7', '.', '2.0', 'B', 'dom7', '|', '.', '4.0', 'E', 'm7', '|', '.', '4.0', 'A', 'dom7', '|', '.', '4.0', 'D', 'dom7', '|', '.', '4.0', 'G', 'dom7', '|', '.', '4.0', 'C', 'maj', '|', '.', '4.0', 'C', 'maj', '|', '.', '4.0', 'Eb', 'o', '|', '.', '4.0', 'Eb', 'o', '|', '.', '4.0', 'D', 'm7', '|', '.', '4.0', 'G', 'dom7', '|', 'Repeat_0', '.', '4.0', 'C', 'maj', '|', '.', '4.0', 'C', 'maj', ':|', '|', 'Repeat_0', '.', '4.0', 'E', 'm7', '|', '.', '4.0', 'A', 'dom7', '|', '.', '4.0', 'D', 'm7', '|', '.', '4.0', 'G', 'dom7', '|', '.', '4.0', 'C', 'maj', '|', '.', '4.0', 'C', 'maj', '|:', '.', '4.0', 'C', 'maj', '|', '.', '4.0', 'C', 'maj', '|', '.', '4.0', 'C#', 'o', '|', '.', '4.0', 'C#', 'o', '|', '.', '4.0', 'D', 'm7', '|', '.', '4.0', 'G', 'dom7', '|', '.', '4.0', 'C', 'maj', '|', 'Repeat_1', '.', '4.0', 'C', 'maj', ':|', '|', 'Repeat_2', '.', '2.0', 'F#', 'm7', '.', '2.0', 'B', 'dom7', '|', '.', '4.0', 'E', 'maj', '|', '.', '2.0', 'F#', 'm7', '.', '2.0', 'B', 'dom7', '|', '.', '4.0', 'E', 'maj', '|', '.', '2.0', 'F#', 'm7', '.', '2.0', 'B', 'dom7', '|', '.', '4.0', 'E', 'm7', '|', '.', '4.0', 'A', 'dom7', '|', '.', '4.0', 'D', 'dom7', '|', '.', '4.0', 'G', 'dom7', '|', '.', '4.0', 'C', 'maj', '|', '.', '4.0', 'C', 'maj', '|', '.', '4.0', 'Eb', 'o', '|', '.', '4.0', 'Eb', 'o', '|', '.', '4.0', 'D', 'm7', '|', '.', '4.0', 'G', 'dom7', '|', 'Repeat_0', '.', '4.0', 'C', 'maj', '|', '.', '4.0', 'C', 'maj', ':|', '|', 'Repeat_0', '.', '4.0', 'E', 'm7', '|', '.', '4.0', 'A', 'dom7', '|', '.', '4.0', 'D', 'm7', '|', '.', '4.0', 'G', 'dom7', '|', '.', '4.0', 'C', 'maj', '|', '.', '4.0', 'C', 'maj']\n"
     ]
    }
   ],
   "source": [
    "print(dataset_augmented[0])"
   ]
  },
  {
   "cell_type": "markdown",
   "metadata": {},
   "source": [
    "- Fix the Style Token\n",
    "- Split the songs that are too long into two sections"
   ]
  },
  {
   "cell_type": "code",
   "execution_count": 5,
   "metadata": {},
   "outputs": [
    {
     "data": {
      "application/vnd.jupyter.widget-view+json": {
       "model_id": "d1b6494b4bc946acbf4edd765c5cd02e",
       "version_major": 2,
       "version_minor": 0
      },
      "text/plain": [
       "  0%|          | 0/48060 [00:00<?, ?it/s]"
      ]
     },
     "metadata": {},
     "output_type": "display_data"
    },
    {
     "name": "stdout",
     "output_type": "stream",
     "text": [
      "62\n",
      "{'Funk', 'Reggae', 'Up Tempo', 'Disco', 'Gary Aprile', 'Latin', 'Bossa', 'Pop', 'Rock', 'Chacarera', 'Gospel Ballad', 'Forró', 'Medium Up', 'Dreamlike', 'Up Waltz (One Feel)', 'Baião', 'Even 8ths', 'Soul', 'Moderate Latin', 'Waltz', 'Medium Shuffle', 'Hymn', 'Afro', 'Montuno', 'Country Ballad', 'Maxixe', 'Slow Ballad', '128 Feel', 'Slowly', 'March', 'Med Up Latin', 'Choro', 'Power Ballad', 'Musical', 'Merengue', 'RnB', 'Bolero', 'Shuffle', 'Ballad', 'Gypsy Waltz', 'Frevo', 'Salsa', 'Jazz', 'Medium Ballad', 'Foxtrot', 'Gospel', 'Folk', 'Samba', 'Marchinha', 'Mambo', 'Tango', 'Medium Waltz', 'Son', 'Afoxé', 'Medium Slow', 'Cha Cha', 'Medium Country', 'Bolero-Cha', 'Calypso', 'Slow Shuffle', 'Blues', 'Even 16ths'}\n"
     ]
    }
   ],
   "source": [
    "importlib.reload(fmt)\n",
    "fmt.correctStyleTokensInMeta(meta_augmented)\n",
    "\n",
    "all_styles = []\n",
    "for song in meta_augmented:     \n",
    "    all_styles.append(song['style'])\n",
    "\n",
    "styles = set(all_styles)\n",
    "print(len(styles))\n",
    "print(styles)\n",
    "\n"
   ]
  },
  {
   "cell_type": "code",
   "execution_count": 6,
   "metadata": {},
   "outputs": [
    {
     "name": "stdout",
     "output_type": "stream",
     "text": [
      "48060 48060\n"
     ]
    }
   ],
   "source": [
    "#Add the tonality token to the dataset and to the midi_voicing_dataset\n",
    "dataset = dataset_augmented.copy()\n",
    "for i, song in enumerate(dataset):\n",
    "    tonality = meta_augmented[i]['tonality']\n",
    "    #add these two elements into the third position of the list\n",
    "    song.insert(2, 'Tonality')\n",
    "    song.insert(3, tonality)\n",
    "    \n",
    "    midi_tonal_token = [[0, 0, 0, 0, 0, 0, 0, 0], 0.0, 'Tonality']\n",
    "    element_to_add = [[0, 0, 0, 0, 0, 0, 0, 0], 0.0, tonality]\n",
    "    midi_voicing_dataset[i].insert(2, midi_tonal_token)\n",
    "    midi_voicing_dataset[i].insert(3, element_to_add)\n",
    "    \n",
    "print(len(dataset), len(midi_voicing_dataset))"
   ]
  },
  {
   "cell_type": "code",
   "execution_count": 6,
   "metadata": {},
   "outputs": [],
   "source": [
    "#clean the sequence adding the duration element only after dot\n",
    "\n",
    "# importlib.reload(vc)\n",
    "# voicing = vc.Voicing()\n",
    "\n",
    "# print(len(new_dataset))\n",
    "# dataset = []\n",
    "# midi_dataset = []\n",
    "# for i, song in enumerate(tqdm(new_dataset)):\n",
    "#     sequence = []\n",
    "#     midi_sequence = []\n",
    "#     for j in range(0, len(song)):\n",
    "#         s = song[j][0]\n",
    "#         d = str(song[j][1])\n",
    "#         m = midi_voicing_dataset[i][j][0]\n",
    "#         sequence.append(s)\n",
    "#         midi_sequence.append(m)\n",
    "#         if s == '.':\n",
    "#             sequence.append(d)\n",
    "#             midi_sequence.append(m)\n",
    "#     dataset.append(sequence)\n",
    "#     midi_dataset.append(midi_sequence)\n",
    "            \n",
    "# print(len(dataset), len(midi_dataset))\n",
    "            "
   ]
  },
  {
   "cell_type": "code",
   "execution_count": 7,
   "metadata": {},
   "outputs": [
    {
     "name": "stdout",
     "output_type": "stream",
     "text": [
      "['<style>', 'Medium Swing', 'Tonality', 'Eb major', 'Form_A', '|', '.', '2.0', 'Eb', 'maj7', '.', '2.0', 'Bb', 'sus4', 'add 7', '|', '.', '2.0', 'Eb', 'maj7', '.', '2.0', 'Bb', 'sus4', 'add 7', '|', '.', '2.0', 'Eb', 'maj7', '.', '2.0', 'A', 'dom7', '|', '.', '2.0', 'Ab', 'maj7', '.', '2.0', 'Db', 'sus4', 'add 7', '|', '.', '2.0', 'Eb', 'maj7', '.', '2.0', 'Ab', 'dom7', '|', '.', '2.0', 'G', 'dom7', '.', '2.0', 'C', 'dom7', '|', '.', '2.0', 'F', 'm7', '.', '2.0', 'B', 'dom7', '|', '.', '2.0', 'Bb', 'dom7', '.', '2.0', 'Ab', 'dom7', 'Form_B', '|', '.', '2.0', 'G', 'dom7', 'add 9', '.', '2.0', 'G', 'dom7', 'add b9', '|', '.', '2.0', 'C', 'dom7', 'add 13', '.', '2.0', 'C', 'dom7', 'add b13', '|', '.', '2.0', 'F', 'dom7', 'add 13', '.', '2.0', 'F', 'dom7', 'add b13', '|', '.', '2.0', 'Bb', 'dom7', 'add 9', '.', '2.0', 'Bb', 'dom7', 'add b9', '|', '.', '2.0', 'Eb', 'dom7', 'add 13', '.', '2.0', 'Eb', 'dom7', 'add b13', '|', '.', '4.0', 'Ab', 'dom7', '|', '.', '1.0', 'F', 'm7', '.', '1.0', 'G', 'm7', '.', '1.0', 'G#', 'maj6', '.', '1.0', 'A', 'o', '|', '.', '2.0', 'Bb', 'sus4', 'add 7', '.', '2.0', 'Bb', 'dom7', 'Form_A', '|', '.', '2.0', 'Eb', 'maj7', '.', '2.0', 'Bb', 'sus4', 'add 7', '|', '.', '2.0', 'Eb', 'maj7', '.', '2.0', 'Bb', 'sus4', 'add 7', '|', '.', '2.0', 'Eb', 'maj7', '.', '2.0', 'A', 'dom7', '|', '.', '2.0', 'Ab', 'maj7', '.', '2.0', 'Db', 'sus4', 'add 7', '|', '.', '2.0', 'Eb', 'maj7', '.', '2.0', 'Ab', 'dom7', '|', '.', '2.0', 'G', 'dom7', '.', '2.0', 'C', 'dom7', '|', '.', '2.0', 'F', 'm7', '.', '2.0', 'B', 'dom7', '|', '.', '2.0', 'Bb', 'dom7', '.', '2.0', 'Ab', 'dom7', 'Form_C', '|', '.', '2.0', 'G', 'dom7', 'add 9', '.', '2.0', 'G', 'dom7', 'add b9', '|', '.', '2.0', 'C', 'dom7', 'add 13', '.', '2.0', 'C', 'dom7', 'add b13', '|', '.', '2.0', 'F', 'dom7', 'add 13', '.', '2.0', 'F', 'dom7', 'add b13', '|', '.', '2.0', 'Bb', 'dom7', 'add 9', '.', '2.0', 'Bb', 'dom7', 'add b9', '|', '.', '2.0', 'Eb', 'maj7', '.', '2.0', 'G#', 'maj7', '|', '.', '2.0', 'G', 'dom7', '.', '2.0', 'C', 'dom7', '|', '.', '2.0', 'F', 'dom7', '.', '2.0', 'Bb', 'dom7', '|', '.', '2.0', 'G', 'dom7', '.', '2.0', 'C', 'dom7', '|', '.', '4.0', 'F', 'dom7', '|', '.', '2.0', 'Bb', 'sus4', 'add 7', '.', '2.0', 'Bb', 'dom7', '|', '.', '2.0', 'Eb', 'maj6', '.', '2.0', 'F#', 'maj7', '|', '.', '2.0', 'B', 'maj7', '.', '2.0', 'E', 'maj7', 'Form_A', '|', '.', '2.0', 'Eb', 'maj7', '.', '2.0', 'Bb', 'sus4', 'add 7', '|', '.', '2.0', 'Eb', 'maj7', '.', '2.0', 'Bb', 'sus4', 'add 7', '|', '.', '2.0', 'Eb', 'maj7', '.', '2.0', 'A', 'dom7', '|', '.', '2.0', 'Ab', 'maj7', '.', '2.0', 'Db', 'sus4', 'add 7', '|', '.', '2.0', 'Eb', 'maj7', '.', '2.0', 'Ab', 'dom7', '|', '.', '2.0', 'G', 'dom7', '.', '2.0', 'C', 'dom7', '|', '.', '2.0', 'F', 'm7', '.', '2.0', 'B', 'dom7', '|', '.', '2.0', 'Bb', 'dom7', '.', '2.0', 'Ab', 'dom7', 'Form_B', '|', '.', '2.0', 'G', 'dom7', 'add 9', '.', '2.0', 'G', 'dom7', 'add b9', '|', '.', '2.0', 'C', 'dom7', 'add 13', '.', '2.0', 'C', 'dom7', 'add b13', '|', '.', '2.0', 'F', 'dom7', 'add 13', '.', '2.0', 'F', 'dom7', 'add b13', '|', '.', '2.0', 'Bb', 'dom7', 'add 9', '.', '2.0', 'Bb', 'dom7', 'add b9', '|', '.', '2.0', 'Eb', 'dom7', 'add 13', '.', '2.0', 'Eb', 'dom7', 'add b13', '|', '.', '4.0', 'Ab', 'dom7', '|', '.', '1.0', 'F', 'm7', '.', '1.0', 'G', 'm7', '.', '1.0', 'G#', 'maj6', '.', '1.0', 'A', 'o', '|', '.', '2.0', 'Bb', 'sus4', 'add 7', '.', '2.0', 'Bb', 'dom7', 'Form_A', '|', '.', '2.0', 'Eb', 'maj7', '.', '2.0', 'Bb', 'sus4', 'add 7', '|', '.', '2.0', 'Eb', 'maj7', '.', '2.0', 'Bb', 'sus4', 'add 7', '|', '.', '2.0', 'Eb', 'maj7', '.', '2.0', 'A', 'dom7', '|', '.', '2.0', 'Ab', 'maj7', '.', '2.0', 'Db', 'sus4', 'add 7', '|', '.', '2.0', 'Eb', 'maj7', '.', '2.0', 'Ab', 'dom7', '|', '.', '2.0', 'G', 'dom7', '.', '2.0', 'C', 'dom7', '|', '.', '2.0', 'F', 'm7', '.', '2.0', 'B', 'dom7', '|', '.', '2.0', 'Bb', 'dom7', '.', '2.0', 'Ab', 'dom7', 'Form_C', '|', '.', '2.0', 'G', 'dom7', 'add 9', '.', '2.0', 'G', 'dom7', 'add b9', '|', '.', '2.0', 'C', 'dom7', 'add 13', '.', '2.0', 'C', 'dom7', 'add b13', '|', '.', '2.0', 'F', 'dom7', 'add 13', '.', '2.0', 'F', 'dom7', 'add b13', '|', '.', '2.0', 'Bb', 'dom7', 'add 9', '.', '2.0', 'Bb', 'dom7', 'add b9', '|', '.', '2.0', 'Eb', 'maj7', '.', '2.0', 'G#', 'maj7', '|', '.', '2.0', 'G', 'dom7', '.', '2.0', 'C', 'dom7', '|', '.', '2.0', 'F', 'dom7', '.', '2.0', 'Bb', 'dom7', '|', '.', '2.0', 'G', 'dom7', '.', '2.0', 'C', 'dom7', '|', '.', '4.0', 'F', 'dom7', '|', '.', '2.0', 'Bb', 'sus4', 'add 7', '.', '2.0', 'Bb', 'dom7', '|', '.', '2.0', 'Eb', 'maj6', '.', '2.0', 'F#', 'maj7', '|', '.', '2.0', 'B', 'maj7', '.', '2.0', 'E', 'maj7', 'Form_A', '|', '.', '2.0', 'Eb', 'maj7', '.', '2.0', 'Bb', 'sus4', 'add 7', '|', '.', '2.0', 'Eb', 'maj7', '.', '2.0', 'Bb', 'sus4', 'add 7', '|', '.', '2.0', 'Eb', 'maj7', '.', '2.0', 'A', 'dom7', '|', '.', '2.0', 'Ab', 'maj7', '.', '2.0', 'Db', 'sus4', 'add 7', '|', '.', '2.0', 'Eb', 'maj7', '.', '2.0', 'Ab', 'dom7', '|', '.', '2.0', 'G', 'dom7', '.', '2.0', 'C', 'dom7', '|', '.', '2.0', 'F', 'm7', '.', '2.0', 'B', 'dom7', '|', '.', '2.0', 'Bb', 'dom7', '.', '2.0', 'Ab', 'dom7', 'Form_B', '|', '.', '2.0', 'G', 'dom7', 'add 9', '.', '2.0', 'G', 'dom7', 'add b9', '|', '.', '2.0', 'C', 'dom7', 'add 13', '.', '2.0', 'C', 'dom7', 'add b13', '|', '.', '2.0', 'F', 'dom7', 'add 13', '.', '2.0', 'F', 'dom7', 'add b13', '|', '.', '2.0', 'Bb', 'dom7', 'add 9', '.', '2.0', 'Bb', 'dom7', 'add b9', '|', '.', '2.0', 'Eb', 'dom7', 'add 13', '.', '2.0', 'Eb', 'dom7', 'add b13', '|', '.', '4.0', 'Ab', 'dom7', '|', '.', '1.0', 'F', 'm7', '.', '1.0', 'G', 'm7', '.', '1.0', 'G#', 'maj6', '.', '1.0', 'A', 'o', '|', '.', '2.0', 'Bb', 'sus4', 'add 7', '.', '2.0', 'Bb', 'dom7', 'Form_A', '|', '.', '2.0', 'Eb', 'maj7', '.', '2.0', 'Bb', 'sus4', 'add 7', '|', '.', '2.0', 'Eb', 'maj7', '.', '2.0', 'Bb', 'sus4', 'add 7', '|', '.', '2.0', 'Eb', 'maj7', '.', '2.0', 'A', 'dom7', '|', '.', '2.0', 'Ab', 'maj7', '.', '2.0', 'Db', 'sus4', 'add 7', '|', '.', '2.0', 'Eb', 'maj7', '.', '2.0', 'Ab', 'dom7', '|', '.', '2.0', 'G', 'dom7', '.', '2.0', 'C', 'dom7', '|', '.', '2.0', 'F', 'm7', '.', '2.0', 'B', 'dom7', '|', '.', '2.0', 'Bb', 'dom7', '.', '2.0', 'Ab', 'dom7', 'Form_C', '|', '.', '2.0', 'G', 'dom7', 'add 9', '.', '2.0', 'G', 'dom7', 'add b9', '|', '.', '2.0', 'C', 'dom7', 'add 13', '.', '2.0', 'C', 'dom7', 'add b13', '|', '.', '2.0', 'F', 'dom7', 'add 13', '.', '2.0', 'F', 'dom7', 'add b13', '|', '.', '2.0', 'Bb', 'dom7', 'add 9', '.', '2.0', 'Bb', 'dom7', 'add b9', '|', '.', '2.0', 'Eb', 'maj7', '.', '2.0', 'G#', 'maj7', '|', '.', '2.0', 'G', 'dom7', '.', '2.0', 'C', 'dom7', '|', '.', '2.0', 'F', 'dom7', '.', '2.0', 'Bb', 'dom7', '|', '.', '2.0', 'G', 'dom7', '.', '2.0', 'C', 'dom7', '|', '.', '4.0', 'F', 'dom7', '|', '.', '2.0', 'Bb', 'sus4', 'add 7', '.', '2.0', 'Bb', 'dom7', '|', '.', '2.0', 'Eb', 'maj6', '.', '2.0', 'F#', 'maj7', '|', '.', '2.0', 'B', 'maj7', '.', '2.0', 'E', 'maj7']\n"
     ]
    },
    {
     "data": {
      "application/vnd.jupyter.widget-view+json": {
       "model_id": "4e45ee16ba954158b14f1e39c5ec8089",
       "version_major": 2,
       "version_minor": 0
      },
      "text/plain": [
       "  0%|          | 0/48060 [00:00<?, ?it/s]"
      ]
     },
     "metadata": {},
     "output_type": "display_data"
    }
   ],
   "source": [
    "#Correct the style token in dataset\n",
    "importlib.reload(fmt)\n",
    "print(dataset[567])\n",
    "fmt.correctStyleTokens(dataset)"
   ]
  },
  {
   "cell_type": "code",
   "execution_count": 8,
   "metadata": {},
   "outputs": [
    {
     "name": "stdout",
     "output_type": "stream",
     "text": [
      "['.' '/' '0.3997395833333333' '0.4440104166666667' '0.5' '0.5703125'\n",
      " '0.6666666666666666' '0.75' '0.7994791666666666' '0.8880208333333334'\n",
      " '1.0' '1.1419270833333333' '1.3333333333333333' '1.5'\n",
      " '1.5989583333333333' '1.7135416666666667' '128 Feel' '2.0' '2.25'\n",
      " '2.3997395833333335' '2.6666666666666665' '3.0' '4.0' ':|' '<style>' 'A'\n",
      " 'A major' 'A minor' 'A#' 'A##' 'Ab' 'Ab major' 'Ab minor' 'Abb' 'Afoxé'\n",
      " 'Afro' 'B' 'B major' 'B minor' 'B#' 'B##' 'Baião' 'Ballad' 'Bb'\n",
      " 'Bb major' 'Bb minor' 'Bbb' 'Blues' 'Bolero' 'Bolero-Cha' 'Bossa' 'C'\n",
      " 'C major' 'C minor' 'C#' 'C##' 'Calypso' 'Cb' 'Cbb' 'Cha Cha' 'Chacarera'\n",
      " 'Choro' 'Country Ballad' 'D' 'D major' 'D minor' 'D#' 'D##' 'Db'\n",
      " 'Db major' 'Db minor' 'Dbb' 'Disco' 'Dreamlike' 'E' 'E major' 'E minor'\n",
      " 'E#' 'E##' 'Eb' 'Eb major' 'Eb minor' 'Ebb' 'Even 16ths' 'Even 8ths' 'F'\n",
      " 'F major' 'F minor' 'F#' 'F##' 'Fb' 'Fbb' 'Folk' 'Form_A' 'Form_B'\n",
      " 'Form_C' 'Form_Coda' 'Form_D' 'Form_Segno' 'Form_intro' 'Form_verse'\n",
      " 'Forró' 'Foxtrot' 'Frevo' 'Funk' 'G' 'G major' 'G minor' 'G#' 'G##'\n",
      " 'Gary Aprile' 'Gb' 'Gb major' 'Gb minor' 'Gbb' 'Gospel' 'Gospel Ballad'\n",
      " 'Gypsy Waltz' 'Hymn' 'Jazz' 'Latin' 'Mambo' 'March' 'Marchinha' 'Maxixe'\n",
      " 'Med Up Latin' 'Medium Ballad' 'Medium Country' 'Medium Shuffle'\n",
      " 'Medium Slow' 'Medium Up' 'Medium Waltz' 'Merengue' 'Moderate Latin'\n",
      " 'Montuno' 'Musical' 'N.C.' 'Pop' 'Power Ballad' 'Reggae' 'Repeat_0'\n",
      " 'Repeat_1' 'Repeat_2' 'Repeat_3' 'RnB' 'Rock' 'Salsa' 'Samba' 'Shuffle'\n",
      " 'Slow Ballad' 'Slow Shuffle' 'Slowly' 'Son' 'Soul' 'Tango' 'Tonality'\n",
      " 'Up Tempo' 'Up Waltz (One Feel)' 'Waltz' 'add #11' 'add #5' 'add #7'\n",
      " 'add #9' 'add 11' 'add 13' 'add 2' 'add 7' 'add 9' 'add b13' 'add b6'\n",
      " 'add b9' 'alter #11' 'alter #5' 'alter #9' 'alter b5' 'alter b9' 'aug'\n",
      " 'b||' 'dom7' 'e||' 'm' 'm6' 'm7' 'maj' 'maj6' 'maj7' 'major-13th' 'o'\n",
      " 'o7' 'o_maj7' 'power' 'sus4' 'sus7' '|' '|:']\n"
     ]
    }
   ],
   "source": [
    "dataset = np.array(dataset, dtype=object)\n",
    "tokens = np.unique(np.concatenate(dataset))\n",
    "print(tokens)"
   ]
  },
  {
   "cell_type": "code",
   "execution_count": null,
   "metadata": {},
   "outputs": [
    {
     "name": "stdout",
     "output_type": "stream",
     "text": [
      "195\n"
     ]
    }
   ],
   "source": [
    "print(len(tokens))"
   ]
  },
  {
   "cell_type": "code",
   "execution_count": null,
   "metadata": {},
   "outputs": [
    {
     "name": "stdout",
     "output_type": "stream",
     "text": [
      "['<style>', 'Medium Shuffle', 'Tonality', 'C major', 'Form_intro', '|', '.', '1.0', 'C', 'maj', '.', '1.0', 'C', 'maj', '/', 'E', '.', '1.0', 'F', 'maj', '.', '1.0', 'F', 'maj', '/', 'A', '|', '.', '1.0', 'C', 'maj', '.', '1.0', 'C', 'maj', '/', 'E', '.', '1.0', 'F', 'maj', '.', '1.0', 'F', 'maj', '/', 'A', '|', '.', '1.0', 'C', 'maj', '.', '1.0', 'C', 'maj', '/', 'E', '.', '1.0', 'F', 'maj', '.', '1.0', 'F', 'maj', '/', 'G', '|', '.', '1.0', 'G#', 'maj', '.', '1.0', 'Bb', 'maj', '.', '2.0', 'C', 'maj', 'Form_A', '|', '.', '1.0', 'C', 'maj', '.', '1.0', 'C', 'maj', '/', 'E', '.', '1.0', 'F', 'maj', '.', '1.0', 'F', 'maj', '/', 'A', '|', '.', '1.0', 'C', 'maj', '.', '1.0', 'C', 'maj', '/', 'E', '.', '1.0', 'F', 'maj', '.', '1.0', 'F', 'maj', '/', 'A', '|', '.', '1.0', 'C', 'maj', '.', '1.0', 'C', 'maj', '/', 'E', '.', '1.0', 'F', 'maj', '.', '1.0', 'F', 'maj', '/', 'G', '|', '.', '1.0', 'G#', 'maj', '.', '1.0', 'Bb', 'maj', '.', '2.0', 'C', 'maj', '|', '.', '1.0', 'C', 'maj', '.', '1.0', 'C', 'maj', '/', 'E', '.', '1.0', 'F', 'maj', '.', '1.0', 'F', 'maj', '/', 'A', '|', '.', '1.0', 'C', 'maj', '.', '1.0', 'C', 'maj', '/', 'E', '.', '1.0', 'F', 'maj', '.', '1.0', 'F', 'maj', '/', 'A', '|', '.', '1.0', 'C', 'maj', '.', '1.0', 'C', 'maj', '/', 'E', '.', '1.0', 'F', 'maj', '.', '1.0', 'F', 'maj', '/', 'G', '|', '.', '1.0', 'G#', 'maj', '.', '1.0', 'Bb', 'maj', '.', '2.0', 'C', 'maj', 'Form_Segno', '|', '.', '1.0', 'F', 'm', '.', '1.0', 'F', 'm', '/', 'Eb', '.', '1.0', 'F', 'm', '/', 'D', '.', '1.0', 'F', 'm', '/', 'C', '|', '.', '1.0', 'Bb', 'dom7', '.', '1.0', 'Bb', 'dom7', '/', 'G#', '.', '1.0', 'Bb', 'dom7', '/', 'G', '.', '1.0', 'Bb', 'dom7', '/', 'F', '|', '.', '1.0', 'Eb', 'maj', '.', '1.0', 'Eb', 'maj', '/', 'D', '.', '1.0', 'Eb', 'maj', '/', 'C', '.', '1.0', 'Eb', 'maj', '/', 'Bb', '|', '.', '1.0', 'C', 'm7', '.', '1.0', 'C', 'm7', '/', 'D', '.', '1.0', 'C', 'm7', '/', 'Eb', '.', '1.0', 'C', 'm7', '/', 'G', '|', '.', '1.0', 'F', 'm7', '.', '1.0', 'F', 'm7', '/', 'Eb', '.', '1.0', 'F', 'm7', '/', 'D', '.', '1.0', 'F', 'm7', '/', 'C', '|', '.', '1.0', 'Bb', 'dom7', '.', '1.0', 'Bb', 'dom7', '/', 'G#', '.', '1.0', 'Bb', 'dom7', '/', 'G', '.', '1.0', 'Bb', 'dom7', '/', 'F', '|', '.', '2.0', 'Eb', 'maj', '.', '2.0', 'D', 'm7', 'Form_Coda', '|', '.', '2.0', 'G', 'sus4', 'add 7', '.', '2.0', 'G', 'dom7', 'Form_A', '|:', '.', '1.0', 'C', 'maj', '.', '1.0', 'C', 'maj', '/', 'E', '.', '1.0', 'F', 'maj', '.', '1.0', 'F', 'maj', '/', 'A', 'e||', '.', '1.0', 'C', 'maj', '.', '1.0', 'C', 'maj', '/', 'E', '.', '1.0', 'F', 'maj', '.', '1.0', 'F', 'maj', '/', 'A', '|', '.', '1.0', 'C', 'maj', '.', '1.0', 'C', 'maj', '/', 'E', '.', '1.0', 'F', 'maj', '.', '1.0', 'F', 'maj', '/', 'G', '|', '.', '1.0', 'G#', 'maj', '.', '1.0', 'Bb', 'maj', '.', '2.0', 'C', 'maj', '|', '.', '1.0', 'C', 'maj', '.', '1.0', 'C', 'maj', '/', 'E', '.', '1.0', 'F', 'maj', '.', '1.0', 'F', 'maj', '/', 'A', '|', '.', '1.0', 'C', 'maj', '.', '1.0', 'C', 'maj', '/', 'E', '.', '1.0', 'F', 'maj', '.', '1.0', 'F', 'maj', '/', 'A', '|', '.', '1.0', 'C', 'maj', '.', '1.0', 'C', 'maj', '/', 'E', '.', '1.0', 'F', 'maj', '.', '1.0', 'F', 'maj', '/', 'G', '|', 'Repeat_1', '.', '1.0', 'G#', 'maj', '.', '1.0', 'Bb', 'maj', '.', '2.0', 'C', 'maj', 'Form_B', '|', '.', '1.0', 'F', 'm', '.', '1.0', 'F', 'm', '/', 'Eb', '.', '1.0', 'F', 'm', '/', 'D', '.', '1.0', 'F', 'm', '/', 'C', '|', '.', '1.0', 'Bb', 'dom7', '.', '1.0', 'Bb', 'dom7', '/', 'G#', '.', '1.0', 'Bb', 'dom7', '/', 'G', '.', '1.0', 'Bb', 'dom7', '/', 'F', '|', '.', '1.0', 'Eb', 'maj', '.', '1.0', 'Eb', 'maj', '/', 'D', '.', '1.0', 'Eb', 'maj', '/', 'C', '.', '1.0', 'Eb', 'maj', '/', 'Bb', '|', '.', '1.0', 'C', 'm7', '.', '1.0', 'C', 'm7', '/', 'D', '.', '1.0', 'C', 'm7', '/', 'Eb', '.', '1.0', 'C', 'm7', '/', 'G', '|', '.', '1.0', 'F', 'm7', '.', '1.0', 'F', 'm7', '/', 'Eb', '.', '1.0', 'F', 'm7', '/', 'D', '.', '1.0', 'F', 'm7', '/', 'C', '|', '.', '1.0', 'Bb', 'dom7', '.', '1.0', 'Bb', 'dom7', '/', 'G#', '.', '1.0', 'Bb', 'dom7', '/', 'G', '.', '1.0', 'Bb', 'dom7', '/', 'F', '|', '.', '2.0', 'Eb', 'maj', '.', '2.0', 'D', 'm7', '|', '.', '2.0', 'G', 'sus4', 'add 7', '.', '2.0', 'G', 'dom7', ':|', '|', 'Repeat_2', '.', '1.0', 'G#', 'maj', '.', '1.0', 'Bb', 'maj', '.', '2.0', 'C', 'maj', 'Form_Coda', 'b||', '.', '1.0', 'C', 'maj', '.', '1.0', 'C', 'maj', '/', 'E', '.', '1.0', 'F', 'maj', '.', '1.0', 'F', 'maj', '/', 'A', '|', '.', '1.0', 'C', 'maj', '.', '1.0', 'C', 'maj', '/', 'E', '.', '1.0', 'F', 'maj', '.', '1.0', 'F', 'maj', '/', 'A', '|', '.', '1.0', 'C', 'maj', '.', '1.0', 'C', 'maj', '/', 'E', '.', '1.0', 'F', 'maj', '.', '1.0', 'F', 'maj', '/', 'G', '|', '.', '1.0', 'G#', 'maj', '.', '1.0', 'Bb', 'maj', 'Form_C', '|', '.', '2.0', 'C', 'maj', '.', '2.0', 'Bb', 'maj', '/', 'D', '|', '.', '1.0', 'Eb', 'm', '.', '1.0', 'Bb', 'maj', '/', 'D', '.', '2.0', 'C', 'maj', '|', '.', '2.0', 'C', 'maj', '.', '2.0', 'Bb', 'maj', '/', 'D', '|', '.', '1.0', 'Eb', 'm', '.', '1.0', 'Bb', 'maj', '/', 'D', '|', '.', '2.0', 'C', 'maj', 'Form_intro', '|', '.', '1.0', 'C', 'maj', '.', '1.0', 'C', 'maj', '/', 'E', '.', '1.0', 'F', 'maj', '.', '1.0', 'F', 'maj', '/', 'A', '|', '.', '1.0', 'C', 'maj', '.', '1.0', 'C', 'maj', '/', 'E', '.', '1.0', 'F', 'maj', '.', '1.0', 'F', 'maj', '/', 'A', '|', '.', '1.0', 'C', 'maj', '.', '1.0', 'C', 'maj', '/', 'E', '.', '1.0', 'F', 'maj', '.', '1.0', 'F', 'maj', '/', 'G', '|', '.', '1.0', 'G#', 'maj', '.', '1.0', 'Bb', 'maj', '.', '2.0', 'C', 'maj', 'Form_A', '|', '.', '1.0', 'C', 'maj', '.', '1.0', 'C', 'maj', '/', 'E', '.', '1.0', 'F', 'maj', '.', '1.0', 'F', 'maj', '/', 'A', '|', '.', '1.0', 'C', 'maj', '.', '1.0', 'C', 'maj', '/', 'E', '.', '1.0', 'F', 'maj', '.', '1.0', 'F', 'maj', '/', 'A', '|', '.', '1.0', 'C', 'maj', '.', '1.0', 'C', 'maj', '/', 'E', '.', '1.0', 'F', 'maj', '.', '1.0', 'F', 'maj', '/', 'G', '|', '.', '1.0', 'G#', 'maj', '.', '1.0', 'Bb', 'maj', '.', '2.0', 'C', 'maj', '|', '.', '1.0', 'C', 'maj', '.', '1.0', 'C', 'maj', '/', 'E', '.', '1.0', 'F', 'maj', '.', '1.0', 'F', 'maj', '/', 'A', '|', '.', '1.0', 'C', 'maj', '.', '1.0', 'C', 'maj', '/', 'E', '.', '1.0', 'F', 'maj', '.', '1.0', 'F', 'maj', '/', 'A', '|', '.', '1.0', 'C', 'maj', '.', '1.0', 'C', 'maj', '/', 'E', '.', '1.0', 'F', 'maj', '.', '1.0', 'F', 'maj', '/', 'G', '|', '.', '1.0', 'G#', 'maj', '.', '1.0', 'Bb', 'maj', '.', '2.0', 'C', 'maj', 'Form_Segno', '|', '.', '1.0', 'F', 'm', '.', '1.0', 'F', 'm', '/', 'Eb', '.', '1.0', 'F', 'm', '/', 'D', '.', '1.0', 'F', 'm', '/', 'C', '|', '.', '1.0', 'Bb', 'dom7', '.', '1.0', 'Bb', 'dom7', '/', 'G#', '.', '1.0', 'Bb', 'dom7', '/', 'G', '.', '1.0', 'Bb', 'dom7', '/', 'F', '|', '.', '1.0', 'Eb', 'maj', '.', '1.0', 'Eb', 'maj', '/', 'D', '.', '1.0', 'Eb', 'maj', '/', 'C', '.', '1.0', 'Eb', 'maj', '/', 'Bb', '|', '.', '1.0', 'C', 'm7', '.', '1.0', 'C', 'm7', '/', 'D', '.', '1.0', 'C', 'm7', '/', 'Eb', '.', '1.0', 'C', 'm7', '/', 'G', '|', '.', '1.0', 'F', 'm7', '.', '1.0', 'F', 'm7', '/', 'Eb', '.', '1.0', 'F', 'm7', '/', 'D', '.', '1.0', 'F', 'm7', '/', 'C', '|', '.', '1.0', 'Bb', 'dom7', '.', '1.0', 'Bb', 'dom7', '/', 'G#', '.', '1.0', 'Bb', 'dom7', '/', 'G', '.', '1.0', 'Bb', 'dom7', '/', 'F', '|', '.', '2.0', 'Eb', 'maj', '.', '2.0', 'D', 'm7', 'Form_Coda', '|', '.', '2.0', 'G', 'sus4', 'add 7', '.', '2.0', 'G', 'dom7', 'Form_A', '|:', '.', '1.0', 'C', 'maj', '.', '1.0', 'C', 'maj', '/', 'E', '.', '1.0', 'F', 'maj', '.', '1.0', 'F', 'maj', '/', 'A', 'e||', '.', '1.0', 'C', 'maj', '.', '1.0', 'C', 'maj', '/', 'E', '.', '1.0', 'F', 'maj', '.', '1.0', 'F', 'maj', '/', 'A', '|', '.', '1.0', 'C', 'maj', '.', '1.0', 'C', 'maj', '/', 'E', '.', '1.0', 'F', 'maj', '.', '1.0', 'F', 'maj', '/', 'G', '|', '.', '1.0', 'G#', 'maj', '.', '1.0', 'Bb', 'maj', '.', '2.0', 'C', 'maj', '|', '.', '1.0', 'C', 'maj', '.', '1.0', 'C', 'maj', '/', 'E', '.', '1.0', 'F', 'maj', '.', '1.0', 'F', 'maj', '/', 'A', '|', '.', '1.0', 'C', 'maj', '.', '1.0', 'C', 'maj', '/', 'E', '.', '1.0', 'F', 'maj', '.', '1.0', 'F', 'maj', '/', 'A', '|', '.', '1.0', 'C', 'maj', '.', '1.0', 'C', 'maj', '/', 'E', '.', '1.0', 'F', 'maj', '.', '1.0', 'F', 'maj', '/', 'G', '|', 'Repeat_1', '.', '1.0', 'G#', 'maj', '.', '1.0', 'Bb', 'maj', '.', '2.0', 'C', 'maj', 'Form_B', '|', '.', '1.0', 'F', 'm', '.', '1.0', 'F', 'm', '/', 'Eb', '.', '1.0', 'F', 'm', '/', 'D', '.', '1.0', 'F', 'm', '/', 'C', '|', '.', '1.0', 'Bb', 'dom7', '.', '1.0', 'Bb', 'dom7', '/', 'G#', '.', '1.0', 'Bb', 'dom7', '/', 'G', '.', '1.0', 'Bb', 'dom7', '/', 'F', '|', '.', '1.0', 'Eb', 'maj', '.', '1.0', 'Eb', 'maj', '/', 'D', '.', '1.0', 'Eb', 'maj', '/', 'C', '.', '1.0', 'Eb', 'maj', '/', 'Bb', '|', '.', '1.0', 'C', 'm7', '.', '1.0', 'C', 'm7', '/', 'D', '.', '1.0', 'C', 'm7', '/', 'Eb', '.', '1.0', 'C', 'm7', '/', 'G', '|', '.', '1.0', 'F', 'm7', '.', '1.0', 'F', 'm7', '/', 'Eb', '.', '1.0', 'F', 'm7', '/', 'D', '.', '1.0', 'F', 'm7', '/', 'C', '|', '.', '1.0', 'Bb', 'dom7', '.', '1.0', 'Bb', 'dom7', '/', 'G#', '.', '1.0', 'Bb', 'dom7', '/', 'G', '.', '1.0', 'Bb', 'dom7', '/', 'F', '|', '.', '2.0', 'Eb', 'maj', '.', '2.0', 'D', 'm7', '|', '.', '2.0', 'G', 'sus4', 'add 7', '.', '2.0', 'G', 'dom7', ':|', '|', 'Repeat_2', '.', '1.0', 'G#', 'maj', '.', '1.0', 'Bb', 'maj', '.', '2.0', 'C', 'maj', 'Form_Coda', 'b||', '.', '1.0', 'C', 'maj', '.', '1.0', 'C', 'maj', '/', 'E', '.', '1.0', 'F', 'maj', '.', '1.0', 'F', 'maj', '/', 'A', '|', '.', '1.0', 'C', 'maj', '.', '1.0', 'C', 'maj', '/', 'E', '.', '1.0', 'F', 'maj', '.', '1.0', 'F', 'maj', '/', 'A', '|', '.', '1.0', 'C', 'maj', '.', '1.0', 'C', 'maj', '/', 'E', '.', '1.0', 'F', 'maj', '.', '1.0', 'F', 'maj', '/', 'G', '|', '.', '1.0', 'G#', 'maj', '.', '1.0', 'Bb', 'maj', 'Form_C', '|', '.', '2.0', 'C', 'maj', '.', '2.0', 'Bb', 'maj', '/', 'D', '|', '.', '1.0', 'Eb', 'm', '.', '1.0', 'Bb', 'maj', '/', 'D', '.', '2.0', 'C', 'maj', '|', '.', '2.0', 'C', 'maj', '.', '2.0', 'Bb', 'maj', '/', 'D', '|', '.', '1.0', 'Eb', 'm', '.', '1.0', 'Bb', 'maj', '/', 'D', '|', '.', '2.0', 'C', 'maj', 'Form_intro', '|', '.', '1.0', 'C', 'maj', '.', '1.0', 'C', 'maj', '/', 'E', '.', '1.0', 'F', 'maj', '.', '1.0', 'F', 'maj', '/', 'A', '|', '.', '1.0', 'C', 'maj', '.', '1.0', 'C', 'maj', '/', 'E', '.', '1.0', 'F', 'maj', '.', '1.0', 'F', 'maj', '/', 'A', '|', '.', '1.0', 'C', 'maj', '.', '1.0', 'C', 'maj', '/', 'E', '.', '1.0', 'F', 'maj', '.', '1.0', 'F', 'maj', '/', 'G', '|', '.', '1.0', 'G#', 'maj', '.', '1.0', 'Bb', 'maj', '.', '2.0', 'C', 'maj', 'Form_A', '|', '.', '1.0', 'C', 'maj', '.', '1.0', 'C', 'maj', '/', 'E', '.', '1.0', 'F', 'maj', '.', '1.0', 'F', 'maj', '/', 'A', '|', '.', '1.0', 'C', 'maj', '.', '1.0', 'C', 'maj', '/', 'E', '.', '1.0', 'F', 'maj', '.', '1.0', 'F', 'maj', '/', 'A', '|', '.', '1.0', 'C', 'maj', '.', '1.0', 'C', 'maj', '/', 'E', '.', '1.0', 'F', 'maj', '.', '1.0', 'F', 'maj', '/', 'G', '|', '.', '1.0', 'G#', 'maj', '.', '1.0', 'Bb', 'maj', '.', '2.0', 'C', 'maj', '|', '.', '1.0', 'C', 'maj', '.', '1.0', 'C', 'maj', '/', 'E', '.', '1.0', 'F', 'maj', '.', '1.0', 'F', 'maj', '/', 'A', '|', '.', '1.0', 'C', 'maj', '.', '1.0', 'C', 'maj', '/', 'E', '.', '1.0', 'F', 'maj', '.', '1.0', 'F', 'maj', '/', 'A', '|', '.', '1.0', 'C', 'maj', '.', '1.0', 'C', 'maj', '/', 'E', '.', '1.0', 'F', 'maj', '.', '1.0', 'F', 'maj', '/', 'G', '|', '.', '1.0', 'G#', 'maj', '.', '1.0', 'Bb', 'maj', '.', '2.0', 'C', 'maj', 'Form_Segno', '|', '.', '1.0', 'F', 'm', '.', '1.0', 'F', 'm', '/', 'Eb', '.', '1.0', 'F', 'm', '/', 'D', '.', '1.0', 'F', 'm', '/', 'C', '|', '.', '1.0', 'Bb', 'dom7', '.', '1.0', 'Bb', 'dom7', '/', 'G#', '.', '1.0', 'Bb', 'dom7', '/', 'G', '.', '1.0', 'Bb', 'dom7', '/', 'F', '|', '.', '1.0', 'Eb', 'maj', '.', '1.0', 'Eb', 'maj', '/', 'D', '.', '1.0', 'Eb', 'maj', '/', 'C', '.', '1.0', 'Eb', 'maj', '/', 'Bb', '|', '.', '1.0', 'C', 'm7', '.', '1.0', 'C', 'm7', '/', 'D', '.', '1.0', 'C', 'm7', '/', 'Eb', '.', '1.0', 'C', 'm7', '/', 'G', '|', '.', '1.0', 'F', 'm7', '.', '1.0', 'F', 'm7', '/', 'Eb', '.', '1.0', 'F', 'm7', '/', 'D', '.', '1.0', 'F', 'm7', '/', 'C', '|', '.', '1.0', 'Bb', 'dom7', '.', '1.0', 'Bb', 'dom7', '/', 'G#', '.']\n"
     ]
    }
   ],
   "source": [
    "id = 24768\n",
    "print(dataset[id][:2048])"
   ]
  },
  {
   "cell_type": "code",
   "execution_count": 11,
   "metadata": {},
   "outputs": [
    {
     "name": "stdout",
     "output_type": "stream",
     "text": [
      "48060\n",
      "48060\n"
     ]
    }
   ],
   "source": [
    "#Add Start and End token\n",
    "#extract only the midi array from midi_voicing_dataset\n",
    "midi_dataset = [[song[i][0] for i in range(len(song))] for song in midi_voicing_dataset]\n",
    "\n",
    "for i, song in enumerate(dataset):\n",
    "    start_token = '<start>'\n",
    "    end_token = '<end>'\n",
    "    song.insert(4, start_token)\n",
    "    song.append(end_token)\n",
    "    \n",
    "print(len(dataset))\n",
    "\n",
    "for i, song in enumerate(midi_dataset):\n",
    "    start_token = [0, 0, 0, 0, 0, 0, 0, 0]\n",
    "    end_token = [0, 0, 0, 0, 0, 0, 0, 0]\n",
    "    song.insert(4, start_token)\n",
    "    song.append(end_token)\n",
    "    \n",
    "print(len(midi_dataset))"
   ]
  },
  {
   "cell_type": "code",
   "execution_count": 12,
   "metadata": {},
   "outputs": [
    {
     "name": "stdout",
     "output_type": "stream",
     "text": [
      "48060 48060\n",
      "48060 48060\n",
      "['Form_B', '|:', '.', '4.0', 'F', 'maj', '|', '<end>'] [[0, 0, 0, 0, 0, 0, 0, 0], [0, 0, 0, 0, 0, 0, 0, 0], [0, 0, 0, 0, 0, 0, 0, 0], [0, 0, 0, 0, 0, 0, 0, 0], [53, 0, 0, 0, 0, 0, 0, 0], [53, 65, 69, 72, 0, 0, 0, 0], [0, 0, 0, 0, 0, 0, 0, 0], [0, 0, 0, 0, 0, 0, 0, 0]]\n"
     ]
    }
   ],
   "source": [
    "#Cut the songs that are longer than 1024\n",
    "length = 1024\n",
    "dataset = [song[:length] for song in dataset]\n",
    "midi_dataset = [song[:length] for song in midi_dataset]\n",
    "print(len(dataset), len(midi_dataset))\n",
    "\n",
    "for i, song in enumerate(dataset):\n",
    "    if len(song) == length:\n",
    "        element = song[-1]\n",
    "       \n",
    "        if element == '|' or element == '.' and element != '<end>':\n",
    "            song[-1] = '<end>'\n",
    "            midi_dataset[i][-1] = [0, 0, 0, 0, 0, 0, 0, 0]\n",
    "        else:\n",
    "        #cut the last element until it is a bar or dot and change it to <end>\n",
    "            while element != '|' and element != '.':\n",
    "                song.pop()\n",
    "                midi_dataset[i].pop()\n",
    "                element = song[-1]\n",
    "            song[-1] = '<end>' \n",
    "            midi_dataset[i][-1] = [0, 0, 0, 0, 0, 0, 0, 0]   \n",
    "                \n",
    "id = 5676\n",
    "print(len(dataset), len(midi_dataset))\n",
    "\n",
    "print(dataset[id][-8:], midi_dataset[id][-8:]) "
   ]
  },
  {
   "cell_type": "code",
   "execution_count": 13,
   "metadata": {},
   "outputs": [
    {
     "name": "stdout",
     "output_type": "stream",
     "text": [
      "1022\n"
     ]
    },
    {
     "data": {
      "text/plain": [
       "['.', '4.0', 'F', 'maj', '|', '<end>']"
      ]
     },
     "execution_count": 13,
     "metadata": {},
     "output_type": "execute_result"
    }
   ],
   "source": [
    "id = 5676\n",
    "print(len(dataset[id]))\n",
    "dataset[id][-6:]"
   ]
  },
  {
   "cell_type": "code",
   "execution_count": 14,
   "metadata": {},
   "outputs": [
    {
     "name": "stdout",
     "output_type": "stream",
     "text": [
      "Max: {'v': 1024, 'id': 660} Min: {'v': 69, 'id': 23796}\n",
      "0 []\n"
     ]
    }
   ],
   "source": [
    "#Check the length of the song\n",
    "\n",
    "max = {'v': 0, 'id': 0}\n",
    "min = {'v': 1000, 'id': 0}\n",
    "\n",
    "for i in range(len(midi_dataset)):\n",
    "    if len(dataset[i]) > max['v']:\n",
    "        max['v'] = len(dataset[i])\n",
    "        max['id'] = i\n",
    "    if len(dataset[i]) < min['v']:\n",
    "        min['v'] = len(dataset[i])\n",
    "        min['id'] = i\n",
    "\n",
    "print('Max:', max, 'Min:', min)\n",
    "\n",
    "#calculate how many songs are longer than 2048\n",
    "counter = 0\n",
    "lengths = []\n",
    "for i, song in enumerate(dataset):\n",
    "    if len(song) > 2048:\n",
    "        counter += 1\n",
    "        lengths.append(len(song))\n",
    "print(counter, lengths)"
   ]
  },
  {
   "cell_type": "code",
   "execution_count": 15,
   "metadata": {},
   "outputs": [
    {
     "data": {
      "text/plain": [
       "<seaborn.axisgrid.FacetGrid at 0x7f9d5fb372e0>"
      ]
     },
     "execution_count": 15,
     "metadata": {},
     "output_type": "execute_result"
    },
    {
     "data": {
      "image/png": "[encoded data removed]",
      "text/plain": [
       "<Figure size 500x500 with 1 Axes>"
      ]
     },
     "metadata": {
      "image/png": {
       "height": 489,
       "width": 490
      }
     },
     "output_type": "display_data"
    }
   ],
   "source": [
    "import seaborn as sns\n",
    "\n",
    "#visualize the length of the songs\n",
    "\n",
    "length = []\n",
    "for song in dataset:\n",
    "    length.append(len(song))\n",
    "    \n",
    "sns.displot(length, kde=True, bins=100)"
   ]
  },
  {
   "cell_type": "code",
   "execution_count": null,
   "metadata": {},
   "outputs": [
    {
     "name": "stdout",
     "output_type": "stream",
     "text": [
      "['<style>', 'Jazz', 'Tonality', 'C major', '<start>', '|:', '.', '4.0', 'C', 'maj', '|', '.', '4.0', 'C', 'maj', '|', '.', '4.0', 'C#', 'o', '|', '.', '4.0', 'C#', 'o', '|', '.', '4.0', 'D', 'm7', '|', '.', '4.0', 'G', 'dom7', '|', '.', '4.0', 'C', 'maj', '|', 'Repeat_1', '.', '4.0', 'C', 'maj', ':|', '|', 'Repeat_2', '.', '2.0', 'F#', 'm7', '.', '2.0', 'B', 'dom7', '|', '.', '4.0', 'E', 'maj', '|', '.', '2.0', 'F#', 'm7', '.', '2.0', 'B', 'dom7', '|', '.', '4.0', 'E', 'maj', '|', '.', '2.0', 'F#', 'm7', '.', '2.0', 'B', 'dom7', '|', '.', '4.0', 'E', 'm7', '|', '.', '4.0', 'A', 'dom7', '|', '.', '4.0', 'D', 'dom7', '|', '.', '4.0', 'G', 'dom7', '|', '.', '4.0', 'C', 'maj', '|', '.', '4.0', 'C', 'maj', '|', '.', '4.0', 'Eb', 'o', '|', '.', '4.0', 'Eb', 'o', '|', '.', '4.0', 'D', 'm7', '|', '.', '4.0', 'G', 'dom7', '|', 'Repeat_0', '.', '4.0', 'C', 'maj', '|', '.', '4.0', 'C', 'maj', ':|', '|', 'Repeat_0', '.', '4.0', 'E', 'm7', '|', '.', '4.0', 'A', 'dom7', '|', '.', '4.0', 'D', 'm7', '|', '.', '4.0', 'G', 'dom7', '|', '.', '4.0', 'C', 'maj', '|', '.', '4.0', 'C', 'maj', '|:', '.', '4.0', 'C', 'maj', '|', '.', '4.0', 'C', 'maj', '|', '.', '4.0', 'C#', 'o', '|', '.', '4.0', 'C#', 'o', '|', '.', '4.0', 'D', 'm7', '|', '.', '4.0', 'G', 'dom7', '|', '.', '4.0', 'C', 'maj', '|', 'Repeat_1', '.', '4.0', 'C', 'maj', ':|', '|', 'Repeat_2', '.', '2.0', 'F#', 'm7', '.', '2.0', 'B', 'dom7', '|', '.', '4.0', 'E', 'maj', '|', '.', '2.0', 'F#', 'm7', '.', '2.0', 'B', 'dom7', '|', '.', '4.0', 'E', 'maj', '|', '.', '2.0', 'F#', 'm7', '.', '2.0', 'B', 'dom7', '|', '.', '4.0', 'E', 'm7', '|', '.', '4.0', 'A', 'dom7', '|', '.', '4.0', 'D', 'dom7', '|', '.', '4.0', 'G', 'dom7', '|', '.', '4.0', 'C', 'maj', '|', '.', '4.0', 'C', 'maj', '|', '.', '4.0', 'Eb', 'o', '|', '.', '4.0', 'Eb', 'o', '|', '.', '4.0', 'D', 'm7', '|', '.', '4.0', 'G', 'dom7', '|', 'Repeat_0', '.', '4.0', 'C', 'maj', '|', '.', '4.0', 'C', 'maj', ':|', '|', 'Repeat_0', '.', '4.0', 'E', 'm7', '|', '.', '4.0', 'A', 'dom7', '|', '.', '4.0', 'D', 'm7', '|', '.', '4.0', 'G', 'dom7', '|', '.', '4.0', 'C', 'maj', '|', '.', '4.0', 'C', 'maj', '|:', '.', '4.0', 'C', 'maj', '|', '.', '4.0', 'C', 'maj', '|', '.', '4.0', 'C#', 'o', '|', '.', '4.0', 'C#', 'o', '|', '.', '4.0', 'D', 'm7', '|', '.', '4.0', 'G', 'dom7', '|', '.', '4.0', 'C', 'maj', '|', 'Repeat_1', '.', '4.0', 'C', 'maj', ':|', '|', 'Repeat_2', '.', '2.0', 'F#', 'm7', '.', '2.0', 'B', 'dom7', '|', '.', '4.0', 'E', 'maj', '|', '.', '2.0', 'F#', 'm7', '.', '2.0', 'B', 'dom7', '|', '.', '4.0', 'E', 'maj', '|', '.', '2.0', 'F#', 'm7', '.', '2.0', 'B', 'dom7', '|', '.', '4.0', 'E', 'm7', '|', '.', '4.0', 'A', 'dom7', '|', '.', '4.0', 'D', 'dom7', '|', '.', '4.0', 'G', 'dom7', '|', '.', '4.0', 'C', 'maj', '|', '.', '4.0', 'C', 'maj', '|', '.', '4.0', 'Eb', 'o', '|', '.', '4.0', 'Eb', 'o', '|', '.', '4.0', 'D', 'm7', '|', '.', '4.0', 'G', 'dom7', '|', 'Repeat_0', '.', '4.0', 'C', 'maj', '|', '.', '4.0', 'C', 'maj', ':|', '|', 'Repeat_0', '.', '4.0', 'E', 'm7', '|', '.', '4.0', 'A', 'dom7', '|', '.', '4.0', 'D', 'm7', '|', '.', '4.0', 'G', 'dom7', '|', '.', '4.0', 'C', 'maj', '|', '.', '4.0', 'C', 'maj', '<end>']\n"
     ]
    }
   ],
   "source": [
    "print(dataset[0])"
   ]
  },
  {
   "cell_type": "code",
   "execution_count": 17,
   "metadata": {},
   "outputs": [
    {
     "name": "stdout",
     "output_type": "stream",
     "text": [
      "48060 48060\n"
     ]
    }
   ],
   "source": [
    "#Add the <pad> token to the dataset and to the midi_voicing_dataset, max length is 1024\n",
    "length = 1024\n",
    "\n",
    "for i, song in enumerate(dataset):\n",
    "    if len(song) < length:\n",
    "        for j in range(length - len(song)):\n",
    "            song.append('<pad>')\n",
    "\n",
    "for i, song in enumerate(midi_dataset):\n",
    "    if len(song) < length:\n",
    "        for j in range(length - len(song)):\n",
    "            song.append([0, 0, 0, 0, 0, 0, 0, 0])\n",
    "\n",
    "print(len(dataset), len(midi_dataset))\n",
    "    "
   ]
  },
  {
   "cell_type": "code",
   "execution_count": 18,
   "metadata": {},
   "outputs": [
    {
     "name": "stdout",
     "output_type": "stream",
     "text": [
      "(48060, 1024) (48060, 1024, 8) (48060,)\n"
     ]
    }
   ],
   "source": [
    "import numpy as np\n",
    "dataset = np.array(dataset, dtype=object)\n",
    "midi_dataset = np.array(midi_dataset, dtype=object)\n",
    "meta_augmented = np.array(meta_augmented, dtype=object)\n",
    "print(dataset.shape, midi_dataset.shape, meta_augmented.shape)\n",
    "\n",
    "#save the dataset\n",
    "np.save('../data/formatted/dataset.npy', dataset)\n",
    "np.save('../data/formatted/midi_dataset.npy', midi_dataset)\n",
    "np.save('../data/formatted/meta_augmented.npy', meta_augmented)\n"
   ]
  }
 ],
 "metadata": {
  "kernelspec": {
   "display_name": "Python 3",
   "language": "python",
   "name": "python3"
  },
  "language_info": {
   "codemirror_mode": {
    "name": "ipython",
    "version": 3
   },
   "file_extension": ".py",
   "mimetype": "text/x-python",
   "name": "python",
   "nbconvert_exporter": "python",
   "pygments_lexer": "ipython3",
   "version": "3.10.12"
  }
 },
 "nbformat": 4,
 "nbformat_minor": 2
}
