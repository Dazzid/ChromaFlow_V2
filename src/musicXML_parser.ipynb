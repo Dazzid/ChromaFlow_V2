{
 "cells": [
  {
   "cell_type": "code",
   "execution_count": 1,
   "metadata": {},
   "outputs": [],
   "source": [
    "import numpy as np\n",
    "import xmlTranslator as xmlT\n",
    "from tqdm import tqdm\n",
    "%reload_ext autoreload\n",
    "%autoreload 2\n",
    "import importlib\n",
    "from utils import get_project_root\n",
    "from ipywidgets import FloatProgress"
   ]
  },
  {
   "cell_type": "markdown",
   "metadata": {},
   "source": [
    "TODO: \n",
    "- Repeat the sequences 3 times\n",
    "- Extend all chords into 18 enharmonic\n",
    "- Complete the voicing as a MIDI array \n",
    "- Split into train and test\n",
    "- Pass the MIDI into Embeddings"
   ]
  },
  {
   "cell_type": "code",
   "execution_count": 43,
   "metadata": {},
   "outputs": [
    {
     "data": {
      "application/vnd.jupyter.widget-view+json": {
       "model_id": "a7f9e9c31cdf4c2bb655a48b026c2a6f",
       "version_major": 2,
       "version_minor": 0
      },
      "text/plain": [
       "  0%|          | 0/4007 [00:00<?, ?it/s]"
      ]
     },
     "metadata": {},
     "output_type": "display_data"
    },
    {
     "name": "stdout",
     "output_type": "stream",
     "text": [
      "(4006,) (4006,) (4006,)\n"
     ]
    }
   ],
   "source": [
    "directory = '/data/iRealXML'\n",
    "root = get_project_root()\n",
    "myPath = str(root) + str(directory)\n",
    "\n",
    "theChordDataset, theDurationsDataset, all_meta = xmlT.parse_info_from_XML(myPath)"
   ]
  },
  {
   "cell_type": "code",
   "execution_count": 62,
   "metadata": {},
   "outputs": [
    {
     "name": "stdout",
     "output_type": "stream",
     "text": [
      "4006 4006\n"
     ]
    }
   ],
   "source": [
    "#Correct the location of 'e||'\n",
    "dataset = []\n",
    "dataset_durations = []\n",
    "for i, song in enumerate(theChordDataset):\n",
    "    d = theDurationsDataset[i]\n",
    "    song, durations = xmlT.correct_coda_end(song, d)\n",
    "    dataset.append(song)\n",
    "    dataset_durations.append(durations)\n",
    "print(len(dataset), len(dataset_durations))"
   ]
  },
  {
   "cell_type": "code",
   "execution_count": 101,
   "metadata": {},
   "outputs": [
    {
     "name": "stdout",
     "output_type": "stream",
     "text": [
      "{'composer': 'Israel Houghton', 'style': 'Worship', 'song_name': 'Alpha And Omega', 'tonality': 'Db major', 'midi_key': 13, 'time_signature': '4/4', 'decade': 'Null'}\n",
      "134\n",
      "['<style>', 'Worship', 'Form_A', '|:', '.', 'Db', 'major', '|', '.', 'Ab', 'major', '/', 'C', '.', 'Db', 'major', '.', 'Eb', 'minor-seventh', '|', '.', 'Db', 'major', '.', 'Db', 'major', '/', 'F', '|', '.', 'Gb', 'major', '.', 'Eb', 'minor', '/', 'Gb', '.', 'Eb', 'minor', '|', '.', 'Db', 'major', '/', 'Ab', '.', 'Db', 'major', '/', 'Ab', '.', 'Bb', 'minor', '/', 'Ab', '|', '.', 'Ab', 'major', '.', 'Bb', 'minor', '.', 'Ab', 'major', '/', 'C', '|', '.', 'Db', 'major', '.', 'C', 'minor-seventh', 'alter b5', '.', 'F', 'dominant', 'Form_B', '|', '.', 'Bb', 'minor', '|', '.', 'Ab', 'major', '.', 'Gb', 'major', '|', '.', 'Db', 'major', '/', 'F', '|', '.', 'Gb', 'major', '.', 'Eb', 'minor', '/', 'Gb', '.', 'Eb', 'minor', '|', '.', 'Db', 'major', '/', 'Ab', '|', '.', 'Ab', 'major', '.', 'Bb', 'minor', '.', 'Ab', 'major', '/', 'C', '.', 'Ab', 'major', '|', '.', 'Db', 'major']\n"
     ]
    }
   ],
   "source": [
    "id = 204\n",
    "print(all_meta[id])\n",
    "print(len(dataset[id]))\n",
    "print(dataset[id].tolist())"
   ]
  },
  {
   "cell_type": "code",
   "execution_count": 112,
   "metadata": {},
   "outputs": [
    {
     "name": "stderr",
     "output_type": "stream",
     "text": [
      "  0%|          | 0/4006 [00:00<?, ?it/s]"
     ]
    },
    {
     "name": "stderr",
     "output_type": "stream",
     "text": [
      "100%|██████████| 4006/4006 [00:01<00:00, 2758.56it/s]\n"
     ]
    }
   ],
   "source": [
    "#Expand song structure\n",
    "importlib.reload(xmlT)\n",
    "\n",
    "id = 0\n",
    "expand_form_dataset = []\n",
    "expand_duration_dataset = []\n",
    "status = True\n",
    "for i in tqdm(range(len(dataset))):\n",
    "    song_structure, duration_structure, status = xmlT.expand_song_structure(dataset[i], dataset_durations[i], i, False)\n",
    "    if status == False:\n",
    "        print('Song:', all_meta[i])\n",
    "        id = i\n",
    "        break\n",
    "    song_structure = np.array(song_structure)\n",
    "    duration_structure = np.array(duration_structure)\n",
    "    expand_form_dataset.append(song_structure)\n",
    "    expand_duration_dataset.append(duration_structure)\n",
    "\n",
    "#check if all elements are the same size\n",
    "for i in range(len(expand_form_dataset)):\n",
    "    if len(expand_form_dataset) != len(expand_duration_dataset):\n",
    "        print('Error in:', i)\n",
    "        break"
   ]
  },
  {
   "cell_type": "code",
   "execution_count": 111,
   "metadata": {},
   "outputs": [
    {
     "name": "stdout",
     "output_type": "stream",
     "text": [
      "Song: 0 \n",
      "Length of sequence: 232\n",
      "First coda passed at: 134\n",
      "Moved to Head from 173 0\n",
      "Second time goes to Coda at: 173\n",
      "Process completed successfully.. New form length: 366\n",
      "-----------------------------\n",
      "\n",
      "['<style>', 'Ballad', 'Form_A', '|', '.', 'C', 'major', '.', 'E', 'minor', '/', 'B', '|', '.', 'B', 'suspended-fourth', '.', 'B', 'major', '.', 'B', 'major', '/', 'A', '|', '.', 'G', 'major', '.', 'C', 'major-seventh', '|', '.', 'C#', 'minor-seventh', 'alter b5', '.', 'G', 'major-seventh', '/', 'D', '|', '.', 'D', 'major', '/', 'F#', '.', 'C', 'major', '/', 'E', '|', '.', 'C', 'minor', '/', 'Eb', '.', 'G', 'major', '/', 'D', '|', '.', 'C#', 'minor-seventh', 'alter b5', '.', 'F#', 'dominant', '/', 'C#', '|', '.', 'B', 'major', '.', 'A', 'minor-seventh', '.', 'D', 'dominant', '/', 'A', 'Form_B', '|', '.', 'G', 'major', 'add 9', '.', 'D', 'major', '/', 'F#', '|', '.', 'C', 'major-seventh', '/', 'E', '.', 'C#', 'minor-seventh', 'alter b5', '|', '.', 'G', 'major', '/', 'D', '.', 'B', 'dominant', '/', 'D#', '|', '.', 'G', 'dominant', '/', 'D', '.', 'A', 'dominant', '/', 'C#', 'Form_Coda', '|', '.', 'C', 'major-seventh', '.', 'A', 'minor-seventh', 'e||', '.', 'B', 'minor-seventh', '.', 'E', 'minor-ninth', '|', '.', 'C', 'major', '/', 'D', '|', '.', 'C', 'major', '/', 'D', '|', '.', 'C#', 'minor-seventh', 'alter b5', '.', 'G', 'major', '/', 'D', '|', '.', 'B', 'dominant', '/', 'D#', '.', 'E', 'minor', 'Form_Coda', 'Form_A', '|', '.', 'C', 'major', '.', 'E', 'minor', '/', 'B', '|', '.', 'B', 'suspended-fourth', '.', 'B', 'major', '.', 'B', 'major', '/', 'A', '|', '.', 'G', 'major', '.', 'C', 'major-seventh', '|', '.', 'C#', 'minor-seventh', 'alter b5', '.', 'G', 'major-seventh', '/', 'D', '|', '.', 'D', 'major', '/', 'F#', '.', 'C', 'major', '/', 'E', '|', '.', 'C', 'minor', '/', 'Eb', '.', 'G', 'major', '/', 'D', '|', '.', 'C#', 'minor-seventh', 'alter b5', '.', 'F#', 'dominant', '/', 'C#', '|', '.', 'B', 'major', '.', 'A', 'minor-seventh', '.', 'D', 'dominant', '/', 'A', 'Form_B', '|', '.', 'G', 'major', 'add 9', '.', 'D', 'major', '/', 'F#', '|', '.', 'C', 'major-seventh', '/', 'E', '.', 'C#', 'minor-seventh', 'alter b5', '|', '.', 'G', 'major', '/', 'D', '.', 'B', 'dominant', '/', 'D#', '|', '.', 'G', 'dominant', '/', 'D', '.', 'A', 'dominant', '/', 'C#', 'Form_Coda', '|', '.', 'C', 'major-seventh', '.', 'A', 'minor-seventh', 'b||', '.', 'B', 'minor-seventh', '.', 'E', 'minor-ninth', '|', '.', 'C#', 'minor-seventh', 'alter b5', '.', 'D', 'major', '/', 'C', '|', '.', 'B', 'minor-seventh', '.', 'E', 'minor-ninth', '|', '.', 'C', 'minor', 'add #7', '|', '.', 'C', 'minor', 'add #7', '|', '.', 'A', 'minor-ninth', '.', 'Bb', 'major-seventh', '|', '.', 'C', 'major', '/', 'B', '.', 'F#', 'major', '/', 'D', '|', '.', 'G', 'major-seventh', 'add #11']\n"
     ]
    }
   ],
   "source": [
    "sub_sections = dataset[4005:4006]\n",
    "sub_durations = dataset_durations[4005:4006]\n",
    "for i in range(len(sub_sections)):\n",
    "    a,b,s = xmlT.expand_song_structure(sub_sections[i], sub_durations[i], i, True)\n",
    "print(a)"
   ]
  },
  {
   "cell_type": "code",
   "execution_count": 149,
   "metadata": {},
   "outputs": [
    {
     "name": "stdout",
     "output_type": "stream",
     "text": [
      "{'composer': 'The Beatles (Lennon, McCartney)', 'style': 'Rock Pop', 'song_name': 'Eleanor Rigby', 'tonality': 'E minor', 'midi_key': 16, 'time_signature': '4/4', 'decade': 'Null'}\n",
      "['<style>' 'Rock Pop' 'Form_intro' '|:' '.' 'C' 'major' '|' '.' 'C'\n",
      " 'major' '|' '.' 'E' 'minor' '|' '.' 'E' 'minor' ':|' 'Form_Segno' '|:'\n",
      " '.' 'E' 'minor' '|' '.' 'E' 'minor' '|' '.' 'E' 'minor' '|' '.' 'C'\n",
      " 'major' '|' '.' 'C' 'major' '.' 'E' 'minor' '|' '.' 'E' 'minor' '|' '.'\n",
      " 'E' 'minor' '|' '.' 'E' 'minor' '|' '.' 'C' 'major' '|' '.' 'C' 'major'\n",
      " '.' 'E' 'minor' 'Form_B' '|' '.' 'E' 'minor-seventh' '|' '.' 'E'\n",
      " 'minor-sixth' '|' '.' 'C' 'major' '/' 'E' '|' '.' 'E' 'minor' '|' '.' 'E'\n",
      " 'minor-seventh' '|' '.' 'E' 'minor-sixth' '|' '.' 'C' 'major' '/' 'E'\n",
      " 'Form_Coda' 'e||' '.' 'E' 'minor' ':|' 'Form_C' '|:' '.' 'C' 'major' '|'\n",
      " '.' 'C' 'major' '|' '.' 'E' 'minor' '|' '.' 'E' 'minor' ':|' 'Form_Coda'\n",
      " 'b||' '.' 'E' 'minor']\n",
      "161\n",
      "['<style>', 'Rock Pop', 'Form_intro', '|', '.', 'C', 'major', '|', '.', 'C', 'major', '|', '.', 'E', 'minor', '|', '.', 'E', 'minor', '|', '.', 'C', 'major', '|', '.', 'C', 'major', '|', '.', 'E', 'minor', '|', '.', 'E', 'minor', '|', '.', 'C', 'major', '|', '.', 'C', 'major', '|', '.', 'E', 'minor', '|', '.', 'E', 'minor', '|', 'Form_Segno', '|', '.', 'E', 'minor', '|', '.', 'E', 'minor', '|', '.', 'E', 'minor', '|', '.', 'C', 'major', '|', '.', 'C', 'major', '.', 'E', 'minor', '|', '.', 'E', 'minor', '|', '.', 'E', 'minor', '|', '.', 'E', 'minor', '|', '.', 'C', 'major', '|', '.', 'C', 'major', '.', 'E', 'minor', 'Form_B', '|', '.', 'E', 'minor-seventh', '|', '.', 'E', 'minor-sixth', '|', '.', 'C', 'major', '/', 'E', '|', '.', 'E', 'minor', '|', '.', 'E', 'minor-seventh', '|', '.', 'E', 'minor-sixth', '|', '.', 'C', 'major', '/', 'E', 'Form_Coda', '|', '.', 'E', 'minor', 'e||', 'Form_C', '|', '.', 'C', 'major', '|', '.', 'C', 'major', '|', '.', 'E', 'minor', '|', '.', 'E', 'minor', '|', 'Form_Coda', 'b||', '.', 'E', 'minor']\n"
     ]
    }
   ],
   "source": [
    "id = 1202\n",
    "print(all_meta[id])\n",
    "print(theChordDataset[id])\n",
    "print(len(expand_form_dataset[id]))\n",
    "print(expand_form_dataset[id].tolist())"
   ]
  },
  {
   "cell_type": "code",
   "execution_count": 114,
   "metadata": {},
   "outputs": [],
   "source": [
    "#Unify chord and duration into a tuple of good friends\n",
    "dataset = []\n",
    "for chords_values, durations_values in zip(expand_form_dataset, expand_duration_dataset):\n",
    "    coupled = list(zip(chords_values, durations_values))\n",
    "    dataset.append(coupled)\n",
    "    "
   ]
  },
  {
   "cell_type": "code",
   "execution_count": 115,
   "metadata": {},
   "outputs": [
    {
     "data": {
      "application/vnd.jupyter.widget-view+json": {
       "model_id": "dfcae8da89824477a671044fb02dfbf2",
       "version_major": 2,
       "version_minor": 0
      },
      "text/plain": [
       "  0%|          | 0/4006 [00:00<?, ?it/s]"
      ]
     },
     "metadata": {},
     "output_type": "display_data"
    }
   ],
   "source": [
    "importlib.reload(xmlT)\n",
    "\n",
    "#correct the wrong chords\n",
    "corrected_sequence = xmlT.replaceTheseChords(dataset, False)"
   ]
  },
  {
   "cell_type": "code",
   "execution_count": 117,
   "metadata": {},
   "outputs": [
    {
     "name": "stdout",
     "output_type": "stream",
     "text": [
      "4006\n",
      "[('<style>', 0.0), ('Medium Swing', 0.0), ('|', 0.0), ('.', 4.0), ('Eb', 4.0), ('maj', 4.0), ('|', 4.0), ('.', 4.0), ('Eb', 4.0), ('maj', 4.0), ('|', 4.0), ('.', 4.0), ('E', 4.0), ('o', 4.0), ('|', 4.0), ('.', 4.0), ('E', 4.0), ('o', 4.0), ('|', 4.0), ('.', 4.0), ('F', 4.0), ('m7', 4.0), ('|', 4.0), ('.', 4.0), ('Bb', 4.0), ('dom7', 4.0), ('|', 4.0), ('.', 4.0), ('Eb', 4.0), ('maj', 4.0), ('|', 4.0), ('.', 4.0), ('Eb', 4.0), ('maj', 4.0), ('maj', 4.0), ('|', 0.0), ('.', 4.0), ('Eb', 4.0), ('maj', 4.0), ('|', 4.0), ('.', 4.0), ('Eb', 4.0), ('maj', 4.0), ('|', 4.0), ('.', 4.0), ('E', 4.0), ('o', 4.0), ('|', 4.0), ('.', 4.0), ('E', 4.0), ('o', 4.0), ('|', 4.0), ('.', 4.0), ('F', 4.0), ('m7', 4.0), ('|', 4.0), ('.', 4.0), ('Bb', 4.0), ('dom7', 4.0), ('|', 4.0), ('.', 4.0), ('Eb', 4.0), ('maj', 4.0), ('|', 4.0), ('.', 2.0), ('A', 2.0), ('m7', 2.0), ('.', 2.0), ('D', 2.0), ('dom7', 2.0), ('|', 2.0), ('.', 4.0), ('G', 4.0), ('maj', 4.0), ('|', 4.0), ('.', 2.0), ('A', 2.0), ('m7', 2.0), ('.', 2.0), ('D', 2.0), ('dom7', 2.0), ('|', 2.0), ('.', 4.0), ('G', 4.0), ('maj', 4.0), ('|', 4.0), ('.', 2.0), ('A', 2.0), ('m7', 2.0), ('.', 2.0), ('D', 2.0), ('dom7', 2.0), ('|', 2.0), ('.', 4.0), ('G', 4.0), ('m7', 4.0), ('|', 4.0), ('.', 4.0), ('C', 4.0), ('dom7', 4.0), ('|', 4.0), ('.', 4.0), ('F', 4.0), ('dom7', 4.0), ('|', 4.0), ('.', 4.0), ('Bb', 4.0), ('dom7', 4.0), ('|', 4.0), ('.', 4.0), ('Eb', 4.0), ('maj', 4.0), ('|', 4.0), ('.', 4.0), ('Eb', 4.0), ('maj', 4.0), ('|', 4.0), ('.', 4.0), ('Gb', 4.0), ('o', 4.0), ('|', 4.0), ('.', 4.0), ('Gb', 4.0), ('o', 4.0), ('|', 4.0), ('.', 4.0), ('F', 4.0), ('m7', 4.0), ('|', 4.0), ('.', 4.0), ('Bb', 4.0), ('dom7', 4.0), ('|', 4.0), ('.', 4.0), ('Eb', 4.0), ('maj', 4.0), ('|', 4.0), ('.', 4.0), ('Eb', 4.0), ('maj', 4.0), ('|', 4.0), ('|', 4.0), ('.', 4.0), ('G', 4.0), ('m7', 4.0), ('|', 4.0), ('.', 4.0), ('C', 4.0), ('dom7', 4.0), ('|', 4.0), ('.', 4.0), ('F', 4.0), ('m7', 4.0), ('|', 4.0), ('.', 4.0), ('Bb', 4.0), ('dom7', 4.0), ('|', 4.0), ('.', 4.0), ('Eb', 4.0), ('maj', 4.0), ('|', 4.0), ('.', 4.0), ('Eb', 4.0), ('maj', 4.0)]\n"
     ]
    }
   ],
   "source": [
    "#clean the elements that are ''\n",
    "dataset = [[tup for tup in inner_list if tup[0] != ''] for inner_list in corrected_sequence]\n",
    "\n",
    "print(len(dataset))\n",
    "print(dataset[0])\n",
    "\n",
    "for song in dataset:\n",
    "    for i, e in enumerate(song):\n",
    "        if e[0] == '':\n",
    "            print(song)\n",
    "            print(i)\n",
    "            break"
   ]
  },
  {
   "cell_type": "code",
   "execution_count": 118,
   "metadata": {},
   "outputs": [
    {
     "data": {
      "application/vnd.jupyter.widget-view+json": {
       "model_id": "d43063925324429a8ffb14f1a137c4c0",
       "version_major": 2,
       "version_minor": 0
      },
      "text/plain": [
       "  0%|          | 0/4006 [00:00<?, ?it/s]"
      ]
     },
     "metadata": {},
     "output_type": "display_data"
    }
   ],
   "source": [
    "'''\n",
    "This section is important to define a more concise format and tokenization.\n",
    "Fix the format of extensions to avoid repeated elements\n",
    "'''\n",
    "\n",
    "xmlT.fix_extensions(dataset)"
   ]
  },
  {
   "cell_type": "code",
   "execution_count": 119,
   "metadata": {},
   "outputs": [
    {
     "name": "stdout",
     "output_type": "stream",
     "text": [
      "202\n",
      "{'D', 'Latin', 'Funk Rock', 'Slow Swing', 'A', 'Cha Cha', 'G', 'A#', 'add b13', 'Worship', 'o7', 'Slow Rock', 'Deliberately', 'Medium Swing', 'Latin-Swing', 'maj6', 'add #5', 'Fast Swing', 'add #11', 'Repeat_2', 'Power Ballad', 'Calypso', 'Up Waltz (One Feel)', 'Reggae', 'Traditional Gospel', 'Blues Pop', 'e||', 'Medium Funk', 'G#', 'Medium Pop', 'Funk Jazz', 'Electro Pop', 'add 2', 'Gospel Ballad', 'Blues Rock', 'Medium Blues', 'Rock/Hip Hop', 'Afoxe', 'Shuffle Blues', 'Samba-Funk', \"R'n'B\", 'F#', 'Samba Reggae', 'March', 'Afoxé', 'Pop-Shuffle', 'Pop Ballad', 'm', 'Musical', 'Blues Shuffle', 'Salsa', 'Country Ballad', 'Gypsy Bossa', 'Merengue', 'Gypsy Swing', 'add b9', 'D#', 'b||', 'alter #11', 'Form_A', 'Form_B', 'Pop Folk', 'alter b9', 'Beatles', 'o', 'sus7', 'Rock Blues', 'aug', 'Foxtrot', 'o_maj7', 'Hymn', 'Repeat_3', 'm6', 'Db', 'Disco', 'Disco Funk', 'Bolero-Cha', '/', 'Afro-Samba', 'add 9', 'Pop Rock', 'Samba', 'Bossa Nova', 'Fusion', 'F', 'm7', 'Repeat_0', \"Even 8th's\", 'Soul Ballad', 'Bolero', 'Moderate Latin', 'Folk-Rock', 'Ab', \"Rock'n'Roll\", 'Up Tempo Swing', 'Form_Coda', 'major-13th', 'Up Swing', 'Repeat_1', 'Ballad', 'Fast Blues', 'add 11', 'Electric Blues', 'Even 8ths', 'power', 'Rock Pop', 'E', ':|', 'Choro', 'Medium Ballad', '128 Feel', 'Slow Shuffle', 'Rock Slow', 'Slowly', 'Bolero-Son', 'add 13', 'alter #5', 'Rock Waltz', 'Samba Enredo', 'Samba-Rock', 'Mambo', 'Med Up Latin', 'sus4', 'Gypsy Waltz', 'Pop Shuffle', 'Slow Ballad', 'Funk', 'N.C.', 'RnB', 'C', 'Cuban Son', 'Form_intro', 'Soul', '.', 'Afoxé-Samba', 'Frevo', '|', 'Medium Waltz', 'Medium Rock', 'Choro - Samba', 'Folk', 'maj', 'B', 'Pop', 'Chacarera', 'add 7', 'Folk Ballad', 'Moderately', 'Montuno', 'Gary Aprile', '<style>', 'Medium Slow', 'Blues', 'Medium Up Swing', 'Slow Blues', 'Forró', 'maj7', 'dom7', 'Waltz', 'Form_verse', 'Afro', 'Shuffle', 'Cb', 'alter #9', 'Form_C', 'Rock', 'Baião', 'Son', 'Medium Shuffle', 'Even 16ths', 'add #9', 'Rock-Folk', 'Eb', 'Form_Segno', 'Form_D', 'add b6', 'Slow Bossa', 'Medium Country', 'Maxixe', 'Dreamlike', 'C#', 'Jazz', 'Up Samba', 'add #7', \"Even 8's\", 'Gb', 'Pop jazz', 'Marchinha', 'Rock/Reggae', 'Reggae Pop', 'Bright Shuffle Blues', 'Bossa Acoustic', 'Rock Ballad', 'Tango', 'Bb', 'alter b5', 'Samba Funk', 'Country Blues', 'Up Tempo', 'Medium Up', 'UP Swing', 'Folk Rock'}\n"
     ]
    }
   ],
   "source": [
    "#Check vocabulary\n",
    "chords_array = [[item[0] for item in row] for row in dataset]\n",
    "concatenated_array = np.hstack(chords_array) \n",
    "vocab = set(concatenated_array)\n",
    "\n",
    "print(len(vocab))\n",
    "print(np.array(vocab))"
   ]
  },
  {
   "cell_type": "code",
   "execution_count": 120,
   "metadata": {},
   "outputs": [
    {
     "name": "stdout",
     "output_type": "stream",
     "text": [
      "['<style>', 'Funk', 'Form_intro', '|', '.', 'Bb', 'dom7', 'add 9', '|', '.', 'Bb', 'dom7', 'add 9', '|', '.', 'Eb', 'maj7', '|', '.', 'Eb', 'maj7', 'Form_intro', '|', '.', 'Bb', 'dom7', 'add 9', '|', '.', 'Bb', 'dom7', 'add 9', '|', '.', 'Eb', 'maj7', '|', '.', 'Eb', 'maj7', '|', 'Form_Segno', '|', '.', 'Bb', 'dom7', 'add 9', '|', '.', 'Bb', 'dom7', 'add 9', '|', '.', 'Eb', 'maj7', '|', '.', 'Eb', 'maj7', '|', '.', 'Bb', 'dom7', 'add 9', '|', '.', 'Bb', 'dom7', 'add 9', '|', '.', 'Eb', 'maj7', '|', '.', 'Eb', 'maj7', 'Form_Segno', '|', '.', 'Bb', 'dom7', 'add 9', '|', '.', 'Bb', 'dom7', 'add 9', '|', '.', 'Eb', 'maj7', '|', '.', 'Eb', 'maj7', '|', '.', 'Bb', 'dom7', 'add 9', '|', '.', 'Bb', 'dom7', 'add 9', '|', '.', 'Eb', 'maj7', '|', '.', 'Eb', 'maj7', '.', 'A', 'dom7', 'alter b5', 'Form_B', '|', '.', 'Ab', 'maj7', '.', 'Db', 'maj7', 'add 9', '|', '.', 'Gb', 'maj7', '.', 'Bb', 'm7', '|', '.', 'Eb', 'maj7', '|', '.', 'Eb', 'maj7', 'add #11', '.', 'Db', 'maj7', 'add #11', '|', '.', 'Eb', 'maj7', 'add #11', 'alter b5', '.', 'A', 'dom7', 'add #11', 'alter b5', '|', '|', '.', 'Eb', 'maj7', '|', '.', 'Bb', 'dom7', 'add 9', 'e||', '.', 'Bb', 'dom7', 'add 9', '|', '.', 'Eb', 'maj7', '|', '.', 'Eb', 'maj7', '|', '.', 'Bb', 'dom7', 'add 9', '|', '.', 'Bb', 'dom7', 'add 9', '|', '.', 'Eb', 'maj7', '|', '.', 'Eb', 'maj7', 'Form_B', '|', '.', 'Ab', 'maj7', '.', 'Db', 'maj7', 'add 9', '|', '.', 'Gb', 'maj7', '.', 'Bb', 'm7', '|', '.', 'Eb', 'maj7', '|', '.', 'Eb', 'maj7', 'add #11', '.', 'Db', 'maj7', 'add #11', '|', '.', 'Eb', 'maj7', '.', 'A', 'dom7', 'alter b5', 'Form_D', '|', '.', 'Ab', 'maj7', '.', 'Db', 'maj7', 'add 9', '|', '.', 'Gb', 'maj7', '.', 'Bb', 'm7', '|', '.', 'Eb', 'm7', 'add 9', '|', '.', 'E', 'm7', 'add 9', '.', 'A', 'dom7', '|', '.', 'Ab', 'maj7', '.', 'Db', 'maj7', 'add 9', '|', '.', 'Gb', 'maj7', '.', 'Bb', 'm7', '|', '.', 'G', 'm7', '|', '.', 'Ab', 'm7', '.', 'Db', 'dom7', 'add 13', 'alter #11', 'Form_Coda', 'b||', '.', 'Bb', 'dom7', 'add 9', '|', '.', 'Bb', 'dom7', 'add 9', '|', '.', 'Eb', 'maj7', '|', '.', 'Eb', 'maj7', '|']\n"
     ]
    }
   ],
   "source": [
    "id = 2021\n",
    "strings_array = [item[0] for item in dataset[id] if item[0] != '']\n",
    "print(strings_array)"
   ]
  },
  {
   "cell_type": "code",
   "execution_count": 124,
   "metadata": {},
   "outputs": [
    {
     "name": "stderr",
     "output_type": "stream",
     "text": [
      "0it [00:00, ?it/s]"
     ]
    },
    {
     "name": "stderr",
     "output_type": "stream",
     "text": [
      "4006it [00:00, 10735.24it/s]"
     ]
    },
    {
     "name": "stdout",
     "output_type": "stream",
     "text": [
      "['<style>', 'Medium Swing', '|', '.', 'Eb', 'maj', '|', '.', 'Eb', 'maj', '|', '.', 'E', 'o', '|', '.', 'E', 'o', '|', '.', 'F', 'm7', '|', '.', 'Bb', 'dom7', '|', '.', 'Eb', 'maj', '|', '.', 'Eb', 'maj', '|', '.', 'Eb', 'maj', '|', '.', 'Eb', 'maj', '|', '.', 'E', 'o', '|', '.', 'E', 'o', '|', '.', 'F', 'm7', '|', '.', 'Bb', 'dom7', '|', '.', 'Eb', 'maj', '|', '.', 'A', 'm7', '.', 'D', 'dom7', '|', '.', 'G', 'maj', '|', '.', 'A', 'm7', '.', 'D', 'dom7', '|', '.', 'G', 'maj', '|', '.', 'A', 'm7', '.', 'D', 'dom7', '|', '.', 'G', 'm7', '|', '.', 'C', 'dom7', '|', '.', 'F', 'dom7', '|', '.', 'Bb', 'dom7', '|', '.', 'Eb', 'maj', '|', '.', 'Eb', 'maj', '|', '.', 'Gb', 'o', '|', '.', 'Gb', 'o', '|', '.', 'F', 'm7', '|', '.', 'Bb', 'dom7', '|', '.', 'Eb', 'maj', '|', '.', 'Eb', 'maj', '|', '|', '.', 'G', 'm7', '|', '.', 'C', 'dom7', '|', '.', 'F', 'm7', '|', '.', 'Bb', 'dom7', '|', '.', 'Eb', 'maj', '|', '.', 'Eb', 'maj']\n"
     ]
    },
    {
     "name": "stderr",
     "output_type": "stream",
     "text": [
      "\n"
     ]
    }
   ],
   "source": [
    "'''\n",
    "Find duplicated 'add' or 'alter' elements and remove them to clean the tokenization method\n",
    "'''\n",
    "\n",
    "def correctDuplicatedExtensions(sequence):\n",
    "    structural_elements = {'.', '|', ':|', '|:', '/', 'N.C.'}\n",
    "\n",
    "    for x, song in tqdm(enumerate(sequence)):\n",
    "        for y, item in enumerate(song):\n",
    "            e = item[0]\n",
    "            if '.' in e:\n",
    "                search = True\n",
    "                stepper = y + 2\n",
    "                check_extensions = []\n",
    "                while search:\n",
    "                    if (stepper) >= len(song):\n",
    "                        search = False\n",
    "                        #print('End of song')\n",
    "                        break\n",
    "                    elif stepper < len(song) - 1:\n",
    "                        element = song[stepper][0]\n",
    "            \n",
    "                    if element in structural_elements or element.startswith('Form_'):\n",
    "                        search = False\n",
    "                    else:\n",
    "                        if element not in check_extensions:\n",
    "                            check_extensions.append(element)\n",
    "                        elif stepper < len(song)-1:\n",
    "                            #print('Duplicated:', x, stepper, element, check_extensions)\n",
    "                            song.pop(stepper)\n",
    "                        stepper += 1\n",
    "                if len(check_extensions) > 2:\n",
    "                    continue\n",
    "                    print(x, y+stepper, check_extensions)\n",
    "                \n",
    "correctDuplicatedExtensions(dataset)\n",
    "id = 0\n",
    "strings_array = [item[0] for item in dataset[id] if item[0] != '']\n",
    "print(strings_array)"
   ]
  },
  {
   "cell_type": "code",
   "execution_count": 125,
   "metadata": {},
   "outputs": [],
   "source": [
    "'''\n",
    "This sequences have some elements that are repeated and should be removed\n",
    "If the code is run twice, no print should be shown\n",
    "'''\n",
    "import voicing as vc\n",
    "\n",
    "fix_this = [{'seq': ['dom7', 'sus7', 'add b9'], 'remove': 'dom7'},\n",
    "            {'seq': ['sus7', 'add 13', 'sus4'], 'remove': 'sus4'},\n",
    "            {'seq': ['sus7', 'add 9', 'sus4'], 'remove': 'sus4'},\n",
    "            {'seq': ['m', 'add 6', 'add 9', 'sus4'], 'remove': 'sus4'},\n",
    "            {'seq': ['sus7', 'add 13', 'sus4', 'add b9'], 'remove': 'sus4'},\n",
    "            {'seq': ['dom7', 'add 13', 'sus4', 'add b9'], 'remove': 'sus4'}]\n",
    "\n",
    "structural_elements = vc.Voicing().getStructuralElements()\n",
    "\n",
    "for x, song in enumerate(dataset):\n",
    "    for y, e in enumerate(song):\n",
    "        if '.' in e[0]:\n",
    "            search = True\n",
    "            stepper = y + 2\n",
    "            check_extensions = []\n",
    "            while search:\n",
    "                if (stepper) >= len(song):\n",
    "                    search = False\n",
    "                    #print('End of song')\n",
    "                    break\n",
    "                elif stepper < len(song) - 1:\n",
    "                    element = song[stepper][0]\n",
    "        \n",
    "                if element in structural_elements or element.startswith('Form_'):\n",
    "                    search = False\n",
    "                else:\n",
    "                    if element not in check_extensions:\n",
    "                        check_extensions.append(element)\n",
    "                    for item in fix_this:\n",
    "                        if check_extensions == item['seq']:\n",
    "                            print(x, stepper, check_extensions, 'to remove:', item['remove'])\n",
    "                            #find the location of the element in the array\n",
    "                            for i in range(len(check_extensions)):\n",
    "                                if check_extensions[i] == item['remove']:\n",
    "                                    location = i + stepper - 2\n",
    "                                    #erase this element from song\n",
    "                                    if location < len(song):\n",
    "                                        print(location, item['remove'], song[location])\n",
    "                                        song.pop(location)\n",
    "                                    break\n",
    "                            \n",
    "                    stepper += 1\n",
    "\n"
   ]
  },
  {
   "cell_type": "code",
   "execution_count": 126,
   "metadata": {},
   "outputs": [
    {
     "name": "stdout",
     "output_type": "stream",
     "text": [
      "{'composer': 'George Gershwin, Ira Gershwin (1927)', 'style': 'Medium Swing', 'song_name': \"'S Wonderful\", 'tonality': 'Eb major', 'midi_key': 15, 'time_signature': '4/4', 'decade': 'Null'}\n",
      "[('<style>', 0.0), ('Medium Swing', 0.0), ('|', 0.0), ('.', 4.0), ('Eb', 4.0), ('maj', 4.0), ('|', 4.0), ('.', 4.0), ('Eb', 4.0), ('maj', 4.0), ('|', 4.0), ('.', 4.0), ('E', 4.0), ('o', 4.0), ('|', 4.0), ('.', 4.0), ('E', 4.0), ('o', 4.0), ('|', 4.0), ('.', 4.0), ('F', 4.0), ('m7', 4.0), ('|', 4.0), ('.', 4.0), ('Bb', 4.0), ('dom7', 4.0), ('|', 4.0), ('.', 4.0), ('Eb', 4.0), ('maj', 4.0), ('|', 4.0), ('.', 4.0), ('Eb', 4.0), ('maj', 4.0), ('|', 0.0), ('.', 4.0), ('Eb', 4.0), ('maj', 4.0), ('|', 4.0), ('.', 4.0), ('Eb', 4.0), ('maj', 4.0), ('|', 4.0), ('.', 4.0), ('E', 4.0), ('o', 4.0), ('|', 4.0), ('.', 4.0), ('E', 4.0), ('o', 4.0), ('|', 4.0), ('.', 4.0), ('F', 4.0), ('m7', 4.0), ('|', 4.0), ('.', 4.0), ('Bb', 4.0), ('dom7', 4.0), ('|', 4.0), ('.', 4.0), ('Eb', 4.0), ('maj', 4.0), ('|', 4.0), ('.', 2.0), ('A', 2.0), ('m7', 2.0), ('.', 2.0), ('D', 2.0), ('dom7', 2.0), ('|', 2.0), ('.', 4.0), ('G', 4.0), ('maj', 4.0), ('|', 4.0), ('.', 2.0), ('A', 2.0), ('m7', 2.0), ('.', 2.0), ('D', 2.0), ('dom7', 2.0), ('|', 2.0), ('.', 4.0), ('G', 4.0), ('maj', 4.0), ('|', 4.0), ('.', 2.0), ('A', 2.0), ('m7', 2.0), ('.', 2.0), ('D', 2.0), ('dom7', 2.0), ('|', 2.0), ('.', 4.0), ('G', 4.0), ('m7', 4.0), ('|', 4.0), ('.', 4.0), ('C', 4.0), ('dom7', 4.0), ('|', 4.0), ('.', 4.0), ('F', 4.0), ('dom7', 4.0), ('|', 4.0), ('.', 4.0), ('Bb', 4.0), ('dom7', 4.0), ('|', 4.0), ('.', 4.0), ('Eb', 4.0), ('maj', 4.0), ('|', 4.0), ('.', 4.0), ('Eb', 4.0), ('maj', 4.0), ('|', 4.0), ('.', 4.0), ('Gb', 4.0), ('o', 4.0), ('|', 4.0), ('.', 4.0), ('Gb', 4.0), ('o', 4.0), ('|', 4.0), ('.', 4.0), ('F', 4.0), ('m7', 4.0), ('|', 4.0), ('.', 4.0), ('Bb', 4.0), ('dom7', 4.0), ('|', 4.0), ('.', 4.0), ('Eb', 4.0), ('maj', 4.0), ('|', 4.0), ('.', 4.0), ('Eb', 4.0), ('maj', 4.0), ('|', 4.0), ('|', 4.0), ('.', 4.0), ('G', 4.0), ('m7', 4.0), ('|', 4.0), ('.', 4.0), ('C', 4.0), ('dom7', 4.0), ('|', 4.0), ('.', 4.0), ('F', 4.0), ('m7', 4.0), ('|', 4.0), ('.', 4.0), ('Bb', 4.0), ('dom7', 4.0), ('|', 4.0), ('.', 4.0), ('Eb', 4.0), ('maj', 4.0), ('|', 4.0), ('.', 4.0), ('Eb', 4.0), ('maj', 4.0)]\n"
     ]
    }
   ],
   "source": [
    "id = 0\n",
    "print(all_meta[id])\n",
    "print(dataset[id])\n"
   ]
  },
  {
   "cell_type": "code",
   "execution_count": 127,
   "metadata": {},
   "outputs": [
    {
     "name": "stdout",
     "output_type": "stream",
     "text": [
      "Max: {'v': 1397, 'id': 1119} Min: {'v': 31, 'id': 3331}\n"
     ]
    }
   ],
   "source": [
    "#Check the length of the song\n",
    "\n",
    "max = {'v': 0, 'id': 0}\n",
    "min = {'v': 1000, 'id': 0}\n",
    "\n",
    "for i in range(len(dataset)):\n",
    "    if len(dataset[i]) > max['v']:\n",
    "        max['v'] = len(dataset[i])\n",
    "        max['id'] = i\n",
    "    if len(dataset[i]) < min['v']:\n",
    "        min['v'] = len(dataset[i])\n",
    "        min['id'] = i\n",
    "\n",
    "print('Max:', max, 'Min:', min)\n"
   ]
  },
  {
   "cell_type": "code",
   "execution_count": 194,
   "metadata": {},
   "outputs": [
    {
     "data": {
      "text/plain": [
       "<seaborn.axisgrid.FacetGrid at 0x7f073bd7ab90>"
      ]
     },
     "execution_count": 194,
     "metadata": {},
     "output_type": "execute_result"
    },
    {
     "data": {
      "image/png": "[encoded data removed]",
      "text/plain": [
       "<Figure size 500x500 with 1 Axes>"
      ]
     },
     "metadata": {},
     "output_type": "display_data"
    }
   ],
   "source": [
    "import seaborn as sns\n",
    "\n",
    "#visualize the length of the songs\n",
    "\n",
    "length = []\n",
    "for song in dataset:\n",
    "    length.append(len(song))\n",
    "    \n",
    "sns.displot(length, kde=False, bins=100)"
   ]
  },
  {
   "cell_type": "code",
   "execution_count": 143,
   "metadata": {},
   "outputs": [
    {
     "name": "stdout",
     "output_type": "stream",
     "text": [
      "Message To A Friend\n",
      "4005\n",
      "['<style>', 'Ballad', 'Form_A', '|', '.', 'C', 'maj', '.', 'E', 'm', '/', 'B', '|', '.', 'B', 'sus4', '.', 'B', 'maj', '.', 'B', 'maj', '/', 'A', '|', '.', 'G', 'maj', '.', 'C', 'maj7', '|', '.', 'C#', 'm7', 'alter b5', '.', 'G', 'maj7', '/', 'D', '|', '.', 'D', 'maj', '/', 'F#', '.', 'C', 'maj', '/', 'E', '|', '.', 'C', 'm', '/', 'Eb', '.', 'G', 'maj', '/', 'D', '|', '.', 'C#', 'm7', 'alter b5', '.', 'F#', 'dom7', '/', 'C#', '|', '.', 'B', 'maj', '.', 'A', 'm7', '.', 'D', 'dom7', '/', 'A', 'Form_B', '|', '.', 'G', 'maj', 'add 9', '.', 'D', 'maj', '/', 'F#', '|', '.', 'C', 'maj7', '/', 'E', '.', 'C#', 'm7', 'alter b5', '|', '.', 'G', 'maj', '/', 'D', '.', 'B', 'dom7', '/', 'D#', '|', '.', 'G', 'dom7', '/', 'D', '.', 'A', 'dom7', '/', 'C#', 'Form_Coda', '|', '.', 'C', 'maj7', '.', 'A', 'm7', 'e||', '.', 'B', 'm7', '.', 'E', 'm7', 'add 9', '|', '.', 'C', 'maj', '/', 'D', '|', '.', 'C', 'maj', '/', 'D', '|', '.', 'C#', 'm7', 'alter b5', '.', 'G', 'maj', '/', 'D', '|', '.', 'B', 'dom7', '/', 'D#', '.', 'E', 'm', 'Form_Coda', 'Form_A', '|', '.', 'C', 'maj', '.', 'E', 'm', '/', 'B', '|', '.', 'B', 'sus4', '.', 'B', 'maj', '.', 'B', 'maj', '/', 'A', '|', '.', 'G', 'maj', '.', 'C', 'maj7', '|', '.', 'C#', 'm7', 'alter b5', '.', 'G', 'maj7', '/', 'D', '|', '.', 'D', 'maj', '/', 'F#', '.', 'C', 'maj', '/', 'E', '|', '.', 'C', 'm', '/', 'Eb', '.', 'G', 'maj', '/', 'D', '|', '.', 'C#', 'm7', 'alter b5', '.', 'F#', 'dom7', '/', 'C#', '|', '.', 'B', 'maj', '.', 'A', 'm7', '.', 'D', 'dom7', '/', 'A', 'Form_B', '|', '.', 'G', 'maj', 'add 9', '.', 'D', 'maj', '/', 'F#', '|', '.', 'C', 'maj7', '/', 'E', '.', 'C#', 'm7', 'alter b5', '|', '.', 'G', 'maj', '/', 'D', '.', 'B', 'dom7', '/', 'D#', '|', '.', 'G', 'dom7', '/', 'D', '.', 'A', 'dom7', '/', 'C#', 'Form_Coda', '|', '.', 'C', 'maj7', '.', 'A', 'm7', 'b||', '.', 'B', 'm7', '.', 'E', 'm7', 'add 9', '|', '.', 'C#', 'm7', 'alter b5', '.', 'D', 'maj', '/', 'C', '|', '.', 'B', 'm7', '.', 'E', 'm7', 'add 9', '|', '.', 'C', 'm', 'add #7', '|', '.', 'C', 'm', 'add #7', '|', '.', 'A', 'm7', 'add 9', '.', 'Bb', 'maj7', '|', '.', 'C', 'maj', '/', 'B', '.', 'F#', 'maj', '/', 'D', '|', '.', 'G', 'maj7', 'add #11']\n"
     ]
    }
   ],
   "source": [
    "import voicing as vc\n",
    "voicing = vc.Voicing()\n",
    "\n",
    "print(all_meta[4005]['song_name'])\n",
    "id = 0\n",
    "for i, data in enumerate(all_meta):\n",
    "    if 'Message To A Friend' in data['song_name']:\n",
    "        id = i\n",
    "        print(i)\n",
    "        break\n",
    "\n",
    "strings_array =  voicing.get_chords(dataset[id]) \n",
    "print(strings_array)\n"
   ]
  },
  {
   "cell_type": "code",
   "execution_count": 156,
   "metadata": {},
   "outputs": [
    {
     "name": "stderr",
     "output_type": "stream",
     "text": [
      "100%|██████████| 1/1 [00:00<00:00, 2458.56it/s]"
     ]
    },
    {
     "name": "stdout",
     "output_type": "stream",
     "text": [
      "1\n",
      "['Message To A Friend']\n"
     ]
    },
    {
     "name": "stderr",
     "output_type": "stream",
     "text": [
      "\n"
     ]
    }
   ],
   "source": [
    "import voicing as vc\n",
    "\n",
    "#check the voicing conversion of all chords\n",
    "from_ = 4005\n",
    "to_ = 4006\n",
    "myTracks = dataset[from_:to_]\n",
    "sub_names = []\n",
    "for names in all_meta[from_:to_]:\n",
    "    sub_names.append(names['song_name'])\n",
    "voicing = vc.Voicing()\n",
    "midi_voicing = []\n",
    "\n",
    "\n",
    "i = 0\n",
    "for item in tqdm(myTracks):\n",
    "    mv, status = voicing.convert_chords_to_voicing(item)\n",
    "    midi_voicing.append(mv)\n",
    "    if status == False:\n",
    "        print(i, '\\n', all_meta[i], '\\n', item)\n",
    "        break\n",
    "    i += 1\n",
    "print(len(midi_voicing))\n",
    "print(sub_names)\n"
   ]
  },
  {
   "cell_type": "code",
   "execution_count": 157,
   "metadata": {},
   "outputs": [
    {
     "name": "stdout",
     "output_type": "stream",
     "text": [
      "song: Message To A Friend\n",
      "MIDI file created! \n",
      "---------------------------------\n"
     ]
    }
   ],
   "source": [
    "voicing = vc.Voicing()\n",
    "\n",
    "path = \"../data/midi_files/\"\n",
    "\n",
    "for i in range(len(midi_voicing)):\n",
    "    voicing.export_to_midi(midi_voicing[i], path, sub_names[i])\n"
   ]
  },
  {
   "cell_type": "code",
   "execution_count": 215,
   "metadata": {},
   "outputs": [
    {
     "name": "stdout",
     "output_type": "stream",
     "text": [
      "4006\n",
      "[39, 41, 40, 37, 54, 73, 32, 46, 32, 33, 32, 53, 47, 33, 55, 20, 32, 30, 10, 36, 62, 42, 57, 28, 57, 32, 36, 10, 33, 50, 32, 32, 32, 32, 10, 64, 49, 38, 32, 80, 32, 29, 41, 68, 36, 13, 53, 36, 32, 24, 32, 22, 38, 32, 29, 44, 23, 32, 66, 68, 45, 33, 55, 53, 62, 28, 36, 32, 13, 23, 56, 32, 16, 36, 40, 28, 68, 33, 10, 33, 64, 26, 32, 32, 32, 75, 85, 68, 24, 47, 45, 45, 84, 40, 33, 48, 16, 26, 32, 32, 53, 40, 40, 32, 32, 32, 8, 35, 76, 76, 58, 58, 35, 43, 49, 128, 135, 96, 96, 55, 55, 55, 57, 53, 32, 32, 32, 74, 34, 92, 73, 32, 32, 32, 65, 65, 40, 40, 36, 33, 34, 167, 45, 32, 94, 32, 48, 32, 33, 40, 32, 93, 20, 20, 32, 48, 48, 10, 30, 32, 32, 40, 43, 24, 32, 32, 103, 32, 32, 37, 41, 53, 58, 52, 99, 36, 31, 32, 32, 53, 53, 32, 36, 34, 34, 52, 32, 64, 32, 97, 37, 37, 37, 44, 28, 36, 39, 39, 46, 44, 32, 34, 34, 32, 14, 70, 47, 47, 42, 42, 24, 24, 32, 49, 48, 24, 58, 49, 32, 31, 31, 32, 32, 21, 21, 41, 16, 64, 116, 38, 48, 52, 52, 51, 51, 65, 65, 59, 33, 44, 44, 46, 33, 37, 70, 69, 71, 71, 81, 37, 52, 44, 85, 83, 93, 42, 32, 125, 33, 32, 80, 44, 39, 97, 80, 59, 48, 57, 95, 67, 32, 50, 64, 74, 76, 37, 61, 92, 33, 24, 32, 59, 24, 48, 32, 28, 79, 43, 43, 31, 32, 32, 28, 32, 48, 32, 48, 77, 77, 224, 51, 51, 40, 40, 76, 37, 32, 29, 32, 26, 26, 24, 69, 20, 20, 57, 41, 33, 34, 33, 32, 67, 32, 38, 32, 28, 28, 52, 32, 32, 32, 153, 32, 32, 106, 101, 10, 12, 65, 35, 32, 33, 24, 33, 36, 36, 52, 42, 32, 32, 48, 32, 54, 18, 28, 12, 57, 40, 32, 70, 9, 32, 34, 51, 145, 33, 32, 16, 12, 12, 36, 53, 41, 85, 105, 74, 32, 32, 36, 32, 54, 22, 32, 33, 36, 16, 16, 12, 38, 48, 69, 39, 25, 25, 33, 36, 26, 22, 22, 32, 84, 16, 31, 31, 36, 62, 32, 36, 36, 33, 32, 55, 16, 37, 33, 32, 32, 37, 32, 25, 32, 46, 77, 32, 101, 24, 24, 32, 38, 30, 49, 32, 101, 51, 43, 24, 16, 47, 37, 55, 55, 32, 32, 40, 73, 57, 54, 12, 36, 54, 38, 26, 58, 32, 32, 32, 36, 48, 24, 32, 66, 42, 8, 59, 32, 32, 53, 32, 73, 12, 56, 12, 32, 63, 32, 32, 28, 40, 56, 33, 38, 44, 103, 24, 40, 160, 32, 64, 32, 64, 37, 37, 8, 43, 12, 25, 32, 48, 18, 8, 16, 32, 32, 33, 33, 28, 34, 32, 24, 32, 32, 12, 32, 32, 32, 32, 32, 12, 81, 32, 86, 32, 32, 58, 70, 32, 32, 26, 12, 12, 12, 24, 12, 12, 12, 24, 12, 12, 12, 12, 12, 12, 12, 12, 12, 12, 26, 29, 12, 12, 25, 26, 12, 12, 58, 70, 32, 24, 24, 80, 32, 58, 32, 45, 50, 50, 73, 73, 22, 32, 12, 16, 64, 50, 33, 33, 32, 32, 60, 16, 40, 68, 32, 49, 46, 76, 25, 38, 101, 49, 66, 32, 32, 16, 63, 37, 82, 65, 65, 88, 32, 56, 79, 91, 29, 31, 40, 32, 78, 66, 25, 25, 51, 38, 32, 32, 83, 26, 16, 42, 32, 100, 32, 36, 42, 16, 81, 78, 16, 56, 56, 26, 16, 77, 32, 100, 33, 40, 26, 58, 33, 32, 32, 33, 47, 57, 32, 48, 26, 16, 49, 49, 36, 32, 32, 32, 32, 32, 33, 12, 32, 40, 40, 12, 32, 88, 56, 44, 27, 27, 26, 31, 29, 25, 16, 16, 25, 56, 36, 57, 35, 23, 37, 37, 40, 48, 45, 45, 74, 87, 39, 98, 32, 84, 133, 32, 94, 17, 48, 32, 61, 28, 28, 16, 28, 28, 49, 49, 59, 55, 26, 26, 88, 48, 48, 100, 24, 24, 20, 20, 58, 57, 49, 16, 28, 16, 50, 32, 60, 59, 59, 32, 32, 87, 41, 41, 55, 55, 33, 94, 25, 17, 20, 21, 10, 10, 49, 49, 89, 34, 10, 32, 85, 32, 23, 23, 60, 71, 57, 22, 10, 34, 56, 110, 82, 48, 32, 32, 12, 37, 24, 49, 49, 49, 32, 40, 33, 76, 76, 50, 50, 38, 38, 33, 72, 48, 21, 32, 12, 12, 131, 32, 38, 32, 32, 51, 51, 81, 28, 12, 32, 32, 32, 32, 32, 20, 103, 49, 23, 25, 21, 40, 49, 32, 66, 32, 16, 54, 80, 88, 80, 44, 73, 104, 44, 44, 62, 32, 24, 66, 25, 48, 163, 38, 38, 16, 16, 44, 44, 12, 26, 32, 27, 59, 104, 104, 50, 16, 32, 79, 47, 32, 24, 32, 33, 58, 58, 32, 86, 56, 18, 38, 73, 46, 84, 32, 49, 49, 32, 33, 45, 49, 24, 26, 32, 36, 36, 16, 68, 36, 33, 36, 22, 33, 18, 18, 70, 108, 127, 40, 29, 32, 24, 40, 8, 47, 50, 50, 46, 46, 30, 30, 82, 82, 69, 69, 65, 25, 25, 56, 32, 32, 24, 32, 76, 40, 66, 12, 58, 20, 58, 69, 32, 32, 32, 76, 77, 123, 31, 12, 48, 49, 36, 24, 52, 31, 32, 26, 34, 64, 32, 32, 37, 40, 80, 32, 53, 16, 36, 32, 37, 81, 72, 16, 41, 91, 32, 32, 48, 91, 32, 79, 12, 24, 25, 25, 24, 73, 16, 49, 32, 38, 38, 32, 57, 32, 48, 32, 32, 32, 50, 50, 54, 25, 32, 101, 33, 32, 10, 10, 37, 68, 99, 89, 64, 44, 32, 13, 32, 32, 32, 32, 75, 22, 38, 38, 44, 44, 35, 35, 49, 12, 79, 16, 50, 50, 68, 68, 42, 42, 49, 89, 32, 39, 39, 34, 61, 45, 45, 13, 44, 32, 32, 65, 32, 89, 88, 32, 48, 16, 25, 32, 49, 24, 32, 63, 32, 28, 10, 20, 35, 33, 53, 32, 32, 53, 28, 16, 50, 42, 42, 32, 50, 41, 41, 32, 15, 28, 32, 32, 32, 16, 49, 29, 29, 40, 32, 121, 83, 104, 40, 38, 35, 24, 24, 24, 51, 51, 40, 129, 37, 53, 32, 33, 32, 32, 32, 33, 32, 32, 32, 150, 32, 51, 69, 68, 140, 32, 32, 33, 61, 73, 92, 53, 32, 32, 25, 32, 40, 213, 213, 27, 27, 32, 55, 95, 61, 55, 12, 32, 32, 32, 32, 32, 46, 33, 33, 32, 77, 32, 54, 16, 32, 35, 113, 53, 53, 24, 32, 48, 32, 36, 32, 40, 33, 20, 32, 36, 21, 32, 32, 40, 39, 48, 33, 50, 50, 22, 22, 32, 32, 16, 32, 36, 36, 32, 33, 32, 24, 32, 16, 32, 32, 67, 73, 82, 176, 28, 17, 32, 33, 25, 41, 92, 92, 12, 32, 46, 32, 54, 18, 42, 58, 14, 24, 32, 26, 38, 32, 40, 40, 56, 57, 41, 64, 84, 16, 23, 16, 32, 12, 43, 32, 32, 31, 32, 17, 46, 46, 43, 43, 45, 41, 36, 36, 80, 32, 32, 18, 18, 30, 30, 34, 33, 27, 27, 22, 22, 32, 50, 26, 40, 75, 73, 32, 49, 32, 85, 39, 49, 26, 32, 32, 65, 32, 32, 32, 82, 56, 58, 37, 26, 32, 33, 26, 33, 33, 32, 32, 38, 38, 77, 64, 18, 27, 38, 32, 43, 10, 16, 50, 32, 64, 8, 62, 24, 39, 39, 12, 100, 32, 32, 16, 91, 58, 32, 48, 32, 51, 51, 86, 40, 48, 32, 54, 34, 36, 27, 57, 24, 27, 27, 40, 74, 24, 26, 17, 17, 27, 45, 47, 63, 28, 24, 38, 136, 85, 36, 52, 33, 34, 48, 32, 32, 12, 89, 45, 24, 24, 26, 32, 26, 32, 84, 41, 32, 124, 28, 32, 32, 47, 33, 37, 25, 127, 32, 18, 70, 97, 32, 103, 79, 32, 66, 32, 24, 24, 48, 48, 80, 80, 71, 37, 37, 36, 22, 31, 32, 32, 24, 93, 32, 24, 33, 33, 24, 49, 32, 53, 102, 102, 32, 32, 71, 29, 32, 38, 47, 32, 42, 42, 24, 32, 64, 35, 32, 33, 16, 32, 32, 65, 123, 41, 47, 25, 40, 14, 57, 49, 12, 26, 63, 33, 20, 8, 27, 98, 48, 41, 48, 51, 54, 56, 96, 93, 57, 32, 26, 16, 16, 12, 33, 34, 20, 20, 33, 48, 10, 46, 16, 16, 32, 28, 32, 32, 72, 32, 39, 55, 32, 32, 32, 32, 32, 16, 86, 32, 12, 58, 115, 114, 89, 136, 48, 115, 32, 33, 24, 20, 30, 45, 43, 24, 48, 38, 15, 40, 32, 32, 41, 8, 12, 26, 80, 33, 161, 34, 57, 32, 32, 32, 49, 116, 116, 61, 61, 33, 40, 32, 103, 32, 32, 54, 51, 32, 16, 36, 81, 79, 16, 16, 57, 16, 36, 70, 32, 17, 33, 42, 37, 57, 32, 58, 50, 16, 16, 48, 28, 32, 20, 32, 58, 28, 25, 32, 16, 24, 45, 45, 38, 68, 32, 65, 56, 70, 68, 62, 37, 36, 55, 44, 38, 36, 59, 46, 32, 22, 26, 34, 33, 56, 34, 120, 46, 116, 43, 75, 33, 33, 41, 40, 48, 69, 72, 72, 72, 32, 41, 37, 50, 32, 81, 69, 32, 39, 49, 53, 48, 36, 46, 36, 66, 46, 32, 34, 34, 89, 89, 105, 24, 60, 50, 83, 50, 92, 32, 44, 16, 42, 121, 38, 32, 28, 18, 49, 29, 32, 65, 56, 72, 33, 33, 33, 134, 24, 32, 32, 30, 58, 32, 32, 88, 27, 32, 32, 32, 32, 32, 45, 92, 136, 18, 32, 59, 78, 32, 26, 36, 127, 61, 64, 62, 48, 32, 32, 32, 116, 72, 26, 33, 64, 64, 32, 32, 33, 40, 32, 36, 36, 32, 48, 16, 16, 58, 88, 32, 48, 64, 23, 112, 32, 36, 37, 48, 32, 38, 20, 32, 36, 32, 35, 57, 98, 64, 23, 44, 32, 32, 32, 32, 32, 18, 32, 63, 32, 34, 34, 32, 43, 18, 30, 41, 36, 19, 34, 38, 36, 70, 32, 86, 32, 98, 32, 71, 32, 38, 32, 83, 32, 28, 36, 32, 78, 32, 67, 34, 196, 32, 16, 32, 32, 43, 43, 80, 50, 63, 32, 32, 32, 32, 32, 32, 34, 28, 32, 32, 32, 38, 32, 32, 52, 52, 70, 40, 79, 32, 18, 18, 33, 33, 32, 63, 36, 36, 36, 40, 36, 32, 32, 36, 36, 32, 48, 32, 46, 71, 72, 32, 32, 82, 16, 101, 35, 32, 18, 18, 56, 32, 32, 56, 56, 20, 20, 32, 32, 32, 32, 32, 48, 48, 22, 24, 37, 20, 35, 56, 74, 28, 32, 46, 32, 32, 36, 24, 67, 32, 32, 35, 32, 28, 32, 24, 16, 16, 32, 40, 32, 36, 47, 66, 32, 65, 32, 32, 32, 32, 43, 44, 44, 32, 32, 42, 42, 42, 32, 95, 38, 32, 54, 72, 18, 32, 41, 57, 32, 32, 32, 32, 32, 32, 37, 27, 24, 63, 66, 25, 42, 12, 48, 29, 16, 32, 34, 40, 53, 32, 32, 36, 32, 32, 37, 32, 59, 59, 37, 12, 20, 20, 33, 33, 32, 32, 62, 32, 32, 52, 34, 34, 36, 16, 32, 42, 65, 32, 95, 65, 36, 75, 32, 32, 34, 60, 60, 16, 36, 32, 32, 57, 32, 12, 109, 32, 32, 81, 32, 32, 97, 97, 44, 30, 62, 16, 49, 53, 32, 40, 35, 44, 32, 48, 24, 33, 71, 32, 56, 35, 32, 32, 10, 36, 64, 64, 34, 10, 81, 24, 33, 30, 45, 32, 24, 24, 85, 75, 32, 12, 36, 80, 45, 16, 33, 32, 32, 32, 32, 32, 52, 52, 32, 32, 139, 80, 79, 27, 32, 49, 34, 72, 33, 40, 48, 58, 32, 32, 87, 46, 32, 33, 74, 101, 26, 49, 59, 52, 49, 48, 113, 40, 24, 16, 32, 55, 81, 107, 90, 79, 101, 41, 49, 32, 36, 48, 27, 50, 24, 48, 20, 28, 28, 32, 74, 34, 16, 69, 53, 50, 34, 37, 102, 48, 60, 60, 26, 32, 38, 33, 33, 50, 52, 32, 32, 16, 38, 76, 35, 43, 18, 32, 56, 25, 97, 26, 24, 16, 16, 32, 40, 30, 32, 16, 32, 61, 8, 16, 97, 57, 70, 50, 56, 10, 32, 32, 34, 33, 33, 32, 57, 32, 32, 32, 71, 32, 71, 82, 92, 103, 101, 32, 32, 25, 61, 53, 8, 65, 18, 42, 204, 57, 92, 32, 24, 25, 16, 47, 17, 32, 32, 32, 32, 56, 62, 16, 16, 32, 124, 72, 62, 62, 56, 20, 68, 32, 32, 51, 32, 34, 32, 32, 31, 54, 92, 49, 92, 49, 20, 32, 136, 68, 56, 59, 61, 49, 32, 56, 32, 44, 26, 87, 16, 32, 73, 42, 42, 60, 57, 48, 58, 27, 29, 24, 64, 70, 50, 49, 59, 32, 32, 32, 35, 66, 96, 24, 32, 32, 71, 79, 79, 53, 66, 25, 51, 48, 57, 61, 33, 30, 41, 118, 45, 32, 32, 32, 32, 28, 33, 33, 36, 54, 63, 65, 40, 32, 41, 20, 26, 60, 48, 24, 16, 25, 87, 19, 72, 167, 37, 33, 48, 40, 32, 32, 10, 10, 41, 28, 38, 57, 27, 45, 84, 23, 32, 66, 77, 58, 54, 25, 69, 69, 32, 32, 33, 32, 50, 99, 13, 64, 32, 37, 119, 33, 50, 22, 97, 20, 20, 40, 69, 39, 63, 29, 45, 34, 32, 32, 61, 52, 79, 42, 41, 38, 32, 32, 24, 45, 49, 36, 32, 33, 35, 30, 32, 24, 32, 49, 10, 10, 40, 40, 59, 20, 113, 42, 67, 33, 69, 57, 44, 65, 27, 29, 10, 47, 47, 45, 47, 66, 35, 63, 105, 24, 24, 50, 82, 27, 24, 35, 68, 40, 41, 41, 40, 32, 32, 29, 72, 105, 71, 20, 20, 31, 108, 108, 32, 41, 32, 36, 27, 83, 16, 24, 38, 32, 27, 40, 12, 32, 28, 8, 50, 48, 96, 33, 120, 32, 53, 84, 36, 38, 32, 40, 87, 43, 152, 33, 32, 66, 46, 64, 40, 75, 73, 32, 40, 40, 40, 33, 36, 91, 48, 38, 8, 75, 71, 33, 34, 29, 29, 32, 44, 32, 40, 60, 32, 60, 41, 59, 40, 32, 10, 10, 32, 45, 32, 32, 32, 33, 57, 37, 33, 12, 41, 38, 32, 68, 56, 29, 43, 62, 43, 44, 59, 32, 24, 32, 67, 67, 24, 28, 73, 32, 36, 71, 33, 32, 32, 16, 114, 32, 34, 33, 32, 34, 34, 32, 32, 32, 32, 48, 32, 38, 62, 24, 90, 44, 35, 56, 56, 75, 37, 30, 70, 54, 19, 16, 64, 25, 30, 40, 32, 33, 47, 16, 75, 32, 34, 26, 16, 38, 59, 59, 28, 28, 66, 24, 32, 48, 80, 42, 83, 59, 36, 36, 34, 40, 48, 16, 84, 32, 38, 66, 85, 27, 32, 33, 32, 39, 105, 43, 36, 36, 55, 53, 16, 38, 35, 36, 54, 112, 115, 43, 43, 36, 10, 10, 12, 38, 40, 16, 33, 82, 24, 44, 44, 42, 27, 48, 53, 32, 12, 78, 78, 63, 32, 25, 12, 98, 53, 32, 53, 50, 27, 27, 26, 9, 9, 80, 64, 64, 18, 35, 35, 61, 32, 49, 9, 9, 24, 77, 33, 34, 29, 29, 43, 42, 78, 78, 27, 27, 56, 71, 24, 103, 23, 43, 51, 51, 21, 21, 28, 28, 53, 10, 32, 99, 99, 25, 25, 60, 68, 60, 24, 32, 32, 33, 32, 33, 41, 37, 32, 32, 68, 88, 59, 26, 32, 48, 32, 32, 79, 49, 32, 20, 66, 28, 48, 34, 34, 36, 32, 16, 32, 32, 64, 48, 64, 16, 44, 32, 44, 32, 36, 34, 36, 44, 42, 69, 20, 32, 61, 105, 73, 48, 40, 71, 116, 50, 47, 26, 60, 40, 71, 48, 16, 12, 32, 78, 31, 32, 32, 31, 32, 26, 26, 55, 32, 32, 50, 50, 49, 82, 33, 53, 60, 25, 47, 94, 26, 82, 61, 29, 23, 23, 53, 59, 59, 89, 32, 56, 62, 34, 71, 67, 57, 57, 69, 69, 28, 16, 39, 42, 38, 29, 8, 32, 12, 58, 12, 36, 98, 33, 33, 42, 32, 32, 34, 42, 42, 17, 24, 29, 29, 10, 45, 66, 66, 24, 54, 26, 26, 21, 40, 49, 36, 36, 24, 26, 26, 32, 58, 48, 16, 32, 46, 101, 48, 46, 72, 72, 32, 45, 26, 33, 26, 24, 48, 12, 33, 36, 32, 126, 16, 16, 90, 64, 95, 48, 48, 61, 26, 58, 18, 44, 45, 24, 16, 88, 32, 63, 97, 44, 41, 51, 51, 92, 50, 50, 33, 121, 32, 19, 115, 32, 32, 40, 32, 55, 55, 76, 32, 111, 47, 63, 94, 10, 57, 12, 32, 32, 36, 36, 32, 32, 42, 16, 24, 32, 32, 71, 32, 20, 20, 16, 73, 27, 33, 33, 35, 35, 127, 32, 52, 48, 33, 63, 39, 17, 17, 50, 50, 29, 29, 32, 48, 32, 41, 33, 33, 9, 9, 70, 70, 28, 59, 59, 40, 57, 34, 49, 32, 24, 44, 52, 74, 32, 77, 46, 32, 16, 40, 48, 16, 20, 24, 12, 32, 32, 32, 114, 66, 12, 84, 33, 59, 17, 17, 37, 37, 61, 89, 26, 49, 49, 40, 33, 32, 33, 24, 81, 81, 73, 69, 92, 33, 32, 61, 39, 32, 12, 66, 83, 62, 71, 85, 32, 36, 133, 34, 15, 78, 30, 64, 29, 73, 40, 72, 32, 32, 32, 39, 41, 24, 12, 58, 20, 36, 32, 32, 33, 32, 32, 40, 27, 76, 54, 33, 117, 32, 40, 40, 77, 69, 39, 39, 42, 46, 12, 18, 22, 24, 67, 24, 22, 49, 50, 12, 12, 101, 101, 18, 18, 31, 31, 55, 39, 41, 52, 32, 16, 73, 12, 37, 138, 36, 32, 80, 115, 70, 53, 53, 64, 79, 39, 64, 32, 66, 20, 56, 71, 38, 32, 32, 38, 38, 10, 24, 24, 31, 55, 49, 15, 34, 24, 24, 55, 90, 32, 35, 70, 70, 43, 24, 44, 24, 51, 26, 36, 33, 32, 32, 85, 23, 16, 24, 27, 14, 32, 32, 76, 75, 96, 48, 32, 32, 33, 95, 90, 133, 41, 66, 52, 55, 63, 55, 32, 32, 33, 156, 86, 83, 32, 12, 40, 112, 173, 32, 59, 98, 180, 61, 28, 22, 44, 32, 32, 77, 20, 12, 24, 24, 47, 35, 24, 48, 48, 32, 110, 27, 60, 28, 62, 62, 24, 88, 55, 33, 33, 79, 85, 59, 32, 72, 110, 32, 32, 48, 36, 45, 33, 34, 32, 16, 12, 42, 52, 71, 62, 72, 51, 44, 44, 32, 32, 137, 16, 32, 32, 60, 32, 20, 35, 32, 69, 12, 32, 60, 88, 34, 32, 12, 32, 32, 32, 130, 32, 32, 32, 32, 34, 43, 73, 43, 36, 32, 36, 32, 50, 36, 25, 60, 36, 46, 33, 24, 59, 59, 56, 56, 39, 39, 12, 32, 32, 32, 39, 39, 51, 51, 28, 28, 43, 32, 32, 32, 32, 52, 24, 54, 46, 51, 20, 24, 20, 33, 45, 82, 20, 44, 44, 36, 26, 8, 12, 34, 16, 36, 36, 32, 91, 26, 48, 37, 37, 32, 50, 32, 23, 32, 98, 12, 49, 87, 33, 32, 50, 136, 93, 38, 25, 24, 32, 36, 32, 24, 12, 49, 32, 101, 24, 32, 93, 99, 80, 32, 32, 83, 32, 40, 36, 27, 32, 32, 33, 32, 40, 28, 16, 27, 119, 24, 37, 71, 38, 144, 32, 16, 16, 86, 24, 16, 16, 52, 40, 45, 115, 115, 18, 87, 41, 32, 53, 32, 7, 33, 87, 24, 16, 32, 12, 32, 32, 94, 33, 32, 40, 40, 25, 24, 21, 49, 22, 58, 32, 34, 41, 32, 24, 26, 16, 130, 25, 25, 32, 32, 33, 24, 26, 96, 28, 29, 40, 40, 32, 32, 18, 32, 32, 24, 33, 32, 32, 32, 28, 28, 26, 26, 32, 75, 32, 57, 32, 32, 32, 32, 32, 49, 48, 58, 62, 62, 26, 26, 26, 44, 33, 32, 47, 34, 34, 12, 34, 69, 43, 12, 32, 72, 32, 32, 32, 32, 32, 32, 32, 32, 82, 72, 22, 64, 8, 83, 32, 37, 72, 32, 36, 32, 65, 32, 32, 32, 32, 34, 32, 33, 25, 64, 43, 29, 33, 16, 49, 33, 60, 41, 32, 16, 73, 49, 44, 31, 32, 111, 38, 40, 18, 32, 32, 82, 32, 33, 52, 84, 32, 32, 99, 43, 30, 60, 25, 136, 187, 12, 32, 12, 39, 48, 33, 34, 33, 60, 32, 63, 141, 39, 48, 32, 32, 57, 44, 42, 32, 47, 66, 44, 32, 60, 30, 49, 48, 33, 49, 40, 32, 24, 32, 38, 36, 32, 16, 16, 34, 55, 56, 68, 33, 36, 32, 83, 64, 16, 72, 38, 22, 30, 28, 48, 102, 40, 12, 32, 32, 37, 32, 32, 53, 35, 32, 36, 28, 32, 25, 18, 32, 65, 32, 39, 32, 18, 38, 32, 32, 65, 55, 32, 32, 26, 36, 32, 32, 32, 12, 48, 33, 61, 32, 32, 32, 52, 32, 32, 32, 60, 87, 32, 28, 32, 34, 27, 134, 33, 26, 37, 81, 32, 71, 32, 60, 16, 180, 45, 32, 70, 114, 32, 38, 203, 32, 26, 60, 135, 78, 16, 16, 49, 32, 32, 32, 32, 21, 32, 26, 10, 68, 68, 68, 48, 24, 73, 66, 32, 32, 34, 25, 34, 16, 40, 48, 52, 32, 32, 32, 40, 40, 32, 32, 42, 32, 32, 85, 16, 32, 32, 32, 28, 16, 32, 16, 16, 32, 12, 44, 40, 33, 33, 36, 32, 32, 28, 33, 72, 14, 34, 29, 29, 21, 21, 58, 33, 32, 32, 34, 35, 70, 62, 26, 32, 40, 12, 25, 51, 45, 31, 21, 24, 32, 33, 32, 47, 16, 33, 32, 30, 17, 17, 30, 112, 24, 62, 21, 44, 37, 32, 32, 52, 99, 40, 20, 32, 32, 62, 44, 32, 24, 50, 71, 44, 69, 63, 32, 47, 158, 40, 39, 39, 17, 17, 45, 45, 9, 9, 95, 113, 59, 96, 16, 83, 75, 75, 33, 20, 57, 147, 25, 25, 24, 38, 20, 55, 139, 62, 37, 37, 55, 32, 58, 29, 58, 37, 61, 32, 32, 45, 29, 53, 123, 109, 111, 117, 32, 44, 40, 25, 25, 46, 46, 25, 43, 42, 38, 41, 41, 29, 29, 41, 25, 32, 32, 25, 40, 54, 94, 53, 44, 34, 32, 33, 12, 97, 53, 66, 27, 80, 32, 69, 36, 36, 36, 16, 16, 16, 45, 45, 16, 54, 41, 33, 189, 16, 32, 55, 32, 25, 87, 33, 34, 73, 37, 32, 32, 64, 45, 24, 32, 40, 33, 32, 98, 32, 73, 85, 32, 32, 32, 61, 77, 16, 32, 32, 32, 16, 88, 39, 39, 32, 32, 63, 32, 32, 99, 40, 40, 118, 64, 64, 32, 73, 32, 32, 32, 95, 32, 52, 36, 32, 12, 32, 79, 89, 40, 40, 68, 32, 106, 64, 61, 24, 40, 40, 64, 39, 25, 32, 56, 44, 108, 79, 24, 49, 66, 83, 59, 107, 33, 69, 16, 32, 34, 59, 37, 32, 32, 32, 68, 32, 64, 69, 45, 25, 50, 69, 64, 50, 16, 73, 59, 33, 33, 38, 61, 32, 32, 24, 32, 32, 32, 123, 32, 32, 32, 32, 40, 40, 26, 56, 117, 79, 32, 57, 32, 32, 41, 41, 26, 26, 39, 38, 64, 32, 79, 32, 32, 32, 64, 32, 68, 28, 59, 59, 32, 32, 37, 32, 48, 32, 32, 82, 101, 32, 32, 34, 40, 32, 28, 56, 32, 49, 32, 33, 38, 38, 10, 41, 41, 33, 86, 26, 39]\n"
     ]
    }
   ],
   "source": [
    "''' \n",
    "Count how many bars are in the all songs\n",
    "Extend the form of the song to complete at lest 64 bars\n",
    "'''\n",
    "\n",
    "bars = []\n",
    "for song in dataset:\n",
    "    number_of_bars = 0\n",
    "    for i, e in enumerate(song):\n",
    "        if e[0] == '|' or e[0] == 'e||' or e[0] == 'b||':\n",
    "            number_of_bars += 1\n",
    "    bars.append(number_of_bars)\n",
    "    \n",
    "print(len(bars))\n",
    "print(bars)\n",
    "\n",
    "repeat_times = 4\n",
    "minimum = 64\n",
    "new_dataset = []\n",
    "for i, song in enumerate(dataset):\n",
    "    new_song = []\n",
    "    if bars[i] < minimum:\n",
    "        #repeat the song again\n",
    "        intro = song[0:2]\n",
    "        s = song[2:]\n",
    "        new_song = intro\n",
    "        for i in range(repeat_times):\n",
    "            new_song+=s\n",
    "    \n",
    "        new_dataset.append(new_song)\n",
    "    else:\n",
    "        new_dataset.append(song)\n",
    "\n",
    "   "
   ]
  },
  {
   "cell_type": "code",
   "execution_count": 216,
   "metadata": {},
   "outputs": [
    {
     "name": "stdout",
     "output_type": "stream",
     "text": [
      "4006\n",
      "[156, 164, 160, 148, 216, 73, 128, 184, 128, 132, 128, 212, 188, 132, 220, 80, 128, 120, 40, 144, 248, 168, 228, 112, 228, 128, 144, 40, 132, 200, 128, 128, 128, 128, 40, 64, 196, 152, 128, 80, 128, 116, 164, 68, 144, 52, 212, 144, 128, 96, 128, 88, 152, 128, 116, 176, 92, 128, 66, 68, 180, 132, 220, 212, 248, 112, 144, 128, 52, 92, 224, 128, 64, 144, 160, 112, 68, 132, 40, 132, 64, 104, 128, 128, 128, 75, 85, 68, 96, 188, 180, 180, 84, 160, 132, 192, 64, 104, 128, 128, 212, 160, 160, 128, 128, 128, 32, 140, 76, 76, 232, 232, 140, 172, 196, 128, 135, 96, 96, 220, 220, 220, 228, 212, 128, 128, 128, 74, 136, 92, 73, 128, 128, 128, 65, 65, 160, 160, 144, 132, 136, 167, 180, 128, 94, 128, 192, 128, 132, 160, 128, 93, 80, 80, 128, 192, 192, 40, 120, 128, 128, 160, 172, 96, 128, 128, 103, 128, 128, 148, 164, 212, 232, 208, 99, 144, 124, 128, 128, 212, 212, 128, 144, 136, 136, 208, 128, 64, 128, 97, 148, 148, 148, 176, 112, 144, 156, 156, 184, 176, 128, 136, 136, 128, 56, 70, 188, 188, 168, 168, 96, 96, 128, 196, 192, 96, 232, 196, 128, 124, 124, 128, 128, 84, 84, 164, 64, 64, 116, 152, 192, 208, 208, 204, 204, 65, 65, 236, 132, 176, 176, 184, 132, 148, 70, 69, 71, 71, 81, 148, 208, 176, 85, 83, 93, 168, 128, 125, 132, 128, 80, 176, 156, 97, 80, 236, 192, 228, 95, 67, 128, 200, 64, 74, 76, 148, 244, 92, 132, 96, 128, 236, 96, 192, 128, 112, 79, 172, 172, 124, 128, 128, 112, 128, 192, 128, 192, 77, 77, 224, 204, 204, 160, 160, 76, 148, 128, 116, 128, 104, 104, 96, 69, 80, 80, 228, 164, 132, 136, 132, 128, 67, 128, 152, 128, 112, 112, 208, 128, 128, 128, 153, 128, 128, 106, 101, 40, 48, 65, 140, 128, 132, 96, 132, 144, 144, 208, 168, 128, 128, 192, 128, 216, 72, 112, 48, 228, 160, 128, 70, 36, 128, 136, 204, 145, 132, 128, 64, 48, 48, 144, 212, 164, 85, 105, 74, 128, 128, 144, 128, 216, 88, 128, 132, 144, 64, 64, 48, 152, 192, 69, 156, 100, 100, 132, 144, 104, 88, 88, 128, 84, 64, 124, 124, 144, 248, 128, 144, 144, 132, 128, 220, 64, 148, 132, 128, 128, 148, 128, 100, 128, 184, 77, 128, 101, 96, 96, 128, 152, 120, 196, 128, 101, 204, 172, 96, 64, 188, 148, 220, 220, 128, 128, 160, 73, 228, 216, 48, 144, 216, 152, 104, 232, 128, 128, 128, 144, 192, 96, 128, 66, 168, 32, 236, 128, 128, 212, 128, 73, 48, 224, 48, 128, 252, 128, 128, 112, 160, 224, 132, 152, 176, 103, 96, 160, 160, 128, 64, 128, 64, 148, 148, 32, 172, 48, 100, 128, 192, 72, 32, 64, 128, 128, 132, 132, 112, 136, 128, 96, 128, 128, 48, 128, 128, 128, 128, 128, 48, 81, 128, 86, 128, 128, 232, 70, 128, 128, 104, 48, 48, 48, 96, 48, 48, 48, 96, 48, 48, 48, 48, 48, 48, 48, 48, 48, 48, 104, 116, 48, 48, 100, 104, 48, 48, 232, 70, 128, 96, 96, 80, 128, 232, 128, 180, 200, 200, 73, 73, 88, 128, 48, 64, 64, 200, 132, 132, 128, 128, 240, 64, 160, 68, 128, 196, 184, 76, 100, 152, 101, 196, 66, 128, 128, 64, 252, 148, 82, 65, 65, 88, 128, 224, 79, 91, 116, 124, 160, 128, 78, 66, 100, 100, 204, 152, 128, 128, 83, 104, 64, 168, 128, 100, 128, 144, 168, 64, 81, 78, 64, 224, 224, 104, 64, 77, 128, 100, 132, 160, 104, 232, 132, 128, 128, 132, 188, 228, 128, 192, 104, 64, 196, 196, 144, 128, 128, 128, 128, 128, 132, 48, 128, 160, 160, 48, 128, 88, 224, 176, 108, 108, 104, 124, 116, 100, 64, 64, 100, 224, 144, 228, 140, 92, 148, 148, 160, 192, 180, 180, 74, 87, 156, 98, 128, 84, 133, 128, 94, 68, 192, 128, 244, 112, 112, 64, 112, 112, 196, 196, 236, 220, 104, 104, 88, 192, 192, 100, 96, 96, 80, 80, 232, 228, 196, 64, 112, 64, 200, 128, 240, 236, 236, 128, 128, 87, 164, 164, 220, 220, 132, 94, 100, 68, 80, 84, 40, 40, 196, 196, 89, 136, 40, 128, 85, 128, 92, 92, 240, 71, 228, 88, 40, 136, 224, 110, 82, 192, 128, 128, 48, 148, 96, 196, 196, 196, 128, 160, 132, 76, 76, 200, 200, 152, 152, 132, 72, 192, 84, 128, 48, 48, 131, 128, 152, 128, 128, 204, 204, 81, 112, 48, 128, 128, 128, 128, 128, 80, 103, 196, 92, 100, 84, 160, 196, 128, 66, 128, 64, 216, 80, 88, 80, 176, 73, 104, 176, 176, 248, 128, 96, 66, 100, 192, 163, 152, 152, 64, 64, 176, 176, 48, 104, 128, 108, 236, 104, 104, 200, 64, 128, 79, 188, 128, 96, 128, 132, 232, 232, 128, 86, 224, 72, 152, 73, 184, 84, 128, 196, 196, 128, 132, 180, 196, 96, 104, 128, 144, 144, 64, 68, 144, 132, 144, 88, 132, 72, 72, 70, 108, 127, 160, 116, 128, 96, 160, 32, 188, 200, 200, 184, 184, 120, 120, 82, 82, 69, 69, 65, 100, 100, 224, 128, 128, 96, 128, 76, 160, 66, 48, 232, 80, 232, 69, 128, 128, 128, 76, 77, 123, 124, 48, 192, 196, 144, 96, 208, 124, 128, 104, 136, 64, 128, 128, 148, 160, 80, 128, 212, 64, 144, 128, 148, 81, 72, 64, 164, 91, 128, 128, 192, 91, 128, 79, 48, 96, 100, 100, 96, 73, 64, 196, 128, 152, 152, 128, 228, 128, 192, 128, 128, 128, 200, 200, 216, 100, 128, 101, 132, 128, 40, 40, 148, 68, 99, 89, 64, 176, 128, 52, 128, 128, 128, 128, 75, 88, 152, 152, 176, 176, 140, 140, 196, 48, 79, 64, 200, 200, 68, 68, 168, 168, 196, 89, 128, 156, 156, 136, 244, 180, 180, 52, 176, 128, 128, 65, 128, 89, 88, 128, 192, 64, 100, 128, 196, 96, 128, 252, 128, 112, 40, 80, 140, 132, 212, 128, 128, 212, 112, 64, 200, 168, 168, 128, 200, 164, 164, 128, 60, 112, 128, 128, 128, 64, 196, 116, 116, 160, 128, 121, 83, 104, 160, 152, 140, 96, 96, 96, 204, 204, 160, 129, 148, 212, 128, 132, 128, 128, 128, 132, 128, 128, 128, 150, 128, 204, 69, 68, 140, 128, 128, 132, 244, 73, 92, 212, 128, 128, 100, 128, 160, 213, 213, 108, 108, 128, 220, 95, 244, 220, 48, 128, 128, 128, 128, 128, 184, 132, 132, 128, 77, 128, 216, 64, 128, 140, 113, 212, 212, 96, 128, 192, 128, 144, 128, 160, 132, 80, 128, 144, 84, 128, 128, 160, 156, 192, 132, 200, 200, 88, 88, 128, 128, 64, 128, 144, 144, 128, 132, 128, 96, 128, 64, 128, 128, 67, 73, 82, 176, 112, 68, 128, 132, 100, 164, 92, 92, 48, 128, 184, 128, 216, 72, 168, 232, 56, 96, 128, 104, 152, 128, 160, 160, 224, 228, 164, 64, 84, 64, 92, 64, 128, 48, 172, 128, 128, 124, 128, 68, 184, 184, 172, 172, 180, 164, 144, 144, 80, 128, 128, 72, 72, 120, 120, 136, 132, 108, 108, 88, 88, 128, 200, 104, 160, 75, 73, 128, 196, 128, 85, 156, 196, 104, 128, 128, 65, 128, 128, 128, 82, 224, 232, 148, 104, 128, 132, 104, 132, 132, 128, 128, 152, 152, 77, 64, 72, 108, 152, 128, 172, 40, 64, 200, 128, 64, 32, 248, 96, 156, 156, 48, 100, 128, 128, 64, 91, 232, 128, 192, 128, 204, 204, 86, 160, 192, 128, 216, 136, 144, 108, 228, 96, 108, 108, 160, 74, 96, 104, 68, 68, 108, 180, 188, 252, 112, 96, 152, 136, 85, 144, 208, 132, 136, 192, 128, 128, 48, 89, 180, 96, 96, 104, 128, 104, 128, 84, 164, 128, 124, 112, 128, 128, 188, 132, 148, 100, 127, 128, 72, 70, 97, 128, 103, 79, 128, 66, 128, 96, 96, 192, 192, 80, 80, 71, 148, 148, 144, 88, 124, 128, 128, 96, 93, 128, 96, 132, 132, 96, 196, 128, 212, 102, 102, 128, 128, 71, 116, 128, 152, 188, 128, 168, 168, 96, 128, 64, 140, 128, 132, 64, 128, 128, 65, 123, 164, 188, 100, 160, 56, 228, 196, 48, 104, 252, 132, 80, 32, 108, 98, 192, 164, 192, 204, 216, 224, 96, 93, 228, 128, 104, 64, 64, 48, 132, 136, 80, 80, 132, 192, 40, 184, 64, 64, 128, 112, 128, 128, 72, 128, 156, 220, 128, 128, 128, 128, 128, 64, 86, 128, 48, 232, 115, 114, 89, 136, 192, 115, 128, 132, 96, 80, 120, 180, 172, 96, 192, 152, 60, 160, 128, 128, 164, 32, 48, 104, 80, 132, 161, 136, 228, 128, 128, 128, 196, 116, 116, 244, 244, 132, 160, 128, 103, 128, 128, 216, 204, 128, 64, 144, 81, 79, 64, 64, 228, 64, 144, 70, 128, 68, 132, 168, 148, 228, 128, 232, 200, 64, 64, 192, 112, 128, 80, 128, 232, 112, 100, 128, 64, 96, 180, 180, 152, 68, 128, 65, 224, 70, 68, 248, 148, 144, 220, 176, 152, 144, 236, 184, 128, 88, 104, 136, 132, 224, 136, 120, 184, 116, 172, 75, 132, 132, 164, 160, 192, 69, 72, 72, 72, 128, 164, 148, 200, 128, 81, 69, 128, 156, 196, 212, 192, 144, 184, 144, 66, 184, 128, 136, 136, 89, 89, 105, 96, 240, 200, 83, 200, 92, 128, 176, 64, 168, 121, 152, 128, 112, 72, 196, 116, 128, 65, 224, 72, 132, 132, 132, 134, 96, 128, 128, 120, 232, 128, 128, 88, 108, 128, 128, 128, 128, 128, 180, 92, 136, 72, 128, 236, 78, 128, 104, 144, 127, 244, 64, 248, 192, 128, 128, 128, 116, 72, 104, 132, 64, 64, 128, 128, 132, 160, 128, 144, 144, 128, 192, 64, 64, 232, 88, 128, 192, 64, 92, 112, 128, 144, 148, 192, 128, 152, 80, 128, 144, 128, 140, 228, 98, 64, 92, 176, 128, 128, 128, 128, 128, 72, 128, 252, 128, 136, 136, 128, 172, 72, 120, 164, 144, 76, 136, 152, 144, 70, 128, 86, 128, 98, 128, 71, 128, 152, 128, 83, 128, 112, 144, 128, 78, 128, 67, 136, 196, 128, 64, 128, 128, 172, 172, 80, 200, 252, 128, 128, 128, 128, 128, 128, 136, 112, 128, 128, 128, 152, 128, 128, 208, 208, 70, 160, 79, 128, 72, 72, 132, 132, 128, 252, 144, 144, 144, 160, 144, 128, 128, 144, 144, 128, 192, 128, 184, 71, 72, 128, 128, 82, 64, 101, 140, 128, 72, 72, 224, 128, 128, 224, 224, 80, 80, 128, 128, 128, 128, 128, 192, 192, 88, 96, 148, 80, 140, 224, 74, 112, 128, 184, 128, 128, 144, 96, 67, 128, 128, 140, 128, 112, 128, 96, 64, 64, 128, 160, 128, 144, 188, 66, 128, 65, 128, 128, 128, 128, 172, 176, 176, 128, 128, 168, 168, 168, 128, 95, 152, 128, 216, 72, 72, 128, 164, 228, 128, 128, 128, 128, 128, 128, 148, 108, 96, 252, 66, 100, 168, 48, 192, 116, 64, 128, 136, 160, 212, 128, 128, 144, 128, 128, 148, 128, 236, 236, 148, 48, 80, 80, 132, 132, 128, 128, 248, 128, 128, 208, 136, 136, 144, 64, 128, 168, 65, 128, 95, 65, 144, 75, 128, 128, 136, 240, 240, 64, 144, 128, 128, 228, 128, 48, 109, 128, 128, 81, 128, 128, 97, 97, 176, 120, 248, 64, 196, 212, 128, 160, 140, 176, 128, 192, 96, 132, 71, 128, 224, 140, 128, 128, 40, 144, 64, 64, 136, 40, 81, 96, 132, 120, 180, 128, 96, 96, 85, 75, 128, 48, 144, 80, 180, 64, 132, 128, 128, 128, 128, 128, 208, 208, 128, 128, 139, 80, 79, 108, 128, 196, 136, 72, 132, 160, 192, 232, 128, 128, 87, 184, 128, 132, 74, 101, 104, 196, 236, 208, 196, 192, 113, 160, 96, 64, 128, 220, 81, 107, 90, 79, 101, 164, 196, 128, 144, 192, 108, 200, 96, 192, 80, 112, 112, 128, 74, 136, 64, 69, 212, 200, 136, 148, 102, 192, 240, 240, 104, 128, 152, 132, 132, 200, 208, 128, 128, 64, 152, 76, 140, 172, 72, 128, 224, 100, 97, 104, 96, 64, 64, 128, 160, 120, 128, 64, 128, 244, 32, 64, 97, 228, 70, 200, 224, 40, 128, 128, 136, 132, 132, 128, 228, 128, 128, 128, 71, 128, 71, 82, 92, 103, 101, 128, 128, 100, 244, 212, 32, 65, 72, 168, 204, 228, 92, 128, 96, 100, 64, 188, 68, 128, 128, 128, 128, 224, 248, 64, 64, 128, 124, 72, 248, 248, 224, 80, 68, 128, 128, 204, 128, 136, 128, 128, 124, 216, 92, 196, 92, 196, 80, 128, 136, 68, 224, 236, 244, 196, 128, 224, 128, 176, 104, 87, 64, 128, 73, 168, 168, 240, 228, 192, 232, 108, 116, 96, 64, 70, 200, 196, 236, 128, 128, 128, 140, 66, 96, 96, 128, 128, 71, 79, 79, 212, 66, 100, 204, 192, 228, 244, 132, 120, 164, 118, 180, 128, 128, 128, 128, 112, 132, 132, 144, 216, 252, 65, 160, 128, 164, 80, 104, 240, 192, 96, 64, 100, 87, 76, 72, 167, 148, 132, 192, 160, 128, 128, 40, 40, 164, 112, 152, 228, 108, 180, 84, 92, 128, 66, 77, 232, 216, 100, 69, 69, 128, 128, 132, 128, 200, 99, 52, 64, 128, 148, 119, 132, 200, 88, 97, 80, 80, 160, 69, 156, 252, 116, 180, 136, 128, 128, 244, 208, 79, 168, 164, 152, 128, 128, 96, 180, 196, 144, 128, 132, 140, 120, 128, 96, 128, 196, 40, 40, 160, 160, 236, 80, 113, 168, 67, 132, 69, 228, 176, 65, 108, 116, 40, 188, 188, 180, 188, 66, 140, 252, 105, 96, 96, 200, 82, 108, 96, 140, 68, 160, 164, 164, 160, 128, 128, 116, 72, 105, 71, 80, 80, 124, 108, 108, 128, 164, 128, 144, 108, 83, 64, 96, 152, 128, 108, 160, 48, 128, 112, 32, 200, 192, 96, 132, 120, 128, 212, 84, 144, 152, 128, 160, 87, 172, 152, 132, 128, 66, 184, 64, 160, 75, 73, 128, 160, 160, 160, 132, 144, 91, 192, 152, 32, 75, 71, 132, 136, 116, 116, 128, 176, 128, 160, 240, 128, 240, 164, 236, 160, 128, 40, 40, 128, 180, 128, 128, 128, 132, 228, 148, 132, 48, 164, 152, 128, 68, 224, 116, 172, 248, 172, 176, 236, 128, 96, 128, 67, 67, 96, 112, 73, 128, 144, 71, 132, 128, 128, 64, 114, 128, 136, 132, 128, 136, 136, 128, 128, 128, 128, 192, 128, 152, 248, 96, 90, 176, 140, 224, 224, 75, 148, 120, 70, 216, 76, 64, 64, 100, 120, 160, 128, 132, 188, 64, 75, 128, 136, 104, 64, 152, 236, 236, 112, 112, 66, 96, 128, 192, 80, 168, 83, 236, 144, 144, 136, 160, 192, 64, 84, 128, 152, 66, 85, 108, 128, 132, 128, 156, 105, 172, 144, 144, 220, 212, 64, 152, 140, 144, 216, 112, 115, 172, 172, 144, 40, 40, 48, 152, 160, 64, 132, 82, 96, 176, 176, 168, 108, 192, 212, 128, 48, 78, 78, 252, 128, 100, 48, 98, 212, 128, 212, 200, 108, 108, 104, 36, 36, 80, 64, 64, 72, 140, 140, 244, 128, 196, 36, 36, 96, 77, 132, 136, 116, 116, 172, 168, 78, 78, 108, 108, 224, 71, 96, 103, 92, 172, 204, 204, 84, 84, 112, 112, 212, 40, 128, 99, 99, 100, 100, 240, 68, 240, 96, 128, 128, 132, 128, 132, 164, 148, 128, 128, 68, 88, 236, 104, 128, 192, 128, 128, 79, 196, 128, 80, 66, 112, 192, 136, 136, 144, 128, 64, 128, 128, 64, 192, 64, 64, 176, 128, 176, 128, 144, 136, 144, 176, 168, 69, 80, 128, 244, 105, 73, 192, 160, 71, 116, 200, 188, 104, 240, 160, 71, 192, 64, 48, 128, 78, 124, 128, 128, 124, 128, 104, 104, 220, 128, 128, 200, 200, 196, 82, 132, 212, 240, 100, 188, 94, 104, 82, 244, 116, 92, 92, 212, 236, 236, 89, 128, 224, 248, 136, 71, 67, 228, 228, 69, 69, 112, 64, 156, 168, 152, 116, 32, 128, 48, 232, 48, 144, 98, 132, 132, 168, 128, 128, 136, 168, 168, 68, 96, 116, 116, 40, 180, 66, 66, 96, 216, 104, 104, 84, 160, 196, 144, 144, 96, 104, 104, 128, 232, 192, 64, 128, 184, 101, 192, 184, 72, 72, 128, 180, 104, 132, 104, 96, 192, 48, 132, 144, 128, 126, 64, 64, 90, 64, 95, 192, 192, 244, 104, 232, 72, 176, 180, 96, 64, 88, 128, 252, 97, 176, 164, 204, 204, 92, 200, 200, 132, 121, 128, 76, 115, 128, 128, 160, 128, 220, 220, 76, 128, 111, 188, 252, 94, 40, 228, 48, 128, 128, 144, 144, 128, 128, 168, 64, 96, 128, 128, 71, 128, 80, 80, 64, 73, 108, 132, 132, 140, 140, 127, 128, 208, 192, 132, 252, 156, 68, 68, 200, 200, 116, 116, 128, 192, 128, 164, 132, 132, 36, 36, 70, 70, 112, 236, 236, 160, 228, 136, 196, 128, 96, 176, 208, 74, 128, 77, 184, 128, 64, 160, 192, 64, 80, 96, 48, 128, 128, 128, 114, 66, 48, 84, 132, 236, 68, 68, 148, 148, 244, 89, 104, 196, 196, 160, 132, 128, 132, 96, 81, 81, 73, 69, 92, 132, 128, 244, 156, 128, 48, 66, 83, 248, 71, 85, 128, 144, 133, 136, 60, 78, 120, 64, 116, 73, 160, 72, 128, 128, 128, 156, 164, 96, 48, 232, 80, 144, 128, 128, 132, 128, 128, 160, 108, 76, 216, 132, 117, 128, 160, 160, 77, 69, 156, 156, 168, 184, 48, 72, 88, 96, 67, 96, 88, 196, 200, 48, 48, 101, 101, 72, 72, 124, 124, 220, 156, 164, 208, 128, 64, 73, 48, 148, 138, 144, 128, 80, 115, 70, 212, 212, 64, 79, 156, 64, 128, 66, 80, 224, 71, 152, 128, 128, 152, 152, 40, 96, 96, 124, 220, 196, 60, 136, 96, 96, 220, 90, 128, 140, 70, 70, 172, 96, 176, 96, 204, 104, 144, 132, 128, 128, 85, 92, 64, 96, 108, 56, 128, 128, 76, 75, 96, 192, 128, 128, 132, 95, 90, 133, 164, 66, 208, 220, 252, 220, 128, 128, 132, 156, 86, 83, 128, 48, 160, 112, 173, 128, 236, 98, 180, 244, 112, 88, 176, 128, 128, 77, 80, 48, 96, 96, 188, 140, 96, 192, 192, 128, 110, 108, 240, 112, 248, 248, 96, 88, 220, 132, 132, 79, 85, 236, 128, 72, 110, 128, 128, 192, 144, 180, 132, 136, 128, 64, 48, 168, 208, 71, 248, 72, 204, 176, 176, 128, 128, 137, 64, 128, 128, 240, 128, 80, 140, 128, 69, 48, 128, 240, 88, 136, 128, 48, 128, 128, 128, 130, 128, 128, 128, 128, 136, 172, 73, 172, 144, 128, 144, 128, 200, 144, 100, 240, 144, 184, 132, 96, 236, 236, 224, 224, 156, 156, 48, 128, 128, 128, 156, 156, 204, 204, 112, 112, 172, 128, 128, 128, 128, 208, 96, 216, 184, 204, 80, 96, 80, 132, 180, 82, 80, 176, 176, 144, 104, 32, 48, 136, 64, 144, 144, 128, 91, 104, 192, 148, 148, 128, 200, 128, 92, 128, 98, 48, 196, 87, 132, 128, 200, 136, 93, 152, 100, 96, 128, 144, 128, 96, 48, 196, 128, 101, 96, 128, 93, 99, 80, 128, 128, 83, 128, 160, 144, 108, 128, 128, 132, 128, 160, 112, 64, 108, 119, 96, 148, 71, 152, 144, 128, 64, 64, 86, 96, 64, 64, 208, 160, 180, 115, 115, 72, 87, 164, 128, 212, 128, 28, 132, 87, 96, 64, 128, 48, 128, 128, 94, 132, 128, 160, 160, 100, 96, 84, 196, 88, 232, 128, 136, 164, 128, 96, 104, 64, 130, 100, 100, 128, 128, 132, 96, 104, 96, 112, 116, 160, 160, 128, 128, 72, 128, 128, 96, 132, 128, 128, 128, 112, 112, 104, 104, 128, 75, 128, 228, 128, 128, 128, 128, 128, 196, 192, 232, 248, 248, 104, 104, 104, 176, 132, 128, 188, 136, 136, 48, 136, 69, 172, 48, 128, 72, 128, 128, 128, 128, 128, 128, 128, 128, 82, 72, 88, 64, 32, 83, 128, 148, 72, 128, 144, 128, 65, 128, 128, 128, 128, 136, 128, 132, 100, 64, 172, 116, 132, 64, 196, 132, 240, 164, 128, 64, 73, 196, 176, 124, 128, 111, 152, 160, 72, 128, 128, 82, 128, 132, 208, 84, 128, 128, 99, 172, 120, 240, 100, 136, 187, 48, 128, 48, 156, 192, 132, 136, 132, 240, 128, 252, 141, 156, 192, 128, 128, 228, 176, 168, 128, 188, 66, 176, 128, 240, 120, 196, 192, 132, 196, 160, 128, 96, 128, 152, 144, 128, 64, 64, 136, 220, 224, 68, 132, 144, 128, 83, 64, 64, 72, 152, 88, 120, 112, 192, 102, 160, 48, 128, 128, 148, 128, 128, 212, 140, 128, 144, 112, 128, 100, 72, 128, 65, 128, 156, 128, 72, 152, 128, 128, 65, 220, 128, 128, 104, 144, 128, 128, 128, 48, 192, 132, 244, 128, 128, 128, 208, 128, 128, 128, 240, 87, 128, 112, 128, 136, 108, 134, 132, 104, 148, 81, 128, 71, 128, 240, 64, 180, 180, 128, 70, 114, 128, 152, 203, 128, 104, 240, 135, 78, 64, 64, 196, 128, 128, 128, 128, 84, 128, 104, 40, 68, 68, 68, 192, 96, 73, 66, 128, 128, 136, 100, 136, 64, 160, 192, 208, 128, 128, 128, 160, 160, 128, 128, 168, 128, 128, 85, 64, 128, 128, 128, 112, 64, 128, 64, 64, 128, 48, 176, 160, 132, 132, 144, 128, 128, 112, 132, 72, 56, 136, 116, 116, 84, 84, 232, 132, 128, 128, 136, 140, 70, 248, 104, 128, 160, 48, 100, 204, 180, 124, 84, 96, 128, 132, 128, 188, 64, 132, 128, 120, 68, 68, 120, 112, 96, 248, 84, 176, 148, 128, 128, 208, 99, 160, 80, 128, 128, 248, 176, 128, 96, 200, 71, 176, 69, 252, 128, 188, 158, 160, 156, 156, 68, 68, 180, 180, 36, 36, 95, 113, 236, 96, 64, 83, 75, 75, 132, 80, 228, 147, 100, 100, 96, 152, 80, 220, 139, 248, 148, 148, 220, 128, 232, 116, 232, 148, 244, 128, 128, 180, 116, 212, 123, 109, 111, 117, 128, 176, 160, 100, 100, 184, 184, 100, 172, 168, 152, 164, 164, 116, 116, 164, 100, 128, 128, 100, 160, 216, 94, 212, 176, 136, 128, 132, 48, 97, 212, 66, 108, 80, 128, 69, 144, 144, 144, 64, 64, 64, 180, 180, 64, 216, 164, 132, 189, 64, 128, 220, 128, 100, 87, 132, 136, 73, 148, 128, 128, 64, 180, 96, 128, 160, 132, 128, 98, 128, 73, 85, 128, 128, 128, 244, 77, 64, 128, 128, 128, 64, 88, 156, 156, 128, 128, 252, 128, 128, 99, 160, 160, 118, 64, 64, 128, 73, 128, 128, 128, 95, 128, 208, 144, 128, 48, 128, 79, 89, 160, 160, 68, 128, 106, 64, 244, 96, 160, 160, 64, 156, 100, 128, 224, 176, 108, 79, 96, 196, 66, 83, 236, 107, 132, 69, 64, 128, 136, 236, 148, 128, 128, 128, 68, 128, 64, 69, 180, 100, 200, 69, 64, 200, 64, 73, 236, 132, 132, 152, 244, 128, 128, 96, 128, 128, 128, 123, 128, 128, 128, 128, 160, 160, 104, 224, 117, 79, 128, 228, 128, 128, 164, 164, 104, 104, 156, 152, 64, 128, 79, 128, 128, 128, 64, 128, 68, 112, 236, 236, 128, 128, 148, 128, 192, 128, 128, 82, 101, 128, 128, 136, 160, 128, 112, 224, 128, 196, 128, 132, 152, 152, 40, 164, 164, 132, 86, 104, 156]\n"
     ]
    },
    {
     "data": {
      "text/plain": [
       "<seaborn.axisgrid.FacetGrid at 0x7f0740d0f370>"
      ]
     },
     "execution_count": 216,
     "metadata": {},
     "output_type": "execute_result"
    },
    {
     "data": {
      "image/png": "[encoded data removed]",
      "text/plain": [
       "<Figure size 500x500 with 1 Axes>"
      ]
     },
     "metadata": {},
     "output_type": "display_data"
    }
   ],
   "source": [
    "bars = []\n",
    "for song in new_dataset:\n",
    "    number_of_bars = 0\n",
    "    for i, e in enumerate(song):\n",
    "        if e[0] == '|' or e[0] == 'e||' or e[0] == 'b||':\n",
    "            number_of_bars += 1\n",
    "    bars.append(number_of_bars)\n",
    "    \n",
    "print(len(bars))\n",
    "print(bars)\n",
    "\n",
    "import seaborn as sns\n",
    "\n",
    "#visualize the bars length of the songs\n",
    "sns.displot(bars, kde=False, bins=100)"
   ]
  },
  {
   "cell_type": "code",
   "execution_count": 224,
   "metadata": {},
   "outputs": [],
   "source": [
    "'''\n",
    "Extend all Chords to 12 Note References\n",
    "C, Db, D, Eb, E, F, Gb, G, Ab, A, Bb, B\n",
    "'''\n",
    "\n",
    "C_cycle_of_fifth = ['C', 'G', 'D', 'A', 'E', 'B', 'F#', 'C#', 'Ab', 'Eb', 'Bb', 'F']\n",
    "Csharp_cycle_of_fifth = ['C#', 'Ab', 'Eb', 'Bb', 'F', 'C', 'G', 'D', 'A', 'E', 'B', 'F#']\n",
    "D_cycle_of_fifth = ['D', 'A', 'E', 'B', 'F#', 'C#', 'Ab', 'Eb', 'Bb', 'F', 'C', 'G']\n",
    "Eb_cycle_of_fifth = ['Eb', 'Bb', 'F', 'C', 'G', 'D', 'A', 'E', 'B', 'F#', 'C#', 'Ab']\n",
    "E_cycle_of_fifth = ['E', 'B', 'F#', 'C#', 'Ab', 'Eb', 'Bb', 'F', 'C', 'G', 'D', 'A']\n",
    "F_cycle_of_fifth = ['F', 'C', 'G', 'D', 'A', 'E', 'B', 'F#', 'C#', 'Ab', 'Eb', 'Bb']\n",
    "Fsharp_cycle_of_fifth = ['F#', 'C#', 'Ab', 'Eb', 'Bb', 'F', 'C', 'G', 'D', 'A', 'E', 'B']\n",
    "G_cycle_of_fifth = ['G', 'D', 'A', 'E', 'B', 'F#', 'C#', 'Ab', 'Eb', 'Bb', 'F', 'C']\n",
    "Ab_cycle_of_fifth = ['Ab', 'Eb', 'Bb', 'F', 'C', 'G', 'D', 'A', 'E', 'B', 'F#', 'C#']\n",
    "A_cycle_of_fifth = ['A', 'E', 'B', 'F#', 'C#', 'Ab', 'Eb', 'Bb', 'F', 'C', 'G', 'D']\n",
    "Bb_cycle_of_fifth = ['Bb', 'F', 'C', 'G', 'D', 'A', 'E', 'B', 'F#', 'C#', 'Ab', 'Eb']\n",
    "B_cycle_of_fifth = ['B', 'F#', 'C#', 'Ab', 'Eb', 'Bb', 'F', 'C', 'G', 'D', 'A', 'E']\n"
   ]
  },
  {
   "cell_type": "code",
   "execution_count": 223,
   "metadata": {},
   "outputs": [
    {
     "name": "stdout",
     "output_type": "stream",
     "text": [
      "C_cycle_of_fifth = ['C', 'G', 'D', 'A', 'E', 'B', 'F#', 'C#', 'Ab', 'Eb', 'Bb', 'F']\n",
      "C#_cycle_of_fifth = ['C#', 'Ab', 'Eb', 'Bb', 'F', 'C', 'G', 'D', 'A', 'E', 'B', 'F#']\n",
      "D_cycle_of_fifth = ['D', 'A', 'E', 'B', 'F#', 'C#', 'Ab', 'Eb', 'Bb', 'F', 'C', 'G']\n",
      "Eb_cycle_of_fifth = ['Eb', 'Bb', 'F', 'C', 'G', 'D', 'A', 'E', 'B', 'F#', 'C#', 'Ab']\n",
      "E_cycle_of_fifth = ['E', 'B', 'F#', 'C#', 'Ab', 'Eb', 'Bb', 'F', 'C', 'G', 'D', 'A']\n",
      "F_cycle_of_fifth = ['F', 'C', 'G', 'D', 'A', 'E', 'B', 'F#', 'C#', 'Ab', 'Eb', 'Bb']\n",
      "F#_cycle_of_fifth = ['F#', 'C#', 'Ab', 'Eb', 'Bb', 'F', 'C', 'G', 'D', 'A', 'E', 'B']\n",
      "G_cycle_of_fifth = ['G', 'D', 'A', 'E', 'B', 'F#', 'C#', 'Ab', 'Eb', 'Bb', 'F', 'C']\n",
      "Ab_cycle_of_fifth = ['Ab', 'Eb', 'Bb', 'F', 'C', 'G', 'D', 'A', 'E', 'B', 'F#', 'C#']\n",
      "A_cycle_of_fifth = ['A', 'E', 'B', 'F#', 'C#', 'Ab', 'Eb', 'Bb', 'F', 'C', 'G', 'D']\n",
      "Bb_cycle_of_fifth = ['Bb', 'F', 'C', 'G', 'D', 'A', 'E', 'B', 'F#', 'C#', 'Ab', 'Eb']\n",
      "B_cycle_of_fifth = ['B', 'F#', 'C#', 'Ab', 'Eb', 'Bb', 'F', 'C', 'G', 'D', 'A', 'E']\n"
     ]
    }
   ],
   "source": [
    "# Define the Circle of Fifths starting from C\n",
    "C_cycle_of_fifth = ['C', 'G', 'D', 'A', 'E', 'B', 'F#', 'C#', 'Ab', 'Eb', 'Bb', 'F']\n",
    "\n",
    "# List of notes for which we want to create the Circle of Fifths\n",
    "notes = ['C', 'Db', 'D', 'Eb', 'E', 'F', 'Gb', 'G', 'Ab', 'A', 'Bb', 'B']\n",
    "\n",
    "# Replace 'Db' with 'C♯', 'Eb' with 'D♯', 'Gb' with 'F♯', 'Ab' with 'G♯', 'Bb' with 'A♯' for consistency with C_cycle_of_fifth\n",
    "notes = ['C', 'C#', 'D', 'Eb', 'E', 'F', 'F#', 'G', 'Ab', 'A', 'Bb', 'B']\n",
    "\n",
    "# Function to rotate the Circle of Fifths to start with the given note\n",
    "def rotate_list(lst, n):\n",
    "    return lst[-n:] + lst[:-n]\n",
    "\n",
    "# Create a dictionary to hold the Circle of Fifths for each note\n",
    "circles_of_fifths = {}\n",
    "\n",
    "# Populate the dictionary\n",
    "for note in notes:\n",
    "    index = C_cycle_of_fifth.index(note) if note in C_cycle_of_fifth else None\n",
    "    if index is not None:\n",
    "        # Rotate the C_cycle_of_fifth to start with the current note\n",
    "        circles_of_fifths[note] = rotate_list(C_cycle_of_fifth, -index)\n",
    "    else:\n",
    "        print(f\"Note {note} not found in the Circle of Fifths.\")\n",
    "\n",
    "# Display the Circle of Fifths for each note\n",
    "for note, cycle in circles_of_fifths.items():\n",
    "    print(f\"{note}_cycle_of_fifth = {cycle}\")"
   ]
  }
 ],
 "metadata": {
  "kernelspec": {
   "display_name": "Python 3",
   "language": "python",
   "name": "python3"
  },
  "language_info": {
   "codemirror_mode": {
    "name": "ipython",
    "version": 3
   },
   "file_extension": ".py",
   "mimetype": "text/x-python",
   "name": "python",
   "nbconvert_exporter": "python",
   "pygments_lexer": "ipython3",
   "version": "3.10.12"
  }
 },
 "nbformat": 4,
 "nbformat_minor": 2
}
