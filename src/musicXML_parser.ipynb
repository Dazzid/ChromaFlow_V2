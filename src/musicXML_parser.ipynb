{
 "cells": [
  {
   "cell_type": "code",
   "execution_count": 74,
   "metadata": {},
   "outputs": [],
   "source": [
    "import numpy as np\n",
    "import xmlTranslator as xmlT\n",
    "from tqdm import tqdm\n",
    "%reload_ext autoreload\n",
    "%autoreload 2\n",
    "import importlib\n",
    "from utils import get_project_root\n",
    "from ipywidgets import FloatProgress"
   ]
  },
  {
   "cell_type": "markdown",
   "metadata": {},
   "source": [
    "TODO: \n",
    "- Repeat the sequences 3 times\n",
    "- Clean all vocabulary into a concise repertoire \n",
    "- Add the maj nature\n",
    "- Extend all chords into 18 enharmonic\n",
    "- Split into train and test\n",
    "- create the new MIDI array \n",
    "- Pass the MIDI into Embeddings"
   ]
  },
  {
   "cell_type": "code",
   "execution_count": 21,
   "metadata": {},
   "outputs": [
    {
     "name": "stderr",
     "output_type": "stream",
     "text": [
      "100%|██████████| 4007/4007 [00:17<00:00, 229.18it/s]"
     ]
    },
    {
     "name": "stdout",
     "output_type": "stream",
     "text": [
      "(4006,) (4006,)\n",
      "(4006,) (4006,) 4006\n"
     ]
    },
    {
     "name": "stderr",
     "output_type": "stream",
     "text": [
      "\n"
     ]
    }
   ],
   "source": [
    "directory = '/data/iRealXML'\n",
    "root = get_project_root()\n",
    "myPath = str(root) + str(directory)\n",
    "\n",
    "theChordDataset, theOffsetDataset, all_meta = xmlT.parse_info_from_XML(myPath)\n",
    "print(theChordDataset.shape, theOffsetDataset.shape, len(all_meta))"
   ]
  },
  {
   "cell_type": "code",
   "execution_count": 22,
   "metadata": {},
   "outputs": [
    {
     "name": "stderr",
     "output_type": "stream",
     "text": [
      "100%|██████████| 4006/4006 [00:01<00:00, 3965.98it/s]\n"
     ]
    }
   ],
   "source": [
    "importlib.reload(xmlT)\n",
    "\n",
    "id = 0\n",
    "expand_form_dataset = []\n",
    "status = True\n",
    "for i in tqdm(range(theChordDataset.shape[0])):\n",
    "    song_structure, status = xmlT.expand_song_structure(theChordDataset[i], i)\n",
    "    if status == False:\n",
    "        print('Song:', all_meta[i])\n",
    "        id = i\n",
    "        break\n",
    "    song_structure = np.array(song_structure)\n",
    "    expand_form_dataset.append(song_structure)\n"
   ]
  },
  {
   "cell_type": "code",
   "execution_count": 9,
   "metadata": {},
   "outputs": [
    {
     "name": "stdout",
     "output_type": "stream",
     "text": [
      "{'composer': 'Chico Buarque', 'style': 'Samba', 'song_name': 'Apesar de Você  - In AB ABBB In 1', 'tonality': 'A major', 'midi_key': 21, 'time_signature': '4/4', 'decade': 'Null'}\n",
      "['<style>', 'Samba', '|:', '.', 'A', '69', 'add 9 alter #5', '.', 'E', '7', 'add 9 alter #5', '|', '.', 'A', '69', 'add 9 alter #5', '.', 'E', '7', 'add 9 alter #5', '|', '.', 'A', '69', 'add 9 alter #5', '.', 'E', '7', 'add 9 alter #5', '|', 'Repeat_1', '.', 'A', '69', 'add 9 alter #5', '.', 'E', '7', 'add 9 alter #5', ':|', '|', 'Repeat_2', '.', 'A', '69', 'add 9', '.', 'D', '7', '.', 'C#', '7', '|', '.', 'F#', 'm7', '.', 'F', '|', '.', 'C#', 'm7', 'alter b5', '.', 'F#', '7', '|', '.', 'B', '9', '.', 'E', '7', '|', '.', 'A', '69', 'add 9 alter #5', '.', 'C#', '7', 'add 9 alter #5', '|', '.', 'F#', 'm7', '.', 'F', '|', '.', 'C#', 'm7', 'alter b5', '|', '.', 'C#', 'm7', 'alter b5', '|', '.', 'F#', '7', '|', '.', 'B', '9', '.', 'E', '7', '|', '.', 'A', '6', '/', 'C', '.', 'D', 'm6', '|', '.', 'A', '6', '/', 'C', '.', 'D', 'm6', '|', '.', 'E', 'm6', '.', 'A', '9', '|', '.', 'D', 'maj7', '.', 'C#', '7', 'alter #5', '|', '.', 'F#', '7', 'add b9 add 4 subtract 3', '.', 'F#', '7', '|', '.', 'B', '9', '.', 'E', '7', '|', '.', 'A', '69', 'add 9', '.', 'E', '13', '|:', '.', 'A', '69', 'add 9', '.', 'C', 'N.C.', '|', 'Form_B', '.', 'A', '69', 'add 9', '|', '.', 'A', '69', 'add 9', '.', 'Bb', '|', '.', 'B', 'm7', '|', '.', 'E', '7', '|', '.', 'B', 'm7', '|', '.', 'E', '7', '|', '.', 'G#', 'm7', 'alter b5', '.', 'C#', '7', '|', '.', 'F#', '7', '|', '.', 'F#', '7', '|', '.', 'F#', '7', '.', 'G', '|', '.', 'B', 'm7', '/', 'F', '|', '.', 'D', 'm6', '/', 'F', '|', '.', 'F#', '7', '|', '.', 'B', '9', '.', 'E', '7', '|', 'Repeat_1', '.', 'A', '69', 'add 9 alter #5', '.', 'C#', '7', 'add 9 alter #5', '|', 'Repeat_3', '.', 'A', '69', 'add 9 alter #5', '.', 'E', '7', 'add 9 alter #5', ':|']\n",
      "['<style>', 'Samba', '|', '.', 'A', '69', 'add 9 alter #5', '.', 'E', '7', 'add 9 alter #5', '|', '.', 'A', '69', 'add 9 alter #5', '.', 'E', '7', 'add 9 alter #5', '|', '.', 'A', '69', 'add 9 alter #5', '.', 'E', '7', 'add 9 alter #5', '|', '.', 'A', '69', 'add 9 alter #5', '.', 'E', '7', 'add 9 alter #5', '.', 'A', '69', 'add 9 alter #5', '.', 'E', '7', 'add 9 alter #5', '|', '.', 'A', '69', 'add 9 alter #5', '.', 'E', '7', 'add 9 alter #5', '|', '.', 'A', '69', 'add 9 alter #5', '.', 'E', '7', 'add 9 alter #5', '|', '.', 'A', '69', 'add 9', '.', 'D', '7', '.', 'C#', '7', '|', '.', 'F#', 'm7', '.', 'F', '|', '.', 'C#', 'm7', 'alter b5', '.', 'F#', '7', '|', '.', 'B', '9', '.', 'E', '7', '|', '.', 'A', '69', 'add 9 alter #5', '.', 'C#', '7', 'add 9 alter #5', '|', '.', 'F#', 'm7', '.', 'F', '|', '.', 'C#', 'm7', 'alter b5', '|', '.', 'C#', 'm7', 'alter b5', '|', '.', 'F#', '7', '|', '.', 'B', '9', '.', 'E', '7', '|', '.', 'A', '6', '/', 'C', '.', 'D', 'm6', '|', '.', 'A', '6', '/', 'C', '.', 'D', 'm6', '|', '.', 'E', 'm6', '.', 'A', '9', '|', '.', 'D', 'maj7', '.', 'C#', '7', 'alter #5', '|', '.', 'F#', '7', 'add b9 add 4 subtract 3', '.', 'F#', '7', '|', '.', 'B', '9', '.', 'E', '7', '|', '.', 'A', '69', 'add 9', '.', 'E', '13', '|', '.', 'A', '69', 'add 9', '.', 'C', 'N.C.', '|', 'Form_B', '.', 'A', '69', 'add 9', '|', '.', 'A', '69', 'add 9', '.', 'Bb', '|', '.', 'B', 'm7', '|', '.', 'E', '7', '|', '.', 'B', 'm7', '|', '.', 'E', '7', '|', '.', 'G#', 'm7', 'alter b5', '.', 'C#', '7', '|', '.', 'F#', '7', '|', '.', 'F#', '7', '|', '.', 'F#', '7', '.', 'G', '|', '.', 'B', 'm7', '/', 'F', '|', '.', 'D', 'm6', '/', 'F', '|', '.', 'F#', '7', '|', '.', 'B', '9', '.', 'E', '7', '|', '.', 'A', '69', 'add 9 alter #5', '.', 'C#', '7', 'add 9 alter #5', '|', '.', 'A', '69', 'add 9 alter #5', '.', 'E', '7', 'add 9 alter #5', '.', 'A', '69', 'add 9', '.', 'C', 'N.C.', '|', 'Form_B', '.', 'A', '69', 'add 9', '|', '.', 'A', '69', 'add 9', '.', 'Bb', '|', '.', 'B', 'm7', '|', '.', 'E', '7', '|', '.', 'B', 'm7', '|', '.', 'E', '7', '|', '.', 'G#', 'm7', 'alter b5', '.', 'C#', '7', '|', '.', 'F#', '7', '|', '.', 'F#', '7', '|', '.', 'F#', '7', '.', 'G', '|', '.', 'B', 'm7', '/', 'F', '|', '.', 'D', 'm6', '/', 'F', '|', '.', 'F#', '7', '|', '.', 'B', '9', '.', 'E', '7', '|', 'Repeat_1', '.', 'A', '69', 'add 9 alter #5', '.', 'C#', '7', 'add 9 alter #5', '|', 'Repeat_3', '.', 'A', '69', 'add 9 alter #5', '.', 'E', '7', 'add 9 alter #5', '|']\n"
     ]
    }
   ],
   "source": [
    "import importlib\n",
    "importlib.reload(xmlT)\n",
    "id = 287\n",
    "print(all_meta[id])\n",
    "song_structure, status = xmlT.expand_song_structure(theChordDataset[id], 41)\n",
    "\n",
    "seq = theChordDataset[id].tolist()\n",
    "print(seq)\n",
    "print(song_structure)"
   ]
  },
  {
   "cell_type": "code",
   "execution_count": 23,
   "metadata": {},
   "outputs": [
    {
     "name": "stdout",
     "output_type": "stream",
     "text": [
      "Max: {'v': 1321, 'id': 141} Min: {'v': 30, 'id': 492}\n"
     ]
    }
   ],
   "source": [
    "#save the expanded dataset\n",
    "\n",
    "max = {'v': 0, 'id': 0}\n",
    "min = {'v': 1000, 'id': 0}\n",
    "\n",
    "for i in range(len(expand_form_dataset)):\n",
    "    if len(expand_form_dataset[i]) > max['v']:\n",
    "        max['v'] = len(expand_form_dataset[i])\n",
    "        max['id'] = i\n",
    "    if len(expand_form_dataset[i]) < min['v']:\n",
    "        min['v'] = len(expand_form_dataset[i])\n",
    "        min['id'] = i\n",
    "\n",
    "print('Max:', max, 'Min:', min)\n"
   ]
  },
  {
   "cell_type": "code",
   "execution_count": 24,
   "metadata": {},
   "outputs": [
    {
     "name": "stdout",
     "output_type": "stream",
     "text": [
      "372\n",
      "{'add b6', 'Up Swing', 'Medium Slow', 'alter b5 add #11', 'Folk-Rock', 'dim(maj7)', 'Soul', 'm69', 'add b13', '7b5#5*', 'add 9 add b13', 'sus2', '*ø11*', 'add b9 add 4 subtract 3 add #9 alter #5', 'Funk', 'Waltz', 'alter b9 alter b9', 'add #11 add 7', 'add b9 add b13', 'add #11 add #9 alter #5', 'add 4 subtract 3 add #9 alter #5', 'Bolero-Cha', 'add #9 add b9', \"Even 8's\", 'Samba Enredo', 'add #11', 'add #11 add #9', 'Gary Aprile', 'alter #5 alter b5', 'G', 'Db', 'm(add9)', 'Even 8ths', 'Folk Rock', '6b5*', 'Pop Rock', 'B', 'Pop Folk', 'Form_Segno', 'Medium Up Swing', 'alter b5 add 4 subtract 3', 'Afro', 'add 4 subtract 3 add b9', 'A#', 'G*', 'add b13 add #9', 'Slow Rock', 'add #11 add b9 add #11', 'add #9', 'alter #5 add #11', 'Samba-Funk', 'Latin-Swing', 'Cb', 'add b9 alter #5', 'm6', 'add b9 add b9 add 9', 'add 4 subtract 3 alter #11', 'Reggae', 'maj9', 'Salsa', 'add #11 add b9', 'Medium Rock', 'add 2 add #9', 'alter #5 add b13', 'add b9 add #9', 'N.C.', '*m7*', 'add b9 add b9 alter #5', 'Shuffle Blues', '**', 'add 9 add b6', 'Form_verse', 'alter b5 alter b9', 'Gypsy Swing', 'add 9 add 9', 'add 9 add 7', 'add 4 subtract 3 add 4 subtract 3', 'Maxixe', 'Cha Cha', 'add b9 add 4 subtract 3 add b9', 'add 7 add b9 add 4 subtract 3', 'add 4 subtract 3 add 9', 'add 7 alter b9', 'March', 'Blues Rock', 'add b6 add b6', 'add 4 subtract 3 add #9', 'Form_D', 'Musical', 'alter b5 alter b5', 'Shuffle', 'Slow Bossa', 'Chacarera', 'add #9 alter #5 add b9 alter #5', '/', '6', 'G7', 'Forró', 'UP Swing', 'Bossa Acoustic', 'C', 'Afoxé-Samba', 'add 9 add #9', '5', '-N3', 'alter #5 add b9 add 4 subtract 3', 'Gypsy Waltz', 'Power Ballad', 'alter b5 add b9 alter b5', '6#9*', 'Repeat_2', '*O*', '13', 'Medium Funk', '|', 'Medium Country', 'alter #5', 'Disco', 'Choro', 'Pop jazz', \"Even 8th's\", 'Bb', 'Disco Funk', 'add 4 subtract 3 add #11', 'Choro - Samba', 'Gypsy Bossa', 'alter b5 add #11 add b9', '7sus4', 'Up Tempo Swing', 'add b9 add 4 subtract 3', 'Even 16ths', 'alter #9', 'Medium Pop', 'add b9 add 4 subtract 3 add b9 alter #5', 'alter b5 alter b5 alter b5', 'Rock-Folk', 'Medium Blues', '9', 'Slow Shuffle', 'alter b5 add b13', 'add #11 add b9 alter #5', 'add 2 add 2', 'Blues', 'Jazz', 'add b6 alter b5', 'Medium Shuffle', 'Repeat_0', '*m*', 'add 7 add b13', 'add b13 add 4 subtract 3', 'add 9 add 9 add 9', 'add #9 add b9 alter b5', 'add #11 add 9', 'alter b5 add #9 add b9', 'add 4 subtract 3 add b9 add 4 subtract 3 add b9 alter #5', 'Reggae Pop', '69', 'add 9 add #7 add 9', 'add #9 alter b5 add b9', '#5#9', 'Deliberately', 'Form_intro', 'Montuno', 'add #11 add #11 add #11', 'maj13', 'Tango', 'alter b9', 'add 4 subtract 3 add b9 alter #5', 'Fast Blues', 'Up Samba', 'add #11 add 4 subtract 3', 'Medium Swing', 'Bright Shuffle Blues', '128 Feel', 'alter b5 add b9', 'add b9 add b9 add b9', 'm', '*mb9*', '7', 'alter b5 add #9', 'Ab', 'add b9 alter b5', 'Bolero', 'add 7 alter #5', 'alter b5 alter #5', 'add 4 subtract 3 alter #5', '+7', 'Gb', 'add 7 add 2', 'Samba Reggae', 'add #7', 'RnB', 'alter b5 add b9 alter #5', 'add #11 alter #5', 'alter b5 add 7', 'alter #5 add #9', 'F', 'alter b5', 'ø7', 'Frevo', 'add 9 add b9', 'Gospel Ballad', '9sus4', 'D', 'alter #11 alter #11', 'add b13 alter b5', 'Form_Coda', 'Medium Ballad', 'Fast Swing', 'Blues Shuffle', 'add 7 add 9', 'add b9 alter #5 add #9', 'A', '7alt', 'add 7 add b9', 'Rock Ballad', 'add 4 subtract 3 add b13', 'add 9', '*sus4*', 'add 9 add #11 add b9', '*-3*', 'Moderately', 'Moderate Latin', 'add b9 add 9', 'add #11 add #9 add #11 add #9', '*7+*', 'Funk Rock', 'Bossa Nova', 'add 7 add #9', 'Marchinha', 'add 4 subtract 3 add b9 add 4 subtract 3', 'add 7', 'Up Tempo', '+', 'alter b5 add 9', 'Afoxe', 'Folk Ballad', 'Worship', 'add b9 add #11', 'add b9 add b9', 'Folk', 'Slow Blues', \"Rock'n'Roll\", 'Baião', 'Electro Pop', 'add 4 subtract 3 alter b5', 'Pop Shuffle', 'add b9 add 4 subtract 3 add b9 add 4 subtract 3', 'Calypso', 'add #9 alter #5 add #9', 'Blues Pop', 'add 9 alter #5', \"R'n'B\", 'Mambo', 'Eb', 'alter b5 add b13 add b9', 'C#', 'add 9 alter b5', 'Samba', 'add #11 alter b5', 'Son', 'Foxtrot', 'add #9 alter #5', 'add #11 add b9 alter #11', 'Funk Jazz', 'F#', 'add 7 add 7', 'add #11 add b13', 'Soul Ballad', 'Form_C', 'add #9 add #11', 'Bolero-Son', ':|', '*..........*', '*-add9*', 'Pop', 'add 2', 'add b9', 'alter b9 add b13', 'Rock/Reggae', 'm7', 'Traditional Gospel', 'alter b9 alter #5', 'add #7 add b9', 'Up Waltz (One Feel)', 'add #9 alter b5', 'Ballad', 'Country Ballad', '-b5*', 'add #7 add 9', 'Afro-Samba', 'add b13 add b13', 'alter #5 add b9', 'm9', 'add 4 subtract 3', 'alter #11', 'A*', 'add #11 add #11 add #11 add #11', 'm11', 'Medium Waltz', 'Country Blues', 'add b13 add b9 add b9', 'Slow Ballad', 'C*', 'Repeat_3', 'alter b5 add #9 alter #5', 'add #11 add #11', 'E', 'Electric Blues', 'add #9 add #9', '*mM7*', 'Fusion', 'alter #5 add 7', 'add 7 add #11', 'Merengue', 'alter #5 add #9 alter #5', '13sus4', 'add b9 alter #5 add b9', 'add b9 alter b5 add b9 alter b5', '<style>', 'add b13 add 7', 'add 9 add #11', 'Medium Up', 'Rock Waltz', 'Latin', 'add 4 subtract 3 add 7', 'alter #5 alter #5', 'Beatles', 'alter #11 add b9', 'Slow Swing', 'Cuban Son', 'Rock', 'Rock Pop', 'Samba-Rock', 'add #7 add #11', 'add 7 add 7 add 7', 'Repeat_1', 'add #7 alter #5', 'sus4', '-7s', 'Med Up Latin', 'add #11 alter b5 add #9', 'Afoxé', 'add #9 add b13', 'alter #5 add 4 subtract 3', 'Samba Funk', 'D#', '*dim*', 'maj7', 'Rock Slow', 'Rock Blues', 'add #9 alter b5 add #9 alter b5', 'Pop Ballad', 'Slowly', '.', 'Dreamlike', 'Form_A', 'add 4 subtract 3 alter b9', 'add #7 alter b5', 'add b6 add #9', 'Pop-Shuffle', 'add 9 add b9 add b9', '11', 'Form_B', 'Hymn', 'add #7 add #7', 'Rock/Hip Hop', 'G#', 'add b13 add #11', 'E*', '7susadd3', 'add b13 add b9'}\n"
     ]
    }
   ],
   "source": [
    "#Repeat the sequences 3 times\n",
    "concatenated_array = []\n",
    "\n",
    "concatenated_array = np.hstack(expand_form_dataset) \n",
    "\n",
    "vocab = set(concatenated_array)\n",
    "\n",
    "print(len(vocab))\n",
    "print(vocab)"
   ]
  },
  {
   "cell_type": "code",
   "execution_count": 60,
   "metadata": {},
   "outputs": [
    {
     "name": "stdout",
     "output_type": "stream",
     "text": [
      "1303\n",
      "['<style>' 'Waltz' '|' 'Form_A' '.' 'G' 'maj7' '|' '.' 'B' 'm7' '.' 'G'\n",
      " '/' 'B' '|' '.' 'C#' 'm7' '.' 'F#' '7' 'add b9' '|' '.' 'F#' '7' 'add b9'\n",
      " '/' 'B' '.' 'B' 'm' '|' '.' 'A' 'm7' '.' 'D' '7sus4' 'add 7' '.' 'D' '7'\n",
      " '|' '.' 'F' '/' 'G' '.' 'G' '.' 'F' '/' 'G' '|' '.' 'C' 'add 9' '|' '.'\n",
      " 'G' 'sus4' '.' 'G' '.' 'G' '7' '|' '.' 'C' 'sus4' '.' 'C' '|' '.' 'E'\n",
      " 'm7' '.' 'C' '/' 'E' '|' '.' 'Ab' '.' 'Bb' '|' '.' 'Db' '/' 'E' '.' 'Eb'\n",
      " '.' 'Db' '/' 'E' '|' '.' 'Ab' 'add 9' '|' '.' 'G7' '#5#9' '|' '.' 'Gb'\n",
      " '69' 'add 9' '|' '.' 'G' 'ø7' '/' 'D' '.' 'C' '7' 'add b9' '|' 'Form_B'\n",
      " '.' 'F' 'm9' '|' '.' 'C' 'm9' '|' '.' 'G' 'm11' '|' 'Form_Coda' '.' 'Ab'\n",
      " 'maj7' '.' 'Ab' '7' '|' '.' 'C' 'sus4' '.' 'C' '|' '.' 'Ab' 'maj7' '.'\n",
      " 'Bb' '/' 'A' '|' '.' 'C' 'sus4' '|' '.' 'C' '.' 'D' 'Form_A' '.' 'G'\n",
      " 'maj7' '|' '.' 'B' 'm7' '.' 'G' '/' 'B' '|' '.' 'C#' 'm7' '.' 'F#' '7'\n",
      " 'add b9' '|' '.' 'F#' '7' 'add b9' '/' 'B' '.' 'B' 'm' '|' '.' 'A' 'm7'\n",
      " '.' 'D' '7sus4' 'add 7' '.' 'D' '7' '|' '.' 'F' '/' 'G' '.' 'G' '.' 'F'\n",
      " '/' 'G' '|' '.' 'C' 'add 9' '|' '.' 'G' 'sus4' '.' 'G' '.' 'G' '7' '|'\n",
      " '.' 'C' 'sus4' '.' 'C' '|' '.' 'E' 'm7' '.' 'C' '/' 'E' '|' '.' 'Ab' '.'\n",
      " 'Bb' '|' '.' 'Db' '/' 'E' '.' 'Eb' '.' 'Db' '/' 'E' '|' '.' 'Ab' 'add 9'\n",
      " '|' '.' 'G7' '#5#9' '|' '.' 'Gb' '69' 'add 9' '|' '.' 'G' 'ø7' '/' 'D'\n",
      " '.' 'C' '7' 'add b9' '|' 'Form_B' '.' 'F' 'm9' '|' '.' 'C' 'm9' '|' '.'\n",
      " 'G' 'm11' '|' 'Form_Coda' '.' 'Ab' 'maj7' '.' 'Ab' '7' '|' '.' 'C' 'sus4'\n",
      " '.' 'C' '|' '.' 'Ab' 'maj7' '.' 'Bb' '/' 'A' '|' '.' 'C' 'sus4' '|' '.'\n",
      " 'C' '.' 'D' 'Form_A' '.' 'G' 'maj7' '|' '.' 'B' 'm7' '.' 'G' '/' 'B' '|'\n",
      " '.' 'C#' 'm7' '.' 'F#' '7' 'add b9' '|' '.' 'F#' '7' 'add b9' '/' 'B' '.'\n",
      " 'B' 'm' '|' '.' 'A' 'm7' '.' 'D' '7sus4' 'add 7' '.' 'D' '7' '|' '.' 'F'\n",
      " '/' 'G' '.' 'G' '.' 'F' '/' 'G' '|' '.' 'C' 'add 9' '|' '.' 'G' 'sus4'\n",
      " '.' 'G' '.' 'G' '7' '|' '.' 'C' 'sus4' '.' 'C' '|' '.' 'E' 'm7' '.' 'C'\n",
      " '/' 'E' '|' '.' 'Ab' '.' 'Bb' '|' '.' 'Db' '/' 'E' '.' 'Eb' '.' 'Db' '/'\n",
      " 'E' '|' '.' 'Ab' 'add 9' '|' '.' 'G7' '#5#9' '|' '.' 'Gb' '69' 'add 9'\n",
      " '|' '.' 'G' 'ø7' '/' 'D' '.' 'C' '7' 'add b9' '|' 'Form_B' '.' 'F' 'm9'\n",
      " '|' '.' 'C' 'm9' '|' '.' 'G' 'm11' '|' 'Form_Coda' '.' 'Ab' 'maj7' '.'\n",
      " 'Ab' '7' '|' '.' 'C' 'sus4' '.' 'C' '|' '.' 'Ab' 'maj7' '.' 'Bb' '/' 'A'\n",
      " '|' '.' 'C' 'sus4' '|' '.' 'C' '.' 'D' '|' '|' '.' 'C' 'sus4' '.' 'C' '|'\n",
      " '.' 'Ab' 'maj7' '.' 'Bb' '/' 'A' '|' '.' 'C' 'sus4' '.' 'C' '|' '.' 'D'\n",
      " '|' 'Form_Coda' '.' 'C' 'sus4' '.' 'C' '|' '.' 'Ab' 'maj7' '.' 'Bb' '/'\n",
      " 'A' '|' '.' 'C' 'sus4' '.' 'C' '|' '.' 'C' '|']\n",
      "{'composer': 'Pat Metheny', 'style': 'Waltz', 'song_name': \"Farmer's Trust 1\", 'tonality': 'C major', 'midi_key': 12, 'time_signature': '4/4', 'decade': 'Null'}\n"
     ]
    }
   ],
   "source": [
    "#find orm_Head\n",
    "id = 0\n",
    "find = \"G7\"\n",
    "\n",
    "for i in range(len(expand_form_dataset)):\n",
    "    if find in expand_form_dataset[i]:\n",
    "        print(i)\n",
    "        print(expand_form_dataset[i])\n",
    "        id = i\n",
    "        break\n",
    "    \n",
    "print(all_meta[id])\n",
    "\n",
    "# missing m_maj7, o, aug, aug7\n",
    "# natures = ['maj', 'sus7', 'm', 'm11', 'm6', 'm7', 'm9', 'dom_7', 'maj7', 'o7', 'sus4', 'sus2', 'ø7', power]\n",
    "\n",
    "\n",
    "#TODO: fix 'F' 'orm_Bass' and 'F' 'orm_Head'"
   ]
  },
  {
   "cell_type": "code",
   "execution_count": 107,
   "metadata": {},
   "outputs": [
    {
     "name": "stderr",
     "output_type": "stream",
     "text": [
      "100%|██████████| 2/2 [00:00<00:00, 326.79it/s]"
     ]
    },
    {
     "name": "stdout",
     "output_type": "stream",
     "text": [
      "['<style>' 'Waltz' '|' 'Form_A' '.' 'G' 'maj7' '|' '.' 'B' 'm7' '.' 'G'\n",
      " '/' 'B' '|' '.' 'C#' 'm7' '.' 'F#' 'dom7' 'add b9' '|' '.' 'F#' 'dom7'\n",
      " 'add b9' '/' 'B' '.' 'B' 'm' '|' '.' 'A' 'm7' '.' 'D' 'sus7' 'add 7' '.'\n",
      " 'D' 'dom7' '|' '.' 'F' '/' 'G' '.' 'G' '.' 'F' '/' 'G' '|' '.' 'C'\n",
      " 'add 9' '|' '.' 'G' 'sus4' '.' 'G' '.' 'G' 'dom7' '|' '.' 'C' 'sus4' '.'\n",
      " 'C' '|' '.' 'E' 'm7' '.' 'C' '/' 'E' '|' '.' 'Ab' '.' 'Bb' '|' '.' 'Db'\n",
      " '/' 'E' '.' 'Eb' '.' 'Db' '/' 'E' '|' '.' 'Ab' 'add 9' '|' '.' 'G' 'dom7'\n",
      " 'add #5 add b9' '|' '.' 'Gb' 'maj add 6 add 9' 'add 9' '|' '.' 'G' 'ø7'\n",
      " '/' 'D' '.' 'C' 'dom7' 'add b9' '|' 'Form_B' '.' 'F' 'm7 add 9' '|' '.'\n",
      " 'C' 'm7 add 9' '|' '.' 'G' 'm add 11' '|' 'Form_Coda' '.' 'Ab' 'maj7' '.'\n",
      " 'Ab' 'dom7' '|' '.' 'C' 'sus4' '.' 'C' '|' '.' 'Ab' 'maj7' '.' 'Bb' '/'\n",
      " 'A' '|' '.' 'C' 'sus4' '|' '.' 'C' '.' 'D' 'Form_A' '.' 'G' 'maj7' '|'\n",
      " '.' 'B' 'm7' '.' 'G' '/' 'B' '|' '.' 'C#' 'm7' '.' 'F#' 'dom7' 'add b9'\n",
      " '|' '.' 'F#' 'dom7' 'add b9' '/' 'B' '.' 'B' 'm' '|' '.' 'A' 'm7' '.' 'D'\n",
      " 'sus7' 'add 7' '.' 'D' 'dom7' '|' '.' 'F' '/' 'G' '.' 'G' '.' 'F' '/' 'G'\n",
      " '|' '.' 'C' 'add 9' '|' '.' 'G' 'sus4' '.' 'G' '.' 'G' 'dom7' '|' '.' 'C'\n",
      " 'sus4' '.' 'C' '|' '.' 'E' 'm7' '.' 'C' '/' 'E' '|' '.' 'Ab' '.' 'Bb' '|'\n",
      " '.' 'Db' '/' 'E' '.' 'Eb' '.' 'Db' '/' 'E' '|' '.' 'Ab' 'add 9' '|' '.'\n",
      " 'G' 'dom7' 'add #5 add b9' '|' '.' 'Gb' 'maj add 6 add 9' 'add 9' '|' '.'\n",
      " 'G' 'ø7' '/' 'D' '.' 'C' 'dom7' 'add b9' '|' 'Form_B' '.' 'F' 'm7 add 9'\n",
      " '|' '.' 'C' 'm7 add 9' '|' '.' 'G' 'm add 11' '|' 'Form_Coda' '.' 'Ab'\n",
      " 'maj7' '.' 'Ab' 'dom7' '|' '.' 'C' 'sus4' '.' 'C' '|' '.' 'Ab' 'maj7' '.'\n",
      " 'Bb' '/' 'A' '|' '.' 'C' 'sus4' '|' '.' 'C' '.' 'D' 'Form_A' '.' 'G'\n",
      " 'maj7' '|' '.' 'B' 'm7' '.' 'G' '/' 'B' '|' '.' 'C#' 'm7' '.' 'F#' 'dom7'\n",
      " 'add b9' '|' '.' 'F#' 'dom7' 'add b9' '/' 'B' '.' 'B' 'm' '|' '.' 'A'\n",
      " 'm7' '.' 'D' 'sus7' 'add 7' '.' 'D' 'dom7' '|' '.' 'F' '/' 'G' '.' 'G'\n",
      " '.' 'F' '/' 'G' '|' '.' 'C' 'add 9' '|' '.' 'G' 'sus4' '.' 'G' '.' 'G'\n",
      " 'dom7' '|' '.' 'C' 'sus4' '.' 'C' '|' '.' 'E' 'm7' '.' 'C' '/' 'E' '|'\n",
      " '.' 'Ab' '.' 'Bb' '|' '.' 'Db' '/' 'E' '.' 'Eb' '.' 'Db' '/' 'E' '|' '.'\n",
      " 'Ab' 'add 9' '|' '.' 'G' 'dom7' 'add #5 add b9' '|' '.' 'Gb'\n",
      " 'maj add 6 add 9' 'add 9' '|' '.' 'G' 'ø7' '/' 'D' '.' 'C' 'dom7'\n",
      " 'add b9' '|' 'Form_B' '.' 'F' 'm7 add 9' '|' '.' 'C' 'm7 add 9' '|' '.'\n",
      " 'G' 'm add 11' '|' 'Form_Coda' '.' 'Ab' 'maj7' '.' 'Ab' 'dom7' '|' '.'\n",
      " 'C' 'sus4' '.' 'C' '|' '.' 'Ab' 'maj7' '.' 'Bb' '/' 'A' '|' '.' 'C'\n",
      " 'sus4' '|' '.' 'C' '.' 'D' '|' '|' '.' 'C' 'sus4' '.' 'C' '|' '.' 'Ab'\n",
      " 'maj7' '.' 'Bb' '/' 'A' '|' '.' 'C' 'sus4' '.' 'C' '|' '.' 'D' '|'\n",
      " 'Form_Coda' '.' 'C' 'sus4' '.' 'C' '|' '.' 'Ab' 'maj7' '.' 'Bb' '/' 'A'\n",
      " '|' '.' 'C' 'sus4' '.' 'C' '|' '.' 'C' '|']\n"
     ]
    },
    {
     "name": "stderr",
     "output_type": "stream",
     "text": [
      "\n"
     ]
    }
   ],
   "source": [
    "importlib.reload(xmlT)\n",
    "\n",
    "corrected_sequence = xmlT.repleaceTheseChords(expand_form_dataset, False)\n",
    "\n",
    "my_seq = np.array(corrected_sequence[0])\n",
    "\n",
    "#compare the original and the new sequence\n",
    "print(my_seq)"
   ]
  }
 ],
 "metadata": {
  "kernelspec": {
   "display_name": "Python 3",
   "language": "python",
   "name": "python3"
  },
  "language_info": {
   "codemirror_mode": {
    "name": "ipython",
    "version": 3
   },
   "file_extension": ".py",
   "mimetype": "text/x-python",
   "name": "python",
   "nbconvert_exporter": "python",
   "pygments_lexer": "ipython3",
   "version": "3.10.12"
  }
 },
 "nbformat": 4,
 "nbformat_minor": 2
}
