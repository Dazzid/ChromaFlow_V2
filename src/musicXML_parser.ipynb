{
 "cells": [
  {
   "cell_type": "code",
   "execution_count": 1,
   "metadata": {},
   "outputs": [],
   "source": [
    "import numpy as np\n",
    "import xmlTranslator as xmlT\n",
    "from tqdm import tqdm\n",
    "%reload_ext autoreload\n",
    "%autoreload 2\n",
    "import importlib\n",
    "from utils import get_project_root\n",
    "from ipywidgets import FloatProgress"
   ]
  },
  {
   "cell_type": "markdown",
   "metadata": {},
   "source": [
    "TODO: \n",
    "- Repeat the sequences 3 times\n",
    "- Extend all chords into 18 enharmonic\n",
    "- Complete the voicing as a MIDI array \n",
    "- Split into train and test\n",
    "- Pass the MIDI into Embeddings"
   ]
  },
  {
   "cell_type": "code",
   "execution_count": 43,
   "metadata": {},
   "outputs": [
    {
     "data": {
      "application/vnd.jupyter.widget-view+json": {
       "model_id": "a7f9e9c31cdf4c2bb655a48b026c2a6f",
       "version_major": 2,
       "version_minor": 0
      },
      "text/plain": [
       "  0%|          | 0/4007 [00:00<?, ?it/s]"
      ]
     },
     "metadata": {},
     "output_type": "display_data"
    },
    {
     "name": "stdout",
     "output_type": "stream",
     "text": [
      "(4006,) (4006,) (4006,)\n"
     ]
    }
   ],
   "source": [
    "directory = '/data/iRealXML'\n",
    "root = get_project_root()\n",
    "myPath = str(root) + str(directory)\n",
    "\n",
    "theChordDataset, theDurationsDataset, all_meta = xmlT.parse_info_from_XML(myPath)"
   ]
  },
  {
   "cell_type": "code",
   "execution_count": 62,
   "metadata": {},
   "outputs": [
    {
     "name": "stdout",
     "output_type": "stream",
     "text": [
      "4006 4006\n"
     ]
    }
   ],
   "source": [
    "#Correct the location of 'e||'\n",
    "dataset = []\n",
    "dataset_durations = []\n",
    "for i, song in enumerate(theChordDataset):\n",
    "    d = theDurationsDataset[i]\n",
    "    song, durations = xmlT.correct_coda_end(song, d)\n",
    "    dataset.append(song)\n",
    "    dataset_durations.append(durations)\n",
    "print(len(dataset), len(dataset_durations))"
   ]
  },
  {
   "cell_type": "code",
   "execution_count": 101,
   "metadata": {},
   "outputs": [
    {
     "name": "stdout",
     "output_type": "stream",
     "text": [
      "{'composer': 'Israel Houghton', 'style': 'Worship', 'song_name': 'Alpha And Omega', 'tonality': 'Db major', 'midi_key': 13, 'time_signature': '4/4', 'decade': 'Null'}\n",
      "134\n",
      "['<style>', 'Worship', 'Form_A', '|:', '.', 'Db', 'major', '|', '.', 'Ab', 'major', '/', 'C', '.', 'Db', 'major', '.', 'Eb', 'minor-seventh', '|', '.', 'Db', 'major', '.', 'Db', 'major', '/', 'F', '|', '.', 'Gb', 'major', '.', 'Eb', 'minor', '/', 'Gb', '.', 'Eb', 'minor', '|', '.', 'Db', 'major', '/', 'Ab', '.', 'Db', 'major', '/', 'Ab', '.', 'Bb', 'minor', '/', 'Ab', '|', '.', 'Ab', 'major', '.', 'Bb', 'minor', '.', 'Ab', 'major', '/', 'C', '|', '.', 'Db', 'major', '.', 'C', 'minor-seventh', 'alter b5', '.', 'F', 'dominant', 'Form_B', '|', '.', 'Bb', 'minor', '|', '.', 'Ab', 'major', '.', 'Gb', 'major', '|', '.', 'Db', 'major', '/', 'F', '|', '.', 'Gb', 'major', '.', 'Eb', 'minor', '/', 'Gb', '.', 'Eb', 'minor', '|', '.', 'Db', 'major', '/', 'Ab', '|', '.', 'Ab', 'major', '.', 'Bb', 'minor', '.', 'Ab', 'major', '/', 'C', '.', 'Ab', 'major', '|', '.', 'Db', 'major']\n"
     ]
    }
   ],
   "source": [
    "id = 204\n",
    "print(all_meta[id])\n",
    "print(len(dataset[id]))\n",
    "print(dataset[id].tolist())"
   ]
  },
  {
   "cell_type": "code",
   "execution_count": 103,
   "metadata": {},
   "outputs": [
    {
     "name": "stderr",
     "output_type": "stream",
     "text": [
      " 14%|█▍        | 563/4006 [00:00<00:01, 2827.26it/s]"
     ]
    },
    {
     "name": "stderr",
     "output_type": "stream",
     "text": [
      "100%|██████████| 4006/4006 [00:01<00:00, 2696.97it/s]\n"
     ]
    }
   ],
   "source": [
    "#Expand song structure\n",
    "importlib.reload(xmlT)\n",
    "\n",
    "id = 0\n",
    "expand_form_dataset = []\n",
    "expand_duration_dataset = []\n",
    "status = True\n",
    "for i in tqdm(range(len(dataset))):\n",
    "    song_structure, duration_structure, status = xmlT.expand_song_structure(dataset[i], dataset_durations[i], i, False)\n",
    "    if status == False:\n",
    "        print('Song:', all_meta[i])\n",
    "        id = i\n",
    "        break\n",
    "    song_structure = np.array(song_structure)\n",
    "    duration_structure = np.array(duration_structure)\n",
    "    expand_form_dataset.append(song_structure)\n",
    "    expand_duration_dataset.append(duration_structure)\n",
    "\n",
    "#check if all elements are the same size\n",
    "for i in range(len(expand_form_dataset)):\n",
    "    if len(expand_form_dataset) != len(expand_duration_dataset):\n",
    "        print('Error in:', i)\n",
    "        break"
   ]
  },
  {
   "cell_type": "code",
   "execution_count": 106,
   "metadata": {},
   "outputs": [
    {
     "name": "stdout",
     "output_type": "stream",
     "text": [
      "['<style>', 'Ballad', 'Form_A', '|', '.', 'C', 'major', '.', 'E', 'minor', '/', 'B', '|', '.', 'B', 'suspended-fourth', '.', 'B', 'major', '.', 'B', 'major', '/', 'A', '|', '.', 'G', 'major', '.', 'C', 'major-seventh', '|', '.', 'C#', 'minor-seventh', 'alter b5', '.', 'G', 'major-seventh', '/', 'D', '|', '.', 'D', 'major', '/', 'F#', '.', 'C', 'major', '/', 'E', '|', '.', 'C', 'minor', '/', 'Eb', '.', 'G', 'major', '/', 'D', '|', '.', 'C#', 'minor-seventh', 'alter b5', '.', 'F#', 'dominant', '/', 'C#', '|', '.', 'B', 'major', '.', 'A', 'minor-seventh', '.', 'D', 'dominant', '/', 'A', 'Form_B', '|', '.', 'G', 'major', 'add 9', '.', 'D', 'major', '/', 'F#', '|', '.', 'C', 'major-seventh', '/', 'E', '.', 'C#', 'minor-seventh', 'alter b5', '|', '.', 'G', 'major', '/', 'D', '.', 'B', 'dominant', '/', 'D#', '|', '.', 'G', 'dominant', '/', 'D', '.', 'A', 'dominant', '/', 'C#', 'Form_Coda', '|', '.', 'C', 'major-seventh', '.', 'A', 'minor-seventh', 'e||', '.', 'B', 'minor-seventh', '.', 'E', 'minor-ninth', '|', '.', 'C', 'major', '/', 'D', '|', '.', 'C', 'major', '/', 'D', '|', '.', 'C#', 'minor-seventh', 'alter b5', '.', 'G', 'major', '/', 'D', '|', '.', 'B', 'dominant', '/', 'D#', '.', 'E', 'minor', 'Form_Coda', 'b||', '.', 'B', 'minor-seventh', '.', 'E', 'minor-ninth', '|', '.', 'C#', 'minor-seventh', 'alter b5', '.', 'D', 'major', '/', 'C', '|', '.', 'B', 'minor-seventh', '.', 'E', 'minor-ninth', '|', '.', 'C', 'minor', 'add #7', '|', '.', 'C', 'minor', 'add #7', '|', '.', 'A', 'minor-ninth', '.', 'Bb', 'major-seventh', '|', '.', 'C', 'major', '/', 'B', '.', 'F#', 'major', '/', 'D', '|', '.', 'G', 'major-seventh', 'add #11']\n"
     ]
    }
   ],
   "source": [
    "print(dataset[4005].tolist())"
   ]
  },
  {
   "cell_type": "code",
   "execution_count": 107,
   "metadata": {},
   "outputs": [
    {
     "ename": "IndexError",
     "evalue": "list index out of range",
     "output_type": "error",
     "traceback": [
      "\u001b[0;31m---------------------------------------------------------------------------\u001b[0m",
      "\u001b[0;31mIndexError\u001b[0m                                Traceback (most recent call last)",
      "Cell \u001b[0;32mIn[107], line 4\u001b[0m\n\u001b[1;32m      2\u001b[0m sub_durations \u001b[38;5;241m=\u001b[39m dataset_durations[\u001b[38;5;241m4005\u001b[39m:\u001b[38;5;241m6\u001b[39m]\n\u001b[1;32m      3\u001b[0m \u001b[38;5;28;01mfor\u001b[39;00m i \u001b[38;5;129;01min\u001b[39;00m \u001b[38;5;28mrange\u001b[39m(\u001b[38;5;28mlen\u001b[39m(sub_sections)):\n\u001b[0;32m----> 4\u001b[0m     a,b,s \u001b[38;5;241m=\u001b[39m xmlT\u001b[38;5;241m.\u001b[39mexpand_song_structure(sub_sections[i], \u001b[43msub_durations\u001b[49m\u001b[43m[\u001b[49m\u001b[43mi\u001b[49m\u001b[43m]\u001b[49m, i, \u001b[38;5;28;01mTrue\u001b[39;00m)\n\u001b[1;32m      5\u001b[0m \u001b[38;5;28mprint\u001b[39m(a)\n",
      "\u001b[0;31mIndexError\u001b[0m: list index out of range"
     ]
    }
   ],
   "source": [
    "sub_sections = dataset[4004:4005]\n",
    "sub_durations = dataset_durations[4004:4005]\n",
    "for i in range(len(sub_sections)):\n",
    "    a,b,s = xmlT.expand_song_structure(sub_sections[i], sub_durations[i], i, True)\n",
    "print(a)"
   ]
  },
  {
   "cell_type": "code",
   "execution_count": 149,
   "metadata": {},
   "outputs": [
    {
     "name": "stdout",
     "output_type": "stream",
     "text": [
      "{'composer': 'The Beatles (Lennon, McCartney)', 'style': 'Rock Pop', 'song_name': 'Eleanor Rigby', 'tonality': 'E minor', 'midi_key': 16, 'time_signature': '4/4', 'decade': 'Null'}\n",
      "['<style>' 'Rock Pop' 'Form_intro' '|:' '.' 'C' 'major' '|' '.' 'C'\n",
      " 'major' '|' '.' 'E' 'minor' '|' '.' 'E' 'minor' ':|' 'Form_Segno' '|:'\n",
      " '.' 'E' 'minor' '|' '.' 'E' 'minor' '|' '.' 'E' 'minor' '|' '.' 'C'\n",
      " 'major' '|' '.' 'C' 'major' '.' 'E' 'minor' '|' '.' 'E' 'minor' '|' '.'\n",
      " 'E' 'minor' '|' '.' 'E' 'minor' '|' '.' 'C' 'major' '|' '.' 'C' 'major'\n",
      " '.' 'E' 'minor' 'Form_B' '|' '.' 'E' 'minor-seventh' '|' '.' 'E'\n",
      " 'minor-sixth' '|' '.' 'C' 'major' '/' 'E' '|' '.' 'E' 'minor' '|' '.' 'E'\n",
      " 'minor-seventh' '|' '.' 'E' 'minor-sixth' '|' '.' 'C' 'major' '/' 'E'\n",
      " 'Form_Coda' 'e||' '.' 'E' 'minor' ':|' 'Form_C' '|:' '.' 'C' 'major' '|'\n",
      " '.' 'C' 'major' '|' '.' 'E' 'minor' '|' '.' 'E' 'minor' ':|' 'Form_Coda'\n",
      " 'b||' '.' 'E' 'minor']\n",
      "161\n",
      "['<style>', 'Rock Pop', 'Form_intro', '|', '.', 'C', 'major', '|', '.', 'C', 'major', '|', '.', 'E', 'minor', '|', '.', 'E', 'minor', '|', '.', 'C', 'major', '|', '.', 'C', 'major', '|', '.', 'E', 'minor', '|', '.', 'E', 'minor', '|', '.', 'C', 'major', '|', '.', 'C', 'major', '|', '.', 'E', 'minor', '|', '.', 'E', 'minor', '|', 'Form_Segno', '|', '.', 'E', 'minor', '|', '.', 'E', 'minor', '|', '.', 'E', 'minor', '|', '.', 'C', 'major', '|', '.', 'C', 'major', '.', 'E', 'minor', '|', '.', 'E', 'minor', '|', '.', 'E', 'minor', '|', '.', 'E', 'minor', '|', '.', 'C', 'major', '|', '.', 'C', 'major', '.', 'E', 'minor', 'Form_B', '|', '.', 'E', 'minor-seventh', '|', '.', 'E', 'minor-sixth', '|', '.', 'C', 'major', '/', 'E', '|', '.', 'E', 'minor', '|', '.', 'E', 'minor-seventh', '|', '.', 'E', 'minor-sixth', '|', '.', 'C', 'major', '/', 'E', 'Form_Coda', '|', '.', 'E', 'minor', 'e||', 'Form_C', '|', '.', 'C', 'major', '|', '.', 'C', 'major', '|', '.', 'E', 'minor', '|', '.', 'E', 'minor', '|', 'Form_Coda', 'b||', '.', 'E', 'minor']\n"
     ]
    }
   ],
   "source": [
    "id = 1202\n",
    "print(all_meta[id])\n",
    "print(theChordDataset[id])\n",
    "print(len(expand_form_dataset[id]))\n",
    "print(expand_form_dataset[id].tolist())"
   ]
  },
  {
   "cell_type": "code",
   "execution_count": 150,
   "metadata": {},
   "outputs": [
    {
     "name": "stdout",
     "output_type": "stream",
     "text": [
      "129\n",
      "['<style>', '<style>', 'Rock Pop', 'Rock Pop', 'Form_intro', 'Form_intro', '.', 'C', 'major', '|', '.', 'C', 'major', '|', '.', 'E', 'minor', '|', '.', 'E', 'minor', '|:', '.', 'C', 'major', '|', '.', 'C', 'major', '|', '.', 'E', 'minor', '|', '.', 'E', 'minor', ':|', ':|', 'Form_Segno', 'Form_Segno', '.', 'E', 'minor', '|', '.', 'E', 'minor', '|', '.', 'E', 'minor', '|', '.', 'C', 'major', '|', '.', 'C', 'major', '.', 'E', 'minor', '|', '.', 'E', 'minor', '|', '.', 'E', 'minor', '|', '.', 'E', 'minor', '|', '.', 'C', 'major', '|', '.', 'C', 'major', '.', 'E', 'minor', 'Form_B', '|', '.', 'E', 'minor-seventh', '|', '.', 'E', 'minor-sixth', '|', '.', 'C', 'major', '/', 'E', '|', '.', 'E', 'minor', '|', '.', 'E', 'minor-seventh', '|', '.', 'E', 'minor-sixth', '|', '.', 'C', 'major', '/', 'E', 'Form_Coda', 'Form_Coda', 'b||', 'b||', '.', '.', 'E', 'E', 'minor', 'minor']\n"
     ]
    }
   ],
   "source": [
    "seq = theChordDataset[id]\n",
    "\n",
    "def extend_music_sequence(seq):\n",
    "    extended_seq = []\n",
    "    repeats = []\n",
    "    coda_jump_from = None\n",
    "    coda_jump_to = None\n",
    "    in_repeat = False\n",
    "\n",
    "    # First pass: Handle repeats and mark coda positions\n",
    "    for i, element in enumerate(seq):\n",
    "        if element == '|:':\n",
    "            repeats.append(i)\n",
    "            in_repeat = True\n",
    "        elif element == ':|' and in_repeat:\n",
    "            # Repeat the section\n",
    "            repeat_section = seq[repeats.pop():i+1]\n",
    "            extended_seq.extend(repeat_section)\n",
    "            in_repeat = False\n",
    "        elif 'Form_Coda' in element:\n",
    "            if 'e||' in seq[i+1]:  # Mark the coda jump from position\n",
    "                coda_jump_from = len(extended_seq)\n",
    "            elif 'b||' in seq[i+1]:  # Mark the coda jump to position\n",
    "                if coda_jump_to is None:  # Ensure only the first coda jump to position is recorded\n",
    "                    coda_jump_to = len(extended_seq)\n",
    "            extended_seq.append(element)  # Keep coda markers for clarity in the extended sequence\n",
    "        else:\n",
    "            extended_seq.append(element)\n",
    "\n",
    "        if not in_repeat and i > repeats[-1] if repeats else True:\n",
    "            # This ensures we extend the sequence outside of repeats normally\n",
    "            extended_seq.append(element)\n",
    "\n",
    "    # Second pass: Coda jump\n",
    "    # Jump from the first Form_Coda (e||) to the second Form_Coda (b||)\n",
    "    if coda_jump_from is not None and coda_jump_to is not None:\n",
    "        coda_section = extended_seq[coda_jump_to:]\n",
    "        extended_seq = extended_seq[:coda_jump_from] + coda_section\n",
    "\n",
    "    return extended_seq\n",
    "\n",
    "extended_seq = extend_music_sequence(seq)\n",
    "print(len(extended_seq))\n",
    "print(extended_seq)\n",
    "\n"
   ]
  },
  {
   "cell_type": "code",
   "execution_count": 151,
   "metadata": {},
   "outputs": [
    {
     "name": "stdout",
     "output_type": "stream",
     "text": [
      "[['<style>' '0.0']\n",
      " ['Rock Pop' '0.0']\n",
      " ['Form_intro' '0.0']\n",
      " ['|' '0.0']\n",
      " ['.' '4.0']\n",
      " ['C' '4.0']\n",
      " ['major' '4.0']\n",
      " ['|' '4.0']\n",
      " ['.' '4.0']\n",
      " ['C' '4.0']\n",
      " ['major' '4.0']\n",
      " ['|' '4.0']\n",
      " ['.' '4.0']\n",
      " ['E' '4.0']\n",
      " ['minor' '4.0']\n",
      " ['|' '4.0']\n",
      " ['.' '4.0']\n",
      " ['E' '4.0']\n",
      " ['minor' '4.0']\n",
      " ['|' '0.0']\n",
      " ['.' '4.0']\n",
      " ['C' '4.0']\n",
      " ['major' '4.0']\n",
      " ['|' '4.0']\n",
      " ['.' '4.0']\n",
      " ['C' '4.0']\n",
      " ['major' '4.0']\n",
      " ['|' '4.0']\n",
      " ['.' '4.0']\n",
      " ['E' '4.0']\n",
      " ['minor' '4.0']\n",
      " ['|' '4.0']\n",
      " ['.' '4.0']\n",
      " ['E' '4.0']\n",
      " ['minor' '4.0']\n",
      " ['|' '0.0']\n",
      " ['.' '4.0']\n",
      " ['C' '4.0']\n",
      " ['major' '4.0']\n",
      " ['|' '4.0']\n",
      " ['.' '4.0']\n",
      " ['C' '4.0']\n",
      " ['major' '4.0']\n",
      " ['|' '4.0']\n",
      " ['.' '4.0']\n",
      " ['E' '4.0']\n",
      " ['minor' '4.0']\n",
      " ['|' '4.0']\n",
      " ['.' '4.0']\n",
      " ['E' '4.0']\n",
      " ['minor' '4.0']\n",
      " ['|' '4.0']\n",
      " ['Form_Segno' '4.0']\n",
      " ['|' '4.0']\n",
      " ['.' '4.0']\n",
      " ['E' '4.0']\n",
      " ['minor' '4.0']\n",
      " ['|' '4.0']\n",
      " ['.' '4.0']\n",
      " ['E' '4.0']\n",
      " ['minor' '4.0']\n",
      " ['|' '4.0']\n",
      " ['.' '4.0']\n",
      " ['E' '4.0']\n",
      " ['minor' '4.0']\n",
      " ['|' '4.0']\n",
      " ['.' '4.0']\n",
      " ['C' '4.0']\n",
      " ['major' '4.0']\n",
      " ['|' '4.0']\n",
      " ['.' '2.0']\n",
      " ['C' '2.0']\n",
      " ['major' '2.0']\n",
      " ['.' '2.0']\n",
      " ['E' '2.0']\n",
      " ['minor' '2.0']\n",
      " ['|' '2.0']\n",
      " ['.' '4.0']\n",
      " ['E' '4.0']\n",
      " ['minor' '4.0']\n",
      " ['|' '4.0']\n",
      " ['.' '4.0']\n",
      " ['E' '4.0']\n",
      " ['minor' '4.0']\n",
      " ['|' '4.0']\n",
      " ['.' '4.0']\n",
      " ['E' '4.0']\n",
      " ['minor' '4.0']\n",
      " ['|' '4.0']\n",
      " ['.' '4.0']\n",
      " ['C' '4.0']\n",
      " ['major' '4.0']\n",
      " ['|' '4.0']\n",
      " ['.' '2.0']\n",
      " ['C' '2.0']\n",
      " ['major' '2.0']\n",
      " ['.' '2.0']\n",
      " ['E' '2.0']\n",
      " ['minor' '2.0']\n",
      " ['Form_B' '2.0']\n",
      " ['|' '2.0']\n",
      " ['.' '4.0']\n",
      " ['E' '4.0']\n",
      " ['minor-seventh' '4.0']\n",
      " ['|' '4.0']\n",
      " ['.' '4.0']\n",
      " ['E' '4.0']\n",
      " ['minor-sixth' '4.0']\n",
      " ['|' '4.0']\n",
      " ['.' '4.0']\n",
      " ['C' '4.0']\n",
      " ['major' '4.0']\n",
      " ['/' '4.0']\n",
      " ['E' '4.0']\n",
      " ['|' '4.0']\n",
      " ['.' '4.0']\n",
      " ['E' '4.0']\n",
      " ['minor' '4.0']\n",
      " ['|' '4.0']\n",
      " ['.' '4.0']\n",
      " ['E' '4.0']\n",
      " ['minor-seventh' '4.0']\n",
      " ['|' '4.0']\n",
      " ['.' '4.0']\n",
      " ['E' '4.0']\n",
      " ['minor-sixth' '4.0']\n",
      " ['|' '4.0']\n",
      " ['.' '4.0']\n",
      " ['C' '4.0']\n",
      " ['major' '4.0']\n",
      " ['/' '4.0']\n",
      " ['E' '4.0']\n",
      " ['Form_Coda' '4.0']\n",
      " ['|' '4.0']\n",
      " ['.' '4.0']\n",
      " ['E' '4.0']\n",
      " ['minor' '4.0']\n",
      " ['e||' '4.0']\n",
      " ['Form_C' '4.0']\n",
      " ['|' '4.0']\n",
      " ['.' '4.0']\n",
      " ['C' '4.0']\n",
      " ['major' '4.0']\n",
      " ['|' '4.0']\n",
      " ['.' '4.0']\n",
      " ['C' '4.0']\n",
      " ['major' '4.0']\n",
      " ['|' '4.0']\n",
      " ['.' '4.0']\n",
      " ['E' '4.0']\n",
      " ['minor' '4.0']\n",
      " ['|' '4.0']\n",
      " ['.' '4.0']\n",
      " ['E' '4.0']\n",
      " ['minor' '4.0']\n",
      " ['|' '4.0']\n",
      " ['Form_Coda' '4.0']\n",
      " ['b||' '4.0']\n",
      " ['.' '4.0']\n",
      " ['E' '4.0']\n",
      " ['minor' '4.0']]\n"
     ]
    }
   ],
   "source": [
    "#Unify chord and duration into a tuple of good friends\n",
    "dataset = []\n",
    "for chords_values, durations_values in zip(expand_form_dataset, expand_duration_dataset):\n",
    "    coupled = list(zip(chords_values, durations_values))\n",
    "    dataset.append(coupled)\n",
    "    \n",
    "print(np.array(dataset[1202]))"
   ]
  },
  {
   "cell_type": "code",
   "execution_count": 152,
   "metadata": {},
   "outputs": [
    {
     "data": {
      "application/vnd.jupyter.widget-view+json": {
       "model_id": "c7d4d1040ae04f7d87edc9001bb324cd",
       "version_major": 2,
       "version_minor": 0
      },
      "text/plain": [
       "  0%|          | 0/4006 [00:00<?, ?it/s]"
      ]
     },
     "metadata": {},
     "output_type": "display_data"
    },
    {
     "ename": "KeyboardInterrupt",
     "evalue": "",
     "output_type": "error",
     "traceback": [
      "\u001b[0;31m---------------------------------------------------------------------------\u001b[0m",
      "\u001b[0;31mKeyboardInterrupt\u001b[0m                         Traceback (most recent call last)",
      "Cell \u001b[0;32mIn[152], line 4\u001b[0m\n\u001b[1;32m      1\u001b[0m importlib\u001b[38;5;241m.\u001b[39mreload(xmlT)\n\u001b[1;32m      3\u001b[0m \u001b[38;5;66;03m#correct the wrong chords\u001b[39;00m\n\u001b[0;32m----> 4\u001b[0m corrected_sequence \u001b[38;5;241m=\u001b[39m \u001b[43mxmlT\u001b[49m\u001b[38;5;241;43m.\u001b[39;49m\u001b[43mreplaceTheseChords\u001b[49m\u001b[43m(\u001b[49m\u001b[43mdataset\u001b[49m\u001b[43m,\u001b[49m\u001b[43m \u001b[49m\u001b[38;5;28;43;01mFalse\u001b[39;49;00m\u001b[43m)\u001b[49m\n",
      "File \u001b[0;32m/workspace/src/xmlTranslator.py:158\u001b[0m, in \u001b[0;36mreplaceTheseChords\u001b[0;34m(mySequence, verbose)\u001b[0m\n\u001b[1;32m    156\u001b[0m e_duration \u001b[38;5;241m=\u001b[39m item[\u001b[38;5;241m1\u001b[39m]          \n\u001b[1;32m    157\u001b[0m \u001b[38;5;28;01mfor\u001b[39;00m key, value \u001b[38;5;129;01min\u001b[39;00m correct_this\u001b[38;5;241m.\u001b[39mitems():\n\u001b[0;32m--> 158\u001b[0m     \u001b[38;5;28;01mif\u001b[39;00m key \u001b[38;5;241m==\u001b[39m element:\n\u001b[1;32m    159\u001b[0m         \u001b[38;5;28;01mif\u001b[39;00m (verbose):\n\u001b[1;32m    160\u001b[0m             \u001b[38;5;28mprint\u001b[39m(element, \u001b[38;5;124m'\u001b[39m\u001b[38;5;124m-->\u001b[39m\u001b[38;5;124m'\u001b[39m, value)\n",
      "\u001b[0;31mKeyboardInterrupt\u001b[0m: "
     ]
    }
   ],
   "source": [
    "importlib.reload(xmlT)\n",
    "\n",
    "#correct the wrong chords\n",
    "corrected_sequence = xmlT.replaceTheseChords(dataset, False)"
   ]
  },
  {
   "cell_type": "code",
   "execution_count": null,
   "metadata": {},
   "outputs": [
    {
     "name": "stdout",
     "output_type": "stream",
     "text": [
      "[['<style>' '0.0']\n",
      " ['Rock Pop' '0.0']\n",
      " ['Form_intro' '0.0']\n",
      " ['|' '0.0']\n",
      " ['.' '4.0']\n",
      " ['C' '4.0']\n",
      " ['maj' '4.0']\n",
      " ['|' '4.0']\n",
      " ['.' '4.0']\n",
      " ['C' '4.0']\n",
      " ['maj' '4.0']\n",
      " ['|' '4.0']\n",
      " ['.' '4.0']\n",
      " ['E' '4.0']\n",
      " ['m' '4.0']\n",
      " ['|' '4.0']\n",
      " ['.' '4.0']\n",
      " ['E' '4.0']\n",
      " ['m' '4.0']\n",
      " ['.' '4.0']\n",
      " ['C' '4.0']\n",
      " ['maj' '4.0']\n",
      " ['|' '4.0']\n",
      " ['.' '4.0']\n",
      " ['C' '4.0']\n",
      " ['maj' '4.0']\n",
      " ['|' '4.0']\n",
      " ['.' '4.0']\n",
      " ['E' '4.0']\n",
      " ['m' '4.0']\n",
      " ['|' '4.0']\n",
      " ['.' '4.0']\n",
      " ['E' '4.0']\n",
      " ['m' '4.0']\n",
      " ['.' '4.0']\n",
      " ['C' '4.0']\n",
      " ['maj' '4.0']\n",
      " ['|' '4.0']\n",
      " ['.' '4.0']\n",
      " ['C' '4.0']\n",
      " ['maj' '4.0']\n",
      " ['|' '4.0']\n",
      " ['.' '4.0']\n",
      " ['E' '4.0']\n",
      " ['m' '4.0']\n",
      " ['|' '4.0']\n",
      " ['.' '4.0']\n",
      " ['E' '4.0']\n",
      " ['m' '4.0']\n",
      " ['.' '4.0']\n",
      " ['C' '4.0']\n",
      " ['maj' '4.0']\n",
      " ['|' '4.0']\n",
      " ['.' '4.0']\n",
      " ['C' '4.0']\n",
      " ['maj' '4.0']\n",
      " ['|' '4.0']\n",
      " ['.' '4.0']\n",
      " ['E' '4.0']\n",
      " ['m' '4.0']\n",
      " ['|' '4.0']\n",
      " ['.' '4.0']\n",
      " ['E' '4.0']\n",
      " ['m' '4.0']\n",
      " ['|' '4.0']\n",
      " ['Form_Segno' '4.0']\n",
      " ['|' '4.0']\n",
      " ['.' '4.0']\n",
      " ['E' '4.0']\n",
      " ['m' '4.0']\n",
      " ['|' '4.0']\n",
      " ['.' '4.0']\n",
      " ['E' '4.0']\n",
      " ['m' '4.0']\n",
      " ['|' '4.0']\n",
      " ['.' '4.0']\n",
      " ['E' '4.0']\n",
      " ['m' '4.0']\n",
      " ['|' '4.0']\n",
      " ['.' '4.0']\n",
      " ['C' '4.0']\n",
      " ['maj' '4.0']\n",
      " ['|' '4.0']\n",
      " ['.' '2.0']\n",
      " ['C' '2.0']\n",
      " ['maj' '2.0']\n",
      " ['.' '2.0']\n",
      " ['E' '2.0']\n",
      " ['m' '2.0']\n",
      " ['|' '2.0']\n",
      " ['.' '4.0']\n",
      " ['E' '4.0']\n",
      " ['m' '4.0']\n",
      " ['|' '4.0']\n",
      " ['.' '4.0']\n",
      " ['E' '4.0']\n",
      " ['m' '4.0']\n",
      " ['|' '4.0']\n",
      " ['.' '4.0']\n",
      " ['E' '4.0']\n",
      " ['m' '4.0']\n",
      " ['|' '4.0']\n",
      " ['.' '4.0']\n",
      " ['C' '4.0']\n",
      " ['maj' '4.0']\n",
      " ['|' '4.0']\n",
      " ['.' '2.0']\n",
      " ['C' '2.0']\n",
      " ['maj' '2.0']\n",
      " ['.' '2.0']\n",
      " ['E' '2.0']\n",
      " ['m' '2.0']\n",
      " ['Form_B' '2.0']\n",
      " ['|' '2.0']\n",
      " ['.' '4.0']\n",
      " ['E' '4.0']\n",
      " ['m7' '4.0']\n",
      " ['|' '4.0']\n",
      " ['.' '4.0']\n",
      " ['E' '4.0']\n",
      " ['m6' '4.0']\n",
      " ['|' '4.0']\n",
      " ['.' '4.0']\n",
      " ['C' '4.0']\n",
      " ['maj' '4.0']\n",
      " ['/' '4.0']\n",
      " ['E' '4.0']\n",
      " ['|' '4.0']\n",
      " ['.' '4.0']\n",
      " ['E' '4.0']\n",
      " ['m' '4.0']\n",
      " ['|' '4.0']\n",
      " ['.' '4.0']\n",
      " ['E' '4.0']\n",
      " ['m7' '4.0']\n",
      " ['|' '4.0']\n",
      " ['.' '4.0']\n",
      " ['E' '4.0']\n",
      " ['m6' '4.0']\n",
      " ['|' '4.0']\n",
      " ['.' '4.0']\n",
      " ['C' '4.0']\n",
      " ['maj' '4.0']\n",
      " ['/' '4.0']\n",
      " ['E' '4.0']\n",
      " ['Form_Coda' '4.0']\n",
      " ['e||' '4.0']\n",
      " ['.' '4.0']\n",
      " ['E' '4.0']\n",
      " ['m' '4.0']\n",
      " ['|' '4.0']\n",
      " ['Form_C' '4.0']\n",
      " ['|' '4.0']\n",
      " ['.' '4.0']\n",
      " ['C' '4.0']\n",
      " ['maj' '4.0']\n",
      " ['|' '4.0']\n",
      " ['.' '4.0']\n",
      " ['C' '4.0']\n",
      " ['maj' '4.0']\n",
      " ['|' '4.0']\n",
      " ['.' '4.0']\n",
      " ['E' '4.0']\n",
      " ['m' '4.0']\n",
      " ['|' '4.0']\n",
      " ['.' '4.0']\n",
      " ['E' '4.0']\n",
      " ['m' '4.0']\n",
      " ['|' '4.0']\n",
      " ['Form_Coda' '4.0']\n",
      " ['b||' '4.0']\n",
      " ['.' '4.0']\n",
      " ['E' '4.0']\n",
      " ['m' '4.0']]\n"
     ]
    }
   ],
   "source": [
    "id = 1202\n",
    "print(np.array(corrected_sequence[id]))"
   ]
  },
  {
   "cell_type": "code",
   "execution_count": null,
   "metadata": {},
   "outputs": [
    {
     "name": "stdout",
     "output_type": "stream",
     "text": [
      "4006\n",
      "[('<style>', 0.0), ('Medium Swing', 0.0), ('|', 0.0), ('.', 4.0), ('Eb', 4.0), ('maj', 4.0), ('|', 4.0), ('.', 4.0), ('Eb', 4.0), ('maj', 4.0), ('|', 4.0), ('.', 4.0), ('E', 4.0), ('o', 4.0), ('|', 4.0), ('.', 4.0), ('E', 4.0), ('o', 4.0), ('|', 4.0), ('.', 4.0), ('F', 4.0), ('m7', 4.0), ('|', 4.0), ('.', 4.0), ('Bb', 4.0), ('dom7', 4.0), ('|', 4.0), ('.', 4.0), ('Eb', 4.0), ('maj', 4.0), ('|', 4.0), ('.', 4.0), ('Eb', 4.0), ('maj', 4.0), ('.', 4.0), ('Eb', 4.0), ('maj', 4.0), ('|', 4.0), ('.', 4.0), ('Eb', 4.0), ('maj', 4.0), ('|', 4.0), ('.', 4.0), ('E', 4.0), ('o', 4.0), ('|', 4.0), ('.', 4.0), ('E', 4.0), ('o', 4.0), ('|', 4.0), ('.', 4.0), ('F', 4.0), ('m7', 4.0), ('|', 4.0), ('.', 4.0), ('Bb', 4.0), ('dom7', 4.0), ('|', 4.0), ('.', 4.0), ('Eb', 4.0), ('maj', 4.0), ('|', 4.0), ('.', 2.0), ('A', 2.0), ('m7', 2.0), ('.', 2.0), ('D', 2.0), ('dom7', 2.0), ('|', 2.0), ('.', 4.0), ('G', 4.0), ('maj', 4.0), ('|', 4.0), ('.', 2.0), ('A', 2.0), ('m7', 2.0), ('.', 2.0), ('D', 2.0), ('dom7', 2.0), ('|', 2.0), ('.', 4.0), ('G', 4.0), ('maj', 4.0), ('|', 4.0), ('.', 2.0), ('A', 2.0), ('m7', 2.0), ('.', 2.0), ('D', 2.0), ('dom7', 2.0), ('|', 2.0), ('.', 4.0), ('G', 4.0), ('m7', 4.0), ('|', 4.0), ('.', 4.0), ('C', 4.0), ('dom7', 4.0), ('|', 4.0), ('.', 4.0), ('F', 4.0), ('dom7', 4.0), ('|', 4.0), ('.', 4.0), ('Bb', 4.0), ('dom7', 4.0), ('|', 4.0), ('.', 4.0), ('Eb', 4.0), ('maj', 4.0), ('|', 4.0), ('.', 4.0), ('Eb', 4.0), ('maj', 4.0), ('|', 4.0), ('.', 4.0), ('Gb', 4.0), ('o', 4.0), ('|', 4.0), ('.', 4.0), ('Gb', 4.0), ('o', 4.0), ('|', 4.0), ('.', 4.0), ('F', 4.0), ('m7', 4.0), ('|', 4.0), ('.', 4.0), ('Bb', 4.0), ('dom7', 4.0), ('|', 4.0), ('.', 4.0), ('Eb', 4.0), ('maj', 4.0), ('|', 4.0), ('.', 4.0), ('Eb', 4.0), ('maj', 4.0), ('.', 4.0), ('Eb', 4.0), ('maj', 4.0), ('|', 4.0), ('.', 4.0), ('Eb', 4.0), ('maj', 4.0), ('|', 4.0), ('.', 4.0), ('E', 4.0), ('o', 4.0), ('|', 4.0), ('.', 4.0), ('E', 4.0), ('o', 4.0), ('|', 4.0), ('.', 4.0), ('F', 4.0), ('m7', 4.0), ('|', 4.0), ('.', 4.0), ('Bb', 4.0), ('dom7', 4.0), ('|', 4.0), ('.', 4.0), ('Eb', 4.0), ('maj', 4.0), ('|', 4.0), ('.', 4.0), ('G', 4.0), ('m7', 4.0), ('|', 4.0), ('.', 4.0), ('C', 4.0), ('dom7', 4.0), ('|', 4.0), ('.', 4.0), ('F', 4.0), ('m7', 4.0), ('|', 4.0), ('.', 4.0), ('Bb', 4.0), ('dom7', 4.0), ('|', 4.0), ('.', 4.0), ('Eb', 4.0), ('maj', 4.0), ('|', 4.0), ('.', 4.0), ('Eb', 4.0), ('maj', 4.0)]\n"
     ]
    }
   ],
   "source": [
    "#clean the elements that are ''\n",
    "dataset = [[tup for tup in inner_list if tup[0] != ''] for inner_list in corrected_sequence]\n",
    "\n",
    "print(len(dataset))\n",
    "print(dataset[0])\n",
    "\n",
    "for song in dataset:\n",
    "    for i, e in enumerate(song):\n",
    "        if e[0] == '':\n",
    "            print(song)\n",
    "            print(i)\n",
    "            break"
   ]
  },
  {
   "cell_type": "code",
   "execution_count": null,
   "metadata": {},
   "outputs": [
    {
     "data": {
      "application/vnd.jupyter.widget-view+json": {
       "model_id": "267ef7e4ba95448ab2b72b1b033913ec",
       "version_major": 2,
       "version_minor": 0
      },
      "text/plain": [
       "  0%|          | 0/4006 [00:00<?, ?it/s]"
      ]
     },
     "metadata": {},
     "output_type": "display_data"
    }
   ],
   "source": [
    "'''\n",
    "This section is important to define a more concise format and tokenization.\n",
    "Fix the format of extensions to avoid repeated elements\n",
    "'''\n",
    "\n",
    "xmlT.fix_extensions(dataset)"
   ]
  },
  {
   "cell_type": "code",
   "execution_count": null,
   "metadata": {},
   "outputs": [
    {
     "name": "stdout",
     "output_type": "stream",
     "text": [
      "202\n",
      "{'A#', 'Afoxé', 'Bossa Nova', 'Repeat_0', 'Fusion', 'alter b9', '<style>', 'add b13', 'alter #11', 'March', 'Form_B', 'Pop Folk', 'Rock Blues', 'm6', 'Medium Country', 'Tango', 'Bolero', 'Pop', 'Bolero-Son', 'sus4', 'Up Waltz (One Feel)', 'Slow Shuffle', 'Shuffle Blues', 'Electro Pop', 'Db', 'Bolero-Cha', 'Rock Pop', 'Moderate Latin', \"R'n'B\", 'Up Tempo', 'Electric Blues', 'Dreamlike', ':|', 'N.C.', 'RnB', 'Maxixe', 'Up Swing', 'G', 'Latin-Swing', 'alter #9', 'm', 'Samba', 'Afro', 'Reggae', 'Hymn', 'add 13', 'Waltz', 'Medium Funk', 'add #11', 'add #7', 'Gypsy Swing', 'Up Samba', 'Medium Swing', 'Form_A', 'Baião', 'Pop-Shuffle', 'maj7', 'Pop Shuffle', 'Country Blues', 'Salsa', 'Choro - Samba', 'Bossa Acoustic', 'Country Ballad', 'Gary Aprile', 'Rock/Reggae', 'Mambo', 'maj6', 'Form_intro', 'power', 'Repeat_2', 'sus7', 'Medium Shuffle', 'Medium Up', 'A', 'maj', 'Merengue', 'Reggae Pop', 'Beatles', 'E', 'Rock Ballad', 'Deliberately', 'Slow Ballad', 'Worship', 'Slowly', 'Folk Ballad', 'Gypsy Bossa', 'Folk Rock', 'Samba-Rock', 'Gb', 'Medium Up Swing', 'Folk', 'Slow Rock', 'Even 16ths', 'Funk', 'Traditional Gospel', 'Shuffle', 'F#', 'Blues', 'B', 'D#', 'add b9', 'Fast Swing', 'G#', 'Afro-Samba', 'Foxtrot', 'alter #5', 'o', 'D', 'Even 8ths', 'dom7', 'Samba Enredo', 'Latin', 'add b6', 'Bright Shuffle Blues', 'Medium Pop', 'Soul Ballad', 'Slow Blues', 'F', 'alter b5', 'Cha Cha', 'Afoxe', 'Rock/Hip Hop', 'Jazz', 'Blues Shuffle', 'Bb', 'Repeat_1', 'Slow Swing', 'Funk Jazz', 'Form_Coda', 'Blues Pop', '|', '/', 'Pop jazz', 'Pop Rock', 'Form_verse', 'add 7', 'Medium Rock', 'Rock Waltz', 'o7', 'Slow Bossa', 'Medium Waltz', 'Eb', 'Ballad', 'Form_D', 'Samba Funk', 'Medium Ballad', 'Samba Reggae', '.', 'Disco Funk', 'add 9', 'Medium Blues', \"Rock'n'Roll\", 'Montuno', 'b||', 'Cuban Son', 'add #5', '128 Feel', \"Even 8th's\", 'Calypso', 'o_maj7', 'Ab', 'Folk-Rock', 'Choro', 'Forró', 'Blues Rock', 'Rock-Folk', 'Med Up Latin', 'Pop Ballad', 'C#', 'Frevo', 'Cb', 'Musical', 'e||', 'Up Tempo Swing', 'Repeat_3', 'Medium Slow', 'Rock Slow', 'Gypsy Waltz', 'Gospel Ballad', 'add #9', 'add 11', 'Marchinha', 'Chacarera', 'C', 'add 2', 'Son', 'Funk Rock', 'Afoxé-Samba', 'Form_C', \"Even 8's\", 'Rock', 'Moderately', 'Fast Blues', 'Power Ballad', 'Disco', 'Samba-Funk', 'aug', 'm7', 'Form_Segno', 'major-13th', 'Soul', 'UP Swing'}\n"
     ]
    }
   ],
   "source": [
    "#Check vocabulary\n",
    "chords_array = [[item[0] for item in row] for row in dataset]\n",
    "concatenated_array = np.hstack(chords_array) \n",
    "vocab = set(concatenated_array)\n",
    "\n",
    "print(len(vocab))\n",
    "print(np.array(vocab))"
   ]
  },
  {
   "cell_type": "code",
   "execution_count": null,
   "metadata": {},
   "outputs": [
    {
     "name": "stdout",
     "output_type": "stream",
     "text": [
      "['<style>', 'Funk', 'Form_intro', '|', '.', 'Bb', 'dom7', 'add 9', '|', '.', 'Bb', 'dom7', 'add 9', '|', '.', 'Eb', 'maj7', '|', '.', 'Eb', 'maj7', '.', 'Bb', 'dom7', 'add 9', '|', '.', 'Bb', 'dom7', 'add 9', '|', '.', 'Eb', 'maj7', '|', '.', 'Eb', 'maj7', '.', 'Bb', 'dom7', 'add 9', '|', '.', 'Bb', 'dom7', 'add 9', '|', '.', 'Eb', 'maj7', '|', '.', 'Eb', 'maj7', '.', 'Bb', 'dom7', 'add 9', '|', '.', 'Bb', 'dom7', 'add 9', '|', '.', 'Eb', 'maj7', '|', '.', 'Eb', 'maj7', '.', 'Bb', 'dom7', 'add 9', '|', '.', 'Bb', 'dom7', 'add 9', '|', '.', 'Eb', 'maj7', '|', '.', 'Eb', 'maj7', '.', 'Bb', 'dom7', 'add 9', '|', '.', 'Bb', 'dom7', 'add 9', '|', '.', 'Eb', 'maj7', '|', '.', 'Eb', 'maj7', '|', 'Form_Segno', '|', '.', 'Bb', 'dom7', 'add 9', '|', '.', 'Bb', 'dom7', 'add 9', '|', '.', 'Eb', 'maj7', '|', '.', 'Eb', 'maj7', '|', '.', 'Bb', 'dom7', 'add 9', '|', '.', 'Bb', 'dom7', 'add 9', '|', '.', 'Eb', 'maj7', '|', '.', 'Eb', 'maj7', '|', '|', '.', 'Eb', 'maj7', '.', 'A', 'dom7', 'alter b5', 'Form_B', '|', '.', 'Ab', 'maj7', '.', 'Db', 'maj7', 'add 9', '|', '.', 'Gb', 'maj7', '.', 'Bb', 'm7', '|', '.', 'Eb', 'maj7', '|', '.', 'Eb', 'maj7', 'add #11', '.', 'Db', 'maj7', 'add #11', '|', '.', 'Eb', 'maj7', 'add #11', 'alter b5', '.', 'A', 'dom7', 'add #11', 'alter b5', '|', '|', '.', 'Eb', 'maj7', 'e||', '.', 'Bb', 'dom7', 'add 9', '|', '.', 'Bb', 'dom7', 'add 9', '|', '.', 'Eb', 'maj7', '|', '.', 'Eb', 'maj7', '|', '.', 'Bb', 'dom7', 'add 9', '|', '.', 'Bb', 'dom7', 'add 9', '|', '.', 'Eb', 'maj7', '|', '.', 'Eb', 'maj7', '|', '|', '.', 'Eb', 'maj7', '.', 'A', 'dom7', 'alter b5', 'Form_D', '|', '.', 'Ab', 'maj7', '.', 'Db', 'maj7', 'add 9', '|', '.', 'Gb', 'maj7', '.', 'Bb', 'm7', '|', '.', 'Eb', 'm7', 'add 9', '|', '.', 'E', 'm7', 'add 9', '.', 'A', 'dom7', '|', '.', 'Ab', 'maj7', '.', 'Db', 'maj7', 'add 9', '|', '.', 'Gb', 'maj7', '.', 'Bb', 'm7', '|', '.', 'G', 'm7', '|', '.', 'Ab', 'm7', '.', 'Db', 'dom7', 'add 13', 'alter #11', 'Form_Coda', 'b||', '.', 'Bb', 'dom7', 'add 9', '|', '.', 'Bb', 'dom7', 'add 9', '|', '.', 'Eb', 'maj7', '|', '.', 'Eb', 'maj7', '|']\n"
     ]
    }
   ],
   "source": [
    "id = 2021\n",
    "strings_array = [item[0] for item in dataset[id] if item[0] != '']\n",
    "print(strings_array)"
   ]
  },
  {
   "cell_type": "code",
   "execution_count": null,
   "metadata": {},
   "outputs": [
    {
     "name": "stderr",
     "output_type": "stream",
     "text": [
      "4006it [00:00, 8906.67it/s]"
     ]
    },
    {
     "name": "stdout",
     "output_type": "stream",
     "text": [
      "['<style>', 'Medium Swing', '|', '.', 'Eb', 'maj', '|', '.', 'Eb', 'maj', '|', '.', 'E', 'o', '|', '.', 'E', 'o', '|', '.', 'F', 'm7', '|', '.', 'Bb', 'dom7', '|', '.', 'Eb', 'maj', '|', '.', 'Eb', 'maj', '.', 'Eb', 'maj', '|', '.', 'Eb', 'maj', '|', '.', 'E', 'o', '|', '.', 'E', 'o', '|', '.', 'F', 'm7', '|', '.', 'Bb', 'dom7', '|', '.', 'Eb', 'maj', '|', '.', 'A', 'm7', '.', 'D', 'dom7', '|', '.', 'G', 'maj', '|', '.', 'A', 'm7', '.', 'D', 'dom7', '|', '.', 'G', 'maj', '|', '.', 'A', 'm7', '.', 'D', 'dom7', '|', '.', 'G', 'm7', '|', '.', 'C', 'dom7', '|', '.', 'F', 'dom7', '|', '.', 'Bb', 'dom7', '|', '.', 'Eb', 'maj', '|', '.', 'Eb', 'maj', '|', '.', 'Gb', 'o', '|', '.', 'Gb', 'o', '|', '.', 'F', 'm7', '|', '.', 'Bb', 'dom7', '|', '.', 'Eb', 'maj', '|', '.', 'Eb', 'maj', '.', 'Eb', 'maj', '|', '.', 'Eb', 'maj', '|', '.', 'E', 'o', '|', '.', 'E', 'o', '|', '.', 'F', 'm7', '|', '.', 'Bb', 'dom7', '|', '.', 'Eb', 'maj', '|', '.', 'G', 'm7', '|', '.', 'C', 'dom7', '|', '.', 'F', 'm7', '|', '.', 'Bb', 'dom7', '|', '.', 'Eb', 'maj', '|', '.', 'Eb', 'maj']\n"
     ]
    },
    {
     "name": "stderr",
     "output_type": "stream",
     "text": [
      "\n"
     ]
    }
   ],
   "source": [
    "#Find duplicated 'add' or 'alter' elements and remove them\n",
    "\n",
    "def correctDuplicatedExtensions(sequence):\n",
    "    structural_elements = {'.', '|', ':|', '|:', '/', 'N.C.'}\n",
    "\n",
    "    for x, song in tqdm(enumerate(sequence)):\n",
    "        for y, item in enumerate(song):\n",
    "            e = item[0]\n",
    "            if '.' in e:\n",
    "                search = True\n",
    "                stepper = y + 2\n",
    "                check_extensions = []\n",
    "                while search:\n",
    "                    if (stepper) >= len(song):\n",
    "                        search = False\n",
    "                        #print('End of song')\n",
    "                        break\n",
    "                    elif stepper < len(song) - 1:\n",
    "                        element = song[stepper][0]\n",
    "            \n",
    "                    if element in structural_elements or element.startswith('Form_'):\n",
    "                        search = False\n",
    "                    else:\n",
    "                        if element not in check_extensions:\n",
    "                            check_extensions.append(element)\n",
    "                        elif stepper < len(song)-1:\n",
    "                            #print('Duplicated:', x, stepper, element, check_extensions)\n",
    "                            song.pop(stepper)\n",
    "                        stepper += 1\n",
    "                if len(check_extensions) > 2:\n",
    "                    continue\n",
    "                    print(x, y+stepper, check_extensions)\n",
    "                \n",
    "correctDuplicatedExtensions(dataset)\n",
    "id = 0\n",
    "strings_array = [item[0] for item in dataset[id] if item[0] != '']\n",
    "print(strings_array)"
   ]
  },
  {
   "cell_type": "code",
   "execution_count": null,
   "metadata": {},
   "outputs": [
    {
     "name": "stdout",
     "output_type": "stream",
     "text": [
      "{'N.C.', '.', 'b||', '||', '|', '/', 'e||', ':|', '|:'}\n"
     ]
    }
   ],
   "source": [
    "'''\n",
    "This sequences have some elements that are repeated and should be removed\n",
    "If the code is run twice, no print should be shown\n",
    "'''\n",
    "import voicing as vc\n",
    "\n",
    "fix_this = [{'seq': ['dom7', 'sus7', 'add b9'], 'remove': 'dom7'},\n",
    "            {'seq': ['sus7', 'add 13', 'sus4'], 'remove': 'sus4'},\n",
    "            {'seq': ['sus7', 'add 9', 'sus4'], 'remove': 'sus4'},\n",
    "            {'seq': ['m', 'add 6', 'add 9', 'sus4'], 'remove': 'sus4'},\n",
    "            {'seq': ['sus7', 'add 13', 'sus4', 'add b9'], 'remove': 'sus4'},\n",
    "            {'seq': ['dom7', 'add 13', 'sus4', 'add b9'], 'remove': 'sus4'}]\n",
    "\n",
    "structural_elements = vc.Voicing().getStructuralElements()\n",
    "\n",
    "for x, song in enumerate(dataset):\n",
    "    for y, e in enumerate(song):\n",
    "        if '.' in e[0]:\n",
    "            search = True\n",
    "            stepper = y + 2\n",
    "            check_extensions = []\n",
    "            while search:\n",
    "                if (stepper) >= len(song):\n",
    "                    search = False\n",
    "                    #print('End of song')\n",
    "                    break\n",
    "                elif stepper < len(song) - 1:\n",
    "                    element = song[stepper][0]\n",
    "        \n",
    "                if element in structural_elements or element.startswith('Form_'):\n",
    "                    search = False\n",
    "                else:\n",
    "                    if element not in check_extensions:\n",
    "                        check_extensions.append(element)\n",
    "                    for item in fix_this:\n",
    "                        if check_extensions == item['seq']:\n",
    "                            print(x, stepper, check_extensions, 'to remove:', item['remove'])\n",
    "                            #find the location of the element in the array\n",
    "                            for i in range(len(check_extensions)):\n",
    "                                if check_extensions[i] == item['remove']:\n",
    "                                    location = i + stepper - 2\n",
    "                                    #erase this element from song\n",
    "                                    if location < len(song):\n",
    "                                        print(location, item['remove'], song[location])\n",
    "                                        song.pop(location)\n",
    "                                    break\n",
    "                            \n",
    "                    stepper += 1\n",
    "\n"
   ]
  },
  {
   "cell_type": "code",
   "execution_count": null,
   "metadata": {},
   "outputs": [
    {
     "name": "stdout",
     "output_type": "stream",
     "text": [
      "{'composer': 'George Gershwin, Ira Gershwin (1927)', 'style': 'Medium Swing', 'song_name': \"'S Wonderful\", 'tonality': 'Eb major', 'midi_key': 15, 'time_signature': '4/4', 'decade': 'Null'}\n",
      "[('<style>', 0.0), ('Medium Swing', 0.0), ('|', 0.0), ('.', 4.0), ('Eb', 4.0), ('maj', 4.0), ('|', 4.0), ('.', 4.0), ('Eb', 4.0), ('maj', 4.0), ('|', 4.0), ('.', 4.0), ('E', 4.0), ('o', 4.0), ('|', 4.0), ('.', 4.0), ('E', 4.0), ('o', 4.0), ('|', 4.0), ('.', 4.0), ('F', 4.0), ('m7', 4.0), ('|', 4.0), ('.', 4.0), ('Bb', 4.0), ('dom7', 4.0), ('|', 4.0), ('.', 4.0), ('Eb', 4.0), ('maj', 4.0), ('|', 4.0), ('.', 4.0), ('Eb', 4.0), ('maj', 4.0), ('.', 4.0), ('Eb', 4.0), ('maj', 4.0), ('|', 4.0), ('.', 4.0), ('Eb', 4.0), ('maj', 4.0), ('|', 4.0), ('.', 4.0), ('E', 4.0), ('o', 4.0), ('|', 4.0), ('.', 4.0), ('E', 4.0), ('o', 4.0), ('|', 4.0), ('.', 4.0), ('F', 4.0), ('m7', 4.0), ('|', 4.0), ('.', 4.0), ('Bb', 4.0), ('dom7', 4.0), ('|', 4.0), ('.', 4.0), ('Eb', 4.0), ('maj', 4.0), ('|', 4.0), ('.', 2.0), ('A', 2.0), ('m7', 2.0), ('.', 2.0), ('D', 2.0), ('dom7', 2.0), ('|', 2.0), ('.', 4.0), ('G', 4.0), ('maj', 4.0), ('|', 4.0), ('.', 2.0), ('A', 2.0), ('m7', 2.0), ('.', 2.0), ('D', 2.0), ('dom7', 2.0), ('|', 2.0), ('.', 4.0), ('G', 4.0), ('maj', 4.0), ('|', 4.0), ('.', 2.0), ('A', 2.0), ('m7', 2.0), ('.', 2.0), ('D', 2.0), ('dom7', 2.0), ('|', 2.0), ('.', 4.0), ('G', 4.0), ('m7', 4.0), ('|', 4.0), ('.', 4.0), ('C', 4.0), ('dom7', 4.0), ('|', 4.0), ('.', 4.0), ('F', 4.0), ('dom7', 4.0), ('|', 4.0), ('.', 4.0), ('Bb', 4.0), ('dom7', 4.0), ('|', 4.0), ('.', 4.0), ('Eb', 4.0), ('maj', 4.0), ('|', 4.0), ('.', 4.0), ('Eb', 4.0), ('maj', 4.0), ('|', 4.0), ('.', 4.0), ('Gb', 4.0), ('o', 4.0), ('|', 4.0), ('.', 4.0), ('Gb', 4.0), ('o', 4.0), ('|', 4.0), ('.', 4.0), ('F', 4.0), ('m7', 4.0), ('|', 4.0), ('.', 4.0), ('Bb', 4.0), ('dom7', 4.0), ('|', 4.0), ('.', 4.0), ('Eb', 4.0), ('maj', 4.0), ('|', 4.0), ('.', 4.0), ('Eb', 4.0), ('maj', 4.0), ('.', 4.0), ('Eb', 4.0), ('maj', 4.0), ('|', 4.0), ('.', 4.0), ('Eb', 4.0), ('maj', 4.0), ('|', 4.0), ('.', 4.0), ('E', 4.0), ('o', 4.0), ('|', 4.0), ('.', 4.0), ('E', 4.0), ('o', 4.0), ('|', 4.0), ('.', 4.0), ('F', 4.0), ('m7', 4.0), ('|', 4.0), ('.', 4.0), ('Bb', 4.0), ('dom7', 4.0), ('|', 4.0), ('.', 4.0), ('Eb', 4.0), ('maj', 4.0), ('|', 4.0), ('.', 4.0), ('G', 4.0), ('m7', 4.0), ('|', 4.0), ('.', 4.0), ('C', 4.0), ('dom7', 4.0), ('|', 4.0), ('.', 4.0), ('F', 4.0), ('m7', 4.0), ('|', 4.0), ('.', 4.0), ('Bb', 4.0), ('dom7', 4.0), ('|', 4.0), ('.', 4.0), ('Eb', 4.0), ('maj', 4.0), ('|', 4.0), ('.', 4.0), ('Eb', 4.0), ('maj', 4.0)]\n"
     ]
    }
   ],
   "source": [
    "id = 0\n",
    "print(all_meta[id])\n",
    "print(dataset[id])\n"
   ]
  },
  {
   "cell_type": "code",
   "execution_count": null,
   "metadata": {},
   "outputs": [
    {
     "name": "stdout",
     "output_type": "stream",
     "text": [
      "Max: {'v': 1423, 'id': 141} Min: {'v': 31, 'id': 3331}\n"
     ]
    }
   ],
   "source": [
    "#Check the length of the song\n",
    "\n",
    "max = {'v': 0, 'id': 0}\n",
    "min = {'v': 1000, 'id': 0}\n",
    "\n",
    "for i in range(len(dataset)):\n",
    "    if len(dataset[i]) > max['v']:\n",
    "        max['v'] = len(dataset[i])\n",
    "        max['id'] = i\n",
    "    if len(dataset[i]) < min['v']:\n",
    "        min['v'] = len(dataset[i])\n",
    "        min['id'] = i\n",
    "\n",
    "print('Max:', max, 'Min:', min)\n"
   ]
  },
  {
   "cell_type": "code",
   "execution_count": null,
   "metadata": {},
   "outputs": [
    {
     "data": {
      "text/plain": [
       "<seaborn.axisgrid.FacetGrid at 0x7f38cc2815a0>"
      ]
     },
     "execution_count": 112,
     "metadata": {},
     "output_type": "execute_result"
    },
    {
     "data": {
      "image/png": "[encoded data removed]",
      "text/plain": [
       "<Figure size 500x500 with 1 Axes>"
      ]
     },
     "metadata": {},
     "output_type": "display_data"
    }
   ],
   "source": [
    "import seaborn as sns\n",
    "\n",
    "#visualize the length of the songs\n",
    "\n",
    "length = []\n",
    "for song in dataset:\n",
    "    length.append(len(song))\n",
    "    \n",
    "sns.displot(length, kde=False, bins=100)"
   ]
  },
  {
   "cell_type": "code",
   "execution_count": null,
   "metadata": {},
   "outputs": [
    {
     "name": "stdout",
     "output_type": "stream",
     "text": [
      "Message To A Friend\n",
      "4005\n",
      "['<style>', 'Ballad', 'Form_A', '|', '.', 'C', 'maj', '.', 'E', 'm', '/', 'B', '|', '.', 'B', 'sus4', '.', 'B', 'maj', '.', 'B', 'maj', '/', 'A', '|', '.', 'G', 'maj', '.', 'C', 'maj7', '|', '.', 'C#', 'm7', 'alter b5', '.', 'G', 'maj7', '/', 'D', '|', '.', 'D', 'maj', '/', 'F#', '.', 'C', 'maj', '/', 'E', '|', '.', 'C', 'm', '/', 'Eb', '.', 'G', 'maj', '/', 'D', '|', '.', 'C#', 'm7', 'alter b5', '.', 'F#', 'dom7', '/', 'C#', '|', '.', 'B', 'maj', '.', 'A', 'm7', '.', 'D', 'dom7', '/', 'A', 'Form_B', '|', '.', 'G', 'maj', 'add 9', '.', 'D', 'maj', '/', 'F#', '|', '.', 'C', 'maj7', '/', 'E', '.', 'C#', 'm7', 'alter b5', '|', '.', 'G', 'maj', '/', 'D', '.', 'B', 'dom7', '/', 'D#', '|', '.', 'G', 'dom7', '/', 'D', '.', 'A', 'dom7', '/', 'C#', 'Form_Coda', 'e||', '.', 'C', 'maj7', '.', 'A', 'm7', '|', '.', 'B', 'm7', '.', 'E', 'm7', 'add 9', '|', '.', 'C', 'maj', '/', 'D', '|', '.', 'C', 'maj', '/', 'D', '|', '.', 'C#', 'm7', 'alter b5', '.', 'G', 'maj', '/', 'D', '|', '.', 'B', 'dom7', '/', 'D#', '.', 'E', 'm', 'Form_Coda', 'b||', '.', 'B', 'm7', '.', 'E', 'm7', 'add 9', '|', '.', 'C#', 'm7', 'alter b5', '.', 'D', 'maj', '/', 'C', '|', '.', 'B', 'm7', '.', 'E', 'm7', 'add 9', '|', '.', 'C', 'm', 'add #7', '|', '.', 'C', 'm', 'add #7', '|', '.', 'A', 'm7', 'add 9', '.', 'Bb', 'maj7', '|', '.', 'C', 'maj', '/', 'B', '.', 'F#', 'maj', '/', 'D', '|', '.', 'G', 'maj7', 'add #11']\n"
     ]
    }
   ],
   "source": [
    "import voicing as vc\n",
    "voicing = vc.Voicing()\n",
    "\n",
    "print(all_meta[4005]['song_name'])\n",
    "id = 0\n",
    "for i, data in enumerate(all_meta):\n",
    "    if 'Message To A Friend' in data['song_name']:\n",
    "        id = i\n",
    "        print(i)\n",
    "        break\n",
    "\n",
    "strings_array =  voicing.get_chords(dataset[id]) \n",
    "print(strings_array)\n"
   ]
  },
  {
   "cell_type": "code",
   "execution_count": null,
   "metadata": {},
   "outputs": [
    {
     "name": "stderr",
     "output_type": "stream",
     "text": [
      "100%|██████████| 10/10 [00:00<00:00, 3868.93it/s]"
     ]
    },
    {
     "name": "stdout",
     "output_type": "stream",
     "text": [
      "10\n",
      "[\"'S Wonderful\", \"'Tain't No Sin To Take Off Your Skin\", \"'Tain't What You Do (It's The Way That Cha Do It)\", '101 Eastbound', '11 y 6 (Euforia)', '1612', '26-2', '500 Miles High', '502 Blues', '52nd Street Theme']\n"
     ]
    },
    {
     "name": "stderr",
     "output_type": "stream",
     "text": [
      "\n"
     ]
    }
   ],
   "source": [
    "import voicing as vc\n",
    "\n",
    "#check the voicing conversion of all chords\n",
    "from_ = 0\n",
    "to_ = 10\n",
    "myTracks = dataset[from_:to_]\n",
    "sub_names = []\n",
    "for names in all_meta[from_:to_]:\n",
    "    sub_names.append(names['song_name'])\n",
    "voicing = vc.Voicing()\n",
    "midi_voicing = []\n",
    "\n",
    "\n",
    "i = 0\n",
    "for item in tqdm(myTracks):\n",
    "    mv, status = voicing.convert_chords_to_voicing(item)\n",
    "    midi_voicing.append(mv)\n",
    "    if status == False:\n",
    "        print(i, '\\n', all_meta[i], '\\n', item)\n",
    "        break\n",
    "    i += 1\n",
    "print(len(midi_voicing))\n",
    "print(sub_names)"
   ]
  },
  {
   "cell_type": "code",
   "execution_count": null,
   "metadata": {},
   "outputs": [
    {
     "name": "stdout",
     "output_type": "stream",
     "text": [
      "song: 'S Wonderful\n",
      "MIDI file created! \n",
      "---------------------------------\n",
      "song: 'Tain't No Sin To Take Off Your Skin\n",
      "MIDI file created! \n",
      "---------------------------------\n",
      "song: 'Tain't What You Do (It's The Way That Cha Do It)\n",
      "MIDI file created! \n",
      "---------------------------------\n",
      "song: 101 Eastbound\n",
      "MIDI file created! \n",
      "---------------------------------\n",
      "song: 11 y 6 (Euforia)\n",
      "MIDI file created! \n",
      "---------------------------------\n",
      "song: 1612\n",
      "MIDI file created! \n",
      "---------------------------------\n",
      "song: 26-2\n",
      "MIDI file created! \n",
      "---------------------------------\n",
      "song: 500 Miles High\n",
      "MIDI file created! \n",
      "---------------------------------\n",
      "song: 502 Blues\n",
      "MIDI file created! \n",
      "---------------------------------\n",
      "song: 52nd Street Theme\n",
      "MIDI file created! \n",
      "---------------------------------\n"
     ]
    }
   ],
   "source": [
    "voicing = vc.Voicing()\n",
    "\n",
    "path = \"../data/midi_files/\"\n",
    "\n",
    "for i in range(len(midi_voicing)):\n",
    "    voicing.export_to_midi(midi_voicing[i], path, sub_names[i])\n"
   ]
  },
  {
   "cell_type": "code",
   "execution_count": null,
   "metadata": {},
   "outputs": [
    {
     "name": "stdout",
     "output_type": "stream",
     "text": [
      "{'composer': 'Pat Metheny', 'style': 'Ballad', 'song_name': 'Message To A Friend', 'tonality': 'C major', 'midi_key': 12, 'time_signature': '4/4', 'decade': 'Null'}\n",
      "['<style>' 'Ballad' '|' 'Form_A' '.' 'C' 'major' '.' 'E' 'minor' '|' '.'\n",
      " 'B' 'suspended-fourth' '.' 'B' 'major' '.' 'B' 'major' '|' '.' 'G'\n",
      " 'major' '.' 'C' 'major-seventh' '|' '.' 'C#' 'minor-seventh' 'alter b5'\n",
      " '.' 'G' 'major-seventh' '|' '.' 'D' 'major' '/' 'F#' '.' 'C' 'major' '|'\n",
      " '.' 'C' 'minor' '/' 'Eb' '.' 'G' 'major' '|' '.' 'C#' 'minor-seventh'\n",
      " 'alter b5' '.' 'F#' 'dominant' '/' 'C#' '|' '.' 'B' 'major' '/' 'C#' '.'\n",
      " 'A' 'minor-seventh' '/' 'C#' '.' 'D' 'dominant' '|' 'Form_B' '.' 'G'\n",
      " 'major' 'add 9' '.' 'D' 'major' '/' 'F#' '|' '.' 'C' 'major-seventh' '.'\n",
      " 'C#' 'minor-seventh' 'alter b5' '|' '.' 'G' 'major' '.' 'B' 'dominant'\n",
      " '/' 'D#' '|' '.' 'G' 'dominant' '.' 'A' 'dominant' '/' 'C#' '|'\n",
      " 'Form_Coda' '.' 'C' 'major-seventh' '/' 'C#' '.' 'A' 'minor-seventh' '/'\n",
      " 'C#' '|' '.' 'B' 'minor-seventh' '/' 'C#' '.' 'E' 'minor-ninth' '/' 'C#'\n",
      " '|' '.' 'C' 'major' '|' '.' 'C' 'major' '|' '.' 'C#' 'minor-seventh'\n",
      " 'alter b5' '.' 'G' 'major' '|' '.' 'B' 'dominant' '/' 'D#' '.' 'E'\n",
      " 'minor' '/' 'D#' '|' 'Form_Coda' '.' 'B' 'minor-seventh' '/' 'D#' '.' 'E'\n",
      " 'minor-ninth' '/' 'D#' '|' '.' 'C#' 'minor-seventh' 'alter b5' '/' 'D#'\n",
      " '.' 'D' 'major' '|' '.' 'B' 'minor-seventh' '.' 'E' 'minor-ninth' '|' '.'\n",
      " 'C' 'minor' 'add #7' '|' '.' 'C' 'minor' 'add #7' '|' '.' 'A'\n",
      " 'minor-ninth' '.' 'Bb' 'major-seventh' '|' '.' 'C' 'major' '.' 'F#'\n",
      " 'major' '|' '.' 'G' 'major-seventh' 'add #11']\n"
     ]
    }
   ],
   "source": [
    "id = 4005\n",
    "print(all_meta[id])\n",
    "print(theChordDataset[id])"
   ]
  }
 ],
 "metadata": {
  "kernelspec": {
   "display_name": "Python 3",
   "language": "python",
   "name": "python3"
  },
  "language_info": {
   "codemirror_mode": {
    "name": "ipython",
    "version": 3
   },
   "file_extension": ".py",
   "mimetype": "text/x-python",
   "name": "python",
   "nbconvert_exporter": "python",
   "pygments_lexer": "ipython3",
   "version": "3.10.12"
  }
 },
 "nbformat": 4,
 "nbformat_minor": 2
}
