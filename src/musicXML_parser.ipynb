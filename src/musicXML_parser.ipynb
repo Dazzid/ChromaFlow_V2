{
 "cells": [
  {
   "cell_type": "code",
   "execution_count": 287,
   "metadata": {},
   "outputs": [],
   "source": [
    "import numpy as np\n",
    "import xmlTranslator as xmlT\n",
    "from tqdm import tqdm\n",
    "%reload_ext autoreload\n",
    "%autoreload 2\n",
    "import importlib\n",
    "from utils import get_project_root\n",
    "from ipywidgets import FloatProgress"
   ]
  },
  {
   "cell_type": "markdown",
   "metadata": {},
   "source": [
    "TODO: \n",
    "- Repeat the sequences 3 times\n",
    "- Extend all chords into 18 enharmonic\n",
    "- Complete the voicing as a MIDI array \n",
    "- Split into train and test\n",
    "- Pass the MIDI into Embeddings"
   ]
  },
  {
   "cell_type": "code",
   "execution_count": 296,
   "metadata": {},
   "outputs": [
    {
     "data": {
      "application/vnd.jupyter.widget-view+json": {
       "model_id": "9d9bbe901e224db7a107b7a880524df6",
       "version_major": 2,
       "version_minor": 0
      },
      "text/plain": [
       "  0%|          | 0/4007 [00:00<?, ?it/s]"
      ]
     },
     "metadata": {},
     "output_type": "display_data"
    },
    {
     "name": "stdout",
     "output_type": "stream",
     "text": [
      "(4006,) (4006,)\n",
      "(4006,) (4006,) 4006\n"
     ]
    }
   ],
   "source": [
    "directory = '/data/iRealXML'\n",
    "root = get_project_root()\n",
    "myPath = str(root) + str(directory)\n",
    "\n",
    "theChordDataset, theDurationsDataset, all_meta = xmlT.parse_info_from_XML(myPath)\n",
    "print(theChordDataset.shape, theDurationsDataset.shape, len(all_meta))"
   ]
  },
  {
   "cell_type": "code",
   "execution_count": 297,
   "metadata": {},
   "outputs": [
    {
     "name": "stdout",
     "output_type": "stream",
     "text": [
      "['<style>' 'Ballad' '|' 'Form_A' '.' 'C' 'major' '.' 'E' 'minor' '/' 'B'\n",
      " '|' '.' 'B' 'suspended-fourth' '.' 'B' 'major' '.' 'B' 'major' '/' 'A'\n",
      " '|' '.' 'G' 'major' '.' 'C' 'major-seventh' '|' '.' 'C#' 'minor-seventh'\n",
      " 'alter b5' '.' 'G' 'major-seventh' '/' 'D' '|' '.' 'D' 'major' '/' 'F#'\n",
      " '.' 'C' 'major' '/' 'E' '|' '.' 'C' 'minor' '/' 'Eb' '.' 'G' 'major' '/'\n",
      " 'D' '|' '.' 'C#' 'minor-seventh' 'alter b5' '.' 'F#' 'dominant' '/' 'C#'\n",
      " '|' '.' 'B' 'major' '.' 'A' 'minor-seventh' '.' 'D' 'dominant' '/' 'A'\n",
      " '|' 'Form_B' '.' 'G' 'major' 'add 9' '.' 'D' 'major' '/' 'F#' '|' '.' 'C'\n",
      " 'major-seventh' '/' 'E' '.' 'C#' 'minor-seventh' 'alter b5' '|' '.' 'G'\n",
      " 'major' '/' 'D' '.' 'B' 'dominant' '/' 'D#' '|' '.' 'G' 'dominant' '/'\n",
      " 'D' '.' 'A' 'dominant' '/' 'C#' '|' 'Form_Coda' '.' 'C' 'major-seventh'\n",
      " '.' 'A' 'minor-seventh' '|' '.' 'B' 'minor-seventh' '.' 'E' 'minor-ninth'\n",
      " '|' '.' 'C' 'major' '/' 'D' '|' '.' 'C' 'major' '/' 'D' '|' '.' 'C#'\n",
      " 'minor-seventh' 'alter b5' '.' 'G' 'major' '/' 'D' '|' '.' 'B' 'dominant'\n",
      " '/' 'D#' '.' 'E' 'minor' '|' 'Form_Coda' '.' 'B' 'minor-seventh' '.' 'E'\n",
      " 'minor-ninth' '|' '.' 'C#' 'minor-seventh' 'alter b5' '.' 'D' 'major' '/'\n",
      " 'C' '|' '.' 'B' 'minor-seventh' '.' 'E' 'minor-ninth' '|' '.' 'C' 'minor'\n",
      " 'add #7' '|' '.' 'C' 'minor' 'add #7' '|' '.' 'A' 'minor-ninth' '.' 'Bb'\n",
      " 'major-seventh' '|' '.' 'C' 'major' '/' 'B' '.' 'F#' 'major' '/' 'D' '|'\n",
      " '.' 'G' 'major-seventh' 'add #11']\n"
     ]
    }
   ],
   "source": [
    "print(theChordDataset[4005])"
   ]
  },
  {
   "cell_type": "code",
   "execution_count": null,
   "metadata": {},
   "outputs": [],
   "source": [
    "id = 0\n",
    "seq = theChordDataset[id]\n",
    "time = theDurationsDataset[id]\n",
    "\n",
    "for i in range(len(seq)):\n",
    "    print(seq[i], time[i])"
   ]
  },
  {
   "cell_type": "code",
   "execution_count": 298,
   "metadata": {},
   "outputs": [
    {
     "name": "stderr",
     "output_type": "stream",
     "text": [
      "100%|██████████| 4006/4006 [00:01<00:00, 3066.08it/s]\n"
     ]
    }
   ],
   "source": [
    "importlib.reload(xmlT)\n",
    "\n",
    "id = 0\n",
    "expand_form_dataset = []\n",
    "expand_duration_dataset = []\n",
    "status = True\n",
    "for i in tqdm(range(theChordDataset.shape[0])):\n",
    "    song_structure, duration_structure, status = xmlT.expand_song_structure(theChordDataset[i], theDurationsDataset[i], i)\n",
    "    if status == False:\n",
    "        print('Song:', all_meta[i])\n",
    "        id = i\n",
    "        break\n",
    "    song_structure = np.array(song_structure)\n",
    "    duration_structure = np.array(duration_structure)\n",
    "    expand_form_dataset.append(song_structure)\n",
    "    expand_duration_dataset.append(duration_structure)\n",
    "\n",
    "#check if all elements are the same size\n",
    "for i in range(len(expand_form_dataset)):\n",
    "    if len(expand_form_dataset) != len(expand_duration_dataset):\n",
    "        print('Error in:', i)\n",
    "        break"
   ]
  },
  {
   "cell_type": "code",
   "execution_count": 299,
   "metadata": {},
   "outputs": [],
   "source": [
    "#Unify chord and duration into a tuple of good friends\n",
    "dataset = []\n",
    "for chords_values, durations_values in zip(expand_form_dataset, expand_duration_dataset):\n",
    "    coupled = list(zip(chords_values, durations_values))\n",
    "    dataset.append(coupled)\n",
    "    \n",
    "#print(np.array(dataset[0]))"
   ]
  },
  {
   "cell_type": "code",
   "execution_count": 300,
   "metadata": {},
   "outputs": [
    {
     "data": {
      "application/vnd.jupyter.widget-view+json": {
       "model_id": "d18c02d7a22644eebd8c3eff8fe829d9",
       "version_major": 2,
       "version_minor": 0
      },
      "text/plain": [
       "  0%|          | 0/4006 [00:00<?, ?it/s]"
      ]
     },
     "metadata": {},
     "output_type": "display_data"
    }
   ],
   "source": [
    "importlib.reload(xmlT)\n",
    "\n",
    "#correct the wrong chords\n",
    "corrected_sequence = xmlT.replaceTheseChords(dataset, False)"
   ]
  },
  {
   "cell_type": "code",
   "execution_count": 301,
   "metadata": {},
   "outputs": [
    {
     "name": "stdout",
     "output_type": "stream",
     "text": [
      "4006\n",
      "[('<style>', 0.0), ('Medium Swing', 0.0), ('|', 0.0), ('.', 4.0), ('Eb', 4.0), ('maj', 4.0), ('|', 4.0), ('.', 4.0), ('Eb', 4.0), ('maj', 4.0), ('|', 4.0), ('.', 4.0), ('E', 4.0), ('o', 4.0), ('|', 4.0), ('.', 4.0), ('E', 4.0), ('o', 4.0), ('|', 4.0), ('.', 4.0), ('F', 4.0), ('m7', 4.0), ('|', 4.0), ('.', 4.0), ('Bb', 4.0), ('dom7', 4.0), ('|', 4.0), ('.', 4.0), ('Eb', 4.0), ('maj', 4.0), ('|', 4.0), ('.', 4.0), ('Eb', 4.0), ('maj', 4.0), ('.', 4.0), ('Eb', 4.0), ('maj', 4.0), ('|', 4.0), ('.', 4.0), ('Eb', 4.0), ('maj', 4.0), ('|', 4.0), ('.', 4.0), ('E', 4.0), ('o', 4.0), ('|', 4.0), ('.', 4.0), ('E', 4.0), ('o', 4.0), ('|', 4.0), ('.', 4.0), ('F', 4.0), ('m7', 4.0), ('|', 4.0), ('.', 4.0), ('Bb', 4.0), ('dom7', 4.0), ('|', 4.0), ('.', 4.0), ('Eb', 4.0), ('maj', 4.0), ('|', 4.0), ('.', 2.0), ('A', 2.0), ('m7', 2.0), ('.', 2.0), ('D', 2.0), ('dom7', 2.0), ('|', 2.0), ('.', 4.0), ('G', 4.0), ('maj', 4.0), ('|', 4.0), ('.', 2.0), ('A', 2.0), ('m7', 2.0), ('.', 2.0), ('D', 2.0), ('dom7', 2.0), ('|', 2.0), ('.', 4.0), ('G', 4.0), ('maj', 4.0), ('|', 4.0), ('.', 2.0), ('A', 2.0), ('m7', 2.0), ('.', 2.0), ('D', 2.0), ('dom7', 2.0), ('|', 2.0), ('.', 4.0), ('G', 4.0), ('m7', 4.0), ('|', 4.0), ('.', 4.0), ('C', 4.0), ('dom7', 4.0), ('|', 4.0), ('.', 4.0), ('F', 4.0), ('dom7', 4.0), ('|', 4.0), ('.', 4.0), ('Bb', 4.0), ('dom7', 4.0), ('|', 4.0), ('.', 4.0), ('Eb', 4.0), ('maj', 4.0), ('|', 4.0), ('.', 4.0), ('Eb', 4.0), ('maj', 4.0), ('|', 4.0), ('.', 4.0), ('Gb', 4.0), ('o', 4.0), ('|', 4.0), ('.', 4.0), ('Gb', 4.0), ('o', 4.0), ('|', 4.0), ('.', 4.0), ('F', 4.0), ('m7', 4.0), ('|', 4.0), ('.', 4.0), ('Bb', 4.0), ('dom7', 4.0), ('|', 4.0), ('.', 4.0), ('Eb', 4.0), ('maj', 4.0), ('|', 4.0), ('.', 4.0), ('Eb', 4.0), ('maj', 4.0), ('.', 4.0), ('Eb', 4.0), ('maj', 4.0), ('|', 4.0), ('.', 4.0), ('Eb', 4.0), ('maj', 4.0), ('|', 4.0), ('.', 4.0), ('E', 4.0), ('o', 4.0), ('|', 4.0), ('.', 4.0), ('E', 4.0), ('o', 4.0), ('|', 4.0), ('.', 4.0), ('F', 4.0), ('m7', 4.0), ('|', 4.0), ('.', 4.0), ('Bb', 4.0), ('dom7', 4.0), ('|', 4.0), ('.', 4.0), ('Eb', 4.0), ('maj', 4.0), ('|', 4.0), ('.', 4.0), ('G', 4.0), ('m7', 4.0), ('|', 4.0), ('.', 4.0), ('C', 4.0), ('dom7', 4.0), ('|', 4.0), ('.', 4.0), ('F', 4.0), ('m7', 4.0), ('|', 4.0), ('.', 4.0), ('Bb', 4.0), ('dom7', 4.0), ('|', 4.0), ('.', 4.0), ('Eb', 4.0), ('maj', 4.0), ('|', 4.0), ('.', 4.0), ('Eb', 4.0), ('maj', 4.0)]\n"
     ]
    }
   ],
   "source": [
    "#clean the elements that are ''\n",
    "dataset = [[tup for tup in inner_list if tup[0] != ''] for inner_list in corrected_sequence]\n",
    "\n",
    "print(len(dataset))\n",
    "print(dataset[0])\n",
    "\n",
    "for song in dataset:\n",
    "    for i, e in enumerate(song):\n",
    "        if e[0] == '':\n",
    "            print(song)\n",
    "            print(i)\n",
    "            break"
   ]
  },
  {
   "cell_type": "code",
   "execution_count": 302,
   "metadata": {},
   "outputs": [
    {
     "name": "stdout",
     "output_type": "stream",
     "text": [
      "274\n",
      "{'Folk Ballad', 'add #7 add b9', 'Soul', 'Shuffle Blues', '|', 'Rock Pop', 'add #7 add #11', 'Foxtrot', 'Frevo', 'Rock Waltz', 'Pop Shuffle', 'add #11 add #9 alter #5', 'Cuban Son', 'Afoxe', 'Blues', 'Bolero', 'F', 'alter #11', 'm add 9', 'add 7 add 9', 'Beatles', 'add #7 add 9', 'add 9 add b6', 'Maxixe', 'Fast Blues', 'Slow Blues', 'Up Samba', 'Traditional Gospel', 'sus4 add b9', 'Reggae Pop', 'Tango', 'alter b5', 'Up Waltz (One Feel)', 'C', 'add b9', 'Form_Coda', 'add 9', 'alter #5 add b9', 'Pop Rock', 'Bolero-Cha', 'add 7 add #11', 'Ballad', 'Medium Country', 'add #11 alter b5 add #9', 'maj7 add 9', 'maj7', 'Gypsy Bossa', 'add #9', 'UP Swing', 'Form_intro', 'add #7 alter #5', 'Repeat_0', 'Bossa Nova', 'add #11 add b9', 'Bolero-Son', 'alter #9', 'aug', ':|', 'Fusion', 'Rock-Folk', 'Gypsy Swing', 'add 9 add 7', 'Rock/Reggae', 'Afoxé', 'add #11 alter b5', 'Power Ballad', 'Rock Ballad', 'Cb', 'alter b5 alter b9', 'add #11 add 7', 'o_maj7', 'Slow Rock', 'A', 'B', 'Medium Funk', 'D#', 'Deliberately', 'dom7 add b9', 'Slow Bossa', 'Rock Slow', 'Moderate Latin', 'add #9 alter b5', 'Medium Slow', 'alter #5 add #11', 'sus7', 'Bb', 'add #7 alter b5', 'add 9 add b13', 'add #9 alter b5 add b9', 'm6', 'm', 'Gb', '.', 'Gary Aprile', 'add #9 add b9 alter b5', 'add #11 add #9', \"Rock'n'Roll\", 'Medium Waltz', 'add 7 alter b9', 'alter b5 add #11', 'Merengue', 'Ab', 'Electric Blues', 'Slow Shuffle', 'add 9 add #11', 'alter #11 add b9', 'add b13 add b9', 'Funk Rock', '/', 'Pop jazz', 'Pop Ballad', 'o7', '<style>', 'alter b5 add b13', 'Up Tempo', 'add b9 alter b5', 'Samba Reggae', 'alter b5 add 9', 'Pop Folk', 'Db', 'Jazz', 'add #7', 'Latin', 'alter b9 add b13', \"Even 8's\", 'add #11 add b13', 'Form_D', 'A#', 'add b9 add #11', 'add 7 add b13', 'maj6', 'Form_Segno', 'add #11 alter #5', 'add 7 add #9', \"Even 8th's\", 'alter b5 add #11 add b9', 'Salsa', 'N.C.', 'Electro Pop', 'Medium Up', 'add 7 add b9', 'dom7 add 9', 'Choro', 'Medium Rock', 'Dreamlike', 'Eb', 'sus7 add #11', 'add 2 add #9', 'Repeat_2', 'Up Tempo Swing', 'alter b5 add b9', 'Form_C', 'Soul Ballad', 'Even 8ths', 'Up Swing', 'alter b9 alter #5', 'Form_verse', 'Repeat_1', 'Slow Swing', 'Pop', \"R'n'B\", 'alter b5 add #9', 'Samba', 'major-13th', 'Country Blues', 'March', 'Folk', 'alter #5 add 7', 'alter b5 add #9 add b9', 'Marchinha', 'Blues Rock', 'C#', 'add b6 alter b5', 'Bright Shuffle Blues', 'Afro-Samba', 'add b6 add #9', 'E', 'add #9 add #11', 'Folk-Rock', 'Medium Blues', 'sus4', 'Musical', 'power', 'Latin-Swing', 'add b9 add b13', 'Blues Pop', 'Forró', 'Med Up Latin', 'add 2', 'Cha Cha', 'Slowly', 'Disco', 'add #9 add b13', 'Blues Shuffle', 'm7 add 9', 'Samba Funk', 'Fast Swing', 'sus7 add b9', 'Medium Up Swing', 'alter b5 add b13 add b9', 'Bossa Acoustic', 'Funk', 'Samba-Funk', 'Worship', 'add #11 add b9 alter #5', 'm add 11', 'Slow Ballad', 'alter #5', 'Medium Ballad', 'alter #5 add b13', 'Even 16ths', 'alter b9', 'G', 'add 7', 'Medium Swing', 'Son', 'dom7 add 11', 'Medium Shuffle', 'D', 'add 9 alter b5', 'Country Ballad', 'Samba-Rock', 'Baião', 'add b13 add #11', 'maj', 'add b9 alter #5', 'Moderately', 'Gospel Ballad', 'alter b5 add 7', 'add b6', 'Gypsy Waltz', 'Calypso', 'Mambo', 'Funk Jazz', 'Chacarera', 'Montuno', 'sus4 add #11', '128 Feel', 'Repeat_3', 'Reggae', 'F#', 'add #11', 'RnB', 'Samba Enredo', 'add #11 add 9', 'dom7', 'add #9 alter #5', 'alter #5 add #9', 'add b13 add #9', 'add b13 alter b5', 'Hymn', 'add 9 alter #5', 'Form_B', 'Pop-Shuffle', 'Afro', 'add 7 alter #5', 'Rock Blues', 'Choro - Samba', 'alter b5 add #9 alter #5', 'add b13', 'Medium Pop', 'Waltz', 'Form_A', 'Rock', 'alter b5 add b9 alter #5', 'Rock/Hip Hop', 'Afoxé-Samba', 'Disco Funk', 'm7', 'add b13 add 7', 'G#', 'o', 'Folk Rock', 'Shuffle'}\n"
     ]
    }
   ],
   "source": [
    "#Check vocabulary\n",
    "chords_array = [[item[0] for item in row] for row in dataset]\n",
    "concatenated_array = np.hstack(chords_array) \n",
    "vocab = set(concatenated_array)\n",
    "\n",
    "print(len(vocab))\n",
    "print(vocab)"
   ]
  },
  {
   "cell_type": "code",
   "execution_count": 303,
   "metadata": {},
   "outputs": [
    {
     "name": "stderr",
     "output_type": "stream",
     "text": [
      "100%|██████████| 4006/4006 [00:00<00:00, 9660.31it/s] \n"
     ]
    }
   ],
   "source": [
    "#Fix the format of extensions to avoid repeated elements\n",
    "def fix_extensions(sequence):\n",
    "    #natures = {'maj', 'm', 'm6', 'm7', 'dom_7', 'maj7', 'o7', 'o', 'sus', 'sus2', 'sus7', 'ø7', 'power', 'm_maj7'}\n",
    "    for song in tqdm(sequence):\n",
    "        for i, item in enumerate(song):\n",
    "            element = item[0] #extract the chord information\n",
    "            c_duration = item[1] #extract the duration information\n",
    "            if 'add' in element or 'alter' in element:\n",
    "                #print(element)\n",
    "                split = element.split(' ')\n",
    "                size = len(split)\n",
    "                if size > 2:\n",
    "                    if size%2 == 1:\n",
    "                        #print('odd', split)\n",
    "                        nature = split[0]\n",
    "                        #couple the nature with duration\n",
    "                        coupled = (nature, c_duration)\n",
    "                        song[i] = coupled\n",
    "                        counter = 1 \n",
    "                        for n in range(1, size-1, 2):\n",
    "                            ext = split[n] + ' ' + split[n+1]\n",
    "                            coupled = (ext, c_duration)\n",
    "                            song.insert(i+counter, coupled)\n",
    "                            counter += 1\n",
    "        #need to do it separately to avoid the index out of range           \n",
    "        for i, item in enumerate(song):\n",
    "            element = item[0] #extract the chord information\n",
    "            c_duration = item[1] #extract the duration information\n",
    "            \n",
    "            if 'add' in element or 'alter' in element:\n",
    "                #print(element)\n",
    "                split = element.split(' ')\n",
    "                size = len(split)\n",
    "                if size > 2:   \n",
    "                    if size%2 == 0:\n",
    "                        #delete the element\n",
    "                        song.pop(i)\n",
    "                        counter = 0\n",
    "                        for n in range(0, size-1, 2):\n",
    "                            ext = split[n] + ' ' + split[n+1]\n",
    "                            coupled = (ext, c_duration)\n",
    "                            song.insert(i+counter, coupled)\n",
    "                            counter += 1\n",
    "\n",
    "fix_extensions(dataset)"
   ]
  },
  {
   "cell_type": "code",
   "execution_count": 304,
   "metadata": {},
   "outputs": [
    {
     "name": "stdout",
     "output_type": "stream",
     "text": [
      "['<style>', 'Medium Swing', '|', '.', 'Eb', 'maj', '|', '.', 'Eb', 'maj', '|', '.', 'E', 'o', '|', '.', 'E', 'o', '|', '.', 'F', 'm7', '|', '.', 'Bb', 'dom7', '|', '.', 'Eb', 'maj', '|', '.', 'Eb', 'maj', '.', 'Eb', 'maj', '|', '.', 'Eb', 'maj', '|', '.', 'E', 'o', '|', '.', 'E', 'o', '|', '.', 'F', 'm7', '|', '.', 'Bb', 'dom7', '|', '.', 'Eb', 'maj', '|', '.', 'A', 'm7', '.', 'D', 'dom7', '|', '.', 'G', 'maj', '|', '.', 'A', 'm7', '.', 'D', 'dom7', '|', '.', 'G', 'maj', '|', '.', 'A', 'm7', '.', 'D', 'dom7', '|', '.', 'G', 'm7', '|', '.', 'C', 'dom7', '|', '.', 'F', 'dom7', '|', '.', 'Bb', 'dom7', '|', '.', 'Eb', 'maj', '|', '.', 'Eb', 'maj', '|', '.', 'Gb', 'o', '|', '.', 'Gb', 'o', '|', '.', 'F', 'm7', '|', '.', 'Bb', 'dom7', '|', '.', 'Eb', 'maj', '|', '.', 'Eb', 'maj', '.', 'Eb', 'maj', '|', '.', 'Eb', 'maj', '|', '.', 'E', 'o', '|', '.', 'E', 'o', '|', '.', 'F', 'm7', '|', '.', 'Bb', 'dom7', '|', '.', 'Eb', 'maj', '|', '.', 'G', 'm7', '|', '.', 'C', 'dom7', '|', '.', 'F', 'm7', '|', '.', 'Bb', 'dom7', '|', '.', 'Eb', 'maj', '|', '.', 'Eb', 'maj']\n"
     ]
    }
   ],
   "source": [
    "id = 0\n",
    "strings_array = [item[0] for item in dataset[id] if item[0] != '']\n",
    "print(strings_array)"
   ]
  },
  {
   "cell_type": "code",
   "execution_count": 305,
   "metadata": {},
   "outputs": [
    {
     "name": "stderr",
     "output_type": "stream",
     "text": [
      "956it [00:00, 9543.31it/s]"
     ]
    },
    {
     "name": "stderr",
     "output_type": "stream",
     "text": [
      "4006it [00:00, 9258.37it/s]"
     ]
    },
    {
     "name": "stdout",
     "output_type": "stream",
     "text": [
      "['<style>', 'Medium Swing', '|', '.', 'Eb', 'maj', '|', '.', 'Eb', 'maj', '|', '.', 'E', 'o', '|', '.', 'E', 'o', '|', '.', 'F', 'm7', '|', '.', 'Bb', 'dom7', '|', '.', 'Eb', 'maj', '|', '.', 'Eb', 'maj', '.', 'Eb', 'maj', '|', '.', 'Eb', 'maj', '|', '.', 'E', 'o', '|', '.', 'E', 'o', '|', '.', 'F', 'm7', '|', '.', 'Bb', 'dom7', '|', '.', 'Eb', 'maj', '|', '.', 'A', 'm7', '.', 'D', 'dom7', '|', '.', 'G', 'maj', '|', '.', 'A', 'm7', '.', 'D', 'dom7', '|', '.', 'G', 'maj', '|', '.', 'A', 'm7', '.', 'D', 'dom7', '|', '.', 'G', 'm7', '|', '.', 'C', 'dom7', '|', '.', 'F', 'dom7', '|', '.', 'Bb', 'dom7', '|', '.', 'Eb', 'maj', '|', '.', 'Eb', 'maj', '|', '.', 'Gb', 'o', '|', '.', 'Gb', 'o', '|', '.', 'F', 'm7', '|', '.', 'Bb', 'dom7', '|', '.', 'Eb', 'maj', '|', '.', 'Eb', 'maj', '.', 'Eb', 'maj', '|', '.', 'Eb', 'maj', '|', '.', 'E', 'o', '|', '.', 'E', 'o', '|', '.', 'F', 'm7', '|', '.', 'Bb', 'dom7', '|', '.', 'Eb', 'maj', '|', '.', 'G', 'm7', '|', '.', 'C', 'dom7', '|', '.', 'F', 'm7', '|', '.', 'Bb', 'dom7', '|', '.', 'Eb', 'maj', '|', '.', 'Eb', 'maj']\n"
     ]
    },
    {
     "name": "stderr",
     "output_type": "stream",
     "text": [
      "\n"
     ]
    }
   ],
   "source": [
    "#Find duplicated 'add' or 'alter' elements and remove them\n",
    "\n",
    "def correctDuplicatedExtensions(sequence):\n",
    "    structural_elements = {'.', '|', ':|', '|:', '/', 'N.C.'}\n",
    "\n",
    "    for x, song in tqdm(enumerate(sequence)):\n",
    "        for y, item in enumerate(song):\n",
    "            e = item[0]\n",
    "            if '.' in e:\n",
    "                search = True\n",
    "                stepper = y + 2\n",
    "                check_extensions = []\n",
    "                while search:\n",
    "                    if (stepper) >= len(song):\n",
    "                        search = False\n",
    "                        #print('End of song')\n",
    "                        break\n",
    "                    elif stepper < len(song) - 1:\n",
    "                        element = song[stepper][0]\n",
    "            \n",
    "                    if element in structural_elements or element.startswith('Form_'):\n",
    "                        search = False\n",
    "                    else:\n",
    "                        if element not in check_extensions:\n",
    "                            check_extensions.append(element)\n",
    "                        elif stepper < len(song)-1:\n",
    "                            #print('Duplicated:', x, stepper, element, check_extensions)\n",
    "                            song.pop(stepper)\n",
    "                        stepper += 1\n",
    "                if len(check_extensions) > 2:\n",
    "                    continue\n",
    "                    print(x, y+stepper, check_extensions)\n",
    "                \n",
    "correctDuplicatedExtensions(dataset)\n",
    "id = 0\n",
    "strings_array = [item[0] for item in dataset[id] if item[0] != '']\n",
    "print(strings_array)"
   ]
  },
  {
   "cell_type": "code",
   "execution_count": 307,
   "metadata": {},
   "outputs": [],
   "source": [
    "#Fix this ones\n",
    "\n",
    "fix_this = [{'seq': ['dom7', 'sus7', 'add b9'], 'remove': 'dom7'},\n",
    "            {'seq': ['sus7', 'add 13', 'sus4'], 'remove': 'sus4'},\n",
    "            {'seq': ['sus7', 'add 9', 'sus4'], 'remove': 'sus4'},\n",
    "            {'seq': ['m', 'add 6', 'add 9', 'sus4'], 'remove': 'sus4'},\n",
    "            {'seq': ['sus7', 'add 13', 'sus4', 'add b9'], 'remove': 'sus4'},\n",
    "            {'seq': ['dom7', 'add 13', 'sus4', 'add b9'], 'remove': 'sus4'}]\n",
    "\n",
    "structural_elements = {'.', '|', ':|', '|:', '/', 'N.C.'}\n",
    "\n",
    "for x, song in enumerate(dataset):\n",
    "    for y, e in enumerate(song):\n",
    "        if '.' in e[0]:\n",
    "            search = True\n",
    "            stepper = y + 2\n",
    "            check_extensions = []\n",
    "            while search:\n",
    "                if (stepper) >= len(song):\n",
    "                    search = False\n",
    "                    #print('End of song')\n",
    "                    break\n",
    "                elif stepper < len(song) - 1:\n",
    "                    element = song[stepper][0]\n",
    "        \n",
    "                if element in structural_elements or element.startswith('Form_'):\n",
    "                    search = False\n",
    "                else:\n",
    "                    if element not in check_extensions:\n",
    "                        check_extensions.append(element)\n",
    "                    for item in fix_this:\n",
    "                        if check_extensions == item['seq']:\n",
    "                            print(x, stepper, check_extensions, 'to remove:', item['remove'])\n",
    "                            #find the location of the element in the array\n",
    "                            for i in range(len(check_extensions)):\n",
    "                                if check_extensions[i] == item['remove']:\n",
    "                                    location = i + stepper - 2\n",
    "                                    #erase this element from song\n",
    "                                    if location < len(song):\n",
    "                                        print(location, item['remove'], song[location])\n",
    "                                        song.pop(location)\n",
    "                                    break\n",
    "                            \n",
    "                    stepper += 1\n",
    "\n"
   ]
  },
  {
   "cell_type": "code",
   "execution_count": 149,
   "metadata": {},
   "outputs": [
    {
     "name": "stdout",
     "output_type": "stream",
     "text": [
      "{'composer': 'George Gershwin, Ira Gershwin (1927)', 'style': 'Medium Swing', 'song_name': \"'S Wonderful\", 'tonality': 'Eb major', 'midi_key': 15, 'time_signature': '4/4', 'decade': 'Null'}\n",
      "[('<style>', 0.0), ('Medium Swing', 0.0), ('|', 0.0), ('.', 4.0), ('Eb', 4.0), ('maj', 4.0), ('|', 4.0), ('.', 4.0), ('Eb', 4.0), ('maj', 4.0), ('|', 4.0), ('.', 4.0), ('E', 4.0), ('o', 4.0), ('|', 4.0), ('.', 4.0), ('E', 4.0), ('o', 4.0), ('|', 4.0), ('.', 4.0), ('F', 4.0), ('m7', 4.0), ('|', 4.0), ('.', 4.0), ('Bb', 4.0), ('dom7', 4.0), ('|', 4.0), ('.', 4.0), ('Eb', 4.0), ('maj', 4.0), ('|', 4.0), ('.', 4.0), ('Eb', 4.0), ('maj', 4.0), ('.', 4.0), ('Eb', 4.0), ('maj', 4.0), ('|', 4.0), ('.', 4.0), ('Eb', 4.0), ('maj', 4.0), ('|', 4.0), ('.', 4.0), ('E', 4.0), ('o', 4.0), ('|', 4.0), ('.', 4.0), ('E', 4.0), ('o', 4.0), ('|', 4.0), ('.', 4.0), ('F', 4.0), ('m7', 4.0), ('|', 4.0), ('.', 4.0), ('Bb', 4.0), ('dom7', 4.0), ('|', 4.0), ('.', 4.0), ('Eb', 4.0), ('maj', 4.0), ('|', 4.0), ('.', 2.0), ('A', 2.0), ('m7', 2.0), ('.', 2.0), ('D', 2.0), ('dom7', 2.0), ('|', 2.0), ('.', 4.0), ('G', 4.0), ('maj', 4.0), ('|', 4.0), ('.', 2.0), ('A', 2.0), ('m7', 2.0), ('.', 2.0), ('D', 2.0), ('dom7', 2.0), ('|', 2.0), ('.', 4.0), ('G', 4.0), ('maj', 4.0), ('|', 4.0), ('.', 2.0), ('A', 2.0), ('m7', 2.0), ('.', 2.0), ('D', 2.0), ('dom7', 2.0), ('|', 2.0), ('.', 4.0), ('G', 4.0), ('m7', 4.0), ('|', 4.0), ('.', 4.0), ('C', 4.0), ('dom7', 4.0), ('|', 4.0), ('.', 4.0), ('F', 4.0), ('dom7', 4.0), ('|', 4.0), ('.', 4.0), ('Bb', 4.0), ('dom7', 4.0), ('|', 4.0), ('.', 4.0), ('Eb', 4.0), ('maj', 4.0), ('|', 4.0), ('.', 4.0), ('Eb', 4.0), ('maj', 4.0), ('|', 4.0), ('.', 4.0), ('Gb', 4.0), ('o', 4.0), ('|', 4.0), ('.', 4.0), ('Gb', 4.0), ('o', 4.0), ('|', 4.0), ('.', 4.0), ('F', 4.0), ('m7', 4.0), ('|', 4.0), ('.', 4.0), ('Bb', 4.0), ('dom7', 4.0), ('|', 4.0), ('.', 4.0), ('Eb', 4.0), ('maj', 4.0), ('|', 4.0), ('.', 4.0), ('Eb', 4.0), ('maj', 4.0), ('.', 4.0), ('Eb', 4.0), ('maj', 4.0), ('|', 4.0), ('.', 4.0), ('Eb', 4.0), ('maj', 4.0), ('|', 4.0), ('.', 4.0), ('E', 4.0), ('o', 4.0), ('|', 4.0), ('.', 4.0), ('E', 4.0), ('o', 4.0), ('|', 4.0), ('.', 4.0), ('F', 4.0), ('m7', 4.0), ('|', 4.0), ('.', 4.0), ('Bb', 4.0), ('dom7', 4.0), ('|', 4.0), ('.', 4.0), ('Eb', 4.0), ('maj', 4.0), ('|', 4.0), ('.', 4.0), ('G', 4.0), ('m7', 4.0), ('|', 4.0), ('.', 4.0), ('C', 4.0), ('dom7', 4.0), ('|', 4.0), ('.', 4.0), ('F', 4.0), ('m7', 4.0), ('|', 4.0), ('.', 4.0), ('Bb', 4.0), ('dom7', 4.0), ('|', 4.0), ('.', 4.0), ('Eb', 4.0), ('maj', 4.0), ('|', 4.0), ('.', 4.0), ('Eb', 4.0), ('maj', 4.0)]\n"
     ]
    }
   ],
   "source": [
    "id = 0\n",
    "print(all_meta[id])\n",
    "print(dataset[id])\n"
   ]
  },
  {
   "cell_type": "code",
   "execution_count": 308,
   "metadata": {},
   "outputs": [
    {
     "name": "stdout",
     "output_type": "stream",
     "text": [
      "Max: {'v': 1423, 'id': 141} Min: {'v': 31, 'id': 3331}\n"
     ]
    }
   ],
   "source": [
    "#Check the length of the song\n",
    "\n",
    "max = {'v': 0, 'id': 0}\n",
    "min = {'v': 1000, 'id': 0}\n",
    "\n",
    "for i in range(len(dataset)):\n",
    "    if len(dataset[i]) > max['v']:\n",
    "        max['v'] = len(dataset[i])\n",
    "        max['id'] = i\n",
    "    if len(dataset[i]) < min['v']:\n",
    "        min['v'] = len(dataset[i])\n",
    "        min['id'] = i\n",
    "\n",
    "print('Max:', max, 'Min:', min)\n"
   ]
  },
  {
   "cell_type": "code",
   "execution_count": 309,
   "metadata": {},
   "outputs": [
    {
     "data": {
      "text/plain": [
       "<seaborn.axisgrid.FacetGrid at 0x7f87856c34c0>"
      ]
     },
     "execution_count": 309,
     "metadata": {},
     "output_type": "execute_result"
    },
    {
     "data": {
      "image/png": "[encoded data removed]",
      "text/plain": [
       "<Figure size 500x500 with 1 Axes>"
      ]
     },
     "metadata": {},
     "output_type": "display_data"
    }
   ],
   "source": [
    "import seaborn as sns\n",
    "\n",
    "#visualize the length of the songs\n",
    "\n",
    "length = []\n",
    "for song in dataset:\n",
    "    length.append(len(song))\n",
    "    \n",
    "sns.displot(length, kde=False, bins=100)"
   ]
  },
  {
   "cell_type": "code",
   "execution_count": 310,
   "metadata": {},
   "outputs": [
    {
     "name": "stdout",
     "output_type": "stream",
     "text": [
      "Message To A Friend\n",
      "4005\n",
      "['<style>', 'Ballad', '|', 'Form_A', '.', 'C', 'maj', '.', 'E', 'm', '/', 'B', '|', '.', 'B', 'sus4', '.', 'B', 'maj', '.', 'B', 'maj', '/', 'A', '|', '.', 'G', 'maj', '.', 'C', 'maj7', '|', '.', 'C#', 'm7', 'alter b5', '.', 'G', 'maj7', '/', 'D', '|', '.', 'D', 'maj', '/', 'F#', '.', 'C', 'maj', '/', 'E', '|', '.', 'C', 'm', '/', 'Eb', '.', 'G', 'maj', '/', 'D', '|', '.', 'C#', 'm7', 'alter b5', '.', 'F#', 'dom7', '/', 'C#', '|', '.', 'B', 'maj', '.', 'A', 'm7', '.', 'D', 'dom7', '/', 'A', '|', 'Form_B', '.', 'G', 'maj', 'add 9', '.', 'D', 'maj', '/', 'F#', '|', '.', 'C', 'maj7', '/', 'E', '.', 'C#', 'm7', 'alter b5', '|', '.', 'G', 'maj', '/', 'D', '.', 'B', 'dom7', '/', 'D#', '|', '.', 'G', 'dom7', '/', 'D', '.', 'A', 'dom7', '/', 'C#', '|', 'Form_Coda', '.', 'C', 'maj7', '.', 'A', 'm7', '|', '.', 'B', 'm7', '.', 'E', 'm7', 'add 9', '|', '.', 'C', 'maj', '/', 'D', '|', '.', 'C', 'maj', '/', 'D', '|', '.', 'C#', 'm7', 'alter b5', '.', 'G', 'maj', '/', 'D', '|', '.', 'B', 'dom7', '/', 'D#', '.', 'E', 'm', '|', 'Form_Coda', '.', 'B', 'm7', '.', 'E', 'm7', 'add 9', '|', '.', 'C#', 'm7', 'alter b5', '.', 'D', 'maj', '/', 'C', '|', '.', 'B', 'm7', '.', 'E', 'm7', 'add 9', '|', '.', 'C', 'm', 'add #7', '|', '.', 'C', 'm', 'add #7', '|', '.', 'A', 'm7', 'add 9', '.', 'Bb', 'maj7', '|', '.', 'C', 'maj', '/', 'B', '.', 'F#', 'maj', '/', 'D', '|', '.', 'G', 'maj7', 'add #11']\n"
     ]
    }
   ],
   "source": [
    "import voicing as vc\n",
    "voicing = vc.Voicing()\n",
    "\n",
    "print(all_meta[4005]['song_name'])\n",
    "id = 0\n",
    "for i, data in enumerate(all_meta):\n",
    "    if 'Message To A Friend' in data['song_name']:\n",
    "        id = i\n",
    "        print(i)\n",
    "        break\n",
    "\n",
    "strings_array =  voicing.get_chords(dataset[id]) \n",
    "print(strings_array)\n"
   ]
  },
  {
   "cell_type": "code",
   "execution_count": 311,
   "metadata": {},
   "outputs": [
    {
     "name": "stderr",
     "output_type": "stream",
     "text": [
      "100%|██████████| 1/1 [00:00<00:00, 2245.34it/s]"
     ]
    },
    {
     "name": "stdout",
     "output_type": "stream",
     "text": [
      "('B', 2.0) 35\n",
      "('A', 1.0) 33\n",
      "('D', 2.0) 38\n",
      "('F#', 2.0) 42\n",
      "('E', 2.0) 40\n",
      "('Eb', 2.0) 39\n",
      "('D', 2.0) 38\n",
      "('C#', 2.0) 37\n",
      "('A', 1.0) 33\n",
      "('F#', 2.0) 42\n",
      "('E', 2.0) 40\n",
      "('D', 2.0) 38\n",
      "('D#', 2.0) 39\n",
      "('D', 2.0) 38\n",
      "('C#', 2.0) 37\n",
      "('D', 4.0) 38\n",
      "('D', 4.0) 38\n",
      "('D', 2.0) 38\n",
      "('D#', 2.0) 39\n",
      "('C', 2.0) 36\n",
      "('B', 2.0) 35\n",
      "('D', 2.0) 38\n",
      "1\n",
      "['Message To A Friend']\n"
     ]
    },
    {
     "name": "stderr",
     "output_type": "stream",
     "text": [
      "\n"
     ]
    }
   ],
   "source": [
    "import voicing as vc\n",
    "\n",
    "#check the voicing conversion of all chords\n",
    "from_ = 0\n",
    "to_ = 10\n",
    "myTracks = dataset[from_:to_]\n",
    "sub_names = []\n",
    "for names in all_meta[from_:to_]:\n",
    "    sub_names.append(names['song_name'])\n",
    "voicing = vc.Voicing()\n",
    "midi_voicing = []\n",
    "\n",
    "\n",
    "i = 0\n",
    "for item in tqdm(myTracks):\n",
    "    mv, status = voicing.convert_chords_to_voicing(item)\n",
    "    midi_voicing.append(mv)\n",
    "    if status == False:\n",
    "        print(i, '\\n', all_meta[i], '\\n', item)\n",
    "        break\n",
    "    i += 1\n",
    "print(len(midi_voicing))\n",
    "print(sub_names)"
   ]
  },
  {
   "cell_type": "code",
   "execution_count": 312,
   "metadata": {},
   "outputs": [
    {
     "name": "stdout",
     "output_type": "stream",
     "text": [
      "Message To A Friend \n",
      "MIDI file created!\n"
     ]
    }
   ],
   "source": [
    "voicing = vc.Voicing()\n",
    "\n",
    "path = \"../data/midi_files/\"\n",
    "\n",
    "for i in range(len(midi_voicing)):\n",
    "    voicing.export_to_midi(midi_voicing[i], path, sub_names[i])\n"
   ]
  },
  {
   "cell_type": "code",
   "execution_count": 274,
   "metadata": {},
   "outputs": [
    {
     "name": "stdout",
     "output_type": "stream",
     "text": [
      "{'composer': 'Pat Metheny', 'style': 'Ballad', 'song_name': 'Message To A Friend', 'tonality': 'C major', 'midi_key': 12, 'time_signature': '4/4', 'decade': 'Null'}\n",
      "['<style>' 'Ballad' '|' 'Form_A' '.' 'C' 'major' '.' 'E' 'minor' '|' '.'\n",
      " 'B' 'suspended-fourth' '.' 'B' 'major' '.' 'B' 'major' '|' '.' 'G'\n",
      " 'major' '.' 'C' 'major-seventh' '|' '.' 'C#' 'minor-seventh' 'alter b5'\n",
      " '.' 'G' 'major-seventh' '|' '.' 'D' 'major' '/' 'F#' '.' 'C' 'major' '|'\n",
      " '.' 'C' 'minor' '/' 'Eb' '.' 'G' 'major' '|' '.' 'C#' 'minor-seventh'\n",
      " 'alter b5' '.' 'F#' 'dominant' '/' 'C#' '|' '.' 'B' 'major' '/' 'C#' '.'\n",
      " 'A' 'minor-seventh' '/' 'C#' '.' 'D' 'dominant' '|' 'Form_B' '.' 'G'\n",
      " 'major' 'add 9' '.' 'D' 'major' '/' 'F#' '|' '.' 'C' 'major-seventh' '.'\n",
      " 'C#' 'minor-seventh' 'alter b5' '|' '.' 'G' 'major' '.' 'B' 'dominant'\n",
      " '/' 'D#' '|' '.' 'G' 'dominant' '.' 'A' 'dominant' '/' 'C#' '|'\n",
      " 'Form_Coda' '.' 'C' 'major-seventh' '/' 'C#' '.' 'A' 'minor-seventh' '/'\n",
      " 'C#' '|' '.' 'B' 'minor-seventh' '/' 'C#' '.' 'E' 'minor-ninth' '/' 'C#'\n",
      " '|' '.' 'C' 'major' '|' '.' 'C' 'major' '|' '.' 'C#' 'minor-seventh'\n",
      " 'alter b5' '.' 'G' 'major' '|' '.' 'B' 'dominant' '/' 'D#' '.' 'E'\n",
      " 'minor' '/' 'D#' '|' 'Form_Coda' '.' 'B' 'minor-seventh' '/' 'D#' '.' 'E'\n",
      " 'minor-ninth' '/' 'D#' '|' '.' 'C#' 'minor-seventh' 'alter b5' '/' 'D#'\n",
      " '.' 'D' 'major' '|' '.' 'B' 'minor-seventh' '.' 'E' 'minor-ninth' '|' '.'\n",
      " 'C' 'minor' 'add #7' '|' '.' 'C' 'minor' 'add #7' '|' '.' 'A'\n",
      " 'minor-ninth' '.' 'Bb' 'major-seventh' '|' '.' 'C' 'major' '.' 'F#'\n",
      " 'major' '|' '.' 'G' 'major-seventh' 'add #11']\n"
     ]
    }
   ],
   "source": [
    "id = 4005\n",
    "print(all_meta[id])\n",
    "print(theChordDataset[id])"
   ]
  }
 ],
 "metadata": {
  "kernelspec": {
   "display_name": "Python 3",
   "language": "python",
   "name": "python3"
  },
  "language_info": {
   "codemirror_mode": {
    "name": "ipython",
    "version": 3
   },
   "file_extension": ".py",
   "mimetype": "text/x-python",
   "name": "python",
   "nbconvert_exporter": "python",
   "pygments_lexer": "ipython3",
   "version": "3.10.12"
  }
 },
 "nbformat": 4,
 "nbformat_minor": 2
}
