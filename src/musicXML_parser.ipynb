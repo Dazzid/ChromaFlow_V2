{
 "cells": [
  {
   "cell_type": "code",
   "execution_count": 12,
   "metadata": {},
   "outputs": [],
   "source": [
    "import numpy as np\n",
    "import xmlTranslator as xmlT\n",
    "from tqdm import tqdm\n",
    "%reload_ext autoreload\n",
    "%autoreload 2\n",
    "import importlib\n",
    "from utils import get_project_root\n",
    "from ipywidgets import FloatProgress"
   ]
  },
  {
   "cell_type": "markdown",
   "metadata": {},
   "source": [
    "TODO: \n",
    "- Repeat the sequences 3 times\n",
    "- Extend all chords into 18 enharmonic\n",
    "- Complete the voicing as a MIDI array \n",
    "- Split into train and test\n",
    "- Pass the MIDI into Embeddings"
   ]
  },
  {
   "cell_type": "code",
   "execution_count": 100,
   "metadata": {},
   "outputs": [
    {
     "data": {
      "application/vnd.jupyter.widget-view+json": {
       "model_id": "818648ac02a34d019c442e9044d311fa",
       "version_major": 2,
       "version_minor": 0
      },
      "text/plain": [
       "  0%|          | 0/4006 [00:00<?, ?it/s]"
      ]
     },
     "metadata": {},
     "output_type": "display_data"
    },
    {
     "name": "stdout",
     "output_type": "stream",
     "text": [
      "(4005,) (4005,)\n",
      "(4005,) (4005,) 4005\n"
     ]
    }
   ],
   "source": [
    "directory = '/data/iRealXML'\n",
    "root = get_project_root()\n",
    "myPath = str(root) + str(directory)\n",
    "\n",
    "theChordDataset, theDurationsDataset, all_meta = xmlT.parse_info_from_XML(myPath)\n",
    "print(theChordDataset.shape, theDurationsDataset.shape, len(all_meta))"
   ]
  },
  {
   "cell_type": "code",
   "execution_count": null,
   "metadata": {},
   "outputs": [],
   "source": [
    "id = 0\n",
    "seq = theChordDataset[id]\n",
    "time = theDurationsDataset[id]\n",
    "\n",
    "for i in range(len(seq)):\n",
    "    print(seq[i], time[i])"
   ]
  },
  {
   "cell_type": "code",
   "execution_count": 101,
   "metadata": {},
   "outputs": [
    {
     "name": "stderr",
     "output_type": "stream",
     "text": [
      "100%|██████████| 4005/4005 [00:01<00:00, 3148.36it/s]\n"
     ]
    }
   ],
   "source": [
    "importlib.reload(xmlT)\n",
    "\n",
    "id = 0\n",
    "expand_form_dataset = []\n",
    "expand_duration_dataset = []\n",
    "status = True\n",
    "for i in tqdm(range(theChordDataset.shape[0])):\n",
    "    song_structure, duration_structure, status = xmlT.expand_song_structure(theChordDataset[i], theDurationsDataset[i], i)\n",
    "    if status == False:\n",
    "        print('Song:', all_meta[i])\n",
    "        id = i\n",
    "        break\n",
    "    song_structure = np.array(song_structure)\n",
    "    duration_structure = np.array(duration_structure)\n",
    "    expand_form_dataset.append(song_structure)\n",
    "    expand_duration_dataset.append(duration_structure)\n",
    "\n",
    "#check if all elements are the same size\n",
    "for i in range(len(expand_form_dataset)):\n",
    "    if len(expand_form_dataset) != len(expand_duration_dataset):\n",
    "        print('Error in:', i)\n",
    "        break"
   ]
  },
  {
   "cell_type": "code",
   "execution_count": 97,
   "metadata": {},
   "outputs": [
    {
     "name": "stdout",
     "output_type": "stream",
     "text": [
      "['<style>' 'Medium Swing' '|:' '.' 'Eb' 'major' '|' '.' 'Eb' 'major' '|'\n",
      " '.' 'E' 'diminished' '|' '.' 'E' 'diminished' '|' '.' 'F' 'minor-seventh'\n",
      " '|' '.' 'Bb' 'dominant' '|' '.' 'Eb' 'major' '|' 'Repeat_1' '.' 'Eb'\n",
      " 'major' ':|' '|' 'Repeat_2' '.' 'A' 'minor-seventh' '.' 'D' 'dominant'\n",
      " '|' '.' 'G' 'major' '|' '.' 'A' 'minor-seventh' '.' 'D' 'dominant' '|'\n",
      " '.' 'G' 'major' '|' '.' 'A' 'minor-seventh' '.' 'D' 'dominant' '|' '.'\n",
      " 'G' 'minor-seventh' '|' '.' 'C' 'dominant' '|' '.' 'F' 'dominant' '|' '.'\n",
      " 'Bb' 'dominant' '|' '.' 'Eb' 'major' '|' '.' 'Eb' 'major' '|' '.' 'Gb'\n",
      " 'diminished' '|' '.' 'Gb' 'diminished' '|' '.' 'F' 'minor-seventh' '|'\n",
      " '.' 'Bb' 'dominant' '|' 'Repeat_0' '.' 'Eb' 'major' '|' '.' 'Eb' 'major'\n",
      " ':|' '|' 'Repeat_0' '.' 'G' 'minor-seventh' '|' '.' 'C' 'dominant' '|'\n",
      " '.' 'F' 'minor-seventh' '|' '.' 'Bb' 'dominant' '|' '.' 'Eb' 'major' '|'\n",
      " '.' 'Eb' 'major']\n",
      "['<style>' 'Medium Swing' '|' '.' 'Eb' 'major' '|' '.' 'Eb' 'major' '|'\n",
      " '.' 'E' 'diminished' '|' '.' 'E' 'diminished' '|' '.' 'F' 'minor-seventh'\n",
      " '|' '.' 'Bb' 'dominant' '|' '.' 'Eb' 'major' '|' '.' 'Eb' 'major' '.'\n",
      " 'Eb' 'major' '|' '.' 'Eb' 'major' '|' '.' 'E' 'diminished' '|' '.' 'E'\n",
      " 'diminished' '|' '.' 'F' 'minor-seventh' '|' '.' 'Bb' 'dominant' '|' '.'\n",
      " 'Eb' 'major' '|' '.' 'A' 'minor-seventh' '.' 'D' 'dominant' '|' '.' 'G'\n",
      " 'major' '|' '.' 'A' 'minor-seventh' '.' 'D' 'dominant' '|' '.' 'G'\n",
      " 'major' '|' '.' 'A' 'minor-seventh' '.' 'D' 'dominant' '|' '.' 'G'\n",
      " 'minor-seventh' '|' '.' 'C' 'dominant' '|' '.' 'F' 'dominant' '|' '.'\n",
      " 'Bb' 'dominant' '|' '.' 'Eb' 'major' '|' '.' 'Eb' 'major' '|' '.' 'Gb'\n",
      " 'diminished' '|' '.' 'Gb' 'diminished' '|' '.' 'F' 'minor-seventh' '|'\n",
      " '.' 'Bb' 'dominant' '|' '.' 'Eb' 'major' '|' '.' 'Eb' 'major' '.' 'Eb'\n",
      " 'major' '|' '.' 'Eb' 'major' '|' '.' 'E' 'diminished' '|' '.' 'E'\n",
      " 'diminished' '|' '.' 'F' 'minor-seventh' '|' '.' 'Bb' 'dominant' '|' '.'\n",
      " 'Eb' 'major' '|' '.' 'G' 'minor-seventh' '|' '.' 'C' 'dominant' '|' '.'\n",
      " 'F' 'minor-seventh' '|' '.' 'Bb' 'dominant' '|' '.' 'Eb' 'major' '|' '.'\n",
      " 'Eb' 'major']\n"
     ]
    }
   ],
   "source": [
    "print(theChordDataset[0])\n",
    "print(expand_form_dataset[0])"
   ]
  },
  {
   "cell_type": "code",
   "execution_count": 102,
   "metadata": {},
   "outputs": [
    {
     "name": "stdout",
     "output_type": "stream",
     "text": [
      "[['<style>' '0.0']\n",
      " ['Medium Swing' '0.0']\n",
      " ['|' '0.0']\n",
      " ['.' '4.0']\n",
      " ['Eb' '4.0']\n",
      " ['major' '4.0']\n",
      " ['|' '4.0']\n",
      " ['.' '4.0']\n",
      " ['Eb' '4.0']\n",
      " ['major' '4.0']\n",
      " ['|' '4.0']\n",
      " ['.' '4.0']\n",
      " ['E' '4.0']\n",
      " ['diminished' '4.0']\n",
      " ['|' '4.0']\n",
      " ['.' '4.0']\n",
      " ['E' '4.0']\n",
      " ['diminished' '4.0']\n",
      " ['|' '4.0']\n",
      " ['.' '4.0']\n",
      " ['F' '4.0']\n",
      " ['minor-seventh' '4.0']\n",
      " ['|' '4.0']\n",
      " ['.' '4.0']\n",
      " ['Bb' '4.0']\n",
      " ['dominant' '4.0']\n",
      " ['|' '4.0']\n",
      " ['.' '4.0']\n",
      " ['Eb' '4.0']\n",
      " ['major' '4.0']\n",
      " ['|' '4.0']\n",
      " ['.' '4.0']\n",
      " ['Eb' '4.0']\n",
      " ['major' '4.0']\n",
      " ['.' '4.0']\n",
      " ['Eb' '4.0']\n",
      " ['major' '4.0']\n",
      " ['|' '4.0']\n",
      " ['.' '4.0']\n",
      " ['Eb' '4.0']\n",
      " ['major' '4.0']\n",
      " ['|' '4.0']\n",
      " ['.' '4.0']\n",
      " ['E' '4.0']\n",
      " ['diminished' '4.0']\n",
      " ['|' '4.0']\n",
      " ['.' '4.0']\n",
      " ['E' '4.0']\n",
      " ['diminished' '4.0']\n",
      " ['|' '4.0']\n",
      " ['.' '4.0']\n",
      " ['F' '4.0']\n",
      " ['minor-seventh' '4.0']\n",
      " ['|' '4.0']\n",
      " ['.' '4.0']\n",
      " ['Bb' '4.0']\n",
      " ['dominant' '4.0']\n",
      " ['|' '4.0']\n",
      " ['.' '4.0']\n",
      " ['Eb' '4.0']\n",
      " ['major' '4.0']\n",
      " ['|' '4.0']\n",
      " ['.' '2.0']\n",
      " ['A' '2.0']\n",
      " ['minor-seventh' '2.0']\n",
      " ['.' '2.0']\n",
      " ['D' '2.0']\n",
      " ['dominant' '2.0']\n",
      " ['|' '2.0']\n",
      " ['.' '4.0']\n",
      " ['G' '4.0']\n",
      " ['major' '4.0']\n",
      " ['|' '4.0']\n",
      " ['.' '2.0']\n",
      " ['A' '2.0']\n",
      " ['minor-seventh' '2.0']\n",
      " ['.' '2.0']\n",
      " ['D' '2.0']\n",
      " ['dominant' '2.0']\n",
      " ['|' '2.0']\n",
      " ['.' '4.0']\n",
      " ['G' '4.0']\n",
      " ['major' '4.0']\n",
      " ['|' '4.0']\n",
      " ['.' '2.0']\n",
      " ['A' '2.0']\n",
      " ['minor-seventh' '2.0']\n",
      " ['.' '2.0']\n",
      " ['D' '2.0']\n",
      " ['dominant' '2.0']\n",
      " ['|' '2.0']\n",
      " ['.' '4.0']\n",
      " ['G' '4.0']\n",
      " ['minor-seventh' '4.0']\n",
      " ['|' '4.0']\n",
      " ['.' '4.0']\n",
      " ['C' '4.0']\n",
      " ['dominant' '4.0']\n",
      " ['|' '4.0']\n",
      " ['.' '4.0']\n",
      " ['F' '4.0']\n",
      " ['dominant' '4.0']\n",
      " ['|' '4.0']\n",
      " ['.' '4.0']\n",
      " ['Bb' '4.0']\n",
      " ['dominant' '4.0']\n",
      " ['|' '4.0']\n",
      " ['.' '4.0']\n",
      " ['Eb' '4.0']\n",
      " ['major' '4.0']\n",
      " ['|' '4.0']\n",
      " ['.' '4.0']\n",
      " ['Eb' '4.0']\n",
      " ['major' '4.0']\n",
      " ['|' '4.0']\n",
      " ['.' '4.0']\n",
      " ['Gb' '4.0']\n",
      " ['diminished' '4.0']\n",
      " ['|' '4.0']\n",
      " ['.' '4.0']\n",
      " ['Gb' '4.0']\n",
      " ['diminished' '4.0']\n",
      " ['|' '4.0']\n",
      " ['.' '4.0']\n",
      " ['F' '4.0']\n",
      " ['minor-seventh' '4.0']\n",
      " ['|' '4.0']\n",
      " ['.' '4.0']\n",
      " ['Bb' '4.0']\n",
      " ['dominant' '4.0']\n",
      " ['|' '4.0']\n",
      " ['.' '4.0']\n",
      " ['Eb' '4.0']\n",
      " ['major' '4.0']\n",
      " ['|' '4.0']\n",
      " ['.' '4.0']\n",
      " ['Eb' '4.0']\n",
      " ['major' '4.0']\n",
      " ['.' '4.0']\n",
      " ['Eb' '4.0']\n",
      " ['major' '4.0']\n",
      " ['|' '4.0']\n",
      " ['.' '4.0']\n",
      " ['Eb' '4.0']\n",
      " ['major' '4.0']\n",
      " ['|' '4.0']\n",
      " ['.' '4.0']\n",
      " ['E' '4.0']\n",
      " ['diminished' '4.0']\n",
      " ['|' '4.0']\n",
      " ['.' '4.0']\n",
      " ['E' '4.0']\n",
      " ['diminished' '4.0']\n",
      " ['|' '4.0']\n",
      " ['.' '4.0']\n",
      " ['F' '4.0']\n",
      " ['minor-seventh' '4.0']\n",
      " ['|' '4.0']\n",
      " ['.' '4.0']\n",
      " ['Bb' '4.0']\n",
      " ['dominant' '4.0']\n",
      " ['|' '4.0']\n",
      " ['.' '4.0']\n",
      " ['Eb' '4.0']\n",
      " ['major' '4.0']\n",
      " ['|' '4.0']\n",
      " ['.' '4.0']\n",
      " ['G' '4.0']\n",
      " ['minor-seventh' '4.0']\n",
      " ['|' '4.0']\n",
      " ['.' '4.0']\n",
      " ['C' '4.0']\n",
      " ['dominant' '4.0']\n",
      " ['|' '4.0']\n",
      " ['.' '4.0']\n",
      " ['F' '4.0']\n",
      " ['minor-seventh' '4.0']\n",
      " ['|' '4.0']\n",
      " ['.' '4.0']\n",
      " ['Bb' '4.0']\n",
      " ['dominant' '4.0']\n",
      " ['|' '4.0']\n",
      " ['.' '4.0']\n",
      " ['Eb' '4.0']\n",
      " ['major' '4.0']\n",
      " ['|' '4.0']\n",
      " ['.' '4.0']\n",
      " ['Eb' '4.0']\n",
      " ['major' '4.0']]\n"
     ]
    }
   ],
   "source": [
    "dataset = []\n",
    "for chords_values, durations_values in zip(expand_form_dataset, expand_duration_dataset):\n",
    "    coupled = list(zip(chords_values, durations_values))\n",
    "    dataset.append(coupled)\n",
    "    \n",
    "print(np.array(dataset[0]))"
   ]
  },
  {
   "cell_type": "code",
   "execution_count": 142,
   "metadata": {},
   "outputs": [
    {
     "data": {
      "application/vnd.jupyter.widget-view+json": {
       "model_id": "cb32c79960404ab3b2d5ffe810bc73bc",
       "version_major": 2,
       "version_minor": 0
      },
      "text/plain": [
       "  0%|          | 0/4005 [00:00<?, ?it/s]"
      ]
     },
     "metadata": {},
     "output_type": "display_data"
    }
   ],
   "source": [
    "importlib.reload(xmlT)\n",
    "\n",
    "#correct the wrong chords\n",
    "corrected_sequence = xmlT.replaceTheseChords(dataset, False)"
   ]
  },
  {
   "cell_type": "code",
   "execution_count": 98,
   "metadata": {},
   "outputs": [
    {
     "name": "stdout",
     "output_type": "stream",
     "text": [
      "[['<style>' '0.0']\n",
      " ['Medium Swing' '0.0']\n",
      " ['|' '0.0']\n",
      " ['.' '4.0']\n",
      " ['Eb' '4.0']\n",
      " ['maj' '4.0']\n",
      " ['|' '4.0']\n",
      " ['.' '4.0']\n",
      " ['Eb' '4.0']\n",
      " ['maj' '4.0']\n",
      " ['|' '4.0']\n",
      " ['.' '4.0']\n",
      " ['E' '4.0']\n",
      " ['o' '4.0']\n",
      " ['|' '4.0']\n",
      " ['.' '4.0']\n",
      " ['E' '4.0']\n",
      " ['o' '4.0']\n",
      " ['|' '4.0']\n",
      " ['.' '4.0']\n",
      " ['F' '4.0']\n",
      " ['m7' '4.0']\n",
      " ['|' '4.0']\n",
      " ['.' '4.0']\n",
      " ['Bb' '4.0']\n",
      " ['dom7' '4.0']\n",
      " ['|' '4.0']\n",
      " ['.' '4.0']\n",
      " ['Eb' '4.0']\n",
      " ['maj' '4.0']\n",
      " ['|' '4.0']\n",
      " ['.' '4.0']\n",
      " ['Eb' '4.0']\n",
      " ['maj' '4.0']\n",
      " ['.' '4.0']\n",
      " ['Eb' '4.0']\n",
      " ['maj' '4.0']\n",
      " ['|' '4.0']\n",
      " ['.' '4.0']\n",
      " ['Eb' '4.0']\n",
      " ['maj' '4.0']\n",
      " ['|' '4.0']\n",
      " ['.' '4.0']\n",
      " ['E' '4.0']\n",
      " ['o' '4.0']\n",
      " ['|' '4.0']\n",
      " ['.' '4.0']\n",
      " ['E' '4.0']\n",
      " ['o' '4.0']\n",
      " ['|' '4.0']\n",
      " ['.' '4.0']\n",
      " ['F' '4.0']\n",
      " ['m7' '4.0']\n",
      " ['|' '4.0']\n",
      " ['.' '4.0']\n",
      " ['Bb' '4.0']\n",
      " ['dom7' '4.0']\n",
      " ['|' '4.0']\n",
      " ['.' '4.0']\n",
      " ['Eb' '4.0']\n",
      " ['maj' '4.0']\n",
      " ['|' '4.0']\n",
      " ['.' '2.0']\n",
      " ['A' '2.0']\n",
      " ['m7' '2.0']\n",
      " ['.' '2.0']\n",
      " ['D' '2.0']\n",
      " ['dom7' '2.0']\n",
      " ['|' '2.0']\n",
      " ['.' '4.0']\n",
      " ['G' '4.0']\n",
      " ['maj' '4.0']\n",
      " ['|' '4.0']\n",
      " ['.' '2.0']\n",
      " ['A' '2.0']\n",
      " ['m7' '2.0']\n",
      " ['.' '2.0']\n",
      " ['D' '2.0']\n",
      " ['dom7' '2.0']\n",
      " ['|' '2.0']\n",
      " ['.' '4.0']\n",
      " ['G' '4.0']\n",
      " ['maj' '4.0']\n",
      " ['|' '4.0']\n",
      " ['.' '2.0']\n",
      " ['A' '2.0']\n",
      " ['m7' '2.0']\n",
      " ['.' '2.0']\n",
      " ['D' '2.0']\n",
      " ['dom7' '2.0']\n",
      " ['|' '2.0']\n",
      " ['.' '4.0']\n",
      " ['G' '4.0']\n",
      " ['m7' '4.0']\n",
      " ['|' '4.0']\n",
      " ['.' '4.0']\n",
      " ['C' '4.0']\n",
      " ['dom7' '4.0']\n",
      " ['|' '4.0']\n",
      " ['.' '4.0']\n",
      " ['F' '4.0']\n",
      " ['dom7' '4.0']\n",
      " ['|' '4.0']\n",
      " ['.' '4.0']\n",
      " ['Bb' '4.0']\n",
      " ['dom7' '4.0']\n",
      " ['|' '4.0']\n",
      " ['.' '4.0']\n",
      " ['Eb' '4.0']\n",
      " ['maj' '4.0']\n",
      " ['|' '4.0']\n",
      " ['.' '4.0']\n",
      " ['Eb' '4.0']\n",
      " ['maj' '4.0']\n",
      " ['|' '4.0']\n",
      " ['.' '4.0']\n",
      " ['Gb' '4.0']\n",
      " ['o' '4.0']\n",
      " ['|' '4.0']\n",
      " ['.' '4.0']\n",
      " ['Gb' '4.0']\n",
      " ['o' '4.0']\n",
      " ['|' '4.0']\n",
      " ['.' '4.0']\n",
      " ['F' '4.0']\n",
      " ['m7' '4.0']\n",
      " ['|' '4.0']\n",
      " ['.' '4.0']\n",
      " ['Bb' '4.0']\n",
      " ['dom7' '4.0']\n",
      " ['|' '4.0']\n",
      " ['.' '4.0']\n",
      " ['Eb' '4.0']\n",
      " ['maj' '4.0']\n",
      " ['|' '4.0']\n",
      " ['.' '4.0']\n",
      " ['Eb' '4.0']\n",
      " ['maj' '4.0']\n",
      " ['.' '4.0']\n",
      " ['Eb' '4.0']\n",
      " ['maj' '4.0']\n",
      " ['|' '4.0']\n",
      " ['.' '4.0']\n",
      " ['Eb' '4.0']\n",
      " ['maj' '4.0']\n",
      " ['|' '4.0']\n",
      " ['.' '4.0']\n",
      " ['E' '4.0']\n",
      " ['o' '4.0']\n",
      " ['|' '4.0']\n",
      " ['.' '4.0']\n",
      " ['E' '4.0']\n",
      " ['o' '4.0']\n",
      " ['|' '4.0']\n",
      " ['.' '4.0']\n",
      " ['F' '4.0']\n",
      " ['m7' '4.0']\n",
      " ['|' '4.0']\n",
      " ['.' '4.0']\n",
      " ['Bb' '4.0']\n",
      " ['dom7' '4.0']\n",
      " ['|' '4.0']\n",
      " ['.' '4.0']\n",
      " ['Eb' '4.0']\n",
      " ['maj' '4.0']\n",
      " ['|' '4.0']\n",
      " ['.' '4.0']\n",
      " ['G' '4.0']\n",
      " ['m7' '4.0']\n",
      " ['|' '4.0']\n",
      " ['.' '4.0']\n",
      " ['C' '4.0']\n",
      " ['dom7' '4.0']\n",
      " ['|' '4.0']\n",
      " ['.' '4.0']\n",
      " ['F' '4.0']\n",
      " ['m7' '4.0']\n",
      " ['|' '4.0']\n",
      " ['.' '4.0']\n",
      " ['Bb' '4.0']\n",
      " ['dom7' '4.0']\n",
      " ['|' '4.0']\n",
      " ['.' '4.0']\n",
      " ['Eb' '4.0']\n",
      " ['maj' '4.0']\n",
      " ['|' '4.0']\n",
      " ['.' '4.0']\n",
      " ['Eb' '4.0']\n",
      " ['maj' '4.0']]\n"
     ]
    }
   ],
   "source": [
    "cs = np.array(corrected_sequence[0])\n",
    "print(cs)"
   ]
  },
  {
   "cell_type": "code",
   "execution_count": 143,
   "metadata": {},
   "outputs": [
    {
     "name": "stdout",
     "output_type": "stream",
     "text": [
      "4005\n",
      "[('<style>', 0.0), ('Medium Swing', 0.0), ('|', 0.0), ('.', 4.0), ('Eb', 4.0), ('maj', 4.0), ('|', 4.0), ('.', 4.0), ('Eb', 4.0), ('maj', 4.0), ('|', 4.0), ('.', 4.0), ('E', 4.0), ('o', 4.0), ('|', 4.0), ('.', 4.0), ('E', 4.0), ('o', 4.0), ('|', 4.0), ('.', 4.0), ('F', 4.0), ('m7', 4.0), ('|', 4.0), ('.', 4.0), ('Bb', 4.0), ('dom7', 4.0), ('|', 4.0), ('.', 4.0), ('Eb', 4.0), ('maj', 4.0), ('|', 4.0), ('.', 4.0), ('Eb', 4.0), ('maj', 4.0), ('.', 4.0), ('Eb', 4.0), ('maj', 4.0), ('|', 4.0), ('.', 4.0), ('Eb', 4.0), ('maj', 4.0), ('|', 4.0), ('.', 4.0), ('E', 4.0), ('o', 4.0), ('|', 4.0), ('.', 4.0), ('E', 4.0), ('o', 4.0), ('|', 4.0), ('.', 4.0), ('F', 4.0), ('m7', 4.0), ('|', 4.0), ('.', 4.0), ('Bb', 4.0), ('dom7', 4.0), ('|', 4.0), ('.', 4.0), ('Eb', 4.0), ('maj', 4.0), ('|', 4.0), ('.', 2.0), ('A', 2.0), ('m7', 2.0), ('.', 2.0), ('D', 2.0), ('dom7', 2.0), ('|', 2.0), ('.', 4.0), ('G', 4.0), ('maj', 4.0), ('|', 4.0), ('.', 2.0), ('A', 2.0), ('m7', 2.0), ('.', 2.0), ('D', 2.0), ('dom7', 2.0), ('|', 2.0), ('.', 4.0), ('G', 4.0), ('maj', 4.0), ('|', 4.0), ('.', 2.0), ('A', 2.0), ('m7', 2.0), ('.', 2.0), ('D', 2.0), ('dom7', 2.0), ('|', 2.0), ('.', 4.0), ('G', 4.0), ('m7', 4.0), ('|', 4.0), ('.', 4.0), ('C', 4.0), ('dom7', 4.0), ('|', 4.0), ('.', 4.0), ('F', 4.0), ('dom7', 4.0), ('|', 4.0), ('.', 4.0), ('Bb', 4.0), ('dom7', 4.0), ('|', 4.0), ('.', 4.0), ('Eb', 4.0), ('maj', 4.0), ('|', 4.0), ('.', 4.0), ('Eb', 4.0), ('maj', 4.0), ('|', 4.0), ('.', 4.0), ('Gb', 4.0), ('o', 4.0), ('|', 4.0), ('.', 4.0), ('Gb', 4.0), ('o', 4.0), ('|', 4.0), ('.', 4.0), ('F', 4.0), ('m7', 4.0), ('|', 4.0), ('.', 4.0), ('Bb', 4.0), ('dom7', 4.0), ('|', 4.0), ('.', 4.0), ('Eb', 4.0), ('maj', 4.0), ('|', 4.0), ('.', 4.0), ('Eb', 4.0), ('maj', 4.0), ('.', 4.0), ('Eb', 4.0), ('maj', 4.0), ('|', 4.0), ('.', 4.0), ('Eb', 4.0), ('maj', 4.0), ('|', 4.0), ('.', 4.0), ('E', 4.0), ('o', 4.0), ('|', 4.0), ('.', 4.0), ('E', 4.0), ('o', 4.0), ('|', 4.0), ('.', 4.0), ('F', 4.0), ('m7', 4.0), ('|', 4.0), ('.', 4.0), ('Bb', 4.0), ('dom7', 4.0), ('|', 4.0), ('.', 4.0), ('Eb', 4.0), ('maj', 4.0), ('|', 4.0), ('.', 4.0), ('G', 4.0), ('m7', 4.0), ('|', 4.0), ('.', 4.0), ('C', 4.0), ('dom7', 4.0), ('|', 4.0), ('.', 4.0), ('F', 4.0), ('m7', 4.0), ('|', 4.0), ('.', 4.0), ('Bb', 4.0), ('dom7', 4.0), ('|', 4.0), ('.', 4.0), ('Eb', 4.0), ('maj', 4.0), ('|', 4.0), ('.', 4.0), ('Eb', 4.0), ('maj', 4.0)]\n"
     ]
    }
   ],
   "source": [
    "#clean the elements that are ''\n",
    "dataset = [[tup for tup in inner_list if tup[0] != ''] for inner_list in corrected_sequence]\n",
    "\n",
    "print(len(dataset))\n",
    "print(dataset[0])\n",
    "\n",
    "for song in dataset:\n",
    "    for i, e in enumerate(song):\n",
    "        if e[0] == '':\n",
    "            print(song)\n",
    "            print(i)\n",
    "            break"
   ]
  },
  {
   "cell_type": "code",
   "execution_count": 144,
   "metadata": {},
   "outputs": [
    {
     "name": "stdout",
     "output_type": "stream",
     "text": [
      "204\n",
      "{'Folk Ballad', 'Soul', 'Shuffle Blues', '|', 'Rock Pop', 'Foxtrot', 'Frevo', 'Rock Waltz', 'Pop Shuffle', 'Afoxe', 'Cuban Son', 'Blues', 'Bolero', 'F', 'alter #11', 'm add 9', 'Beatles', 'Maxixe', 'Fast Blues', 'Slow Blues', 'Up Samba', 'Traditional Gospel', 'Up Waltz (One Feel)', 'Reggae Pop', 'Tango', 'alter b5', 'C', 'add b9', 'Form_Coda', 'add 9', 'Pop Rock', 'Bolero-Cha', 'Ballad', 'Medium Country', 'maj7 add 9', 'maj7', 'Gypsy Bossa', 'add #9', 'UP Swing', 'Form_intro', 'Repeat_0', 'Bossa Nova', 'Bolero-Son', 'alter #9', 'aug', ':|', 'Fusion', 'Rock-Folk', 'Gypsy Swing', 'Rock/Reggae', 'Afoxé', 'Power Ballad', 'Rock Ballad', 'Cb', 'o_maj7', 'Slow Rock', 'A', 'B', 'Medium Funk', 'D#', 'Deliberately', 'dom7 add b9', 'Slow Bossa', 'Rock Slow', 'Moderate Latin', 'Medium Slow', 'Bb', 'm6', 'm', 'Gb', '.', 'Gary Aprile', \"Rock'n'Roll\", 'Medium Waltz', 'Merengue', 'Ab', 'Electric Blues', 'Slow Shuffle', 'Funk Rock', '/', 'Pop jazz', 'Pop Ballad', 'o7', '<style>', 'Up Tempo', 'Samba Reggae', 'Pop Folk', 'Db', 'Jazz', 'add #7', 'Latin', \"Even 8's\", 'Form_D', 'A#', 'maj6', 'Form_Segno', \"Even 8th's\", 'Medium Up', 'Salsa', 'N.C.', 'Electro Pop', 'dom7 add 9', 'Choro', 'Medium Rock', 'Dreamlike', 'Eb', 'Repeat_2', 'Up Tempo Swing', 'Form_C', 'Soul Ballad', 'Even 8ths', 'Up Swing', 'Form_verse', 'Repeat_1', 'Slow Swing', 'Pop', \"R'n'B\", 'Samba', 'major-13th', 'Country Blues', 'March', 'Folk', 'add 4', 'Marchinha', 'Blues Rock', 'C#', 'Bright Shuffle Blues', 'Afro-Samba', 'E', 'Folk-Rock', 'Medium Blues', 'sus4', 'Musical', 'power', 'Latin-Swing', 'Blues Pop', 'Forró', 'Med Up Latin', 'add 2', 'Cha Cha', 'Slowly', 'Disco', 'Blues Shuffle', 'm7 add 9', 'Samba Funk', 'Fast Swing', 'Medium Up Swing', 'Bossa Acoustic', 'Funk', 'Samba-Funk', 'Worship', 'm add 11', 'Slow Ballad', 'alter #5', 'Medium Ballad', 'Even 16ths', 'G', 'add 7', 'Medium Swing', 'Son', 'dom7 add 11', 'Medium Shuffle', 'D', 'Country Ballad', 'Samba-Rock', 'Baião', 'maj', 'Moderately', 'Gospel Ballad', 'Calypso', 'add b6', 'Gypsy Waltz', 'subtract 3', 'Mambo', 'Funk Jazz', 'Chacarera', 'Montuno', '128 Feel', 'Repeat_3', 'Reggae', 'F#', 'add #11', 'RnB', 'Samba Enredo', 'dom7', 'Hymn', 'Form_B', 'Pop-Shuffle', 'Afro', 'Rock Blues', 'Choro - Samba', 'Medium Pop', 'add b13', 'Waltz', 'Form_A', 'Rock', 'Rock/Hip Hop', 'Disco Funk', 'Afoxé-Samba', 'm7', 'G#', 'o', 'Folk Rock', 'Shuffle'}\n"
     ]
    }
   ],
   "source": [
    "#Check vocabulary\n",
    "chords_array = [[item[0] for item in row] for row in dataset]\n",
    "concatenated_array = np.hstack(chords_array) \n",
    "vocab = set(concatenated_array)\n",
    "\n",
    "print(len(vocab))\n",
    "print(vocab)"
   ]
  },
  {
   "cell_type": "code",
   "execution_count": 145,
   "metadata": {},
   "outputs": [
    {
     "name": "stderr",
     "output_type": "stream",
     "text": [
      "100%|██████████| 4005/4005 [00:00<00:00, 9832.80it/s]\n"
     ]
    }
   ],
   "source": [
    "#fix the format of extensions to avoid repeated elements\n",
    "def fix_extensions(sequence):\n",
    "    #natures = {'maj', 'm', 'm6', 'm7', 'dom_7', 'maj7', 'o7', 'o', 'sus', 'sus2', 'sus7', 'ø7', 'power', 'm_maj7'}\n",
    "    for song in tqdm(sequence):\n",
    "        for i, item in enumerate(song):\n",
    "            element = item[0] #extract the chord information\n",
    "            c_duration = item[1] #extract the duration information\n",
    "            if 'add' in element or 'alter' in element:\n",
    "                #print(element)\n",
    "                split = element.split(' ')\n",
    "                size = len(split)\n",
    "                if size > 2:\n",
    "                    if size%2 == 1:\n",
    "                        #print('odd', split)\n",
    "                        nature = split[0]\n",
    "                        #couple the nature with duration\n",
    "                        coupled = (nature, c_duration)\n",
    "                        song[i] = coupled\n",
    "                        counter = 1 \n",
    "                        for n in range(1, size-1, 2):\n",
    "                            ext = split[n] + ' ' + split[n+1]\n",
    "                            coupled = (ext, c_duration)\n",
    "                            song.insert(i+counter, coupled)\n",
    "                            counter += 1\n",
    "        #need to do it separately to avoid the index out of range           \n",
    "        for i, item in enumerate(song):\n",
    "            element = item[0] #extract the chord information\n",
    "            c_duration = item[1] #extract the duration information\n",
    "            \n",
    "            if 'add' in element or 'alter' in element:\n",
    "                #print(element)\n",
    "                split = element.split(' ')\n",
    "                size = len(split)\n",
    "                if size > 2:   \n",
    "                    if size%2 == 0:\n",
    "                        #delete the element\n",
    "                        song.pop(i)\n",
    "                        counter = 0\n",
    "                        for n in range(0, size-1, 2):\n",
    "                            ext = split[n] + ' ' + split[n+1]\n",
    "                            coupled = (ext, c_duration)\n",
    "                            song.insert(i+counter, coupled)\n",
    "                            counter += 1\n",
    "\n",
    "fix_extensions(dataset)"
   ]
  },
  {
   "cell_type": "code",
   "execution_count": 146,
   "metadata": {},
   "outputs": [
    {
     "name": "stdout",
     "output_type": "stream",
     "text": [
      "['<style>', 'Medium Swing', '|', '.', 'Eb', 'maj', '|', '.', 'Eb', 'maj', '|', '.', 'E', 'o', '|', '.', 'E', 'o', '|', '.', 'F', 'm7', '|', '.', 'Bb', 'dom7', '|', '.', 'Eb', 'maj', '|', '.', 'Eb', 'maj', '.', 'Eb', 'maj', '|', '.', 'Eb', 'maj', '|', '.', 'E', 'o', '|', '.', 'E', 'o', '|', '.', 'F', 'm7', '|', '.', 'Bb', 'dom7', '|', '.', 'Eb', 'maj', '|', '.', 'A', 'm7', '.', 'D', 'dom7', '|', '.', 'G', 'maj', '|', '.', 'A', 'm7', '.', 'D', 'dom7', '|', '.', 'G', 'maj', '|', '.', 'A', 'm7', '.', 'D', 'dom7', '|', '.', 'G', 'm7', '|', '.', 'C', 'dom7', '|', '.', 'F', 'dom7', '|', '.', 'Bb', 'dom7', '|', '.', 'Eb', 'maj', '|', '.', 'Eb', 'maj', '|', '.', 'Gb', 'o', '|', '.', 'Gb', 'o', '|', '.', 'F', 'm7', '|', '.', 'Bb', 'dom7', '|', '.', 'Eb', 'maj', '|', '.', 'Eb', 'maj', '.', 'Eb', 'maj', '|', '.', 'Eb', 'maj', '|', '.', 'E', 'o', '|', '.', 'E', 'o', '|', '.', 'F', 'm7', '|', '.', 'Bb', 'dom7', '|', '.', 'Eb', 'maj', '|', '.', 'G', 'm7', '|', '.', 'C', 'dom7', '|', '.', 'F', 'm7', '|', '.', 'Bb', 'dom7', '|', '.', 'Eb', 'maj', '|', '.', 'Eb', 'maj']\n"
     ]
    }
   ],
   "source": [
    "id = 0\n",
    "strings_array = [item[0] for item in dataset[id] if item[0] != '']\n",
    "print(strings_array)"
   ]
  },
  {
   "cell_type": "code",
   "execution_count": 147,
   "metadata": {},
   "outputs": [
    {
     "name": "stderr",
     "output_type": "stream",
     "text": [
      "4005it [00:00, 10216.35it/s]"
     ]
    },
    {
     "name": "stdout",
     "output_type": "stream",
     "text": [
      "['<style>', 'Medium Swing', '|', '.', 'Eb', 'maj', '|', '.', 'Eb', 'maj', '|', '.', 'E', 'o', '|', '.', 'E', 'o', '|', '.', 'F', 'm7', '|', '.', 'Bb', 'dom7', '|', '.', 'Eb', 'maj', '|', '.', 'Eb', 'maj', '.', 'Eb', 'maj', '|', '.', 'Eb', 'maj', '|', '.', 'E', 'o', '|', '.', 'E', 'o', '|', '.', 'F', 'm7', '|', '.', 'Bb', 'dom7', '|', '.', 'Eb', 'maj', '|', '.', 'A', 'm7', '.', 'D', 'dom7', '|', '.', 'G', 'maj', '|', '.', 'A', 'm7', '.', 'D', 'dom7', '|', '.', 'G', 'maj', '|', '.', 'A', 'm7', '.', 'D', 'dom7', '|', '.', 'G', 'm7', '|', '.', 'C', 'dom7', '|', '.', 'F', 'dom7', '|', '.', 'Bb', 'dom7', '|', '.', 'Eb', 'maj', '|', '.', 'Eb', 'maj', '|', '.', 'Gb', 'o', '|', '.', 'Gb', 'o', '|', '.', 'F', 'm7', '|', '.', 'Bb', 'dom7', '|', '.', 'Eb', 'maj', '|', '.', 'Eb', 'maj', '.', 'Eb', 'maj', '|', '.', 'Eb', 'maj', '|', '.', 'E', 'o', '|', '.', 'E', 'o', '|', '.', 'F', 'm7', '|', '.', 'Bb', 'dom7', '|', '.', 'Eb', 'maj', '|', '.', 'G', 'm7', '|', '.', 'C', 'dom7', '|', '.', 'F', 'm7', '|', '.', 'Bb', 'dom7', '|', '.', 'Eb', 'maj', '|', '.', 'Eb', 'maj']\n"
     ]
    },
    {
     "name": "stderr",
     "output_type": "stream",
     "text": [
      "\n"
     ]
    }
   ],
   "source": [
    "#find duplicated 'add' or 'alter' elements and remove them\n",
    "\n",
    "def correctDuplicatedExtensions(sequence):\n",
    "    structural_elements = {'.', '|', ':|', '|:', '/', 'N.C.'}\n",
    "\n",
    "    for x, song in tqdm(enumerate(sequence)):\n",
    "        for y, item in enumerate(song):\n",
    "            e = item[0]\n",
    "            if '.' in e:\n",
    "                search = True\n",
    "                stepper = y + 2\n",
    "                check_extensions = []\n",
    "                while search:\n",
    "                    if (stepper) >= len(song):\n",
    "                        search = False\n",
    "                        #print('End of song')\n",
    "                        break\n",
    "                    elif stepper < len(song) - 1:\n",
    "                        element = song[stepper][0]\n",
    "            \n",
    "                    if element in structural_elements or element.startswith('Form_'):\n",
    "                        search = False\n",
    "                    else:\n",
    "                        if element not in check_extensions:\n",
    "                            check_extensions.append(element)\n",
    "                        elif stepper < len(song)-1:\n",
    "                            #print('Duplicated:', x, stepper, element, check_extensions)\n",
    "                            song.pop(stepper)\n",
    "                        stepper += 1\n",
    "                if len(check_extensions) > 2:\n",
    "                    continue\n",
    "                    print(x, y+stepper, check_extensions)\n",
    "                \n",
    "correctDuplicatedExtensions(dataset)\n",
    "id = 0\n",
    "strings_array = [item[0] for item in dataset[id] if item[0] != '']\n",
    "print(strings_array)"
   ]
  },
  {
   "cell_type": "code",
   "execution_count": 148,
   "metadata": {},
   "outputs": [
    {
     "name": "stdout",
     "output_type": "stream",
     "text": [
      "['<style>', 'Medium Swing', '|', '.', 'Eb', 'maj', '|', '.', 'Eb', 'maj', '|', '.', 'E', 'o', '|', '.', 'E', 'o', '|', '.', 'F', 'm7', '|', '.', 'Bb', 'dom7', '|', '.', 'Eb', 'maj', '|', '.', 'Eb', 'maj', '.', 'Eb', 'maj', '|', '.', 'Eb', 'maj', '|', '.', 'E', 'o', '|', '.', 'E', 'o', '|', '.', 'F', 'm7', '|', '.', 'Bb', 'dom7', '|', '.', 'Eb', 'maj', '|', '.', 'A', 'm7', '.', 'D', 'dom7', '|', '.', 'G', 'maj', '|', '.', 'A', 'm7', '.', 'D', 'dom7', '|', '.', 'G', 'maj', '|', '.', 'A', 'm7', '.', 'D', 'dom7', '|', '.', 'G', 'm7', '|', '.', 'C', 'dom7', '|', '.', 'F', 'dom7', '|', '.', 'Bb', 'dom7', '|', '.', 'Eb', 'maj', '|', '.', 'Eb', 'maj', '|', '.', 'Gb', 'o', '|', '.', 'Gb', 'o', '|', '.', 'F', 'm7', '|', '.', 'Bb', 'dom7', '|', '.', 'Eb', 'maj', '|', '.', 'Eb', 'maj', '.', 'Eb', 'maj', '|', '.', 'Eb', 'maj', '|', '.', 'E', 'o', '|', '.', 'E', 'o', '|', '.', 'F', 'm7', '|', '.', 'Bb', 'dom7', '|', '.', 'Eb', 'maj', '|', '.', 'G', 'm7', '|', '.', 'C', 'dom7', '|', '.', 'F', 'm7', '|', '.', 'Bb', 'dom7', '|', '.', 'Eb', 'maj', '|', '.', 'Eb', 'maj']\n"
     ]
    }
   ],
   "source": [
    "#fix this ones\n",
    "'''\n",
    "['dom7', 'sus7', 'add b9'] remove dom7\n",
    "['sus7', 'add 13', 'sus4'] remove sus4\n",
    "['sus7', 'add 9', 'sus4'] remove sus4\n",
    "['m', 'add 6', 'add 9', 'sus4'] remove sus4\n",
    "['sus7', 'add 13', 'sus4', 'add b9'] remove sus4\n",
    "['dom7', 'add 13', 'sus4', 'add b9'] remove sus4\n",
    "'''\n",
    "fix_this = [{'seq': ['dom7', 'sus7', 'add b9'], 'remove': 'dom7'},\n",
    "            {'seq': ['sus7', 'add 13', 'sus4'], 'remove': 'sus4'},\n",
    "            {'seq': ['sus7', 'add 9', 'sus4'], 'remove': 'sus4'},\n",
    "            {'seq': ['m', 'add 6', 'add 9', 'sus4'], 'remove': 'sus4'},\n",
    "            {'seq': ['sus7', 'add 13', 'sus4', 'add b9'], 'remove': 'sus4'},\n",
    "            {'seq': ['dom7', 'add 13', 'sus4', 'add b9'], 'remove': 'sus4'}]\n",
    "\n",
    "structural_elements = {'.', '|', ':|', '|:', '/', 'N.C.'}\n",
    "\n",
    "for x, song in enumerate(dataset):\n",
    "    for y, e in enumerate(song):\n",
    "        if '.' in e[0]:\n",
    "            search = True\n",
    "            stepper = y + 2\n",
    "            check_extensions = []\n",
    "            while search:\n",
    "                if (stepper) >= len(song):\n",
    "                    search = False\n",
    "                    #print('End of song')\n",
    "                    break\n",
    "                elif stepper < len(song) - 1:\n",
    "                    element = song[stepper][0]\n",
    "        \n",
    "                if element in structural_elements or element.startswith('Form_'):\n",
    "                    search = False\n",
    "                else:\n",
    "                    if element not in check_extensions:\n",
    "                        check_extensions.append(element)\n",
    "                    for item in fix_this:\n",
    "                        if check_extensions == item['seq']:\n",
    "                            print(x, stepper, check_extensions, 'to remove:', item['remove'])\n",
    "                            #find the location of the element in the array\n",
    "                            for i in range(len(check_extensions)):\n",
    "                                if check_extensions[i] == item['remove']:\n",
    "                                    location = i + stepper - 2\n",
    "                                    #erase this element from song\n",
    "                                    if location < len(song):\n",
    "                                        print(location, item['remove'], song[location])\n",
    "                                        song.pop(location)\n",
    "                                    break\n",
    "                            \n",
    "                    stepper += 1\n",
    "                    \n",
    "id = 0\n",
    "\n"
   ]
  },
  {
   "cell_type": "code",
   "execution_count": 149,
   "metadata": {},
   "outputs": [
    {
     "name": "stdout",
     "output_type": "stream",
     "text": [
      "{'composer': 'George Gershwin, Ira Gershwin (1927)', 'style': 'Medium Swing', 'song_name': \"'S Wonderful\", 'tonality': 'Eb major', 'midi_key': 15, 'time_signature': '4/4', 'decade': 'Null'}\n",
      "[('<style>', 0.0), ('Medium Swing', 0.0), ('|', 0.0), ('.', 4.0), ('Eb', 4.0), ('maj', 4.0), ('|', 4.0), ('.', 4.0), ('Eb', 4.0), ('maj', 4.0), ('|', 4.0), ('.', 4.0), ('E', 4.0), ('o', 4.0), ('|', 4.0), ('.', 4.0), ('E', 4.0), ('o', 4.0), ('|', 4.0), ('.', 4.0), ('F', 4.0), ('m7', 4.0), ('|', 4.0), ('.', 4.0), ('Bb', 4.0), ('dom7', 4.0), ('|', 4.0), ('.', 4.0), ('Eb', 4.0), ('maj', 4.0), ('|', 4.0), ('.', 4.0), ('Eb', 4.0), ('maj', 4.0), ('.', 4.0), ('Eb', 4.0), ('maj', 4.0), ('|', 4.0), ('.', 4.0), ('Eb', 4.0), ('maj', 4.0), ('|', 4.0), ('.', 4.0), ('E', 4.0), ('o', 4.0), ('|', 4.0), ('.', 4.0), ('E', 4.0), ('o', 4.0), ('|', 4.0), ('.', 4.0), ('F', 4.0), ('m7', 4.0), ('|', 4.0), ('.', 4.0), ('Bb', 4.0), ('dom7', 4.0), ('|', 4.0), ('.', 4.0), ('Eb', 4.0), ('maj', 4.0), ('|', 4.0), ('.', 2.0), ('A', 2.0), ('m7', 2.0), ('.', 2.0), ('D', 2.0), ('dom7', 2.0), ('|', 2.0), ('.', 4.0), ('G', 4.0), ('maj', 4.0), ('|', 4.0), ('.', 2.0), ('A', 2.0), ('m7', 2.0), ('.', 2.0), ('D', 2.0), ('dom7', 2.0), ('|', 2.0), ('.', 4.0), ('G', 4.0), ('maj', 4.0), ('|', 4.0), ('.', 2.0), ('A', 2.0), ('m7', 2.0), ('.', 2.0), ('D', 2.0), ('dom7', 2.0), ('|', 2.0), ('.', 4.0), ('G', 4.0), ('m7', 4.0), ('|', 4.0), ('.', 4.0), ('C', 4.0), ('dom7', 4.0), ('|', 4.0), ('.', 4.0), ('F', 4.0), ('dom7', 4.0), ('|', 4.0), ('.', 4.0), ('Bb', 4.0), ('dom7', 4.0), ('|', 4.0), ('.', 4.0), ('Eb', 4.0), ('maj', 4.0), ('|', 4.0), ('.', 4.0), ('Eb', 4.0), ('maj', 4.0), ('|', 4.0), ('.', 4.0), ('Gb', 4.0), ('o', 4.0), ('|', 4.0), ('.', 4.0), ('Gb', 4.0), ('o', 4.0), ('|', 4.0), ('.', 4.0), ('F', 4.0), ('m7', 4.0), ('|', 4.0), ('.', 4.0), ('Bb', 4.0), ('dom7', 4.0), ('|', 4.0), ('.', 4.0), ('Eb', 4.0), ('maj', 4.0), ('|', 4.0), ('.', 4.0), ('Eb', 4.0), ('maj', 4.0), ('.', 4.0), ('Eb', 4.0), ('maj', 4.0), ('|', 4.0), ('.', 4.0), ('Eb', 4.0), ('maj', 4.0), ('|', 4.0), ('.', 4.0), ('E', 4.0), ('o', 4.0), ('|', 4.0), ('.', 4.0), ('E', 4.0), ('o', 4.0), ('|', 4.0), ('.', 4.0), ('F', 4.0), ('m7', 4.0), ('|', 4.0), ('.', 4.0), ('Bb', 4.0), ('dom7', 4.0), ('|', 4.0), ('.', 4.0), ('Eb', 4.0), ('maj', 4.0), ('|', 4.0), ('.', 4.0), ('G', 4.0), ('m7', 4.0), ('|', 4.0), ('.', 4.0), ('C', 4.0), ('dom7', 4.0), ('|', 4.0), ('.', 4.0), ('F', 4.0), ('m7', 4.0), ('|', 4.0), ('.', 4.0), ('Bb', 4.0), ('dom7', 4.0), ('|', 4.0), ('.', 4.0), ('Eb', 4.0), ('maj', 4.0), ('|', 4.0), ('.', 4.0), ('Eb', 4.0), ('maj', 4.0)]\n"
     ]
    }
   ],
   "source": [
    "id = 0\n",
    "print(all_meta[id])\n",
    "print(dataset[id])\n"
   ]
  },
  {
   "cell_type": "code",
   "execution_count": 115,
   "metadata": {},
   "outputs": [
    {
     "name": "stdout",
     "output_type": "stream",
     "text": [
      "Max: {'v': 1389, 'id': 141} Min: {'v': 31, 'id': 3331}\n"
     ]
    }
   ],
   "source": [
    "#check the length of the song\n",
    "\n",
    "max = {'v': 0, 'id': 0}\n",
    "min = {'v': 1000, 'id': 0}\n",
    "\n",
    "for i in range(len(dataset)):\n",
    "    if len(dataset[i]) > max['v'] and len(dataset[i]) != 1437:\n",
    "        max['v'] = len(dataset[i])\n",
    "        max['id'] = i\n",
    "    if len(dataset[i]) < min['v']:\n",
    "        min['v'] = len(dataset[i])\n",
    "        min['id'] = i\n",
    "\n",
    "print('Max:', max, 'Min:', min)\n"
   ]
  },
  {
   "cell_type": "code",
   "execution_count": 116,
   "metadata": {},
   "outputs": [
    {
     "data": {
      "text/plain": [
       "<seaborn.axisgrid.FacetGrid at 0x7f8803635000>"
      ]
     },
     "execution_count": 116,
     "metadata": {},
     "output_type": "execute_result"
    },
    {
     "data": {
      "image/png": "[encoded data removed]",
      "text/plain": [
       "<Figure size 500x500 with 1 Axes>"
      ]
     },
     "metadata": {},
     "output_type": "display_data"
    }
   ],
   "source": [
    "import seaborn as sns\n",
    "\n",
    "#visualize the length of the songs\n",
    "\n",
    "length = []\n",
    "for song in dataset:\n",
    "    length.append(len(song))\n",
    "    \n",
    "sns.displot(length, kde=False, bins=100)"
   ]
  },
  {
   "cell_type": "code",
   "execution_count": 141,
   "metadata": {},
   "outputs": [
    {
     "name": "stdout",
     "output_type": "stream",
     "text": [
      "[('<style>', 0.0), ('Medium Swing', 0.0), ('|', 0.0), ('.', 4.0), ('Eb', 4.0), ('major', 4.0), ('|', 4.0), ('.', 4.0), ('Eb', 4.0), ('major', 4.0), ('|', 4.0), ('.', 4.0), ('E', 4.0), ('diminished', 4.0), ('|', 4.0), ('.', 4.0), ('E', 4.0), ('diminished', 4.0), ('|', 4.0), ('.', 4.0), ('F', 4.0), ('minor-seventh', 4.0), ('|', 4.0), ('.', 4.0), ('Bb', 4.0), ('dominant', 4.0), ('|', 4.0), ('.', 4.0), ('Eb', 4.0), ('major', 4.0), ('|', 4.0), ('.', 4.0), ('Eb', 4.0), ('major', 4.0), ('.', 4.0), ('Eb', 4.0), ('major', 4.0), ('|', 4.0), ('.', 4.0), ('Eb', 4.0), ('major', 4.0), ('|', 4.0), ('.', 4.0), ('E', 4.0), ('diminished', 4.0), ('|', 4.0), ('.', 4.0), ('E', 4.0), ('diminished', 4.0), ('|', 4.0), ('.', 4.0), ('F', 4.0), ('minor-seventh', 4.0), ('|', 4.0), ('.', 4.0), ('Bb', 4.0), ('dominant', 4.0), ('|', 4.0), ('.', 4.0), ('Eb', 4.0), ('major', 4.0), ('|', 4.0), ('.', 2.0), ('A', 2.0), ('minor-seventh', 2.0), ('.', 2.0), ('D', 2.0), ('dominant', 2.0), ('|', 2.0), ('.', 4.0), ('G', 4.0), ('major', 4.0), ('|', 4.0), ('.', 2.0), ('A', 2.0), ('minor-seventh', 2.0), ('.', 2.0), ('D', 2.0), ('dominant', 2.0), ('|', 2.0), ('.', 4.0), ('G', 4.0), ('major', 4.0), ('|', 4.0), ('.', 2.0), ('A', 2.0), ('minor-seventh', 2.0), ('.', 2.0), ('D', 2.0), ('dominant', 2.0), ('|', 2.0), ('.', 4.0), ('G', 4.0), ('minor-seventh', 4.0), ('|', 4.0), ('.', 4.0), ('C', 4.0), ('dominant', 4.0), ('|', 4.0), ('.', 4.0), ('F', 4.0), ('dominant', 4.0), ('|', 4.0), ('.', 4.0), ('Bb', 4.0), ('dominant', 4.0), ('|', 4.0), ('.', 4.0), ('Eb', 4.0), ('major', 4.0), ('|', 4.0), ('.', 4.0), ('Eb', 4.0), ('major', 4.0), ('|', 4.0), ('.', 4.0), ('Gb', 4.0), ('diminished', 4.0), ('|', 4.0), ('.', 4.0), ('Gb', 4.0), ('diminished', 4.0), ('|', 4.0), ('.', 4.0), ('F', 4.0), ('minor-seventh', 4.0), ('|', 4.0), ('.', 4.0), ('Bb', 4.0), ('dominant', 4.0), ('|', 4.0), ('.', 4.0), ('Eb', 4.0), ('major', 4.0), ('|', 4.0), ('.', 4.0), ('Eb', 4.0), ('major', 4.0), ('.', 4.0), ('Eb', 4.0), ('major', 4.0), ('|', 4.0), ('.', 4.0), ('Eb', 4.0), ('major', 4.0), ('|', 4.0), ('.', 4.0), ('E', 4.0), ('diminished', 4.0), ('|', 4.0), ('.', 4.0), ('E', 4.0), ('diminished', 4.0), ('|', 4.0), ('.', 4.0), ('F', 4.0), ('minor-seventh', 4.0), ('|', 4.0), ('.', 4.0), ('Bb', 4.0), ('dominant', 4.0), ('|', 4.0), ('.', 4.0), ('Eb', 4.0), ('major', 4.0), ('|', 4.0), ('.', 4.0), ('G', 4.0), ('minor-seventh', 4.0), ('|', 4.0), ('.', 4.0), ('C', 4.0), ('dominant', 4.0), ('|', 4.0), ('.', 4.0), ('F', 4.0), ('minor-seventh', 4.0), ('|', 4.0), ('.', 4.0), ('Bb', 4.0), ('dominant', 4.0), ('|', 4.0), ('.', 4.0), ('Eb', 4.0), ('major', 4.0), ('|', 4.0), ('.', 4.0), ('Eb', 4.0), ('major', 4.0)]\n"
     ]
    }
   ],
   "source": [
    "print(dataset[0])"
   ]
  },
  {
   "cell_type": "code",
   "execution_count": 165,
   "metadata": {},
   "outputs": [
    {
     "name": "stdout",
     "output_type": "stream",
     "text": [
      "[('<style>', 0.0), ('Medium Swing', 0.0), ('|', 0.0), ('.', 4.0), ('Eb', 4.0), ('maj', 4.0), ('|', 4.0), ('.', 4.0), ('Eb', 4.0), ('maj', 4.0), ('|', 4.0), ('.', 4.0), ('E', 4.0), ('o', 4.0), ('|', 4.0), ('.', 4.0), ('E', 4.0), ('o', 4.0), ('|', 4.0), ('.', 4.0), ('F', 4.0), ('m7', 4.0), ('|', 4.0), ('.', 4.0), ('Bb', 4.0), ('dom7', 4.0), ('|', 4.0), ('.', 4.0), ('Eb', 4.0), ('maj', 4.0), ('|', 4.0), ('.', 4.0), ('Eb', 4.0), ('maj', 4.0), ('.', 4.0), ('Eb', 4.0), ('maj', 4.0), ('|', 4.0), ('.', 4.0), ('Eb', 4.0), ('maj', 4.0), ('|', 4.0), ('.', 4.0), ('E', 4.0), ('o', 4.0), ('|', 4.0), ('.', 4.0), ('E', 4.0), ('o', 4.0), ('|', 4.0), ('.', 4.0), ('F', 4.0), ('m7', 4.0), ('|', 4.0), ('.', 4.0), ('Bb', 4.0), ('dom7', 4.0), ('|', 4.0), ('.', 4.0), ('Eb', 4.0), ('maj', 4.0), ('|', 4.0), ('.', 2.0), ('A', 2.0), ('m7', 2.0), ('.', 2.0), ('D', 2.0), ('dom7', 2.0), ('|', 2.0), ('.', 4.0), ('G', 4.0), ('maj', 4.0), ('|', 4.0), ('.', 2.0), ('A', 2.0), ('m7', 2.0), ('.', 2.0), ('D', 2.0), ('dom7', 2.0), ('|', 2.0), ('.', 4.0), ('G', 4.0), ('maj', 4.0), ('|', 4.0), ('.', 2.0), ('A', 2.0), ('m7', 2.0), ('.', 2.0), ('D', 2.0), ('dom7', 2.0), ('|', 2.0), ('.', 4.0), ('G', 4.0), ('m7', 4.0), ('|', 4.0), ('.', 4.0), ('C', 4.0), ('dom7', 4.0), ('|', 4.0), ('.', 4.0), ('F', 4.0), ('dom7', 4.0), ('|', 4.0), ('.', 4.0), ('Bb', 4.0), ('dom7', 4.0), ('|', 4.0), ('.', 4.0), ('Eb', 4.0), ('maj', 4.0), ('|', 4.0), ('.', 4.0), ('Eb', 4.0), ('maj', 4.0), ('|', 4.0), ('.', 4.0), ('Gb', 4.0), ('o', 4.0), ('|', 4.0), ('.', 4.0), ('Gb', 4.0), ('o', 4.0), ('|', 4.0), ('.', 4.0), ('F', 4.0), ('m7', 4.0), ('|', 4.0), ('.', 4.0), ('Bb', 4.0), ('dom7', 4.0), ('|', 4.0), ('.', 4.0), ('Eb', 4.0), ('maj', 4.0), ('|', 4.0), ('.', 4.0), ('Eb', 4.0), ('maj', 4.0), ('.', 4.0), ('Eb', 4.0), ('maj', 4.0), ('|', 4.0), ('.', 4.0), ('Eb', 4.0), ('maj', 4.0), ('|', 4.0), ('.', 4.0), ('E', 4.0), ('o', 4.0), ('|', 4.0), ('.', 4.0), ('E', 4.0), ('o', 4.0), ('|', 4.0), ('.', 4.0), ('F', 4.0), ('m7', 4.0), ('|', 4.0), ('.', 4.0), ('Bb', 4.0), ('dom7', 4.0), ('|', 4.0), ('.', 4.0), ('Eb', 4.0), ('maj', 4.0), ('|', 4.0), ('.', 4.0), ('G', 4.0), ('m7', 4.0), ('|', 4.0), ('.', 4.0), ('C', 4.0), ('dom7', 4.0), ('|', 4.0), ('.', 4.0), ('F', 4.0), ('m7', 4.0), ('|', 4.0), ('.', 4.0), ('Bb', 4.0), ('dom7', 4.0), ('|', 4.0), ('.', 4.0), ('Eb', 4.0), ('maj', 4.0), ('|', 4.0), ('.', 4.0), ('Eb', 4.0), ('maj', 4.0)]\n"
     ]
    },
    {
     "name": "stderr",
     "output_type": "stream",
     "text": [
      "100%|██████████| 10/10 [00:00<00:00, 3358.40it/s]"
     ]
    },
    {
     "name": "stdout",
     "output_type": "stream",
     "text": [
      "10\n"
     ]
    },
    {
     "name": "stderr",
     "output_type": "stream",
     "text": [
      "\n"
     ]
    }
   ],
   "source": [
    "import voicing as vc\n",
    "\n",
    "#check the voicing conversion of all chords\n",
    "myTracks = dataset[0:10]\n",
    "voicing = vc.Voicing()\n",
    "midi_voicing = []\n",
    "print(myTracks[0])\n",
    "\n",
    "i = 0\n",
    "for item in tqdm(myTracks):\n",
    "    mv, status = voicing.convert_chords_to_voicing(item)\n",
    "    midi_voicing.append(mv)\n",
    "    if status == False:\n",
    "        print(i, '\\n', all_meta[i], '\\n', item)\n",
    "        break\n",
    "    i += 1\n",
    "print(len(midi_voicing))"
   ]
  },
  {
   "cell_type": "code",
   "execution_count": 164,
   "metadata": {},
   "outputs": [
    {
     "name": "stdout",
     "output_type": "stream",
     "text": [
      "[([51, 58, 67, 70], 4.0), ([51, 58, 67, 70], 4.0), ([52, 58, 64, 67], 4.0), ([52, 58, 64, 67], 4.0), ([53, 60, 63, 68], 4.0), ([46, 56, 62, 65], 4.0), ([51, 58, 67, 70], 4.0), ([51, 58, 67, 70], 4.0), ([51, 58, 63, 67], 4.0), ([51, 58, 63, 67], 4.0), ([52, 55, 58, 64], 4.0), ([52, 55, 58, 64], 4.0), ([53, 63, 68, 72], 4.0), ([46, 53, 56, 62, 65], 4.0), ([51, 58, 63, 67], 4.0), ([45, 55, 60, 64], 2.0), ([50, 60, 64, 66, 69], 2.0), ([43, 50, 59, 62], 4.0), ([45, 55, 59, 60], 2.0), ([50, 60, 64, 66], 2.0), ([43, 47, 50, 55], 4.0), ([45, 55, 59, 60], 2.0), ([50, 60, 66, 69], 2.0), ([43, 50, 53, 58], 4.0), ([48, 58, 64, 67], 4.0), ([53, 63, 69, 72], 4.0), ([46, 56, 62, 65], 4.0), ([51, 58, 67, 70], 4.0), ([51, 58, 67, 70], 4.0), ([42, 48, 54, 57], 4.0), ([42, 48, 54, 57], 4.0), ([53, 60, 63, 68], 4.0), ([46, 56, 62, 65], 4.0), ([51, 58, 67, 70], 4.0), ([51, 58, 67, 70], 4.0), ([51, 58, 63, 67], 4.0), ([51, 58, 63, 67], 4.0), ([52, 55, 58, 64], 4.0), ([52, 55, 58, 64], 4.0), ([53, 63, 68, 72], 4.0), ([46, 53, 56, 62, 65], 4.0), ([51, 58, 63, 67], 4.0), ([43, 53, 58, 62], 4.0), ([48, 55, 58, 64, 67], 4.0), ([53, 63, 68, 72], 4.0), ([46, 53, 56, 62, 65], 4.0), ([51, 58, 63, 67], 4.0), ([51, 58, 63, 67], 4.0)]\n"
     ]
    }
   ],
   "source": [
    "print(midi_voicing[0])"
   ]
  },
  {
   "cell_type": "code",
   "execution_count": 166,
   "metadata": {},
   "outputs": [
    {
     "name": "stdout",
     "output_type": "stream",
     "text": [
      "../data/midi_files/'S Wonderful.mid \n",
      "MIDI file created!\n",
      "../data/midi_files/'Tain't No Sin To Take Off Your Skin.mid \n",
      "MIDI file created!\n",
      "../data/midi_files/'Tain't What You Do (It's The Way That Cha Do It).mid \n",
      "MIDI file created!\n",
      "../data/midi_files/101 Eastbound.mid \n",
      "MIDI file created!\n",
      "../data/midi_files/11 y 6 (Euforia).mid \n",
      "MIDI file created!\n",
      "../data/midi_files/1612.mid \n",
      "MIDI file created!\n",
      "../data/midi_files/26-2.mid \n",
      "MIDI file created!\n",
      "../data/midi_files/500 Miles High.mid \n",
      "MIDI file created!\n",
      "../data/midi_files/502 Blues.mid \n",
      "MIDI file created!\n",
      "../data/midi_files/52nd Street Theme.mid \n",
      "MIDI file created!\n"
     ]
    }
   ],
   "source": [
    "voicing = vc.Voicing()\n",
    "sub_midi = midi_voicing[0:10]\n",
    "\n",
    "sub_names = []\n",
    "path = \"../data/midi_files/\"\n",
    "\n",
    "for names in all_meta[0:10]:\n",
    "    sub_names.append(names['song_name'])\n",
    "\n",
    "for i in range(len(sub_midi)):\n",
    "    voicing.export_to_midi(sub_midi[i], path, sub_names[i])\n"
   ]
  },
  {
   "cell_type": "code",
   "execution_count": 237,
   "metadata": {},
   "outputs": [
    {
     "name": "stdout",
     "output_type": "stream",
     "text": [
      "{'composer': 'Sy Oliver, Trummy Young (1939)', 'style': 'Medium Swing', 'song_name': \"'Tain't What You Do (It's The Way That Cha Do It)\", 'tonality': 'Bb major', 'midi_key': 22, 'time_signature': '4/4', 'decade': 'Null'}\n",
      "['<style>', 'Medium Swing', '|', '.', 'Bb', 'maj', '.', 'Bb', 'dom7', '|', '.', 'Eb', 'maj', '.', 'Gb', 'dom7', '|', '.', 'Bb', 'maj', '.', 'B', 'o', '|', '.', 'C', 'm7', '.', 'F', 'dom7', '|', '.', 'Bb', 'maj', '.', 'Bb', 'dom7', '|', '.', 'Eb', 'maj', '.', 'Eb', 'm', '|', '.', 'Bb', 'maj', '|', '.', 'F', 'dom7', '.', 'Bb', 'maj', '|', '.', 'Bb', 'maj', '.', 'Bb', 'dom7', '|', '.', 'Eb', 'maj', '.', 'F', 'dom7', '|', '.', 'Bb', 'maj', '.', 'Bb', 'dom7', '|', '.', 'Eb', 'maj', '.', 'F', 'dom7', '|', '.', 'Bb', 'maj', '.', 'Bb', 'dom7', '|', '.', 'Eb', 'maj', '.', 'Eb', 'm', '|', '.', 'F', 'dom7', '|', '.', 'Bb', 'maj', '.', 'Bb', 'maj', '.', 'Bb', 'dom7', '|', '.', 'Eb', 'maj', '.', 'F', 'dom7', '|', '.', 'Bb', 'maj', '.', 'Bb', 'dom7', '|', '.', 'Eb', 'maj', '.', 'F', 'dom7', '|', '.', 'Bb', 'maj', '.', 'Bb', 'dom7', '|', '.', 'Eb', 'maj', '.', 'Eb', 'm', '|', '.', 'F', 'dom7', '|', '.', 'Bb', 'maj', '.', 'Bb', 'dom7', '|', 'Form_B', '.', 'Eb', 'maj', '|', '.', 'F', 'dom7', '|', '.', 'Bb', 'maj', '|', '.', 'Bb', 'dom7', '|', '.', 'Eb', 'maj', '|', '.', 'E', 'o', '|', '.', 'Bb', 'maj', '.', 'B', 'o', '|', '.', 'C', 'm7', '.', 'F', 'dom7', '|', 'Form_A', '.', 'Bb', 'maj', '.', 'Bb', 'dom7', '|', '.', 'Eb', 'maj', '.', 'F', 'dom7', '|', '.', 'Bb', 'maj', '.', 'Bb', 'dom7', '|', '.', 'Eb', 'maj', '.', 'F', 'dom7', '|', '.', 'Bb', 'maj', '.', 'Bb', 'dom7', '|', '.', 'Eb', 'maj', '.', 'Eb', 'm', '|', '.', 'F', 'dom7', '|', '.', 'Bb', 'maj']\n",
      "['<style>' 'Medium Swing' '|' '.' 'Bb' 'major' '.' 'Bb' 'dominant' '|' '.'\n",
      " 'Eb' 'major' '.' 'Gb' 'dominant' '|' '.' 'Bb' 'major' '.' 'B'\n",
      " 'diminished' '|' '.' 'C' 'minor-seventh' '.' 'F' 'dominant' '|' '.' 'Bb'\n",
      " 'major' '.' 'Bb' 'dominant' '|' '.' 'Eb' 'major' '.' 'Eb' 'minor' '|' '.'\n",
      " 'Bb' 'major' '|' '.' 'F' 'dominant' '.' 'Bb' 'major' '|:' '.' 'Bb'\n",
      " 'major' '.' 'Bb' 'dominant' '|' '.' 'Eb' 'major' '.' 'F' 'dominant' '|'\n",
      " '.' 'Bb' 'major' '.' 'Bb' 'dominant' '|' '.' 'Eb' 'major' '.' 'F'\n",
      " 'dominant' '|' '.' 'Bb' 'major' '.' 'Bb' 'dominant' '|' '.' 'Eb' 'major'\n",
      " '.' 'Eb' 'minor' '|' '.' 'F' 'dominant' '|' 'Repeat_1' '.' 'Bb' 'major'\n",
      " ':|' '|' 'Repeat_2' '.' 'Bb' 'major' '.' 'Bb' 'dominant' '|' 'Form_B' '.'\n",
      " 'Eb' 'major' '|' '.' 'F' 'dominant' '|' '.' 'Bb' 'major' '|' '.' 'Bb'\n",
      " 'dominant' '|' '.' 'Eb' 'major' '|' '.' 'E' 'diminished' '|' '.' 'Bb'\n",
      " 'major' '.' 'B' 'diminished' '|' '.' 'C' 'minor-seventh' '.' 'F'\n",
      " 'dominant' '|' 'Form_A' '.' 'Bb' 'major' '.' 'Bb' 'dominant' '|' '.' 'Eb'\n",
      " 'major' '.' 'F' 'dominant' '|' '.' 'Bb' 'major' '.' 'Bb' 'dominant' '|'\n",
      " '.' 'Eb' 'major' '.' 'F' 'dominant' '|' '.' 'Bb' 'major' '.' 'Bb'\n",
      " 'dominant' '|' '.' 'Eb' 'major' '.' 'Eb' 'minor' '|' '.' 'F' 'dominant'\n",
      " '|' '.' 'Bb' 'major']\n"
     ]
    }
   ],
   "source": [
    "id = 2\n",
    "print(all_meta[id])\n",
    "print(dataset_duplicates[id])\n",
    "print(theChordDataset[id])"
   ]
  }
 ],
 "metadata": {
  "kernelspec": {
   "display_name": "Python 3",
   "language": "python",
   "name": "python3"
  },
  "language_info": {
   "codemirror_mode": {
    "name": "ipython",
    "version": 3
   },
   "file_extension": ".py",
   "mimetype": "text/x-python",
   "name": "python",
   "nbconvert_exporter": "python",
   "pygments_lexer": "ipython3",
   "version": "3.10.12"
  }
 },
 "nbformat": 4,
 "nbformat_minor": 2
}
