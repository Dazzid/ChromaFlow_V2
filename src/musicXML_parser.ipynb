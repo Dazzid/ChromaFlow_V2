{
 "cells": [
  {
   "cell_type": "code",
   "execution_count": 1,
   "metadata": {},
   "outputs": [
    {
     "name": "stdout",
     "output_type": "stream",
     "text": [
      "[1707995463.452241] [d72355bbe943:2185319:f]        vfs_fuse.c:281  UCX  ERROR inotify_add_watch(/tmp) failed: No space left on device\n"
     ]
    }
   ],
   "source": [
    "import numpy as np\n",
    "import xmlTranslator as xmlT\n",
    "from tqdm import tqdm\n",
    "%reload_ext autoreload\n",
    "%autoreload 2\n",
    "import importlib\n",
    "from utils import get_project_root\n",
    "from ipywidgets import FloatProgress"
   ]
  },
  {
   "cell_type": "markdown",
   "metadata": {},
   "source": [
    "TODO: \n",
    "- Repeat the sequences 3 times\n",
    "- Extend all chords into 18 enharmonic\n",
    "- Complete the voicing as a MIDI array \n",
    "- Split into train and test\n",
    "- Pass the MIDI into Embeddings"
   ]
  },
  {
   "cell_type": "code",
   "execution_count": 104,
   "metadata": {},
   "outputs": [
    {
     "data": {
      "application/vnd.jupyter.widget-view+json": {
       "model_id": "dbb64454030c4d29b5df4affa0500fda",
       "version_major": 2,
       "version_minor": 0
      },
      "text/plain": [
       "  0%|          | 0/4007 [00:00<?, ?it/s]"
      ]
     },
     "metadata": {},
     "output_type": "display_data"
    },
    {
     "name": "stdout",
     "output_type": "stream",
     "text": [
      "(4006,) (4006,)\n",
      "(4006,) (4006,) 4006\n"
     ]
    }
   ],
   "source": [
    "directory = '/data/iRealXML'\n",
    "root = get_project_root()\n",
    "myPath = str(root) + str(directory)\n",
    "\n",
    "theChordDataset, theOffsetDataset, all_meta = xmlT.parse_info_from_XML(myPath)\n",
    "print(theChordDataset.shape, theOffsetDataset.shape, len(all_meta))"
   ]
  },
  {
   "cell_type": "code",
   "execution_count": 105,
   "metadata": {},
   "outputs": [
    {
     "name": "stdout",
     "output_type": "stream",
     "text": [
      "['<style>' 'Ballad' '|:' 'Form_A' '.' 'G' 'm' '|' '.' 'Eb' 'maj7' '/' 'G'\n",
      " '|' '.' 'E' 'm7' 'alter b5' '|' '.' 'C#' 'm7' 'alter b5' '.' 'F#' '7' '|'\n",
      " '.' 'B' 'm7' '.' 'D' 'm7' '|' '.' 'A' '13' 'alter b9' '.' 'Bb' '/' 'A'\n",
      " '|' '.' 'D' 'm7' '|' '.' 'D' '7' 'add b9' '|' '.' 'C' 'm7' '.' 'G' 'm7'\n",
      " '|' '.' 'E' 'm7' 'alter b5 add b9' '.' 'E' '7' 'alter b5 add b9' '|' '.'\n",
      " 'A' 'm' '|' '.' 'A' 'm' 'add #7' '|' '.' 'F' 'maj9' '.' 'C' 'maj7' '|'\n",
      " '.' 'C' 'm7' '|' '.' 'B' '9sus4'\n",
      " 'add 4 subtract 3 add b9 add 4 subtract 3' '.' 'B' '7'\n",
      " 'add 4 subtract 3 add b9 add 4 subtract 3' '|' '.' 'B' 'm7' '.' 'E' '7'\n",
      " 'add b9' '|' 'Form_B' '.' 'F#' 'm7' '|' '.' 'C' '/' 'B' '.' 'F#' '7'\n",
      " 'add b9' '|' '.' 'B' '9sus4' 'add 4 subtract 3 add b9 add 4 subtract 3'\n",
      " '.' 'B' '7' 'add 4 subtract 3 add b9 add 4 subtract 3' '/' 'B' '|' '.'\n",
      " 'B' '7' 'alter #5' '.' 'B' '/' 'A' '|' '.' 'G' 'maj7' 'alter #5' '.' 'E'\n",
      " 'm' '/' 'G' '|' '.' 'F#' 'm7' 'alter b5' '|' '.' 'C' 'maj7' '|' '.' 'B'\n",
      " 'm7' '.' 'E' '7' 'add b9' '|' '.' 'F#' 'm7' 'alter b5' '.' 'F' 'maj7' '|'\n",
      " '.' 'E' '7' '.' 'D' '/' 'F' '.' 'E' '/' 'G' '|' '.' 'C' 'maj7'\n",
      " 'alter #5 add 4 subtract 3' '.' 'F' '9sus4' 'alter #5 add 4 subtract 3'\n",
      " '|' '.' 'B' 'm7' 'alter b5' '/' 'F' '|' '.' 'C' 'maj7' '/' 'E' '.' 'A'\n",
      " '/' 'E' '|' '.' 'A' '/' 'E' '|' '.' 'Bb' '/' 'E' '|' '.' 'B' '/' 'E' '.'\n",
      " 'C' '/' 'D']\n",
      "189\n",
      "['<style>' 'Ballad' '|' 'Form_A' '.' 'G' 'm' '|' '.' 'G' 'm' 'add b6' '|'\n",
      " '.' 'E' 'm7' 'alter b5' '|' '.' 'C#' 'm7' 'alter b5 add b9' '.' 'F#' '7'\n",
      " 'alter b5 add b9' '|' '.' 'B' 'm7' '.' 'D' 'm7' '|' '.' 'A' '13'\n",
      " 'alter b9' '.' 'G' 'm' '|' '.' 'D' 'm7' '|' '.' 'D' '7' 'add b9' '|' '.'\n",
      " 'C' 'm7' '.' 'G' 'm7' '|' '.' 'E' 'm7' 'alter b5 add b9' '.' 'E' '7'\n",
      " 'alter b5 add b9' '|' '.' 'A' 'm' '|' '.' 'E' '7' 'add b9' '|' '.' 'F'\n",
      " 'maj7' '.' 'C' 'maj7' '|' '.' 'C' 'm7' '.' 'G' 'm7' '|' '.' 'F#' 'm7' '|'\n",
      " '.' 'B' 'm7' '.' 'E' '7' 'add b9' '|' 'Form_B' '.' 'F#' 'm7' '|' '.' 'F#'\n",
      " 'm7' 'alter b5 alter b9' '/' 'B' '.' 'F#' '13' 'alter b5 alter b9' '|'\n",
      " '.' 'B' '9sus4' 'add 4 subtract 3 add b9 add 4 subtract 3' '.' 'B' '7'\n",
      " 'add 4 subtract 3 add b9 add 4 subtract 3' '/' 'B' '|' '.' 'B' '7'\n",
      " 'alter #5' '.' 'B' '/' 'A' '|' '.' 'G' 'maj7' 'alter #5' '|' '.' 'F#'\n",
      " 'm7' 'alter b5' '|' '.' 'C' 'maj7' '|' '.' 'B' 'm7' '.' 'E' '7' 'add b9'\n",
      " '|' '.' 'F#' 'm7' 'alter b5' '.' 'F' 'maj7' '|' '.' 'E' '13' 'alter b9'\n",
      " '.' 'D' '/' 'F' '.' 'E' '/' 'G' '|' '.' 'C' 'maj7'\n",
      " 'alter #5 add 4 subtract 3' '.' 'F' '9sus4' 'alter #5 add 4 subtract 3'\n",
      " '|' '.' 'F' '9sus4' 'add 4 subtract 3 add #11' '.' 'F' 'maj7'\n",
      " 'add 4 subtract 3 add #11' '|' '.' 'C' 'maj7' '/' 'E' '.' 'A' '/' 'E' '|'\n",
      " '.' 'A' '/' 'E' '|' '.' 'Bb' '/' 'E' '|' '.' 'B' '/' 'E' '.' 'C' '/' 'D']\n",
      "184\n"
     ]
    }
   ],
   "source": [
    "#find add 4 subtract 3 add 4 subtract 3\n",
    "for song in theChordDataset:\n",
    "    for i, e in enumerate(song):\n",
    "        if 'alter #5 add 4 subtract 3' in e:\n",
    "            print(song)\n",
    "            print(i)\n",
    "            break"
   ]
  },
  {
   "cell_type": "code",
   "execution_count": 106,
   "metadata": {},
   "outputs": [
    {
     "name": "stderr",
     "output_type": "stream",
     "text": [
      " 11%|█         | 433/4006 [00:00<00:00, 4300.88it/s]"
     ]
    },
    {
     "name": "stderr",
     "output_type": "stream",
     "text": [
      "100%|██████████| 4006/4006 [00:00<00:00, 4103.86it/s]\n"
     ]
    }
   ],
   "source": [
    "importlib.reload(xmlT)\n",
    "\n",
    "id = 0\n",
    "expand_form_dataset = []\n",
    "status = True\n",
    "for i in tqdm(range(theChordDataset.shape[0])):\n",
    "    song_structure, status = xmlT.expand_song_structure(theChordDataset[i], i)\n",
    "    if status == False:\n",
    "        print('Song:', all_meta[i])\n",
    "        id = i\n",
    "        break\n",
    "    song_structure = np.array(song_structure)\n",
    "    expand_form_dataset.append(song_structure)\n"
   ]
  },
  {
   "cell_type": "code",
   "execution_count": 107,
   "metadata": {},
   "outputs": [
    {
     "name": "stdout",
     "output_type": "stream",
     "text": [
      "Max: {'v': 1321, 'id': 141} Min: {'v': 30, 'id': 492}\n"
     ]
    }
   ],
   "source": [
    "#check the length of the song\n",
    "\n",
    "max = {'v': 0, 'id': 0}\n",
    "min = {'v': 1000, 'id': 0}\n",
    "\n",
    "for i in range(len(expand_form_dataset)):\n",
    "    if len(expand_form_dataset[i]) > max['v']:\n",
    "        max['v'] = len(expand_form_dataset[i])\n",
    "        max['id'] = i\n",
    "    if len(expand_form_dataset[i]) < min['v']:\n",
    "        min['v'] = len(expand_form_dataset[i])\n",
    "        min['id'] = i\n",
    "\n",
    "print('Max:', max, 'Min:', min)\n"
   ]
  },
  {
   "cell_type": "code",
   "execution_count": 108,
   "metadata": {},
   "outputs": [
    {
     "data": {
      "application/vnd.jupyter.widget-view+json": {
       "model_id": "d1422f1918d04094a9e70a02b94ec101",
       "version_major": 2,
       "version_minor": 0
      },
      "text/plain": [
       "  0%|          | 0/4006 [00:00<?, ?it/s]"
      ]
     },
     "metadata": {},
     "output_type": "display_data"
    }
   ],
   "source": [
    "importlib.reload(xmlT)\n",
    "\n",
    "#correct the wrong chords\n",
    "corrected_sequence = xmlT.repleaceTheseChords(expand_form_dataset, False)"
   ]
  },
  {
   "cell_type": "code",
   "execution_count": 109,
   "metadata": {},
   "outputs": [
    {
     "name": "stdout",
     "output_type": "stream",
     "text": [
      "288\n",
      "{'sus7', 'aug', 'alter b5', 'alter #11 add b9', '128 Feel', 'add #11 add b9 alter #5', 'Samba Reggae', 'Up Samba', 'add #9 add b9 alter b5', 'Medium Shuffle', 'add b9 add #11', 'o7 alter #7', 'aug7', 'add #7 add #11', 'add b13 add b9', 'alter #5 add 7', 'Samba Funk', 'dom7 add 9', 'UP Swing', 'Waltz', 'Rock Ballad', 'Gypsy Waltz', 'Blues Rock', 'Form_B', 'add 7 add b13', 'Funk', 'add b13 alter b5', 'G#', 'Form_Segno', 'm', 'Son', 'Ballad', 'Cb', 'Repeat_2', 'Worship', 'Bb', 'add 9 alter #5', 'Rock-Folk', 'Folk-Rock', 'Samba Enredo', 'add b6 add #9', 'alter #5', 'alter #11', 'sus7 add #11', 'Db', 'add 2 add #9', 'alter #5 add #11', 'C#', 'add #7 add b9', 'm6', 'Afoxé', 'Slow Shuffle', 'm add 6 add 9', 'add #9 alter #5', 'alter b5 add #11', 'Medium Swing', 'Reggae Pop', 'add b9 alter b5', '/', 'sus4', \"Even 8th's\", 'add #7 add 9', 'Form_C', 'Merengue', 'Up Tempo Swing', 'add #11 add b9', 'add #11 alter b5 add #9', 'Up Tempo', 'add 7 add 9', 'add #9 add b13', 'add 7 alter #5', 'Gypsy Bossa', 'Chacarera', 'Gary Aprile', 'maj add 6 add 9', 'Rock Blues', 'add 9 add 7', 'Jazz', 'Frevo', 'add 9 alter b5', 'G', 'add #7 alter #5', 'Bright Shuffle Blues', 'alter b5 add #9', 'Slow Rock', 'Mambo', 'Gb', 'maj7 add 13', 'Up Swing', 'sus7 add b9', 'Rock/Hip Hop', 'alter b9', 'add 9 add b6', 'Moderate Latin', 'Rock Pop', 'Medium Slow', 'Bolero-Cha', '.', 'add 7 alter b9', 'add #11 alter b5', 'Disco Funk', 'Bolero', 'Foxtrot', 'Folk Rock', 'maj7', 'Pop-Shuffle', 'A', 'Slowly', 'add #9 alter b5', 'Pop Ballad', 'add 7 add b9', 'Eb', 'Fusion', 'Cha Cha', 'March', 'Fast Blues', 'Cuban Son', 'alter b5 alter b9', 'Up Waltz (One Feel)', \"Even 8's\", 'dom7', 'Samba-Funk', 'Latin', 'Repeat_3', 'Reggae', 'Form_verse', '<style>', 'Rock Waltz', 'C', 'add #5 add b9', '-N3', 'B', 'Blues Pop', 'add #7', 'Pop', 'Samba-Rock', 'add b13', 'm add b5', 'Forró', 'Deliberately', 'Choro - Samba', 'add #11 add #9', 'Medium Waltz', 'alter b5 add b13', 'Funk Rock', 'alter #5 add b13', 'sus2', 'dom7 add b5', 'add #11', 'Marchinha', 'Repeat_0', 'alter b5 add #9 add b9', ':|', 'add #9', 'Slow Bossa', 'add #11 add b13', 'add b9 alter #5', 'E', 'Slow Swing', 'RnB', 'add b9 add b13', 'Traditional Gospel', 'add b13 add 7', 'Medium Up', 'Musical', 'Ab', 'sus7 add 9', 'Medium Country', 'Pop Shuffle', 'Calypso', 'Latin-Swing', 'm7 add b9', 'Disco', 'add 2', 'Afro', 'Afro-Samba', 'Folk Ballad', 'Pop Folk', 'm7 add 9', 'o', 'alter b5 add 7', 'Repeat_1', 'Blues', 'add 9 add b13', 'sus7 add 13', 'Slow Blues', 'add #7 alter b5', 'maj add 6', 'Soul', 'Electro Pop', 'Tango', 'alter b9 add b13', 'Afoxé-Samba', 'alter b5 add b9 alter #5', \"Rock'n'Roll\", 'Pop Rock', 'maj', 'Funk Jazz', 'sus4 add b9', 'dom7 add 13', 'Rock Slow', '7 add b9', 'Gospel Ballad', 'alter b5 add b13 add b9', 'Electric Blues', 'D', 'm7', 'm_maj7', 'm add 11', 'F#', 'Maxixe', 'alter b5 add #11 add b9', 'Bossa Acoustic', 'Dreamlike', 'Soul Ballad', 'Medium Up Swing', 'Power Ballad', \"R'n'B\", 'Form_D', 'add 7 add #11', 'alter #5 add #9', 'power', 'alter #5 add b9', 'Baião', 'Moderately', 'Medium Pop', 'A#', 'maj7 add 9', 'Rock/Reggae', 'sus4 add #11', 'Pop jazz', 'F', 'Bossa Nova', 'Even 16ths', 'add b6', 'alter b5 add 9', 'Rock', '|', 'Afoxe', 'Medium Blues', 'Medium Ballad', 'Medium Funk', 'Slow Ballad', 'ø7 add 11', 'Shuffle', 'Country Ballad', 'add #9 alter b5 add b9', 'Form_A', 'Samba', 'Medium Rock', 'Bolero-Son', 'add 7 add #9', 'alter b5 add b9', 'm7 add9', 'Even 8ths', 'add b13 add #11', 'alter b9 alter #5', 'add #11 add 9', 'Hymn', 'alter #9', 'ø7', 'add #9 add #11', 'add 9 add #11', 'Gypsy Swing', 'Montuno', 'Beatles', 'add #11 add #9 alter #5', 'N.C.', 'add b9', 'alter b5 add #9 alter #5', 'dom7 add 77', 'D#', 'add #11 add 7', 'add #11 alter #5', 'Folk', 'Fast Swing', 'Country Blues', 'add b6 alter b5', 'Shuffle Blues', 'Form_Coda', 'add b13 add #9', 'Choro', 'Med Up Latin', 'Blues Shuffle', 'add 9', 'Salsa', 'Form_intro', 'add 7'}\n"
     ]
    }
   ],
   "source": [
    "#Repeat the sequences 3 times\n",
    "concatenated_array = []\n",
    "\n",
    "concatenated_array = np.hstack(corrected_sequence) \n",
    "\n",
    "vocab = set(concatenated_array)\n",
    "\n",
    "print(len(vocab))\n",
    "print(vocab)"
   ]
  },
  {
   "cell_type": "code",
   "execution_count": 110,
   "metadata": {},
   "outputs": [
    {
     "name": "stdout",
     "output_type": "stream",
     "text": [
      "['<style>', 'Funk', '|', 'Form_intro', '.', 'Eb', 'maj7', '/', 'F', '|', '.', 'Bb', 'maj7', '/', 'F', '|', '.', 'C', 'm7', '/', 'F', '|', '.', 'Bb', 'maj7', '/', 'F', 'Form_intro', '.', 'Eb', 'maj7', '/', 'F', '|', '.', 'Bb', 'maj7', '/', 'F', '|', '.', 'C', 'm7', '/', 'F', '|', '.', 'D', 'm7', '.', 'G', 'dom7 add 9', '|', 'Form_A', '.', 'C', 'm7 add 9', '|', '.', 'F', 'sus7 add 9', '.', 'Eb', 'sus7 add 9', '|', '.', 'Bb', 'maj7', '/', 'D', '|', '.', 'G', 'sus7 add 9', '.', 'G', 'dom7 add 9', '|', '.', 'C', 'm7 add 9', '|', '.', 'F', 'sus7 add 9', '.', 'F', 'dom7 add 9', '|', '.', 'Db', 'maj', '/', 'C', '|', '.', 'Bb', 'sus7', 'add 7', '.', 'Bb', 'm', '.', 'Bb', 'dom7', '|', '.', 'Eb', 'm7 add 9', '|', '.', 'Ab', 'sus7 add 9', '.', 'Ab', 'm7 add 9', '|', '.', 'Db', 'maj7', '/', 'A', '|', '.', 'G', 'sus7 add 9', '.', 'G', 'dom7 add 9', '|', '.', 'C', 'sus7 add 9', '.', 'C', 'dom7 add 9', '|', '.', 'F', 'sus7 add 9', '.', 'F', 'dom7', '|', '.', 'Bb', 'maj7', '|', '.', 'G', 'sus7 add 9', '.', 'G', 'dom7 add 9', 'Form_A', '.', 'C', 'm7 add 9', '|', '.', 'F', 'sus7 add 9', '.', 'Eb', 'sus7 add 9', '|', '.', 'Bb', 'maj7', '/', 'D', '|', '.', 'G', 'sus7 add 9', '.', 'G', 'dom7 add 9', '|', '.', 'C', 'm7 add 9', '|', '.', 'F', 'sus7 add 9', '.', 'F', 'dom7 add 9', '|', '.', 'Db', 'maj', '/', 'C', '|', '.', 'Bb', 'sus7', 'add 7', '.', 'Bb', 'm', '.', 'Bb', 'dom7', '|', '.', 'Eb', 'm7 add 9', '|', '.', 'Ab', 'sus7 add 9', '.', 'Ab', 'm7 add 9', '|', '.', 'Db', 'maj7', '/', 'A', '|', '.', 'G', 'sus7 add 9', '.', 'G', 'dom7 add 9', '|', '.', 'C', 'sus7 add 9', '.', 'C', 'dom7 add 9', '|', '.', 'F', 'sus7 add 9', '.', 'F', 'dom7', '|', '.', 'Bb', 'maj7', '|', '.', 'A', 'm7', 'alter b5 add b9 alter #5', '.', 'D', 'dom7', 'alter b5 add b9 alter #5', '|', 'Form_Segno', '.', 'G', 'm7 add 9', '.', 'G', 'm7', '/', 'F', '|', '.', 'E', 'm7', 'alter b5 add #9 alter #5', '.', 'A', 'dom7', 'alter b5 add #9 alter #5', '|', '.', 'D', 'maj7', '|', '.', 'C#', 'm7', 'alter b5 add b9 alter #5', '.', 'F#', 'dom7', 'alter b5 add b9 alter #5', '|', '.', 'B', 'm', 'add #7', '.', 'B', 'm7', '|', '.', 'E', 'sus7 add 13', 'sus7 add #11', '.', 'E', 'dom7 add 13', 'sus7 add #11', '|', 'Form_C', '.', 'A', 'sus7 add 13', '|', '.', 'A', 'm7 add 9', '|', '.', 'D', 'maj7', '/', 'A', '|', '.', 'B', 'sus7 add 9', '.', 'B', 'dom7 add 9', '|', '.', 'E', 'sus7 add 9', '.', 'E', 'dom7 add 9', '|', 'Form_Coda', '.', 'A', 'sus7 add 9', '.', 'A', 'm add 11', '|', '.', 'D', 'maj7', '/', 'A', '|', '.', 'A', 'm add 11', '|', '.', 'D', 'maj7', '/', 'A', '|', '.', 'A', 'm add 11', '|', '.', 'F', 'sus7 add 13', '|', '.', 'F', 'm add 11', '|', '.', 'Ab', 'sus7 add 13', '|', '.', 'Ab', 'm add 11', '|', '.', 'G', 'm7', '.', 'C', 'dom7', '|', '.', 'F', 'sus7 add 9', '.', 'F', 'dom7 add 13', '|', '.', 'Bb', 'maj7', '|', '.', 'A', 'm7', 'alter b5 add b9 alter #5', '.', 'D', 'dom7', 'alter b5 add b9 alter #5', '|', 'Form_Coda', '.', 'D', 'maj7', '/', 'A', '|', '.', 'A', 'sus7 add 9', '|', '.', 'D', 'maj7', '/', 'A', '|', '.', 'A', 'm add 11', 'Form_Coda', '.', 'D', 'maj7', '/', 'A', '|', '.', 'A', 'sus7 add 9', '|', '.', 'D', 'maj7', '/', 'A', '|', '.', 'A', 'm add 11', '|']\n"
     ]
    }
   ],
   "source": [
    "#Add the maj token to the chords\n",
    "import voicing as vc\n",
    "voicing = vc.Voicing()\n",
    "#add the maj token to the chords\n",
    "chord_progression = None\n",
    "chord_progression = voicing.add_maj_token(corrected_sequence)\n",
    "\n",
    "print(chord_progression[3751])\n"
   ]
  },
  {
   "cell_type": "code",
   "execution_count": 111,
   "metadata": {},
   "outputs": [
    {
     "name": "stderr",
     "output_type": "stream",
     "text": [
      " 52%|█████▏    | 2082/4006 [00:00<00:00, 10197.71it/s]"
     ]
    },
    {
     "name": "stderr",
     "output_type": "stream",
     "text": [
      "100%|██████████| 4006/4006 [00:00<00:00, 9973.73it/s] \n"
     ]
    }
   ],
   "source": [
    "#fix the format of extensions to avoid repeated elements\n",
    "natures = {'maj', 'm', 'm6', 'm7', 'dom_7', 'maj7', 'o7', 'o', 'sus', 'sus2', 'sus7', 'ø7', 'power', 'm_maj7'}\n",
    "id = 3751\n",
    "\n",
    "for song in tqdm(chord_progression):\n",
    "    for i, element in enumerate(song):\n",
    "        if 'add' in element or 'alter' in element:\n",
    "            #print(element)\n",
    "            split = element.split(' ')\n",
    "            size = len(split)\n",
    "            if size > 2:\n",
    "                if size%2 == 1:\n",
    "                    #print('odd', split)\n",
    "                    nature = split[0]\n",
    "                    song[i] = nature\n",
    "                    counter = 1 \n",
    "                    for n in range(1, size-1, 2):\n",
    "                        ext = split[n] + ' ' + split[n+1]\n",
    "                        song.insert(i+counter, ext)\n",
    "                        counter += 1\n",
    "    #need to do it separately to avoid the index out of range           \n",
    "    for i, element in enumerate(song):\n",
    "        if 'add' in element or 'alter' in element:\n",
    "            #print(element)\n",
    "            split = element.split(' ')\n",
    "            size = len(split)\n",
    "            if size > 2:   \n",
    "                if size%2 == 0:\n",
    "                    #delete the element\n",
    "                    song.pop(i)\n",
    "                    counter = 0\n",
    "                    for n in range(0, size-1, 2):\n",
    "                        ext = split[n] + ' ' + split[n+1]\n",
    "                        song.insert(i+counter, ext)\n",
    "                        counter += 1\n"
   ]
  },
  {
   "cell_type": "code",
   "execution_count": 58,
   "metadata": {},
   "outputs": [
    {
     "name": "stdout",
     "output_type": "stream",
     "text": [
      "{'composer': 'George Gershwin, Ira Gershwin (1927)', 'style': 'Medium Swing', 'song_name': \"'S Wonderful\", 'tonality': 'Eb major', 'midi_key': 15, 'time_signature': '4/4', 'decade': 'Null'}\n"
     ]
    }
   ],
   "source": [
    "#find \n",
    "id = 0\n",
    "find = \"\"\n",
    "\n",
    "for i in range(len(chord_progression)):\n",
    "    if find in chord_progression[i]:\n",
    "        print(i)\n",
    "        print(chord_progression[i])\n",
    "        id = i\n",
    "        #break\n",
    "    \n",
    "print(all_meta[id])\n"
   ]
  },
  {
   "cell_type": "code",
   "execution_count": 112,
   "metadata": {},
   "outputs": [
    {
     "name": "stderr",
     "output_type": "stream",
     "text": [
      "1530it [00:00, 7545.72it/s]"
     ]
    },
    {
     "name": "stderr",
     "output_type": "stream",
     "text": [
      "4006it [00:00, 7231.37it/s]\n"
     ]
    }
   ],
   "source": [
    "#find duplicated 'add' or 'alter' elements and remove them\n",
    "\n",
    "sub_group = chord_progression[0:160]\n",
    "structural_elements = {'.', '|', ':|', '|:', '/', 'N.C.'}\n",
    "dataset_duplicates = chord_progression\n",
    "\n",
    "for x, song in tqdm(enumerate(dataset_duplicates)):\n",
    "    for y, e in enumerate(song):\n",
    "        if '.' in e:\n",
    "            search = True\n",
    "            stepper = y + 2\n",
    "            check_extensions = []\n",
    "            while search:\n",
    "                if (stepper) >= len(song):\n",
    "                    search = False\n",
    "                    #print('End of song')\n",
    "                    break\n",
    "                elif stepper < len(song) - 1:\n",
    "                    element = song[stepper]\n",
    "        \n",
    "                if element in structural_elements or element.startswith('Form_'):\n",
    "                    search = False\n",
    "                else:\n",
    "                    if element not in check_extensions:\n",
    "                        check_extensions.append(element)\n",
    "                    elif stepper < len(song)-1:\n",
    "                        #print('Duplicated:', x, stepper, element, check_extensions)\n",
    "                        song.pop(stepper)\n",
    "                    stepper += 1\n",
    "            if len(check_extensions) > 2:\n",
    "                continue\n",
    "                print(x, y+stepper, check_extensions)\n",
    "                "
   ]
  },
  {
   "cell_type": "code",
   "execution_count": 115,
   "metadata": {},
   "outputs": [],
   "source": [
    "#fix this ones\n",
    "'''\n",
    "['dom7', 'sus7', 'add b9'] remove dom7\n",
    "['sus7', 'add 13', 'sus4'] remove sus4\n",
    "['sus7', 'add 9', 'sus4'] remove sus4\n",
    "['m', 'add 6', 'add 9', 'sus4'] remove sus4\n",
    "['sus7', 'add 13', 'sus4', 'add b9'] remove sus4\n",
    "['dom7', 'add 13', 'sus4', 'add b9'] remove sus4\n",
    "'''\n",
    "fix_this = [{'seq': ['dom7', 'sus7', 'add b9'], 'remove': 'dom7'},\n",
    "            {'seq': ['sus7', 'add 13', 'sus4'], 'remove': 'sus4'},\n",
    "            {'seq': ['sus7', 'add 9', 'sus4'], 'remove': 'sus4'},\n",
    "            {'seq': ['m', 'add 6', 'add 9', 'sus4'], 'remove': 'sus4'},\n",
    "            {'seq': ['sus7', 'add 13', 'sus4', 'add b9'], 'remove': 'sus4'},\n",
    "            {'seq': ['dom7', 'add 13', 'sus4', 'add b9'], 'remove': 'sus4'}]\n",
    "\n",
    "structural_elements = {'.', '|', ':|', '|:', '/', 'N.C.'}\n",
    "\n",
    "for x, song in enumerate(dataset_duplicates):\n",
    "    for y, e in enumerate(song):\n",
    "        if '.' in e:\n",
    "            search = True\n",
    "            stepper = y + 2\n",
    "            check_extensions = []\n",
    "            while search:\n",
    "                if (stepper) >= len(song):\n",
    "                    search = False\n",
    "                    #print('End of song')\n",
    "                    break\n",
    "                elif stepper < len(song) - 1:\n",
    "                    element = song[stepper]\n",
    "        \n",
    "                if element in structural_elements or element.startswith('Form_'):\n",
    "                    search = False\n",
    "                else:\n",
    "                    if element not in check_extensions:\n",
    "                        check_extensions.append(element)\n",
    "                    for item in fix_this:\n",
    "                        if check_extensions == item['seq']:\n",
    "                            print(x, stepper, check_extensions, 'to remove:', item['remove'])\n",
    "                            #find the location of the element in the array\n",
    "                            for i in range(len(check_extensions)):\n",
    "                                if check_extensions[i] == item['remove']:\n",
    "                                    location = i + stepper - 2\n",
    "                                    #erase this element from song\n",
    "                                    if location < len(song):\n",
    "                                        print(location, item['remove'], song[location])\n",
    "                                        song.pop(location)\n",
    "                                    break\n",
    "                            \n",
    "                    stepper += 1\n"
   ]
  },
  {
   "cell_type": "code",
   "execution_count": 116,
   "metadata": {},
   "outputs": [
    {
     "name": "stdout",
     "output_type": "stream",
     "text": [
      "{'composer': 'Bernard Ighner', 'style': 'Ballad', 'song_name': 'Everything Must Change', 'tonality': 'F minor', 'midi_key': 17, 'time_signature': '4/4', 'decade': 'Null'}\n",
      "['<style>', 'Ballad', '|', 'Form_A', '.', 'F', 'm7', 'add 9', '|', '.', 'C', 'dom7', '/', 'E', '|', '.', 'F', 'm7', 'add 9', '/', 'E', '|', '.', 'D', 'dom7', 'alter b5', '|', '.', 'Db', 'maj7', '.', 'Ab', 'maj', '/', 'C', '|', '.', 'Bb', 'm7', '.', 'Bb', 'm7', '/', 'A', '|', '.', 'G', 'm7', 'alter b5', '|', '.', 'C', 'dom7', 'add #9', 'alter #5', '|', '.', 'F', 'm7', 'add 9', '|', '.', 'C', 'dom7', '/', 'E', '|', '.', 'F', 'm7', 'add 9', '/', 'E', '|', '.', 'D', 'dom7', 'add #9', 'alter b5', '|', '.', 'Db', 'maj7', 'add 9', '.', 'Ab', 'maj', '/', 'C', '|', '.', 'Bb', 'm7', '.', 'Bb', 'm7', '/', 'A', '|', '.', 'Gb', 'maj7', 'add 9', 'add #11', '|', '.', 'Eb', 'sus7', 'add 13', 'add b9', '.', 'Eb', 'dom7', 'add 13', 'sus4', '|', '.', 'Ab', 'maj7', 'add 9', '|', '.', 'G', 'm7', 'alter b5', 'add b9', 'alter #5', '.', 'C', 'dom7', 'alter b5', 'add b9', 'alter #5', '|', '.', 'F', 'm7', 'add 9', '|', '.', 'Bb', 'dom7', 'add 9', '|', 'Form_B', '.', 'Db', 'maj7', 'add 9', '|', '.', 'Ab', 'maj7', 'add 9', '/', 'C', '|', '.', 'Bb', 'm', 'add 11', '|', '.', 'C', 'dom7', 'add b9', 'alter #5', '|', '.', 'F', 'm', 'add 11', 'Form_A', '.', 'F', 'm7', 'add 9', '|', '.', 'C', 'dom7', '/', 'E', '|', '.', 'F', 'm7', 'add 9', '/', 'E', '|', '.', 'D', 'dom7', 'alter b5', '|', '.', 'Db', 'maj7', '.', 'Ab', 'maj', '/', 'C', '|', '.', 'Bb', 'm7', '.', 'Bb', 'm7', '/', 'A', '|', '.', 'G', 'm7', 'alter b5', '|', '.', 'C', 'dom7', 'add #9', 'alter #5', '|', '.', 'F', 'm7', 'add 9', '|', '.', 'C', 'dom7', '/', 'E', '|', '.', 'F', 'm7', 'add 9', '/', 'E', '|', '.', 'D', 'dom7', 'add #9', 'alter b5', '|', '.', 'Db', 'maj7', 'add 9', '.', 'Ab', 'maj', '/', 'C', '|', '.', 'Bb', 'm7', '.', 'Bb', 'm7', '/', 'A', '|', '.', 'Gb', 'maj7', 'add 9', 'add #11', '|', '.', 'Eb', 'sus7', 'add 13', 'add b9', '.', 'Eb', 'dom7', 'add 13', 'sus4', '|', '.', 'Ab', 'maj7', 'add 9', '|', '.', 'G', 'm7', 'alter b5', 'add b9', 'alter #5', '.', 'C', 'dom7', 'alter b5', 'add b9', 'alter #5', '|', '.', 'F', 'm7', 'add 9', '|', '.', 'Bb', 'dom7', 'add 9', '|', 'Form_B', '.', 'Db', 'maj7', 'add 9', '|', '.', 'Ab', 'maj7', 'add 9', '/', 'C', '|', '.', 'Bb', 'm', 'add 11', '|', '.', 'C', 'dom7', 'add b9', 'alter #5', '|', 'Form_C', '.', 'Db', 'maj7', 'add 9', '|', '.', 'Ab', 'maj7', 'add 9', '/', 'C', '|', '.', 'Bb', 'm', 'add 11', '|', '.', 'Ab', 'maj7', 'add 9', '/', 'C', 'Form_C', '.', 'Db', 'maj7', 'add 9', '|', '.', 'Ab', 'maj7', 'add 9', '/', 'C', '|', '.', 'Bb', 'm', 'add 11', '|', '.', 'Ab', 'maj7', 'add 9', '/', 'C', '|', '|', '.', 'Db', 'maj7', '|', '.', 'Ab', 'maj7', 'add 9', '/', 'C', '|', '.', 'Bb', 'm', 'add 11', '|', '.', 'Gb', 'maj7', 'add 9', 'add #11']\n"
     ]
    }
   ],
   "source": [
    "id = 1269\n",
    "print(all_meta[id])\n",
    "print(chord_progression[id])\n"
   ]
  },
  {
   "cell_type": "code",
   "execution_count": null,
   "metadata": {},
   "outputs": [],
   "source": []
  }
 ],
 "metadata": {
  "kernelspec": {
   "display_name": "Python 3",
   "language": "python",
   "name": "python3"
  },
  "language_info": {
   "codemirror_mode": {
    "name": "ipython",
    "version": 3
   },
   "file_extension": ".py",
   "mimetype": "text/x-python",
   "name": "python",
   "nbconvert_exporter": "python",
   "pygments_lexer": "ipython3",
   "version": "3.10.12"
  }
 },
 "nbformat": 4,
 "nbformat_minor": 2
}
