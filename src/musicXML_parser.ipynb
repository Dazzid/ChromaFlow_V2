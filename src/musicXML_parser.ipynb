{
 "cells": [
  {
   "cell_type": "code",
   "execution_count": 185,
   "metadata": {},
   "outputs": [],
   "source": [
    "import numpy as np\n",
    "import xmlTranslator as xmlT\n",
    "from tqdm import tqdm\n",
    "%reload_ext autoreload\n",
    "%autoreload 2\n",
    "import importlib\n",
    "from utils import get_project_root\n",
    "from ipywidgets import FloatProgress"
   ]
  },
  {
   "cell_type": "markdown",
   "metadata": {},
   "source": [
    "TODO: \n",
    "- Repeat the sequences 3 times\n",
    "- Clean all vocabulary into a concise repertoire \n",
    "- Add the maj nature\n",
    "- Extend all chords into 18 enharmonic\n",
    "- Split into train and test\n",
    "- create the new MIDI array \n",
    "- Pass the MIDI into Embeddings"
   ]
  },
  {
   "cell_type": "code",
   "execution_count": 246,
   "metadata": {},
   "outputs": [
    {
     "data": {
      "application/vnd.jupyter.widget-view+json": {
       "model_id": "f48fcffc249947af95ea7b81ce93bb61",
       "version_major": 2,
       "version_minor": 0
      },
      "text/plain": [
       "  0%|          | 0/4007 [00:00<?, ?it/s]"
      ]
     },
     "metadata": {},
     "output_type": "display_data"
    },
    {
     "name": "stdout",
     "output_type": "stream",
     "text": [
      "(4006,) (4006,)\n",
      "(4006,) (4006,) 4006\n"
     ]
    }
   ],
   "source": [
    "directory = '/data/iRealXML'\n",
    "root = get_project_root()\n",
    "myPath = str(root) + str(directory)\n",
    "\n",
    "theChordDataset, theOffsetDataset, all_meta = xmlT.parse_info_from_XML(myPath)\n",
    "print(theChordDataset.shape, theOffsetDataset.shape, len(all_meta))"
   ]
  },
  {
   "cell_type": "code",
   "execution_count": 247,
   "metadata": {},
   "outputs": [
    {
     "name": "stderr",
     "output_type": "stream",
     "text": [
      "  0%|          | 0/4006 [00:00<?, ?it/s]"
     ]
    },
    {
     "name": "stderr",
     "output_type": "stream",
     "text": [
      "100%|██████████| 4006/4006 [00:00<00:00, 4066.39it/s]\n"
     ]
    }
   ],
   "source": [
    "importlib.reload(xmlT)\n",
    "\n",
    "id = 0\n",
    "expand_form_dataset = []\n",
    "status = True\n",
    "for i in tqdm(range(theChordDataset.shape[0])):\n",
    "    song_structure, status = xmlT.expand_song_structure(theChordDataset[i], i)\n",
    "    if status == False:\n",
    "        print('Song:', all_meta[i])\n",
    "        id = i\n",
    "        break\n",
    "    song_structure = np.array(song_structure)\n",
    "    expand_form_dataset.append(song_structure)\n"
   ]
  },
  {
   "cell_type": "code",
   "execution_count": 221,
   "metadata": {},
   "outputs": [
    {
     "name": "stdout",
     "output_type": "stream",
     "text": [
      "Max: {'v': 1321, 'id': 141} Min: {'v': 30, 'id': 492}\n"
     ]
    }
   ],
   "source": [
    "#check the length of the song\n",
    "\n",
    "max = {'v': 0, 'id': 0}\n",
    "min = {'v': 1000, 'id': 0}\n",
    "\n",
    "for i in range(len(expand_form_dataset)):\n",
    "    if len(expand_form_dataset[i]) > max['v']:\n",
    "        max['v'] = len(expand_form_dataset[i])\n",
    "        max['id'] = i\n",
    "    if len(expand_form_dataset[i]) < min['v']:\n",
    "        min['v'] = len(expand_form_dataset[i])\n",
    "        min['id'] = i\n",
    "\n",
    "print('Max:', max, 'Min:', min)\n"
   ]
  },
  {
   "cell_type": "code",
   "execution_count": 248,
   "metadata": {},
   "outputs": [
    {
     "data": {
      "application/vnd.jupyter.widget-view+json": {
       "model_id": "4dadff044fc14d4eab70873f61eab26b",
       "version_major": 2,
       "version_minor": 0
      },
      "text/plain": [
       "  0%|          | 0/4006 [00:00<?, ?it/s]"
      ]
     },
     "metadata": {},
     "output_type": "display_data"
    }
   ],
   "source": [
    "importlib.reload(xmlT)\n",
    "\n",
    "#correct the wrong chords\n",
    "corrected_sequence = xmlT.repleaceTheseChords(expand_form_dataset, False)"
   ]
  },
  {
   "cell_type": "code",
   "execution_count": 249,
   "metadata": {},
   "outputs": [
    {
     "name": "stdout",
     "output_type": "stream",
     "text": [
      "290\n",
      "{'', 'Pop-Shuffle', 'alter b5 add 9', 'Shuffle Blues', 'add b6 add #9', 'm7 add9', 'Gypsy Waltz', 'Gospel Ballad', 'Form_B', 'Repeat_2', 'maj add 6', 'E', 'add #11 add 7', 'alter b5 add 7', 'dom7', 'add #11 alter b5 add #9', 'Maxixe', 'Soul Ballad', 'Form_Coda', 'Slow Blues', 'dom7 add 13', 'add 9 add b13', 'add b6', 'Bolero', 'Bolero-Son', 'Up Swing', 'Rock Ballad', 'add #9 add b9 alter b5', 'Form_A', 'add #7 add b9', '.', 'add b13', 'Medium Waltz', 'Shuffle', 'sus7 add #11', 'add b9 add #11', 'add #11', 'Repeat_1', 'alter b5 add b13', 'Latin-Swing', 'maj7', ':|', 'add 7 add #9', 'Slow Bossa', 'sus4 add 9', 'alter #11', 'Merengue', 'Slow Shuffle', 'maj add 6 add 9', 'March', '7 add b9', 'Funk', 'Repeat_3', 'aug7', 'Up Tempo', 'alter #5 add #9', 'alter #5 add b13', 'Dreamlike', 'Ballad', 'alter b9 add b13', 'Even 8ths', 'Bossa Nova', 'Medium Country', 'Foxtrot', 'Cb', 'sus2', 'Calypso', 'add b13 add 7', 'add 7 add 9', 'm6', 'Cha Cha', 'sus7 add 9', 'add #11 alter b5', 'add #7', 'Marchinha', 'Pop Ballad', 'dom7 add 9', 'Medium Shuffle', 'Repeat_0', 'D', 'aug', 'maj7 add 13', 'Blues Shuffle', 'add 9 alter #5', 'dom7 add 77', 'maj', 'add b6 alter b5', 'Montuno', 'Musical', 'add #11 add b9 alter #5', 'Fast Blues', 'm', 'Rock/Hip Hop', 'add #7 add #11', '128 Feel', 'Medium Funk', '/', 'add #7 alter b5', 'alter #5', 'Form_D', 'sus7 add 13', 'F', 'power', 'Disco Funk', 'Afro', 'Afro-Samba', 'add b9 alter b5', 'Medium Swing', 'Ab', 'Medium Up Swing', 'Country Ballad', 'o', 'Fusion', 'G', 'alter b9 alter #5', 'Bb', 'alter b5 add #11', 'Moderately', 'Country Blues', 'Rock Waltz', 'add b13 add #11', 'alter b5 add #9 add b9', 'Soul', 'Even 16ths', 'sus7 add b9', 'o7 alter #7', '-N3', 'dom7 add b5', 'add 7 add b9', 'add #11 add #9', 'add #5 add b9', \"Even 8's\", 'Samba-Funk', 'Pop jazz', 'Baião', 'alter b5 add #9', 'add #9 alter b5 add b9', 'Samba Enredo', 'add #11 add b9', 'Reggae Pop', 'add 2 add #9', 'Samba Reggae', 'maj7 add 9', 'Rock Pop', 'Slow Swing', 'm add b5', 'UP Swing', 'Jazz', 'alter #9', 'Latin', 'Med Up Latin', 'Forró', 'C#', 'Electric Blues', 'Slowly', 'Moderate Latin', 'Worship', 'alter b5 alter b9', 'Electro Pop', 'm7 add b9', 'Afoxé-Samba', 'Chacarera', 'Funk Jazz', 'alter b5 add #9 alter #5', 'B', 'Pop Shuffle', 'Mambo', 'add #11 add 9', 'Choro', 'add b9 add b13', 'C', 'Bolero-Cha', 'Blues', 'alter #5 add b9', 'Reggae', 'add #9', 'Samba-Rock', 'Pop', 'alter b9', 'RnB', 'D#', 'Up Tempo Swing', 'add b9', 'add 7 add #11', 'Medium Blues', 'Slow Rock', 'sus4', 'm7', 'Power Ballad', 'Fast Swing', 'F#', 'add 9 add #11', 'Traditional Gospel', 'alter b5 add b13 add b9', 'add b13 alter b5', 'Medium Pop', 'add #9 alter #5', 'Up Samba', 'Medium Rock', 'Cuban Son', 'Pop Rock', 'Rock-Folk', 'add 9 add b6', 'Hymn', 'Samba', 'm7 add 9', 'N.C.', 'Bossa Acoustic', \"Even 8th's\", 'add #7 add 9', 'alter #5 add #11', 'm add 6 add 9', 'Afoxe', 'sus4 add #11', 'Gb', 'add 2', 'add 7 alter #5', 'add #11 add b13', 'Form_verse', 'Gypsy Bossa', 'alter #11 add b9', 'add 7 add b13', 'Blues Pop', 'add b13 add #9', 'alter b5 add b9', 'Folk Ballad', 'Gary Aprile', '<style>', 'add 7 alter b9', 'Form_intro', 'alter b5', 'Folk Rock', 'Beatles', '|', \"Rock'n'Roll\", 'G#', 'Bright Shuffle Blues', 'Rock', 'Afoxé', 'sus7', 'Waltz', 'Rock Blues', 'Medium Slow', 'Db', 'ø7 add 11', 'add b13 add b9', 'Frevo', 'Pop Folk', 'A', 'Form_Segno', 'Samba Funk', 'alter b5 add #11 add b9', 'Medium Ballad', 'm add 11', 'add #9 add #11', 'Rock/Reggae', 'add 9 alter b5', 'add #7 alter #5', 'Form_C', 'Folk-Rock', 'Gypsy Swing', 'add 9', 'Blues Rock', 'add #11 alter #5', 'm_maj7', 'Tango', 'add b9 alter #5', 'Son', 'Slow Ballad', 'alter b5 add b9 alter #5', 'add 7', 'Eb', 'add #9 alter b5', 'add 9 add 7', 'sus4 add b9', 'add #11 add #9 alter #5', 'A#', 'Medium Up', 'add #9 add b13', \"R'n'B\", 'Funk Rock', 'Choro - Samba', 'Up Waltz (One Feel)', 'Rock Slow', 'Deliberately', 'Disco', 'ø7', 'Salsa', 'Folk', 'alter #5 add 7'}\n"
     ]
    }
   ],
   "source": [
    "#Repeat the sequences 3 times\n",
    "concatenated_array = []\n",
    "\n",
    "concatenated_array = np.hstack(corrected_sequence) \n",
    "\n",
    "vocab = set(concatenated_array)\n",
    "\n",
    "print(len(vocab))\n",
    "print(vocab)"
   ]
  },
  {
   "cell_type": "code",
   "execution_count": 279,
   "metadata": {},
   "outputs": [
    {
     "name": "stdout",
     "output_type": "stream",
     "text": [
      "['<style>', 'Slow Swing', '|', 'Form_A', '.', 'Ab', 'maj', '.', 'Ab', 'dom7', '/', 'C', '|', '.', 'Db', 'maj', '.', 'Ab', 'maj add 6', '|', '.', 'Db', 'maj', '.', 'Ab', 'maj', '/', 'C', '|', '.', 'Bb', 'm7', '.', 'Eb', 'dom7', '.', 'Ab', 'maj add 6', '|', '.', 'Db', 'maj', '.', 'Ab', 'maj', '/', 'C', '|', '.', 'Db', 'maj', '.', 'D', 'maj', '|', '.', 'Db', 'maj', '.', 'D', 'maj', '.', 'Ab', 'maj', '/', 'E', '.', 'F', 'm7', '|', '.', 'Bb', 'm7', '.', 'Eb', 'dom7', '.', 'Ab', 'maj add 6', 'Form_A', '.', 'Ab', 'maj', '.', 'Ab', 'dom7', '/', 'C', '|', '.', 'Db', 'maj', '.', 'Ab', 'maj add 6', '|', '.', 'Db', 'maj', '.', 'Ab', 'maj', '/', 'C', '|', '.', 'Bb', 'm7', '.', 'Eb', 'dom7', '.', 'Ab', 'maj add 6', '|', '.', 'Db', 'maj', '.', 'Ab', 'maj', '/', 'C', '|', '.', 'Db', 'maj', '.', 'D', 'maj', '|', '.', 'Db', 'maj', '.', 'D', 'maj', '.', 'Ab', 'maj', '/', 'E', '.', 'F', 'm7', '|', '.', 'Bb', 'm7', '.', 'Eb', 'dom7', '.', 'Ab', 'maj add 6', '|', '|', 'Form_B', '.', 'C', 'm', '.', 'C', 'm', 'alter #5', '|', '.', 'C', 'm6', '.', 'C', 'm', 'add b6', '|', '.', 'C', 'm', '.', 'C', 'm', 'alter #5', '|', '.', 'D', 'm7', '.', 'G', 'dom7', '|', '.', 'C', 'maj', '.', 'C', 'aug', '|', '.', 'C', 'maj add 6', '.', 'C#', 'maj', '|', '.', 'D', 'm7', '.', 'G', 'dom7', '|', '.', 'Bb', 'm7', '.', 'Eb', 'dom7', '|', 'Form_A', '.', 'Ab', 'maj', '.', 'Ab', 'dom7', '/', 'C', '|', '.', 'Db', 'maj', '.', 'Ab', 'maj add 6', '|', '.', 'Db', 'maj', '.', 'Ab', 'maj', '/', 'C', '|', '.', 'Bb', 'm7', '.', 'Eb', 'dom7', '.', 'Ab', 'maj add 6', '|', '.', 'Db', 'maj', '.', 'Ab', 'maj', '/', 'C', '|', '.', 'Db', 'maj', '.', 'D', 'maj', '|', '.', 'Db', 'maj', '.', 'D', 'maj', '.', 'Ab', 'maj', '/', 'E', '.', 'F', 'm7', '|', '.', 'Bb', 'm7', '.', 'Eb', 'dom7', '.', 'Ab', 'maj add 6']\n"
     ]
    }
   ],
   "source": [
    "#Add the maj token to the chords\n",
    "import voicing as vc\n",
    "voicing = vc.Voicing()\n",
    "#add the maj token to the chords\n",
    "new_sequence = None\n",
    "new_sequence = voicing.add_maj_token(corrected_sequence)\n",
    "\n",
    "print(new_sequence[2000])\n",
    "\n",
    "#split any add or alter into a new element in the sequence, the value next to add or alter need to be preserved.\n",
    "\n"
   ]
  },
  {
   "cell_type": "code",
   "execution_count": 281,
   "metadata": {},
   "outputs": [
    {
     "name": "stderr",
     "output_type": "stream",
     "text": [
      "100%|██████████| 1/1 [00:00<00:00, 2473.06it/s]"
     ]
    },
    {
     "name": "stdout",
     "output_type": "stream",
     "text": [
      "[['<style>', 'Samba', '|', '.', 'A', 'dom7', 'add b9', '|', 'Form_A', '.', 'D', 'maj', 'add 6', '|', '.', 'D', 'maj', 'add 6', '|', '.', 'D', 'maj', 'add 6', '|', '.', 'D', 'maj', 'add 6', '|', '.', 'D', 'm6', '|', '.', 'D', 'm6', '|', '.', 'D', 'm6', '|', '.', 'D', 'm6', '|', '.', 'D', 'maj', 'add 6', '|', '.', 'D', 'maj', 'add 6', '|', '.', 'D', 'maj', 'add 6', '|', '.', 'D', 'maj', 'add 6', '|', '.', 'B', 'dom7', 'add b9', 'b9 alter', 'alter #5', '|', '.', 'B', 'dom7', 'add b9', '|', 'Form_B', '.', 'E', 'm7', 'add 9', '|', '.', 'A', 'dom7', 'add 9', '|', '.', 'E', 'm7', 'add 9', '|', '.', 'A', 'dom7', 'add 9', '|', '.', 'E', 'm7', 'add 9', '|', '.', 'A', 'dom7', 'add 9', '|', '.', 'E', 'm7', 'add 9', '|', '.', 'A', 'dom7', 'add 9', '|', '.', 'D', 'maj7', 'add 9', '|', '.', 'D', 'maj7', 'add 9', '|', '.', 'E', 'm7', '|', '.', 'A', 'dom7', 'add 9', '|', '.', 'D', 'maj7', 'add 9', '|', '.', 'D', 'maj7', 'add 9', '|', '.', 'E', 'm7', '|', '.', 'A', 'dom7', 'add 9', '|', 'Form_C', '.', 'D', 'maj7', '|', '.', 'D', 'maj7', '|', '.', 'D', 'maj7', '|', '.', 'D', 'maj7', '|', '.', 'E', 'm7', '|', '.', 'E', 'm7', '|', '.', 'A', 'dom7', 'add 9', '|', '.', 'A', 'dom7', 'add 9', '|', '.', 'E', 'm7', '|', '.', 'E', 'm7', '|', '.', 'A', 'dom7', 'add 9', '|', '.', 'A', 'dom7', 'add 9', '|', '.', 'D', 'maj7', '|', '.', 'D', 'maj7', '|', '.', 'E', 'm7', '|', '.', 'A', 'dom7', 'add 9', '|', '.', 'D', 'maj7', '.', 'D', 'dom7', '|', '.', 'Db', 'dom7', '.', 'C', 'dom7', '|', 'Form_D', '.', 'B', 'dom7', '|', '.', 'F#', 'm7', 'alter b5', '|', '.', 'B', 'dom7', 'add b9', '|', '.', 'B', 'dom7', 'add b9', '|', '.', 'B', 'dom7', '|', '.', 'F#', 'm7', 'alter b5', '|', '.', 'B', 'dom7', 'add b9', '|', '.', 'B', 'dom7', 'add b9', '|', '.', 'B', 'dom7', '|', '.', 'F#', 'm7', 'alter b5', '|', '.', 'B', 'dom7', 'add b9', '|', '.', 'B', 'dom7', 'add b9', '|', '.', 'E', 'm', '|', '.', 'E', 'm', '|', '.', 'E', 'm6', '|', '.', 'E', 'm', '|', '.', 'E', 'm7', '|', '.', 'E', 'm7', '|', '.', 'C', 'dom7', 'add 9', '|', '.', 'C', 'dom7', 'add 9', '|', '.', 'F#', 'm7', '|', '.', 'F#', 'm7', '|', '.', 'B', 'm7', '|', '.', 'B', 'm7', '|', '.', 'E', 'dom7', 'add 9', '|', '.', 'E', 'dom7', 'add 9', '|', '.', 'E', 'm7', '|', '.', 'A', 'dom7', 'add b9', '|', '.', 'D', 'maj7', 'add 9', '|', 'Form_Coda', '.', 'D', 'maj7', 'add 9', '|', '.', 'E', 'm7', '|', '.', 'A', 'dom7', 'add 9', '|', '.', 'D', 'maj7', 'add 9', '|', '.', 'D', 'maj7', 'add 9', '|', '.', 'E', 'm7', '|', '.', 'A', 'dom7', 'add 9', '|', '.', 'D', 'maj7', 'add 9', '|', '.', 'D', 'maj7', 'add 9', '|', '.', 'E', 'm7', '|', '.', 'A', 'dom7', 'add b9', 'Form_C', '.', 'D', 'maj7', '|', '.', 'D', 'maj7', '|', '.', 'D', 'maj7', '|', '.', 'D', 'maj7', '|', '.', 'E', 'm7', '|', '.', 'E', 'm7', '|', '.', 'A', 'dom7', 'add 9', '|', '.', 'A', 'dom7', 'add 9', '|', '.', 'E', 'm7', '|', '.', 'E', 'm7', '|', '.', 'A', 'dom7', 'add 9', '|', '.', 'A', 'dom7', 'add 9', '|', '.', 'D', 'maj7', '|', '.', 'D', 'maj7', '|', '.', 'E', 'm7', '|', '.', 'A', 'dom7', 'add 9', '|', '.', 'D', 'maj7', '.', 'D', 'dom7', '|', '.', 'Db', 'dom7', '.', 'C', 'dom7', '|', 'Form_D', '.', 'B', 'dom7', '|', '.', 'F#', 'm7', 'alter b5', '|', '.', 'B', 'dom7', 'add b9', '|', '.', 'B', 'dom7', 'add b9', '|', '.', 'B', 'dom7', '|', '.', 'F#', 'm7', 'alter b5', '|', '.', 'B', 'dom7', 'add b9', '|', '.', 'B', 'dom7', 'add b9', '|', '.', 'B', 'dom7', '|', '.', 'F#', 'm7', 'alter b5', '|', '.', 'B', 'dom7', 'add b9', '|', '.', 'B', 'dom7', 'add b9', '|', '.', 'E', 'm', '|', '.', 'E', 'm', '|', '.', 'E', 'm6', '|', '.', 'E', 'm', '|', '.', 'E', 'm7', '|', '.', 'E', 'm7', '|', '.', 'C', 'dom7', 'add 9', '|', '.', 'C', 'dom7', 'add 9', '|', '.', 'F#', 'm7', '|', '.', 'F#', 'm7', '|', '.', 'B', 'm7', '|', '.', 'B', 'm7', '|', '.', 'E', 'dom7', 'add 9', '|', '.', 'E', 'dom7', 'add 9', '|', '.', 'E', 'm7', '|', '.', 'A', 'dom7', 'add b9', '|', '.', 'D', 'maj7', 'add 9', '|', 'Form_Coda', '.', 'D', 'maj7', 'add 9', '|', '.', 'E', 'm7', '|', '.', 'A', 'dom7', 'add 9', '|', '.', 'D', 'maj7', 'add 9', '|', '.', 'D', 'maj7', 'add 9', '|', '.', 'E', 'm7', '|', '.', 'A', 'dom7', 'add 9', '|', '.', 'D', 'maj7', 'add 9', '|', '.', 'D', 'maj7', 'add 9', '|', '.', 'E', 'm7', '|', '.', 'A', 'dom7', 'add b9', 'Form_C', '.', 'D', 'maj7', '|', '.', 'D', 'maj7', '|', '.', 'D', 'maj7', '|', '.', 'D', 'maj7', '|', '.', 'E', 'm7', '|', '.', 'E', 'm7', '|', '.', 'A', 'dom7', 'add 9', '|', '.', 'A', 'dom7', 'add 9', '|', '.', 'E', 'm7', '|', '.', 'E', 'm7', '|', '.', 'A', 'dom7', 'add 9', '|', '.', 'A', 'dom7', 'add 9', '|', '.', 'D', 'maj7', '|', '.', 'D', 'maj7', '|', '.', 'E', 'm7', '|', '.', 'A', 'dom7', 'add 9', '|', '.', 'D', 'maj7', '.', 'D', 'dom7', '|', '.', 'Db', 'dom7', '.', 'C', 'dom7', '|', 'Form_D', '.', 'B', 'dom7', '|', '.', 'F#', 'm7', 'alter b5', '|', '.', 'B', 'dom7', 'add b9', '|', '.', 'B', 'dom7', 'add b9', '|', '.', 'B', 'dom7', '|', '.', 'F#', 'm7', 'alter b5', '|', '.', 'B', 'dom7', 'add b9', '|', '.', 'B', 'dom7', 'add b9', '|', '.', 'B', 'dom7', '|', '.', 'F#', 'm7', 'alter b5', '|', '.', 'B', 'dom7', 'add b9', '|', '.', 'B', 'dom7', 'add b9', '|', '.', 'E', 'm', '|', '.', 'E', 'm', '|', '.', 'E', 'm6', '|', '.', 'E', 'm', '|', '.', 'E', 'm7', '|', '.', 'E', 'm7', '|', '.', 'C', 'dom7', 'add 9', '|', '.', 'C', 'dom7', 'add 9', '|', '.', 'F#', 'm7', '|', '.', 'F#', 'm7', '|', '.', 'B', 'm7', '|', '.', 'B', 'm7', '|', '.', 'E', 'dom7', 'add 9', '|', '.', 'E', 'dom7', 'add 9', '|', '.', 'E', 'm7', '|', '.', 'A', 'dom7', 'add b9', '|', '.', 'D', 'maj7', 'add 9', '|', 'Form_Coda', '.', 'D', 'maj7', 'add 9', '|', '.', 'E', 'm7', '|', '.', 'A', 'dom7', 'add 9', '|', '.', 'D', 'maj7', 'add 9', '|', '.', 'D', 'maj7', 'add 9', '|', '.', 'E', 'm7', '|', '.', 'A', 'dom7', 'add 9', '|', '.', 'D', 'maj7', 'add 9', '|', '.', 'D', 'maj7', 'add 9', '|', '.', 'E', 'm7', '|', '.', 'A', 'dom7', 'add b9', '|', '|', 'Form_Coda', '.', 'E', 'm7', '|', '.', 'A', 'dom7', 'add 9', '|', '.', 'D', 'maj7', 'add 9', '|', '.', 'D', 'maj7', 'add 9', '|', '.', 'E', 'm7', '|', '.', 'A', 'dom7', 'add 9', '|', '.', 'D', 'maj7', 'add 9', '|', '.', 'D', 'maj7', 'add 9', '|']]\n"
     ]
    },
    {
     "name": "stderr",
     "output_type": "stream",
     "text": [
      "\n"
     ]
    }
   ],
   "source": [
    "#fix the format of extensions to avoid repeated elements\n",
    "natures = {'maj', 'm', 'm6', 'm7', 'dom_7', 'maj7', 'o7', 'o', 'sus', 'sus2', 'sus7', 'ø7', 'power', 'm_maj7'}\n",
    "\n",
    "#subSet = new_sequence[299:300]\n",
    "\n",
    "for song in tqdm(new_sequence):\n",
    "    for i, element in enumerate(song):\n",
    "        if 'add' in element or 'alter' in element:\n",
    "            #print(element)\n",
    "            split = element.split(' ')\n",
    "            size = len(split)\n",
    "            if size > 2:\n",
    "                if size%2 == 1:\n",
    "                    #print('odd', split)\n",
    "                    nature = split[0]\n",
    "                    song[i] = nature\n",
    "                    for n in range(1, size-1):\n",
    "                        ext = split[n] + ' ' + split[n+1]\n",
    "                        song.insert(i+n, ext)\n",
    "                if size%2 == 0:\n",
    "                    #delete the element\n",
    "                    song.pop(i)\n",
    "                    for n in range(0, size-1):\n",
    "                        ext = split[n] + ' ' + split[n+1]\n",
    "                        song.insert(i+n, ext)\n",
    "                    \n"
   ]
  },
  {
   "cell_type": "code",
   "execution_count": 269,
   "metadata": {},
   "outputs": [
    {
     "name": "stdout",
     "output_type": "stream",
     "text": [
      "299\n",
      "['<style>', 'Samba', '|', '.', 'A', 'dom7', 'add b9', '|', 'Form_A', '.', 'D', 'maj add 6', '|', '.', 'D', 'maj add 6', '|', '.', 'D', 'maj add 6', '|', '.', 'D', 'maj add 6', '|', '.', 'D', 'm6', '|', '.', 'D', 'm6', '|', '.', 'D', 'm6', '|', '.', 'D', 'm6', '|', '.', 'D', 'maj add 6', '|', '.', 'D', 'maj add 6', '|', '.', 'D', 'maj add 6', '|', '.', 'D', 'maj add 6', '|', '.', 'B', 'dom7', 'add b9 alter #5', '|', '.', 'B', 'dom7', 'add b9', '|', 'Form_B', '.', 'E', 'm7 add 9', '|', '.', 'A', 'dom7 add 9', '|', '.', 'E', 'm7 add 9', '|', '.', 'A', 'dom7 add 9', '|', '.', 'E', 'm7 add 9', '|', '.', 'A', 'dom7 add 9', '|', '.', 'E', 'm7 add 9', '|', '.', 'A', 'dom7 add 9', '|', '.', 'D', 'maj7 add 9', '|', '.', 'D', 'maj7 add 9', '|', '.', 'E', 'm7', '|', '.', 'A', 'dom7 add 9', '|', '.', 'D', 'maj7 add 9', '|', '.', 'D', 'maj7 add 9', '|', '.', 'E', 'm7', '|', '.', 'A', 'dom7 add 9', '|', 'Form_C', '.', 'D', 'maj7', '|', '.', 'D', 'maj7', '|', '.', 'D', 'maj7', '|', '.', 'D', 'maj7', '|', '.', 'E', 'm7', '|', '.', 'E', 'm7', '|', '.', 'A', 'dom7 add 9', '|', '.', 'A', 'dom7 add 9', '|', '.', 'E', 'm7', '|', '.', 'E', 'm7', '|', '.', 'A', 'dom7 add 9', '|', '.', 'A', 'dom7 add 9', '|', '.', 'D', 'maj7', '|', '.', 'D', 'maj7', '|', '.', 'E', 'm7', '|', '.', 'A', 'dom7 add 9', '|', '.', 'D', 'maj7', '.', 'D', 'dom7', '|', '.', 'Db', 'dom7', '.', 'C', 'dom7', '|', 'Form_D', '.', 'B', 'dom7', '|', '.', 'F#', 'm7', 'alter b5', '|', '.', 'B', 'dom7', 'add b9', '|', '.', 'B', 'dom7', 'add b9', '|', '.', 'B', 'dom7', '|', '.', 'F#', 'm7', 'alter b5', '|', '.', 'B', 'dom7', 'add b9', '|', '.', 'B', 'dom7', 'add b9', '|', '.', 'B', 'dom7', '|', '.', 'F#', 'm7', 'alter b5', '|', '.', 'B', 'dom7', 'add b9', '|', '.', 'B', 'dom7', 'add b9', '|', '.', 'E', 'm', '|', '.', 'E', 'm', '|', '.', 'E', 'm6', '|', '.', 'E', 'm', '|', '.', 'E', 'm7', '|', '.', 'E', 'm7', '|', '.', 'C', 'dom7 add 9', '|', '.', 'C', 'dom7 add 9', '|', '.', 'F#', 'm7', '|', '.', 'F#', 'm7', '|', '.', 'B', 'm7', '|', '.', 'B', 'm7', '|', '.', 'E', 'dom7 add 9', '|', '.', 'E', 'dom7 add 9', '|', '.', 'E', 'm7', '|', '.', 'A', 'dom7', 'add b9', '|', '.', 'D', 'maj7 add 9', '|', 'Form_Coda', '.', 'D', 'maj7 add 9', '|', '.', 'E', 'm7', '|', '.', 'A', 'dom7 add 9', '|', '.', 'D', 'maj7 add 9', '|', '.', 'D', 'maj7 add 9', '|', '.', 'E', 'm7', '|', '.', 'A', 'dom7 add 9', '|', '.', 'D', 'maj7 add 9', '|', '.', 'D', 'maj7 add 9', '|', '.', 'E', 'm7', '|', '.', 'A', 'dom7', 'add b9', 'Form_C', '.', 'D', 'maj7', '|', '.', 'D', 'maj7', '|', '.', 'D', 'maj7', '|', '.', 'D', 'maj7', '|', '.', 'E', 'm7', '|', '.', 'E', 'm7', '|', '.', 'A', 'dom7 add 9', '|', '.', 'A', 'dom7 add 9', '|', '.', 'E', 'm7', '|', '.', 'E', 'm7', '|', '.', 'A', 'dom7 add 9', '|', '.', 'A', 'dom7 add 9', '|', '.', 'D', 'maj7', '|', '.', 'D', 'maj7', '|', '.', 'E', 'm7', '|', '.', 'A', 'dom7 add 9', '|', '.', 'D', 'maj7', '.', 'D', 'dom7', '|', '.', 'Db', 'dom7', '.', 'C', 'dom7', '|', 'Form_D', '.', 'B', 'dom7', '|', '.', 'F#', 'm7', 'alter b5', '|', '.', 'B', 'dom7', 'add b9', '|', '.', 'B', 'dom7', 'add b9', '|', '.', 'B', 'dom7', '|', '.', 'F#', 'm7', 'alter b5', '|', '.', 'B', 'dom7', 'add b9', '|', '.', 'B', 'dom7', 'add b9', '|', '.', 'B', 'dom7', '|', '.', 'F#', 'm7', 'alter b5', '|', '.', 'B', 'dom7', 'add b9', '|', '.', 'B', 'dom7', 'add b9', '|', '.', 'E', 'm', '|', '.', 'E', 'm', '|', '.', 'E', 'm6', '|', '.', 'E', 'm', '|', '.', 'E', 'm7', '|', '.', 'E', 'm7', '|', '.', 'C', 'dom7 add 9', '|', '.', 'C', 'dom7 add 9', '|', '.', 'F#', 'm7', '|', '.', 'F#', 'm7', '|', '.', 'B', 'm7', '|', '.', 'B', 'm7', '|', '.', 'E', 'dom7 add 9', '|', '.', 'E', 'dom7 add 9', '|', '.', 'E', 'm7', '|', '.', 'A', 'dom7', 'add b9', '|', '.', 'D', 'maj7 add 9', '|', 'Form_Coda', '.', 'D', 'maj7 add 9', '|', '.', 'E', 'm7', '|', '.', 'A', 'dom7 add 9', '|', '.', 'D', 'maj7 add 9', '|', '.', 'D', 'maj7 add 9', '|', '.', 'E', 'm7', '|', '.', 'A', 'dom7 add 9', '|', '.', 'D', 'maj7 add 9', '|', '.', 'D', 'maj7 add 9', '|', '.', 'E', 'm7', '|', '.', 'A', 'dom7', 'add b9', 'Form_C', '.', 'D', 'maj7', '|', '.', 'D', 'maj7', '|', '.', 'D', 'maj7', '|', '.', 'D', 'maj7', '|', '.', 'E', 'm7', '|', '.', 'E', 'm7', '|', '.', 'A', 'dom7 add 9', '|', '.', 'A', 'dom7 add 9', '|', '.', 'E', 'm7', '|', '.', 'E', 'm7', '|', '.', 'A', 'dom7 add 9', '|', '.', 'A', 'dom7 add 9', '|', '.', 'D', 'maj7', '|', '.', 'D', 'maj7', '|', '.', 'E', 'm7', '|', '.', 'A', 'dom7 add 9', '|', '.', 'D', 'maj7', '.', 'D', 'dom7', '|', '.', 'Db', 'dom7', '.', 'C', 'dom7', '|', 'Form_D', '.', 'B', 'dom7', '|', '.', 'F#', 'm7', 'alter b5', '|', '.', 'B', 'dom7', 'add b9', '|', '.', 'B', 'dom7', 'add b9', '|', '.', 'B', 'dom7', '|', '.', 'F#', 'm7', 'alter b5', '|', '.', 'B', 'dom7', 'add b9', '|', '.', 'B', 'dom7', 'add b9', '|', '.', 'B', 'dom7', '|', '.', 'F#', 'm7', 'alter b5', '|', '.', 'B', 'dom7', 'add b9', '|', '.', 'B', 'dom7', 'add b9', '|', '.', 'E', 'm', '|', '.', 'E', 'm', '|', '.', 'E', 'm6', '|', '.', 'E', 'm', '|', '.', 'E', 'm7', '|', '.', 'E', 'm7', '|', '.', 'C', 'dom7 add 9', '|', '.', 'C', 'dom7 add 9', '|', '.', 'F#', 'm7', '|', '.', 'F#', 'm7', '|', '.', 'B', 'm7', '|', '.', 'B', 'm7', '|', '.', 'E', 'dom7 add 9', '|', '.', 'E', 'dom7 add 9', '|', '.', 'E', 'm7', '|', '.', 'A', 'dom7', 'add b9', '|', '.', 'D', 'maj7 add 9', '|', 'Form_Coda', '.', 'D', 'maj7 add 9', '|', '.', 'E', 'm7', '|', '.', 'A', 'dom7 add 9', '|', '.', 'D', 'maj7 add 9', '|', '.', 'D', 'maj7 add 9', '|', '.', 'E', 'm7', '|', '.', 'A', 'dom7 add 9', '|', '.', 'D', 'maj7 add 9', '|', '.', 'D', 'maj7 add 9', '|', '.', 'E', 'm7', '|', '.', 'A', 'dom7', 'add b9', '|', '|', 'Form_Coda', '.', 'E', 'm7', '|', '.', 'A', 'dom7 add 9', '|', '.', 'D', 'maj7 add 9', '|', '.', 'D', 'maj7 add 9', '|', '.', 'E', 'm7', '|', '.', 'A', 'dom7 add 9', '|', '.', 'D', 'maj7 add 9', '|', '.', 'D', 'maj7 add 9', '|']\n",
      "{'composer': 'Ary Barroso', 'style': 'Samba', 'song_name': 'Aquarela Do Brasil (a.k.a. Brazil)', 'tonality': 'D major', 'midi_key': 14, 'time_signature': '4/4', 'decade': 'Null'}\n"
     ]
    }
   ],
   "source": [
    "#find \n",
    "id = 0\n",
    "find = \"add b9 alter #5\"\n",
    "\n",
    "for i in range(len(new_sequence)):\n",
    "    if find in new_sequence[i]:\n",
    "        print(i)\n",
    "        print(new_sequence[i])\n",
    "        id = i\n",
    "        break\n",
    "    \n",
    "print(all_meta[id])\n"
   ]
  },
  {
   "cell_type": "code",
   "execution_count": 216,
   "metadata": {},
   "outputs": [
    {
     "name": "stdout",
     "output_type": "stream",
     "text": [
      "['dom7', 'add b9 alter #5', 'alter #5', 'add b9', 'alter #5', 'add b9'] 33\n",
      "['dom7', 'add b9 alter #5', 'alter #5', 'add b9', 'alter #5', 'add b9'] 115\n",
      "['dom7', 'add b9 alter #5', 'alter #5', 'add b9', 'alter #5', 'add b9'] 262\n",
      "['m7', 'alter b5 add b9', 'add b9', 'alter b5', 'add b9', 'alter b5'] 17\n",
      "['dom7', 'alter b5 add b9', 'add b9', 'alter b5', 'add b9', 'alter b5'] 25\n",
      "['m7', 'alter b5 add b9', 'add b9', 'alter b5', 'add b9', 'alter b5'] 63\n",
      "['dom7', 'alter b5 add b9', 'add b9', 'alter b5', 'add b9', 'alter b5'] 71\n",
      "['m7', 'alter b5 add b9', 'add b9', 'alter b5', 'add b9', 'alter b5'] 145\n",
      "['dom7', 'alter b5 add b9', 'add b9', 'alter b5', 'add b9', 'alter b5'] 153\n",
      "['m7', 'alter b5 add b9', 'add b9', 'alter b5', 'add b9', 'alter b5'] 118\n",
      "['dom7', 'alter b5 add b9', 'add b9', 'alter b5', 'add b9', 'alter b5'] 126\n",
      "['m7', 'alter b5 add b9', 'add b9', 'alter b5', 'add b9', 'alter b5'] 138\n",
      "['dom7', 'alter b5 add b9', 'add b9', 'alter b5', 'add b9', 'alter b5'] 146\n",
      "['m7', 'alter b5 add b9', 'add b9', 'alter b5', 'add b9', 'alter b5'] 263\n",
      "['dom7', 'alter b5 add b9', 'add b9', 'alter b5', 'add b9', 'alter b5'] 271\n",
      "['maj', 'add 9', 'add 6', 'add 9'] 3\n",
      "['maj', 'add 9', 'add 6', 'add 9'] 10\n",
      "['maj', 'add 9', 'add 6', 'add 9'] 32\n",
      "['maj', 'add 9', 'add 6', 'add 9'] 39\n",
      "['maj', 'add 9', 'add 6'] 45\n",
      "['m7', 'alter b5 add b9', 'add b9', 'alter b5', 'add b9', 'alter b5'] 67\n",
      "['dom7', 'alter b5 add b9', 'add b9', 'alter b5', 'add b9', 'alter b5'] 75\n",
      "['m7', 'alter b5 add b9', 'add b9', 'alter b5', 'add b9', 'alter b5'] 138\n",
      "['dom7', 'alter b5 add b9', 'add b9', 'alter b5', 'add b9', 'alter b5'] 146\n",
      "['m7', 'alter b5 add b9', 'add b9', 'alter b5', 'add b9', 'alter b5'] 263\n",
      "['dom7', 'alter b5 add b9', 'add b9', 'alter b5', 'add b9', 'alter b5'] 271\n",
      "['m7', 'alter b5 add b9', 'add b9', 'alter b5', 'add b9', 'alter b5'] 119\n",
      "['dom7', 'alter b5 add b9', 'add b9', 'alter b5', 'add b9', 'alter b5'] 127\n",
      "['m7', 'alter b5 add b9', 'add b9', 'alter b5', 'add b9', 'alter b5'] 121\n",
      "['dom7', 'alter b5 add b9', 'add b9', 'alter b5', 'add b9', 'alter b5'] 129\n",
      "['maj', 'add 9', 'add 6', 'add 9'] 8\n",
      "['maj', 'add 9', 'add 6', 'add 9'] 19\n",
      "['dom7', 'add 13', 'alter b9'] 64\n",
      "['m7', 'alter b5 add b9', 'add b9', 'alter b5', 'add b9', 'alter b5'] 96\n",
      "['dom7', 'alter b5 add b9', 'add b9', 'alter b5', 'add b9', 'alter b5'] 104\n",
      "['dom7', 'add b9 alter b5', 'alter b5', 'add b9', 'alter b5', 'add b9'] 33\n",
      "['sus7', 'add 9', 'sus4'] 113\n",
      "['sus7', 'add 9', 'sus4'] 123\n",
      "['dom7', 'sus7', 'add b9'] 138\n",
      "['dom7', 'sus7', 'add b9'] 143\n",
      "['sus7', 'add 9', 'sus4'] 153\n",
      "['sus7', 'add 9', 'add 9'] 167\n",
      "['m7', 'alter b5 add b9', 'add b9', 'alter b5', 'add b9', 'alter b5'] 108\n",
      "['dom7', 'alter b5 add b9', 'add b9', 'alter b5', 'add b9', 'alter b5'] 116\n",
      "['m7', 'alter b5 add b9', 'add b9', 'alter b5', 'add b9', 'alter b5'] 28\n",
      "['dom7', 'alter b5 add b9', 'add b9', 'alter b5', 'add b9', 'alter b5'] 36\n",
      "['m7', 'alter b5 add b9', 'add b9', 'alter b5', 'add b9', 'alter b5'] 73\n",
      "['dom7', 'alter b5 add b9', 'add b9', 'alter b5', 'add b9', 'alter b5'] 81\n",
      "['m7', 'alter b5 add b9', 'add b9', 'alter b5', 'add b9', 'alter b5'] 128\n",
      "['dom7', 'alter b5 add b9', 'add b9', 'alter b5', 'add b9', 'alter b5'] 136\n",
      "['m7', 'alter b5 add b9', 'add b9', 'alter b5', 'add b9', 'alter b5'] 170\n",
      "['dom7', 'alter b5 add b9', 'add b9', 'alter b5', 'add b9', 'alter b5'] 178\n",
      "['dom7', 'add 13', 'alter b9'] 134\n",
      "['dom7', 'add 13', 'alter b9'] 140\n",
      "['m7', 'alter b5 add b9', 'add b9', 'alter b5', 'add b9', 'alter b5'] 91\n",
      "['dom7', 'alter b5 add b9', 'add b9', 'alter b5', 'add b9', 'add b9'] 99\n",
      "['m7', 'alter b5 add b9', 'add b9', 'alter b5', 'add b9', 'alter b5'] 40\n",
      "['dom7', 'alter b5 add b9', 'add b9', 'alter b5', 'add b9', 'alter b5'] 50\n",
      "['m7', 'alter b5 add b13', 'add b13', 'alter b5', 'add b13', 'alter b5'] 97\n",
      "['dom7', 'alter b5 add b13', 'add b13', 'alter b5', 'add b13', 'alter b5'] 107\n",
      "['m7', 'alter b5 add b9', 'add b9', 'alter b5', 'add b9', 'alter b5'] 182\n",
      "['dom7', 'alter b5 add b9', 'add b9', 'alter b5', 'add b9', 'alter b5'] 190\n",
      "['m7', 'alter b5 add b9', 'add b9', 'alter b5', 'add b9', 'alter b5'] 224\n",
      "['dom7', 'alter b5 add b9', 'add b9', 'alter b5', 'add b9', 'alter b5'] 232\n",
      "['maj', 'add 9', 'add 6', 'add 9'] 30\n",
      "['maj', 'add 9', 'add 6', 'add 9'] 77\n",
      "['maj', 'add 9', 'add 6', 'add 9'] 108\n",
      "['maj', 'add 9', 'add 6', 'add 9'] 3\n",
      "['maj', 'add 9', 'add 6', 'add 9'] 10\n",
      "['maj', 'add 9', 'add 6', 'add 9'] 32\n",
      "['maj', 'add 9', 'add 6', 'add 9'] 39\n",
      "['maj', 'add 9', 'add 6'] 45\n",
      "['m7', 'alter b5 add b9', 'add b9', 'alter b5', 'add b9', 'alter b5'] 67\n",
      "['dom7', 'alter b5 add b9', 'add b9', 'alter b5', 'add b9', 'alter b5'] 75\n",
      "['maj', 'add 9', 'add 6', 'add 9'] 30\n",
      "['maj', 'add 9', 'add 6', 'add 9'] 77\n",
      "['maj', 'add 9', 'add 6', 'add 9'] 108\n",
      "['maj', 'add 9', 'add 6', 'add 9'] 14\n",
      "['maj', 'add 9', 'add 6', 'add 9'] 34\n",
      "['maj', 'add 9', 'add 6', 'add b9'] 54\n",
      "['maj', 'add 9', 'add 6', 'add 9'] 84\n",
      "['maj', 'add 9', 'add 6', 'add 9'] 104\n",
      "['maj', 'add 9', 'add 6', 'add b9'] 124\n",
      "['maj', 'add 9', 'add 6', 'add 9'] 154\n",
      "['maj', 'add 9', 'add 6', 'add 9'] 174\n",
      "['maj', 'add 9', 'add 6', 'add b9'] 194\n",
      "['maj', 'add 9', 'add 6', 'add 9'] 223\n",
      "['sus7', 'add 9', 'sus4'] 72\n",
      "['sus7', 'add 9', 'sus4'] 78\n",
      "['sus7', 'add 9', 'sus4'] 194\n",
      "['sus7', 'add 9', 'sus4'] 200\n",
      "['sus7', 'add 9', 'sus4'] 77\n",
      "['sus7', 'add 9', 'sus4'] 83\n",
      "['sus7', 'add 9', 'sus4'] 209\n",
      "['sus7', 'add 9', 'sus4'] 215\n",
      "['m7', 'add 9', 'add 9'] 257\n",
      "['maj', 'add 9', 'add 6', 'add 9'] 105\n",
      "['maj', 'add 9', 'add 6', 'add 9'] 169\n",
      "['maj', 'add 9', 'add 6', 'add 6'] 176\n"
     ]
    }
   ],
   "source": [
    "#find duplicated add or alter elements and remove them\n",
    "\n",
    "sub_group = new_sequence[0:100]\n",
    "structural_elements = {'.', '|', ':|', '|:', '/', 'N.C.'}\n",
    "\n",
    "for song in sub_group:\n",
    "    for i, e in enumerate(song):\n",
    "        check_extensions = []\n",
    "        if '.' in e:\n",
    "            search = True\n",
    "            stepper = 2\n",
    "            while search:\n",
    "                if (stepper + i) >= len(song):\n",
    "                    search = False\n",
    "                    #print('End of song')\n",
    "                    break\n",
    "                elif i+stepper < len(song) - 1:\n",
    "                    element = song[i+stepper]\n",
    "        \n",
    "                if element in structural_elements or element.startswith('Form_'):\n",
    "                    search = False\n",
    "                else:\n",
    "                    #print(element, i+stepper)\n",
    "                    check_extensions.append(element)\n",
    "                    stepper += 1\n",
    "            if len(check_extensions) > 2:\n",
    "                print(check_extensions, i)"
   ]
  },
  {
   "cell_type": "code",
   "execution_count": 217,
   "metadata": {},
   "outputs": [
    {
     "name": "stdout",
     "output_type": "stream",
     "text": [
      "['<style>', 'Ballad', '|', 'Form_A', '.', 'Bb', 'maj7', '|', '.', 'G', 'm7', '.', 'C', 'dom7', '|', '.', 'A', 'm7', '|', '.', 'D', 'm7', '|', '.', 'G', 'm7', '|', '.', 'C', 'dom7', '|', '.', 'F', 'maj7', '|', '.', 'C', 'm7', '.', 'F', 'dom7', 'Form_A', '.', 'Bb', 'maj7', '|', '.', 'G', 'm7', '.', 'C', 'dom7', '|', '.', 'A', 'm7', '|', '.', 'D', 'm7', '|', '.', 'G', 'm7', '|', '.', 'C', 'dom7', '|', '.', 'F', 'maj', 'add 6', '|', '.', 'C', 'm7', '.', 'F', 'dom7', '|', 'Form_B', '.', 'Bb', 'maj7', '.', 'Eb', 'dom7', 'add 9', '|', '.', 'A', 'm7', '.', 'D', 'm7', '|', '.', 'G', 'm7', '.', 'C', 'dom7', '|', '.', 'F', 'maj7', '|', '.', 'E', 'm7', 'alter b5 add b9', 'add b9', 'alter b5', 'add b9', 'alter b5', '.', 'A', 'dom7', 'alter b5 add b9', 'add b9', 'alter b5', 'add b9', 'alter b5', '|', '.', 'D', 'm7', '|', '.', 'G', 'dom7', '|', '.', 'C', 'dom7', '.', 'C', 'm7', '.', 'F', 'dom7', '|', 'Form_A', '.', 'Bb', 'maj7', '|', '.', 'G', 'm7', '.', 'C', 'dom7', '|', '.', 'A', 'm7', '|', '.', 'D', 'm7', '|', '.', 'G', 'm7', '|', '.', 'C', 'dom7', '|', '.', 'F', 'maj7', '|', '.', 'C', 'm7', '.', 'F', 'dom7']\n"
     ]
    }
   ],
   "source": [
    "print(sub_group[33])"
   ]
  }
 ],
 "metadata": {
  "kernelspec": {
   "display_name": "Python 3",
   "language": "python",
   "name": "python3"
  },
  "language_info": {
   "codemirror_mode": {
    "name": "ipython",
    "version": 3
   },
   "file_extension": ".py",
   "mimetype": "text/x-python",
   "name": "python",
   "nbconvert_exporter": "python",
   "pygments_lexer": "ipython3",
   "version": "3.10.12"
  }
 },
 "nbformat": 4,
 "nbformat_minor": 2
}
