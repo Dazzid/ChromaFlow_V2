{
 "cells": [
  {
   "cell_type": "code",
   "execution_count": 74,
   "metadata": {},
   "outputs": [],
   "source": [
    "import numpy as np\n",
    "import xmlTranslator as xmlT\n",
    "from ipywidgets import FloatProgress\n",
    "from tqdm import tqdm\n",
    "import importlib\n",
    "from utils import get_project_root"
   ]
  },
  {
   "cell_type": "markdown",
   "metadata": {},
   "source": [
    "TODO: \n",
    "- Repeat the sequences 3 times\n",
    "- Extend all chords into the chromatic scale\n",
    "- Complete the voicing as a MIDI array \n",
    "- Fix the style token\n",
    "- Split into train and test\n",
    "- Pass the MIDI into Embeddings"
   ]
  },
  {
   "cell_type": "code",
   "execution_count": 75,
   "metadata": {},
   "outputs": [
    {
     "name": "stderr",
     "output_type": "stream",
     "text": [
      "  0%|          | 0/4006 [00:00<?, ?it/s]"
     ]
    },
    {
     "name": "stderr",
     "output_type": "stream",
     "text": [
      "100%|██████████| 4006/4006 [00:19<00:00, 203.44it/s]"
     ]
    },
    {
     "name": "stdout",
     "output_type": "stream",
     "text": [
      "(4005,) (4005,) (4005,)\n"
     ]
    },
    {
     "name": "stderr",
     "output_type": "stream",
     "text": [
      "\n"
     ]
    }
   ],
   "source": [
    "directory = '/data/iRealXML'\n",
    "root = get_project_root()\n",
    "myPath = str(root) + str(directory)\n",
    "\n",
    "theChordDataset, theDurationsDataset, all_meta = xmlT.parse_info_from_XML(myPath)"
   ]
  },
  {
   "cell_type": "code",
   "execution_count": 76,
   "metadata": {},
   "outputs": [],
   "source": [
    "def print_this_song(meta, dataset, id):\n",
    "    print(meta[id])\n",
    "    for i, e in enumerate(dataset[id]):\n",
    "        print(i, e)\n",
    "    print('')"
   ]
  },
  {
   "cell_type": "code",
   "execution_count": 77,
   "metadata": {},
   "outputs": [
    {
     "name": "stdout",
     "output_type": "stream",
     "text": [
      "4005 4005\n"
     ]
    }
   ],
   "source": [
    "#Correct the location of 'e||'\n",
    "dataset = []\n",
    "dataset_durations = []\n",
    "for i, song in enumerate(theChordDataset):\n",
    "    d = theDurationsDataset[i]\n",
    "    song, durations = xmlT.correct_coda_end(song, d)\n",
    "    dataset.append(song)\n",
    "    dataset_durations.append(durations)\n",
    "print(len(dataset), len(dataset_durations))"
   ]
  },
  {
   "cell_type": "code",
   "execution_count": 78,
   "metadata": {},
   "outputs": [
    {
     "name": "stdout",
     "output_type": "stream",
     "text": [
      "{'composer': 'Israel Houghton', 'style': 'Worship', 'song_name': 'Alpha And Omega', 'tonality': 'Db major', 'midi_key': 13, 'time_signature': '4/4', 'decade': 'Null'}\n",
      "165\n",
      "['<style>', 'Worship', 'Form_A', '|:', '.', '4.0', 'Db', 'major', '|', '.', '1.0', 'Ab', 'major', '/', 'C', '.', '1.0', 'Db', 'major', '.', '2.0', 'Eb', 'minor-seventh', '|', '.', '2.0', 'Db', 'major', '.', '2.0', 'Db', 'major', '/', 'F', '|', '.', '1.0', 'Gb', 'major', '.', '1.0', 'Eb', 'minor', '/', 'Gb', '.', '2.0', 'Eb', 'minor', '|', '.', '2.0', 'Db', 'major', '/', 'Ab', '.', '1.0', 'Db', 'major', '/', 'Ab', '.', '1.0', 'Bb', 'minor', '/', 'Ab', '|', '.', '1.0', 'Ab', 'major', '.', '1.0', 'Bb', 'minor', '.', '2.0', 'Ab', 'major', '/', 'C', '|', '.', '2.0', 'Db', 'major', '.', '1.0', 'C', 'minor-seventh', 'alter b5', '.', '1.0', 'F', 'dominant', 'Form_B', '|', '.', '4.0', 'Bb', 'minor', '|', '.', '2.0', 'Ab', 'major', '.', '2.0', 'Gb', 'major', '|', '.', '4.0', 'Db', 'major', '/', 'F', '|', '.', '1.0', 'Gb', 'major', '.', '1.0', 'Eb', 'minor', '/', 'Gb', '.', '2.0', 'Eb', 'minor', '|', '.', '4.0', 'Db', 'major', '/', 'Ab', '|', '.', '1.0', 'Ab', 'major', '.', '1.0', 'Bb', 'minor', '.', '1.0', 'Ab', 'major', '/', 'C', '.', '1.0', 'Ab', 'major', '|', '.', '4.0', 'Db', 'major']\n"
     ]
    }
   ],
   "source": [
    "id = 204\n",
    "print(all_meta[id])\n",
    "print(len(dataset[id]))\n",
    "print(dataset[id].tolist())"
   ]
  },
  {
   "cell_type": "code",
   "execution_count": 79,
   "metadata": {},
   "outputs": [
    {
     "name": "stderr",
     "output_type": "stream",
     "text": [
      "100%|██████████| 4005/4005 [00:01<00:00, 2202.65it/s]\n"
     ]
    }
   ],
   "source": [
    "'''\n",
    "This section expands the song following the rules of bar repetitions and coda endings\n",
    "'''\n",
    "importlib.reload(xmlT)\n",
    "\n",
    "id = 4\n",
    "expand_form_dataset = []\n",
    "expand_duration_dataset = []\n",
    "status = True\n",
    "for i in tqdm(range(len(dataset))):\n",
    "    song_structure, duration_structure, status = xmlT.expand_song_structure(dataset[i], dataset_durations[i], i, False)\n",
    "    if status == False:\n",
    "        print('Song:', all_meta[i])\n",
    "        id = i\n",
    "        break\n",
    "    song_structure = np.array(song_structure)\n",
    "    duration_structure = np.array(duration_structure)\n",
    "    expand_form_dataset.append(song_structure)\n",
    "    expand_duration_dataset.append(duration_structure)\n",
    "\n",
    "#Check if the dataset is correct\n",
    "for i in range(len(expand_form_dataset)):\n",
    "    if len(expand_form_dataset[i]) != len(expand_duration_dataset[i]):\n",
    "        print('Error in:', i)\n",
    "        break"
   ]
  },
  {
   "cell_type": "code",
   "execution_count": 80,
   "metadata": {},
   "outputs": [
    {
     "name": "stdout",
     "output_type": "stream",
     "text": [
      "['<style>' 'Ballad' '|:' '.' '2.0' 'G' 'major-ninth' '.' '2.0' 'E'\n",
      " 'minor-ninth' '|' '.' '2.0' 'Eb' 'major-seventh'\n",
      " 'add #11 add #9 alter #5' '.' '2.0' 'B' 'dominant'\n",
      " 'add #11 add #9 alter #5' '|' '.' '2.0' 'E' 'minor-ninth' '.' '2.0' 'A'\n",
      " 'dominant-13th' '|' '.' '1.0' 'Ab' 'major-ninth' '.' '1.0' 'Db'\n",
      " 'dominant-ninth' 'add #11 add #9' '.' '1.0' 'C' '.' '1.0' 'F' 'dominant'\n",
      " 'add #11 add #9' '|' '.' '2.0' 'E' 'major-ninth' '.' '2.0' 'A'\n",
      " 'dominant-13th' 'e||' '.' '2.0' 'D' 'major-seventh' '.' '2.0' 'B'\n",
      " 'minor-seventh' '|' '.' '2.0' 'Bb' 'major-seventh' '.' '2.0' 'Eb'\n",
      " 'dominant-ninth' 'add #11' '|' '.' '2.0' 'A' 'minor-seventh' '.' '2.0'\n",
      " 'D' 'dominant' ':|' 'Form_Coda' 'b||' '.' '2.0' 'D' 'major-seventh' '.'\n",
      " '2.0' 'B' 'minor-seventh' '|' '.' '2.0' 'Bb' 'major-seventh' '.' '2.0'\n",
      " 'Eb' 'dominant-ninth' 'add #11']\n",
      "Song: 2503 \n",
      "Length of sequence: 107\n",
      "Process completed successfully.. New form length: 191\n",
      "-----------------------------\n",
      "\n",
      "['<style>', 'Ballad', '|', '.', '2.0', 'G', 'major-ninth', '.', '2.0', 'E', 'minor-ninth', '|', '.', '2.0', 'Eb', 'major-seventh', 'add #11 add #9 alter #5', '.', '2.0', 'B', 'dominant', 'add #11 add #9 alter #5', '|', '.', '2.0', 'E', 'minor-ninth', '.', '2.0', 'A', 'dominant-13th', '|', '.', '1.0', 'Ab', 'major-ninth', '.', '1.0', 'Db', 'dominant-ninth', 'add #11 add #9', '.', '1.0', 'C', '.', '1.0', 'F', 'dominant', 'add #11 add #9', '|', '.', '2.0', 'E', 'major-ninth', '.', '2.0', 'A', 'dominant-13th', 'e||', '.', '2.0', 'D', 'major-seventh', '.', '2.0', 'B', 'minor-seventh', '|', '.', '2.0', 'Bb', 'major-seventh', '.', '2.0', 'Eb', 'dominant-ninth', 'add #11', '|', '.', '2.0', 'A', 'minor-seventh', '.', '2.0', 'D', 'dominant', '|', '.', '2.0', 'G', 'major-ninth', '.', '2.0', 'E', 'minor-ninth', '|', '.', '2.0', 'Eb', 'major-seventh', 'add #11 add #9 alter #5', '.', '2.0', 'B', 'dominant', 'add #11 add #9 alter #5', '|', '.', '2.0', 'E', 'minor-ninth', '.', '2.0', 'A', 'dominant-13th', '|', '.', '1.0', 'Ab', 'major-ninth', '.', '1.0', 'Db', 'dominant-ninth', 'add #11 add #9', '.', '1.0', 'C', '.', '1.0', 'F', 'dominant', 'add #11 add #9', '|', '.', '2.0', 'E', 'major-ninth', '.', '2.0', 'A', 'dominant-13th', 'e||', '.', '2.0', 'D', 'major-seventh', '.', '2.0', 'B', 'minor-seventh', '|', '.', '2.0', 'Bb', 'major-seventh', '.', '2.0', 'Eb', 'dominant-ninth', 'add #11', '|', '.', '2.0', 'A', 'minor-seventh', '.', '2.0', 'D', 'dominant', '|', 'Form_Coda', 'b||', '.', '2.0', 'D', 'major-seventh', '.', '2.0', 'B', 'minor-seventh', '|', '.', '2.0', 'Bb', 'major-seventh', '.', '2.0', 'Eb', 'dominant-ninth', 'add #11']\n"
     ]
    }
   ],
   "source": [
    "id = 2503\n",
    "test_this = dataset[id]\n",
    "durations = dataset_durations[id]\n",
    "print(test_this)\n",
    "\n",
    "song, duration, status = xmlT.expand_song_structure(test_this, durations, id, True)\n",
    "\n",
    "print(song)"
   ]
  },
  {
   "cell_type": "code",
   "execution_count": 81,
   "metadata": {},
   "outputs": [],
   "source": [
    "#Replace the 'e||' with '|' and 'b||' with '|'\n",
    "for i, song in enumerate(expand_form_dataset):\n",
    "    for j, e in enumerate(song):\n",
    "        if e == 'e||':\n",
    "            expand_form_dataset[i][j] = '|'\n",
    "        elif e == 'b||':\n",
    "            expand_form_dataset[i][j] = '|'"
   ]
  },
  {
   "cell_type": "code",
   "execution_count": 82,
   "metadata": {},
   "outputs": [
    {
     "name": "stdout",
     "output_type": "stream",
     "text": [
      "['<style>', 'Samba', '|', '.', '2.0', 'C', 'major-ninth', '.', '2.0', 'E', 'major', '|', '.', '2.0', 'E', 'suspended-fourth', '.', '2.0', 'E', 'major', '|', '.', '2.0', 'C', 'major-ninth', '.', '2.0', 'E', 'major', '|', '.', '2.0', 'E', 'suspended-fourth', '.', '2.0', 'E', 'major', '|', '.', '2.0', 'D', 'minor', '.', '2.0', 'D', 'minor', 'alter #5', '|', '.', '2.0', 'D', 'minor-sixth', '.', '2.0', 'D', 'minor', 'alter #5', '|', '.', '2.0', 'D', 'minor', '.', '2.0', 'D', 'minor', 'alter #5', '|', '.', '2.0', 'D', 'minor-sixth', '.', '2.0', 'D', 'minor', 'alter #5', '|', '.', '4.0', 'G', 'minor-ninth', '|', '.', '4.0', 'C', 'dominant-ninth', '|', '.', '4.0', 'G', 'minor-ninth', '|', '.', '4.0', 'C', 'dominant-ninth', '|', '.', '4.0', 'F', 'major-ninth', '|', '.', '4.0', 'F', 'major-sixth', 'add 9', '|', '.', '4.0', 'F#', 'minor-seventh', 'alter b5', '|', '.', '4.0', 'B', 'dominant', 'add b9 alter #5', '|', '.', '2.0', 'E', 'major-ninth', '.', '2.0', 'E', 'major-sixth', 'add 9', '|', '.', '2.0', 'F', 'minor-seventh', 'alter b5 alter #5', '.', '2.0', 'Bb', 'dominant', 'alter b5 alter #5', '|', '.', '4.0', 'Eb', 'major-seventh', '|', '.', '2.0', 'E', 'minor-seventh', 'alter b5 alter #5', '.', '2.0', 'A', 'dominant', 'alter b5 alter #5', '|', '.', '4.0', 'D', 'major-seventh', '|', '.', '2.0', 'A', 'minor-11th', '.', '2.0', 'D', 'dominant', 'add b9', '|', '.', '4.0', 'G', 'major-13th', '|', '.', '4.0', 'C', 'dominant-ninth', 'add #11', '|', '.', '4.0', 'D', 'major-seventh', '|', '.', '2.0', 'A', 'minor-11th', '.', '2.0', 'D', 'dominant', 'add b9', '|', '.', '4.0', 'G', 'major-13th', '|', '.', '4.0', 'C', 'dominant-ninth', 'add #11', '|', '.', '4.0', 'C', 'dominant-ninth', 'add #11', '|', '.', '4.0', 'C', 'dominant-ninth', 'add #11', '|', '.', '4.0', 'E', 'minor-ninth', '|', '.', '2.0', 'G', 'minor-seventh', '.', '2.0', 'A', 'dominant-ninth', 'add 4 subtract 3', '|', '.', '2.0', 'D', 'major-ninth', '.', '2.0', 'D', 'major-sixth', 'add 9', '|', '.', '2.0', 'F#', 'minor-seventh', 'alter b5', '.', '2.0', 'B', 'dominant-13th', '|', '.', '4.0', 'E', 'major-ninth', '|', '.', '4.0', 'G', 'dominant-ninth', '|', '.', '4.0', 'F#', 'minor-11th', '|', '.', '4.0', 'G', 'dominant-ninth', '|', '.', '4.0', 'F#', 'minor-11th', '|', '.', '4.0', 'G', 'dominant-ninth', '|', '.', '4.0', 'F#', 'minor-11th', 'Form_Coda', '|', '.', '2.0', 'C', 'major-ninth', '.', '2.0', 'E', 'major', '|', '.', '2.0', 'E', 'suspended-fourth', '.', '2.0', 'E', 'major', '|', '.', '2.0', 'C', 'major-ninth', '.', '2.0', 'E', 'major', '|', '.', '2.0', 'E', 'suspended-fourth', '.', '2.0', 'E', 'major', '|', '.', '2.0', 'D', 'minor', '.', '2.0', 'D', 'minor', 'alter #5', '|', '.', '2.0', 'D', 'minor-sixth', '.', '2.0', 'D', 'minor', 'alter #5', '|', '.', '2.0', 'D', 'minor', '.', '2.0', 'D', 'minor', 'alter #5', '|', '.', '2.0', 'D', 'minor-sixth', '.', '2.0', 'D', 'minor', 'alter #5', '|', '.', '4.0', 'G', 'minor-ninth', '|', '.', '4.0', 'C', 'dominant-ninth', '|', '.', '4.0', 'G', 'minor-ninth', '|', '.', '4.0', 'C', 'dominant-ninth', '|', '.', '4.0', 'F', 'major-ninth', '|', '.', '4.0', 'F', 'major-sixth', 'add 9', '|', '.', '4.0', 'F#', 'minor-seventh', 'alter b5', '|', '.', '4.0', 'B', 'dominant', 'add b9 alter #5', '|', '.', '2.0', 'E', 'major-ninth', '.', '2.0', 'E', 'major-sixth', 'add 9', '|', '.', '2.0', 'F', 'minor-seventh', 'alter b5 alter #5', '.', '2.0', 'Bb', 'dominant', 'alter b5 alter #5', '|', '.', '4.0', 'Eb', 'major-seventh', '|', '.', '2.0', 'E', 'minor-seventh', 'alter b5 alter #5', '.', '2.0', 'A', 'dominant', 'alter b5 alter #5', '|', '.', '4.0', 'D', 'major-seventh', '|', '.', '2.0', 'A', 'minor-11th', '.', '2.0', 'D', 'dominant', 'add b9', '|', '.', '4.0', 'G', 'major-13th', '|', '.', '4.0', 'C', 'dominant-ninth', 'add #11', '|', '.', '4.0', 'D', 'major-seventh', '|', '.', '2.0', 'A', 'minor-11th', '.', '2.0', 'D', 'dominant', 'add b9', '|', '.', '4.0', 'G', 'major-13th', '|', '.', '4.0', 'C', 'dominant-ninth', 'add #11', '|', '.', '4.0', 'C', 'dominant-ninth', 'add #11', '|', '.', '4.0', 'C', 'dominant-ninth', 'add #11', '|', '.', '4.0', 'E', 'minor-ninth', '|', '.', '2.0', 'G', 'minor-seventh', '.', '2.0', 'A', 'dominant-ninth', 'add 4 subtract 3', '|', '.', '2.0', 'D', 'major-ninth', '.', '2.0', 'D', 'major-sixth', 'add 9', '|', '.', '2.0', 'F#', 'minor-seventh', 'alter b5', '.', '2.0', 'B', 'dominant-13th', '|', '.', '4.0', 'E', 'major-ninth', '|', '.', '4.0', 'G', 'dominant-ninth', '|', '.', '4.0', 'F#', 'minor-11th', '|', '.', '4.0', 'G', 'dominant-ninth', '|', '.', '4.0', 'F#', 'minor-11th', '|', '.', '4.0', 'G', 'dominant-ninth', '|', '.', '4.0', 'F#', 'minor-11th', 'Form_Coda', 'b||', '.', '2.0', 'G', 'suspended-fourth', '.', '2.0', 'G', 'dominant', 'add #11', '|', '.', '2.0', 'G', 'dominant', '.', '2.0', 'G', 'dominant', 'add #11', '|', '.', '2.0', 'G', 'suspended-fourth', '.', '2.0', 'G', 'dominant', 'add #11', '|', '.', '1.3333333333333333', 'G', 'dominant', '.', '1.3333333333333333', 'G', 'dominant', 'add #11 add b9 alter #5', '.', '1.3333333333333333', 'G', 'dominant', 'add #11 add b9 alter #5']\n"
     ]
    }
   ],
   "source": [
    "sub_sections = dataset[4005:4006]\n",
    "sub_durations = dataset_durations[4005:4006]\n",
    "for i in range(len(sub_sections)):\n",
    "    a,b,s = xmlT.expand_song_structure(sub_sections[i], sub_durations[i], i, True)\n",
    "print(a)"
   ]
  },
  {
   "cell_type": "code",
   "execution_count": 83,
   "metadata": {},
   "outputs": [
    {
     "data": {
      "text/plain": [
       "'\\nUnify chord and duration into a tuple as good friends\\n'"
      ]
     },
     "execution_count": 83,
     "metadata": {},
     "output_type": "execute_result"
    }
   ],
   "source": [
    "'''\n",
    "Unify chord and duration into a tuple as good friends\n",
    "'''\n",
    "\n",
    "# dataset = []\n",
    "# for chords_values, durations_values in zip(expand_form_dataset, expand_duration_dataset):\n",
    "#     coupled = list(zip(chords_values, durations_values))\n",
    "#     dataset.append(coupled)    "
   ]
  },
  {
   "cell_type": "code",
   "execution_count": 84,
   "metadata": {},
   "outputs": [
    {
     "name": "stderr",
     "output_type": "stream",
     "text": [
      "100%|██████████| 4005/4005 [00:06<00:00, 589.00it/s]\n"
     ]
    }
   ],
   "source": [
    "#correct the wrong chords\n",
    "importlib.reload(xmlT)\n",
    "\n",
    "corrected_sequence = xmlT.replaceTheseChords(dataset, False)"
   ]
  },
  {
   "cell_type": "code",
   "execution_count": 85,
   "metadata": {},
   "outputs": [
    {
     "name": "stdout",
     "output_type": "stream",
     "text": [
      "And What If I Don't\n"
     ]
    },
    {
     "name": "stderr",
     "output_type": "stream",
     "text": [
      "100%|██████████| 4005/4005 [00:00<00:00, 5917.66it/s]"
     ]
    },
    {
     "name": "stdout",
     "output_type": "stream",
     "text": [
      "4005\n",
      "['<style>', 'Medium Swing', 'Form_A', '|:', '.', '2.0', 'Eb', 'dom7', '.', '2.0', 'Bb', 'dom7', '|', '.', '4.0', 'Eb', 'dom7', '|', '.', '4.0', 'C', 'm', '|', '.', '4.0', 'C', 'm', '|', '.', '4.0', 'Eb', 'dom7', '|', '.', '4.0', 'Ab', 'dom7', '|', 'Repeat_1', '.', '4.0', 'F', 'm', '|', '.', '4.0', 'F', 'm', '/', 'Bb', ':|', '|', 'Repeat_2', '.', '2.0', 'F', 'm', '.', '2.0', 'Bb', 'dom7', '|', '.', '4.0', 'Eb', 'dom7', 'Form_B', '|', '.', '4.0', 'G', 'dom7', '|', '.', '4.0', 'G', 'dom7', '|', '.', '4.0', 'C', 'dom7', '|', '.', '4.0', 'C', 'dom7', '|', '.', '4.0', 'F', 'dom7', '|', '.', '4.0', 'F', 'dom7', '|', '.', '4.0', 'Bb', 'dom7', '|', '.', '4.0', 'Bb', 'dom7', 'Form_A', '|', '.', '2.0', 'Eb', 'dom7', '.', '2.0', 'Bb', 'dom7', '|', '.', '4.0', 'Eb', 'dom7', '|', '.', '4.0', 'C', 'm', '|', '.', '4.0', 'C', 'm', '|', '.', '4.0', 'Eb', 'dom7', '|', '.', '4.0', 'Ab', 'dom7', '|', '.', '4.0', 'F', 'm', '|', '.', '4.0', 'F', 'm', '/', 'Bb']\n"
     ]
    },
    {
     "name": "stderr",
     "output_type": "stream",
     "text": [
      "\n"
     ]
    }
   ],
   "source": [
    "#Add the maj token to those single notes that are not clarified.\n",
    "import voicing as vc\n",
    "voicing = vc.Voicing()\n",
    "new_dataset = []\n",
    "id = 256\n",
    "#id = 2686\n",
    "name = all_meta[id]['song_name']\n",
    "\n",
    "print(name)\n",
    "\n",
    "for x, song in enumerate(tqdm(corrected_sequence)):\n",
    "    sequence = []\n",
    "    for i, chord in enumerate(song):\n",
    "        sequence.append(chord)\n",
    "        #chord = item[0]\n",
    "        #duration = item[1]\n",
    "        next = ''\n",
    "        if i < len(song) - 1:\n",
    "            next = song[i + 1]\n",
    "            previous = song[i - 1]\n",
    "            if chord in voicing.all_notes and next != 'N.C.' and previous != '/' and (next in voicing.structural_elements or next.startswith('Form_')):\n",
    "                sequence.append('maj')\n",
    "                #print(x, 'Added Maj to:', chord, 'at position:', i)\n",
    "        elif i == len(song) - 1:\n",
    "            previous = song[i - 1]\n",
    "            if chord in voicing.all_notes and previous != '/':\n",
    "                sequence.append('maj')\n",
    "                #print(x, 'Added Maj to:', chord, 'at position:', i)\n",
    "    new_dataset.append(sequence)\n",
    "    \n",
    "print(len(new_dataset))\n",
    "print(new_dataset[id])\n",
    "# for e in new_dataset:\n",
    "#     for a in e:\n",
    "#         print(a)"
   ]
  },
  {
   "cell_type": "code",
   "execution_count": 86,
   "metadata": {},
   "outputs": [
    {
     "name": "stdout",
     "output_type": "stream",
     "text": [
      "4005\n",
      "['<style>', 'Medium Swing', '|:', '.', '4.0', 'Eb', 'maj', '|', '.', '4.0', 'Eb', 'maj', '|', '.', '4.0', 'E', 'o', '|', '.', '4.0', 'E', 'o', '|', '.', '4.0', 'F', 'm7', '|', '.', '4.0', 'Bb', 'dom7', '|', '.', '4.0', 'Eb', 'maj', '|', 'Repeat_1', '.', '4.0', 'Eb', 'maj', ':|', '|', 'Repeat_2', '.', '2.0', 'A', 'm7', '.', '2.0', 'D', 'dom7', '|', '.', '4.0', 'G', 'maj', '|', '.', '2.0', 'A', 'm7', '.', '2.0', 'D', 'dom7', '|', '.', '4.0', 'G', 'maj', '|', '.', '2.0', 'A', 'm7', '.', '2.0', 'D', 'dom7', '|', '.', '4.0', 'G', 'm7', '|', '.', '4.0', 'C', 'dom7', '|', '.', '4.0', 'F', 'dom7', '|', '.', '4.0', 'Bb', 'dom7', '|', '.', '4.0', 'Eb', 'maj', '|', '.', '4.0', 'Eb', 'maj', '|', '.', '4.0', 'Gb', 'o', '|', '.', '4.0', 'Gb', 'o', '|', '.', '4.0', 'F', 'm7', '|', '.', '4.0', 'Bb', 'dom7', '|', 'Repeat_0', '.', '4.0', 'Eb', 'maj', '|', '.', '4.0', 'Eb', 'maj', ':|', '|', 'Repeat_0', '.', '4.0', 'G', 'm7', '|', '.', '4.0', 'C', 'dom7', '|', '.', '4.0', 'F', 'm7', '|', '.', '4.0', 'Bb', 'dom7', '|', '.', '4.0', 'Eb', 'maj', '|', '.', '4.0', 'Eb', 'maj']\n"
     ]
    }
   ],
   "source": [
    "#clean the elements that are ''\n",
    "dataset = [[tup for tup in inner_list if tup != ''] for inner_list in new_dataset]\n",
    "\n",
    "print(len(dataset))\n",
    "print(dataset[0])\n",
    "\n",
    "for song in dataset:\n",
    "    for i, e in enumerate(song):\n",
    "        if e[0] == '':\n",
    "            print(song)\n",
    "            print(i)\n",
    "            break"
   ]
  },
  {
   "cell_type": "code",
   "execution_count": 87,
   "metadata": {},
   "outputs": [
    {
     "name": "stderr",
     "output_type": "stream",
     "text": [
      "  0%|          | 0/4005 [00:00<?, ?it/s]"
     ]
    },
    {
     "name": "stderr",
     "output_type": "stream",
     "text": [
      "100%|██████████| 4005/4005 [00:00<00:00, 13768.42it/s]\n"
     ]
    }
   ],
   "source": [
    "importlib.reload(xmlT)\n",
    "'''\n",
    "This section is important to define a more concise format and tokenization.\n",
    "Fix the format of extensions to avoid repeated elements\n",
    "'''\n",
    "\n",
    "xmlT.fix_extensions(dataset)"
   ]
  },
  {
   "cell_type": "code",
   "execution_count": 88,
   "metadata": {},
   "outputs": [
    {
     "name": "stdout",
     "output_type": "stream",
     "text": [
      "222\n",
      "['.' '/' '0.3997395833333333' '0.4440104166666667' '0.5' '0.5703125'\n",
      " '0.6666666666666666' '0.75' '0.7994791666666666' '0.8880208333333334'\n",
      " '1.0' '1.1419270833333333' '1.3333333333333333' '1.5'\n",
      " '1.5989583333333333' '1.7135416666666667' '128 Feel' '2.0' '2.25'\n",
      " '2.3997395833333335' '2.6666666666666665' '3.0' '4.0' ':|' '<style>' 'A'\n",
      " 'A#' 'Ab' 'Afoxe' 'Afoxé' 'Afoxé-Samba' 'Afro' 'Afro-Samba' 'B' 'Baião'\n",
      " 'Ballad' 'Bb' 'Beatles' 'Blues' 'Blues Pop' 'Blues Rock' 'Blues Shuffle'\n",
      " 'Bolero' 'Bolero-Cha' 'Bolero-Son' 'Bossa Acoustic' 'Bossa Nova'\n",
      " 'Bright Shuffle Blues' 'C' 'C#' 'Calypso' 'Cb' 'Cha Cha' 'Chacarera'\n",
      " 'Choro' 'Choro - Samba' 'Country Ballad' 'Country Blues' 'Cuban Son' 'D'\n",
      " 'D#' 'Db' 'Deliberately' 'Disco' 'Disco Funk' 'Dreamlike' 'E' 'Eb'\n",
      " 'Electro Pop' 'Even 16ths' \"Even 8's\" \"Even 8th's\" 'Even 8ths' 'F' 'F#'\n",
      " 'Fast Blues' 'Fast Swing' 'Folk' 'Folk Ballad' 'Folk Rock' 'Folk-Rock'\n",
      " 'Form_A' 'Form_B' 'Form_C' 'Form_Coda' 'Form_D' 'Form_Segno' 'Form_intro'\n",
      " 'Form_verse' 'Forró' 'Foxtrot' 'Frevo' 'Funk' 'Funk Jazz' 'Funk Rock'\n",
      " 'Fusion' 'G' 'G#' 'Gary Aprile' 'Gb' 'Gospel Ballad' 'Gypsy Bossa'\n",
      " 'Gypsy Swing' 'Gypsy Waltz' 'Hymn' 'Jazz' 'Latin' 'Latin-Swing' 'Mambo'\n",
      " 'March' 'Marchinha' 'Maxixe' 'Med Up Latin' 'Medium Ballad'\n",
      " 'Medium Blues' 'Medium Country' 'Medium Funk' 'Medium Pop' 'Medium Rock'\n",
      " 'Medium Shuffle' 'Medium Slow' 'Medium Swing' 'Medium Up'\n",
      " 'Medium Up Swing' 'Medium Waltz' 'Merengue' 'Moderate Latin' 'Moderately'\n",
      " 'Montuno' 'Musical' 'N.C.' 'Pop' 'Pop Ballad' 'Pop Folk' 'Pop Rock'\n",
      " 'Pop Shuffle' 'Pop jazz' 'Pop-Shuffle' 'Power Ballad' \"R'n'B\" 'Reggae'\n",
      " 'Reggae Pop' 'Repeat_0' 'Repeat_1' 'Repeat_2' 'Repeat_3' 'RnB' 'Rock'\n",
      " 'Rock Ballad' 'Rock Blues' 'Rock Pop' 'Rock Slow' 'Rock Waltz'\n",
      " \"Rock'n'Roll\" 'Rock-Folk' 'Rock/Hip Hop' 'Rock/Reggae' 'Salsa' 'Samba'\n",
      " 'Samba Enredo' 'Samba Funk' 'Samba Reggae' 'Samba-Funk' 'Samba-Rock'\n",
      " 'Shuffle' 'Shuffle Blues' 'Slow Ballad' 'Slow Blues' 'Slow Bossa'\n",
      " 'Slow Rock' 'Slow Shuffle' 'Slow Swing' 'Slowly' 'Son' 'Soul'\n",
      " 'Soul Ballad' 'Tango' 'Traditional Gospel' 'UP Swing' 'Up Samba'\n",
      " 'Up Swing' 'Up Tempo' 'Up Tempo Swing' 'Up Waltz (One Feel)' 'Waltz'\n",
      " 'Worship' 'add #11' 'add #5' 'add #7' 'add #9' 'add 11' 'add 13' 'add 2'\n",
      " 'add 7' 'add 9' 'add b13' 'add b6' 'add b9' 'alter #11' 'alter #5'\n",
      " 'alter #9' 'alter b5' 'alter b9' 'aug' 'b||' 'dom7' 'e||' 'm' 'm6' 'm7'\n",
      " 'maj' 'maj6' 'maj7' 'major-13th' 'o' 'o7' 'o_maj7' 'power' 'sus4' 'sus7'\n",
      " '|' '|:']\n"
     ]
    }
   ],
   "source": [
    "#Check vocabulary\n",
    "vocab = np.unique(np.concatenate(dataset))\n",
    "\n",
    "print(len(vocab))\n",
    "print(np.array(vocab))"
   ]
  },
  {
   "cell_type": "code",
   "execution_count": 89,
   "metadata": {},
   "outputs": [
    {
     "name": "stderr",
     "output_type": "stream",
     "text": [
      "100%|██████████| 4005/4005 [00:00<00:00, 6891.44it/s]"
     ]
    },
    {
     "name": "stdout",
     "output_type": "stream",
     "text": [
      "['<', 'M', '|', '.', '4', 'E', 'm', '|', '.', '4', 'E', 'm', '|', '.', '4', 'E', 'o', '|', '.', '4', 'E', 'o', '|', '.', '4', 'F', 'm', '|', '.', '4', 'B', 'd', '|', '.', '4', 'E', 'm', '|', 'R', '.', '4', 'E', 'm', ':', '|', 'R', '.', '2', 'A', 'm', '.', '2', 'D', 'd', '|', '.', '4', 'G', 'm', '|', '.', '2', 'A', 'm', '.', '2', 'D', 'd', '|', '.', '4', 'G', 'm', '|', '.', '2', 'A', 'm', '.', '2', 'D', 'd', '|', '.', '4', 'G', 'm', '|', '.', '4', 'C', 'd', '|', '.', '4', 'F', 'd', '|', '.', '4', 'B', 'd', '|', '.', '4', 'E', 'm', '|', '.', '4', 'E', 'm', '|', '.', '4', 'G', 'o', '|', '.', '4', 'G', 'o', '|', '.', '4', 'F', 'm', '|', '.', '4', 'B', 'd', '|', 'R', '.', '4', 'E', 'm', '|', '.', '4', 'E', 'm', ':', '|', 'R', '.', '4', 'G', 'm', '|', '.', '4', 'C', 'd', '|', '.', '4', 'F', 'm', '|', '.', '4', 'B', 'd', '|', '.', '4', 'E', 'm', '|', '.', '4', 'E', 'm']\n"
     ]
    },
    {
     "name": "stderr",
     "output_type": "stream",
     "text": [
      "\n"
     ]
    }
   ],
   "source": [
    "'''\n",
    "Find duplicated 'add' or 'alter' elements and remove them to clean the tokenization method\n",
    "'''\n",
    "\n",
    "def correctDuplicatedExtensions(sequence):\n",
    "    structural_elements = {'.', '|', ':|', '|:', '/', 'N.C.'}\n",
    "\n",
    "    for x, song in enumerate(tqdm(sequence)):\n",
    "        for y, item in enumerate(song):\n",
    "            #e = item[0]\n",
    "            if '.' in item:\n",
    "                search = True\n",
    "                stepper = y + 2\n",
    "                check_extensions = []\n",
    "                while search:\n",
    "                    if (stepper) >= len(song):\n",
    "                        search = False\n",
    "                        #print('End of song')\n",
    "                        break\n",
    "                    elif stepper < len(song) - 1:\n",
    "                        element = song[stepper]\n",
    "            \n",
    "                    if element in structural_elements or element.startswith('Form_'):\n",
    "                        search = False\n",
    "                    else:\n",
    "                        if element not in check_extensions:\n",
    "                            check_extensions.append(element)\n",
    "                        elif stepper < len(song)-1:\n",
    "                            #print('Duplicated:', x, stepper, element, check_extensions)\n",
    "                            song.pop(stepper)\n",
    "                        stepper += 1\n",
    "                if len(check_extensions) > 2:\n",
    "                    continue\n",
    "                    print(x, y+stepper, check_extensions)\n",
    "                \n",
    "correctDuplicatedExtensions(dataset)\n",
    "id = 0\n",
    "strings_array = [item[0] for item in dataset[id] if item[0] != '']\n",
    "print(strings_array)"
   ]
  },
  {
   "cell_type": "code",
   "execution_count": 90,
   "metadata": {},
   "outputs": [
    {
     "name": "stdout",
     "output_type": "stream",
     "text": [
      "32 167 ['dom7', 'sus7', 'add b9'] to remove: dom7\n",
      "165 dom7 dom7\n",
      "32 172 ['dom7', 'sus7', 'add b9'] to remove: dom7\n",
      "170 dom7 dom7\n",
      "158 42 ['dom7', 'add 9', 'sus7'] to remove: sus7\n",
      "42 sus7 sus7\n",
      "158 48 ['dom7', 'sus7', 'add b9'] to remove: dom7\n",
      "46 dom7 dom7\n",
      "158 158 ['dom7', 'add 9', 'sus7'] to remove: sus7\n",
      "158 sus7 sus7\n",
      "158 164 ['dom7', 'sus7', 'add b9'] to remove: dom7\n",
      "162 dom7 dom7\n",
      "250 103 ['dom7', 'sus7', 'add b9'] to remove: dom7\n",
      "101 dom7 dom7\n",
      "250 299 ['dom7', 'sus7', 'add b9'] to remove: dom7\n",
      "297 dom7 dom7\n",
      "287 197 ['dom7', 'sus7', 'add b9'] to remove: dom7\n",
      "195 dom7 dom7\n",
      "288 197 ['dom7', 'sus7', 'add b9'] to remove: dom7\n",
      "195 dom7 dom7\n",
      "291 9 ['dom7', 'sus7', 'add b9'] to remove: dom7\n",
      "7 dom7 dom7\n",
      "291 206 ['dom7', 'sus7', 'add b9'] to remove: dom7\n",
      "204 dom7 dom7\n",
      "292 167 ['dom7', 'sus7', 'add b9'] to remove: dom7\n",
      "165 dom7 dom7\n",
      "313 103 ['dom7', 'sus7', 'add b9'] to remove: dom7\n",
      "101 dom7 dom7\n",
      "313 109 ['dom7', 'sus7', 'add b9'] to remove: dom7\n",
      "107 dom7 dom7\n",
      "314 103 ['dom7', 'sus7', 'add b9'] to remove: dom7\n",
      "101 dom7 dom7\n",
      "314 109 ['dom7', 'sus7', 'add b9'] to remove: dom7\n",
      "107 dom7 dom7\n",
      "824 162 ['dom7', 'add 9', 'sus7'] to remove: sus7\n",
      "162 sus7 sus7\n",
      "824 168 ['dom7', 'sus7', 'add b9'] to remove: dom7\n",
      "166 dom7 dom7\n",
      "1071 133 ['dom7', 'add 13', 'sus7'] to remove: sus7\n",
      "133 sus7 sus7\n",
      "1071 139 ['dom7', 'add 13', 'sus7'] to remove: sus7\n",
      "139 sus7 sus7\n",
      "1071 158 ['dom7', 'add 13', 'sus7'] to remove: sus7\n",
      "158 sus7 sus7\n",
      "1071 164 ['dom7', 'add 13', 'sus7'] to remove: sus7\n",
      "164 sus7 sus7\n",
      "1071 365 ['dom7', 'add 13', 'sus7'] to remove: sus7\n",
      "365 sus7 sus7\n",
      "1071 371 ['dom7', 'add 13', 'sus7'] to remove: sus7\n",
      "371 sus7 sus7\n",
      "1071 484 ['dom7', 'add 13', 'sus7'] to remove: sus7\n",
      "484 sus7 sus7\n",
      "1071 490 ['dom7', 'add 13', 'sus7'] to remove: sus7\n",
      "490 sus7 sus7\n",
      "1081 69 ['dom7', 'add 9', 'sus7'] to remove: sus7\n",
      "69 sus7 sus7\n",
      "1081 75 ['dom7', 'sus7', 'add b9'] to remove: dom7\n",
      "73 dom7 dom7\n",
      "1081 129 ['dom7', 'add 13', 'sus7'] to remove: sus7\n",
      "129 sus7 sus7\n",
      "1081 135 ['dom7', 'sus7', 'add b9'] to remove: dom7\n",
      "133 dom7 dom7\n",
      "1110 333 ['dom7', 'sus7', 'add b9'] to remove: dom7\n",
      "331 dom7 dom7\n",
      "1110 341 ['dom7', 'sus7', 'add b9'] to remove: dom7\n",
      "339 dom7 dom7\n",
      "1110 348 ['dom7', 'sus7', 'add b9'] to remove: dom7\n",
      "346 dom7 dom7\n",
      "1268 129 ['dom7', 'add 13', 'sus4'] to remove: sus4\n",
      "129 sus4 sus4\n",
      "1268 135 ['dom7', 'add 13', 'sus4'] to remove: sus4\n",
      "135 sus4 sus4\n",
      "1873 9 ['dom7', 'sus7', 'add b9'] to remove: dom7\n",
      "7 dom7 dom7\n",
      "1873 15 ['dom7', 'sus7', 'add b9'] to remove: dom7\n",
      "13 dom7 dom7\n",
      "1873 21 ['dom7', 'sus7', 'add b9'] to remove: dom7\n",
      "19 dom7 dom7\n",
      "1873 27 ['dom7', 'sus7', 'add b9'] to remove: dom7\n",
      "25 dom7 dom7\n",
      "1873 35 ['dom7', 'sus7', 'add b9'] to remove: dom7\n",
      "33 dom7 dom7\n",
      "1873 41 ['dom7', 'sus7', 'add b9'] to remove: dom7\n",
      "39 dom7 dom7\n",
      "1873 47 ['dom7', 'sus7', 'add b9'] to remove: dom7\n",
      "45 dom7 dom7\n",
      "1873 53 ['dom7', 'sus7', 'add b9'] to remove: dom7\n",
      "51 dom7 dom7\n",
      "1873 59 ['dom7', 'sus7', 'add b9'] to remove: dom7\n",
      "57 dom7 dom7\n",
      "1873 65 ['dom7', 'sus7', 'add b9'] to remove: dom7\n",
      "63 dom7 dom7\n",
      "1873 71 ['dom7', 'sus7', 'add b9'] to remove: dom7\n",
      "69 dom7 dom7\n",
      "1873 77 ['dom7', 'sus7', 'add b9'] to remove: dom7\n",
      "75 dom7 dom7\n",
      "1873 129 ['dom7', 'sus7', 'add b9'] to remove: dom7\n",
      "127 dom7 dom7\n",
      "1873 135 ['dom7', 'sus7', 'add b9'] to remove: dom7\n",
      "133 dom7 dom7\n",
      "1873 141 ['dom7', 'sus7', 'add b9'] to remove: dom7\n",
      "139 dom7 dom7\n",
      "1873 147 ['dom7', 'sus7', 'add b9'] to remove: dom7\n",
      "145 dom7 dom7\n",
      "1873 153 ['dom7', 'sus7', 'add b9'] to remove: dom7\n",
      "151 dom7 dom7\n",
      "1873 159 ['dom7', 'sus7', 'add b9'] to remove: dom7\n",
      "157 dom7 dom7\n",
      "1873 165 ['dom7', 'sus7', 'add b9'] to remove: dom7\n",
      "163 dom7 dom7\n",
      "1984 164 ['dom7', 'add 9', 'sus7'] to remove: sus7\n",
      "164 sus7 sus7\n",
      "1984 170 ['dom7', 'sus7', 'add b9'] to remove: dom7\n",
      "168 dom7 dom7\n",
      "1997 56 ['dom7', 'add 9', 'sus7'] to remove: sus7\n",
      "56 sus7 sus7\n",
      "1997 61 ['dom7', 'add 13', 'sus7'] to remove: sus7\n",
      "61 sus7 sus7\n",
      "2082 13 ['dom7', 'sus7', 'add b9'] to remove: dom7\n",
      "11 dom7 dom7\n",
      "2082 18 ['dom7', 'sus7', 'add b9'] to remove: dom7\n",
      "16 dom7 dom7\n",
      "2082 190 ['dom7', 'add 13', 'sus7'] to remove: sus7\n",
      "190 sus7 sus7\n",
      "2164 167 ['dom7', 'sus7', 'add b9'] to remove: dom7\n",
      "165 dom7 dom7\n",
      "2164 172 ['dom7', 'sus7', 'add b9'] to remove: dom7\n",
      "170 dom7 dom7\n",
      "2201 131 ['dom7', 'add 9', 'sus7'] to remove: sus7\n",
      "131 sus7 sus7\n",
      "2201 137 ['dom7', 'sus7', 'add b9'] to remove: dom7\n",
      "135 dom7 dom7\n",
      "2201 155 ['dom7', 'add 13', 'sus7'] to remove: sus7\n",
      "155 sus7 sus7\n",
      "2201 161 ['dom7', 'sus7', 'add b9'] to remove: dom7\n",
      "159 dom7 dom7\n",
      "2201 284 ['dom7', 'add 13', 'sus7'] to remove: sus7\n",
      "284 sus7 sus7\n",
      "2201 290 ['dom7', 'sus7', 'add b9'] to remove: dom7\n",
      "288 dom7 dom7\n",
      "2201 365 ['dom7', 'add 9', 'sus7'] to remove: sus7\n",
      "365 sus7 sus7\n",
      "2201 371 ['dom7', 'sus7', 'add b9'] to remove: dom7\n",
      "369 dom7 dom7\n",
      "2201 388 ['dom7', 'add 13', 'sus4'] to remove: sus4\n",
      "388 sus4 sus4\n",
      "2201 394 ['dom7', 'add 13', 'sus4'] to remove: sus4\n",
      "394 sus4 sus4\n",
      "2238 39 ['dom7', 'sus7', 'add b9'] to remove: dom7\n",
      "37 dom7 dom7\n",
      "2238 172 ['dom7', 'add 13', 'sus7'] to remove: sus7\n",
      "172 sus7 sus7\n",
      "2238 178 ['dom7', 'add 13', 'sus7'] to remove: sus7\n",
      "178 sus7 sus7\n",
      "2238 321 ['dom7', 'add 9', 'sus7'] to remove: sus7\n",
      "321 sus7 sus7\n",
      "2305 97 ['dom7', 'add 13', 'sus4'] to remove: sus4\n",
      "97 sus4 sus4\n",
      "2305 103 ['dom7', 'sus4', 'add b9'] to remove: dom7\n",
      "101 dom7 dom7\n",
      "2312 98 ['dom7', 'sus7', 'add b9'] to remove: dom7\n",
      "96 dom7 dom7\n",
      "2482 47 ['dom7', 'sus7', 'add b9'] to remove: dom7\n",
      "45 dom7 dom7\n",
      "2482 52 ['dom7', 'sus7', 'add b9'] to remove: dom7\n",
      "50 dom7 dom7\n",
      "2483 47 ['dom7', 'sus7', 'add b9'] to remove: dom7\n",
      "45 dom7 dom7\n",
      "2483 52 ['dom7', 'sus7', 'add b9'] to remove: dom7\n",
      "50 dom7 dom7\n",
      "2534 193 ['dom7', 'sus7', 'add b9'] to remove: dom7\n",
      "191 dom7 dom7\n",
      "2534 198 ['dom7', 'add 13', 'sus7'] to remove: sus7\n",
      "198 sus7 sus7\n",
      "2540 42 ['dom7', 'add 9', 'sus7'] to remove: sus7\n",
      "42 sus7 sus7\n",
      "2540 49 ['dom7', 'add 9', 'sus7'] to remove: sus7\n",
      "49 sus7 sus7\n",
      "2540 68 ['dom7', 'add 13', 'sus7'] to remove: sus7\n",
      "68 sus7 sus7\n",
      "2540 75 ['dom7', 'add 9', 'sus7'] to remove: sus7\n",
      "75 sus7 sus7\n",
      "2540 91 ['dom7', 'add 9', 'sus7'] to remove: sus7\n",
      "91 sus7 sus7\n",
      "2540 98 ['dom7', 'add 9', 'sus7'] to remove: sus7\n",
      "98 sus7 sus7\n",
      "2540 111 ['dom7', 'add 9', 'sus7'] to remove: sus7\n",
      "111 sus7 sus7\n",
      "2540 118 ['dom7', 'add 9', 'sus7'] to remove: sus7\n",
      "118 sus7 sus7\n",
      "2540 131 ['dom7', 'add 9', 'sus7'] to remove: sus7\n",
      "131 sus7 sus7\n",
      "2540 138 ['dom7', 'add 9', 'sus7'] to remove: sus7\n",
      "138 sus7 sus7\n",
      "2540 195 ['dom7', 'add 9', 'sus7'] to remove: sus7\n",
      "195 sus7 sus7\n",
      "2540 202 ['dom7', 'add 9', 'sus7'] to remove: sus7\n",
      "202 sus7 sus7\n",
      "2540 221 ['dom7', 'add 13', 'sus7'] to remove: sus7\n",
      "221 sus7 sus7\n",
      "2540 228 ['dom7', 'add 9', 'sus7'] to remove: sus7\n",
      "228 sus7 sus7\n",
      "2548 175 ['dom7', 'sus7', 'add b9'] to remove: dom7\n",
      "173 dom7 dom7\n",
      "2548 180 ['dom7', 'sus7', 'add b9'] to remove: dom7\n",
      "178 dom7 dom7\n",
      "2548 189 ['dom7', 'add 9', 'sus7'] to remove: sus7\n",
      "189 sus7 sus7\n",
      "2690 148 ['dom7', 'add 13', 'sus7'] to remove: sus7\n",
      "148 sus7 sus7\n",
      "2690 370 ['dom7', 'add 13', 'sus7'] to remove: sus7\n",
      "370 sus7 sus7\n",
      "2690 429 ['dom7', 'add 13', 'sus7'] to remove: sus7\n",
      "429 sus7 sus7\n",
      "2720 189 ['dom7', 'add 9', 'sus7'] to remove: sus7\n",
      "189 sus7 sus7\n",
      "2720 195 ['dom7', 'sus7', 'add b9'] to remove: dom7\n",
      "193 dom7 dom7\n",
      "2720 223 ['dom7', 'add 9', 'sus7'] to remove: sus7\n",
      "223 sus7 sus7\n",
      "2720 229 ['dom7', 'sus7', 'add b9'] to remove: dom7\n",
      "227 dom7 dom7\n",
      "2745 108 ['dom7', 'add 9', 'sus7'] to remove: sus7\n",
      "108 sus7 sus7\n",
      "2745 114 ['dom7', 'sus7', 'add b9'] to remove: dom7\n",
      "112 dom7 dom7\n",
      "2745 199 ['dom7', 'add 9', 'sus7'] to remove: sus7\n",
      "199 sus7 sus7\n",
      "2745 205 ['dom7', 'sus7', 'add b9'] to remove: dom7\n",
      "203 dom7 dom7\n",
      "2746 108 ['dom7', 'add 9', 'sus7'] to remove: sus7\n",
      "108 sus7 sus7\n",
      "2746 114 ['dom7', 'sus7', 'add b9'] to remove: dom7\n",
      "112 dom7 dom7\n",
      "2746 202 ['dom7', 'add 9', 'sus7'] to remove: sus7\n",
      "202 sus7 sus7\n",
      "2746 208 ['dom7', 'sus7', 'add b9'] to remove: dom7\n",
      "206 dom7 dom7\n",
      "2760 59 ['dom7', 'sus7', 'add b9'] to remove: dom7\n",
      "57 dom7 dom7\n",
      "2760 65 ['dom7', 'sus7', 'add b9'] to remove: dom7\n",
      "63 dom7 dom7\n",
      "2760 71 ['dom7', 'sus7', 'add b9'] to remove: dom7\n",
      "69 dom7 dom7\n",
      "2760 77 ['dom7', 'sus7', 'add b9'] to remove: dom7\n",
      "75 dom7 dom7\n",
      "2760 83 ['dom7', 'sus7', 'add b9'] to remove: dom7\n",
      "81 dom7 dom7\n",
      "2760 89 ['dom7', 'sus7', 'add b9'] to remove: dom7\n",
      "87 dom7 dom7\n",
      "2760 95 ['dom7', 'sus7', 'add b9'] to remove: dom7\n",
      "93 dom7 dom7\n",
      "2760 101 ['dom7', 'sus7', 'add b9'] to remove: dom7\n",
      "99 dom7 dom7\n",
      "2866 118 ['dom7', 'add 9', 'sus7'] to remove: sus7\n",
      "118 sus7 sus7\n",
      "2866 124 ['dom7', 'sus7', 'add b9'] to remove: dom7\n",
      "122 dom7 dom7\n",
      "2866 158 ['dom7', 'add 9', 'sus7'] to remove: sus7\n",
      "158 sus7 sus7\n",
      "2866 164 ['dom7', 'sus7', 'add b9'] to remove: dom7\n",
      "162 dom7 dom7\n",
      "2867 158 ['dom7', 'add 9', 'sus7'] to remove: sus7\n",
      "158 sus7 sus7\n",
      "2867 164 ['dom7', 'sus7', 'add b9'] to remove: dom7\n",
      "162 dom7 dom7\n",
      "2962 40 ['dom7', 'sus7', 'add b9'] to remove: dom7\n",
      "38 dom7 dom7\n",
      "2962 45 ['dom7', 'sus7', 'add b9'] to remove: dom7\n",
      "43 dom7 dom7\n",
      "2996 25 ['dom7', 'sus7', 'add b9'] to remove: dom7\n",
      "23 dom7 dom7\n",
      "2996 50 ['dom7', 'sus7', 'add b9'] to remove: dom7\n",
      "48 dom7 dom7\n",
      "2996 77 ['dom7', 'sus7', 'add b9'] to remove: dom7\n",
      "75 dom7 dom7\n",
      "2996 101 ['dom7', 'sus7', 'add b9'] to remove: dom7\n",
      "99 dom7 dom7\n",
      "2996 125 ['dom7', 'sus7', 'add b9'] to remove: dom7\n",
      "123 dom7 dom7\n",
      "2996 293 ['dom7', 'sus7', 'add b9'] to remove: dom7\n",
      "291 dom7 dom7\n",
      "3035 29 ['dom7', 'add 13', 'sus7'] to remove: sus7\n",
      "29 sus7 sus7\n",
      "3091 215 ['dom7', 'sus4', 'add b9'] to remove: dom7\n",
      "213 dom7 dom7\n",
      "3169 105 ['dom7', 'add 9', 'sus7'] to remove: sus7\n",
      "105 sus7 sus7\n",
      "3169 111 ['dom7', 'sus7', 'add b9'] to remove: dom7\n",
      "109 dom7 dom7\n",
      "3169 180 ['dom7', 'add 9', 'sus7'] to remove: sus7\n",
      "180 sus7 sus7\n",
      "3169 186 ['dom7', 'sus7', 'add b9'] to remove: dom7\n",
      "184 dom7 dom7\n",
      "3237 64 ['dom7', 'add 13', 'sus4'] to remove: sus4\n",
      "64 sus4 sus4\n",
      "3237 70 ['dom7', 'add 13', 'sus4'] to remove: sus4\n",
      "70 sus4 sus4\n",
      "3450 184 ['dom7', 'sus7', 'add b9'] to remove: dom7\n",
      "182 dom7 dom7\n",
      "3493 234 ['dom7', 'sus7', 'add b9'] to remove: dom7\n",
      "232 dom7 dom7\n",
      "3525 145 ['dom7', 'sus7', 'add b9'] to remove: dom7\n",
      "143 dom7 dom7\n",
      "3534 64 ['dom7', 'sus7', 'add b9'] to remove: dom7\n",
      "62 dom7 dom7\n",
      "3534 69 ['dom7', 'sus7', 'add b9'] to remove: dom7\n",
      "67 dom7 dom7\n",
      "3534 93 ['dom7', 'add 9', 'sus7'] to remove: sus7\n",
      "93 sus7 sus7\n",
      "3534 99 ['dom7', 'sus7', 'add b9'] to remove: dom7\n",
      "97 dom7 dom7\n",
      "3534 223 ['dom7', 'sus7', 'add b9'] to remove: dom7\n",
      "221 dom7 dom7\n",
      "3705 41 ['dom7', 'sus7', 'add b9'] to remove: dom7\n",
      "39 dom7 dom7\n",
      "3705 66 ['dom7', 'sus7', 'add b9'] to remove: dom7\n",
      "64 dom7 dom7\n",
      "3705 89 ['dom7', 'sus7', 'add b9'] to remove: dom7\n",
      "87 dom7 dom7\n",
      "3705 154 ['dom7', 'sus7', 'add b9'] to remove: dom7\n",
      "152 dom7 dom7\n",
      "3705 177 ['dom7', 'sus7', 'add b9'] to remove: dom7\n",
      "175 dom7 dom7\n",
      "3751 272 ['dom7', 'add 13', 'sus7'] to remove: sus7\n",
      "272 sus7 sus7\n",
      "3751 278 ['dom7', 'add 13', 'sus7'] to remove: sus7\n",
      "278 sus7 sus7\n",
      "3827 83 ['dom7', 'sus7', 'add b9'] to remove: dom7\n",
      "81 dom7 dom7\n",
      "3882 265 ['dom7', 'add 9', 'sus7'] to remove: sus7\n",
      "265 sus7 sus7\n",
      "3882 271 ['dom7', 'sus7', 'add b9'] to remove: dom7\n",
      "269 dom7 dom7\n",
      "3885 29 ['dom7', 'sus7', 'add b9'] to remove: dom7\n",
      "27 dom7 dom7\n",
      "3885 34 ['dom7', 'sus7', 'add b9'] to remove: dom7\n",
      "32 dom7 dom7\n",
      "3885 40 ['dom7', 'sus7', 'add b9'] to remove: dom7\n",
      "38 dom7 dom7\n",
      "3885 45 ['dom7', 'sus7', 'add b9'] to remove: dom7\n",
      "43 dom7 dom7\n",
      "3885 92 ['dom7', 'sus7', 'add b9'] to remove: dom7\n",
      "90 dom7 dom7\n",
      "3885 97 ['dom7', 'sus7', 'add b9'] to remove: dom7\n",
      "95 dom7 dom7\n",
      "3885 201 ['dom7', 'sus7', 'add b9'] to remove: dom7\n",
      "199 dom7 dom7\n",
      "3885 206 ['dom7', 'sus7', 'add b9'] to remove: dom7\n",
      "204 dom7 dom7\n",
      "3885 212 ['dom7', 'sus7', 'add b9'] to remove: dom7\n",
      "210 dom7 dom7\n",
      "3885 217 ['dom7', 'sus7', 'add b9'] to remove: dom7\n",
      "215 dom7 dom7\n",
      "3885 264 ['dom7', 'sus7', 'add b9'] to remove: dom7\n",
      "262 dom7 dom7\n",
      "3885 269 ['dom7', 'sus7', 'add b9'] to remove: dom7\n",
      "267 dom7 dom7\n",
      "3893 113 ['dom7', 'add 13', 'sus4'] to remove: sus4\n",
      "113 sus4 sus4\n",
      "3893 273 ['dom7', 'add 13', 'sus4'] to remove: sus4\n",
      "273 sus4 sus4\n",
      "3899 33 ['dom7', 'add 9', 'sus7'] to remove: sus7\n",
      "33 sus7 sus7\n",
      "3899 39 ['dom7', 'sus7', 'add b9'] to remove: dom7\n",
      "37 dom7 dom7\n",
      "3899 212 ['dom7', 'add 9', 'sus7'] to remove: sus7\n",
      "212 sus7 sus7\n",
      "3899 218 ['dom7', 'sus7', 'add b9'] to remove: dom7\n",
      "216 dom7 dom7\n",
      "3960 257 ['dom7', 'add 9', 'sus7'] to remove: sus7\n",
      "257 sus7 sus7\n",
      "3960 263 ['dom7', 'sus7', 'add b9'] to remove: dom7\n",
      "261 dom7 dom7\n",
      "2238 322 ['dom7', 'add 9', 'add #5', 'add b9'] to remove: add 9\n",
      "321 add 9 add #5\n",
      "2540 43 ['dom7', 'add 9', 'add #5', 'add b9'] to remove: add 9\n",
      "42 add 9 add #5\n",
      "2540 49 ['dom7', 'add 9', 'add #5', 'add b9'] to remove: add 9\n",
      "48 add 9 add #5\n",
      "2540 74 ['dom7', 'add 9', 'add #5', 'add b9'] to remove: add 9\n",
      "73 add 9 add #5\n",
      "2540 89 ['dom7', 'add 9', 'add #5', 'add b9'] to remove: add 9\n",
      "88 add 9 add #5\n",
      "2540 95 ['dom7', 'add 9', 'add #5', 'add b9'] to remove: add 9\n",
      "94 add 9 add #5\n",
      "2540 107 ['dom7', 'add 9', 'add #5', 'add b9'] to remove: add 9\n",
      "106 add 9 add #5\n",
      "2540 113 ['dom7', 'add 9', 'add #5', 'add b9'] to remove: add 9\n",
      "112 add 9 add #5\n",
      "2540 125 ['dom7', 'add 9', 'add #5', 'add b9'] to remove: add 9\n",
      "124 add 9 add #5\n",
      "2540 131 ['dom7', 'add 9', 'add #5', 'add b9'] to remove: add 9\n",
      "130 add 9 add #5\n",
      "2540 187 ['dom7', 'add 9', 'add #5', 'add b9'] to remove: add 9\n",
      "186 add 9 add #5\n",
      "2540 193 ['dom7', 'add 9', 'add #5', 'add b9'] to remove: add 9\n",
      "192 add 9 add #5\n",
      "2540 218 ['dom7', 'add 9', 'add #5', 'add b9'] to remove: add 9\n",
      "217 add 9 add #5\n"
     ]
    }
   ],
   "source": [
    "'''\n",
    "These sequences have some elements that are repeated and should be removed\n",
    "In particular the error of double nature Dom7 and sus\n",
    "If the code is run twice, no print should be shown\n",
    "'''\n",
    "import voicing as vc\n",
    "\n",
    "def correctThis(sequence):\n",
    "    fix_this = [{'seq': ['dom7', 'sus7', 'add b9'], 'remove': 'dom7'},\n",
    "                {'seq': ['sus4', 'add 7', 'dom7'], 'remove': 'dom7'},\n",
    "                {'seq': ['dom7', 'sus4', 'add b9'], 'remove': 'dom7'},\n",
    "                {'seq': ['sus7', 'add 13', 'sus4'], 'remove': 'sus4'},\n",
    "                {'seq': ['sus7', 'add 9', 'sus4'], 'remove': 'sus4'},\n",
    "                {'seq': ['dom7', 'add 13', 'sus7'], 'remove': 'sus7'},\n",
    "                {'seq': ['dom7', 'add 13', 'sus4'], 'remove': 'sus4'},\n",
    "                {'seq': ['dom7', 'add 9', 'sus7'], 'remove': 'sus7'},\n",
    "                {'seq': ['dom7', 'add 9', 'add #5', 'add b9'], 'remove': 'add 9'},\n",
    "                {'seq': ['m', 'add 6', 'add 9', 'sus4'], 'remove': 'sus4'},\n",
    "                {'seq': ['sus7', 'add 13', 'sus4', 'add b9'], 'remove': 'sus4'},\n",
    "                {'seq': ['dom7', 'add 13', 'sus4', 'add b9'], 'remove': 'sus4'}]\n",
    "\n",
    "    structural_elements = vc.Voicing().getStructuralElements()\n",
    "\n",
    "    for x, song in enumerate(sequence):\n",
    "        for y, e in enumerate(song):\n",
    "            if '.' in e:\n",
    "                search = True\n",
    "                stepper = y + 2\n",
    "                check_extensions = []\n",
    "                while search:\n",
    "                    if (stepper) >= len(song):\n",
    "                        search = False\n",
    "                        #print('End of song')\n",
    "                        break\n",
    "                    elif stepper < len(song) - 1:\n",
    "                        element = song[stepper]\n",
    "            \n",
    "                    if element in structural_elements or element.startswith('Form_'):\n",
    "                        search = False\n",
    "                    else:\n",
    "                        if element not in check_extensions:\n",
    "                            check_extensions.append(element)\n",
    "                        for item in fix_this:\n",
    "                            if check_extensions == item['seq']:\n",
    "                                print(x, stepper, check_extensions, 'to remove:', item['remove'])\n",
    "                                #find the location of the element in the array\n",
    "                                for i in range(len(check_extensions)):\n",
    "                                    if check_extensions[i] == item['remove']:\n",
    "                                        location = i + stepper - 2\n",
    "                                        #erase this element from song\n",
    "                                        if location < len(song):\n",
    "                                            print(location, item['remove'], song[location])\n",
    "                                            song.pop(location)\n",
    "                                        break\n",
    "                                \n",
    "                        stepper += 1\n",
    "\n",
    "#this has to be run three times to clean the dataset\n",
    "for i in range(4):\n",
    "    correctThis(dataset)\n"
   ]
  },
  {
   "cell_type": "code",
   "execution_count": 91,
   "metadata": {},
   "outputs": [],
   "source": [
    "'''\n",
    "Correct duplicated natures using Dom7 and suspended\n",
    "'''\n",
    "\n",
    "for x, song in enumerate(dataset):\n",
    "    for y, info in enumerate(song):\n",
    "        \n",
    "        if info == '.' and y < len(song) - 1:\n",
    "            z = y + 1\n",
    "            next = song[z][0]\n",
    "            \n",
    "            found_dom = False\n",
    "            found_sus = False\n",
    "            seq = []\n",
    "            while z < len(song) - 1 and next != '.':\n",
    "                if 'dom7' in next:\n",
    "                    dom = (next, z)\n",
    "                    seq.append(dom)\n",
    "                    found_dom = True\n",
    "                if next.startswith('sus'):\n",
    "                    found_sus = True\n",
    "                    sus = (next, z)\n",
    "                    seq.append(sus)\n",
    "                if found_dom and found_sus:\n",
    "                    print(\"Corrected at:\", x, y, seq)\n",
    "                    duration = song[y][1]\n",
    "                    corrected = ('sus7', duration)\n",
    "                    c_id = seq[0][1]\n",
    "                    song[c_id] = corrected\n",
    "                    delete_id = seq[1][1]\n",
    "                    song.pop(delete_id)\n",
    "                    #closeThis = True\n",
    "                    break\n",
    "                z += 1\n",
    "                next = song[z][0]\n",
    "                \n",
    "                "
   ]
  },
  {
   "cell_type": "code",
   "execution_count": 92,
   "metadata": {},
   "outputs": [],
   "source": [
    "'''\n",
    "Correct duplicated natures \n",
    "'''\n",
    "\n",
    "import voicing as vc\n",
    "voicing = vc.Voicing()\n",
    "\n",
    "for x, song in enumerate(dataset):\n",
    "    for y, info in enumerate(song):\n",
    "        if info == '.' and y < len(song) - 1:\n",
    "            z = y + 1\n",
    "            next = song[z][0]\n",
    "            seq = []\n",
    "            while z < len(song) - 1 and next != '.':\n",
    "                if next in voicing.natures:\n",
    "                    nat = (next, z)\n",
    "                    seq.append(nat)\n",
    "                    found_dom = True\n",
    "                if len(seq) > 1:\n",
    "                    print(\"Corrected at:\", x, y, seq)\n",
    "                    delete_id = seq[1][1]\n",
    "                    song.pop(delete_id)\n",
    "                    break\n",
    "                z += 1\n",
    "                next = song[z][0]"
   ]
  },
  {
   "cell_type": "code",
   "execution_count": 93,
   "metadata": {},
   "outputs": [
    {
     "name": "stdout",
     "output_type": "stream",
     "text": [
      "{'composer': 'Vulfpeck', 'style': 'Funk', 'song_name': '1612', 'tonality': 'C major', 'midi_key': 12, 'time_signature': '4/4', 'decade': 'Null'}\n"
     ]
    }
   ],
   "source": [
    "id = 5\n",
    "print(all_meta[id])"
   ]
  },
  {
   "cell_type": "code",
   "execution_count": 94,
   "metadata": {},
   "outputs": [
    {
     "name": "stdout",
     "output_type": "stream",
     "text": [
      "Max: {'v': 908, 'id': 3113} Min: {'v': 23, 'id': 1983}\n"
     ]
    }
   ],
   "source": [
    "#Check the length of the song\n",
    "\n",
    "max = {'v': 0, 'id': 0}\n",
    "min = {'v': 1000, 'id': 0}\n",
    "\n",
    "for i in range(len(dataset)):\n",
    "    if len(dataset[i]) > max['v']:\n",
    "        max['v'] = len(dataset[i])\n",
    "        max['id'] = i\n",
    "    if len(dataset[i]) < min['v']:\n",
    "        min['v'] = len(dataset[i])\n",
    "        min['id'] = i\n",
    "\n",
    "print('Max:', max, 'Min:', min)"
   ]
  },
  {
   "cell_type": "code",
   "execution_count": 95,
   "metadata": {},
   "outputs": [
    {
     "data": {
      "text/plain": [
       "<seaborn.axisgrid.FacetGrid at 0x7f93dff7c4c0>"
      ]
     },
     "execution_count": 95,
     "metadata": {},
     "output_type": "execute_result"
    },
    {
     "data": {
      "image/png": "[encoded data removed]",
      "text/plain": [
       "<Figure size 500x500 with 1 Axes>"
      ]
     },
     "metadata": {
      "image/png": {
       "height": 489,
       "width": 490
      }
     },
     "output_type": "display_data"
    }
   ],
   "source": [
    "import seaborn as sns\n",
    "\n",
    "#visualize the length of the songs\n",
    "\n",
    "length = []\n",
    "for song in dataset:\n",
    "    length.append(len(song))\n",
    "    \n",
    "sns.displot(length, kde=False, bins=100)"
   ]
  },
  {
   "cell_type": "code",
   "execution_count": 96,
   "metadata": {},
   "outputs": [
    {
     "name": "stdout",
     "output_type": "stream",
     "text": [
      "1473\n"
     ]
    }
   ],
   "source": [
    "import voicing as vc\n",
    "voicing = vc.Voicing()\n",
    "\n",
    "\n",
    "id = 999999\n",
    "for i, data in enumerate(all_meta):\n",
    "    if 'Giant Steps' in data['song_name']:\n",
    "        id = i\n",
    "        print(i)\n",
    "        break\n",
    "\n",
    "\n"
   ]
  },
  {
   "cell_type": "code",
   "execution_count": 97,
   "metadata": {},
   "outputs": [
    {
     "name": "stderr",
     "output_type": "stream",
     "text": [
      "100%|██████████| 1/1 [00:00<00:00, 3336.76it/s]"
     ]
    },
    {
     "name": "stdout",
     "output_type": "stream",
     "text": [
      "1\n",
      "['Giant Steps']\n"
     ]
    },
    {
     "name": "stderr",
     "output_type": "stream",
     "text": [
      "\n"
     ]
    }
   ],
   "source": [
    "import voicing as vc\n",
    "\n",
    "#check the voicing conversion of all chords\n",
    "from_ = id\n",
    "to_ = id+1\n",
    "myTracks = dataset[from_:to_]\n",
    "sub_names = []\n",
    "for names in all_meta[from_:to_]:\n",
    "    sub_names.append(names['song_name'])\n",
    "voicing = vc.Voicing()\n",
    "midi_voicing = []\n",
    "\n",
    "\n",
    "i = 0\n",
    "for item in tqdm(myTracks):\n",
    "    mv, status = voicing.convert_chords_to_voicing(item)\n",
    "    midi_voicing.append(mv)\n",
    "    if status == False:\n",
    "        print(i, '\\n', all_meta[i], '\\n', item)\n",
    "        break\n",
    "    i += 1\n",
    "print(len(midi_voicing))\n",
    "print(sub_names)\n"
   ]
  },
  {
   "cell_type": "code",
   "execution_count": 98,
   "metadata": {},
   "outputs": [
    {
     "name": "stdout",
     "output_type": "stream",
     "text": [
      "{'composer': 'Pat Metheny', 'style': 'Ballad', 'song_name': 'Nacada 1', 'tonality': 'C major', 'midi_key': 12, 'time_signature': '4/4', 'decade': 'Null'}\n",
      "0 <style>\n",
      "1 Ballad\n",
      "2 |:\n",
      "3 .\n",
      "4 2.0\n",
      "5 G\n",
      "6 maj7\n",
      "7 add 9\n",
      "8 .\n",
      "9 2.0\n",
      "10 E\n",
      "11 m7\n",
      "12 add 9\n",
      "13 |\n",
      "14 .\n",
      "15 2.0\n",
      "16 Eb\n",
      "17 maj7\n",
      "18 add #11\n",
      "19 add #9\n",
      "20 alter #5\n",
      "21 .\n",
      "22 2.0\n",
      "23 B\n",
      "24 dom7\n",
      "25 add #11\n",
      "26 add #9\n",
      "27 alter #5\n",
      "28 |\n",
      "29 .\n",
      "30 2.0\n",
      "31 E\n",
      "32 m7\n",
      "33 add 9\n",
      "34 .\n",
      "35 2.0\n",
      "36 A\n",
      "37 dom7\n",
      "38 add 13\n",
      "39 |\n",
      "40 .\n",
      "41 1.0\n",
      "42 Ab\n",
      "43 maj7\n",
      "44 add 9\n",
      "45 .\n",
      "46 1.0\n",
      "47 Db\n",
      "48 dom7\n",
      "49 add 9\n",
      "50 add #11\n",
      "51 add #9\n",
      "52 .\n",
      "53 1.0\n",
      "54 C\n",
      "55 maj\n",
      "56 .\n",
      "57 1.0\n",
      "58 F\n",
      "59 dom7\n",
      "60 add #11\n",
      "61 add #9\n",
      "62 |\n",
      "63 .\n",
      "64 2.0\n",
      "65 E\n",
      "66 maj7\n",
      "67 add 9\n",
      "68 .\n",
      "69 2.0\n",
      "70 A\n",
      "71 dom7\n",
      "72 add 13\n",
      "73 e||\n",
      "74 .\n",
      "75 2.0\n",
      "76 D\n",
      "77 maj7\n",
      "78 .\n",
      "79 2.0\n",
      "80 B\n",
      "81 m7\n",
      "82 |\n",
      "83 .\n",
      "84 2.0\n",
      "85 Bb\n",
      "86 maj7\n",
      "87 .\n",
      "88 2.0\n",
      "89 Eb\n",
      "90 dom7\n",
      "91 add 9\n",
      "92 add #11\n",
      "93 |\n",
      "94 .\n",
      "95 2.0\n",
      "96 A\n",
      "97 m7\n",
      "98 .\n",
      "99 2.0\n",
      "100 D\n",
      "101 dom7\n",
      "102 :|\n",
      "103 Form_Coda\n",
      "104 b||\n",
      "105 .\n",
      "106 2.0\n",
      "107 D\n",
      "108 maj7\n",
      "109 .\n",
      "110 2.0\n",
      "111 B\n",
      "112 m7\n",
      "113 |\n",
      "114 .\n",
      "115 2.0\n",
      "116 Bb\n",
      "117 maj7\n",
      "118 .\n",
      "119 2.0\n",
      "120 Eb\n",
      "121 dom7\n",
      "122 add 9\n",
      "123 add #11\n",
      "\n"
     ]
    }
   ],
   "source": [
    "id = 2503\n",
    "print_this_song(all_meta, dataset, id)"
   ]
  },
  {
   "cell_type": "code",
   "execution_count": 99,
   "metadata": {},
   "outputs": [
    {
     "name": "stdout",
     "output_type": "stream",
     "text": [
      "4005\n",
      "[30, 32, 32, 27, 25, 37, 32, 22, 19, 23, 25, 34, 40, 23, 31, 20, 32, 30, 3, 30, 42, 36, 47, 28, 47, 32, 24, 3, 23, 41, 25, 25, 32, 25, 3, 54, 39, 29, 32, 56, 32, 23, 25, 37, 19, 7, 39, 36, 24, 24, 25, 22, 38, 24, 23, 44, 23, 32, 56, 55, 25, 16, 28, 34, 42, 28, 24, 32, 7, 23, 38, 32, 16, 36, 32, 22, 27, 23, 3, 20, 64, 10, 24, 24, 25, 34, 64, 53, 24, 35, 33, 33, 39, 40, 23, 38, 16, 26, 32, 32, 53, 40, 40, 32, 25, 32, 8, 27, 36, 36, 20, 20, 19, 33, 39, 28, 33, 45, 45, 42, 42, 55, 57, 20, 25, 25, 25, 41, 16, 35, 32, 24, 24, 26, 28, 28, 29, 29, 36, 23, 26, 83, 39, 32, 43, 32, 48, 32, 23, 31, 17, 27, 20, 20, 32, 33, 33, 10, 30, 32, 32, 33, 33, 24, 32, 32, 47, 32, 19, 27, 23, 38, 34, 45, 39, 36, 31, 32, 32, 38, 38, 32, 36, 34, 19, 41, 32, 55, 25, 41, 23, 27, 34, 31, 22, 29, 32, 32, 28, 31, 25, 34, 34, 32, 13, 46, 34, 34, 34, 34, 16, 16, 32, 35, 34, 20, 32, 35, 32, 21, 21, 25, 25, 13, 13, 34, 16, 25, 84, 18, 20, 39, 39, 40, 40, 41, 41, 42, 25, 24, 24, 31, 23, 28, 28, 32, 30, 30, 43, 37, 44, 44, 70, 39, 33, 35, 25, 55, 23, 26, 45, 44, 39, 63, 62, 49, 48, 39, 41, 30, 32, 41, 38, 65, 34, 31, 36, 38, 27, 17, 25, 47, 11, 41, 32, 22, 45, 36, 36, 31, 32, 32, 28, 32, 48, 32, 48, 71, 71, 96, 31, 31, 32, 32, 36, 27, 32, 15, 32, 16, 16, 24, 31, 20, 20, 42, 24, 21, 15, 25, 25, 35, 25, 30, 24, 28, 28, 52, 25, 32, 16, 46, 32, 32, 51, 56, 3, 12, 51, 28, 32, 23, 24, 23, 30, 30, 37, 18, 32, 32, 48, 32, 29, 7, 10, 12, 40, 40, 32, 26, 9, 32, 18, 35, 81, 15, 25, 16, 12, 12, 36, 26, 21, 51, 43, 30, 24, 24, 36, 25, 31, 22, 32, 23, 36, 16, 16, 12, 25, 48, 34, 29, 15, 15, 23, 19, 20, 11, 11, 26, 40, 16, 21, 21, 36, 62, 32, 36, 36, 23, 32, 31, 16, 37, 23, 23, 32, 26, 32, 15, 32, 37, 77, 32, 70, 17, 17, 25, 28, 20, 39, 24, 61, 21, 22, 17, 16, 37, 25, 36, 36, 25, 25, 40, 50, 35, 41, 12, 29, 35, 29, 26, 43, 24, 26, 32, 36, 37, 24, 32, 56, 35, 8, 33, 32, 32, 37, 32, 58, 12, 41, 12, 25, 26, 24, 25, 21, 31, 50, 23, 24, 33, 44, 24, 34, 45, 25, 34, 32, 64, 27, 27, 8, 39, 12, 11, 22, 48, 18, 8, 16, 25, 32, 19, 19, 20, 24, 25, 14, 25, 25, 12, 25, 25, 25, 32, 27, 12, 51, 32, 49, 25, 25, 47, 49, 25, 25, 11, 12, 12, 12, 24, 12, 12, 12, 24, 12, 12, 12, 12, 12, 12, 12, 12, 12, 12, 11, 15, 12, 12, 15, 11, 12, 12, 25, 24, 32, 12, 24, 29, 24, 30, 25, 35, 30, 30, 40, 40, 12, 24, 16, 36, 23, 23, 23, 25, 25, 42, 16, 33, 68, 32, 41, 30, 45, 15, 30, 66, 35, 32, 32, 32, 16, 28, 27, 28, 31, 31, 88, 32, 43, 45, 37, 16, 19, 40, 24, 40, 35, 15, 25, 42, 31, 23, 32, 33, 26, 16, 24, 19, 45, 25, 18, 34, 16, 37, 39, 16, 42, 42, 11, 9, 77, 25, 48, 23, 40, 11, 46, 23, 32, 32, 19, 30, 31, 24, 48, 11, 16, 31, 31, 36, 32, 32, 32, 32, 32, 23, 12, 32, 33, 33, 12, 25, 41, 41, 31, 20, 20, 26, 15, 23, 19, 16, 16, 21, 56, 23, 39, 18, 23, 19, 19, 40, 37, 36, 36, 49, 45, 20, 52, 24, 42, 60, 24, 54, 49, 48, 25, 22, 20, 20, 16, 27, 27, 39, 39, 28, 43, 16, 16, 40, 42, 42, 32, 18, 18, 6, 6, 54, 39, 31, 16, 28, 16, 26, 32, 43, 42, 42, 24, 25, 41, 22, 22, 36, 36, 23, 46, 15, 16, 14, 9, 3, 3, 36, 36, 42, 15, 10, 32, 40, 23, 15, 15, 40, 29, 44, 10, 3, 24, 41, 55, 30, 48, 32, 32, 12, 14, 17, 32, 32, 32, 25, 25, 25, 76, 76, 31, 31, 38, 38, 23, 32, 35, 15, 24, 12, 12, 62, 32, 38, 32, 24, 44, 44, 44, 28, 12, 32, 32, 32, 32, 32, 20, 38, 39, 17, 15, 15, 25, 31, 32, 37, 25, 16, 25, 66, 40, 67, 43, 43, 49, 33, 33, 52, 25, 17, 25, 15, 48, 51, 20, 20, 12, 12, 25, 25, 12, 11, 24, 13, 50, 59, 59, 35, 8, 25, 46, 37, 25, 10, 32, 23, 46, 46, 24, 61, 34, 7, 34, 41, 34, 41, 32, 27, 27, 32, 23, 31, 43, 9, 11, 25, 25, 25, 16, 68, 23, 33, 36, 16, 14, 12, 12, 39, 56, 49, 32, 9, 25, 17, 35, 8, 31, 32, 32, 20, 20, 30, 30, 40, 42, 35, 35, 55, 19, 19, 27, 24, 24, 17, 23, 29, 24, 30, 12, 25, 6, 32, 55, 25, 25, 25, 39, 34, 69, 31, 12, 37, 21, 26, 17, 29, 21, 32, 11, 27, 64, 24, 24, 13, 33, 46, 32, 38, 16, 16, 25, 27, 42, 72, 12, 25, 51, 32, 25, 48, 71, 32, 64, 12, 16, 19, 19, 17, 49, 16, 31, 24, 20, 20, 24, 50, 25, 38, 32, 25, 23, 43, 43, 38, 25, 32, 48, 23, 32, 3, 3, 11, 57, 59, 47, 64, 30, 32, 13, 25, 25, 25, 32, 37, 15, 19, 19, 40, 31, 19, 19, 31, 12, 49, 16, 32, 32, 68, 68, 19, 19, 36, 58, 25, 33, 33, 26, 23, 27, 27, 7, 44, 25, 25, 43, 32, 55, 44, 23, 40, 16, 15, 25, 32, 17, 32, 23, 18, 28, 10, 20, 25, 23, 24, 23, 32, 42, 21, 16, 20, 28, 28, 23, 20, 24, 24, 25, 15, 28, 25, 25, 25, 16, 35, 22, 22, 40, 24, 49, 55, 50, 20, 38, 17, 24, 24, 24, 40, 40, 27, 49, 30, 35, 25, 24, 24, 32, 32, 23, 32, 25, 32, 59, 25, 41, 37, 51, 48, 25, 32, 23, 40, 43, 67, 29, 24, 32, 14, 32, 40, 68, 68, 23, 23, 32, 20, 42, 43, 45, 12, 25, 32, 32, 32, 25, 46, 23, 27, 32, 63, 32, 39, 16, 25, 25, 51, 35, 35, 17, 32, 34, 25, 27, 25, 17, 23, 20, 32, 36, 15, 21, 21, 29, 28, 32, 25, 30, 30, 17, 17, 19, 25, 16, 32, 36, 36, 32, 25, 25, 24, 26, 16, 25, 32, 36, 42, 41, 75, 28, 11, 24, 23, 15, 31, 43, 43, 12, 32, 37, 32, 25, 18, 22, 25, 8, 24, 25, 11, 26, 32, 40, 40, 22, 37, 31, 32, 42, 16, 16, 16, 32, 12, 27, 25, 25, 14, 15, 11, 34, 34, 27, 27, 35, 32, 36, 36, 34, 25, 25, 12, 12, 9, 9, 18, 24, 21, 21, 22, 22, 32, 26, 26, 40, 44, 37, 32, 39, 25, 45, 32, 41, 11, 24, 24, 47, 32, 32, 32, 42, 41, 33, 19, 14, 32, 23, 11, 23, 23, 25, 25, 28, 28, 61, 44, 7, 27, 23, 32, 21, 3, 16, 26, 24, 43, 8, 24, 16, 30, 30, 12, 61, 32, 32, 16, 31, 28, 32, 39, 32, 26, 26, 41, 40, 35, 19, 31, 24, 35, 16, 30, 24, 14, 13, 40, 41, 24, 11, 17, 17, 27, 17, 30, 30, 28, 17, 24, 65, 50, 27, 32, 27, 28, 17, 32, 32, 12, 43, 27, 17, 11, 26, 32, 11, 25, 40, 23, 32, 69, 28, 25, 24, 47, 13, 37, 15, 64, 25, 18, 37, 40, 32, 41, 34, 32, 40, 24, 24, 24, 41, 41, 48, 48, 25, 21, 21, 29, 22, 13, 32, 32, 24, 48, 32, 17, 23, 23, 24, 39, 19, 25, 54, 54, 32, 25, 25, 12, 32, 28, 29, 25, 32, 32, 16, 32, 50, 19, 25, 23, 16, 32, 32, 33, 61, 31, 31, 13, 35, 14, 42, 19, 12, 11, 47, 23, 20, 8, 21, 79, 32, 31, 48, 37, 39, 43, 49, 45, 39, 32, 26, 16, 16, 12, 23, 26, 20, 20, 27, 30, 3, 36, 16, 16, 23, 28, 25, 25, 36, 32, 24, 37, 25, 32, 32, 18, 24, 16, 32, 25, 12, 38, 59, 51, 33, 74, 48, 47, 25, 23, 24, 20, 13, 21, 17, 13, 27, 29, 11, 26, 24, 24, 23, 8, 12, 12, 32, 23, 59, 24, 34, 32, 32, 24, 42, 52, 52, 40, 40, 23, 18, 32, 41, 22, 32, 25, 41, 22, 16, 36, 35, 34, 16, 16, 38, 16, 29, 33, 31, 7, 23, 26, 28, 39, 19, 39, 34, 12, 12, 26, 28, 32, 20, 25, 28, 12, 15, 25, 16, 17, 31, 24, 30, 36, 32, 10, 47, 30, 45, 36, 37, 27, 27, 43, 18, 33, 36, 42, 30, 25, 22, 16, 33, 23, 28, 27, 47, 20, 39, 25, 54, 23, 23, 24, 21, 33, 38, 57, 57, 38, 26, 31, 37, 27, 32, 62, 43, 32, 30, 27, 43, 35, 36, 17, 21, 32, 40, 25, 34, 34, 37, 41, 59, 14, 53, 44, 63, 35, 44, 25, 22, 15, 35, 57, 29, 25, 22, 10, 32, 14, 25, 39, 38, 40, 23, 23, 17, 48, 24, 32, 32, 30, 34, 32, 32, 41, 19, 32, 32, 32, 24, 24, 36, 41, 89, 18, 32, 49, 29, 32, 11, 15, 67, 39, 41, 44, 22, 32, 25, 32, 45, 56, 12, 27, 64, 64, 32, 32, 23, 40, 25, 28, 28, 27, 35, 16, 16, 44, 39, 25, 33, 47, 6, 56, 25, 28, 27, 48, 32, 31, 20, 32, 36, 25, 25, 40, 31, 38, 12, 44, 32, 32, 25, 25, 24, 13, 32, 32, 32, 26, 26, 24, 33, 7, 12, 41, 30, 9, 15, 33, 30, 57, 25, 41, 32, 48, 32, 45, 24, 29, 32, 30, 32, 18, 29, 25, 41, 32, 31, 26, 83, 17, 16, 32, 25, 36, 36, 30, 39, 32, 25, 25, 32, 32, 21, 23, 27, 28, 32, 32, 32, 38, 32, 23, 39, 39, 33, 33, 61, 32, 18, 18, 23, 23, 25, 32, 29, 36, 36, 40, 27, 24, 25, 36, 36, 25, 29, 25, 33, 56, 57, 24, 24, 62, 16, 45, 14, 25, 18, 18, 41, 25, 25, 56, 56, 20, 20, 32, 32, 25, 25, 25, 48, 48, 22, 17, 19, 20, 15, 43, 38, 28, 32, 37, 25, 32, 29, 16, 49, 32, 32, 26, 32, 28, 25, 24, 16, 16, 25, 32, 32, 29, 32, 33, 32, 55, 32, 32, 32, 32, 31, 30, 30, 32, 32, 27, 27, 26, 32, 48, 18, 32, 31, 72, 18, 24, 31, 39, 24, 20, 32, 32, 32, 32, 31, 27, 24, 19, 24, 15, 34, 12, 38, 19, 16, 23, 27, 32, 43, 32, 32, 16, 25, 32, 19, 32, 26, 26, 23, 12, 20, 20, 18, 23, 32, 27, 28, 32, 32, 52, 26, 27, 25, 16, 25, 35, 47, 32, 50, 47, 21, 42, 32, 32, 26, 47, 47, 16, 36, 24, 23, 36, 32, 12, 51, 24, 25, 45, 32, 32, 53, 53, 13, 30, 32, 16, 21, 43, 32, 40, 14, 31, 32, 33, 24, 23, 37, 23, 41, 25, 25, 25, 4, 25, 35, 35, 14, 3, 49, 17, 23, 30, 32, 32, 24, 24, 27, 30, 24, 12, 14, 48, 27, 16, 23, 32, 32, 23, 16, 25, 39, 39, 25, 25, 33, 47, 62, 9, 24, 32, 16, 38, 23, 33, 41, 37, 25, 32, 49, 22, 32, 23, 53, 53, 12, 33, 36, 21, 43, 35, 50, 28, 17, 16, 32, 34, 71, 64, 36, 56, 69, 35, 31, 32, 29, 27, 17, 34, 17, 25, 20, 28, 28, 32, 36, 27, 16, 33, 45, 26, 24, 30, 88, 33, 37, 37, 26, 32, 26, 23, 33, 26, 44, 25, 32, 8, 25, 29, 35, 36, 18, 24, 56, 15, 50, 20, 15, 16, 16, 24, 39, 28, 32, 16, 25, 39, 8, 16, 63, 28, 41, 32, 45, 3, 32, 25, 27, 23, 23, 25, 44, 25, 25, 25, 29, 23, 29, 42, 39, 43, 49, 32, 32, 15, 35, 30, 8, 40, 18, 26, 45, 42, 41, 23, 24, 15, 16, 35, 17, 32, 25, 25, 32, 27, 62, 16, 16, 24, 39, 72, 38, 38, 39, 6, 37, 32, 25, 21, 32, 34, 32, 19, 19, 38, 52, 36, 52, 36, 20, 24, 66, 28, 49, 45, 43, 31, 24, 41, 32, 30, 11, 52, 16, 32, 39, 29, 29, 30, 39, 39, 42, 26, 19, 17, 33, 33, 15, 31, 25, 24, 25, 25, 17, 52, 46, 24, 32, 32, 44, 35, 35, 39, 34, 25, 37, 35, 39, 40, 23, 17, 35, 67, 36, 25, 25, 25, 25, 21, 23, 23, 29, 47, 34, 28, 33, 23, 23, 6, 20, 50, 48, 17, 16, 11, 39, 19, 49, 52, 31, 23, 35, 27, 25, 25, 3, 3, 32, 24, 20, 28, 21, 31, 36, 17, 24, 41, 43, 31, 37, 17, 37, 37, 32, 32, 13, 23, 34, 50, 13, 33, 32, 27, 31, 19, 43, 21, 39, 6, 6, 40, 28, 24, 24, 15, 35, 22, 18, 23, 19, 21, 48, 32, 31, 19, 32, 32, 15, 27, 43, 36, 32, 23, 29, 24, 32, 24, 24, 39, 3, 3, 26, 34, 34, 20, 56, 28, 25, 26, 19, 41, 53, 34, 32, 21, 17, 3, 29, 27, 39, 22, 40, 26, 34, 38, 17, 24, 37, 50, 18, 19, 27, 40, 40, 31, 31, 33, 32, 32, 23, 72, 41, 41, 20, 20, 25, 41, 41, 25, 27, 32, 24, 14, 32, 16, 17, 20, 32, 15, 28, 12, 25, 28, 8, 30, 48, 96, 23, 36, 32, 31, 38, 36, 25, 25, 40, 60, 24, 37, 23, 25, 45, 34, 39, 30, 41, 31, 32, 30, 40, 40, 20, 28, 60, 32, 29, 8, 35, 31, 23, 27, 21, 21, 25, 32, 25, 40, 27, 32, 27, 32, 44, 33, 24, 3, 3, 25, 35, 32, 32, 32, 23, 27, 29, 27, 12, 35, 32, 25, 30, 20, 20, 31, 30, 38, 21, 34, 32, 16, 18, 43, 43, 24, 14, 55, 32, 36, 41, 23, 25, 25, 16, 42, 25, 27, 23, 32, 21, 21, 32, 25, 24, 32, 33, 32, 31, 39, 24, 47, 28, 14, 43, 42, 50, 21, 18, 32, 29, 9, 11, 36, 15, 24, 24, 25, 23, 32, 16, 42, 32, 34, 11, 16, 23, 44, 44, 28, 28, 40, 24, 32, 48, 51, 35, 35, 40, 29, 29, 26, 26, 33, 16, 35, 24, 29, 28, 61, 16, 25, 23, 32, 29, 44, 27, 36, 36, 37, 33, 16, 20, 21, 23, 48, 62, 46, 26, 26, 18, 3, 3, 12, 38, 26, 16, 27, 74, 17, 22, 38, 28, 27, 20, 30, 32, 12, 46, 46, 34, 32, 15, 8, 42, 43, 24, 29, 26, 22, 27, 18, 3, 3, 49, 36, 36, 18, 22, 22, 27, 32, 39, 3, 3, 16, 43, 22, 23, 19, 19, 22, 35, 31, 31, 13, 13, 46, 46, 19, 41, 14, 17, 28, 28, 11, 11, 28, 28, 39, 3, 32, 43, 43, 15, 15, 24, 29, 27, 24, 32, 25, 23, 32, 23, 23, 28, 25, 25, 37, 68, 34, 26, 26, 31, 25, 25, 32, 27, 25, 16, 30, 19, 30, 34, 34, 29, 32, 16, 32, 25, 49, 34, 49, 16, 43, 25, 29, 32, 36, 34, 36, 35, 26, 46, 20, 26, 46, 55, 34, 35, 40, 37, 61, 43, 43, 16, 32, 33, 40, 34, 16, 12, 24, 36, 16, 32, 32, 18, 32, 26, 26, 19, 32, 32, 37, 37, 37, 61, 23, 43, 46, 15, 35, 38, 26, 52, 31, 23, 10, 10, 39, 31, 35, 36, 32, 46, 62, 24, 25, 28, 35, 35, 24, 24, 20, 16, 25, 26, 24, 18, 8, 24, 12, 39, 12, 36, 59, 23, 23, 23, 25, 25, 20, 42, 42, 11, 24, 23, 23, 10, 39, 32, 32, 16, 43, 18, 18, 21, 24, 31, 32, 32, 24, 20, 20, 32, 48, 34, 16, 25, 46, 28, 34, 46, 36, 36, 25, 38, 14, 23, 14, 24, 48, 12, 23, 36, 32, 44, 16, 16, 41, 33, 41, 34, 34, 47, 12, 30, 18, 31, 36, 16, 16, 45, 32, 32, 62, 39, 23, 34, 34, 50, 30, 30, 33, 43, 24, 6, 60, 32, 32, 40, 32, 38, 38, 67, 25, 53, 28, 34, 46, 10, 34, 12, 24, 32, 29, 29, 25, 32, 21, 16, 17, 31, 32, 47, 32, 20, 20, 12, 21, 21, 23, 23, 28, 28, 36, 32, 34, 41, 19, 32, 39, 17, 17, 29, 29, 29, 29, 32, 41, 25, 35, 23, 23, 3, 3, 37, 37, 15, 37, 37, 30, 39, 34, 33, 25, 17, 31, 31, 64, 23, 34, 37, 32, 16, 27, 25, 16, 6, 13, 12, 24, 26, 26, 55, 66, 12, 43, 23, 42, 11, 11, 27, 27, 25, 77, 16, 36, 36, 19, 23, 25, 23, 16, 36, 36, 49, 34, 69, 23, 25, 33, 27, 23, 12, 50, 41, 32, 42, 33, 32, 29, 74, 34, 15, 43, 13, 34, 25, 39, 32, 47, 32, 32, 32, 27, 34, 24, 12, 43, 20, 28, 32, 32, 22, 25, 32, 40, 21, 33, 33, 26, 65, 25, 25, 25, 53, 44, 21, 21, 24, 30, 2, 15, 16, 19, 35, 20, 12, 21, 22, 12, 12, 34, 34, 18, 18, 14, 14, 28, 15, 15, 25, 24, 16, 37, 12, 20, 68, 36, 25, 49, 82, 36, 37, 37, 38, 52, 39, 28, 25, 32, 20, 30, 32, 38, 25, 25, 18, 18, 3, 16, 16, 22, 33, 31, 15, 24, 16, 16, 34, 33, 32, 25, 39, 39, 27, 16, 36, 16, 39, 26, 28, 23, 25, 25, 41, 17, 16, 24, 15, 14, 25, 25, 45, 33, 42, 27, 32, 32, 23, 41, 44, 72, 31, 38, 22, 37, 32, 35, 25, 25, 25, 53, 60, 75, 25, 4, 40, 80, 83, 32, 37, 44, 76, 33, 20, 9, 18, 32, 32, 38, 20, 12, 17, 24, 23, 19, 24, 24, 24, 25, 74, 17, 32, 20, 39, 39, 14, 47, 32, 23, 23, 31, 70, 48, 32, 72, 42, 25, 25, 35, 36, 35, 23, 34, 25, 16, 12, 26, 31, 37, 51, 61, 19, 31, 31, 23, 23, 39, 16, 32, 32, 54, 32, 20, 25, 25, 35, 12, 25, 45, 40, 15, 32, 12, 26, 25, 32, 72, 32, 32, 23, 25, 26, 31, 39, 31, 27, 32, 29, 18, 46, 18, 15, 25, 29, 39, 33, 24, 26, 26, 44, 44, 33, 33, 12, 32, 32, 25, 24, 24, 39, 39, 18, 18, 22, 32, 24, 32, 32, 20, 24, 46, 31, 35, 20, 17, 20, 19, 31, 44, 20, 36, 36, 36, 11, 8, 12, 15, 16, 36, 36, 25, 45, 12, 39, 27, 27, 32, 26, 25, 16, 25, 61, 12, 26, 58, 23, 32, 31, 50, 56, 38, 19, 17, 25, 29, 25, 24, 12, 35, 24, 31, 24, 32, 76, 45, 53, 32, 32, 38, 32, 28, 27, 10, 32, 32, 23, 32, 17, 20, 16, 9, 52, 24, 31, 41, 29, 51, 32, 16, 16, 40, 24, 15, 16, 39, 33, 35, 43, 43, 18, 54, 31, 32, 40, 25, 7, 23, 36, 17, 16, 23, 12, 25, 25, 40, 23, 25, 28, 27, 15, 17, 15, 31, 15, 40, 32, 20, 28, 18, 16, 11, 16, 63, 18, 18, 21, 18, 19, 24, 11, 40, 20, 19, 35, 35, 25, 25, 7, 25, 32, 24, 23, 25, 25, 32, 19, 19, 14, 14, 32, 60, 32, 43, 32, 32, 32, 25, 25, 28, 30, 54, 30, 30, 20, 20, 18, 35, 23, 32, 40, 26, 26, 12, 15, 37, 36, 12, 24, 72, 25, 32, 32, 25, 24, 24, 32, 32, 51, 33, 22, 64, 8, 42, 32, 20, 36, 32, 29, 32, 39, 25, 25, 25, 32, 26, 32, 23, 19, 64, 39, 17, 23, 16, 45, 23, 22, 31, 32, 16, 56, 39, 33, 13, 24, 53, 23, 33, 7, 24, 25, 32, 32, 23, 30, 44, 25, 32, 42, 30, 22, 29, 19, 54, 47, 12, 25, 12, 35, 33, 23, 34, 23, 33, 25, 63, 71, 36, 39, 32, 25, 48, 31, 20, 32, 35, 45, 36, 32, 47, 23, 23, 32, 23, 21, 31, 23, 24, 32, 25, 36, 24, 16, 16, 26, 46, 56, 39, 23, 25, 32, 36, 51, 16, 54, 22, 22, 11, 28, 48, 39, 40, 12, 25, 24, 23, 32, 32, 37, 17, 23, 29, 28, 32, 15, 18, 32, 55, 27, 39, 32, 18, 31, 24, 25, 31, 41, 25, 32, 17, 29, 32, 25, 25, 12, 32, 23, 35, 32, 32, 32, 39, 32, 32, 32, 38, 39, 25, 23, 32, 21, 27, 52, 23, 12, 23, 51, 25, 55, 32, 29, 16, 75, 39, 25, 51, 43, 32, 38, 73, 25, 26, 47, 68, 50, 16, 16, 31, 25, 25, 26, 20, 15, 24, 11, 3, 24, 24, 46, 32, 12, 34, 46, 32, 32, 18, 19, 22, 16, 33, 48, 52, 32, 25, 32, 33, 33, 25, 25, 26, 26, 32, 67, 16, 32, 32, 24, 20, 16, 32, 16, 16, 32, 12, 34, 30, 17, 17, 23, 25, 25, 10, 23, 29, 10, 34, 22, 22, 11, 11, 44, 20, 24, 25, 34, 15, 35, 46, 11, 19, 40, 12, 19, 30, 26, 19, 15, 16, 32, 23, 25, 24, 16, 23, 25, 20, 11, 11, 9, 42, 17, 37, 17, 28, 27, 25, 25, 20, 83, 30, 12, 32, 32, 34, 33, 19, 24, 50, 39, 31, 63, 43, 25, 22, 81, 33, 39, 39, 11, 11, 33, 33, 3, 3, 63, 70, 30, 87, 16, 49, 43, 43, 29, 16, 42, 48, 15, 15, 16, 29, 20, 28, 50, 47, 31, 31, 37, 32, 34, 23, 27, 17, 37, 32, 32, 26, 29, 21, 49, 50, 33, 56, 19, 31, 40, 18, 18, 21, 21, 20, 20, 17, 38, 30, 26, 19, 19, 22, 15, 32, 25, 18, 34, 35, 48, 33, 18, 24, 24, 23, 12, 38, 24, 30, 13, 80, 25, 42, 29, 29, 29, 16, 16, 16, 31, 31, 16, 50, 32, 23, 65, 16, 25, 35, 25, 15, 58, 23, 25, 41, 23, 32, 32, 64, 25, 17, 25, 35, 23, 32, 70, 24, 41, 46, 25, 32, 32, 30, 41, 16, 25, 24, 24, 16, 36, 29, 29, 24, 32, 32, 32, 24, 39, 31, 31, 48, 64, 64, 24, 39, 32, 32, 32, 62, 32, 46, 36, 23, 12, 32, 45, 32, 35, 35, 44, 25, 52, 44, 41, 24, 40, 40, 47, 39, 19, 25, 43, 31, 53, 50, 16, 43, 36, 41, 36, 58, 23, 32, 16, 17, 16, 27, 30, 32, 24, 24, 52, 25, 34, 49, 29, 8, 24, 37, 33, 24, 16, 29, 32, 23, 23, 26, 35, 25, 32, 24, 17, 25, 25, 70, 32, 32, 32, 25, 33, 33, 12, 43, 45, 49, 32, 33, 32, 32, 31, 31, 26, 26, 23, 31, 32, 32, 41, 24, 32, 31, 43, 32, 43, 21, 59, 59, 32, 32, 27, 32, 41, 25, 25, 50, 43, 32, 23, 26, 32, 32, 28, 43, 32, 41, 26, 23, 19, 19, 3, 17, 17, 25, 45]\n"
     ]
    }
   ],
   "source": [
    "''' \n",
    "Extend the form of the song to complete at least 64 bars\n",
    "'''\n",
    "\n",
    "bars = []\n",
    "for song in dataset:\n",
    "    number_of_bars = 0\n",
    "    for i, e in enumerate(song):\n",
    "        if e == '|' or e == 'e||' or e == 'b||':\n",
    "            number_of_bars += 1\n",
    "    bars.append(number_of_bars)\n",
    "    \n",
    "print(len(bars))\n",
    "print(bars)\n",
    "\n",
    "repeat_times = 3\n",
    "minimum = 64\n",
    "new_dataset = []\n",
    "for i, song in enumerate(dataset):\n",
    "    new_song = []\n",
    "    if bars[i] < minimum:\n",
    "        #repeat the song again\n",
    "        intro = song[0:2]\n",
    "        s = song[2:]\n",
    "        new_song = intro\n",
    "        for i in range(repeat_times):\n",
    "            new_song+=s\n",
    "    \n",
    "        new_dataset.append(new_song)\n",
    "    else:\n",
    "        new_dataset.append(song)\n",
    "\n",
    "   "
   ]
  },
  {
   "cell_type": "code",
   "execution_count": 100,
   "metadata": {},
   "outputs": [
    {
     "name": "stdout",
     "output_type": "stream",
     "text": [
      "4005\n",
      "[93, 102, 99, 84, 78, 123, 96, 60, 60, 72, 78, 108, 120, 72, 105, 60, 96, 90, 12, 87, 135, 114, 144, 84, 144, 96, 72, 12, 72, 126, 78, 78, 96, 78, 12, 162, 117, 90, 96, 174, 96, 72, 84, 114, 60, 24, 120, 108, 75, 72, 78, 66, 114, 75, 66, 132, 69, 96, 174, 168, 81, 54, 99, 108, 135, 84, 72, 96, 24, 69, 111, 96, 48, 108, 99, 69, 90, 72, 12, 66, 64, 36, 72, 72, 78, 123, 62, 162, 72, 102, 96, 96, 138, 120, 72, 108, 48, 78, 96, 96, 159, 120, 120, 96, 78, 96, 24, 87, 117, 117, 57, 57, 63, 102, 120, 84, 99, 144, 144, 132, 132, 165, 171, 72, 78, 78, 78, 138, 57, 111, 105, 75, 75, 81, 87, 87, 93, 93, 108, 72, 75, 85, 114, 96, 135, 96, 144, 96, 72, 96, 54, 78, 60, 60, 96, 102, 102, 30, 90, 96, 96, 102, 102, 72, 96, 96, 138, 96, 60, 84, 72, 117, 105, 135, 117, 108, 93, 96, 96, 111, 111, 96, 108, 102, 60, 126, 96, 168, 78, 129, 72, 81, 105, 90, 72, 90, 99, 99, 81, 96, 78, 102, 102, 96, 42, 150, 102, 102, 102, 102, 48, 48, 96, 99, 96, 63, 102, 99, 96, 69, 69, 78, 78, 42, 42, 105, 48, 84, 88, 60, 69, 120, 120, 120, 120, 120, 120, 129, 78, 81, 81, 96, 72, 87, 87, 99, 90, 90, 123, 111, 138, 132, 71, 114, 96, 108, 78, 165, 72, 81, 144, 132, 117, 192, 195, 150, 144, 123, 132, 96, 96, 120, 126, 65, 108, 96, 111, 117, 84, 54, 78, 144, 39, 126, 96, 63, 144, 114, 114, 93, 96, 96, 84, 96, 144, 96, 144, 72, 72, 95, 96, 96, 93, 93, 123, 84, 96, 48, 96, 54, 54, 72, 90, 60, 60, 126, 78, 69, 48, 78, 78, 102, 78, 87, 75, 84, 84, 156, 78, 96, 51, 141, 96, 96, 162, 189, 12, 36, 156, 87, 96, 72, 72, 72, 93, 93, 108, 60, 96, 96, 144, 96, 102, 24, 36, 36, 126, 120, 96, 78, 27, 96, 57, 108, 80, 48, 78, 48, 36, 36, 108, 81, 60, 156, 135, 93, 75, 75, 108, 78, 87, 66, 96, 72, 108, 48, 48, 36, 78, 144, 102, 84, 48, 48, 72, 54, 66, 39, 39, 81, 123, 48, 66, 66, 108, 183, 96, 108, 108, 72, 96, 105, 48, 111, 72, 72, 96, 84, 96, 51, 96, 108, 77, 96, 72, 54, 54, 78, 84, 63, 114, 75, 186, 72, 72, 54, 48, 117, 78, 117, 117, 78, 78, 120, 153, 102, 126, 36, 90, 99, 90, 78, 126, 75, 81, 96, 108, 114, 72, 96, 171, 108, 24, 99, 96, 96, 105, 96, 174, 36, 126, 36, 78, 99, 75, 78, 66, 96, 153, 72, 78, 102, 141, 72, 105, 135, 78, 105, 96, 64, 78, 78, 24, 117, 36, 36, 69, 144, 54, 24, 48, 78, 96, 54, 54, 63, 75, 78, 39, 78, 78, 36, 78, 78, 78, 96, 84, 36, 150, 96, 150, 78, 78, 144, 150, 78, 78, 36, 36, 36, 36, 72, 36, 36, 36, 72, 36, 36, 36, 36, 36, 36, 36, 36, 36, 36, 36, 48, 36, 36, 48, 36, 36, 36, 72, 72, 96, 39, 72, 90, 75, 93, 78, 102, 96, 96, 120, 120, 39, 75, 48, 111, 72, 72, 72, 78, 78, 132, 48, 102, 68, 96, 120, 96, 135, 48, 93, 68, 111, 99, 96, 96, 48, 87, 87, 87, 99, 99, 88, 96, 135, 144, 114, 54, 63, 120, 75, 117, 99, 48, 75, 123, 90, 72, 96, 105, 78, 48, 75, 60, 144, 78, 51, 108, 48, 123, 132, 48, 126, 126, 36, 30, 77, 78, 153, 72, 120, 39, 144, 72, 96, 96, 60, 93, 99, 75, 144, 36, 48, 96, 96, 108, 96, 96, 96, 96, 96, 72, 36, 96, 102, 102, 36, 78, 126, 126, 96, 66, 66, 78, 54, 72, 63, 48, 48, 66, 168, 72, 120, 60, 69, 63, 63, 117, 114, 108, 108, 147, 153, 66, 162, 75, 144, 189, 75, 165, 156, 144, 78, 81, 57, 57, 48, 84, 84, 120, 120, 84, 135, 51, 51, 129, 132, 132, 99, 57, 57, 24, 24, 159, 114, 96, 48, 84, 48, 84, 96, 132, 126, 126, 75, 78, 129, 75, 75, 117, 117, 72, 141, 48, 51, 45, 33, 12, 12, 114, 114, 129, 48, 30, 96, 129, 72, 48, 48, 120, 108, 129, 36, 12, 75, 126, 165, 93, 144, 96, 96, 36, 54, 54, 102, 102, 102, 78, 78, 72, 76, 76, 102, 102, 114, 114, 72, 108, 108, 48, 75, 36, 36, 192, 96, 114, 96, 75, 135, 135, 135, 84, 36, 96, 96, 96, 96, 96, 60, 120, 120, 54, 48, 48, 78, 96, 96, 117, 78, 48, 78, 66, 117, 68, 132, 132, 156, 102, 102, 156, 78, 54, 78, 48, 144, 150, 69, 69, 39, 39, 84, 84, 36, 36, 75, 42, 156, 186, 186, 105, 27, 78, 141, 114, 78, 33, 96, 72, 135, 135, 75, 189, 105, 24, 96, 117, 108, 132, 96, 84, 84, 96, 72, 96, 132, 33, 36, 78, 78, 78, 48, 68, 72, 99, 108, 51, 51, 39, 39, 111, 180, 159, 99, 36, 78, 54, 108, 24, 99, 99, 99, 72, 72, 87, 87, 114, 123, 102, 102, 168, 60, 60, 96, 75, 75, 54, 72, 99, 69, 96, 36, 78, 24, 99, 168, 78, 78, 78, 117, 102, 72, 93, 36, 114, 69, 81, 54, 90, 66, 96, 36, 78, 64, 75, 75, 48, 102, 147, 96, 120, 48, 54, 78, 78, 120, 72, 39, 78, 159, 96, 78, 144, 70, 96, 65, 36, 51, 60, 60, 54, 156, 48, 96, 75, 57, 57, 75, 156, 78, 117, 96, 78, 72, 132, 132, 111, 75, 96, 153, 72, 96, 12, 12, 36, 171, 186, 144, 64, 93, 96, 39, 78, 78, 78, 96, 111, 48, 66, 66, 123, 96, 60, 60, 96, 36, 150, 48, 102, 102, 68, 68, 63, 63, 108, 177, 78, 105, 105, 81, 78, 90, 90, 24, 132, 78, 78, 132, 96, 168, 126, 72, 123, 48, 48, 78, 102, 54, 96, 69, 57, 84, 30, 60, 78, 72, 75, 72, 96, 132, 66, 48, 60, 87, 87, 72, 60, 66, 66, 78, 45, 84, 78, 78, 78, 48, 105, 69, 69, 120, 75, 177, 174, 168, 66, 114, 48, 72, 72, 72, 126, 126, 84, 156, 87, 108, 78, 75, 75, 96, 96, 72, 96, 78, 96, 177, 78, 126, 120, 153, 141, 78, 96, 72, 126, 141, 68, 99, 75, 96, 51, 96, 120, 68, 68, 63, 63, 96, 75, 147, 126, 132, 36, 78, 96, 96, 96, 78, 132, 72, 84, 96, 192, 96, 120, 48, 78, 78, 168, 108, 108, 54, 96, 105, 78, 81, 78, 57, 72, 60, 96, 108, 48, 63, 63, 90, 87, 99, 78, 96, 96, 54, 54, 60, 78, 48, 96, 108, 108, 96, 78, 78, 72, 81, 48, 78, 96, 117, 132, 138, 82, 84, 36, 75, 75, 48, 96, 138, 138, 36, 96, 117, 96, 87, 54, 66, 78, 30, 72, 78, 36, 84, 96, 120, 120, 75, 111, 96, 99, 132, 48, 51, 48, 96, 36, 81, 78, 78, 48, 51, 36, 105, 105, 84, 84, 102, 96, 108, 108, 108, 78, 78, 42, 42, 36, 36, 63, 72, 69, 69, 66, 66, 96, 75, 78, 120, 138, 123, 96, 120, 78, 153, 99, 123, 36, 75, 75, 144, 96, 96, 96, 135, 126, 105, 60, 48, 96, 72, 36, 72, 72, 78, 78, 90, 90, 186, 138, 24, 81, 69, 96, 66, 12, 48, 75, 75, 132, 24, 81, 51, 90, 90, 36, 192, 96, 96, 48, 90, 78, 96, 120, 96, 84, 81, 135, 120, 108, 60, 99, 72, 108, 57, 96, 72, 48, 48, 120, 126, 72, 36, 51, 51, 81, 60, 90, 96, 84, 54, 66, 68, 159, 81, 96, 87, 90, 57, 96, 96, 36, 144, 84, 54, 39, 78, 96, 36, 78, 117, 72, 96, 70, 84, 78, 75, 141, 45, 108, 48, 63, 78, 54, 117, 126, 96, 144, 108, 96, 126, 75, 72, 72, 120, 120, 156, 156, 75, 63, 63, 90, 66, 45, 96, 96, 72, 138, 96, 54, 72, 72, 72, 120, 60, 78, 174, 174, 96, 78, 81, 42, 96, 87, 90, 78, 102, 102, 51, 96, 153, 63, 78, 72, 48, 96, 96, 96, 183, 96, 87, 36, 108, 42, 129, 69, 36, 36, 138, 72, 60, 24, 66, 81, 99, 96, 144, 111, 120, 132, 141, 147, 120, 96, 78, 48, 48, 36, 72, 78, 60, 60, 84, 93, 12, 114, 48, 48, 72, 84, 78, 78, 108, 96, 81, 108, 78, 96, 96, 57, 75, 48, 123, 78, 36, 114, 189, 168, 99, 75, 144, 150, 78, 72, 72, 60, 42, 72, 57, 42, 84, 90, 36, 87, 75, 75, 72, 24, 36, 39, 108, 72, 189, 66, 111, 96, 96, 75, 123, 171, 171, 126, 126, 72, 57, 96, 144, 69, 96, 75, 126, 69, 48, 108, 105, 102, 48, 48, 117, 48, 90, 105, 96, 24, 72, 84, 90, 120, 60, 126, 102, 39, 39, 81, 84, 96, 60, 78, 81, 39, 48, 78, 48, 54, 96, 78, 90, 105, 96, 36, 144, 93, 135, 111, 120, 87, 87, 126, 66, 102, 108, 135, 96, 78, 66, 51, 102, 72, 93, 84, 153, 66, 111, 72, 165, 72, 72, 78, 66, 96, 108, 174, 174, 120, 81, 96, 111, 87, 96, 186, 132, 96, 96, 87, 126, 105, 108, 63, 66, 102, 123, 78, 102, 102, 108, 126, 174, 42, 162, 132, 195, 114, 132, 78, 72, 48, 99, 174, 90, 78, 69, 36, 99, 39, 78, 120, 114, 129, 72, 72, 48, 156, 72, 96, 96, 90, 99, 96, 96, 132, 60, 96, 96, 96, 75, 75, 102, 132, 92, 54, 96, 150, 90, 96, 36, 54, 69, 123, 126, 129, 69, 96, 78, 96, 144, 162, 39, 84, 64, 64, 96, 96, 72, 120, 78, 87, 87, 84, 108, 48, 48, 129, 126, 78, 102, 144, 27, 168, 78, 81, 84, 144, 96, 90, 60, 96, 108, 78, 78, 126, 96, 120, 33, 132, 96, 96, 78, 78, 75, 42, 96, 93, 96, 81, 81, 75, 96, 24, 42, 123, 93, 30, 48, 102, 93, 174, 78, 135, 96, 150, 96, 135, 75, 90, 96, 96, 96, 57, 90, 78, 129, 96, 96, 81, 85, 54, 48, 96, 78, 114, 114, 90, 120, 93, 78, 78, 96, 96, 66, 72, 78, 84, 96, 96, 96, 114, 96, 72, 120, 120, 105, 102, 186, 96, 54, 54, 72, 72, 78, 93, 90, 108, 108, 120, 84, 75, 78, 108, 108, 78, 84, 78, 102, 171, 174, 75, 75, 189, 48, 144, 48, 78, 54, 54, 126, 78, 78, 168, 168, 60, 60, 96, 96, 78, 78, 78, 144, 144, 66, 54, 63, 60, 48, 132, 120, 84, 96, 114, 78, 96, 90, 51, 144, 96, 96, 84, 96, 84, 78, 72, 48, 48, 78, 99, 96, 90, 93, 108, 96, 168, 96, 96, 96, 96, 90, 87, 87, 96, 96, 81, 81, 84, 96, 141, 60, 96, 99, 72, 54, 75, 96, 120, 75, 63, 96, 96, 96, 96, 96, 81, 72, 60, 72, 48, 99, 36, 108, 57, 48, 72, 84, 90, 132, 96, 96, 54, 78, 96, 60, 96, 75, 75, 72, 36, 60, 60, 57, 72, 96, 84, 84, 96, 96, 156, 81, 84, 78, 48, 78, 111, 144, 96, 144, 144, 66, 132, 96, 96, 81, 144, 144, 48, 108, 75, 72, 114, 96, 36, 165, 75, 78, 144, 96, 96, 168, 168, 54, 90, 93, 48, 63, 126, 96, 120, 48, 96, 96, 102, 72, 72, 117, 72, 126, 78, 78, 78, 15, 78, 108, 108, 48, 12, 153, 54, 72, 90, 102, 96, 72, 72, 84, 87, 78, 36, 48, 150, 84, 48, 72, 96, 96, 72, 51, 78, 120, 120, 78, 78, 99, 144, 192, 36, 75, 93, 45, 123, 72, 102, 126, 114, 78, 96, 153, 63, 96, 72, 159, 168, 39, 105, 108, 72, 126, 108, 150, 87, 54, 48, 96, 108, 72, 63, 120, 174, 70, 108, 96, 96, 90, 84, 57, 105, 54, 69, 60, 84, 84, 96, 105, 78, 48, 96, 132, 78, 75, 87, 90, 102, 120, 120, 78, 96, 84, 72, 99, 84, 129, 78, 96, 27, 78, 96, 105, 105, 54, 75, 168, 48, 165, 63, 48, 48, 48, 75, 120, 96, 96, 48, 78, 117, 24, 48, 192, 96, 126, 96, 135, 12, 96, 78, 84, 72, 72, 78, 126, 78, 78, 78, 108, 72, 108, 138, 120, 126, 156, 96, 96, 48, 114, 93, 24, 120, 54, 81, 132, 132, 123, 72, 72, 48, 48, 111, 51, 96, 78, 78, 96, 90, 186, 48, 48, 75, 117, 72, 120, 120, 123, 24, 120, 96, 78, 72, 96, 102, 96, 60, 60, 108, 171, 114, 171, 114, 60, 75, 73, 84, 150, 135, 126, 96, 75, 120, 96, 87, 36, 168, 48, 96, 120, 84, 84, 93, 120, 120, 123, 81, 60, 54, 102, 99, 60, 96, 72, 75, 78, 78, 54, 153, 135, 72, 96, 96, 144, 105, 105, 114, 108, 75, 114, 108, 114, 120, 72, 57, 108, 69, 111, 78, 78, 78, 78, 66, 72, 72, 90, 144, 96, 81, 102, 72, 72, 24, 63, 153, 144, 54, 48, 36, 114, 57, 147, 153, 96, 72, 111, 84, 78, 78, 12, 12, 102, 75, 69, 93, 66, 96, 105, 48, 75, 123, 138, 87, 117, 57, 105, 105, 96, 96, 48, 72, 108, 168, 39, 93, 96, 87, 99, 51, 132, 66, 120, 24, 24, 120, 84, 78, 78, 45, 105, 69, 57, 72, 57, 72, 156, 99, 96, 66, 96, 96, 48, 78, 132, 108, 96, 72, 90, 78, 96, 72, 75, 120, 12, 12, 78, 102, 102, 60, 171, 87, 90, 72, 60, 129, 165, 99, 99, 69, 54, 12, 93, 90, 120, 69, 126, 84, 108, 117, 54, 72, 114, 147, 60, 60, 78, 114, 120, 96, 96, 96, 96, 96, 72, 72, 123, 123, 60, 60, 78, 126, 126, 78, 81, 96, 69, 48, 99, 48, 54, 57, 96, 51, 87, 36, 78, 84, 24, 96, 144, 96, 72, 144, 96, 99, 117, 108, 78, 78, 120, 177, 66, 126, 72, 78, 144, 108, 126, 93, 129, 93, 96, 87, 120, 120, 66, 81, 177, 99, 90, 24, 102, 93, 72, 84, 66, 66, 78, 99, 78, 120, 87, 96, 96, 102, 132, 96, 75, 12, 12, 78, 102, 96, 96, 96, 72, 90, 84, 84, 36, 108, 96, 78, 102, 63, 63, 96, 84, 120, 75, 117, 96, 51, 57, 141, 141, 72, 48, 168, 96, 108, 132, 72, 78, 78, 48, 123, 78, 84, 72, 96, 66, 66, 96, 78, 75, 96, 102, 96, 96, 117, 72, 150, 87, 48, 129, 129, 159, 72, 60, 105, 90, 24, 27, 114, 48, 72, 69, 78, 72, 102, 48, 129, 96, 102, 36, 48, 75, 135, 135, 84, 84, 117, 72, 96, 144, 156, 108, 126, 117, 90, 90, 81, 84, 102, 48, 108, 75, 90, 84, 183, 51, 78, 72, 96, 93, 141, 84, 108, 108, 120, 102, 48, 57, 66, 75, 141, 189, 138, 87, 87, 60, 12, 12, 36, 114, 72, 48, 84, 73, 54, 72, 117, 93, 81, 75, 99, 96, 36, 144, 144, 99, 96, 48, 27, 123, 132, 75, 81, 75, 72, 81, 51, 12, 12, 141, 111, 111, 54, 72, 72, 81, 96, 123, 12, 12, 51, 135, 69, 72, 57, 57, 69, 108, 99, 99, 42, 42, 147, 147, 60, 135, 48, 60, 93, 93, 33, 33, 81, 81, 117, 12, 96, 126, 126, 48, 48, 72, 96, 84, 72, 96, 78, 72, 96, 72, 81, 87, 78, 78, 114, 70, 99, 78, 81, 96, 78, 78, 99, 78, 78, 51, 90, 60, 96, 102, 102, 90, 96, 48, 96, 78, 150, 105, 150, 48, 126, 78, 90, 96, 108, 102, 108, 108, 84, 138, 60, 81, 141, 171, 120, 108, 120, 123, 207, 135, 132, 51, 102, 102, 123, 108, 48, 36, 75, 123, 45, 96, 96, 60, 96, 78, 78, 72, 96, 96, 114, 114, 114, 180, 72, 132, 135, 48, 111, 141, 78, 165, 102, 75, 36, 36, 123, 96, 114, 117, 96, 141, 186, 75, 81, 96, 108, 108, 78, 78, 60, 48, 75, 81, 72, 57, 24, 75, 36, 117, 36, 108, 186, 72, 72, 78, 78, 78, 66, 123, 123, 36, 72, 72, 72, 30, 117, 90, 90, 51, 135, 57, 57, 63, 75, 96, 99, 99, 72, 63, 63, 96, 150, 105, 48, 78, 138, 87, 105, 138, 111, 111, 78, 111, 36, 72, 36, 72, 144, 36, 72, 108, 96, 129, 48, 48, 138, 114, 141, 108, 108, 150, 39, 96, 54, 99, 111, 51, 48, 138, 96, 93, 192, 114, 72, 105, 105, 150, 96, 96, 99, 129, 75, 24, 189, 96, 96, 120, 96, 123, 123, 68, 78, 162, 93, 108, 144, 30, 108, 36, 75, 96, 90, 90, 78, 96, 57, 48, 54, 96, 96, 144, 96, 60, 60, 39, 96, 66, 72, 72, 87, 87, 105, 96, 105, 126, 60, 93, 117, 51, 51, 87, 87, 84, 84, 96, 126, 78, 111, 75, 75, 12, 12, 108, 108, 57, 114, 114, 93, 120, 102, 102, 78, 54, 87, 90, 65, 72, 111, 111, 96, 48, 84, 78, 48, 24, 42, 36, 75, 84, 84, 165, 66, 36, 138, 72, 132, 36, 36, 87, 87, 72, 77, 51, 117, 117, 69, 72, 78, 72, 51, 123, 123, 147, 117, 68, 72, 78, 102, 87, 66, 36, 153, 132, 93, 135, 114, 96, 84, 80, 102, 45, 132, 42, 117, 78, 120, 99, 147, 96, 96, 96, 87, 102, 72, 36, 129, 60, 81, 96, 96, 72, 78, 96, 120, 66, 99, 99, 81, 63, 78, 78, 78, 156, 132, 72, 72, 78, 87, 12, 48, 51, 63, 114, 63, 42, 69, 72, 36, 36, 105, 105, 54, 54, 48, 48, 78, 48, 48, 84, 75, 48, 108, 36, 63, 66, 108, 78, 150, 82, 111, 117, 117, 114, 162, 117, 84, 78, 93, 60, 93, 102, 114, 78, 78, 48, 48, 12, 51, 51, 69, 111, 96, 42, 72, 51, 51, 102, 99, 96, 78, 120, 120, 87, 51, 108, 51, 123, 75, 87, 72, 78, 78, 120, 57, 48, 72, 39, 42, 78, 78, 144, 105, 132, 81, 96, 96, 72, 126, 129, 74, 96, 120, 63, 114, 93, 111, 78, 78, 78, 159, 186, 76, 78, 15, 120, 84, 88, 96, 120, 168, 76, 108, 63, 33, 60, 96, 96, 129, 60, 36, 54, 72, 78, 51, 72, 81, 81, 78, 76, 54, 105, 63, 123, 123, 36, 147, 102, 72, 72, 90, 69, 150, 96, 72, 126, 78, 78, 108, 108, 111, 72, 102, 78, 48, 36, 84, 99, 120, 156, 186, 72, 96, 96, 72, 72, 114, 48, 96, 96, 159, 96, 60, 78, 78, 102, 36, 78, 138, 132, 48, 96, 36, 81, 78, 96, 78, 96, 96, 72, 78, 81, 90, 120, 90, 84, 96, 90, 57, 141, 51, 48, 84, 90, 114, 99, 72, 81, 81, 141, 141, 102, 102, 36, 96, 96, 78, 69, 69, 123, 123, 51, 51, 75, 96, 75, 96, 96, 63, 72, 144, 90, 108, 60, 54, 60, 60, 96, 129, 60, 105, 105, 108, 36, 24, 36, 48, 48, 108, 108, 78, 144, 39, 120, 84, 84, 96, 75, 78, 51, 78, 201, 36, 87, 174, 72, 96, 87, 150, 168, 114, 60, 54, 78, 90, 78, 72, 36, 108, 75, 93, 72, 96, 78, 141, 168, 96, 96, 135, 96, 87, 78, 36, 96, 96, 72, 96, 60, 63, 48, 36, 177, 72, 96, 126, 84, 153, 96, 48, 48, 129, 72, 48, 48, 123, 102, 102, 129, 129, 54, 168, 96, 96, 129, 78, 21, 72, 120, 54, 48, 72, 36, 78, 78, 117, 72, 78, 84, 84, 48, 54, 48, 96, 48, 117, 96, 66, 90, 57, 51, 36, 48, 192, 60, 60, 66, 54, 63, 72, 36, 144, 63, 60, 102, 102, 78, 78, 24, 78, 96, 72, 72, 78, 78, 96, 63, 63, 48, 48, 96, 186, 96, 123, 96, 96, 96, 78, 78, 84, 93, 159, 96, 96, 63, 63, 51, 105, 72, 96, 123, 81, 81, 36, 48, 114, 111, 36, 75, 72, 78, 96, 96, 78, 75, 75, 96, 96, 159, 108, 66, 64, 24, 123, 96, 57, 111, 96, 90, 96, 120, 78, 78, 78, 96, 81, 96, 72, 60, 64, 123, 57, 72, 48, 138, 72, 75, 96, 96, 48, 174, 120, 102, 45, 75, 162, 72, 102, 24, 75, 78, 93, 96, 72, 87, 135, 78, 96, 132, 93, 63, 93, 60, 159, 141, 36, 78, 36, 102, 102, 72, 102, 72, 108, 78, 189, 76, 108, 120, 96, 78, 138, 96, 60, 96, 108, 144, 111, 96, 144, 72, 72, 99, 72, 84, 90, 72, 72, 96, 72, 108, 75, 48, 48, 81, 141, 168, 123, 72, 78, 96, 111, 156, 48, 159, 72, 66, 39, 84, 144, 120, 120, 36, 78, 75, 72, 96, 96, 108, 54, 72, 90, 84, 96, 48, 54, 96, 168, 84, 117, 96, 54, 96, 75, 78, 99, 132, 78, 96, 54, 90, 96, 78, 78, 36, 93, 72, 114, 96, 96, 96, 120, 96, 96, 96, 126, 114, 78, 72, 96, 60, 78, 168, 72, 39, 72, 162, 78, 168, 96, 96, 48, 77, 120, 78, 159, 135, 96, 114, 72, 78, 78, 144, 68, 156, 48, 48, 96, 78, 78, 81, 63, 48, 75, 36, 12, 72, 69, 144, 99, 39, 108, 144, 96, 96, 60, 60, 72, 48, 102, 144, 156, 96, 78, 96, 102, 102, 78, 78, 75, 81, 96, 66, 48, 96, 96, 75, 63, 48, 96, 48, 48, 96, 36, 99, 90, 57, 57, 66, 78, 78, 36, 72, 87, 39, 102, 69, 69, 36, 36, 135, 66, 75, 78, 102, 57, 105, 138, 36, 60, 120, 36, 60, 102, 87, 51, 48, 51, 96, 72, 78, 78, 48, 72, 78, 60, 36, 36, 39, 126, 54, 111, 54, 81, 78, 78, 78, 60, 82, 93, 39, 96, 96, 111, 102, 60, 72, 150, 114, 96, 192, 135, 78, 75, 84, 102, 114, 114, 36, 36, 105, 105, 12, 12, 192, 72, 96, 88, 48, 150, 138, 138, 90, 51, 129, 144, 45, 45, 51, 84, 60, 87, 144, 141, 96, 96, 108, 96, 108, 66, 96, 57, 108, 96, 96, 87, 87, 72, 159, 165, 99, 165, 60, 96, 120, 60, 60, 63, 63, 63, 63, 57, 114, 93, 84, 60, 60, 75, 48, 96, 78, 57, 105, 102, 144, 96, 60, 75, 75, 72, 36, 126, 87, 96, 39, 80, 78, 126, 90, 90, 90, 48, 48, 48, 96, 96, 48, 147, 99, 72, 67, 48, 78, 102, 78, 48, 186, 72, 72, 129, 72, 96, 96, 64, 84, 54, 78, 108, 72, 96, 72, 75, 132, 147, 78, 96, 96, 102, 123, 48, 78, 75, 75, 48, 120, 90, 90, 75, 96, 93, 96, 75, 114, 96, 96, 156, 64, 64, 75, 114, 96, 96, 96, 198, 96, 141, 108, 72, 36, 96, 153, 102, 108, 108, 132, 78, 153, 138, 123, 72, 120, 120, 144, 117, 60, 78, 132, 96, 165, 153, 51, 129, 114, 129, 108, 180, 72, 114, 48, 54, 51, 81, 87, 96, 75, 75, 162, 78, 117, 156, 90, 33, 78, 108, 96, 78, 48, 87, 99, 72, 72, 81, 108, 78, 96, 72, 54, 78, 78, 74, 96, 96, 96, 78, 102, 102, 39, 132, 165, 156, 96, 108, 96, 96, 96, 96, 78, 78, 75, 96, 108, 96, 132, 75, 96, 96, 135, 96, 138, 66, 177, 177, 96, 96, 84, 96, 126, 78, 78, 147, 132, 96, 72, 81, 93, 96, 84, 132, 96, 123, 81, 72, 66, 66, 12, 60, 60, 78, 132]\n"
     ]
    },
    {
     "data": {
      "text/plain": [
       "<seaborn.axisgrid.FacetGrid at 0x7f92043f8820>"
      ]
     },
     "execution_count": 100,
     "metadata": {},
     "output_type": "execute_result"
    },
    {
     "data": {
      "image/png": "[encoded data removed]",
      "text/plain": [
       "<Figure size 500x500 with 1 Axes>"
      ]
     },
     "metadata": {
      "image/png": {
       "height": 489,
       "width": 490
      }
     },
     "output_type": "display_data"
    }
   ],
   "source": [
    "bars = []\n",
    "for song in new_dataset:\n",
    "    number_of_bars = 0\n",
    "    for i, e in enumerate(song):\n",
    "        if e[0] == '|' or e[0] == 'e||' or e[0] == 'b||':\n",
    "            number_of_bars += 1\n",
    "    bars.append(number_of_bars)\n",
    "    \n",
    "print(len(bars))\n",
    "print(bars)\n",
    "\n",
    "import seaborn as sns\n",
    "\n",
    "#visualize the bars length of the songs\n",
    "sns.displot(bars, kde=False, bins=100)"
   ]
  },
  {
   "cell_type": "code",
   "execution_count": 101,
   "metadata": {},
   "outputs": [
    {
     "name": "stdout",
     "output_type": "stream",
     "text": [
      "{'G major', 'Gb major', 'C minor', 'D minor', 'Eb minor', 'B minor', 'B major', 'D major', 'Bb major', 'C# minor', 'E minor', 'E major', 'Ab major', 'C major', 'F# minor', 'A major', 'F major', 'A minor', 'Eb major', 'Db major', 'G# minor', 'Bb minor', 'G minor', 'F minor'}\n",
      "['A', 'Ab', 'B', 'Bb', 'C', 'C#', 'D', 'Db', 'E', 'Eb', 'F', 'F#', 'G', 'G#', 'Gb']\n"
     ]
    }
   ],
   "source": [
    "#check all tonalities\n",
    "all_tonalities = [all_meta[i]['tonality'] for i in range(len(all_meta))]\n",
    "\n",
    "all_tonalities = set(all_tonalities)\n",
    "print(all_tonalities)\n",
    "\n",
    "#get only the notes by splitting the tonalities\n",
    "tonalities = [t.split(' ')[0] for t in all_tonalities]\n",
    "\n",
    "#sort notes starting from A\n",
    "tonalities = set(tonalities)\n",
    "notes = sorted(tonalities, key=lambda x: (x, x[0]))\n",
    "print(notes)\n"
   ]
  },
  {
   "cell_type": "code",
   "execution_count": 102,
   "metadata": {},
   "outputs": [
    {
     "name": "stdout",
     "output_type": "stream",
     "text": [
      "458 458\n",
      "['<style>', 'Medium Swing', 'Form_A', '|:', '.', '2.0', 'Eb', 'dom7', '.', '2.0', 'Bb', 'dom7', '|', '.', '4.0', 'Eb', 'dom7', '|', '.', '4.0', 'C', 'm', '|', '.', '4.0', 'C', 'm', '|', '.', '4.0', 'Eb', 'dom7', '|', '.', '4.0', 'Ab', 'dom7', '|', 'Repeat_1', '.', '4.0', 'F', 'm', '|', '.', '4.0', 'F', 'm', '/', 'Bb', ':|', '|', 'Repeat_2', '.', '2.0', 'F', 'm', '.', '2.0', 'Bb', 'dom7', '|', '.', '4.0', 'Eb', 'dom7', 'Form_B', '|', '.', '4.0', 'G', 'dom7', '|', '.', '4.0', 'G', 'dom7', '|', '.', '4.0', 'C', 'dom7', '|', '.', '4.0', 'C', 'dom7', '|', '.', '4.0', 'F', 'dom7', '|', '.', '4.0', 'F', 'dom7', '|', '.', '4.0', 'Bb', 'dom7', '|', '.', '4.0', 'Bb', 'dom7', 'Form_A', '|', '.', '2.0', 'Eb', 'dom7', '.', '2.0', 'Bb', 'dom7', '|', '.', '4.0', 'Eb', 'dom7', '|', '.', '4.0', 'C', 'm', '|', '.', '4.0', 'C', 'm', '|', '.', '4.0', 'Eb', 'dom7', '|', '.', '4.0', 'Ab', 'dom7', '|', '.', '4.0', 'F', 'm', '|', '.', '4.0', 'F', 'm', '/', 'Bb', 'Form_A', '|:', '.', '2.0', 'Eb', 'dom7', '.', '2.0', 'Bb', 'dom7', '|', '.', '4.0', 'Eb', 'dom7', '|', '.', '4.0', 'C', 'm', '|', '.', '4.0', 'C', 'm', '|', '.', '4.0', 'Eb', 'dom7', '|', '.', '4.0', 'Ab', 'dom7', '|', 'Repeat_1', '.', '4.0', 'F', 'm', '|', '.', '4.0', 'F', 'm', '/', 'Bb', ':|', '|', 'Repeat_2', '.', '2.0', 'F', 'm', '.', '2.0', 'Bb', 'dom7', '|', '.', '4.0', 'Eb', 'dom7', 'Form_B', '|', '.', '4.0', 'G', 'dom7', '|', '.', '4.0', 'G', 'dom7', '|', '.', '4.0', 'C', 'dom7', '|', '.', '4.0', 'C', 'dom7', '|', '.', '4.0', 'F', 'dom7', '|', '.', '4.0', 'F', 'dom7', '|', '.', '4.0', 'Bb', 'dom7', '|', '.', '4.0', 'Bb', 'dom7', 'Form_A', '|', '.', '2.0', 'Eb', 'dom7', '.', '2.0', 'Bb', 'dom7', '|', '.', '4.0', 'Eb', 'dom7', '|', '.', '4.0', 'C', 'm', '|', '.', '4.0', 'C', 'm', '|', '.', '4.0', 'Eb', 'dom7', '|', '.', '4.0', 'Ab', 'dom7', '|', '.', '4.0', 'F', 'm', '|', '.', '4.0', 'F', 'm', '/', 'Bb', 'Form_A', '|:', '.', '2.0', 'Eb', 'dom7', '.', '2.0', 'Bb', 'dom7', '|', '.', '4.0', 'Eb', 'dom7', '|', '.', '4.0', 'C', 'm', '|', '.', '4.0', 'C', 'm', '|', '.', '4.0', 'Eb', 'dom7', '|', '.', '4.0', 'Ab', 'dom7', '|', 'Repeat_1', '.', '4.0', 'F', 'm', '|', '.', '4.0', 'F', 'm', '/', 'Bb', ':|', '|', 'Repeat_2', '.', '2.0', 'F', 'm', '.', '2.0', 'Bb', 'dom7', '|', '.', '4.0', 'Eb', 'dom7', 'Form_B', '|', '.', '4.0', 'G', 'dom7', '|', '.', '4.0', 'G', 'dom7', '|', '.', '4.0', 'C', 'dom7', '|', '.', '4.0', 'C', 'dom7', '|', '.', '4.0', 'F', 'dom7', '|', '.', '4.0', 'F', 'dom7', '|', '.', '4.0', 'Bb', 'dom7', '|', '.', '4.0', 'Bb', 'dom7', 'Form_A', '|', '.', '2.0', 'Eb', 'dom7', '.', '2.0', 'Bb', 'dom7', '|', '.', '4.0', 'Eb', 'dom7', '|', '.', '4.0', 'C', 'm', '|', '.', '4.0', 'C', 'm', '|', '.', '4.0', 'Eb', 'dom7', '|', '.', '4.0', 'Ab', 'dom7', '|', '.', '4.0', 'F', 'm', '|', '.', '4.0', 'F', 'm', '/', 'Bb']\n",
      "['<style>', 'Medium Swing', 'Form_A', '|:', '.', '2.0', 'C', 'dom7', '.', '2.0', 'G', 'dom7', '|', '.', '4.0', 'C', 'dom7', '|', '.', '4.0', 'A', 'm', '|', '.', '4.0', 'A', 'm', '|', '.', '4.0', 'C', 'dom7', '|', '.', '4.0', 'F', 'dom7', '|', 'Repeat_1', '.', '4.0', 'D', 'm', '|', '.', '4.0', 'D', 'm', '/', 'G', ':|', '|', 'Repeat_2', '.', '2.0', 'D', 'm', '.', '2.0', 'G', 'dom7', '|', '.', '4.0', 'C', 'dom7', 'Form_B', '|', '.', '4.0', 'E', 'dom7', '|', '.', '4.0', 'E', 'dom7', '|', '.', '4.0', 'A', 'dom7', '|', '.', '4.0', 'A', 'dom7', '|', '.', '4.0', 'D', 'dom7', '|', '.', '4.0', 'D', 'dom7', '|', '.', '4.0', 'G', 'dom7', '|', '.', '4.0', 'G', 'dom7', 'Form_A', '|', '.', '2.0', 'C', 'dom7', '.', '2.0', 'G', 'dom7', '|', '.', '4.0', 'C', 'dom7', '|', '.', '4.0', 'A', 'm', '|', '.', '4.0', 'A', 'm', '|', '.', '4.0', 'C', 'dom7', '|', '.', '4.0', 'F', 'dom7', '|', '.', '4.0', 'D', 'm', '|', '.', '4.0', 'D', 'm', '/', 'G', 'Form_A', '|:', '.', '2.0', 'C', 'dom7', '.', '2.0', 'G', 'dom7', '|', '.', '4.0', 'C', 'dom7', '|', '.', '4.0', 'A', 'm', '|', '.', '4.0', 'A', 'm', '|', '.', '4.0', 'C', 'dom7', '|', '.', '4.0', 'F', 'dom7', '|', 'Repeat_1', '.', '4.0', 'D', 'm', '|', '.', '4.0', 'D', 'm', '/', 'G', ':|', '|', 'Repeat_2', '.', '2.0', 'D', 'm', '.', '2.0', 'G', 'dom7', '|', '.', '4.0', 'C', 'dom7', 'Form_B', '|', '.', '4.0', 'E', 'dom7', '|', '.', '4.0', 'E', 'dom7', '|', '.', '4.0', 'A', 'dom7', '|', '.', '4.0', 'A', 'dom7', '|', '.', '4.0', 'D', 'dom7', '|', '.', '4.0', 'D', 'dom7', '|', '.', '4.0', 'G', 'dom7', '|', '.', '4.0', 'G', 'dom7', 'Form_A', '|', '.', '2.0', 'C', 'dom7', '.', '2.0', 'G', 'dom7', '|', '.', '4.0', 'C', 'dom7', '|', '.', '4.0', 'A', 'm', '|', '.', '4.0', 'A', 'm', '|', '.', '4.0', 'C', 'dom7', '|', '.', '4.0', 'F', 'dom7', '|', '.', '4.0', 'D', 'm', '|', '.', '4.0', 'D', 'm', '/', 'G', 'Form_A', '|:', '.', '2.0', 'C', 'dom7', '.', '2.0', 'G', 'dom7', '|', '.', '4.0', 'C', 'dom7', '|', '.', '4.0', 'A', 'm', '|', '.', '4.0', 'A', 'm', '|', '.', '4.0', 'C', 'dom7', '|', '.', '4.0', 'F', 'dom7', '|', 'Repeat_1', '.', '4.0', 'D', 'm', '|', '.', '4.0', 'D', 'm', '/', 'G', ':|', '|', 'Repeat_2', '.', '2.0', 'D', 'm', '.', '2.0', 'G', 'dom7', '|', '.', '4.0', 'C', 'dom7', 'Form_B', '|', '.', '4.0', 'E', 'dom7', '|', '.', '4.0', 'E', 'dom7', '|', '.', '4.0', 'A', 'dom7', '|', '.', '4.0', 'A', 'dom7', '|', '.', '4.0', 'D', 'dom7', '|', '.', '4.0', 'D', 'dom7', '|', '.', '4.0', 'G', 'dom7', '|', '.', '4.0', 'G', 'dom7', 'Form_A', '|', '.', '2.0', 'C', 'dom7', '.', '2.0', 'G', 'dom7', '|', '.', '4.0', 'C', 'dom7', '|', '.', '4.0', 'A', 'm', '|', '.', '4.0', 'A', 'm', '|', '.', '4.0', 'C', 'dom7', '|', '.', '4.0', 'F', 'dom7', '|', '.', '4.0', 'D', 'm', '|', '.', '4.0', 'D', 'm', '/', 'G']\n"
     ]
    }
   ],
   "source": [
    "#Check songs after transposing test case\n",
    "\n",
    "import transposition as tr\n",
    "importlib.reload(tr)\n",
    "\n",
    "transpose = tr.Transposition()\n",
    "\n",
    "#id = 1474\n",
    "#id = 4005\n",
    "id = 256\n",
    "song_to_transpose = new_dataset[id]\n",
    "tonality = all_meta[id]['tonality']\n",
    "song_name = all_meta[id]['song_name']\n",
    "\n",
    "tonal = 'C'\n",
    "new_song = transpose.transpose_song(song_to_transpose, tonality, tonal)\n",
    "\n",
    "print(len(song_to_transpose), len(new_song))\n",
    "print(song_to_transpose)\n",
    "print(new_song)"
   ]
  },
  {
   "cell_type": "code",
   "execution_count": 103,
   "metadata": {},
   "outputs": [
    {
     "name": "stderr",
     "output_type": "stream",
     "text": [
      "100%|██████████| 4005/4005 [01:07<00:00, 59.49it/s]"
     ]
    },
    {
     "name": "stdout",
     "output_type": "stream",
     "text": [
      "48060 48060\n"
     ]
    },
    {
     "name": "stderr",
     "output_type": "stream",
     "text": [
      "\n"
     ]
    }
   ],
   "source": [
    "#Augment the dataset with all tonalities\n",
    "import transposition as tr\n",
    "transpose = tr.Transposition()\n",
    "\n",
    "dataset_augmented = []\n",
    "meta_augmented = []\n",
    "tonalities = ['C', 'Db', 'D', 'Eb', 'E', 'F', 'Gb', 'G', 'Ab', 'A', 'Bb', 'B']\n",
    "\n",
    "for i, song in enumerate(tqdm(new_dataset)):\n",
    "    tonality = all_meta[i]['tonality']\n",
    "    for tonal in tonalities:\n",
    "        new_song = transpose.transpose_song(song, tonality, tonal)\n",
    "        dataset_augmented.append(new_song)\n",
    "        new_meta = all_meta[i].copy()\n",
    "        info = tonality.split(' ')\n",
    "        new_nature = info[1]\n",
    "        new_meta['tonality'] = tonal + ' ' + new_nature\n",
    "        meta_augmented.append(new_meta)\n",
    "\n",
    "print(len(dataset_augmented), len(meta_augmented))"
   ]
  },
  {
   "cell_type": "code",
   "execution_count": 104,
   "metadata": {},
   "outputs": [
    {
     "name": "stderr",
     "output_type": "stream",
     "text": [
      "100%|██████████| 48060/48060 [01:40<00:00, 479.86it/s] "
     ]
    },
    {
     "name": "stdout",
     "output_type": "stream",
     "text": [
      "48060\n"
     ]
    },
    {
     "name": "stderr",
     "output_type": "stream",
     "text": [
      "\n"
     ]
    }
   ],
   "source": [
    "#Extract all MIDI arrays from the dataset, check the sizes and normalize its size to eight values\n",
    "import voicing as vc\n",
    "importlib.reload(vc)\n",
    "voicing = vc.Voicing()\n",
    "\n",
    "midi_voicing_dataset = []\n",
    "for i, song in enumerate(tqdm(dataset_augmented)):\n",
    "    mv, status = voicing.convert_chords_to_voicing(song)\n",
    "    midi_voicing_dataset.append(mv)\n",
    "    if status == False:\n",
    "        print(i, '\\n', meta_augmented[i], '\\n', song)\n",
    "        break\n",
    "    \n",
    "print(len(midi_voicing_dataset))\n"
   ]
  },
  {
   "cell_type": "code",
   "execution_count": 105,
   "metadata": {},
   "outputs": [
    {
     "name": "stdout",
     "output_type": "stream",
     "text": [
      "'Tain't No Sin To Take Off Your Skin\n",
      "([0, 0, 0, 0, 0, 0, 0, 0], 0.0, ('<style>', 4.0))\n",
      "([0, 0, 0, 0, 0, 0, 0, 0], 0.0, ('Jazz', 4.0))\n",
      "([0, 0, 0, 0, 0, 0, 0, 0], 0.0, ('|', 4.0))\n",
      "([0, 0, 0, 0, 0, 0, 0, 0], 0.0, ('.', 4.0))\n",
      "([0, 0, 0, 0, 0, 0, 0, 0], 0.0, ('Eb', 4.0))\n",
      "([0, 0, 0, 0, 0, 0, 0, 0], 0.0, ('maj7', 4.0))\n",
      "([0, 0, 0, 0, 0, 0, 0, 0], 0.0, ('add #11', 4.0))\n",
      "([0, 0, 0, 0, 0, 0, 0, 0], 0.0, ('add 13', 4.0))\n",
      "([0, 0, 0, 0, 0, 0, 0, 0], 0.0, ('/', 4.0))\n",
      "([0, 0, 0, 0, 0, 0, 0, 0], 0.0, ('D', 4.0))\n"
     ]
    }
   ],
   "source": [
    "#Check particular cases to be sure MIDI voicing translation is correct\n",
    "\n",
    "#Reload voicing and check the error\n",
    "import voicing as vc\n",
    "importlib.reload(vc)\n",
    "voicing = vc.Voicing()\n",
    "\n",
    "\n",
    "seq = [('<style>', 4.0), ('Jazz', 4.0), ('|', 4.0), ('.', 4.0), ('Eb', 4.0), ('maj7', 4.0), ('add #11', 4.0), ('add 13', 4.0),('/', 4.0), ('D', 4.0)]\n",
    "\n",
    "import voicing as vc\n",
    "voicing = vc.Voicing()\n",
    "\n",
    "id = 1\n",
    "test_this = new_dataset[id]\n",
    "name = all_meta[id]['song_name']\n",
    "\n",
    "path = '../data/midi_files/'\n",
    "midi_v, _ = voicing.convert_chords_to_voicing(seq)\n",
    "\n",
    "print(name)\n",
    "for i, e in enumerate(midi_v):\n",
    "    print(e)\n",
    "    \n",
    "#print(midi_v)\n",
    "\n",
    "#voicing.export_to_midi(midi_v, name, path)"
   ]
  },
  {
   "cell_type": "code",
   "execution_count": 106,
   "metadata": {},
   "outputs": [
    {
     "name": "stderr",
     "output_type": "stream",
     "text": [
      "100%|██████████| 48060/48060 [00:08<00:00, 5919.91it/s]"
     ]
    },
    {
     "name": "stdout",
     "output_type": "stream",
     "text": [
      "Test Completed Successfully!!!\n"
     ]
    },
    {
     "name": "stderr",
     "output_type": "stream",
     "text": [
      "\n"
     ]
    }
   ],
   "source": [
    "id = 3732\n",
    "correct = True\n",
    "for n, song in enumerate(tqdm(midi_voicing_dataset)):\n",
    "    for i, e in enumerate(song):\n",
    "        m = e[0]\n",
    "        if len(m) != 8:\n",
    "            print(\"\\nWrong sequence at: ------> \", n, i, '\\n', e, len(m), '\\n')\n",
    "            id = n\n",
    "            print_this_song(meta_augmented, midi_voicing_dataset, id)\n",
    "            correct = False\n",
    "            break\n",
    "    if correct == False:\n",
    "        break\n",
    "        \n",
    "if (correct): print('Test Completed Successfully!!!')"
   ]
  },
  {
   "cell_type": "code",
   "execution_count": 107,
   "metadata": {},
   "outputs": [
    {
     "name": "stdout",
     "output_type": "stream",
     "text": [
      "{'composer': 'Strayhorn-Ellington', 'style': 'Medium Swing', 'song_name': 'Isfahan', 'tonality': 'C major', 'midi_key': 13, 'time_signature': '4/4', 'decade': 'Null'}\n",
      "['<style>', 'Medium Swing', 'Form_A', '|', '.', '4.0', 'C', 'maj7', '|', '.', '2.0', 'A', 'maj7', '.', '2.0', 'A', 'dom7', 'alter #5', '|', '.', '4.0', 'D', 'dom7', 'add 9', '|', '.', '4.0', 'D', 'dom7', 'add 9', '|', '.', '4.0', 'G#', 'maj7', '|', '.', '4.0', 'G', 'dom7', 'add 13', 'add b9', '|', '.', '4.0', 'C', 'maj7', '|', '.', '4.0', 'C', 'maj7', 'Form_B', '|', '.', '2.0', 'F#', 'm7', 'alter b5', 'add b9', '.', '2.0', 'B', 'dom7', 'alter b5', 'add b9', '|', '.', '4.0', 'E', 'm6', '|', '.', '2.0', 'G#', 'm7', 'alter b5', 'add b9', '.', '2.0', 'C#', 'dom7', 'alter b5', 'add b9', '|', '.', '4.0', 'F#', 'm6', '|', '.', '4.0', 'F#', 'm7', 'alter b5', '|', '.', '4.0', 'B', 'dom7', 'add b9', '|', '.', '2.0', 'E', 'maj7', '.', '2.0', 'D#', 'maj7', '|', '.', '2.0', 'D', 'maj7', '.', '2.0', 'C#', 'maj7', 'Form_A', '|', '.', '4.0', 'C', 'maj7', '|', '.', '2.0', 'A', 'maj7', '.', '2.0', 'A', 'dom7', 'alter #5', '|', '.', '4.0', 'D', 'dom7', 'add 9', '|', '.', '4.0', 'D', 'dom7', 'add 9', '|', '.', '4.0', 'G#', 'maj7', '|', '.', '4.0', 'G', 'dom7', 'add 13', 'add b9', '|', '.', '4.0', 'C', 'dom7', 'add #11', '|', '.', '4.0', 'C', 'dom7', 'add #11', 'Form_C', '|', '.', '4.0', 'F', 'maj7', '|', '.', '4.0', 'B', 'dom7', 'add #9', '|', '.', '4.0', 'E', 'dom7', 'add #11', '|', '.', '4.0', 'A', 'dom7', '|', '.', '4.0', 'D', 'dom7', 'add 13', '|', '.', '2.0', 'G', 'dom7', 'add 13', 'alter b9', 'alter #5', '.', '2.0', 'G', 'dom7', 'add 9', 'alter b9', 'alter #5', '|', '.', '4.0', 'C', 'maj6', '|', '.', '2.0', 'D', 'm7', '.', '2.0', 'G', 'dom7', 'Form_A', '|', '.', '4.0', 'C', 'maj7', '|', '.', '2.0', 'A', 'maj7', '.', '2.0', 'A', 'dom7', 'alter #5', '|', '.', '4.0', 'D', 'dom7', 'add 9', '|', '.', '4.0', 'D', 'dom7', 'add 9', '|', '.', '4.0', 'G#', 'maj7', '|', '.', '4.0', 'G', 'dom7', 'add 13', 'add b9', '|', '.', '4.0', 'C', 'maj7', '|', '.', '4.0', 'C', 'maj7', 'Form_B', '|', '.', '2.0', 'F#', 'm7', 'alter b5', 'add b9', '.', '2.0', 'B', 'dom7', 'alter b5', 'add b9', '|', '.', '4.0', 'E', 'm6', '|', '.', '2.0', 'G#', 'm7', 'alter b5', 'add b9', '.', '2.0', 'C#', 'dom7', 'alter b5', 'add b9', '|', '.', '4.0', 'F#', 'm6', '|', '.', '4.0', 'F#', 'm7', 'alter b5', '|', '.', '4.0', 'B', 'dom7', 'add b9', '|', '.', '2.0', 'E', 'maj7', '.', '2.0', 'D#', 'maj7', '|', '.', '2.0', 'D', 'maj7', '.', '2.0', 'C#', 'maj7', 'Form_A', '|', '.', '4.0', 'C', 'maj7', '|', '.', '2.0', 'A', 'maj7', '.', '2.0', 'A', 'dom7', 'alter #5', '|', '.', '4.0', 'D', 'dom7', 'add 9', '|', '.', '4.0', 'D', 'dom7', 'add 9', '|', '.', '4.0', 'G#', 'maj7', '|', '.', '4.0', 'G', 'dom7', 'add 13', 'add b9', '|', '.', '4.0', 'C', 'dom7', 'add #11', '|', '.', '4.0', 'C', 'dom7', 'add #11', 'Form_C', '|', '.', '4.0', 'F', 'maj7', '|', '.', '4.0', 'B', 'dom7', 'add #9', '|', '.', '4.0', 'E', 'dom7', 'add #11', '|', '.', '4.0', 'A', 'dom7', '|', '.', '4.0', 'D', 'dom7', 'add 13', '|', '.', '2.0', 'G', 'dom7', 'add 13', 'alter b9', 'alter #5', '.', '2.0', 'G', 'dom7', 'add 9', 'alter b9', 'alter #5', '|', '.', '4.0', 'C', 'maj6', '|', '.', '2.0', 'D', 'm7', '.', '2.0', 'G', 'dom7', 'Form_A', '|', '.', '4.0', 'C', 'maj7', '|', '.', '2.0', 'A', 'maj7', '.', '2.0', 'A', 'dom7', 'alter #5', '|', '.', '4.0', 'D', 'dom7', 'add 9', '|', '.', '4.0', 'D', 'dom7', 'add 9', '|', '.', '4.0', 'G#', 'maj7', '|', '.', '4.0', 'G', 'dom7', 'add 13', 'add b9', '|', '.', '4.0', 'C', 'maj7', '|', '.', '4.0', 'C', 'maj7', 'Form_B', '|', '.', '2.0', 'F#', 'm7', 'alter b5', 'add b9', '.', '2.0', 'B', 'dom7', 'alter b5', 'add b9', '|', '.', '4.0', 'E', 'm6', '|', '.', '2.0', 'G#', 'm7', 'alter b5', 'add b9', '.', '2.0', 'C#', 'dom7', 'alter b5', 'add b9', '|', '.', '4.0', 'F#', 'm6', '|', '.', '4.0', 'F#', 'm7', 'alter b5', '|', '.', '4.0', 'B', 'dom7', 'add b9', '|', '.', '2.0', 'E', 'maj7', '.', '2.0', 'D#', 'maj7', '|', '.', '2.0', 'D', 'maj7', '.', '2.0', 'C#', 'maj7', 'Form_A', '|', '.', '4.0', 'C', 'maj7', '|', '.', '2.0', 'A', 'maj7', '.', '2.0', 'A', 'dom7', 'alter #5', '|', '.', '4.0', 'D', 'dom7', 'add 9', '|', '.', '4.0', 'D', 'dom7', 'add 9', '|', '.', '4.0', 'G#', 'maj7', '|', '.', '4.0', 'G', 'dom7', 'add 13', 'add b9', '|', '.', '4.0', 'C', 'dom7', 'add #11', '|', '.', '4.0', 'C', 'dom7', 'add #11', 'Form_C', '|', '.', '4.0', 'F', 'maj7', '|', '.', '4.0', 'B', 'dom7', 'add #9', '|', '.', '4.0', 'E', 'dom7', 'add #11', '|', '.', '4.0', 'A', 'dom7', '|', '.', '4.0', 'D', 'dom7', 'add 13', '|', '.', '2.0', 'G', 'dom7', 'add 13', 'alter b9', 'alter #5', '.', '2.0', 'G', 'dom7', 'add 9', 'alter b9', 'alter #5', '|', '.', '4.0', 'C', 'maj6', '|', '.', '2.0', 'D', 'm7', '.', '2.0', 'G', 'dom7']\n",
      "[([0, 0, 0, 0, 0, 0, 0, 0], 0.0, '<style>'), ([0, 0, 0, 0, 0, 0, 0, 0], 0.0, 'Medium Swing'), ([0, 0, 0, 0, 0, 0, 0, 0], 0.0, 'Form_A'), ([0, 0, 0, 0, 0, 0, 0, 0], 0.0, '|'), ([0, 0, 0, 0, 0, 0, 0, 0], 4.0, '.'), ([0, 0, 0, 0, 0, 0, 0, 0], 4.0, '4.0'), ([48, 0, 0, 0, 0, 0, 0, 0], 4.0, 'C'), ([48, 59, 64, 67, 0, 0, 0, 0], 4.0, 'maj7'), ([0, 0, 0, 0, 0, 0, 0, 0], 4.0, '|'), ([0, 0, 0, 0, 0, 0, 0, 0], 2.0, '.'), ([0, 0, 0, 0, 0, 0, 0, 0], 2.0, '2.0'), ([45, 0, 0, 0, 0, 0, 0, 0], 2.0, 'A'), ([45, 56, 59, 61, 64, 0, 0, 0], 2.0, 'maj7'), ([0, 0, 0, 0, 0, 0, 0, 0], 2.0, '.'), ([0, 0, 0, 0, 0, 0, 0, 0], 2.0, '2.0'), ([45, 0, 0, 0, 0, 0, 0, 0], 2.0, 'A'), ([45, 55, 61, 64, 0, 0, 0, 0], 2.0, 'dom7'), ([45, 55, 61, 65, 0, 0, 0, 0], 2.0, 'alter #5'), ([0, 0, 0, 0, 0, 0, 0, 0], 2.0, '|'), ([0, 0, 0, 0, 0, 0, 0, 0], 4.0, '.'), ([0, 0, 0, 0, 0, 0, 0, 0], 4.0, '4.0'), ([50, 0, 0, 0, 0, 0, 0, 0], 4.0, 'D'), ([50, 60, 66, 69, 0, 0, 0, 0], 4.0, 'dom7'), ([50, 60, 66, 69, 64, 0, 0, 0], 4.0, 'add 9'), ([0, 0, 0, 0, 0, 0, 0, 0], 4.0, '|'), ([0, 0, 0, 0, 0, 0, 0, 0], 4.0, '.'), ([0, 0, 0, 0, 0, 0, 0, 0], 4.0, '4.0'), ([50, 0, 0, 0, 0, 0, 0, 0], 4.0, 'D'), ([50, 60, 66, 69, 0, 0, 0, 0], 4.0, 'dom7'), ([50, 60, 66, 69, 64, 0, 0, 0], 4.0, 'add 9'), ([0, 0, 0, 0, 0, 0, 0, 0], 4.0, '|'), ([0, 0, 0, 0, 0, 0, 0, 0], 4.0, '.'), ([0, 0, 0, 0, 0, 0, 0, 0], 4.0, '4.0'), ([44, 0, 0, 0, 0, 0, 0, 0], 4.0, 'G#'), ([44, 55, 60, 63, 0, 0, 0, 0], 4.0, 'maj7'), ([0, 0, 0, 0, 0, 0, 0, 0], 4.0, '|'), ([0, 0, 0, 0, 0, 0, 0, 0], 4.0, '.'), ([0, 0, 0, 0, 0, 0, 0, 0], 4.0, '4.0'), ([43, 0, 0, 0, 0, 0, 0, 0], 4.0, 'G'), ([43, 53, 57, 59, 62, 0, 0, 0], 4.0, 'dom7'), ([43, 53, 57, 59, 62, 64, 0, 0], 4.0, 'add 13'), ([43, 53, 59, 62, 64, 56, 0, 0], 4.0, 'add b9'), ([0, 0, 0, 0, 0, 0, 0, 0], 4.0, '|'), ([0, 0, 0, 0, 0, 0, 0, 0], 4.0, '.'), ([0, 0, 0, 0, 0, 0, 0, 0], 4.0, '4.0'), ([48, 0, 0, 0, 0, 0, 0, 0], 4.0, 'C'), ([48, 59, 64, 67, 0, 0, 0, 0], 4.0, 'maj7'), ([0, 0, 0, 0, 0, 0, 0, 0], 4.0, '|'), ([0, 0, 0, 0, 0, 0, 0, 0], 4.0, '.'), ([0, 0, 0, 0, 0, 0, 0, 0], 4.0, '4.0'), ([48, 0, 0, 0, 0, 0, 0, 0], 4.0, 'C'), ([48, 59, 62, 64, 67, 0, 0, 0], 4.0, 'maj7'), ([0, 0, 0, 0, 0, 0, 0, 0], 4.0, 'Form_B'), ([0, 0, 0, 0, 0, 0, 0, 0], 4.0, '|'), ([0, 0, 0, 0, 0, 0, 0, 0], 2.0, '.'), ([0, 0, 0, 0, 0, 0, 0, 0], 2.0, '2.0'), ([54, 0, 0, 0, 0, 0, 0, 0], 2.0, 'F#'), ([54, 64, 69, 73, 0, 0, 0, 0], 2.0, 'm7'), ([54, 64, 69, 72, 0, 0, 0, 0], 2.0, 'alter b5'), ([54, 64, 69, 73, 67, 0, 0, 0], 2.0, 'add b9'), ([0, 0, 0, 0, 0, 0, 0, 0], 2.0, '.'), ([0, 0, 0, 0, 0, 0, 0, 0], 2.0, '2.0'), ([47, 0, 0, 0, 0, 0, 0, 0], 2.0, 'B'), ([47, 57, 61, 63, 66, 0, 0, 0], 2.0, 'dom7'), ([47, 57, 61, 63, 65, 0, 0, 0], 2.0, 'alter b5'), ([47, 57, 63, 66, 60, 0, 0, 0], 2.0, 'add b9'), ([0, 0, 0, 0, 0, 0, 0, 0], 2.0, '|'), ([0, 0, 0, 0, 0, 0, 0, 0], 4.0, '.'), ([0, 0, 0, 0, 0, 0, 0, 0], 4.0, '4.0'), ([52, 0, 0, 0, 0, 0, 0, 0], 4.0, 'E'), ([52, 61, 68, 71, 0, 0, 0, 0], 4.0, 'm6'), ([0, 0, 0, 0, 0, 0, 0, 0], 4.0, '|'), ([0, 0, 0, 0, 0, 0, 0, 0], 2.0, '.'), ([0, 0, 0, 0, 0, 0, 0, 0], 2.0, '2.0'), ([44, 0, 0, 0, 0, 0, 0, 0], 2.0, 'G#'), ([44, 54, 59, 63, 0, 0, 0, 0], 2.0, 'm7'), ([44, 54, 59, 62, 0, 0, 0, 0], 2.0, 'alter b5'), ([44, 54, 59, 63, 57, 0, 0, 0], 2.0, 'add b9'), ([0, 0, 0, 0, 0, 0, 0, 0], 2.0, '.'), ([0, 0, 0, 0, 0, 0, 0, 0], 2.0, '2.0'), ([49, 0, 0, 0, 0, 0, 0, 0], 2.0, 'C#'), ([49, 59, 63, 65, 68, 0, 0, 0], 2.0, 'dom7'), ([49, 59, 63, 65, 67, 0, 0, 0], 2.0, 'alter b5'), ([49, 59, 65, 68, 62, 0, 0, 0], 2.0, 'add b9'), ([0, 0, 0, 0, 0, 0, 0, 0], 2.0, '|'), ([0, 0, 0, 0, 0, 0, 0, 0], 4.0, '.'), ([0, 0, 0, 0, 0, 0, 0, 0], 4.0, '4.0'), ([54, 0, 0, 0, 0, 0, 0, 0], 4.0, 'F#'), ([54, 63, 70, 73, 0, 0, 0, 0], 4.0, 'm6'), ([0, 0, 0, 0, 0, 0, 0, 0], 4.0, '|'), ([0, 0, 0, 0, 0, 0, 0, 0], 4.0, '.'), ([0, 0, 0, 0, 0, 0, 0, 0], 4.0, '4.0'), ([54, 0, 0, 0, 0, 0, 0, 0], 4.0, 'F#'), ([54, 64, 69, 73, 0, 0, 0, 0], 4.0, 'm7'), ([54, 64, 69, 72, 0, 0, 0, 0], 4.0, 'alter b5'), ([0, 0, 0, 0, 0, 0, 0, 0], 4.0, '|'), ([0, 0, 0, 0, 0, 0, 0, 0], 4.0, '.'), ([0, 0, 0, 0, 0, 0, 0, 0], 4.0, '4.0'), ([47, 0, 0, 0, 0, 0, 0, 0], 4.0, 'B'), ([47, 57, 61, 63, 66, 0, 0, 0], 4.0, 'dom7'), ([47, 57, 63, 66, 60, 0, 0, 0], 4.0, 'add b9'), ([0, 0, 0, 0, 0, 0, 0, 0], 4.0, '|'), ([0, 0, 0, 0, 0, 0, 0, 0], 2.0, '.'), ([0, 0, 0, 0, 0, 0, 0, 0], 2.0, '2.0'), ([52, 0, 0, 0, 0, 0, 0, 0], 2.0, 'E'), ([52, 63, 66, 68, 71, 0, 0, 0], 2.0, 'maj7'), ([0, 0, 0, 0, 0, 0, 0, 0], 2.0, '.'), ([0, 0, 0, 0, 0, 0, 0, 0], 2.0, '2.0'), ([51, 0, 0, 0, 0, 0, 0, 0], 2.0, 'D#'), ([51, 62, 67, 70, 0, 0, 0, 0], 2.0, 'maj7'), ([0, 0, 0, 0, 0, 0, 0, 0], 2.0, '|'), ([0, 0, 0, 0, 0, 0, 0, 0], 2.0, '.'), ([0, 0, 0, 0, 0, 0, 0, 0], 2.0, '2.0'), ([50, 0, 0, 0, 0, 0, 0, 0], 2.0, 'D'), ([50, 61, 64, 66, 69, 0, 0, 0], 2.0, 'maj7'), ([0, 0, 0, 0, 0, 0, 0, 0], 2.0, '.'), ([0, 0, 0, 0, 0, 0, 0, 0], 2.0, '2.0'), ([49, 0, 0, 0, 0, 0, 0, 0], 2.0, 'C#'), ([49, 60, 65, 68, 0, 0, 0, 0], 2.0, 'maj7'), ([0, 0, 0, 0, 0, 0, 0, 0], 2.0, 'Form_A'), ([0, 0, 0, 0, 0, 0, 0, 0], 2.0, '|'), ([0, 0, 0, 0, 0, 0, 0, 0], 4.0, '.'), ([0, 0, 0, 0, 0, 0, 0, 0], 4.0, '4.0'), ([48, 0, 0, 0, 0, 0, 0, 0], 4.0, 'C'), ([48, 59, 64, 67, 0, 0, 0, 0], 4.0, 'maj7'), ([0, 0, 0, 0, 0, 0, 0, 0], 4.0, '|'), ([0, 0, 0, 0, 0, 0, 0, 0], 2.0, '.'), ([0, 0, 0, 0, 0, 0, 0, 0], 2.0, '2.0'), ([45, 0, 0, 0, 0, 0, 0, 0], 2.0, 'A'), ([45, 56, 59, 61, 64, 0, 0, 0], 2.0, 'maj7'), ([0, 0, 0, 0, 0, 0, 0, 0], 2.0, '.'), ([0, 0, 0, 0, 0, 0, 0, 0], 2.0, '2.0'), ([45, 0, 0, 0, 0, 0, 0, 0], 2.0, 'A'), ([45, 55, 61, 64, 0, 0, 0, 0], 2.0, 'dom7'), ([45, 55, 61, 65, 0, 0, 0, 0], 2.0, 'alter #5'), ([0, 0, 0, 0, 0, 0, 0, 0], 2.0, '|'), ([0, 0, 0, 0, 0, 0, 0, 0], 4.0, '.'), ([0, 0, 0, 0, 0, 0, 0, 0], 4.0, '4.0'), ([50, 0, 0, 0, 0, 0, 0, 0], 4.0, 'D'), ([50, 60, 66, 69, 0, 0, 0, 0], 4.0, 'dom7'), ([50, 60, 66, 69, 64, 0, 0, 0], 4.0, 'add 9'), ([0, 0, 0, 0, 0, 0, 0, 0], 4.0, '|'), ([0, 0, 0, 0, 0, 0, 0, 0], 4.0, '.'), ([0, 0, 0, 0, 0, 0, 0, 0], 4.0, '4.0'), ([50, 0, 0, 0, 0, 0, 0, 0], 4.0, 'D'), ([50, 60, 66, 69, 0, 0, 0, 0], 4.0, 'dom7'), ([50, 60, 66, 69, 64, 0, 0, 0], 4.0, 'add 9'), ([0, 0, 0, 0, 0, 0, 0, 0], 4.0, '|'), ([0, 0, 0, 0, 0, 0, 0, 0], 4.0, '.'), ([0, 0, 0, 0, 0, 0, 0, 0], 4.0, '4.0'), ([44, 0, 0, 0, 0, 0, 0, 0], 4.0, 'G#'), ([44, 55, 60, 63, 0, 0, 0, 0], 4.0, 'maj7'), ([0, 0, 0, 0, 0, 0, 0, 0], 4.0, '|'), ([0, 0, 0, 0, 0, 0, 0, 0], 4.0, '.'), ([0, 0, 0, 0, 0, 0, 0, 0], 4.0, '4.0'), ([43, 0, 0, 0, 0, 0, 0, 0], 4.0, 'G'), ([43, 53, 57, 59, 62, 0, 0, 0], 4.0, 'dom7'), ([43, 53, 57, 59, 62, 64, 0, 0], 4.0, 'add 13'), ([43, 53, 59, 62, 64, 56, 0, 0], 4.0, 'add b9'), ([0, 0, 0, 0, 0, 0, 0, 0], 4.0, '|'), ([0, 0, 0, 0, 0, 0, 0, 0], 4.0, '.'), ([0, 0, 0, 0, 0, 0, 0, 0], 4.0, '4.0'), ([48, 0, 0, 0, 0, 0, 0, 0], 4.0, 'C'), ([48, 58, 64, 67, 0, 0, 0, 0], 4.0, 'dom7'), ([48, 58, 64, 67, 66, 0, 0, 0], 4.0, 'add #11'), ([0, 0, 0, 0, 0, 0, 0, 0], 4.0, '|'), ([0, 0, 0, 0, 0, 0, 0, 0], 4.0, '.'), ([0, 0, 0, 0, 0, 0, 0, 0], 4.0, '4.0'), ([48, 0, 0, 0, 0, 0, 0, 0], 4.0, 'C'), ([48, 58, 64, 67, 0, 0, 0, 0], 4.0, 'dom7'), ([48, 58, 64, 67, 66, 0, 0, 0], 4.0, 'add #11'), ([0, 0, 0, 0, 0, 0, 0, 0], 4.0, 'Form_C'), ([0, 0, 0, 0, 0, 0, 0, 0], 4.0, '|'), ([0, 0, 0, 0, 0, 0, 0, 0], 4.0, '.'), ([0, 0, 0, 0, 0, 0, 0, 0], 4.0, '4.0'), ([53, 0, 0, 0, 0, 0, 0, 0], 4.0, 'F'), ([53, 64, 67, 69, 0, 0, 0, 0], 4.0, 'maj7'), ([0, 0, 0, 0, 0, 0, 0, 0], 4.0, '|'), ([0, 0, 0, 0, 0, 0, 0, 0], 4.0, '.'), ([0, 0, 0, 0, 0, 0, 0, 0], 4.0, '4.0'), ([47, 0, 0, 0, 0, 0, 0, 0], 4.0, 'B'), ([47, 57, 63, 66, 0, 0, 0, 0], 4.0, 'dom7'), ([47, 57, 63, 66, 62, 0, 0, 0], 4.0, 'add #9'), ([0, 0, 0, 0, 0, 0, 0, 0], 4.0, '|'), ([0, 0, 0, 0, 0, 0, 0, 0], 4.0, '.'), ([0, 0, 0, 0, 0, 0, 0, 0], 4.0, '4.0'), ([52, 0, 0, 0, 0, 0, 0, 0], 4.0, 'E'), ([52, 62, 68, 71, 0, 0, 0, 0], 4.0, 'dom7'), ([52, 62, 68, 71, 70, 0, 0, 0], 4.0, 'add #11'), ([0, 0, 0, 0, 0, 0, 0, 0], 4.0, '|'), ([0, 0, 0, 0, 0, 0, 0, 0], 4.0, '.'), ([0, 0, 0, 0, 0, 0, 0, 0], 4.0, '4.0'), ([45, 0, 0, 0, 0, 0, 0, 0], 4.0, 'A'), ([45, 55, 61, 64, 0, 0, 0, 0], 4.0, 'dom7'), ([0, 0, 0, 0, 0, 0, 0, 0], 4.0, '|'), ([0, 0, 0, 0, 0, 0, 0, 0], 4.0, '.'), ([0, 0, 0, 0, 0, 0, 0, 0], 4.0, '4.0'), ([50, 0, 0, 0, 0, 0, 0, 0], 4.0, 'D'), ([50, 60, 64, 66, 69, 0, 0, 0], 4.0, 'dom7'), ([50, 60, 64, 66, 69, 71, 0, 0], 4.0, 'add 13'), ([0, 0, 0, 0, 0, 0, 0, 0], 4.0, '|'), ([0, 0, 0, 0, 0, 0, 0, 0], 2.0, '.'), ([0, 0, 0, 0, 0, 0, 0, 0], 2.0, '2.0'), ([43, 0, 0, 0, 0, 0, 0, 0], 2.0, 'G'), ([43, 53, 57, 59, 62, 0, 0, 0], 2.0, 'dom7'), ([43, 53, 57, 59, 62, 64, 0, 0], 2.0, 'add 13'), ([43, 53, 56, 59, 62, 64, 0, 0], 2.0, 'alter b9'), ([43, 53, 57, 59, 63, 64, 0, 0], 2.0, 'alter #5'), ([0, 0, 0, 0, 0, 0, 0, 0], 2.0, '.'), ([0, 0, 0, 0, 0, 0, 0, 0], 2.0, '2.0'), ([43, 0, 0, 0, 0, 0, 0, 0], 2.0, 'G'), ([43, 53, 59, 62, 0, 0, 0, 0], 2.0, 'dom7'), ([43, 53, 59, 62, 57, 0, 0, 0], 2.0, 'add 9'), ([43, 53, 59, 62, 56, 0, 0, 0], 2.0, 'alter b9'), ([43, 53, 59, 63, 57, 0, 0, 0], 2.0, 'alter #5'), ([0, 0, 0, 0, 0, 0, 0, 0], 2.0, '|'), ([0, 0, 0, 0, 0, 0, 0, 0], 4.0, '.'), ([0, 0, 0, 0, 0, 0, 0, 0], 4.0, '4.0'), ([48, 0, 0, 0, 0, 0, 0, 0], 4.0, 'C'), ([48, 55, 57, 60, 64, 0, 0, 0], 4.0, 'maj6'), ([0, 0, 0, 0, 0, 0, 0, 0], 4.0, '|'), ([0, 0, 0, 0, 0, 0, 0, 0], 2.0, '.'), ([0, 0, 0, 0, 0, 0, 0, 0], 2.0, '2.0'), ([50, 0, 0, 0, 0, 0, 0, 0], 2.0, 'D'), ([50, 60, 64, 65, 0, 0, 0, 0], 2.0, 'm7'), ([0, 0, 0, 0, 0, 0, 0, 0], 2.0, '.'), ([0, 0, 0, 0, 0, 0, 0, 0], 2.0, '2.0'), ([43, 0, 0, 0, 0, 0, 0, 0], 2.0, 'G'), ([43, 53, 57, 59, 62, 0, 0, 0], 2.0, 'dom7'), ([0, 0, 0, 0, 0, 0, 0, 0], 2.0, 'Form_A'), ([0, 0, 0, 0, 0, 0, 0, 0], 2.0, '|'), ([0, 0, 0, 0, 0, 0, 0, 0], 4.0, '.'), ([0, 0, 0, 0, 0, 0, 0, 0], 4.0, '4.0'), ([48, 0, 0, 0, 0, 0, 0, 0], 4.0, 'C'), ([48, 59, 62, 64, 67, 0, 0, 0], 4.0, 'maj7'), ([0, 0, 0, 0, 0, 0, 0, 0], 4.0, '|'), ([0, 0, 0, 0, 0, 0, 0, 0], 2.0, '.'), ([0, 0, 0, 0, 0, 0, 0, 0], 2.0, '2.0'), ([45, 0, 0, 0, 0, 0, 0, 0], 2.0, 'A'), ([45, 56, 59, 61, 0, 0, 0, 0], 2.0, 'maj7'), ([0, 0, 0, 0, 0, 0, 0, 0], 2.0, '.'), ([0, 0, 0, 0, 0, 0, 0, 0], 2.0, '2.0'), ([45, 0, 0, 0, 0, 0, 0, 0], 2.0, 'A'), ([45, 55, 59, 61, 64, 0, 0, 0], 2.0, 'dom7'), ([45, 55, 59, 61, 65, 0, 0, 0], 2.0, 'alter #5'), ([0, 0, 0, 0, 0, 0, 0, 0], 2.0, '|'), ([0, 0, 0, 0, 0, 0, 0, 0], 4.0, '.'), ([0, 0, 0, 0, 0, 0, 0, 0], 4.0, '4.0'), ([50, 0, 0, 0, 0, 0, 0, 0], 4.0, 'D'), ([50, 60, 64, 66, 69, 0, 0, 0], 4.0, 'dom7'), ([50, 60, 64, 66, 69, 0, 0, 0], 4.0, 'add 9'), ([0, 0, 0, 0, 0, 0, 0, 0], 4.0, '|'), ([0, 0, 0, 0, 0, 0, 0, 0], 4.0, '.'), ([0, 0, 0, 0, 0, 0, 0, 0], 4.0, '4.0'), ([50, 0, 0, 0, 0, 0, 0, 0], 4.0, 'D'), ([50, 60, 64, 66, 69, 0, 0, 0], 4.0, 'dom7'), ([50, 60, 64, 66, 69, 0, 0, 0], 4.0, 'add 9'), ([0, 0, 0, 0, 0, 0, 0, 0], 4.0, '|'), ([0, 0, 0, 0, 0, 0, 0, 0], 4.0, '.'), ([0, 0, 0, 0, 0, 0, 0, 0], 4.0, '4.0'), ([44, 0, 0, 0, 0, 0, 0, 0], 4.0, 'G#'), ([44, 55, 58, 60, 63, 0, 0, 0], 4.0, 'maj7'), ([0, 0, 0, 0, 0, 0, 0, 0], 4.0, '|'), ([0, 0, 0, 0, 0, 0, 0, 0], 4.0, '.'), ([0, 0, 0, 0, 0, 0, 0, 0], 4.0, '4.0'), ([43, 0, 0, 0, 0, 0, 0, 0], 4.0, 'G'), ([43, 53, 57, 59, 0, 0, 0, 0], 4.0, 'dom7'), ([43, 53, 57, 59, 64, 0, 0, 0], 4.0, 'add 13'), ([43, 53, 59, 64, 56, 0, 0, 0], 4.0, 'add b9'), ([0, 0, 0, 0, 0, 0, 0, 0], 4.0, '|'), ([0, 0, 0, 0, 0, 0, 0, 0], 4.0, '.'), ([0, 0, 0, 0, 0, 0, 0, 0], 4.0, '4.0'), ([48, 0, 0, 0, 0, 0, 0, 0], 4.0, 'C'), ([48, 59, 62, 64, 67, 0, 0, 0], 4.0, 'maj7'), ([0, 0, 0, 0, 0, 0, 0, 0], 4.0, '|'), ([0, 0, 0, 0, 0, 0, 0, 0], 4.0, '.'), ([0, 0, 0, 0, 0, 0, 0, 0], 4.0, '4.0'), ([48, 0, 0, 0, 0, 0, 0, 0], 4.0, 'C'), ([48, 59, 62, 64, 0, 0, 0, 0], 4.0, 'maj7'), ([0, 0, 0, 0, 0, 0, 0, 0], 4.0, 'Form_B'), ([0, 0, 0, 0, 0, 0, 0, 0], 4.0, '|'), ([0, 0, 0, 0, 0, 0, 0, 0], 2.0, '.'), ([0, 0, 0, 0, 0, 0, 0, 0], 2.0, '2.0'), ([54, 0, 0, 0, 0, 0, 0, 0], 2.0, 'F#'), ([54, 64, 68, 69, 0, 0, 0, 0], 2.0, 'm7'), ([54, 64, 68, 69, 60, 0, 0, 0], 2.0, 'alter b5'), ([54, 64, 69, 67, 0, 0, 0, 0], 2.0, 'add b9'), ([0, 0, 0, 0, 0, 0, 0, 0], 2.0, '.'), ([0, 0, 0, 0, 0, 0, 0, 0], 2.0, '2.0'), ([47, 0, 0, 0, 0, 0, 0, 0], 2.0, 'B'), ([47, 57, 61, 63, 0, 0, 0, 0], 2.0, 'dom7'), ([47, 57, 61, 63, 53, 0, 0, 0], 2.0, 'alter b5'), ([47, 57, 63, 60, 0, 0, 0, 0], 2.0, 'add b9'), ([0, 0, 0, 0, 0, 0, 0, 0], 2.0, '|'), ([0, 0, 0, 0, 0, 0, 0, 0], 4.0, '.'), ([0, 0, 0, 0, 0, 0, 0, 0], 4.0, '4.0'), ([52, 0, 0, 0, 0, 0, 0, 0], 4.0, 'E'), ([52, 59, 61, 68, 0, 0, 0, 0], 4.0, 'm6'), ([0, 0, 0, 0, 0, 0, 0, 0], 4.0, '|'), ([0, 0, 0, 0, 0, 0, 0, 0], 2.0, '.'), ([0, 0, 0, 0, 0, 0, 0, 0], 2.0, '2.0'), ([44, 0, 0, 0, 0, 0, 0, 0], 2.0, 'G#'), ([44, 54, 58, 59, 0, 0, 0, 0], 2.0, 'm7'), ([44, 54, 58, 59, 50, 0, 0, 0], 2.0, 'alter b5'), ([44, 54, 59, 57, 0, 0, 0, 0], 2.0, 'add b9'), ([0, 0, 0, 0, 0, 0, 0, 0], 2.0, '.'), ([0, 0, 0, 0, 0, 0, 0, 0], 2.0, '2.0'), ([49, 0, 0, 0, 0, 0, 0, 0], 2.0, 'C#'), ([49, 59, 63, 65, 0, 0, 0, 0], 2.0, 'dom7'), ([49, 59, 63, 65, 55, 0, 0, 0], 2.0, 'alter b5'), ([49, 59, 65, 62, 0, 0, 0, 0], 2.0, 'add b9'), ([0, 0, 0, 0, 0, 0, 0, 0], 2.0, '|'), ([0, 0, 0, 0, 0, 0, 0, 0], 4.0, '.'), ([0, 0, 0, 0, 0, 0, 0, 0], 4.0, '4.0'), ([54, 0, 0, 0, 0, 0, 0, 0], 4.0, 'F#'), ([54, 61, 63, 70, 0, 0, 0, 0], 4.0, 'm6'), ([0, 0, 0, 0, 0, 0, 0, 0], 4.0, '|'), ([0, 0, 0, 0, 0, 0, 0, 0], 4.0, '.'), ([0, 0, 0, 0, 0, 0, 0, 0], 4.0, '4.0'), ([54, 0, 0, 0, 0, 0, 0, 0], 4.0, 'F#'), ([54, 64, 68, 69, 0, 0, 0, 0], 4.0, 'm7'), ([54, 64, 68, 69, 60, 0, 0, 0], 4.0, 'alter b5'), ([0, 0, 0, 0, 0, 0, 0, 0], 4.0, '|'), ([0, 0, 0, 0, 0, 0, 0, 0], 4.0, '.'), ([0, 0, 0, 0, 0, 0, 0, 0], 4.0, '4.0'), ([47, 0, 0, 0, 0, 0, 0, 0], 4.0, 'B'), ([47, 57, 61, 63, 0, 0, 0, 0], 4.0, 'dom7'), ([47, 57, 63, 60, 0, 0, 0, 0], 4.0, 'add b9'), ([0, 0, 0, 0, 0, 0, 0, 0], 4.0, '|'), ([0, 0, 0, 0, 0, 0, 0, 0], 2.0, '.'), ([0, 0, 0, 0, 0, 0, 0, 0], 2.0, '2.0'), ([52, 0, 0, 0, 0, 0, 0, 0], 2.0, 'E'), ([52, 63, 66, 68, 0, 0, 0, 0], 2.0, 'maj7'), ([0, 0, 0, 0, 0, 0, 0, 0], 2.0, '.'), ([0, 0, 0, 0, 0, 0, 0, 0], 2.0, '2.0'), ([51, 0, 0, 0, 0, 0, 0, 0], 2.0, 'D#'), ([51, 62, 65, 67, 70, 0, 0, 0], 2.0, 'maj7'), ([0, 0, 0, 0, 0, 0, 0, 0], 2.0, '|'), ([0, 0, 0, 0, 0, 0, 0, 0], 2.0, '.'), ([0, 0, 0, 0, 0, 0, 0, 0], 2.0, '2.0'), ([50, 0, 0, 0, 0, 0, 0, 0], 2.0, 'D'), ([50, 61, 64, 66, 0, 0, 0, 0], 2.0, 'maj7'), ([0, 0, 0, 0, 0, 0, 0, 0], 2.0, '.'), ([0, 0, 0, 0, 0, 0, 0, 0], 2.0, '2.0'), ([49, 0, 0, 0, 0, 0, 0, 0], 2.0, 'C#'), ([49, 60, 63, 65, 68, 0, 0, 0], 2.0, 'maj7'), ([0, 0, 0, 0, 0, 0, 0, 0], 2.0, 'Form_A'), ([0, 0, 0, 0, 0, 0, 0, 0], 2.0, '|'), ([0, 0, 0, 0, 0, 0, 0, 0], 4.0, '.'), ([0, 0, 0, 0, 0, 0, 0, 0], 4.0, '4.0'), ([48, 0, 0, 0, 0, 0, 0, 0], 4.0, 'C'), ([48, 59, 62, 64, 67, 0, 0, 0], 4.0, 'maj7'), ([0, 0, 0, 0, 0, 0, 0, 0], 4.0, '|'), ([0, 0, 0, 0, 0, 0, 0, 0], 2.0, '.'), ([0, 0, 0, 0, 0, 0, 0, 0], 2.0, '2.0'), ([45, 0, 0, 0, 0, 0, 0, 0], 2.0, 'A'), ([45, 56, 59, 61, 0, 0, 0, 0], 2.0, 'maj7'), ([0, 0, 0, 0, 0, 0, 0, 0], 2.0, '.'), ([0, 0, 0, 0, 0, 0, 0, 0], 2.0, '2.0'), ([45, 0, 0, 0, 0, 0, 0, 0], 2.0, 'A'), ([45, 55, 59, 61, 64, 0, 0, 0], 2.0, 'dom7'), ([45, 55, 59, 61, 65, 0, 0, 0], 2.0, 'alter #5'), ([0, 0, 0, 0, 0, 0, 0, 0], 2.0, '|'), ([0, 0, 0, 0, 0, 0, 0, 0], 4.0, '.'), ([0, 0, 0, 0, 0, 0, 0, 0], 4.0, '4.0'), ([50, 0, 0, 0, 0, 0, 0, 0], 4.0, 'D'), ([50, 60, 64, 66, 69, 0, 0, 0], 4.0, 'dom7'), ([50, 60, 64, 66, 69, 0, 0, 0], 4.0, 'add 9'), ([0, 0, 0, 0, 0, 0, 0, 0], 4.0, '|'), ([0, 0, 0, 0, 0, 0, 0, 0], 4.0, '.'), ([0, 0, 0, 0, 0, 0, 0, 0], 4.0, '4.0'), ([50, 0, 0, 0, 0, 0, 0, 0], 4.0, 'D'), ([50, 60, 64, 66, 69, 0, 0, 0], 4.0, 'dom7'), ([50, 60, 64, 66, 69, 0, 0, 0], 4.0, 'add 9'), ([0, 0, 0, 0, 0, 0, 0, 0], 4.0, '|'), ([0, 0, 0, 0, 0, 0, 0, 0], 4.0, '.'), ([0, 0, 0, 0, 0, 0, 0, 0], 4.0, '4.0'), ([44, 0, 0, 0, 0, 0, 0, 0], 4.0, 'G#'), ([44, 55, 58, 60, 63, 0, 0, 0], 4.0, 'maj7'), ([0, 0, 0, 0, 0, 0, 0, 0], 4.0, '|'), ([0, 0, 0, 0, 0, 0, 0, 0], 4.0, '.'), ([0, 0, 0, 0, 0, 0, 0, 0], 4.0, '4.0'), ([43, 0, 0, 0, 0, 0, 0, 0], 4.0, 'G'), ([43, 53, 57, 59, 0, 0, 0, 0], 4.0, 'dom7'), ([43, 53, 57, 59, 64, 0, 0, 0], 4.0, 'add 13'), ([43, 53, 59, 64, 56, 0, 0, 0], 4.0, 'add b9'), ([0, 0, 0, 0, 0, 0, 0, 0], 4.0, '|'), ([0, 0, 0, 0, 0, 0, 0, 0], 4.0, '.'), ([0, 0, 0, 0, 0, 0, 0, 0], 4.0, '4.0'), ([48, 0, 0, 0, 0, 0, 0, 0], 4.0, 'C'), ([48, 58, 62, 64, 67, 0, 0, 0], 4.0, 'dom7'), ([48, 58, 62, 64, 67, 66, 0, 0], 4.0, 'add #11'), ([0, 0, 0, 0, 0, 0, 0, 0], 4.0, '|'), ([0, 0, 0, 0, 0, 0, 0, 0], 4.0, '.'), ([0, 0, 0, 0, 0, 0, 0, 0], 4.0, '4.0'), ([48, 0, 0, 0, 0, 0, 0, 0], 4.0, 'C'), ([48, 58, 62, 64, 67, 0, 0, 0], 4.0, 'dom7'), ([48, 58, 62, 64, 67, 66, 0, 0], 4.0, 'add #11'), ([0, 0, 0, 0, 0, 0, 0, 0], 4.0, 'Form_C'), ([0, 0, 0, 0, 0, 0, 0, 0], 4.0, '|'), ([0, 0, 0, 0, 0, 0, 0, 0], 4.0, '.'), ([0, 0, 0, 0, 0, 0, 0, 0], 4.0, '4.0'), ([53, 0, 0, 0, 0, 0, 0, 0], 4.0, 'F'), ([53, 64, 69, 72, 0, 0, 0, 0], 4.0, 'maj7'), ([0, 0, 0, 0, 0, 0, 0, 0], 4.0, '|'), ([0, 0, 0, 0, 0, 0, 0, 0], 4.0, '.'), ([0, 0, 0, 0, 0, 0, 0, 0], 4.0, '4.0'), ([47, 0, 0, 0, 0, 0, 0, 0], 4.0, 'B'), ([47, 57, 61, 63, 66, 0, 0, 0], 4.0, 'dom7'), ([47, 57, 63, 66, 62, 0, 0, 0], 4.0, 'add #9'), ([0, 0, 0, 0, 0, 0, 0, 0], 4.0, '|'), ([0, 0, 0, 0, 0, 0, 0, 0], 4.0, '.'), ([0, 0, 0, 0, 0, 0, 0, 0], 4.0, '4.0'), ([52, 0, 0, 0, 0, 0, 0, 0], 4.0, 'E'), ([52, 62, 66, 68, 71, 0, 0, 0], 4.0, 'dom7'), ([52, 62, 66, 68, 71, 70, 0, 0], 4.0, 'add #11'), ([0, 0, 0, 0, 0, 0, 0, 0], 4.0, '|'), ([0, 0, 0, 0, 0, 0, 0, 0], 4.0, '.'), ([0, 0, 0, 0, 0, 0, 0, 0], 4.0, '4.0'), ([45, 0, 0, 0, 0, 0, 0, 0], 4.0, 'A'), ([45, 55, 59, 61, 64, 0, 0, 0], 4.0, 'dom7'), ([0, 0, 0, 0, 0, 0, 0, 0], 4.0, '|'), ([0, 0, 0, 0, 0, 0, 0, 0], 4.0, '.'), ([0, 0, 0, 0, 0, 0, 0, 0], 4.0, '4.0'), ([50, 0, 0, 0, 0, 0, 0, 0], 4.0, 'D'), ([50, 60, 64, 66, 0, 0, 0, 0], 4.0, 'dom7'), ([50, 60, 64, 66, 71, 0, 0, 0], 4.0, 'add 13'), ([0, 0, 0, 0, 0, 0, 0, 0], 4.0, '|'), ([0, 0, 0, 0, 0, 0, 0, 0], 2.0, '.'), ([0, 0, 0, 0, 0, 0, 0, 0], 2.0, '2.0'), ([43, 0, 0, 0, 0, 0, 0, 0], 2.0, 'G'), ([43, 53, 57, 59, 0, 0, 0, 0], 2.0, 'dom7'), ([43, 53, 57, 59, 64, 0, 0, 0], 2.0, 'add 13'), ([43, 53, 56, 59, 64, 0, 0, 0], 2.0, 'alter b9'), ([43, 53, 57, 59, 64, 51, 0, 0], 2.0, 'alter #5'), ([0, 0, 0, 0, 0, 0, 0, 0], 2.0, '.'), ([0, 0, 0, 0, 0, 0, 0, 0], 2.0, '2.0'), ([43, 0, 0, 0, 0, 0, 0, 0], 2.0, 'G'), ([43, 53, 57, 59, 62, 0, 0, 0], 2.0, 'dom7'), ([43, 53, 57, 59, 62, 0, 0, 0], 2.0, 'add 9'), ([43, 53, 56, 59, 62, 0, 0, 0], 2.0, 'alter b9'), ([43, 53, 57, 59, 63, 0, 0, 0], 2.0, 'alter #5'), ([0, 0, 0, 0, 0, 0, 0, 0], 2.0, '|'), ([0, 0, 0, 0, 0, 0, 0, 0], 4.0, '.'), ([0, 0, 0, 0, 0, 0, 0, 0], 4.0, '4.0'), ([48, 0, 0, 0, 0, 0, 0, 0], 4.0, 'C'), ([48, 55, 62, 64, 69, 0, 0, 0], 4.0, 'maj6'), ([0, 0, 0, 0, 0, 0, 0, 0], 4.0, '|'), ([0, 0, 0, 0, 0, 0, 0, 0], 2.0, '.'), ([0, 0, 0, 0, 0, 0, 0, 0], 2.0, '2.0'), ([50, 0, 0, 0, 0, 0, 0, 0], 2.0, 'D'), ([50, 57, 60, 65, 0, 0, 0, 0], 2.0, 'm7'), ([0, 0, 0, 0, 0, 0, 0, 0], 2.0, '.'), ([0, 0, 0, 0, 0, 0, 0, 0], 2.0, '2.0'), ([43, 0, 0, 0, 0, 0, 0, 0], 2.0, 'G'), ([43, 53, 57, 59, 0, 0, 0, 0], 2.0, 'dom7'), ([0, 0, 0, 0, 0, 0, 0, 0], 2.0, 'Form_A'), ([0, 0, 0, 0, 0, 0, 0, 0], 2.0, '|'), ([0, 0, 0, 0, 0, 0, 0, 0], 4.0, '.'), ([0, 0, 0, 0, 0, 0, 0, 0], 4.0, '4.0'), ([48, 0, 0, 0, 0, 0, 0, 0], 4.0, 'C'), ([48, 59, 62, 64, 0, 0, 0, 0], 4.0, 'maj7'), ([0, 0, 0, 0, 0, 0, 0, 0], 4.0, '|'), ([0, 0, 0, 0, 0, 0, 0, 0], 2.0, '.'), ([0, 0, 0, 0, 0, 0, 0, 0], 2.0, '2.0'), ([45, 0, 0, 0, 0, 0, 0, 0], 2.0, 'A'), ([45, 56, 61, 64, 0, 0, 0, 0], 2.0, 'maj7'), ([0, 0, 0, 0, 0, 0, 0, 0], 2.0, '.'), ([0, 0, 0, 0, 0, 0, 0, 0], 2.0, '2.0'), ([45, 0, 0, 0, 0, 0, 0, 0], 2.0, 'A'), ([45, 55, 59, 61, 0, 0, 0, 0], 2.0, 'dom7'), ([45, 55, 59, 61, 53, 0, 0, 0], 2.0, 'alter #5'), ([0, 0, 0, 0, 0, 0, 0, 0], 2.0, '|'), ([0, 0, 0, 0, 0, 0, 0, 0], 4.0, '.'), ([0, 0, 0, 0, 0, 0, 0, 0], 4.0, '4.0'), ([50, 0, 0, 0, 0, 0, 0, 0], 4.0, 'D'), ([50, 60, 64, 66, 0, 0, 0, 0], 4.0, 'dom7'), ([50, 60, 64, 66, 0, 0, 0, 0], 4.0, 'add 9'), ([0, 0, 0, 0, 0, 0, 0, 0], 4.0, '|'), ([0, 0, 0, 0, 0, 0, 0, 0], 4.0, '.'), ([0, 0, 0, 0, 0, 0, 0, 0], 4.0, '4.0'), ([50, 0, 0, 0, 0, 0, 0, 0], 4.0, 'D'), ([50, 60, 64, 66, 0, 0, 0, 0], 4.0, 'dom7'), ([50, 60, 64, 66, 0, 0, 0, 0], 4.0, 'add 9'), ([0, 0, 0, 0, 0, 0, 0, 0], 4.0, '|'), ([0, 0, 0, 0, 0, 0, 0, 0], 4.0, '.'), ([0, 0, 0, 0, 0, 0, 0, 0], 4.0, '4.0'), ([44, 0, 0, 0, 0, 0, 0, 0], 4.0, 'G#'), ([44, 55, 58, 60, 0, 0, 0, 0], 4.0, 'maj7'), ([0, 0, 0, 0, 0, 0, 0, 0], 4.0, '|'), ([0, 0, 0, 0, 0, 0, 0, 0], 4.0, '.'), ([0, 0, 0, 0, 0, 0, 0, 0], 4.0, '4.0'), ([43, 0, 0, 0, 0, 0, 0, 0], 4.0, 'G'), ([43, 53, 59, 62, 0, 0, 0, 0], 4.0, 'dom7'), ([43, 53, 59, 62, 64, 0, 0, 0], 4.0, 'add 13'), ([43, 53, 59, 62, 64, 56, 0, 0], 4.0, 'add b9'), ([0, 0, 0, 0, 0, 0, 0, 0], 4.0, '|'), ([0, 0, 0, 0, 0, 0, 0, 0], 4.0, '.'), ([0, 0, 0, 0, 0, 0, 0, 0], 4.0, '4.0'), ([48, 0, 0, 0, 0, 0, 0, 0], 4.0, 'C'), ([48, 59, 62, 64, 0, 0, 0, 0], 4.0, 'maj7'), ([0, 0, 0, 0, 0, 0, 0, 0], 4.0, '|'), ([0, 0, 0, 0, 0, 0, 0, 0], 4.0, '.'), ([0, 0, 0, 0, 0, 0, 0, 0], 4.0, '4.0'), ([48, 0, 0, 0, 0, 0, 0, 0], 4.0, 'C'), ([48, 59, 64, 67, 0, 0, 0, 0], 4.0, 'maj7'), ([0, 0, 0, 0, 0, 0, 0, 0], 4.0, 'Form_B'), ([0, 0, 0, 0, 0, 0, 0, 0], 4.0, '|'), ([0, 0, 0, 0, 0, 0, 0, 0], 2.0, '.'), ([0, 0, 0, 0, 0, 0, 0, 0], 2.0, '2.0'), ([54, 0, 0, 0, 0, 0, 0, 0], 2.0, 'F#'), ([54, 61, 64, 69, 0, 0, 0, 0], 2.0, 'm7'), ([54, 60, 64, 69, 0, 0, 0, 0], 2.0, 'alter b5'), ([54, 61, 64, 69, 67, 0, 0, 0], 2.0, 'add b9'), ([0, 0, 0, 0, 0, 0, 0, 0], 2.0, '.'), ([0, 0, 0, 0, 0, 0, 0, 0], 2.0, '2.0'), ([47, 0, 0, 0, 0, 0, 0, 0], 2.0, 'B'), ([47, 57, 63, 66, 0, 0, 0, 0], 2.0, 'dom7'), ([47, 57, 63, 65, 0, 0, 0, 0], 2.0, 'alter b5'), ([47, 57, 63, 66, 60, 0, 0, 0], 2.0, 'add b9'), ([0, 0, 0, 0, 0, 0, 0, 0], 2.0, '|'), ([0, 0, 0, 0, 0, 0, 0, 0], 4.0, '.'), ([0, 0, 0, 0, 0, 0, 0, 0], 4.0, '4.0'), ([52, 0, 0, 0, 0, 0, 0, 0], 4.0, 'E'), ([52, 61, 64, 68, 0, 0, 0, 0], 4.0, 'm6'), ([0, 0, 0, 0, 0, 0, 0, 0], 4.0, '|'), ([0, 0, 0, 0, 0, 0, 0, 0], 2.0, '.'), ([0, 0, 0, 0, 0, 0, 0, 0], 2.0, '2.0'), ([44, 0, 0, 0, 0, 0, 0, 0], 2.0, 'G#'), ([44, 51, 54, 59, 0, 0, 0, 0], 2.0, 'm7'), ([44, 50, 54, 59, 0, 0, 0, 0], 2.0, 'alter b5'), ([44, 51, 54, 59, 57, 0, 0, 0], 2.0, 'add b9'), ([0, 0, 0, 0, 0, 0, 0, 0], 2.0, '.'), ([0, 0, 0, 0, 0, 0, 0, 0], 2.0, '2.0'), ([49, 0, 0, 0, 0, 0, 0, 0], 2.0, 'C#'), ([49, 59, 65, 68, 0, 0, 0, 0], 2.0, 'dom7'), ([49, 59, 65, 67, 0, 0, 0, 0], 2.0, 'alter b5'), ([49, 59, 65, 68, 62, 0, 0, 0], 2.0, 'add b9'), ([0, 0, 0, 0, 0, 0, 0, 0], 2.0, '|'), ([0, 0, 0, 0, 0, 0, 0, 0], 4.0, '.'), ([0, 0, 0, 0, 0, 0, 0, 0], 4.0, '4.0'), ([54, 0, 0, 0, 0, 0, 0, 0], 4.0, 'F#'), ([54, 63, 66, 70, 0, 0, 0, 0], 4.0, 'm6'), ([0, 0, 0, 0, 0, 0, 0, 0], 4.0, '|'), ([0, 0, 0, 0, 0, 0, 0, 0], 4.0, '.'), ([0, 0, 0, 0, 0, 0, 0, 0], 4.0, '4.0'), ([54, 0, 0, 0, 0, 0, 0, 0], 4.0, 'F#'), ([54, 61, 64, 69, 0, 0, 0, 0], 4.0, 'm7'), ([54, 60, 64, 69, 0, 0, 0, 0], 4.0, 'alter b5'), ([0, 0, 0, 0, 0, 0, 0, 0], 4.0, '|'), ([0, 0, 0, 0, 0, 0, 0, 0], 4.0, '.'), ([0, 0, 0, 0, 0, 0, 0, 0], 4.0, '4.0'), ([47, 0, 0, 0, 0, 0, 0, 0], 4.0, 'B'), ([47, 57, 63, 66, 0, 0, 0, 0], 4.0, 'dom7'), ([47, 57, 63, 66, 60, 0, 0, 0], 4.0, 'add b9'), ([0, 0, 0, 0, 0, 0, 0, 0], 4.0, '|'), ([0, 0, 0, 0, 0, 0, 0, 0], 2.0, '.'), ([0, 0, 0, 0, 0, 0, 0, 0], 2.0, '2.0'), ([52, 0, 0, 0, 0, 0, 0, 0], 2.0, 'E'), ([52, 63, 68, 71, 0, 0, 0, 0], 2.0, 'maj7'), ([0, 0, 0, 0, 0, 0, 0, 0], 2.0, '.'), ([0, 0, 0, 0, 0, 0, 0, 0], 2.0, '2.0'), ([51, 0, 0, 0, 0, 0, 0, 0], 2.0, 'D#'), ([51, 62, 65, 67, 0, 0, 0, 0], 2.0, 'maj7'), ([0, 0, 0, 0, 0, 0, 0, 0], 2.0, '|'), ([0, 0, 0, 0, 0, 0, 0, 0], 2.0, '.'), ([0, 0, 0, 0, 0, 0, 0, 0], 2.0, '2.0'), ([50, 0, 0, 0, 0, 0, 0, 0], 2.0, 'D'), ([50, 61, 66, 69, 0, 0, 0, 0], 2.0, 'maj7'), ([0, 0, 0, 0, 0, 0, 0, 0], 2.0, '.'), ([0, 0, 0, 0, 0, 0, 0, 0], 2.0, '2.0'), ([49, 0, 0, 0, 0, 0, 0, 0], 2.0, 'C#'), ([49, 60, 63, 65, 0, 0, 0, 0], 2.0, 'maj7'), ([0, 0, 0, 0, 0, 0, 0, 0], 2.0, 'Form_A'), ([0, 0, 0, 0, 0, 0, 0, 0], 2.0, '|'), ([0, 0, 0, 0, 0, 0, 0, 0], 4.0, '.'), ([0, 0, 0, 0, 0, 0, 0, 0], 4.0, '4.0'), ([48, 0, 0, 0, 0, 0, 0, 0], 4.0, 'C'), ([48, 59, 62, 64, 0, 0, 0, 0], 4.0, 'maj7'), ([0, 0, 0, 0, 0, 0, 0, 0], 4.0, '|'), ([0, 0, 0, 0, 0, 0, 0, 0], 2.0, '.'), ([0, 0, 0, 0, 0, 0, 0, 0], 2.0, '2.0'), ([45, 0, 0, 0, 0, 0, 0, 0], 2.0, 'A'), ([45, 56, 61, 64, 0, 0, 0, 0], 2.0, 'maj7'), ([0, 0, 0, 0, 0, 0, 0, 0], 2.0, '.'), ([0, 0, 0, 0, 0, 0, 0, 0], 2.0, '2.0'), ([45, 0, 0, 0, 0, 0, 0, 0], 2.0, 'A'), ([45, 55, 59, 61, 0, 0, 0, 0], 2.0, 'dom7'), ([45, 55, 59, 61, 53, 0, 0, 0], 2.0, 'alter #5'), ([0, 0, 0, 0, 0, 0, 0, 0], 2.0, '|'), ([0, 0, 0, 0, 0, 0, 0, 0], 4.0, '.'), ([0, 0, 0, 0, 0, 0, 0, 0], 4.0, '4.0'), ([50, 0, 0, 0, 0, 0, 0, 0], 4.0, 'D'), ([50, 60, 64, 66, 0, 0, 0, 0], 4.0, 'dom7'), ([50, 60, 64, 66, 0, 0, 0, 0], 4.0, 'add 9'), ([0, 0, 0, 0, 0, 0, 0, 0], 4.0, '|'), ([0, 0, 0, 0, 0, 0, 0, 0], 4.0, '.'), ([0, 0, 0, 0, 0, 0, 0, 0], 4.0, '4.0'), ([50, 0, 0, 0, 0, 0, 0, 0], 4.0, 'D'), ([50, 60, 64, 66, 0, 0, 0, 0], 4.0, 'dom7'), ([50, 60, 64, 66, 0, 0, 0, 0], 4.0, 'add 9'), ([0, 0, 0, 0, 0, 0, 0, 0], 4.0, '|'), ([0, 0, 0, 0, 0, 0, 0, 0], 4.0, '.'), ([0, 0, 0, 0, 0, 0, 0, 0], 4.0, '4.0'), ([44, 0, 0, 0, 0, 0, 0, 0], 4.0, 'G#'), ([44, 55, 58, 60, 0, 0, 0, 0], 4.0, 'maj7'), ([0, 0, 0, 0, 0, 0, 0, 0], 4.0, '|'), ([0, 0, 0, 0, 0, 0, 0, 0], 4.0, '.'), ([0, 0, 0, 0, 0, 0, 0, 0], 4.0, '4.0'), ([43, 0, 0, 0, 0, 0, 0, 0], 4.0, 'G'), ([43, 53, 59, 62, 0, 0, 0, 0], 4.0, 'dom7'), ([43, 53, 59, 62, 64, 0, 0, 0], 4.0, 'add 13'), ([43, 53, 59, 62, 64, 56, 0, 0], 4.0, 'add b9'), ([0, 0, 0, 0, 0, 0, 0, 0], 4.0, '|'), ([0, 0, 0, 0, 0, 0, 0, 0], 4.0, '.'), ([0, 0, 0, 0, 0, 0, 0, 0], 4.0, '4.0'), ([48, 0, 0, 0, 0, 0, 0, 0], 4.0, 'C'), ([48, 58, 62, 64, 0, 0, 0, 0], 4.0, 'dom7'), ([48, 58, 62, 64, 66, 0, 0, 0], 4.0, 'add #11'), ([0, 0, 0, 0, 0, 0, 0, 0], 4.0, '|'), ([0, 0, 0, 0, 0, 0, 0, 0], 4.0, '.'), ([0, 0, 0, 0, 0, 0, 0, 0], 4.0, '4.0'), ([48, 0, 0, 0, 0, 0, 0, 0], 4.0, 'C'), ([48, 58, 62, 64, 0, 0, 0, 0], 4.0, 'dom7'), ([48, 58, 62, 64, 66, 0, 0, 0], 4.0, 'add #11'), ([0, 0, 0, 0, 0, 0, 0, 0], 4.0, 'Form_C'), ([0, 0, 0, 0, 0, 0, 0, 0], 4.0, '|'), ([0, 0, 0, 0, 0, 0, 0, 0], 4.0, '.'), ([0, 0, 0, 0, 0, 0, 0, 0], 4.0, '4.0'), ([53, 0, 0, 0, 0, 0, 0, 0], 4.0, 'F'), ([53, 64, 67, 69, 72, 0, 0, 0], 4.0, 'maj7'), ([0, 0, 0, 0, 0, 0, 0, 0], 4.0, '|'), ([0, 0, 0, 0, 0, 0, 0, 0], 4.0, '.'), ([0, 0, 0, 0, 0, 0, 0, 0], 4.0, '4.0'), ([47, 0, 0, 0, 0, 0, 0, 0], 4.0, 'B'), ([47, 57, 61, 63, 0, 0, 0, 0], 4.0, 'dom7'), ([47, 57, 63, 62, 0, 0, 0, 0], 4.0, 'add #9'), ([0, 0, 0, 0, 0, 0, 0, 0], 4.0, '|'), ([0, 0, 0, 0, 0, 0, 0, 0], 4.0, '.'), ([0, 0, 0, 0, 0, 0, 0, 0], 4.0, '4.0'), ([52, 0, 0, 0, 0, 0, 0, 0], 4.0, 'E'), ([52, 62, 66, 68, 0, 0, 0, 0], 4.0, 'dom7'), ([52, 62, 66, 68, 70, 0, 0, 0], 4.0, 'add #11'), ([0, 0, 0, 0, 0, 0, 0, 0], 4.0, '|'), ([0, 0, 0, 0, 0, 0, 0, 0], 4.0, '.'), ([0, 0, 0, 0, 0, 0, 0, 0], 4.0, '4.0'), ([45, 0, 0, 0, 0, 0, 0, 0], 4.0, 'A'), ([45, 55, 59, 61, 0, 0, 0, 0], 4.0, 'dom7'), ([0, 0, 0, 0, 0, 0, 0, 0], 4.0, '|'), ([0, 0, 0, 0, 0, 0, 0, 0], 4.0, '.'), ([0, 0, 0, 0, 0, 0, 0, 0], 4.0, '4.0'), ([50, 0, 0, 0, 0, 0, 0, 0], 4.0, 'D'), ([50, 60, 66, 69, 0, 0, 0, 0], 4.0, 'dom7'), ([50, 60, 66, 69, 71, 0, 0, 0], 4.0, 'add 13'), ([0, 0, 0, 0, 0, 0, 0, 0], 4.0, '|'), ([0, 0, 0, 0, 0, 0, 0, 0], 2.0, '.'), ([0, 0, 0, 0, 0, 0, 0, 0], 2.0, '2.0'), ([43, 0, 0, 0, 0, 0, 0, 0], 2.0, 'G'), ([43, 53, 59, 62, 0, 0, 0, 0], 2.0, 'dom7'), ([43, 53, 59, 62, 64, 0, 0, 0], 2.0, 'add 13'), ([43, 53, 59, 62, 64, 44, 0, 0], 2.0, 'alter b9'), ([43, 53, 59, 63, 64, 0, 0, 0], 2.0, 'alter #5'), ([0, 0, 0, 0, 0, 0, 0, 0], 2.0, '.'), ([0, 0, 0, 0, 0, 0, 0, 0], 2.0, '2.0'), ([43, 0, 0, 0, 0, 0, 0, 0], 2.0, 'G'), ([43, 53, 57, 59, 0, 0, 0, 0], 2.0, 'dom7'), ([43, 53, 57, 59, 0, 0, 0, 0], 2.0, 'add 9'), ([43, 53, 56, 59, 0, 0, 0, 0], 2.0, 'alter b9'), ([43, 53, 57, 59, 51, 0, 0, 0], 2.0, 'alter #5'), ([0, 0, 0, 0, 0, 0, 0, 0], 2.0, '|'), ([0, 0, 0, 0, 0, 0, 0, 0], 4.0, '.'), ([0, 0, 0, 0, 0, 0, 0, 0], 4.0, '4.0'), ([48, 0, 0, 0, 0, 0, 0, 0], 4.0, 'C'), ([48, 55, 57, 64, 0, 0, 0, 0], 4.0, 'maj6'), ([0, 0, 0, 0, 0, 0, 0, 0], 4.0, '|'), ([0, 0, 0, 0, 0, 0, 0, 0], 2.0, '.'), ([0, 0, 0, 0, 0, 0, 0, 0], 2.0, '2.0'), ([50, 0, 0, 0, 0, 0, 0, 0], 2.0, 'D'), ([50, 60, 65, 69, 0, 0, 0, 0], 2.0, 'm7'), ([0, 0, 0, 0, 0, 0, 0, 0], 2.0, '.'), ([0, 0, 0, 0, 0, 0, 0, 0], 2.0, '2.0'), ([43, 0, 0, 0, 0, 0, 0, 0], 2.0, 'G'), ([43, 53, 59, 62, 0, 0, 0, 0], 2.0, 'dom7')]\n"
     ]
    }
   ],
   "source": [
    "id = 22872\n",
    "print(meta_augmented[id])\n",
    "print(dataset_augmented[id])\n",
    "print(midi_voicing_dataset[id])\n",
    "\n",
    "for i, chord in enumerate(dataset_augmented[id]):\n",
    "    midi = midi_voicing_dataset[id][i][0]\n",
    "    #print(i, chord, midi)"
   ]
  },
  {
   "cell_type": "code",
   "execution_count": 108,
   "metadata": {},
   "outputs": [
    {
     "name": "stdout",
     "output_type": "stream",
     "text": [
      "song: 113103_7_10_2024_Booker's Waltz.mid\n",
      "file: 113103_7_10_2024_Booker's Waltz.txt\n",
      "MIDI file created! \n",
      "---------------------------------\n"
     ]
    },
    {
     "data": {
      "text/plain": [
       "\"113103_7_10_2024_Booker's Waltz.mid\""
      ]
     },
     "execution_count": 108,
     "metadata": {},
     "output_type": "execute_result"
    }
   ],
   "source": [
    "id = 6845\n",
    "name = meta_augmented[id]['song_name']\n",
    "the_song = midi_voicing_dataset[id]\n",
    "\n",
    "\n",
    "#mv, status = voicing.convert_chords_to_voicing(new_song)\n",
    "voicing.export_to_midi(the_song, name)"
   ]
  },
  {
   "cell_type": "code",
   "execution_count": null,
   "metadata": {},
   "outputs": [],
   "source": [
    "#Save the files\n",
    "import json\n",
    "\n",
    "with open('../data/formatted/meta_dataset.txt', 'w') as jsonFile:\n",
    "    json.dump(meta_augmented, jsonFile)\n",
    "    \n",
    "with open('../data/formatted/dataset_augmented.txt', 'w') as jsonFile:\n",
    "    json.dump(dataset_augmented, jsonFile)\n",
    "    \n",
    "with open('../data/formatted/midi_voicing_dataset.txt', 'w') as jsonFile:\n",
    "    json.dump(midi_voicing_dataset, jsonFile)"
   ]
  }
 ],
 "metadata": {
  "kernelspec": {
   "display_name": "Python 3",
   "language": "python",
   "name": "python3"
  },
  "language_info": {
   "codemirror_mode": {
    "name": "ipython",
    "version": 3
   },
   "file_extension": ".py",
   "mimetype": "text/x-python",
   "name": "python",
   "nbconvert_exporter": "python",
   "pygments_lexer": "ipython3",
   "version": "3.10.12"
  }
 },
 "nbformat": 4,
 "nbformat_minor": 2
}
